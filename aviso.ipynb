{
 "cells": [
  {
   "cell_type": "code",
   "execution_count": 2,
   "metadata": {},
   "outputs": [
    {
     "ename": "ModuleNotFoundError",
     "evalue": "No module named 'kerchunk'",
     "output_type": "error",
     "traceback": [
      "\u001b[0;31m---------------------------------------------------------------------------\u001b[0m",
      "\u001b[0;31mModuleNotFoundError\u001b[0m                       Traceback (most recent call last)",
      "Cell \u001b[0;32mIn[2], line 8\u001b[0m\n\u001b[1;32m      6\u001b[0m \u001b[39mimport\u001b[39;00m \u001b[39mfsspec\u001b[39;00m\n\u001b[1;32m      7\u001b[0m \u001b[39mimport\u001b[39;00m \u001b[39mxarray\u001b[39;00m \u001b[39mas\u001b[39;00m \u001b[39mxr\u001b[39;00m\n\u001b[0;32m----> 8\u001b[0m \u001b[39mfrom\u001b[39;00m \u001b[39mkerchunk\u001b[39;00m\u001b[39m.\u001b[39;00m\u001b[39mcombine\u001b[39;00m \u001b[39mimport\u001b[39;00m MultiZarrToZarr\n",
      "\u001b[0;31mModuleNotFoundError\u001b[0m: No module named 'kerchunk'"
     ]
    }
   ],
   "source": [
    "import json\n",
    "import glob\n",
    "import os\n",
    "import tqdm\n",
    "import fsspec\n",
    "import xarray as xr\n",
    "import kerchunk.hdf\n",
    "from kerchunk.combine import MultiZarrToZarr"
   ]
  },
  {
   "cell_type": "code",
   "execution_count": null,
   "metadata": {},
   "outputs": [],
   "source": [
    "root_directory = \"/work/uc0928/DATA/ocean/aviso_ssh/DATA/\"\n",
    "path_to_output = \"/work/ab0995/a270088/\"\n",
    "files = \"dt_global_twosat_phy_l4*.nc\""
   ]
  },
  {
   "cell_type": "code",
   "execution_count": null,
   "metadata": {},
   "outputs": [],
   "source": [
    "# Initialize an empty list to store the file paths\n",
    "file_paths = []\n",
    "\n",
    "# Iterate over all year and month directories\n",
    "for year in range(1993, 2023):  # Replace YYYY with the start year and n with the number of years\n",
    "    for month in range(1, 13):\n",
    "        # Create a pattern to match all daily files in the current year and month directory\n",
    "        pattern = os.path.join(root_directory, f\"{year}/{month:02d}/*\")\n",
    "\n",
    "        # Use glob to find all files matching the pattern\n",
    "        files = glob.glob(pattern)\n",
    "        files.sort()\n",
    "\n",
    "        # Add the absolute paths to the list\n",
    "        file_paths.extend([os.path.abspath(file) for file in files])"
   ]
  },
  {
   "cell_type": "code",
   "execution_count": null,
   "metadata": {},
   "outputs": [],
   "source": [
    "urls = file_paths\n",
    "singles = []\n",
    "for u in tqdm.tqdm(urls):\n",
    "    with fsspec.open(u) as inf:\n",
    "        h5chunks = kerchunk.hdf.SingleHdf5ToZarr(inf, u, inline_threshold=100)\n",
    "        singles.append(h5chunks.translate())"
   ]
  },
  {
   "cell_type": "code",
   "execution_count": null,
   "metadata": {},
   "outputs": [],
   "source": [
    "mzz = MultiZarrToZarr(\n",
    "     singles,\n",
    "    concat_dims=[\"time\"]\n",
    ")"
   ]
  },
  {
   "cell_type": "code",
   "execution_count": null,
   "metadata": {},
   "outputs": [],
   "source": [
    "with open(f\"{path_to_output}/AVISO.json\", \"w\") as outfile:\n",
    "    json.dump(out, outfile)"
   ]
  }
 ],
 "metadata": {
  "kernelspec": {
   "display_name": "aqua_common",
   "language": "python",
   "name": "python3"
  },
  "language_info": {
   "codemirror_mode": {
    "name": "ipython",
    "version": 3
   },
   "file_extension": ".py",
   "mimetype": "text/x-python",
   "name": "python",
   "nbconvert_exporter": "python",
   "pygments_lexer": "ipython3",
   "version": "3.10.12"
  },
  "orig_nbformat": 4
 },
 "nbformat": 4,
 "nbformat_minor": 2
}
