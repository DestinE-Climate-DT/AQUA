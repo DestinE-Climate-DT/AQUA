{
 "cells": [
  {
   "cell_type": "code",
   "execution_count": 1,
   "metadata": {},
   "outputs": [],
   "source": [
    "import gribscan_json_generator as gjg"
   ]
  },
  {
   "cell_type": "code",
   "execution_count": 2,
   "metadata": {},
   "outputs": [
    {
     "name": "stdout",
     "output_type": "stream",
     "text": [
      "Gribber class:\n",
      "  model: model name (default: IFS)\n",
      "  exp: experiment name (default: tco1279)\n",
      "  source: source name (default: ICMGG_atm2d)\n",
      "  nprocs: number of processors (default: 4)\n",
      "  verbose: print help message (default: True)\n",
      "  dir: dictionary with directories (default: see below)\n",
      "  datadir: data directory (default: /scratch/b/b382289/tco1279-orca025/nemo_deep/ICMGGc2)\n",
      "  tmpdir: temporary directory (default: /scratch/b/b382289/gribscan)\n",
      "  jsondir: JSON directory (default: /work/bb1153/b382289/gribscan-json)\n",
      "  catalogdir: catalog directory (default: /work/bb1153/b382289/AQUA/config/levante/catalog)\n",
      "  griblist: dictionary with GRIB files (default: see gribber.yml)\n",
      "  tgt_json: target JSON file (default: see gribber.yml)\n",
      "  catalogfile: catalog file (default: see gribber.yml)\n",
      "  jsonfile: JSON file (default: see gribber.yml)\n",
      "Creating /scratch/b/b382289/gribscan/tco1279...\n",
      "Creating /work/bb1153/b382289/gribscan-json/tco1279...\n",
      "ICMGG\n",
      "atm2d\n",
      "ICMGG????+*\n",
      "Creating symlinks...\n",
      "Searching in...\n",
      "/scratch/b/b382289/tco1279-orca025/nemo_deep/ICMGGc2/ICMGG????+*\n",
      "File /scratch/b/b382289/tco1279-orca025/nemo_deep/ICMGGc2/ICMGGhr2n+000064 already exists in /scratch/b/b382289/gribscan/tco1279\n",
      "File /scratch/b/b382289/tco1279-orca025/nemo_deep/ICMGGc2/ICMGGhr2n+000040 already exists in /scratch/b/b382289/gribscan/tco1279\n",
      "File /scratch/b/b382289/tco1279-orca025/nemo_deep/ICMGGc2/ICMGGhr2n+000096 already exists in /scratch/b/b382289/gribscan/tco1279\n",
      "File /scratch/b/b382289/tco1279-orca025/nemo_deep/ICMGGc2/ICMGGhr2n+000024 already exists in /scratch/b/b382289/gribscan/tco1279\n",
      "File /scratch/b/b382289/tco1279-orca025/nemo_deep/ICMGGc2/ICMGGhr2n+000048 already exists in /scratch/b/b382289/gribscan/tco1279\n",
      "File /scratch/b/b382289/tco1279-orca025/nemo_deep/ICMGGc2/ICMGGhr2n+000056 already exists in /scratch/b/b382289/gribscan/tco1279\n",
      "File /scratch/b/b382289/tco1279-orca025/nemo_deep/ICMGGc2/ICMGGhr2n+000032 already exists in /scratch/b/b382289/gribscan/tco1279\n",
      "File /scratch/b/b382289/tco1279-orca025/nemo_deep/ICMGGc2/ICMGGhr2n+000088 already exists in /scratch/b/b382289/gribscan/tco1279\n",
      "File /scratch/b/b382289/tco1279-orca025/nemo_deep/ICMGGc2/ICMGGhr2n+000016 already exists in /scratch/b/b382289/gribscan/tco1279\n",
      "File /scratch/b/b382289/tco1279-orca025/nemo_deep/ICMGGc2/ICMGGhr2n+000008 already exists in /scratch/b/b382289/gribscan/tco1279\n",
      "File /scratch/b/b382289/tco1279-orca025/nemo_deep/ICMGGc2/ICMGGhr2n+000080 already exists in /scratch/b/b382289/gribscan/tco1279\n",
      "File /scratch/b/b382289/tco1279-orca025/nemo_deep/ICMGGc2/ICMGGhr2n+000000 already exists in /scratch/b/b382289/gribscan/tco1279\n",
      "File /scratch/b/b382289/tco1279-orca025/nemo_deep/ICMGGc2/ICMGGhr2n+000072 already exists in /scratch/b/b382289/gribscan/tco1279\n",
      "Creating GRIB indices...\n",
      "CompletedProcess(args=['gribscan-index', '-n', '4', '/scratch/b/b382289/gribscan/tco1279/ICMGGhr2n+000056', '/scratch/b/b382289/gribscan/tco1279/ICMGGhr2n+000024', '/scratch/b/b382289/gribscan/tco1279/ICMGGhr2n+000024.index', '/scratch/b/b382289/gribscan/tco1279/ICMGGhr2n+000072.index', '/scratch/b/b382289/gribscan/tco1279/ICMGGhr2n+000016', '/scratch/b/b382289/gribscan/tco1279/ICMGGhr2n+000080', '/scratch/b/b382289/gribscan/tco1279/ICMGGhr2n+000096', '/scratch/b/b382289/gribscan/tco1279/ICMGGhr2n+000088', '/scratch/b/b382289/gribscan/tco1279/ICMGGhr2n+000008', '/scratch/b/b382289/gribscan/tco1279/ICMGGhr2n+000008.index', '/scratch/b/b382289/gribscan/tco1279/ICMGGhr2n+000040', '/scratch/b/b382289/gribscan/tco1279/ICMGGhr2n+000056.index', '/scratch/b/b382289/gribscan/tco1279/ICMGGhr2n+000048.index', '/scratch/b/b382289/gribscan/tco1279/ICMGGhr2n+000000.index', '/scratch/b/b382289/gribscan/tco1279/ICMGGhr2n+000016.index', '/scratch/b/b382289/gribscan/tco1279/ICMGGhr2n+000096.index', '/scratch/b/b382289/gribscan/tco1279/ICMGGhr2n+000040.index', '/scratch/b/b382289/gribscan/tco1279/ICMGGhr2n+000000', '/scratch/b/b382289/gribscan/tco1279/ICMGGhr2n+000080.index', '/scratch/b/b382289/gribscan/tco1279/ICMGGhr2n+000064.index', '/scratch/b/b382289/gribscan/tco1279/ICMGGhr2n+000064', '/scratch/b/b382289/gribscan/tco1279/ICMGGhr2n+000032', '/scratch/b/b382289/gribscan/tco1279/ICMGGhr2n+000072', '/scratch/b/b382289/gribscan/tco1279/ICMGGhr2n+000088.index', '/scratch/b/b382289/gribscan/tco1279/ICMGGhr2n+000032.index', '/scratch/b/b382289/gribscan/tco1279/ICMGGhr2n+000048'], returncode=0)\n"
     ]
    }
   ],
   "source": [
    "test1 = gjg.Gribber(verbose=True)"
   ]
  },
  {
   "cell_type": "code",
   "execution_count": 3,
   "metadata": {},
   "outputs": [
    {
     "name": "stdout",
     "output_type": "stream",
     "text": [
      "ICMGG\n",
      "atm2d\n"
     ]
    }
   ],
   "source": [
    "string = 'ICMGG_atm2d'\n",
    "parts = string.split('_')\n",
    "\n",
    "part1 = parts[0]   # ICMGG\n",
    "part2 = parts[1]   # atm2d\n",
    "\n",
    "print(part1)\n",
    "print(part2)"
   ]
  },
  {
   "cell_type": "code",
   "execution_count": null,
   "metadata": {},
   "outputs": [],
   "source": []
  }
 ],
 "metadata": {
  "kernelspec": {
   "display_name": "aqua",
   "language": "python",
   "name": "python3"
  },
  "language_info": {
   "codemirror_mode": {
    "name": "ipython",
    "version": 3
   },
   "file_extension": ".py",
   "mimetype": "text/x-python",
   "name": "python",
   "nbconvert_exporter": "python",
   "pygments_lexer": "ipython3",
   "version": "3.10.9"
  },
  "orig_nbformat": 4
 },
 "nbformat": 4,
 "nbformat_minor": 2
}
