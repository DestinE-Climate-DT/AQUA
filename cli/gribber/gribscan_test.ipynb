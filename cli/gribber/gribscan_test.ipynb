{
 "cells": [
  {
   "cell_type": "code",
   "execution_count": 2,
   "metadata": {},
   "outputs": [],
   "source": [
    "import gribscan_json_generator as gjg"
   ]
  },
  {
   "cell_type": "code",
   "execution_count": 3,
   "metadata": {},
   "outputs": [
    {
     "name": "stdout",
     "output_type": "stream",
     "text": [
      "Creating /scratch/b/b382289/gribscan/tco1279...\n",
      "Creating /work/bb1153/b382289/gribscan-json/tco1279...\n"
     ]
    }
   ],
   "source": [
    "test1 = gjg.Gribber(expid='tco1279',nprocs=4,\n",
    "                    tmpdir='/scratch/b/b382289/gribscan',\n",
    "                    jsondir='/work/bb1153/b382289/gribscan-json')"
   ]
  }
 ],
 "metadata": {
  "kernelspec": {
   "display_name": "aqua",
   "language": "python",
   "name": "python3"
  },
  "language_info": {
   "codemirror_mode": {
    "name": "ipython",
    "version": 3
   },
   "file_extension": ".py",
   "mimetype": "text/x-python",
   "name": "python",
   "nbconvert_exporter": "python",
   "pygments_lexer": "ipython3",
   "version": "3.10.9"
  },
  "orig_nbformat": 4
 },
 "nbformat": 4,
 "nbformat_minor": 2
}
