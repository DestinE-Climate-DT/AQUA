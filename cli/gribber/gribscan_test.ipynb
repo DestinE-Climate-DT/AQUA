{
 "cells": [
  {
   "cell_type": "markdown",
   "metadata": {},
   "source": [
    "# Gribber class"
   ]
  },
  {
   "cell_type": "code",
   "execution_count": 1,
   "metadata": {},
   "outputs": [],
   "source": [
    "from aqua.gribber import Gribber\n",
    "from aqua.util import load_yaml"
   ]
  },
  {
   "attachments": {},
   "cell_type": "markdown",
   "metadata": {},
   "source": [
    "The `Gribber` class from the `aqua` framework checks the availability of grib files in a specified directory `datadir` for a specific experiment and creates `.index` files and a `.json` file.\n",
    "It also automatically updates the catalog `yaml` file.\n",
    "\n",
    "It takes as input:\n",
    "- `model`: model name\n",
    "- `exp`: experiment name\n",
    "- `source`: source name\n",
    "- `nprocs`: number of processors (default: `1`)\n",
    "- `dir`: dictionary with directories (defaults working on levante):\n",
    "    - `datadir`: data directory (default: `/scratch/b/b382289/tco1279-orca025/nemo_deep/ICMGGc2`)\n",
    "    - `tmpdir`: temporary directory (default: `/scratch/b/b382289/gribscan`)\n",
    "    - `jsondir`: JSON directory (default: `/work/bb1153/b382289/gribscan-json`)\n",
    "    - `catalogdir`: catalog directory (default: `/work/bb1153/b382289/AQUA/config/levante/catalog`)\n",
    "- `verbose`: print help message (default: `False`)\n",
    "- `replace`: replace existing files (default: `False`)"
   ]
  },
  {
   "cell_type": "code",
   "execution_count": 2,
   "metadata": {},
   "outputs": [
    {
     "name": "stdout",
     "output_type": "stream",
     "text": [
      "Directory datadir is None. Using default directory:\n",
      "/scratch/b/b382289/tco1279-orca025/nemo_deep/ICMGGc2\n",
      "Directory tmpdir is None. Using default directory:\n",
      "/scratch/b/b382289/gribscan\n",
      "Directory jsondir is None. Using default directory:\n",
      "/work/bb1153/b382289/gribscan-json\n",
      "Directory catalogdir is None. Using default directory:\n",
      "/work/bb1153/b382289/AQUA/config/levante/catalog\n",
      "Data directory: /scratch/b/b382289/tco1279-orca025/nemo_deep/ICMGGc2\n",
      "JSON directory: /work/bb1153/b382289/gribscan-json/tco1279-orca025\n",
      "Catalog directory: /work/bb1153/b382289/AQUA/config/levante/catalog\n",
      "Gribfile wildcard: ICMGG????+*\n",
      "Catalog file: /work/bb1153/b382289/AQUA/config/levante/catalog/IFS/tco1279-orca025.yaml\n",
      "JSON file: /work/bb1153/b382289/gribscan-json/tco1279-orca025/atm2d.json\n",
      "Checking if indices already exist...\n",
      "Indices already exist.\n",
      "Checking if JSON file already exists...\n",
      "JSON file already exists.\n",
      "Checking if catalog file already exists...\n",
      "Catalog file /work/bb1153/b382289/AQUA/config/levante/catalog/IFS/tco1279-orca025.yaml already exists.\n"
     ]
    }
   ],
   "source": [
    "mygrib = Gribber(model='IFS',exp='tco1279-orca025',source='ICMGG_atm2d',verbose=True)"
   ]
  },
  {
   "attachments": {},
   "cell_type": "markdown",
   "metadata": {},
   "source": [
    "Initializing the `class` does not immediately scan the data directory, but only creates the `Gribber` object.\n",
    "The method `create_entry` scans the data directory and creates the `.index` files and the `.json` file, then update the catalog `yaml` file."
   ]
  },
  {
   "cell_type": "code",
   "execution_count": 3,
   "metadata": {},
   "outputs": [
    {
     "name": "stdout",
     "output_type": "stream",
     "text": [
      "Folder /scratch/b/b382289/gribscan/tco1279-orca025 already exists\n",
      "Folder /work/bb1153/b382289/gribscan-json/tco1279-orca025 already exists\n",
      "Creating symlinks...\n",
      "Searching in...\n",
      "/scratch/b/b382289/tco1279-orca025/nemo_deep/ICMGGc2/ICMGG????+*\n",
      "File /scratch/b/b382289/tco1279-orca025/nemo_deep/ICMGGc2/ICMGGhr2n+000064 already exists in /scratch/b/b382289/gribscan/tco1279-orca025\n",
      "File /scratch/b/b382289/tco1279-orca025/nemo_deep/ICMGGc2/ICMGGhr2n+000040 already exists in /scratch/b/b382289/gribscan/tco1279-orca025\n",
      "File /scratch/b/b382289/tco1279-orca025/nemo_deep/ICMGGc2/ICMGGhr2n+000096 already exists in /scratch/b/b382289/gribscan/tco1279-orca025\n",
      "File /scratch/b/b382289/tco1279-orca025/nemo_deep/ICMGGc2/ICMGGhr2n+000024 already exists in /scratch/b/b382289/gribscan/tco1279-orca025\n",
      "File /scratch/b/b382289/tco1279-orca025/nemo_deep/ICMGGc2/ICMGGhr2n+000048 already exists in /scratch/b/b382289/gribscan/tco1279-orca025\n",
      "File /scratch/b/b382289/tco1279-orca025/nemo_deep/ICMGGc2/ICMGGhr2n+000056 already exists in /scratch/b/b382289/gribscan/tco1279-orca025\n",
      "File /scratch/b/b382289/tco1279-orca025/nemo_deep/ICMGGc2/ICMGGhr2n+000032 already exists in /scratch/b/b382289/gribscan/tco1279-orca025\n",
      "File /scratch/b/b382289/tco1279-orca025/nemo_deep/ICMGGc2/ICMGGhr2n+000088 already exists in /scratch/b/b382289/gribscan/tco1279-orca025\n",
      "File /scratch/b/b382289/tco1279-orca025/nemo_deep/ICMGGc2/ICMGGhr2n+000016 already exists in /scratch/b/b382289/gribscan/tco1279-orca025\n",
      "File /scratch/b/b382289/tco1279-orca025/nemo_deep/ICMGGc2/ICMGGhr2n+000008 already exists in /scratch/b/b382289/gribscan/tco1279-orca025\n",
      "File /scratch/b/b382289/tco1279-orca025/nemo_deep/ICMGGc2/ICMGGhr2n+000080 already exists in /scratch/b/b382289/gribscan/tco1279-orca025\n",
      "File /scratch/b/b382289/tco1279-orca025/nemo_deep/ICMGGc2/ICMGGhr2n+000000 already exists in /scratch/b/b382289/gribscan/tco1279-orca025\n",
      "File /scratch/b/b382289/tco1279-orca025/nemo_deep/ICMGGc2/ICMGGhr2n+000072 already exists in /scratch/b/b382289/gribscan/tco1279-orca025\n",
      "Block to be added to catalog file:\n",
      "{'driver': 'zarr', 'args': {'consolidated': False, 'urlpath': 'reference::/work/bb1153/b382289/gribscan-json/tco1279-orca025/atm2d.json'}}\n",
      "Source ICMGG_atm2d already exists in /work/bb1153/b382289/AQUA/config/levante/catalog/IFS/tco1279-orca025.yaml. Skipping...\n"
     ]
    }
   ],
   "source": [
    "mygrib.create_entry()"
   ]
  },
  {
   "attachments": {},
   "cell_type": "markdown",
   "metadata": {},
   "source": [
    "Since for the example we used a subset of the original grib files, we need to specify the `replace` option to `False`, in order to not overwrite the already existing entry in the catalogue.\n",
    "However, since the folder in which `.index` and `.json` files are stored is different from the one in which the original grib files are stored, the first time that the `Gribber` class is called, they have been created."
   ]
  },
  {
   "cell_type": "markdown",
   "metadata": {},
   "source": [
    "The directories can be also specified in a `yaml` file, load them and then pass them to the class."
   ]
  },
  {
   "cell_type": "code",
   "execution_count": 5,
   "metadata": {},
   "outputs": [
    {
     "name": "stdout",
     "output_type": "stream",
     "text": [
      "Data directory: /scratch/b/b382289/tco1279-orca025/nemo_deep/ICMGGc2\n",
      "JSON directory: /work/bb1153/b382289/gribscan-json/tco1279-orca025\n",
      "Catalog directory: /work/bb1153/b382289/AQUA/config/levante/catalog\n",
      "Gribfile wildcard: ICMGG????+*\n",
      "Catalog file: /work/bb1153/b382289/AQUA/config/levante/catalog/IFS/tco1279-orca025.yaml\n",
      "JSON file: /work/bb1153/b382289/gribscan-json/tco1279-orca025/atm2d.json\n",
      "Checking if indices already exist...\n",
      "Indices already exist.\n",
      "Checking if JSON file already exists...\n",
      "JSON file already exists.\n",
      "Checking if catalog file already exists...\n",
      "Catalog file /work/bb1153/b382289/AQUA/config/levante/catalog/IFS/tco1279-orca025.yaml already exists.\n"
     ]
    }
   ],
   "source": [
    "dir = load_yaml('gribber_setup_example.yaml')\n",
    "\n",
    "mygrib_yaml = Gribber(model='IFS',exp='tco1279-orca025',source='ICMGG_atm2d',dir=dir,verbose=True)"
   ]
  },
  {
   "attachments": {},
   "cell_type": "markdown",
   "metadata": {},
   "source": [
    "An internal method `_check_steps` is used to check if indices and json file have to be created or the step has already been processed.\n",
    "Additionally the method `_check_json` checks if the catalog file has to be created."
   ]
  },
  {
   "cell_type": "code",
   "execution_count": 4,
   "metadata": {},
   "outputs": [
    {
     "name": "stdout",
     "output_type": "stream",
     "text": [
      "Checking if indices already exist...\n",
      "Indices already exist.\n",
      "Checking if JSON file already exists...\n",
      "JSON file already exists.\n",
      "Checking if catalog file already exists...\n",
      "Catalog file /work/bb1153/b382289/AQUA/config/levante/catalog/IFS/tco1279-orca025.yaml already exists.\n"
     ]
    }
   ],
   "source": [
    "mygrib._check_steps()"
   ]
  }
 ],
 "metadata": {
  "kernelspec": {
   "display_name": "aqua",
   "language": "python",
   "name": "python3"
  },
  "language_info": {
   "codemirror_mode": {
    "name": "ipython",
    "version": 3
   },
   "file_extension": ".py",
   "mimetype": "text/x-python",
   "name": "python",
   "nbconvert_exporter": "python",
   "pygments_lexer": "ipython3",
   "version": "3.10.9"
  },
  "orig_nbformat": 4
 },
 "nbformat": 4,
 "nbformat_minor": 2
}
