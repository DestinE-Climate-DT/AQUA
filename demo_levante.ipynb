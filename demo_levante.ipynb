{
 "cells": [
  {
   "cell_type": "code",
   "execution_count": 1,
   "metadata": {},
   "outputs": [],
   "source": [
    "\n",
    "from dask_jobqueue import SLURMCluster # pip \n",
    "from dask.distributed import Client, progress \n",
    "import dask\n",
    "\n",
    "\n",
    "import matplotlib as mpl\n",
    "# Define Agg as Backend for matplotlib when no X server is running\n",
    "mpl.use('Agg')\n",
    "import socket\n",
    "import os"
   ]
  },
  {
   "cell_type": "code",
   "execution_count": 2,
   "metadata": {},
   "outputs": [],
   "source": [
    "\n",
    "def squeue_user(username = \"$USER\"):\n",
    "    _squeue_user = os.system(\"squeue --user=\"+str(username))\n",
    "    return _squeue_user \n",
    "\n",
    "with os.popen(\"pwd \") as f:\n",
    "    _pwd = f.readline()"
   ]
  },
  {
   "cell_type": "code",
   "execution_count": 3,
   "metadata": {},
   "outputs": [
    {
     "name": "stderr",
     "output_type": "stream",
     "text": [
      "/home/b/b382267/mambaforge/envs/aqua/lib/python3.10/site-packages/dask_jobqueue/slurm.py:49: FutureWarning: project has been renamed to account as this kwarg was used wit -A option. You are still using it (please also check config files). If you did not set account yet, project will be respected for now, but it will be removed in a future release. If you already set account, project is ignored and you can remove it.\n",
      "  warnings.warn(warn, FutureWarning)\n"
     ]
    },
    {
     "name": "stdout",
     "output_type": "stream",
     "text": [
      "#!/usr/bin/env bash\n",
      "\n",
      "#SBATCH -J dask-worker\n",
      "#SBATCH -p compute\n",
      "#SBATCH -A bb1153\n",
      "#SBATCH -n 1\n",
      "#SBATCH --cpus-per-task=256\n",
      "#SBATCH --mem=466G\n",
      "#SBATCH -t 04:30:50\n",
      "\n",
      "/home/b/b382267/mambaforge/envs/aqua/bin/python -m distributed.cli.dask_worker tcp://136.172.124.3:44499 --nthreads 16 --nworkers 16 --memory-limit 29.10GiB --name dummy-name --nanny --death-timeout 60\n",
      "\n"
     ]
    },
    {
     "name": "stderr",
     "output_type": "stream",
     "text": [
      "/home/b/b382267/mambaforge/envs/aqua/lib/python3.10/site-packages/distributed/node.py:182: UserWarning: Port 8787 is already in use.\n",
      "Perhaps you already have a cluster running?\n",
      "Hosting the HTTP server on port 33757 instead\n",
      "  warnings.warn(\n",
      "/home/b/b382267/mambaforge/envs/aqua/lib/python3.10/site-packages/dask_jobqueue/slurm.py:49: FutureWarning: project has been renamed to account as this kwarg was used wit -A option. You are still using it (please also check config files). If you did not set account yet, project will be respected for now, but it will be removed in a future release. If you already set account, project is ignored and you can remove it.\n",
      "  warnings.warn(warn, FutureWarning)\n"
     ]
    }
   ],
   "source": [
    "cluster = SLURMCluster(\n",
    "    name='dask-cluster', \n",
    "    cores=256,    \n",
    "    memory=\"500 GB\", \n",
    "    project=\"bb1153\",\n",
    "    queue= \"compute\", \n",
    "    #interface='ib0',\n",
    "    walltime='04:30:50',\n",
    ")\n",
    "client = Client(cluster)\n",
    "print(cluster.job_script())"
   ]
  },
  {
   "cell_type": "code",
   "execution_count": null,
   "metadata": {},
   "outputs": [],
   "source": [
    "cluster.scale(jobs=1)\n",
    "\n"
   ]
  },
  {
   "cell_type": "code",
   "execution_count": 4,
   "metadata": {},
   "outputs": [
    {
     "name": "stdout",
     "output_type": "stream",
     "text": [
      "             JOBID PARTITION     NAME     USER ST       TIME  NODES NODELIST(REASON)\n",
      "           4160211   compute dask-wor  b382267  R      33:06      1 l40065\n"
     ]
    },
    {
     "data": {
      "text/plain": [
       "0"
      ]
     },
     "execution_count": 4,
     "metadata": {},
     "output_type": "execute_result"
    }
   ],
   "source": [
    "squeue_user()"
   ]
  },
  {
   "cell_type": "code",
   "execution_count": 5,
   "metadata": {},
   "outputs": [],
   "source": [
    "\n",
    "\n",
    "import sys\n",
    "if 'tr_pr_mod' not in sys.modules:\n",
    "    import diagnostics.tropical_rainfall.tr_pr_mod\n",
    "else:                      \n",
    "    import importlib      \n",
    "    importlib.reload(diagnostics.tropical_rainfall.tr_pr_mod) # reload module on subsequent runs\n",
    "    \n",
    "from  diagnostics.tropical_rainfall.tr_pr_mod import TR_PR_Diagnostic\n",
    "\n",
    "\n"
   ]
  },
  {
   "cell_type": "code",
   "execution_count": 6,
   "metadata": {},
   "outputs": [],
   "source": [
    "diag = TR_PR_Diagnostic()\n",
    "\n",
    "diag.num_of_bins = 15\n",
    "diag.first_edge = 0\n",
    "diag.width_of_bin = 2000*10**(-6)/diag.num_of_bins\n",
    "\n",
    "last_edge = diag.first_edge  + diag.num_of_bins*diag.width_of_bin"
   ]
  },
  {
   "cell_type": "code",
   "execution_count": 7,
   "metadata": {},
   "outputs": [],
   "source": [
    "from aqua import Reader\n",
    "from aqua.reader import catalogue"
   ]
  },
  {
   "cell_type": "code",
   "execution_count": 8,
   "metadata": {},
   "outputs": [
    {
     "name": "stdout",
     "output_type": "stream",
     "text": [
      "IFS\ttco3999-ng5\t2.8km experiment, coupled with FESOM\n",
      "\t- ICMGG_atm2d\t\n",
      "\t- ICMU_atm2d\t\n",
      "\t- ICMU_atm3d\t\n",
      "\t- interpolated_global\t\n",
      "\t- interpolated_np\t\n",
      "\t- interpolated_sp\t\n",
      "\t- interpolated_sp_ci\t\n",
      "IFS\ttco2559-ng5\t4km experiment, coupled with FESOM\n",
      "\t- ICMGG_atm2d\t\n",
      "\t- ICMU_atm2d\t\n",
      "\t- ICMU_atm3d\t\n",
      "\t- interpolated_global\t\n",
      "\t- interpolated_np\t\n",
      "\t- interpolated_sp\t\n",
      "IFS\ttco1279-orca025\t9km baseline, coupled to NEMO, deep conv ON\n",
      "\t- ICMGG_atm2d\t\n",
      "\t- ICMU_atm2d\t\n",
      "\t- ICMU_atm3d\t\n",
      "\n",
      "FESOM\ttco3999-ng5\t2.5km experiment, coupuled with IFS\n",
      "\t- elem_grid\t\n",
      "\t- node_grid\t\n",
      "\t- np\tnearest-neighbor interpolation to lat-lon grid\n",
      "\t- interpolated_global2d\t\n",
      "\t- interpolated_global_TS\t\n",
      "\t- interpolated_global_UV\t\n",
      "\t- interpolated_np\t\n",
      "\t- interpolated_sp\t\n",
      "\t- original_2d\toriginal 2d output\n",
      "\t- original_3d\toriginal 3d output\n",
      "FESOM\ttco2559-ng5\t5km experiment, coupuled with IFS\n",
      "\t- elem_grid\t\n",
      "\t- node_grid\t\n",
      "\t- interpolated_global2d\t\n",
      "\t- interpolated_global_TS\t\n",
      "\t- interpolated_global_UV\t\n",
      "\t- interpolated_np\t\n",
      "\t- interpolated_sp\t\n",
      "\t- original_2d\toriginal 2d output\n",
      "\t- original_3d\toriginal 3d output\n",
      "\n",
      "ICON\tngc2009\t5km coupled run, main ICON nextGEMS C2 run\n",
      "\t- atm_2d_ml\t\n",
      "\t- atm_2d_ml_R02B09\t\n",
      "\t- atm_2d_ml_R02B08\t\n",
      "\t- atm_2d_ml_R02B06\t\n",
      "\t- oce_200m_atmgrid\t\n",
      "\t- oce_200m_atmgrid_R02B09\t\n",
      "\t- intake-esm-test\tTest Intake-ESM Catalog\n",
      "ICON\thpx\tSome Healpix data\n",
      "\t- result\t\n",
      "ICON\tgrids\tICON grids\n",
      "\n",
      "MSWEP\tpast\tpast MSWEP v280 data\n",
      "\t- monthly\tmonthly MSWEP_V280 data\n",
      "\t- daily\tdaily MSWEP_V280 data\n",
      "\t- 3hourly\t3 hourly MSWEP_V280 data\n",
      "\t- monthlyz\tmonthly MSWEP_V280 data\n",
      "\t- dailyz\tdaily MSWEP_V280 data\n",
      "\n",
      "ERA5\tera5\tmain ERA5 data\n",
      "\t- monthly_inst\tERA5 instantaneous 2D data monthly averaged\n",
      "\t- monthly_acc\tERA5 accumulated 2D data monthly averaged\n",
      "\t- daily_inst\tERA5 instantaneous 2D data daily\n",
      "\t- daily_acc\tERA5 accumulated 2D data daily\n",
      "\n",
      "CERES\tebaf-toa41\tCERES-EBAF\n",
      "\t- monthly\tCERES EBAF TOA Ed4.2 from 2002 to 2022\n",
      "CERES\tebaf-toa42\tCERES-EBAF\n",
      "\t- monthly\tCERES EBAF TOA Ed4.2 from 2002 to 2022\n",
      "CERES\tebaf-sfc41\tCERES-EBAF\n",
      "\t- monthly\tCERES EBAF SFC Ed4.1 from 2002 to 2022\n",
      "CERES\tsyn-toa41\tCERES-EBAF\n",
      "\t- daily\tCERES SYN TOA Ed4.1 from 2001 to 2021\n",
      "\n"
     ]
    },
    {
     "data": {
      "application/yaml": "config:\n  args:\n    path: ./config/catalog.yaml\n  description: ''\n  driver: intake.catalog.local.YAMLFileCatalog\n  metadata: {}\n",
      "text/plain": [
       "config:\n",
       "  args:\n",
       "    path: ./config/catalog.yaml\n",
       "  description: ''\n",
       "  driver: intake.catalog.local.YAMLFileCatalog\n",
       "  metadata: {}\n"
      ]
     },
     "metadata": {
      "application/json": {
       "root": "config"
      }
     },
     "output_type": "display_data"
    }
   ],
   "source": [
    "catalogue()"
   ]
  },
  {
   "cell_type": "code",
   "execution_count": null,
   "metadata": {},
   "outputs": [],
   "source": [
    "reader = Reader(model=\"ICON\", exp=\"ngc2009\", source=\"atm_2d_ml_R02B06\")\n",
    "#data = reader.retrieve(fix=False)\n",
    "#data = reader.retrieve(apply_unit_fix=False)\n",
    "ICON_2009 = reader.retrieve()"
   ]
  },
  {
   "cell_type": "code",
   "execution_count": null,
   "metadata": {},
   "outputs": [],
   "source": [
    "ICON_2009_small = ICON_2009['pr'][0:10,:]\n",
    "ICON_2009_small = ICON_2009_small.compute()"
   ]
  },
  {
   "cell_type": "code",
   "execution_count": 9,
   "metadata": {},
   "outputs": [],
   "source": [
    "import xarray as xr \n",
    "import matplotlib.pyplot as plt\n",
    "import numpy as np "
   ]
  },
  {
   "cell_type": "code",
   "execution_count": null,
   "metadata": {},
   "outputs": [],
   "source": [
    "diag.time_interpreter_b(ICON_2009)\n",
    "\n",
    "diag.time_interpreter_b(ICON_2009_small) "
   ]
  },
  {
   "cell_type": "code",
   "execution_count": null,
   "metadata": {},
   "outputs": [],
   "source": []
  },
  {
   "attachments": {},
   "cell_type": "markdown",
   "metadata": {},
   "source": [
    "## Id regrided then we can"
   ]
  },
  {
   "attachments": {},
   "cell_type": "markdown",
   "metadata": {},
   "source": [
    "### Animation"
   ]
  },
  {
   "cell_type": "code",
   "execution_count": null,
   "metadata": {},
   "outputs": [],
   "source": [
    "diag.animated(DS,  label = ' ')"
   ]
  },
  {
   "cell_type": "code",
   "execution_count": null,
   "metadata": {},
   "outputs": [],
   "source": [
    "\n",
    "scale_factor = 90/diag.trop_lat\n",
    "fig = plt.figure(figsize=(8*scale_factor,6))\n",
    "diag.ds_per_lat_range(DS)['pr'][0,:,:].plot(vmin=0, vmax=100)\n"
   ]
  },
  {
   "cell_type": "code",
   "execution_count": null,
   "metadata": {},
   "outputs": [],
   "source": [
    "\n",
    "plt.plot(diag.mean_per_timestep(DS), label= 'mean')\n",
    "plt.plot(diag.median_per_timestep(DS), label='median')\n",
    "\n",
    "plt.xlabel('Time', fontsize=12)\n",
    "plt.ylabel('Precipitation per day', fontsize=12)\n",
    "plt.title('Mean/median values of precipitation', fontsize =16)\n",
    "plt.legend(fontsize=12)\n",
    "\n",
    "#plt.yscale('log')\n",
    "print('gmean ....')\n",
    "\n",
    "\n",
    "plt.savefig(\"./figures/mean_and_median_trop_pr.png\",\n",
    "            bbox_inches =\"tight\",\n",
    "            pad_inches = 1,\n",
    "            transparent = True,\n",
    "            facecolor =\"w\",\n",
    "            edgecolor ='w',\n",
    "            orientation ='landscape')"
   ]
  },
  {
   "cell_type": "code",
   "execution_count": null,
   "metadata": {},
   "outputs": [],
   "source": []
  }
 ],
 "metadata": {
  "kernelspec": {
   "display_name": "Python 3",
   "language": "python",
   "name": "python3"
  },
  "language_info": {
   "codemirror_mode": {
    "name": "ipython",
    "version": 3
   },
   "file_extension": ".py",
   "mimetype": "text/x-python",
   "name": "python",
   "nbconvert_exporter": "python",
   "pygments_lexer": "ipython3",
   "version": "3.10.9"
  },
  "orig_nbformat": 4,
  "vscode": {
   "interpreter": {
    "hash": "d175476aa54cd9cf382f02a715417d5758d5a4599bcc47a6bc614a8de4870431"
   }
  }
 },
 "nbformat": 4,
 "nbformat_minor": 2
}
