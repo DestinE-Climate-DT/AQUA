{
 "cells": [
  {
   "attachments": {},
   "cell_type": "markdown",
   "metadata": {},
   "source": [
    "Notebook to compare mean outgoing longwave radiation at toa from NextGEMS simulations (using Low Resolution Archive) with ERA5 eanalysis data"
   ]
  },
  {
   "cell_type": "code",
   "execution_count": 2,
   "metadata": {},
   "outputs": [],
   "source": [
    "import matplotlib.pyplot as plt\n",
    "import numpy as np\n",
    "from aqua import Reader, catalogue\n",
    "#catalogue();"
   ]
  },
  {
   "cell_type": "code",
   "execution_count": 16,
   "metadata": {},
   "outputs": [
    {
     "ename": "ValueError",
     "evalue": "Dataset.plot cannot be called directly. Use an explicit plot method, e.g. ds.plot.scatter(...)",
     "output_type": "error",
     "traceback": [
      "\u001b[0;31m---------------------------------------------------------------------------\u001b[0m",
      "\u001b[0;31mValueError\u001b[0m                                Traceback (most recent call last)",
      "Cell \u001b[0;32mIn[16], line 16\u001b[0m\n\u001b[1;32m     14\u001b[0m \u001b[39mfor\u001b[39;00m model \u001b[39min\u001b[39;00m model_list:\n\u001b[1;32m     15\u001b[0m     \u001b[39mfor\u001b[39;00m exp \u001b[39min\u001b[39;00m exp_name[model]:\n\u001b[0;32m---> 16\u001b[0m         reader\u001b[39m.\u001b[39;49mfldmean(data[(model, exp)])\u001b[39m.\u001b[39;49mplot(label\u001b[39m=\u001b[39;49m\u001b[39mf\u001b[39;49m\u001b[39m\"\u001b[39;49m\u001b[39m{\u001b[39;49;00mmodel\u001b[39m}\u001b[39;49;00m\u001b[39m_\u001b[39;49m\u001b[39m{\u001b[39;49;00mexp\u001b[39m}\u001b[39;49;00m\u001b[39m\"\u001b[39;49m)\n\u001b[1;32m     17\u001b[0m plt\u001b[39m.\u001b[39mlegend()\n\u001b[1;32m     18\u001b[0m plt\u001b[39m.\u001b[39mylabel(\u001b[39m\"\u001b[39m\u001b[39mW m-2\u001b[39m\u001b[39m\"\u001b[39m)\n",
      "File \u001b[0;32m/work/bb1153/b382216/mambaforge/envs/aqua/lib/python3.10/site-packages/xarray/plot/accessor.py:942\u001b[0m, in \u001b[0;36mDatasetPlotAccessor.__call__\u001b[0;34m(self, *args, **kwargs)\u001b[0m\n\u001b[1;32m    941\u001b[0m \u001b[39mdef\u001b[39;00m \u001b[39m__call__\u001b[39m(\u001b[39mself\u001b[39m, \u001b[39m*\u001b[39margs, \u001b[39m*\u001b[39m\u001b[39m*\u001b[39mkwargs) \u001b[39m-\u001b[39m\u001b[39m>\u001b[39m NoReturn:\n\u001b[0;32m--> 942\u001b[0m     \u001b[39mraise\u001b[39;00m \u001b[39mValueError\u001b[39;00m(\n\u001b[1;32m    943\u001b[0m         \u001b[39m\"\u001b[39m\u001b[39mDataset.plot cannot be called directly. Use \u001b[39m\u001b[39m\"\u001b[39m\n\u001b[1;32m    944\u001b[0m         \u001b[39m\"\u001b[39m\u001b[39man explicit plot method, e.g. ds.plot.scatter(...)\u001b[39m\u001b[39m\"\u001b[39m\n\u001b[1;32m    945\u001b[0m     )\n",
      "\u001b[0;31mValueError\u001b[0m: Dataset.plot cannot be called directly. Use an explicit plot method, e.g. ds.plot.scatter(...)"
     ]
    },
    {
     "data": {
      "text/plain": [
       "<Figure size 640x480 with 0 Axes>"
      ]
     },
     "metadata": {},
     "output_type": "display_data"
    }
   ],
   "source": [
    "model_list = [\"IFS\", \"ICON\"]\n",
    "exp_name = {\"IFS\": [\"tco2559-ng5\",\"tco1279-orca025\"], \"ICON\": [\"ngc2009\"]}\n",
    "source = \"lra-r100-mon\"\n",
    "grid = \"r100\"\n",
    "var = \"mtntrf\"\n",
    "data = {}\n",
    "data_avrg = {}\n",
    "for model in model_list:\n",
    "    for exp in exp_name[model]:\n",
    "        reader = Reader(model=model, exp=exp, source=source, var=var, regrid=grid)\n",
    "        data[(model, exp)] = reader.retrieve(fix=False)\n",
    "        \n",
    "plt.figure()\n",
    "for model in model_list:\n",
    "    for exp in exp_name[model]:\n",
    "        reader.fldmean(data[(model, exp)]).plot(label=f\"{model}_{exp}\")\n",
    "plt.legend()\n",
    "plt.ylabel(\"W m-2\")\n",
    "plt.title(\"global mean top net thermal radiation flux\")"
   ]
  }
 ],
 "metadata": {
  "kernelspec": {
   "display_name": "aqua",
   "language": "python",
   "name": "python3"
  },
  "language_info": {
   "codemirror_mode": {
    "name": "ipython",
    "version": 3
   },
   "file_extension": ".py",
   "mimetype": "text/x-python",
   "name": "python",
   "nbconvert_exporter": "python",
   "pygments_lexer": "ipython3",
   "version": "3.10.10"
  },
  "orig_nbformat": 4
 },
 "nbformat": 4,
 "nbformat_minor": 2
}
