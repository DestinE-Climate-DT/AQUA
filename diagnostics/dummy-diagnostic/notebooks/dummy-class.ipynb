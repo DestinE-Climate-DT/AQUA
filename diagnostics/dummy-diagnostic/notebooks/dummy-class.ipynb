{
 "cells": [
  {
   "attachments": {},
   "cell_type": "markdown",
   "metadata": {},
   "source": [
    "# Example notebok for dummy diagnostic\n",
    "\n",
    "Each diagnostic should have a notebook that demonstrates how to use it. \n",
    "This notebook should be placed in this folder. \n",
    "The notebook should be named after the diagnostic itself or a particular functionality, with the extension .ipynb."
   ]
  },
  {
   "cell_type": "code",
   "execution_count": 3,
   "metadata": {},
   "outputs": [],
   "source": [
    "import sys\n",
    "# temporary hack if your env-dummy.yml\n",
    "# does not install your diagnostic.\n",
    "sys.path.insert(0, '../')\n",
    "from dummy_class import DummyDiagnostic"
   ]
  },
  {
   "cell_type": "code",
   "execution_count": 4,
   "metadata": {},
   "outputs": [
    {
     "name": "stdout",
     "output_type": "stream",
     "text": [
      "FESOM\ttest-pi\t5km experiment, coupuled with IFS\n",
      "\t- original_2d\toriginal 2d output\n",
      "\n",
      "IFS\ttest-tco79\t5km experiment, coupuled with IFS\n",
      "\t- short\toriginal 2d output\n",
      "\t- long\tcoarse IFS data 1y\n",
      "\n",
      "<Intake catalog: ci>\n"
     ]
    }
   ],
   "source": [
    "# Empty class to be filled with your diagnostic\n",
    "# It prints the catalogue as example of what you can do\n",
    "# with the aqua module\n",
    "\n",
    "dummy = DummyDiagnostic()\n",
    "dummy.run()"
   ]
  }
 ],
 "metadata": {
  "kernelspec": {
   "display_name": "aqua",
   "language": "python",
   "name": "python3"
  },
  "language_info": {
   "codemirror_mode": {
    "name": "ipython",
    "version": 3
   },
   "file_extension": ".py",
   "mimetype": "text/x-python",
   "name": "python",
   "nbconvert_exporter": "python",
   "pygments_lexer": "ipython3",
   "version": "3.10.11"
  },
  "orig_nbformat": 4
 },
 "nbformat": 4,
 "nbformat_minor": 2
}
