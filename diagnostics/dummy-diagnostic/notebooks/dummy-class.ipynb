{
 "cells": [
  {
   "attachments": {},
   "cell_type": "markdown",
   "metadata": {},
   "source": [
    "# Example notebok for dummy diagnostic\n",
    "\n",
    "Each diagnostic should have a notebook that demonstrates how to use it. \n",
    "This notebook should be placed in this folder. \n",
    "The notebook should be named after the diagnostic itself or a particular functionality, with the extension .ipynb."
   ]
  },
  {
   "cell_type": "code",
   "execution_count": 1,
   "metadata": {},
   "outputs": [],
   "source": [
    "import sys\n",
    "# temporary hack if your env-dummy.yml\n",
    "# does not install your diagnostic.\n",
    "sys.path.insert(0, '../')\n",
    "from dummy_class import DummyDiagnostic"
   ]
  },
  {
   "cell_type": "code",
   "execution_count": 2,
   "metadata": {},
   "outputs": [
    {
     "name": "stdout",
     "output_type": "stream",
     "text": [
      "IFS\ttco3999-ng5\t2.8km experiment, coupled with FESOM\n",
      "\t- ICMGG_atm2d\toriginal 2d output\n",
      "\t- ICMU_atm2d\toriginal 2d output (lnsp)\n",
      "\t- ICMU_atm3d\toriginal 3d output\n",
      "\t- interpolated_global\tNN interpolation to 5400x2700 grid (lon=[-180,180], lat=[-90, 90])\n",
      "IFS\ttco2559-ng5\t4km experiment, coupled with FESOM\n",
      "\t- ICMGG_atm2d\toriginal 2d output\n",
      "\t- ICMU_atm2d\toriginal 2d output (lnsp)\n",
      "\t- ICMU_atm3d\toriginal 3d output\n",
      "\t- interpolated_global\tNN interpolation to 5400x2700 grid (lon=[-180,180], lat=[-90, 90])\n",
      "\t- lra-r100-mon\tLRA monthly data 1x1 deg regular grid\n",
      "IFS\ttco1279-orca025\t9km baseline, coupled to NEMO, deep conv ON\n",
      "\t- ICMGG_atm2d\toriginal 2d output\n",
      "\t- ICMU_atm2d\toriginal 2d output (lnsp)\n",
      "\t- ICMU_atm3d\toriginal 3d output\n",
      "\t- lra-r100-mon\tLRA monthly data 1x1 deg regular grid\n",
      "IFS\ttest-tco2559\t4km experiment, coupled with FESOM\n",
      "\t- ICMGG_atm2d\t2d output\n",
      "\t- ICMU_atm3d\t3d output\n",
      "IFS\ttest-tco79\tTCO79 test data\n",
      "\t- short\toriginal 2d output\n",
      "\t- long\tcoarse IFS data 1y\n",
      "\n",
      "FESOM\ttco3999-ng5\t2.5km experiment, coupuled with IFS\n",
      "\t- interpolated_global2d\t\n",
      "\t- interpolated_global_TS\t\n",
      "\t- interpolated_global_UV\t\n",
      "\t- original_2d\toriginal 2d output\n",
      "\t- original_3d\toriginal 3d output\n",
      "FESOM\ttco2559-ng5\t5km experiment, coupuled with IFS\n",
      "\t- interpolated_global2d\t\n",
      "\t- interpolated_global_TS\t\n",
      "\t- interpolated_global_UV\t\n",
      "\t- original_2d\toriginal 2d output\n",
      "\t- original_3d\toriginal 3d output\n",
      "\t- lra-r100-mon\t\n",
      "FESOM\ttest-pi\ttest data\n",
      "\t- original_2d\toriginal 2d output\n",
      "\n",
      "ICON\tngc2009\t5km coupled run, main ICON nextGEMS C2 run\n",
      "\t- atm_2d_ml_R02B09\toriginal 2d output on R02B09 grid (5 km)\n",
      "\t- atm_2d_ml_R02B08\toriginal 2d output on R02B09 grid (10 km)\n",
      "\t- oce_200m_atmgrid_R02B09\toriginal ocean 3d output on R02B09 grid (5 km)\n",
      "\t- intake-esm-test\tTest Intake-ESM Catalog\n",
      "\t- lra-r100-mon\tLRA daily data 1x1 deg regular grid\n",
      "ICON\thpx\tSome Healpix data\n",
      "\t- result\t\n",
      "\n",
      "MSWEP\tpast\tpast MSWEP v280 data\n",
      "\t- monthly\tmonthly MSWEP_V280 data\n",
      "\t- daily\tdaily MSWEP_V280 data\n",
      "\t- 3hourly\t3 hourly MSWEP_V280 data\n",
      "\t- monthlyz\tmonthly MSWEP_V280 data\n",
      "\t- dailyz\tdaily MSWEP_V280 data\n",
      "\n",
      "ERA5\tera5\tmain ERA5 data\n",
      "\t- monthly_inst\tERA5 instantaneous 2D data monthly averaged\n",
      "\t- monthly_acc\tERA5 accumulated 2D data monthly averaged\n",
      "\t- daily_inst\tERA5 instantaneous 2D data daily\n",
      "\t- daily_acc\tERA5 accumulated 2D data daily\n",
      "\n",
      "CERES\tebaf-toa41\tCERES-EBAF\n",
      "\t- monthly\tCERES EBAF TOA Ed4.2 from 2002 to 2022\n",
      "CERES\tebaf-toa42\tCERES-EBAF\n",
      "\t- monthly\tCERES EBAF TOA Ed4.2 from 2002 to 2022\n",
      "CERES\tebaf-sfc41\tCERES-EBAF\n",
      "\t- monthly\tCERES EBAF SFC Ed4.1 from 2002 to 2022\n",
      "CERES\tsyn-toa41\tCERES-EBAF\n",
      "\t- daily\tCERES SYN TOA Ed4.1 from 2001 to 2021\n",
      "\n",
      "AVISO\tssh-L4\tAVISO Sea Surface Height L4 product and derived variables\n",
      "\t- daily\tAVISO ssh vDT2021\n",
      "\n",
      "PHC3\tphc3\tPHC3 Polar science center Hydrographic Climatology\n",
      "\t- annual\tPHC3\n",
      "\t- seasonal\tPHC3\n",
      "\n",
      "WOA18\twoa18_2005_2017\tWorld Ocean Atlas climatology\n",
      "\t- annual\tWOA18 2005-2017\n",
      "\t- seasonal\tWOA18 2005-2017\n",
      "\n",
      "<Intake catalog: levante>\n"
     ]
    }
   ],
   "source": [
    "# Empty class to be filled with your diagnostic\n",
    "# It prints the catalogue as example of what you can do\n",
    "# with the aqua module\n",
    "\n",
    "dummy = DummyDiagnostic(configdir='../../../config')\n",
    "dummy.run()"
   ]
  }
 ],
 "metadata": {
  "kernelspec": {
   "display_name": "aqua",
   "language": "python",
   "name": "python3"
  },
  "language_info": {
   "codemirror_mode": {
    "name": "ipython",
    "version": 3
   },
   "file_extension": ".py",
   "mimetype": "text/x-python",
   "name": "python",
   "nbconvert_exporter": "python",
   "pygments_lexer": "ipython3",
   "version": "3.10.11"
  },
  "orig_nbformat": 4
 },
 "nbformat": 4,
 "nbformat_minor": 2
}
