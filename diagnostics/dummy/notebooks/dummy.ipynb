{
 "cells": [
  {
   "attachments": {},
   "cell_type": "markdown",
   "metadata": {},
   "source": [
    "# Example notebok for dummy diagnostic"
   ]
  },
  {
   "attachments": {},
   "cell_type": "markdown",
   "metadata": {},
   "source": [
    "### Each diagnostic should have a notebook that demonstrates how to use it. This notebook should \n",
    "\n",
    "- be placed in this folder,\n",
    "\n",
    "- be named after the diagnostic itself or a particular functionality, \n",
    "\n",
    "- have extension `.ipynb`."
   ]
  },
  {
   "attachments": {},
   "cell_type": "markdown",
   "metadata": {},
   "source": [
    "### Recommendations for notebook structure:\n",
    "- Reduce the number of packages you're importing. Try to keep all imports in your module (`dummy_class.py` and `dummy_func.py`)\n",
    "\n",
    "- Do not produce too long notebooks. If it is needed, split the notebook into a few based on diagnostic applications\n",
    "\n",
    "- Split the notebook into sections and create the Table of Content.\n",
    "\n",
    "- Provide well-described comments to help users understand the functionality of your diagnostic "
   ]
  },
  {
   "attachments": {},
   "cell_type": "markdown",
   "metadata": {},
   "source": [
    "### Examples of how to create the Table of Content in the notebook (URLs)\n",
    "[First link](https://linuxhint.com/add-table-contents-jupyter-notebook/), \n",
    "[Second link](https://stackoverflow.com/questions/21151450/how-can-i-add-a-table-of-contents-to-a-jupyter-jupyterlab-notebook),\n",
    "[Third link](https://medium.com/@ahmetekiz/creating-table-of-contents-in-jupyter-notebook-52a7c696817f)"
   ]
  },
  {
   "attachments": {},
   "cell_type": "markdown",
   "metadata": {},
   "source": [
    "## Content\n",
    "\n",
    "1. [The load of packages, modules, and data](#the-load-of-packages-modules-and-data)\n",
    "\n",
    "2. [Illustration of the diagnostic capabilities. Part # 1](#illustration-of-the-diagnostic-capabilities-part--1)\n",
    "\n",
    "3. [Illustration of the diagnostic capabilities. Part # 2](#illustration-of-the-diagnostic-capabilities-part--2)"
   ]
  },
  {
   "attachments": {},
   "cell_type": "markdown",
   "metadata": {},
   "source": [
    "## The load of packages, modules, and data"
   ]
  },
  {
   "cell_type": "code",
   "execution_count": 1,
   "metadata": {},
   "outputs": [
    {
     "name": "stdout",
     "output_type": "stream",
     "text": [
      "FDB5 binary library not present on system, disabling FDB support.\n"
     ]
    }
   ],
   "source": [
    "import sys\n",
    "from aqua import Reader, catalogue\n",
    "\n",
    "# temporary hack if your env-dummy.yml\n",
    "# does not install your diagnostic.\n",
    "sys.path.insert(0, '../') \n",
    "from dummy_class import DummyDiagnostic"
   ]
  },
  {
   "attachments": {},
   "cell_type": "markdown",
   "metadata": {},
   "source": [
    "## Illustration of the diagnostic capabilities. Part # 1"
   ]
  },
  {
   "attachments": {},
   "cell_type": "markdown",
   "metadata": {},
   "source": [
    "##### Empty class to be filled with your diagnostic. It prints the catalogue as an example of what you can do with the aqua module"
   ]
  },
  {
   "cell_type": "code",
   "execution_count": 2,
   "metadata": {},
   "outputs": [
    {
     "name": "stdout",
     "output_type": "stream",
     "text": [
      "IFS\ttco3999-ng5\t2.8km experiment, coupled with FESOM\n",
      "\t- ICMGG_atm2d\toriginal 2d output\n",
      "\t- ICMU_atm2d\toriginal 2d output (lnsp)\n",
      "\t- ICMU_atm3d\toriginal 3d output\n",
      "\t- interpolated_global\tNN interpolation to 5400x2700 grid (lon=[-180,180], lat=[-90, 90])\n",
      "\t- lra-r100-monthly\tLRA data monthly at r100\n",
      "IFS\ttco2559-ng5\t4km experiment, coupled with FESOM\n",
      "\t- ICMGG_atm2d\toriginal 2d output\n",
      "\t- ICMU_atm2d\toriginal 2d output (lnsp)\n",
      "\t- ICMU_atm3d\toriginal 3d output\n",
      "\t- interpolated_global\tNN interpolation to 5400x2700 grid (lon=[-180,180], lat=[-90, 90])\n",
      "\t- lra-r100-monthly\tLRA data monthly at r100\n",
      "IFS\ttco1279-orca025\t9km baseline, coupled to NEMO, deep conv ON\n",
      "\t- ICMGG_atm2d\toriginal 2d output\n",
      "\t- ICMU_atm2d\toriginal 2d output (lnsp)\n",
      "\t- ICMU_atm3d\toriginal 3d output\n",
      "\t- lra-r100-monthly\tLRA data monthly at r100\n",
      "IFS\ttest-tco2559\t4km experiment, coupled with FESOM\n",
      "\t- ICMGG_atm2d\t2d output\n",
      "\t- ICMU_atm3d\t3d output\n",
      "IFS\ttest-tco79\tTCO79 test data\n",
      "\t- short\toriginal 2d output\n",
      "\t- long\tcoarse IFS data 1y\n",
      "IFS\ttco2559-ng5-cycle3\tmain 4.4km Cycle 3 experiment, coupled with FESOM 5km\n",
      "\t- 2D_1h_native\t\n",
      "\t- 3D_1h6h_native\t\n",
      "\t- 2D_monthly_0.25deg\t\n",
      "\t- 3D_monthly_0.25deg\t\n",
      "\t- 2D_monthly_1deg\t\n",
      "\t- 3D_monthly_1deg\t\n",
      "\t- WAM_1h_native\t\n",
      "\t- lra-r100-monthly\tLRA data monthly at r100\n",
      "IFS\ttco1279-orca025-cycle3\t9km Cycle 3 experiment, coupled with NEMO 25km\n",
      "\t- 2D_1h_native\t\n",
      "\t- 3D_1h6h_native\t\n",
      "\t- 2D_monthly_native\t\n",
      "\t- 3D_monthly_native\t\n",
      "\t- 2D_1h_0.25deg\t\n",
      "\t- 3D_1h6h_0.25deg\t\n",
      "\t- 2D_monthly_0.25deg\t\n",
      "\t- 3D_monthly_0.25deg\t\n",
      "\t- 2D_1h_1deg\t\n",
      "\t- 3D_1h6h_1deg\t\n",
      "\t- 2D_monthly_1deg\t\n",
      "\t- 3D_monthly_1deg\t\n",
      "\t- WAM_1h_native\t\n",
      "\t- lra-r100-monthly\tLRA data monthly at r100\n",
      "\n",
      "FESOM\ttco3999-ng5\t2.5km experiment, coupuled with IFS\n",
      "\t- interpolated_global2d\t\n",
      "\t- interpolated_global_TS\t\n",
      "\t- interpolated_global_UV\t\n",
      "\t- original_2d\toriginal 2d output\n",
      "\t- original_3d\toriginal 3d output depending on nod2\n",
      "\t- original_3d_elem\toriginal 3d output depending on elem\n",
      "FESOM\ttco2559-ng5\t5km experiment, coupuled with IFS\n",
      "\t- interpolated_global2d\t\n",
      "\t- interpolated_global_TS\t\n",
      "\t- interpolated_global_UV\t\n",
      "\t- original_2d\toriginal 2d output\n",
      "\t- original_3d\toriginal 3d output for variables depending on nod2\n",
      "\t- original_3d_elem\toriginal 3d output for variables depending on elem\n",
      "\t- lra-r100-monthly\tLRA data monthly at r100\n",
      "FESOM\ttco2559-ng5-cycle3\t5km experiment, coupuled with IFS\n",
      "\t- 2D_1h_native\t\n",
      "\t- 2D_daily_native\t\n",
      "\t- 2D_monthly_native\t\n",
      "\t- 2D_monthly_native_elem\t\n",
      "\t- 3D_daily_native\t\n",
      "\t- 3D_daily_native_elem\t\n",
      "\t- 3D_daily_native_zarr\t\n",
      "\t- lra-r100-monthly\tLRA data monthly at r100\n",
      "FESOM\ttest-pi\ttest data\n",
      "\t- original_2d\toriginal 2d output\n",
      "\t- original_3d\toriginal 3d output\n",
      "\n",
      "ICON\tngc2009\t5km coupled run, main ICON nextGEMS C2 run\n",
      "\t- atm_2d_ml_R02B09\toriginal 2d output on R02B09 grid (5 km)\n",
      "\t- atm_2d_ml_R02B08\toriginal 2d output on R02B09 grid (10 km)\n",
      "\t- oce_200m_atmgrid_R02B09\toriginal ocean 3d output on R02B09 grid (5 km)\n",
      "\t- intake-esm-test\tTest Intake-ESM Catalog\n",
      "\t- lra-r100-monthly\tLRA data monthly at r100\n",
      "ICON\tngc3026\t5km coupled run, 1-year intermediate ICON nextGEMS C3 run\n",
      "\t- PT30M\t\n",
      "\t- PT3H\t\n",
      "\t- P1D\t\n",
      "\t- lra-r100-monthly\tLRA data monthly at r100\n",
      "ICON\tngc3028\t5km coupled run, 5-year intermediate ICON nextGEMS C3 run\n",
      "\t- PT30M\t\n",
      "\t- PT3H\t\n",
      "\t- P1D\t\n",
      "\t- lra-r100-monthly\tLRA data monthly at r100\n",
      "\n",
      "MSWEP\tpast\tpast MSWEP v280 data\n",
      "\t- monthly\tmonthly MSWEP_V280 data\n",
      "\t- daily\tdaily MSWEP_V280 data\n",
      "\t- 3hourly\t3 hourly MSWEP_V280 data\n",
      "\n",
      "ERA5\tera5\tAQUA compact version of ERA5 data\n",
      "\t- monthly\tERA5 monthly data from 1940 to 2022\n",
      "ERA5\tera5-dkrz\tERA5 data from DKRZ catalog\n",
      "\t- monthly_inst\tERA5 instantaneous 2D data monthly averaged\n",
      "\t- monthly_acc\tERA5 accumulated 2D data monthly averaged\n",
      "\t- daily_inst\tERA5 instantaneous 2D data daily\n",
      "\t- daily_acc\tERA5 accumulated 2D data daily\n",
      "\n",
      "CERES\tebaf-toa41\tCERES-EBAF\n",
      "\t- monthly\tCERES EBAF TOA Ed4.1 from 2000 to 2022\n",
      "CERES\tebaf-toa42\tCERES-EBAF\n",
      "\t- monthly\tCERES EBAF TOA Ed4.2 from 2000 to 2023\n",
      "CERES\tebaf-sfc41\tCERES-EBAF\n",
      "\t- monthly\tCERES EBAF SFC Ed4.1 from 2000 to 2022\n",
      "CERES\tebaf-sfc42\tCERES-EBAF\n",
      "\t- monthly\tCERES EBAF SFC Ed4.2 from 2000 to 2022\n",
      "CERES\tsyn-toa41\tCERES-SYN\n",
      "\t- daily\tCERES SYN TOA Ed4.1 from 2001 to 2021\n",
      "\n",
      "AVISO\tssh-L4\tAVISO Sea Surface Height L4 product and derived variables\n",
      "\t- daily\tAVISO ssh vDT2021\n",
      "\n",
      "PHC3\tphc3\tPHC3 Polar science center Hydrographic Climatology\n",
      "\t- annual\tPHC3\n",
      "\t- seasonal\tPHC3\n",
      "\n",
      "WOA18\twoa18_2005_2017\tWorld Ocean Atlas climatology\n",
      "\t- annual\tWOA18 2005-2017\n",
      "\t- seasonal\tWOA18 2005-2017\n",
      "\n",
      "OSI-SAF\tosi-450\tOSI-450 data\n",
      "\t- nh\tNorthern hemisphere OSI-450 sea-ice data\n",
      "\t- sh\tSouthern hemisphere OSI-450 sea-ice data\n",
      "\n",
      "<Intake catalog: levante>\n"
     ]
    }
   ],
   "source": [
    "dummy = DummyDiagnostic() \n",
    "dummy.run()"
   ]
  },
  {
   "attachments": {},
   "cell_type": "markdown",
   "metadata": {},
   "source": [
    "## Illustration of the diagnostic capabilities. Part # 2"
   ]
  },
  {
   "cell_type": "markdown",
   "metadata": {},
   "source": []
  }
 ],
 "metadata": {
  "kernelspec": {
   "display_name": "aqua",
   "language": "python",
   "name": "python3"
  },
  "language_info": {
   "codemirror_mode": {
    "name": "ipython",
    "version": 3
   },
   "file_extension": ".py",
   "mimetype": "text/x-python",
   "name": "python",
   "nbconvert_exporter": "python",
   "pygments_lexer": "ipython3",
   "version": "3.10.11"
  },
  "orig_nbformat": 4
 },
 "nbformat": 4,
 "nbformat_minor": 2
}
