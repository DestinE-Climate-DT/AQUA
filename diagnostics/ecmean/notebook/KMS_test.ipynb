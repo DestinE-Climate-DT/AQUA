{
 "cells": [
  {
   "cell_type": "code",
   "execution_count": 1,
   "id": "1fabd2a3-530c-4f7a-b854-76549c67abbf",
   "metadata": {},
   "outputs": [],
   "source": [
    "from aqua.util import load_yaml, get_arg, create_folder"
   ]
  },
  {
   "cell_type": "code",
   "execution_count": 2,
   "id": "cfa06cd3-69f1-47db-ac5b-b811557c0ae7",
   "metadata": {},
   "outputs": [],
   "source": [
    "import pandas as pd\n",
    "from pandas import json_normalize\n",
    "import glob"
   ]
  },
  {
   "cell_type": "code",
   "execution_count": 3,
   "id": "f8d6b002-c513-4002-9c47-2ed0623df33c",
   "metadata": {},
   "outputs": [
    {
     "data": {
      "text/html": [
       "<div>\n",
       "<style scoped>\n",
       "    .dataframe tbody tr th:only-of-type {\n",
       "        vertical-align: middle;\n",
       "    }\n",
       "\n",
       "    .dataframe tbody tr th {\n",
       "        vertical-align: top;\n",
       "    }\n",
       "\n",
       "    .dataframe thead th {\n",
       "        text-align: right;\n",
       "    }\n",
       "</style>\n",
       "<table border=\"1\" class=\"dataframe\">\n",
       "  <thead>\n",
       "    <tr style=\"text-align: right;\">\n",
       "      <th></th>\n",
       "      <th>Variable</th>\n",
       "      <th>Season</th>\n",
       "      <th>Location</th>\n",
       "      <th>Value</th>\n",
       "      <th>ensemble</th>\n",
       "      <th>machine</th>\n",
       "    </tr>\n",
       "  </thead>\n",
       "  <tbody>\n",
       "    <tr>\n",
       "      <th>0</th>\n",
       "      <td>psl</td>\n",
       "      <td>ALL</td>\n",
       "      <td>Global</td>\n",
       "      <td>4.483</td>\n",
       "      <td>p000</td>\n",
       "      <td>lumi</td>\n",
       "    </tr>\n",
       "    <tr>\n",
       "      <th>1</th>\n",
       "      <td>psl</td>\n",
       "      <td>ALL</td>\n",
       "      <td>North Midlat</td>\n",
       "      <td>5.783</td>\n",
       "      <td>p000</td>\n",
       "      <td>lumi</td>\n",
       "    </tr>\n",
       "    <tr>\n",
       "      <th>2</th>\n",
       "      <td>psl</td>\n",
       "      <td>ALL</td>\n",
       "      <td>Tropical</td>\n",
       "      <td>4.953</td>\n",
       "      <td>p000</td>\n",
       "      <td>lumi</td>\n",
       "    </tr>\n",
       "    <tr>\n",
       "      <th>3</th>\n",
       "      <td>psl</td>\n",
       "      <td>ALL</td>\n",
       "      <td>South Midlat</td>\n",
       "      <td>2.244</td>\n",
       "      <td>p000</td>\n",
       "      <td>lumi</td>\n",
       "    </tr>\n",
       "    <tr>\n",
       "      <th>4</th>\n",
       "      <td>psl</td>\n",
       "      <td>DJF</td>\n",
       "      <td>Global</td>\n",
       "      <td>1.437</td>\n",
       "      <td>p000</td>\n",
       "      <td>lumi</td>\n",
       "    </tr>\n",
       "    <tr>\n",
       "      <th>...</th>\n",
       "      <td>...</td>\n",
       "      <td>...</td>\n",
       "      <td>...</td>\n",
       "      <td>...</td>\n",
       "      <td>...</td>\n",
       "      <td>...</td>\n",
       "    </tr>\n",
       "    <tr>\n",
       "      <th>895</th>\n",
       "      <td>siconc</td>\n",
       "      <td>DJF</td>\n",
       "      <td>South Midlat</td>\n",
       "      <td>NaN</td>\n",
       "      <td>p004</td>\n",
       "      <td>mn4</td>\n",
       "    </tr>\n",
       "    <tr>\n",
       "      <th>896</th>\n",
       "      <td>siconc</td>\n",
       "      <td>JJA</td>\n",
       "      <td>Global</td>\n",
       "      <td>NaN</td>\n",
       "      <td>p004</td>\n",
       "      <td>mn4</td>\n",
       "    </tr>\n",
       "    <tr>\n",
       "      <th>897</th>\n",
       "      <td>siconc</td>\n",
       "      <td>JJA</td>\n",
       "      <td>North Midlat</td>\n",
       "      <td>NaN</td>\n",
       "      <td>p004</td>\n",
       "      <td>mn4</td>\n",
       "    </tr>\n",
       "    <tr>\n",
       "      <th>898</th>\n",
       "      <td>siconc</td>\n",
       "      <td>JJA</td>\n",
       "      <td>Tropical</td>\n",
       "      <td>NaN</td>\n",
       "      <td>p004</td>\n",
       "      <td>mn4</td>\n",
       "    </tr>\n",
       "    <tr>\n",
       "      <th>899</th>\n",
       "      <td>siconc</td>\n",
       "      <td>JJA</td>\n",
       "      <td>South Midlat</td>\n",
       "      <td>NaN</td>\n",
       "      <td>p004</td>\n",
       "      <td>mn4</td>\n",
       "    </tr>\n",
       "  </tbody>\n",
       "</table>\n",
       "<p>900 rows × 6 columns</p>\n",
       "</div>"
      ],
      "text/plain": [
       "    Variable Season      Location  Value ensemble machine\n",
       "0        psl    ALL        Global  4.483     p000    lumi\n",
       "1        psl    ALL  North Midlat  5.783     p000    lumi\n",
       "2        psl    ALL      Tropical  4.953     p000    lumi\n",
       "3        psl    ALL  South Midlat  2.244     p000    lumi\n",
       "4        psl    DJF        Global  1.437     p000    lumi\n",
       "..       ...    ...           ...    ...      ...     ...\n",
       "895   siconc    DJF  South Midlat    NaN     p004     mn4\n",
       "896   siconc    JJA        Global    NaN     p004     mn4\n",
       "897   siconc    JJA  North Midlat    NaN     p004     mn4\n",
       "898   siconc    JJA      Tropical    NaN     p004     mn4\n",
       "899   siconc    JJA  South Midlat    NaN     p004     mn4\n",
       "\n",
       "[900 rows x 6 columns]"
      ]
     },
     "execution_count": 3,
     "metadata": {},
     "output_type": "execute_result"
    }
   ],
   "source": [
    "pi_yaml_path=\"/gpfs/scratch/dese28/dese28422/ecmean_files/YAML/\"\n",
    "machines = [\"lumi\", \"mn4\"]\n",
    "ensembles = [\"p000\", \"p001\", \"p002\", \"p003\", \"p004\"]\n",
    "\n",
    "consolidated_df = pd.DataFrame()\n",
    "for machine in machines:\n",
    "    for ensemble in ensembles:\n",
    "        pattern = f\"/gpfs/scratch/dese28/dese28422/ecmean_files/YAML/*{machine}*/*{ensemble}*yml\"\n",
    "        yaml_files = glob.glob(pattern)\n",
    "        data= load_yaml(yaml_files[0])\n",
    "\n",
    "        flat_data = {}\n",
    "        for variable, variable_data in data.items():\n",
    "            for season, season_data in variable_data.items():\n",
    "                for location, value in season_data.items():\n",
    "                    flat_data[(variable, season, location)] = value\n",
    "        df = pd.DataFrame(flat_data, index=['Value']).T.reset_index()\n",
    "        df.columns = ['Variable', 'Season', 'Location', 'Value']\n",
    "        df[\"ensemble\"]=ensemble\n",
    "        df[\"machine\"]= machine\n",
    "        consolidated_df=  pd.concat([consolidated_df, df], ignore_index=True)\n",
    "\n",
    "consolidated_df"
   ]
  },
  {
   "cell_type": "code",
   "execution_count": 4,
   "id": "88f5a643-b60e-4611-907f-ecfed0bb698a",
   "metadata": {},
   "outputs": [],
   "source": [
    "consolidated_df.to_csv(\"pi_scores.csv\", index=False)"
   ]
  },
  {
   "cell_type": "code",
   "execution_count": null,
   "id": "4a4c4ba1-e8b4-4499-9d3d-e77fc9b69727",
   "metadata": {},
   "outputs": [],
   "source": [
    "consolidated_df[\"\"]"
   ]
  },
  {
   "cell_type": "code",
   "execution_count": null,
   "id": "86aa8416-2ef8-4562-9e5e-1a089e63caef",
   "metadata": {},
   "outputs": [],
   "source": []
  },
  {
   "cell_type": "code",
   "execution_count": 5,
   "id": "9ccc969c-9c16-4d4e-bea6-686611c26e7d",
   "metadata": {},
   "outputs": [],
   "source": [
    "from scipy.stats import kstest"
   ]
  },
  {
   "cell_type": "code",
   "execution_count": 6,
   "id": "236002f1-117a-49b6-a444-ca8b46f480ef",
   "metadata": {},
   "outputs": [
    {
     "data": {
      "text/plain": [
       "array([-0.97727788,  0.95008842, -0.15135721, -0.10321885,  0.4105985 ])"
      ]
     },
     "execution_count": 6,
     "metadata": {},
     "output_type": "execute_result"
    }
   ],
   "source": [
    "from numpy.random import seed\n",
    "from numpy.random import randn\n",
    "from numpy.random import lognormal\n",
    "\n",
    "#set seed (e.g. make this example reproducible)\n",
    "seed(0)\n",
    "\n",
    "#generate two datasets\n",
    "data1 = randn(5)\n",
    "data2 = randn(5)\n",
    "data2"
   ]
  },
  {
   "cell_type": "code",
   "execution_count": 7,
   "id": "4c96fc72-0c9b-45ad-ad26-a7563db7517a",
   "metadata": {},
   "outputs": [
    {
     "data": {
      "text/plain": [
       "KstestResult(statistic=0.8, pvalue=0.07936507936507936, statistic_location=0.9500884175255894, statistic_sign=-1)"
      ]
     },
     "execution_count": 7,
     "metadata": {},
     "output_type": "execute_result"
    }
   ],
   "source": [
    "from scipy.stats import ks_2samp\n",
    "\n",
    "#perform Kolmogorov-Smirnov test\n",
    "ks_2samp(data1, data2)\n",
    "\n"
   ]
  },
  {
   "cell_type": "code",
   "execution_count": 8,
   "id": "1e571e06-32f0-4bc6-8a58-c81dcccb9df2",
   "metadata": {
    "scrolled": true
   },
   "outputs": [
    {
     "data": {
      "text/html": [
       "<div>\n",
       "<style scoped>\n",
       "    .dataframe tbody tr th:only-of-type {\n",
       "        vertical-align: middle;\n",
       "    }\n",
       "\n",
       "    .dataframe tbody tr th {\n",
       "        vertical-align: top;\n",
       "    }\n",
       "\n",
       "    .dataframe thead th {\n",
       "        text-align: right;\n",
       "    }\n",
       "</style>\n",
       "<table border=\"1\" class=\"dataframe\">\n",
       "  <thead>\n",
       "    <tr style=\"text-align: right;\">\n",
       "      <th></th>\n",
       "      <th>Variable</th>\n",
       "      <th>Season</th>\n",
       "      <th>Location</th>\n",
       "      <th>Value</th>\n",
       "      <th>ensemble</th>\n",
       "      <th>machine</th>\n",
       "    </tr>\n",
       "  </thead>\n",
       "  <tbody>\n",
       "    <tr>\n",
       "      <th>0</th>\n",
       "      <td>psl</td>\n",
       "      <td>ALL</td>\n",
       "      <td>Global</td>\n",
       "      <td>4.483</td>\n",
       "      <td>p000</td>\n",
       "      <td>lumi</td>\n",
       "    </tr>\n",
       "    <tr>\n",
       "      <th>1</th>\n",
       "      <td>psl</td>\n",
       "      <td>ALL</td>\n",
       "      <td>North Midlat</td>\n",
       "      <td>5.783</td>\n",
       "      <td>p000</td>\n",
       "      <td>lumi</td>\n",
       "    </tr>\n",
       "    <tr>\n",
       "      <th>2</th>\n",
       "      <td>psl</td>\n",
       "      <td>ALL</td>\n",
       "      <td>Tropical</td>\n",
       "      <td>4.953</td>\n",
       "      <td>p000</td>\n",
       "      <td>lumi</td>\n",
       "    </tr>\n",
       "    <tr>\n",
       "      <th>3</th>\n",
       "      <td>psl</td>\n",
       "      <td>ALL</td>\n",
       "      <td>South Midlat</td>\n",
       "      <td>2.244</td>\n",
       "      <td>p000</td>\n",
       "      <td>lumi</td>\n",
       "    </tr>\n",
       "    <tr>\n",
       "      <th>4</th>\n",
       "      <td>psl</td>\n",
       "      <td>DJF</td>\n",
       "      <td>Global</td>\n",
       "      <td>1.437</td>\n",
       "      <td>p000</td>\n",
       "      <td>lumi</td>\n",
       "    </tr>\n",
       "    <tr>\n",
       "      <th>...</th>\n",
       "      <td>...</td>\n",
       "      <td>...</td>\n",
       "      <td>...</td>\n",
       "      <td>...</td>\n",
       "      <td>...</td>\n",
       "      <td>...</td>\n",
       "    </tr>\n",
       "    <tr>\n",
       "      <th>895</th>\n",
       "      <td>siconc</td>\n",
       "      <td>DJF</td>\n",
       "      <td>South Midlat</td>\n",
       "      <td>NaN</td>\n",
       "      <td>p004</td>\n",
       "      <td>mn4</td>\n",
       "    </tr>\n",
       "    <tr>\n",
       "      <th>896</th>\n",
       "      <td>siconc</td>\n",
       "      <td>JJA</td>\n",
       "      <td>Global</td>\n",
       "      <td>NaN</td>\n",
       "      <td>p004</td>\n",
       "      <td>mn4</td>\n",
       "    </tr>\n",
       "    <tr>\n",
       "      <th>897</th>\n",
       "      <td>siconc</td>\n",
       "      <td>JJA</td>\n",
       "      <td>North Midlat</td>\n",
       "      <td>NaN</td>\n",
       "      <td>p004</td>\n",
       "      <td>mn4</td>\n",
       "    </tr>\n",
       "    <tr>\n",
       "      <th>898</th>\n",
       "      <td>siconc</td>\n",
       "      <td>JJA</td>\n",
       "      <td>Tropical</td>\n",
       "      <td>NaN</td>\n",
       "      <td>p004</td>\n",
       "      <td>mn4</td>\n",
       "    </tr>\n",
       "    <tr>\n",
       "      <th>899</th>\n",
       "      <td>siconc</td>\n",
       "      <td>JJA</td>\n",
       "      <td>South Midlat</td>\n",
       "      <td>NaN</td>\n",
       "      <td>p004</td>\n",
       "      <td>mn4</td>\n",
       "    </tr>\n",
       "  </tbody>\n",
       "</table>\n",
       "<p>900 rows × 6 columns</p>\n",
       "</div>"
      ],
      "text/plain": [
       "    Variable Season      Location  Value ensemble machine\n",
       "0        psl    ALL        Global  4.483     p000    lumi\n",
       "1        psl    ALL  North Midlat  5.783     p000    lumi\n",
       "2        psl    ALL      Tropical  4.953     p000    lumi\n",
       "3        psl    ALL  South Midlat  2.244     p000    lumi\n",
       "4        psl    DJF        Global  1.437     p000    lumi\n",
       "..       ...    ...           ...    ...      ...     ...\n",
       "895   siconc    DJF  South Midlat    NaN     p004     mn4\n",
       "896   siconc    JJA        Global    NaN     p004     mn4\n",
       "897   siconc    JJA  North Midlat    NaN     p004     mn4\n",
       "898   siconc    JJA      Tropical    NaN     p004     mn4\n",
       "899   siconc    JJA  South Midlat    NaN     p004     mn4\n",
       "\n",
       "[900 rows x 6 columns]"
      ]
     },
     "execution_count": 8,
     "metadata": {},
     "output_type": "execute_result"
    }
   ],
   "source": [
    "df=consolidated_df\n",
    "df"
   ]
  },
  {
   "cell_type": "code",
   "execution_count": 9,
   "id": "5b1f36c9-9d38-46da-8cfd-c108675b43a8",
   "metadata": {},
   "outputs": [
    {
     "data": {
      "text/plain": [
       "array([4.483, 2.49 , 2.436, 2.469, 2.389])"
      ]
     },
     "execution_count": 9,
     "metadata": {},
     "output_type": "execute_result"
    }
   ],
   "source": [
    "for variables in \n",
    "\n",
    "\n",
    "filter= df[(df[\"Variable\"] == \"psl\") & (df[\"Season\"] == \"ALL\") & (df[\"Location\"]== \"Global\")]\n",
    "mn4= filter[filter[\"machine\"]== \"mn4\"]\n",
    "lumi= filter[filter[\"machine\"]== \"lumi\"]\n",
    "ks_2samp(lumi.Value.values, mn4.Value.values)"
   ]
  },
  {
   "cell_type": "code",
   "execution_count": 15,
   "id": "2b72e81e-54ea-4499-bc1c-5b99e18fd4a4",
   "metadata": {},
   "outputs": [
    {
     "data": {
      "text/plain": [
       "array(['p000', 'p001', 'p002', 'p003', 'p004'], dtype=object)"
      ]
     },
     "execution_count": 15,
     "metadata": {},
     "output_type": "execute_result"
    }
   ],
   "source": [
    "mn4.ensemble.unique()"
   ]
  },
  {
   "cell_type": "code",
   "execution_count": 12,
   "id": "df1d2784-8d88-4505-9972-b260c4a4d592",
   "metadata": {},
   "outputs": [
    {
     "data": {
      "text/plain": [
       "KstestResult(statistic=0.6, pvalue=0.35714285714285715, statistic_location=2.49, statistic_sign=1)"
      ]
     },
     "execution_count": 12,
     "metadata": {},
     "output_type": "execute_result"
    }
   ],
   "source": []
  },
  {
   "cell_type": "code",
   "execution_count": null,
   "id": "861773ed-5c5c-45af-aecc-d0b006af8a3d",
   "metadata": {},
   "outputs": [],
   "source": []
  }
 ],
 "metadata": {
  "kernelspec": {
   "display_name": "Python 3 (ipykernel)",
   "language": "python",
   "name": "python3"
  },
  "language_info": {
   "codemirror_mode": {
    "name": "ipython",
    "version": 3
   },
   "file_extension": ".py",
   "mimetype": "text/x-python",
   "name": "python",
   "nbconvert_exporter": "python",
   "pygments_lexer": "ipython3",
   "version": "3.11.6"
  }
 },
 "nbformat": 4,
 "nbformat_minor": 5
}
