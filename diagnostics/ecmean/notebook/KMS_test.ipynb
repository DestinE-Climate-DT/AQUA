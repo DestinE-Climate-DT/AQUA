{
 "cells": [
  {
   "cell_type": "code",
   "execution_count": 1,
   "id": "1fabd2a3-530c-4f7a-b854-76549c67abbf",
   "metadata": {},
   "outputs": [],
   "source": [
    "from aqua.util import load_yaml, get_arg, create_folder, dump_yaml"
   ]
  },
  {
   "cell_type": "code",
   "execution_count": 2,
   "id": "cfa06cd3-69f1-47db-ac5b-b811557c0ae7",
   "metadata": {},
   "outputs": [],
   "source": [
    "import pandas as pd\n",
    "from pandas import json_normalize\n",
    "import glob"
   ]
  },
  {
   "cell_type": "code",
   "execution_count": 3,
   "id": "f0416db7-190c-45cf-a219-25081ab78099",
   "metadata": {},
   "outputs": [],
   "source": [
    "machines = [\"lumi\", \"mn4\"]\n",
    "ensembles = [\"p000\", \"p001\", \"p002\", \"p003\"]\n",
    "\n",
    "consolidated_df = pd.DataFrame()\n",
    "data= {}\n",
    "for machine in machines:\n",
    "    data_ensembles= {}\n",
    "    for ensemble in ensembles:\n",
    "        pattern = f\"/gpfs/scratch/dese28/dese28422/ecmean_files/YAML/*{machine}*/*{ensemble}*yml\"\n",
    "        yaml_files = glob.glob(pattern)\n",
    "        loaded_yaml= load_yaml(yaml_files[0])\n",
    "        data_ensembles[ensemble] = loaded_yaml\n",
    "        # print(pattern)\n",
    "    data[machine] = data_ensembles\n",
    "    "
   ]
  },
  {
   "cell_type": "code",
   "execution_count": 4,
   "id": "0ff59d12-f218-4001-a81e-b09f9d77db6f",
   "metadata": {},
   "outputs": [
    {
     "data": {
      "text/plain": [
       "{'ALL': {'Global': 4.042, 'North Midlat': 1.902, 'Tropical': 4.494, 'South Midlat': 5.279}, 'DJF': {'Global': 2.591, 'North Midlat': 0.427, 'Tropical': 3.103, 'South Midlat': 3.731}, 'JJA': {'Global': 9.001, 'North Midlat': 4.179, 'Tropical': 15.234, 'South Midlat': 1.355}}"
      ]
     },
     "execution_count": 4,
     "metadata": {},
     "output_type": "execute_result"
    }
   ],
   "source": [
    "data[\"lumi\"][\"p000\"][\"ua\"]"
   ]
  },
  {
   "cell_type": "code",
   "execution_count": 5,
   "id": "31b4e206-7846-48ff-a7b7-a85b3187b45c",
   "metadata": {
    "scrolled": true
   },
   "outputs": [],
   "source": [
    "machines = []\n",
    "ensembles = []\n",
    "variables = []\n",
    "seasons = []\n",
    "regions = []\n",
    "values = []\n",
    "\n",
    "for machine in data:\n",
    "    for ensemble in data[machine]:\n",
    "        for variable in data[machine][ensemble]:\n",
    "            for season in data[machine][ensemble][variable]:\n",
    "                for region in data[machine][ensemble][variable][season]:\n",
    "                    # for va in data[machine][ensemble][variable][season]:\n",
    "                    # if variable == \"ua\":\n",
    "                        machines.append(machine)\n",
    "                        ensembles.append(ensemble)\n",
    "                        variables.append(variable)\n",
    "                        seasons.append(season)\n",
    "                        regions.append(region)\n",
    "                        value = data[machine][ensemble][variable][season][region]\n",
    "                        values.append( value )\n",
    "                    # print(machine, ensemble, variable, season, region)\n",
    "                    # if variable == \"tas\":\n",
    "                    #     print(machine, variable, value)\n",
    "                    \n",
    "\n",
    "# Create a DataFrame\n",
    "df = pd.DataFrame({'machines': machines, 'ensembles': ensembles, 'variables': variables, 'seasons': seasons, 'locations': regions, 'pi_score': values})\n",
    "# df"
   ]
  },
  {
   "cell_type": "code",
   "execution_count": 6,
   "id": "1eb8e63f-8c46-4fd8-a11e-a066462a3c84",
   "metadata": {},
   "outputs": [
    {
     "data": {
      "text/plain": [
       "array(['psl', 'tas', 'pr', 'ta', 'ua', 'va', 'hus', 'sos'], dtype=object)"
      ]
     },
     "execution_count": 6,
     "metadata": {},
     "output_type": "execute_result"
    }
   ],
   "source": [
    "df.variables.unique()"
   ]
  },
  {
   "cell_type": "code",
   "execution_count": 7,
   "id": "e50a6b7f-3071-43e8-8f8f-cb9eb3cc7245",
   "metadata": {},
   "outputs": [
    {
     "data": {
      "text/html": [
       "<div>\n",
       "<style scoped>\n",
       "    .dataframe tbody tr th:only-of-type {\n",
       "        vertical-align: middle;\n",
       "    }\n",
       "\n",
       "    .dataframe tbody tr th {\n",
       "        vertical-align: top;\n",
       "    }\n",
       "\n",
       "    .dataframe thead th {\n",
       "        text-align: right;\n",
       "    }\n",
       "</style>\n",
       "<table border=\"1\" class=\"dataframe\">\n",
       "  <thead>\n",
       "    <tr style=\"text-align: right;\">\n",
       "      <th></th>\n",
       "      <th>machines</th>\n",
       "      <th>ensembles</th>\n",
       "      <th>variables</th>\n",
       "      <th>seasons</th>\n",
       "      <th>locations</th>\n",
       "      <th>pi_score</th>\n",
       "    </tr>\n",
       "  </thead>\n",
       "  <tbody>\n",
       "    <tr>\n",
       "      <th>0</th>\n",
       "      <td>lumi</td>\n",
       "      <td>p000</td>\n",
       "      <td>psl</td>\n",
       "      <td>ALL</td>\n",
       "      <td>Global</td>\n",
       "      <td>2.490</td>\n",
       "    </tr>\n",
       "    <tr>\n",
       "      <th>1</th>\n",
       "      <td>lumi</td>\n",
       "      <td>p000</td>\n",
       "      <td>psl</td>\n",
       "      <td>ALL</td>\n",
       "      <td>North Midlat</td>\n",
       "      <td>1.722</td>\n",
       "    </tr>\n",
       "    <tr>\n",
       "      <th>2</th>\n",
       "      <td>lumi</td>\n",
       "      <td>p000</td>\n",
       "      <td>psl</td>\n",
       "      <td>ALL</td>\n",
       "      <td>Tropical</td>\n",
       "      <td>3.019</td>\n",
       "    </tr>\n",
       "    <tr>\n",
       "      <th>3</th>\n",
       "      <td>lumi</td>\n",
       "      <td>p000</td>\n",
       "      <td>psl</td>\n",
       "      <td>ALL</td>\n",
       "      <td>South Midlat</td>\n",
       "      <td>2.199</td>\n",
       "    </tr>\n",
       "    <tr>\n",
       "      <th>4</th>\n",
       "      <td>lumi</td>\n",
       "      <td>p000</td>\n",
       "      <td>psl</td>\n",
       "      <td>DJF</td>\n",
       "      <td>Global</td>\n",
       "      <td>1.126</td>\n",
       "    </tr>\n",
       "    <tr>\n",
       "      <th>...</th>\n",
       "      <td>...</td>\n",
       "      <td>...</td>\n",
       "      <td>...</td>\n",
       "      <td>...</td>\n",
       "      <td>...</td>\n",
       "      <td>...</td>\n",
       "    </tr>\n",
       "    <tr>\n",
       "      <th>763</th>\n",
       "      <td>mn4</td>\n",
       "      <td>p003</td>\n",
       "      <td>sos</td>\n",
       "      <td>DJF</td>\n",
       "      <td>South Midlat</td>\n",
       "      <td>2.839</td>\n",
       "    </tr>\n",
       "    <tr>\n",
       "      <th>764</th>\n",
       "      <td>mn4</td>\n",
       "      <td>p003</td>\n",
       "      <td>sos</td>\n",
       "      <td>JJA</td>\n",
       "      <td>Global</td>\n",
       "      <td>6.797</td>\n",
       "    </tr>\n",
       "    <tr>\n",
       "      <th>765</th>\n",
       "      <td>mn4</td>\n",
       "      <td>p003</td>\n",
       "      <td>sos</td>\n",
       "      <td>JJA</td>\n",
       "      <td>North Midlat</td>\n",
       "      <td>17.314</td>\n",
       "    </tr>\n",
       "    <tr>\n",
       "      <th>766</th>\n",
       "      <td>mn4</td>\n",
       "      <td>p003</td>\n",
       "      <td>sos</td>\n",
       "      <td>JJA</td>\n",
       "      <td>Tropical</td>\n",
       "      <td>4.447</td>\n",
       "    </tr>\n",
       "    <tr>\n",
       "      <th>767</th>\n",
       "      <td>mn4</td>\n",
       "      <td>p003</td>\n",
       "      <td>sos</td>\n",
       "      <td>JJA</td>\n",
       "      <td>South Midlat</td>\n",
       "      <td>5.117</td>\n",
       "    </tr>\n",
       "  </tbody>\n",
       "</table>\n",
       "<p>768 rows × 6 columns</p>\n",
       "</div>"
      ],
      "text/plain": [
       "    machines ensembles variables seasons     locations  pi_score\n",
       "0       lumi      p000       psl     ALL        Global     2.490\n",
       "1       lumi      p000       psl     ALL  North Midlat     1.722\n",
       "2       lumi      p000       psl     ALL      Tropical     3.019\n",
       "3       lumi      p000       psl     ALL  South Midlat     2.199\n",
       "4       lumi      p000       psl     DJF        Global     1.126\n",
       "..       ...       ...       ...     ...           ...       ...\n",
       "763      mn4      p003       sos     DJF  South Midlat     2.839\n",
       "764      mn4      p003       sos     JJA        Global     6.797\n",
       "765      mn4      p003       sos     JJA  North Midlat    17.314\n",
       "766      mn4      p003       sos     JJA      Tropical     4.447\n",
       "767      mn4      p003       sos     JJA  South Midlat     5.117\n",
       "\n",
       "[768 rows x 6 columns]"
      ]
     },
     "execution_count": 7,
     "metadata": {},
     "output_type": "execute_result"
    }
   ],
   "source": [
    "df"
   ]
  },
  {
   "cell_type": "code",
   "execution_count": 8,
   "id": "2e8760f7-1c5b-4d8b-b609-74ea6299466a",
   "metadata": {
    "scrolled": true
   },
   "outputs": [
    {
     "data": {
      "text/html": [
       "<div>\n",
       "<style scoped>\n",
       "    .dataframe tbody tr th:only-of-type {\n",
       "        vertical-align: middle;\n",
       "    }\n",
       "\n",
       "    .dataframe tbody tr th {\n",
       "        vertical-align: top;\n",
       "    }\n",
       "\n",
       "    .dataframe thead th {\n",
       "        text-align: right;\n",
       "    }\n",
       "</style>\n",
       "<table border=\"1\" class=\"dataframe\">\n",
       "  <thead>\n",
       "    <tr style=\"text-align: right;\">\n",
       "      <th></th>\n",
       "      <th>machines</th>\n",
       "      <th>ensembles</th>\n",
       "      <th>variables</th>\n",
       "      <th>seasons</th>\n",
       "      <th>locations</th>\n",
       "      <th>pi_score</th>\n",
       "    </tr>\n",
       "  </thead>\n",
       "  <tbody>\n",
       "    <tr>\n",
       "      <th>48</th>\n",
       "      <td>lumi</td>\n",
       "      <td>p000</td>\n",
       "      <td>ua</td>\n",
       "      <td>ALL</td>\n",
       "      <td>Global</td>\n",
       "      <td>4.042</td>\n",
       "    </tr>\n",
       "    <tr>\n",
       "      <th>49</th>\n",
       "      <td>lumi</td>\n",
       "      <td>p000</td>\n",
       "      <td>ua</td>\n",
       "      <td>ALL</td>\n",
       "      <td>North Midlat</td>\n",
       "      <td>1.902</td>\n",
       "    </tr>\n",
       "    <tr>\n",
       "      <th>50</th>\n",
       "      <td>lumi</td>\n",
       "      <td>p000</td>\n",
       "      <td>ua</td>\n",
       "      <td>ALL</td>\n",
       "      <td>Tropical</td>\n",
       "      <td>4.494</td>\n",
       "    </tr>\n",
       "    <tr>\n",
       "      <th>51</th>\n",
       "      <td>lumi</td>\n",
       "      <td>p000</td>\n",
       "      <td>ua</td>\n",
       "      <td>ALL</td>\n",
       "      <td>South Midlat</td>\n",
       "      <td>5.279</td>\n",
       "    </tr>\n",
       "    <tr>\n",
       "      <th>52</th>\n",
       "      <td>lumi</td>\n",
       "      <td>p000</td>\n",
       "      <td>ua</td>\n",
       "      <td>DJF</td>\n",
       "      <td>Global</td>\n",
       "      <td>2.591</td>\n",
       "    </tr>\n",
       "    <tr>\n",
       "      <th>53</th>\n",
       "      <td>lumi</td>\n",
       "      <td>p000</td>\n",
       "      <td>ua</td>\n",
       "      <td>DJF</td>\n",
       "      <td>North Midlat</td>\n",
       "      <td>0.427</td>\n",
       "    </tr>\n",
       "    <tr>\n",
       "      <th>54</th>\n",
       "      <td>lumi</td>\n",
       "      <td>p000</td>\n",
       "      <td>ua</td>\n",
       "      <td>DJF</td>\n",
       "      <td>Tropical</td>\n",
       "      <td>3.103</td>\n",
       "    </tr>\n",
       "    <tr>\n",
       "      <th>55</th>\n",
       "      <td>lumi</td>\n",
       "      <td>p000</td>\n",
       "      <td>ua</td>\n",
       "      <td>DJF</td>\n",
       "      <td>South Midlat</td>\n",
       "      <td>3.731</td>\n",
       "    </tr>\n",
       "    <tr>\n",
       "      <th>56</th>\n",
       "      <td>lumi</td>\n",
       "      <td>p000</td>\n",
       "      <td>ua</td>\n",
       "      <td>JJA</td>\n",
       "      <td>Global</td>\n",
       "      <td>9.001</td>\n",
       "    </tr>\n",
       "    <tr>\n",
       "      <th>57</th>\n",
       "      <td>lumi</td>\n",
       "      <td>p000</td>\n",
       "      <td>ua</td>\n",
       "      <td>JJA</td>\n",
       "      <td>North Midlat</td>\n",
       "      <td>4.179</td>\n",
       "    </tr>\n",
       "    <tr>\n",
       "      <th>58</th>\n",
       "      <td>lumi</td>\n",
       "      <td>p000</td>\n",
       "      <td>ua</td>\n",
       "      <td>JJA</td>\n",
       "      <td>Tropical</td>\n",
       "      <td>15.234</td>\n",
       "    </tr>\n",
       "    <tr>\n",
       "      <th>59</th>\n",
       "      <td>lumi</td>\n",
       "      <td>p000</td>\n",
       "      <td>ua</td>\n",
       "      <td>JJA</td>\n",
       "      <td>South Midlat</td>\n",
       "      <td>1.355</td>\n",
       "    </tr>\n",
       "    <tr>\n",
       "      <th>144</th>\n",
       "      <td>lumi</td>\n",
       "      <td>p001</td>\n",
       "      <td>ua</td>\n",
       "      <td>ALL</td>\n",
       "      <td>Global</td>\n",
       "      <td>3.880</td>\n",
       "    </tr>\n",
       "    <tr>\n",
       "      <th>145</th>\n",
       "      <td>lumi</td>\n",
       "      <td>p001</td>\n",
       "      <td>ua</td>\n",
       "      <td>ALL</td>\n",
       "      <td>North Midlat</td>\n",
       "      <td>2.420</td>\n",
       "    </tr>\n",
       "    <tr>\n",
       "      <th>146</th>\n",
       "      <td>lumi</td>\n",
       "      <td>p001</td>\n",
       "      <td>ua</td>\n",
       "      <td>ALL</td>\n",
       "      <td>Tropical</td>\n",
       "      <td>4.191</td>\n",
       "    </tr>\n",
       "    <tr>\n",
       "      <th>147</th>\n",
       "      <td>lumi</td>\n",
       "      <td>p001</td>\n",
       "      <td>ua</td>\n",
       "      <td>ALL</td>\n",
       "      <td>South Midlat</td>\n",
       "      <td>4.717</td>\n",
       "    </tr>\n",
       "    <tr>\n",
       "      <th>148</th>\n",
       "      <td>lumi</td>\n",
       "      <td>p001</td>\n",
       "      <td>ua</td>\n",
       "      <td>DJF</td>\n",
       "      <td>Global</td>\n",
       "      <td>2.602</td>\n",
       "    </tr>\n",
       "    <tr>\n",
       "      <th>149</th>\n",
       "      <td>lumi</td>\n",
       "      <td>p001</td>\n",
       "      <td>ua</td>\n",
       "      <td>DJF</td>\n",
       "      <td>North Midlat</td>\n",
       "      <td>0.819</td>\n",
       "    </tr>\n",
       "    <tr>\n",
       "      <th>150</th>\n",
       "      <td>lumi</td>\n",
       "      <td>p001</td>\n",
       "      <td>ua</td>\n",
       "      <td>DJF</td>\n",
       "      <td>Tropical</td>\n",
       "      <td>3.084</td>\n",
       "    </tr>\n",
       "    <tr>\n",
       "      <th>151</th>\n",
       "      <td>lumi</td>\n",
       "      <td>p001</td>\n",
       "      <td>ua</td>\n",
       "      <td>DJF</td>\n",
       "      <td>South Midlat</td>\n",
       "      <td>3.422</td>\n",
       "    </tr>\n",
       "  </tbody>\n",
       "</table>\n",
       "</div>"
      ],
      "text/plain": [
       "    machines ensembles variables seasons     locations  pi_score\n",
       "48      lumi      p000        ua     ALL        Global     4.042\n",
       "49      lumi      p000        ua     ALL  North Midlat     1.902\n",
       "50      lumi      p000        ua     ALL      Tropical     4.494\n",
       "51      lumi      p000        ua     ALL  South Midlat     5.279\n",
       "52      lumi      p000        ua     DJF        Global     2.591\n",
       "53      lumi      p000        ua     DJF  North Midlat     0.427\n",
       "54      lumi      p000        ua     DJF      Tropical     3.103\n",
       "55      lumi      p000        ua     DJF  South Midlat     3.731\n",
       "56      lumi      p000        ua     JJA        Global     9.001\n",
       "57      lumi      p000        ua     JJA  North Midlat     4.179\n",
       "58      lumi      p000        ua     JJA      Tropical    15.234\n",
       "59      lumi      p000        ua     JJA  South Midlat     1.355\n",
       "144     lumi      p001        ua     ALL        Global     3.880\n",
       "145     lumi      p001        ua     ALL  North Midlat     2.420\n",
       "146     lumi      p001        ua     ALL      Tropical     4.191\n",
       "147     lumi      p001        ua     ALL  South Midlat     4.717\n",
       "148     lumi      p001        ua     DJF        Global     2.602\n",
       "149     lumi      p001        ua     DJF  North Midlat     0.819\n",
       "150     lumi      p001        ua     DJF      Tropical     3.084\n",
       "151     lumi      p001        ua     DJF  South Midlat     3.422"
      ]
     },
     "execution_count": 8,
     "metadata": {},
     "output_type": "execute_result"
    }
   ],
   "source": [
    "df[df[\"variables\"]==\"ua\"].head(20)"
   ]
  },
  {
   "cell_type": "code",
   "execution_count": 9,
   "id": "88f5a643-b60e-4611-907f-ecfed0bb698a",
   "metadata": {},
   "outputs": [],
   "source": [
    "consolidated_df.to_csv(\"pi_scores.csv\", index=False)"
   ]
  },
  {
   "cell_type": "code",
   "execution_count": 38,
   "id": "13d1662f-95fd-4845-a099-ae3eb0d4b287",
   "metadata": {},
   "outputs": [
    {
     "data": {
      "text/plain": [
       "array(['psl', 'tas', 'ta', 'ua', 'va', 'hus'], dtype=object)"
      ]
     },
     "execution_count": 38,
     "metadata": {},
     "output_type": "execute_result"
    }
   ],
   "source": [
    "df.variables.unique()"
   ]
  },
  {
   "cell_type": "code",
   "execution_count": 35,
   "id": "1438890d-30d3-429f-ba21-e0f8f548a120",
   "metadata": {},
   "outputs": [],
   "source": [
    "# df[df[\"variables\"]== \"ta\"].value.isna().any().any()\n",
    "# df[df[\"variables\"]== \"tos\"]\n",
    "df = df[df['variables'] != \"sos\"]\n",
    "df = df[df['variables'] != \"pr\"]\n",
    "\n",
    "df = df[df['variables'] != \"siconc\"]"
   ]
  },
  {
   "cell_type": "code",
   "execution_count": 12,
   "id": "4c96fc72-0c9b-45ad-ad26-a7563db7517a",
   "metadata": {},
   "outputs": [],
   "source": [
    "from scipy.stats import kstest\n",
    "from scipy.stats import ks_2samp\n"
   ]
  },
  {
   "cell_type": "code",
   "execution_count": 48,
   "id": "5b1f36c9-9d38-46da-8cfd-c108675b43a8",
   "metadata": {
    "scrolled": true
   },
   "outputs": [],
   "source": [
    "vars = []\n",
    "seasons = []\n",
    "regions = []\n",
    "p_values = []\n",
    "KS_score = {}\n",
    "\n",
    "for variable in df.variables.unique():\n",
    "    # if variable == \"pr\":\n",
    "        for season in df.seasons.unique():\n",
    "            # if season == \"ALL\":\n",
    "                for location in df.locations.unique():\n",
    "                    # if location == \"Tropical\" :\n",
    "                        filtered_df= df[(df[\"variables\"] == variable) & (df[\"seasons\"] == season) & (df[\"locations\"]== location)]\n",
    "                        machine1= filtered_df[(filtered_df[\"machines\"]==df.machines.unique()[0])]\n",
    "                        machine2= filtered_df[(filtered_df[\"machines\"]==df.machines.unique()[1])]\n",
    "                        vars.append(variable)\n",
    "                        seasons.append(season+\"_\"+location)\n",
    "                        regions.append(location)\n",
    "                        \n",
    "                        ks_score, pvalue = ks_2samp(machine1.pi_score.values, machine2.pi_score.values) \n",
    "                        p_values.append(pvalue)\n",
    "                    # KS_score = \n",
    "                # print(ks_2samp)\n",
    "            \n",
    "\n",
    "# filter= df[(df[\"variable\"] == \"psl\") & (df[\"season\"] == \"ALL\") & (df[\"location\"]== \"Global\")]\n",
    "# mn4= df[df[\"variables\"]== \"mn4\"]\n",
    "# lumi= filter[filter[\"machine\"]== \"lumi\"]\n",
    "# ks_2samp(lumi.Value.values, mn4.Value.values)"
   ]
  },
  {
   "cell_type": "code",
   "execution_count": 14,
   "id": "cd0dabd9-0e4b-44ca-8cc1-d8863d2794f5",
   "metadata": {
    "scrolled": true
   },
   "outputs": [
    {
     "data": {
      "text/plain": [
       "KstestResult(statistic=0.75, pvalue=0.22857142857142862, statistic_location=0.25, statistic_sign=-1)"
      ]
     },
     "execution_count": 14,
     "metadata": {},
     "output_type": "execute_result"
    }
   ],
   "source": [
    "import numpy as np\n",
    "msl_mn4 = np.array([0.26,0.25,0.27,0.28])\n",
    "msl_lumi = np.array([0.25,0.24,0.24,0.24])\n",
    "ks_2samp(msl_mn4, msl_lumi)\n"
   ]
  },
  {
   "cell_type": "code",
   "execution_count": 43,
   "id": "991d5c87-3ec9-444b-b590-34f7f283b7bc",
   "metadata": {
    "scrolled": true
   },
   "outputs": [
    {
     "name": "stdout",
     "output_type": "stream",
     "text": [
      "    machines ensembles variables seasons locations  pi_score\n",
      "74      lumi      p000       hus     ALL  Tropical     2.777\n",
      "170     lumi      p001       hus     ALL  Tropical     2.977\n",
      "266     lumi      p002       hus     ALL  Tropical     3.016\n",
      "362     lumi      p003       hus     ALL  Tropical     3.031\n",
      "    machines ensembles variables seasons locations  pi_score\n",
      "458      mn4      p000       hus     ALL  Tropical     3.625\n",
      "554      mn4      p001       hus     ALL  Tropical     3.619\n",
      "650      mn4      p002       hus     ALL  Tropical     3.283\n",
      "746      mn4      p003       hus     ALL  Tropical     3.650\n"
     ]
    }
   ],
   "source": [
    "print(machine1)\n",
    "print(machine2)"
   ]
  },
  {
   "cell_type": "code",
   "execution_count": 44,
   "id": "d2159c1f-24f1-4d59-bef3-7c7c968e8188",
   "metadata": {},
   "outputs": [
    {
     "data": {
      "text/plain": [
       "KstestResult(statistic=1.0, pvalue=0.028571428571428577, statistic_location=3.031, statistic_sign=1)"
      ]
     },
     "execution_count": 44,
     "metadata": {},
     "output_type": "execute_result"
    }
   ],
   "source": [
    "ks_2samp(machine1.pi_score.values, machine2.pi_score.values)"
   ]
  },
  {
   "cell_type": "code",
   "execution_count": 46,
   "id": "f63bde33-87f1-482f-946a-487663c0a20f",
   "metadata": {},
   "outputs": [
    {
     "data": {
      "text/plain": [
       "array(['psl', 'tas', 'ta', 'ua', 'va', 'hus'], dtype=object)"
      ]
     },
     "execution_count": 46,
     "metadata": {},
     "output_type": "execute_result"
    }
   ],
   "source": [
    "df_new.variable.unique()"
   ]
  },
  {
   "cell_type": "code",
   "execution_count": 49,
   "id": "2b72e81e-54ea-4499-bc1c-5b99e18fd4a4",
   "metadata": {
    "scrolled": true
   },
   "outputs": [
    {
     "data": {
      "text/html": [
       "<div>\n",
       "<style scoped>\n",
       "    .dataframe tbody tr th:only-of-type {\n",
       "        vertical-align: middle;\n",
       "    }\n",
       "\n",
       "    .dataframe tbody tr th {\n",
       "        vertical-align: top;\n",
       "    }\n",
       "\n",
       "    .dataframe thead th {\n",
       "        text-align: right;\n",
       "    }\n",
       "</style>\n",
       "<table border=\"1\" class=\"dataframe\">\n",
       "  <thead>\n",
       "    <tr style=\"text-align: right;\">\n",
       "      <th></th>\n",
       "      <th>variable</th>\n",
       "      <th>season</th>\n",
       "      <th>p_value</th>\n",
       "    </tr>\n",
       "  </thead>\n",
       "  <tbody>\n",
       "    <tr>\n",
       "      <th>0</th>\n",
       "      <td>psl</td>\n",
       "      <td>ALL_Global</td>\n",
       "      <td>0.228571</td>\n",
       "    </tr>\n",
       "    <tr>\n",
       "      <th>1</th>\n",
       "      <td>psl</td>\n",
       "      <td>ALL_North Midlat</td>\n",
       "      <td>0.771429</td>\n",
       "    </tr>\n",
       "    <tr>\n",
       "      <th>2</th>\n",
       "      <td>psl</td>\n",
       "      <td>ALL_Tropical</td>\n",
       "      <td>0.028571</td>\n",
       "    </tr>\n",
       "    <tr>\n",
       "      <th>3</th>\n",
       "      <td>psl</td>\n",
       "      <td>ALL_South Midlat</td>\n",
       "      <td>0.771429</td>\n",
       "    </tr>\n",
       "    <tr>\n",
       "      <th>4</th>\n",
       "      <td>psl</td>\n",
       "      <td>DJF_Global</td>\n",
       "      <td>0.028571</td>\n",
       "    </tr>\n",
       "    <tr>\n",
       "      <th>...</th>\n",
       "      <td>...</td>\n",
       "      <td>...</td>\n",
       "      <td>...</td>\n",
       "    </tr>\n",
       "    <tr>\n",
       "      <th>67</th>\n",
       "      <td>hus</td>\n",
       "      <td>DJF_South Midlat</td>\n",
       "      <td>0.228571</td>\n",
       "    </tr>\n",
       "    <tr>\n",
       "      <th>68</th>\n",
       "      <td>hus</td>\n",
       "      <td>JJA_Global</td>\n",
       "      <td>0.028571</td>\n",
       "    </tr>\n",
       "    <tr>\n",
       "      <th>69</th>\n",
       "      <td>hus</td>\n",
       "      <td>JJA_North Midlat</td>\n",
       "      <td>0.028571</td>\n",
       "    </tr>\n",
       "    <tr>\n",
       "      <th>70</th>\n",
       "      <td>hus</td>\n",
       "      <td>JJA_Tropical</td>\n",
       "      <td>0.028571</td>\n",
       "    </tr>\n",
       "    <tr>\n",
       "      <th>71</th>\n",
       "      <td>hus</td>\n",
       "      <td>JJA_South Midlat</td>\n",
       "      <td>0.228571</td>\n",
       "    </tr>\n",
       "  </tbody>\n",
       "</table>\n",
       "<p>72 rows × 3 columns</p>\n",
       "</div>"
      ],
      "text/plain": [
       "   variable            season   p_value\n",
       "0       psl        ALL_Global  0.228571\n",
       "1       psl  ALL_North Midlat  0.771429\n",
       "2       psl      ALL_Tropical  0.028571\n",
       "3       psl  ALL_South Midlat  0.771429\n",
       "4       psl        DJF_Global  0.028571\n",
       "..      ...               ...       ...\n",
       "67      hus  DJF_South Midlat  0.228571\n",
       "68      hus        JJA_Global  0.028571\n",
       "69      hus  JJA_North Midlat  0.028571\n",
       "70      hus      JJA_Tropical  0.028571\n",
       "71      hus  JJA_South Midlat  0.228571\n",
       "\n",
       "[72 rows x 3 columns]"
      ]
     },
     "execution_count": 49,
     "metadata": {},
     "output_type": "execute_result"
    }
   ],
   "source": [
    "data = {'variable': vars, \"season\": seasons,  'p_value': p_values}\n",
    "df_new = pd.DataFrame(data)\n",
    "df_new"
   ]
  },
  {
   "cell_type": "code",
   "execution_count": null,
   "id": "9d369491-10ac-4163-8181-33f71bd06da1",
   "metadata": {},
   "outputs": [],
   "source": []
  },
  {
   "cell_type": "code",
   "execution_count": 50,
   "id": "eda44910-eaa1-4d0f-9bce-a2db470ad49a",
   "metadata": {},
   "outputs": [
    {
     "data": {
      "image/png": "[encoded data removed]",
      "text/plain": [
       "<Figure size 1500x1000 with 2 Axes>"
      ]
     },
     "metadata": {},
     "output_type": "display_data"
    }
   ],
   "source": [
    "import matplotlib.pyplot as plt\n",
    "import seaborn as sns\n",
    "sns.set()\n",
    "\n",
    "# Load the example flights dataset and conver to long-form\n",
    "# df_new = df_new.drop_duplicates(subset=['variable', 'season'])\n",
    "flights = df_new.pivot_table(index=\"variable\", columns=\"season\", values=\"p_value\", aggfunc='mean')\n",
    "\n",
    "# flights = df_new.pivot(index= \"variable\", columns= \"season\",values= \"p_value\")\n",
    "fig, ax = plt.subplots(figsize=(15,10)) \n",
    "# Draw a heatmap with the numeric values in each cell\n",
    "sns.heatmap(flights, annot=True, linewidths=.5)\n",
    "plt.title(\"P values of kolmogorov-smirnov test (MN4 and Lumi) \")\n",
    "# glue = sns.load_dataset(\"glue\").pivot(index=\"Model\", columns=\"Task\", values=\"Score\")\n",
    "# sns.heatmap(glue)\n",
    "plt.savefig(\"/gpfs/scratch/dese28/dese28422/ecmean_files/figs/mn4_lumi_KS_test_p_value.png\", bbox_inches='tight')"
   ]
  },
  {
   "cell_type": "code",
   "execution_count": 51,
   "id": "1f12c2fc-ce06-4dc4-a3e3-f6dd52f6c397",
   "metadata": {},
   "outputs": [
    {
     "data": {
      "text/plain": [
       "[<matplotlib.lines.Line2D at 0x7efdb62df3d0>]"
      ]
     },
     "execution_count": 51,
     "metadata": {},
     "output_type": "execute_result"
    },
    {
     "data": {
      "image/png": "[encoded data removed]",
      "text/plain": [
       "<Figure size 640x480 with 1 Axes>"
      ]
     },
     "metadata": {},
     "output_type": "display_data"
    }
   ],
   "source": [
    "plt.plot(p_values)\n",
    "# p_values"
   ]
  },
  {
   "cell_type": "code",
   "execution_count": 22,
   "id": "df1d2784-8d88-4505-9972-b260c4a4d592",
   "metadata": {
    "scrolled": true
   },
   "outputs": [
    {
     "ename": "KeyError",
     "evalue": "'region'",
     "output_type": "error",
     "traceback": [
      "\u001b[0;31m---------------------------------------------------------------------------\u001b[0m",
      "\u001b[0;31mKeyError\u001b[0m                                  Traceback (most recent call last)",
      "File \u001b[0;32m/opt/conda/lib/python3.11/site-packages/pandas/core/indexes/base.py:3790\u001b[0m, in \u001b[0;36mIndex.get_loc\u001b[0;34m(self, key)\u001b[0m\n\u001b[1;32m   3789\u001b[0m \u001b[38;5;28;01mtry\u001b[39;00m:\n\u001b[0;32m-> 3790\u001b[0m     \u001b[38;5;28;01mreturn\u001b[39;00m \u001b[38;5;28;43mself\u001b[39;49m\u001b[38;5;241;43m.\u001b[39;49m\u001b[43m_engine\u001b[49m\u001b[38;5;241;43m.\u001b[39;49m\u001b[43mget_loc\u001b[49m\u001b[43m(\u001b[49m\u001b[43mcasted_key\u001b[49m\u001b[43m)\u001b[49m\n\u001b[1;32m   3791\u001b[0m \u001b[38;5;28;01mexcept\u001b[39;00m \u001b[38;5;167;01mKeyError\u001b[39;00m \u001b[38;5;28;01mas\u001b[39;00m err:\n",
      "File \u001b[0;32mindex.pyx:152\u001b[0m, in \u001b[0;36mpandas._libs.index.IndexEngine.get_loc\u001b[0;34m()\u001b[0m\n",
      "File \u001b[0;32mindex.pyx:181\u001b[0m, in \u001b[0;36mpandas._libs.index.IndexEngine.get_loc\u001b[0;34m()\u001b[0m\n",
      "File \u001b[0;32mpandas/_libs/hashtable_class_helper.pxi:7080\u001b[0m, in \u001b[0;36mpandas._libs.hashtable.PyObjectHashTable.get_item\u001b[0;34m()\u001b[0m\n",
      "File \u001b[0;32mpandas/_libs/hashtable_class_helper.pxi:7088\u001b[0m, in \u001b[0;36mpandas._libs.hashtable.PyObjectHashTable.get_item\u001b[0;34m()\u001b[0m\n",
      "\u001b[0;31mKeyError\u001b[0m: 'region'",
      "\nThe above exception was the direct cause of the following exception:\n",
      "\u001b[0;31mKeyError\u001b[0m                                  Traceback (most recent call last)",
      "Cell \u001b[0;32mIn[22], line 6\u001b[0m\n\u001b[1;32m      4\u001b[0m variable \u001b[38;5;241m=\u001b[39m row[\u001b[38;5;124m'\u001b[39m\u001b[38;5;124mvariable\u001b[39m\u001b[38;5;124m'\u001b[39m]\n\u001b[1;32m      5\u001b[0m season \u001b[38;5;241m=\u001b[39m row[\u001b[38;5;124m'\u001b[39m\u001b[38;5;124mseason\u001b[39m\u001b[38;5;124m'\u001b[39m]\n\u001b[0;32m----> 6\u001b[0m region \u001b[38;5;241m=\u001b[39m \u001b[43mrow\u001b[49m\u001b[43m[\u001b[49m\u001b[38;5;124;43m'\u001b[39;49m\u001b[38;5;124;43mregion\u001b[39;49m\u001b[38;5;124;43m'\u001b[39;49m\u001b[43m]\u001b[49m\n\u001b[1;32m      7\u001b[0m p_value \u001b[38;5;241m=\u001b[39m row[\u001b[38;5;124m'\u001b[39m\u001b[38;5;124mp_value\u001b[39m\u001b[38;5;124m'\u001b[39m]\n\u001b[1;32m      9\u001b[0m \u001b[38;5;28;01mif\u001b[39;00m variable \u001b[38;5;129;01mnot\u001b[39;00m \u001b[38;5;129;01min\u001b[39;00m nested_dict:\n",
      "File \u001b[0;32m/opt/conda/lib/python3.11/site-packages/pandas/core/series.py:1040\u001b[0m, in \u001b[0;36mSeries.__getitem__\u001b[0;34m(self, key)\u001b[0m\n\u001b[1;32m   1037\u001b[0m     \u001b[38;5;28;01mreturn\u001b[39;00m \u001b[38;5;28mself\u001b[39m\u001b[38;5;241m.\u001b[39m_values[key]\n\u001b[1;32m   1039\u001b[0m \u001b[38;5;28;01melif\u001b[39;00m key_is_scalar:\n\u001b[0;32m-> 1040\u001b[0m     \u001b[38;5;28;01mreturn\u001b[39;00m \u001b[38;5;28;43mself\u001b[39;49m\u001b[38;5;241;43m.\u001b[39;49m\u001b[43m_get_value\u001b[49m\u001b[43m(\u001b[49m\u001b[43mkey\u001b[49m\u001b[43m)\u001b[49m\n\u001b[1;32m   1042\u001b[0m \u001b[38;5;66;03m# Convert generator to list before going through hashable part\u001b[39;00m\n\u001b[1;32m   1043\u001b[0m \u001b[38;5;66;03m# (We will iterate through the generator there to check for slices)\u001b[39;00m\n\u001b[1;32m   1044\u001b[0m \u001b[38;5;28;01mif\u001b[39;00m is_iterator(key):\n",
      "File \u001b[0;32m/opt/conda/lib/python3.11/site-packages/pandas/core/series.py:1156\u001b[0m, in \u001b[0;36mSeries._get_value\u001b[0;34m(self, label, takeable)\u001b[0m\n\u001b[1;32m   1153\u001b[0m     \u001b[38;5;28;01mreturn\u001b[39;00m \u001b[38;5;28mself\u001b[39m\u001b[38;5;241m.\u001b[39m_values[label]\n\u001b[1;32m   1155\u001b[0m \u001b[38;5;66;03m# Similar to Index.get_value, but we do not fall back to positional\u001b[39;00m\n\u001b[0;32m-> 1156\u001b[0m loc \u001b[38;5;241m=\u001b[39m \u001b[38;5;28;43mself\u001b[39;49m\u001b[38;5;241;43m.\u001b[39;49m\u001b[43mindex\u001b[49m\u001b[38;5;241;43m.\u001b[39;49m\u001b[43mget_loc\u001b[49m\u001b[43m(\u001b[49m\u001b[43mlabel\u001b[49m\u001b[43m)\u001b[49m\n\u001b[1;32m   1158\u001b[0m \u001b[38;5;28;01mif\u001b[39;00m is_integer(loc):\n\u001b[1;32m   1159\u001b[0m     \u001b[38;5;28;01mreturn\u001b[39;00m \u001b[38;5;28mself\u001b[39m\u001b[38;5;241m.\u001b[39m_values[loc]\n",
      "File \u001b[0;32m/opt/conda/lib/python3.11/site-packages/pandas/core/indexes/base.py:3797\u001b[0m, in \u001b[0;36mIndex.get_loc\u001b[0;34m(self, key)\u001b[0m\n\u001b[1;32m   3792\u001b[0m     \u001b[38;5;28;01mif\u001b[39;00m \u001b[38;5;28misinstance\u001b[39m(casted_key, \u001b[38;5;28mslice\u001b[39m) \u001b[38;5;129;01mor\u001b[39;00m (\n\u001b[1;32m   3793\u001b[0m         \u001b[38;5;28misinstance\u001b[39m(casted_key, abc\u001b[38;5;241m.\u001b[39mIterable)\n\u001b[1;32m   3794\u001b[0m         \u001b[38;5;129;01mand\u001b[39;00m \u001b[38;5;28many\u001b[39m(\u001b[38;5;28misinstance\u001b[39m(x, \u001b[38;5;28mslice\u001b[39m) \u001b[38;5;28;01mfor\u001b[39;00m x \u001b[38;5;129;01min\u001b[39;00m casted_key)\n\u001b[1;32m   3795\u001b[0m     ):\n\u001b[1;32m   3796\u001b[0m         \u001b[38;5;28;01mraise\u001b[39;00m InvalidIndexError(key)\n\u001b[0;32m-> 3797\u001b[0m     \u001b[38;5;28;01mraise\u001b[39;00m \u001b[38;5;167;01mKeyError\u001b[39;00m(key) \u001b[38;5;28;01mfrom\u001b[39;00m \u001b[38;5;21;01merr\u001b[39;00m\n\u001b[1;32m   3798\u001b[0m \u001b[38;5;28;01mexcept\u001b[39;00m \u001b[38;5;167;01mTypeError\u001b[39;00m:\n\u001b[1;32m   3799\u001b[0m     \u001b[38;5;66;03m# If we have a listlike key, _check_indexing_error will raise\u001b[39;00m\n\u001b[1;32m   3800\u001b[0m     \u001b[38;5;66;03m#  InvalidIndexError. Otherwise we fall through and re-raise\u001b[39;00m\n\u001b[1;32m   3801\u001b[0m     \u001b[38;5;66;03m#  the TypeError.\u001b[39;00m\n\u001b[1;32m   3802\u001b[0m     \u001b[38;5;28mself\u001b[39m\u001b[38;5;241m.\u001b[39m_check_indexing_error(key)\n",
      "\u001b[0;31mKeyError\u001b[0m: 'region'"
     ]
    }
   ],
   "source": [
    "nested_dict = {}\n",
    "\n",
    "for _, row in df_new.iterrows():\n",
    "    variable = row['variable']\n",
    "    season = row['season']\n",
    "    region = row['region']\n",
    "    p_value = row['p_value']\n",
    "\n",
    "    if variable not in nested_dict:\n",
    "        nested_dict[variable] = {}\n",
    "\n",
    "    if season not in nested_dict[variable]:\n",
    "        nested_dict[variable][season] = {}\n",
    "\n",
    "    nested_dict[variable][season][region] = p_value\n",
    "\n",
    "nested_dict"
   ]
  },
  {
   "cell_type": "code",
   "execution_count": 30,
   "id": "8f18f1cd-4c40-49b8-8f3b-22323d1ae8ff",
   "metadata": {},
   "outputs": [],
   "source": [
    "dump_yaml(\"/gpfs/scratch/dese28/dese28422/ecmean_files/YAML/mn4_lumi_KS_test_p_value.yml\", nested_dict)"
   ]
  },
  {
   "cell_type": "code",
   "execution_count": null,
   "id": "91a45aa7-346b-4e9a-9d2b-f2a7e7700710",
   "metadata": {},
   "outputs": [],
   "source": []
  }
 ],
 "metadata": {
  "kernelspec": {
   "display_name": "Python 3 (ipykernel)",
   "language": "python",
   "name": "python3"
  },
  "language_info": {
   "codemirror_mode": {
    "name": "ipython",
    "version": 3
   },
   "file_extension": ".py",
   "mimetype": "text/x-python",
   "name": "python",
   "nbconvert_exporter": "python",
   "pygments_lexer": "ipython3",
   "version": "3.11.6"
  }
 },
 "nbformat": 4,
 "nbformat_minor": 5
}
