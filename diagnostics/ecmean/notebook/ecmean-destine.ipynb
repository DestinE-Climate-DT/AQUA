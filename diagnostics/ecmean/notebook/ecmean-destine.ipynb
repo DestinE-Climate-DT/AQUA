{
 "cells": [
  {
   "cell_type": "markdown",
   "metadata": {},
   "source": [
    "# Demo to run ECmean4 functions within the AQUA framework\n",
    "\n",
    "We load the AQUA module and the ECmean functions"
   ]
  },
  {
   "cell_type": "code",
   "execution_count": 8,
   "metadata": {},
   "outputs": [],
   "source": [
    "from aqua import Reader\n",
    "from ecmean.global_mean import global_mean\n",
    "from ecmean.performance_indices import performance_indices\n",
    "#from wand.image import Image as WImage # to open PDFs in jupyter\n",
    "\n",
    "model = 'IFS-NEMO'\n",
    "exp = 'historical-1990'\n",
    "year1 = 1990\n",
    "year2 = 1994\n",
    "numproc = 1\n",
    "interface = '../config/interface_AQUA_destine-v1.yml'\n",
    "config = '../config/ecmean_config_destine-v1.yml'"
   ]
  },
  {
   "cell_type": "markdown",
   "metadata": {},
   "source": [
    "*Important*: before proceeding please edit the output directories in `config/config.yaml`"
   ]
  },
  {
   "cell_type": "code",
   "execution_count": 3,
   "metadata": {},
   "outputs": [
    {
     "name": "stderr",
     "output_type": "stream",
     "text": [
      "/LUMI_TYKKY_qPUQAS4/miniconda/envs/env1/lib/python3.11/site-packages/xarray/core/utils.py:494: FutureWarning: The return type of `Dataset.dims` will be changed to return a set of dimension names in future, in order to be more consistent with `DataArray.dims`. To access a mapping from dimension names to lengths, please use `Dataset.sizes`.\n",
      "  warnings.warn(\n"
     ]
    }
   ],
   "source": [
    "reader = Reader(model=model, exp=exp, source=\"lra-r100-monthly\", areas=False, fix=False)\n",
    "data = reader.retrieve()\n",
    "data"
   ]
  },
  {
   "cell_type": "markdown",
   "metadata": {},
   "source": [
    "# Performance indices\n",
    "Basic call to performance indices"
   ]
  },
  {
   "cell_type": "code",
   "execution_count": 10,
   "metadata": {},
   "outputs": [
    {
     "name": "stderr",
     "output_type": "stream",
     "text": [
      "2024-01-19 11:38:56 | ecmean.libs.diagnostic |  WARNING -> You asked to use your own xarray dataset/datarray...\n"
     ]
    },
    {
     "name": "stdout",
     "output_type": "stream",
     "text": [
      "Welcome to ECmean4 v0.1.6: Running performance_indices!\n"
     ]
    },
    {
     "name": "stderr",
     "output_type": "stream",
     "text": [
      "2024-01-19 11:39:00 | ecmean |  WARNING -> Preproc in 4.0333 seconds\n"
     ]
    },
    {
     "name": "stdout",
     "output_type": "stream",
     "text": [
      "PI for Global ALL ta 19.118\n",
      "PI for Global DJF ta 9.761\n",
      "PI for Global JJA ta 14.316\n",
      "PI for Global ALL ua 1.409\n",
      "PI for Global DJF ua 2.455\n",
      "PI for Global JJA ua 2.588\n",
      "PI for Global ALL va 1.424\n",
      "PI for Global DJF va 2.172\n",
      "PI for Global JJA va 1.753\n",
      "PI for Global ALL hus 34.717\n",
      "PI for Global DJF hus 24.597\n",
      "PI for Global JJA hus 22.874\n",
      "PI for Global ALL tas 37.35\n",
      "PI for Global DJF tas 24.159\n",
      "PI for Global JJA tas 25.826\n",
      "PI for Global ALL pr 1.425\n",
      "PI for Global DJF pr 1.437\n",
      "PI for Global JJA pr 0.955\n",
      "PI for Global ALL psl 1.681\n",
      "PI for Global DJF psl 0.875\n",
      "PI for Global JJA psl 2.372\n",
      "PI for Global ALL tauu 3.492\n",
      "PI for Global DJF tauu 3.985\n",
      "PI for Global JJA tauu 3.027\n",
      "PI for Global ALL tauv 2.355\n",
      "PI for Global DJF tauv 2.494\n",
      "PI for Global JJA tauv 2.484\n",
      "PI for Global ALL tos 9.41\n",
      "PI for Global DJF tos 4.835\n",
      "PI for Global JJA tos 5.886\n",
      "PI for Global ALL sos 3.734\n",
      "PI for Global DJF sos 2.592\n",
      "PI for Global JJA sos 3.301\n"
     ]
    },
    {
     "name": "stderr",
     "output_type": "stream",
     "text": [
      "2024-01-19 11:39:16 | ecmean |  WARNING -> Done in 15.7975 seconds with 1 processors\n",
      "2024-01-19 11:39:22 | ecmean |  WARNING -> Postproc done in 5.5147 seconds\n"
     ]
    }
   ],
   "source": [
    "performance_indices(exp, year1, year2, numproc = numproc, config = config, \n",
    "            interface = interface, loglevel = 'warning', xdataset = data)"
   ]
  }
 ],
 "metadata": {
  "kernelspec": {
   "display_name": "Python 3",
   "language": "python",
   "name": "python3"
  },
  "language_info": {
   "codemirror_mode": {
    "name": "ipython",
    "version": 3
   },
   "file_extension": ".py",
   "mimetype": "text/x-python",
   "name": "python",
   "nbconvert_exporter": "python",
   "pygments_lexer": "ipython3",
   "version": "3.11.7"
  }
 },
 "nbformat": 4,
 "nbformat_minor": 2
}
