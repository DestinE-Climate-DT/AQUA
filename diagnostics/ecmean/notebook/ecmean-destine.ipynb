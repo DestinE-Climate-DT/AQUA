{
 "cells": [
  {
   "cell_type": "markdown",
   "metadata": {},
   "source": [
    "# Climate DT historical runs: ECmean4 within the AQUA framework \n",
    "\n",
    "We load the AQUA module and the ECmean functions. \n",
    "Configuration files (which tells ECmean where output should be written and the mask are) as well as interface file (which defines the Climate DT filename communication between AQUA and ECmean) should be loaded.\n",
    "We will run the ECmean code on both IFS-NEMO and ICON `historical-1990` experiment, for which we can get a serious assessment of the model skill."
   ]
  },
  {
   "cell_type": "code",
   "execution_count": 4,
   "metadata": {},
   "outputs": [],
   "source": [
    "from aqua import Reader\n",
    "#from ecmean.global_mean import global_mean\n",
    "from ecmean.performance_indices import performance_indices\n",
    "\n",
    "models = ['IFS-NEMO', 'ICON']\n",
    "exp = 'historical-1990'\n",
    "year1 = 1990\n",
    "year2 = 2001\n",
    "numproc = 1\n",
    "interface = '../config/interface_AQUA_destine-v1.yml'\n",
    "config = '../config/ecmean_config_destine-v1.yml'"
   ]
  },
  {
   "cell_type": "markdown",
   "metadata": {},
   "source": [
    "*Important*: before proceeding please edit the output directories in `config/config.yaml`, especially if you move from Lumi to another machine\n",
    "\n",
    "Now you can load the data from the LRA, looping on the two models and running the performance indices"
   ]
  },
  {
   "cell_type": "code",
   "execution_count": 5,
   "metadata": {},
   "outputs": [
    {
     "name": "stderr",
     "output_type": "stream",
     "text": [
      "\u001b[38;2;255;165;0m2024-04-11 13:34:03 :: Reader :: WARNING  -> DATA_PATH parameter is required but is missing, setting to default /pfs/lustrep3/projappl/project_465000454/data/AQUA/datasets\u001b[0m\n",
      "2024-04-11 13:35:42 | ecmean.libs.diagnostic |  WARNING -> You asked to use your own xarray dataset/datarray...\n"
     ]
    },
    {
     "name": "stdout",
     "output_type": "stream",
     "text": [
      "Welcome to ECmean4 v0.1.6: Running performance_indices!\n"
     ]
    },
    {
     "name": "stderr",
     "output_type": "stream",
     "text": [
      "2024-04-11 13:35:51 | ecmean |  WARNING -> Preproc in 8.9066 seconds\n"
     ]
    },
    {
     "name": "stdout",
     "output_type": "stream",
     "text": [
      "PI for Global ALL ta 22.592\n",
      "PI for Global DJF ta 11.519\n",
      "PI for Global JJA ta 17.205\n",
      "PI for Global ALL ua 1.49\n",
      "PI for Global DJF ua 1.929\n",
      "PI for Global JJA ua 2.474\n",
      "PI for Global ALL va 1.534\n",
      "PI for Global DJF va 2.098\n",
      "PI for Global JJA va 1.756\n",
      "PI for Global ALL hus 30.621\n",
      "PI for Global DJF hus 21.671\n",
      "PI for Global JJA hus 19.948\n",
      "PI for Global ALL net_sfc 3.766\n",
      "PI for Global DJF net_sfc 8.547\n",
      "PI for Global JJA net_sfc 3.678\n",
      "PI for Global ALL tas 37.476\n",
      "PI for Global DJF tas 24.521\n",
      "PI for Global JJA tas 26.334\n",
      "PI for Global ALL pr 1.374\n",
      "PI for Global DJF pr 1.223\n",
      "PI for Global JJA pr 0.93\n",
      "PI for Global ALL psl 1.756\n",
      "PI for Global DJF psl 0.747\n",
      "PI for Global JJA psl 2.024\n",
      "PI for Global ALL tauu 3.354\n",
      "PI for Global DJF tauu 3.134\n",
      "PI for Global JJA tauu 2.921\n",
      "PI for Global ALL tauv 2.704\n",
      "PI for Global DJF tauv 2.235\n",
      "PI for Global JJA tauv 2.53\n",
      "PI for Global ALL tos 11.157\n",
      "PI for Global DJF tos 5.683\n",
      "PI for Global JJA tos 6.874\n",
      "PI for Global ALL sos 3.092\n",
      "PI for Global DJF sos 2.153\n",
      "PI for Global JJA sos 2.949\n"
     ]
    },
    {
     "name": "stderr",
     "output_type": "stream",
     "text": [
      "Process Process-2:\n",
      "Traceback (most recent call last):\n",
      "  File \"/LUMI_TYKKY_6Vcmq6S/miniconda/envs/env1/lib/python3.12/multiprocessing/process.py\", line 314, in _bootstrap\n",
      "    self.run()\n",
      "  File \"/LUMI_TYKKY_6Vcmq6S/miniconda/envs/env1/lib/python3.12/multiprocessing/process.py\", line 108, in run\n",
      "    self._target(*self._args, **self._kwargs)\n",
      "  File \"/LUMI_TYKKY_6Vcmq6S/miniconda/envs/env1/lib/python3.12/site-packages/ecmean/performance_indices.py\", line 81, in pi_worker\n",
      "    units_handler = UnitsHandler(var, org_units=varunit, clim=piclim, face=face)\n",
      "                    ^^^^^^^^^^^^^^^^^^^^^^^^^^^^^^^^^^^^^^^^^^^^^^^^^^^^^^^^^^^^\n",
      "  File \"/LUMI_TYKKY_6Vcmq6S/miniconda/envs/env1/lib/python3.12/site-packages/ecmean/libs/units.py\", line 61, in __init__\n",
      "    self.parse_units()\n",
      "  File \"/LUMI_TYKKY_6Vcmq6S/miniconda/envs/env1/lib/python3.12/site-packages/ecmean/libs/units.py\", line 87, in parse_units\n",
      "    self.org_units = units(self.org_units)\n",
      "                     ^^^^^^^^^^^^^^^^^^^^^\n",
      "  File \"/LUMI_TYKKY_6Vcmq6S/miniconda/envs/env1/lib/python3.12/site-packages/pint/registry.py\", line 264, in __call__\n",
      "    return self._registry(*args, **kwargs)\n",
      "           ^^^^^^^^^^^^^^^^^^^^^^^^^^^^^^^\n",
      "  File \"/LUMI_TYKKY_6Vcmq6S/miniconda/envs/env1/lib/python3.12/site-packages/pint/facets/plain/registry.py\", line 1388, in parse_expression\n",
      "    return build_eval_tree(gen).evaluate(_define_op)\n",
      "           ^^^^^^^^^^^^^^^^^^^^^^^^^^^^^^^^^^^^^^^^^\n",
      "  File \"/LUMI_TYKKY_6Vcmq6S/miniconda/envs/env1/lib/python3.12/site-packages/pint/pint_eval.py\", line 396, in evaluate\n",
      "    return define_op(self.left)\n",
      "           ^^^^^^^^^^^^^^^^^^^^\n",
      "  File \"/LUMI_TYKKY_6Vcmq6S/miniconda/envs/env1/lib/python3.12/site-packages/pint/facets/plain/registry.py\", line 1386, in _define_op\n",
      "    return self._eval_token(s, case_sensitive=case_sensitive, **values)\n",
      "           ^^^^^^^^^^^^^^^^^^^^^^^^^^^^^^^^^^^^^^^^^^^^^^^^^^^^^^^^^^^^\n",
      "  File \"/LUMI_TYKKY_6Vcmq6S/miniconda/envs/env1/lib/python3.12/site-packages/pint/facets/plain/registry.py\", line 1295, in _eval_token\n",
      "    {self.get_name(token_text, case_sensitive=case_sensitive): 1}\n",
      "     ^^^^^^^^^^^^^^^^^^^^^^^^^^^^^^^^^^^^^^^^^^^^^^^^^^^^^^^^\n",
      "  File \"/LUMI_TYKKY_6Vcmq6S/miniconda/envs/env1/lib/python3.12/site-packages/pint/facets/plain/registry.py\", line 647, in get_name\n",
      "    raise UndefinedUnitError(name_or_alias)\n",
      "pint.errors.UndefinedUnitError: 'Fraction' is not defined in the unit registry\n",
      "2024-04-11 13:42:27 | ecmean |  WARNING -> Done in 395.9858 seconds with 1 processors\n"
     ]
    },
    {
     "ename": "KeyError",
     "evalue": "'siconc'",
     "output_type": "error",
     "traceback": [
      "\u001b[0;31m---------------------------------------------------------------------------\u001b[0m",
      "\u001b[0;31mKeyError\u001b[0m                                  Traceback (most recent call last)",
      "Cell \u001b[0;32mIn[5], line 4\u001b[0m\n\u001b[1;32m      2\u001b[0m reader \u001b[38;5;241m=\u001b[39m Reader(model\u001b[38;5;241m=\u001b[39mmodel, exp\u001b[38;5;241m=\u001b[39mexp, source\u001b[38;5;241m=\u001b[39m\u001b[38;5;124m\"\u001b[39m\u001b[38;5;124mlra-r100-monthly\u001b[39m\u001b[38;5;124m\"\u001b[39m, fix\u001b[38;5;241m=\u001b[39m\u001b[38;5;28;01mFalse\u001b[39;00m)\n\u001b[1;32m      3\u001b[0m data \u001b[38;5;241m=\u001b[39m reader\u001b[38;5;241m.\u001b[39mretrieve()\n\u001b[0;32m----> 4\u001b[0m \u001b[43mperformance_indices\u001b[49m\u001b[43m(\u001b[49m\u001b[43mexp\u001b[49m\u001b[43m,\u001b[49m\u001b[43m \u001b[49m\u001b[43myear1\u001b[49m\u001b[43m,\u001b[49m\u001b[43m \u001b[49m\u001b[43myear2\u001b[49m\u001b[43m,\u001b[49m\u001b[43m \u001b[49m\u001b[43mnumproc\u001b[49m\u001b[43m \u001b[49m\u001b[38;5;241;43m=\u001b[39;49m\u001b[43m \u001b[49m\u001b[43mnumproc\u001b[49m\u001b[43m,\u001b[49m\u001b[43m \u001b[49m\u001b[43mconfig\u001b[49m\u001b[43m \u001b[49m\u001b[38;5;241;43m=\u001b[39;49m\u001b[43m \u001b[49m\u001b[43mconfig\u001b[49m\u001b[43m,\u001b[49m\u001b[43m \u001b[49m\u001b[43mmodel\u001b[49m\u001b[43m \u001b[49m\u001b[38;5;241;43m=\u001b[39;49m\u001b[43m \u001b[49m\u001b[43mmodel\u001b[49m\u001b[43m,\u001b[49m\u001b[43m \u001b[49m\n\u001b[1;32m      5\u001b[0m \u001b[43m        \u001b[49m\u001b[43minterface\u001b[49m\u001b[43m \u001b[49m\u001b[38;5;241;43m=\u001b[39;49m\u001b[43m \u001b[49m\u001b[43minterface\u001b[49m\u001b[43m,\u001b[49m\u001b[43m \u001b[49m\u001b[43mloglevel\u001b[49m\u001b[43m \u001b[49m\u001b[38;5;241;43m=\u001b[39;49m\u001b[43m \u001b[49m\u001b[38;5;124;43m'\u001b[39;49m\u001b[38;5;124;43mwarning\u001b[39;49m\u001b[38;5;124;43m'\u001b[39;49m\u001b[43m,\u001b[49m\u001b[43m \u001b[49m\u001b[43mxdataset\u001b[49m\u001b[43m \u001b[49m\u001b[38;5;241;43m=\u001b[39;49m\u001b[43m \u001b[49m\u001b[43mdata\u001b[49m\u001b[43m)\u001b[49m\n",
      "File \u001b[0;32m/LUMI_TYKKY_6Vcmq6S/miniconda/envs/env1/lib/python3.12/site-packages/ecmean/performance_indices.py:323\u001b[0m, in \u001b[0;36mperformance_indices\u001b[0;34m(exp, year1, year2, config, loglevel, numproc, climatology, interface, model, ensemble, silent, xdataset, outputdir)\u001b[0m\n\u001b[1;32m    321\u001b[0m ordered \u001b[38;5;241m=\u001b[39m {}\n\u001b[1;32m    322\u001b[0m \u001b[38;5;28;01mfor\u001b[39;00m item \u001b[38;5;129;01min\u001b[39;00m diag\u001b[38;5;241m.\u001b[39mfield_all:\n\u001b[0;32m--> 323\u001b[0m     ordered[item] \u001b[38;5;241m=\u001b[39m \u001b[43mvarstat\u001b[49m\u001b[43m[\u001b[49m\u001b[43mitem\u001b[49m\u001b[43m]\u001b[49m\n\u001b[1;32m    325\u001b[0m \u001b[38;5;66;03m# dump the yaml file for PI, including all the seasons (need to copy to avoid mess)\u001b[39;00m\n\u001b[1;32m    326\u001b[0m yamlfile \u001b[38;5;241m=\u001b[39m diag\u001b[38;5;241m.\u001b[39mtabdir \u001b[38;5;241m/\u001b[39m \\\n\u001b[1;32m    327\u001b[0m     \u001b[38;5;124mf\u001b[39m\u001b[38;5;124m'\u001b[39m\u001b[38;5;124mPI4_\u001b[39m\u001b[38;5;132;01m{\u001b[39;00mdiag\u001b[38;5;241m.\u001b[39mclimatology\u001b[38;5;132;01m}\u001b[39;00m\u001b[38;5;124m_\u001b[39m\u001b[38;5;132;01m{\u001b[39;00mdiag\u001b[38;5;241m.\u001b[39mexpname\u001b[38;5;132;01m}\u001b[39;00m\u001b[38;5;124m_\u001b[39m\u001b[38;5;132;01m{\u001b[39;00mdiag\u001b[38;5;241m.\u001b[39mmodelname\u001b[38;5;132;01m}\u001b[39;00m\u001b[38;5;124m_r1i1p1f1_\u001b[39m\u001b[38;5;132;01m{\u001b[39;00mdiag\u001b[38;5;241m.\u001b[39myear1\u001b[38;5;132;01m}\u001b[39;00m\u001b[38;5;124m_\u001b[39m\u001b[38;5;132;01m{\u001b[39;00mdiag\u001b[38;5;241m.\u001b[39myear2\u001b[38;5;132;01m}\u001b[39;00m\u001b[38;5;124m.yml\u001b[39m\u001b[38;5;124m'\u001b[39m\n",
      "File \u001b[0;32m<string>:2\u001b[0m, in \u001b[0;36m__getitem__\u001b[0;34m(self, *args, **kwds)\u001b[0m\n",
      "File \u001b[0;32m/LUMI_TYKKY_6Vcmq6S/miniconda/envs/env1/lib/python3.12/multiprocessing/managers.py:836\u001b[0m, in \u001b[0;36mBaseProxy._callmethod\u001b[0;34m(self, methodname, args, kwds)\u001b[0m\n\u001b[1;32m    834\u001b[0m     dispatch(conn, \u001b[38;5;28;01mNone\u001b[39;00m, \u001b[38;5;124m'\u001b[39m\u001b[38;5;124mdecref\u001b[39m\u001b[38;5;124m'\u001b[39m, (token\u001b[38;5;241m.\u001b[39mid,))\n\u001b[1;32m    835\u001b[0m     \u001b[38;5;28;01mreturn\u001b[39;00m proxy\n\u001b[0;32m--> 836\u001b[0m \u001b[38;5;28;01mraise\u001b[39;00m convert_to_error(kind, result)\n",
      "File \u001b[0;32m/LUMI_TYKKY_6Vcmq6S/miniconda/envs/env1/lib/python3.12/multiprocessing/managers.py:273\u001b[0m, in \u001b[0;36mserve_client\u001b[0;34m()\u001b[0m\n\u001b[1;32m    270\u001b[0m function \u001b[38;5;241m=\u001b[39m \u001b[38;5;28mgetattr\u001b[39m(obj, methodname)\n\u001b[1;32m    272\u001b[0m \u001b[38;5;28;01mtry\u001b[39;00m:\n\u001b[0;32m--> 273\u001b[0m     res \u001b[38;5;241m=\u001b[39m function(\u001b[38;5;241m*\u001b[39margs, \u001b[38;5;241m*\u001b[39m\u001b[38;5;241m*\u001b[39mkwds)\n\u001b[1;32m    274\u001b[0m \u001b[38;5;28;01mexcept\u001b[39;00m \u001b[38;5;167;01mException\u001b[39;00m \u001b[38;5;28;01mas\u001b[39;00m e:\n\u001b[1;32m    275\u001b[0m     msg \u001b[38;5;241m=\u001b[39m (\u001b[38;5;124m'\u001b[39m\u001b[38;5;124m#ERROR\u001b[39m\u001b[38;5;124m'\u001b[39m, e)\n",
      "\u001b[0;31mKeyError\u001b[0m: 'siconc'"
     ]
    }
   ],
   "source": [
    "for model in models: \n",
    "    reader = Reader(model=model, exp=exp, source=\"lra-r100-monthly\", fix=False)\n",
    "    data = reader.retrieve()\n",
    "    performance_indices(exp, year1, year2, numproc = numproc, config = config, model = model, \n",
    "            interface = interface, loglevel = 'warning', xdataset = data)"
   ]
  }
 ],
 "metadata": {
  "kernelspec": {
   "display_name": "Python 3",
   "language": "python",
   "name": "python3"
  },
  "language_info": {
   "codemirror_mode": {
    "name": "ipython",
    "version": 3
   },
   "file_extension": ".py",
   "mimetype": "text/x-python",
   "name": "python",
   "nbconvert_exporter": "python",
   "pygments_lexer": "ipython3",
   "version": "3.12.2"
  }
 },
 "nbformat": 4,
 "nbformat_minor": 2
}
