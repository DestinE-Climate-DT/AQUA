{
 "cells": [
  {
   "cell_type": "code",
   "execution_count": 1,
   "metadata": {},
   "outputs": [
    {
     "name": "stdout",
     "output_type": "stream",
     "text": [
      "/home/b/b382397/AQUA/diagnostics/ocean_circulation\n"
     ]
    }
   ],
   "source": [
    "import os\n",
    "os.chdir(\"..\")\n",
    "print(os.getcwd())"
   ]
  },
  {
   "cell_type": "code",
   "execution_count": 2,
   "metadata": {
    "tags": []
   },
   "outputs": [
    {
     "name": "stdout",
     "output_type": "stream",
     "text": [
      "FDB5 binary library not present on system, disabling FDB support.\n"
     ]
    }
   ],
   "source": [
    "%load_ext autoreload\n",
    "%autoreload 2\n",
    "from aqua import Reader,catalogue, inspect_catalogue\n",
    "import ocean_circulation_func as fn\n",
    "from aqua.util import load_yaml"
   ]
  },
  {
   "cell_type": "code",
   "execution_count": 3,
   "metadata": {},
   "outputs": [],
   "source": [
    "# Here we load the EN4 observations\n",
    "reader = Reader(model='EN4',exp='en4',source='monthly')\n",
    "den4=reader.retrieve()\n",
    "den4=den4.rename({\"depth\":\"lev\"}) # We standardise the name for the vertical dimension\n",
    "den4=den4[[\"ocpt\",\"so\"]].resample(time=\"M\").mean()  # And we keep only the relevant variables in the dataset"
   ]
  },
  {
   "cell_type": "code",
   "execution_count": 4,
   "metadata": {},
   "outputs": [],
   "source": [
    "# Here we load the data of a model (chosen from the catalog as an example )\n",
    "reader = Reader(model='FESOM', exp='tco2559-ng5-cycle3', source=\"lra-r100-monthly\")\n",
    "dmod = reader.retrieve()\n",
    "\n",
    "dmod=dmod.rename({\"nz1\":\"lev\"}) # We standardise the name for the vertical dimension\n",
    "dmod=dmod[[\"ocpt\",\"so\"]].resample(time=\"M\").mean() # And we keep only the relevant variables in the dataset"
   ]
  },
  {
   "cell_type": "code",
   "execution_count": null,
   "metadata": {},
   "outputs": [],
   "source": []
  },
  {
   "cell_type": "code",
   "execution_count": 5,
   "metadata": {},
   "outputs": [
    {
     "name": "stderr",
     "output_type": "stream",
     "text": [
      "2023-07-07 09:18:20,959 - INFO -  data slicing for this region, latitude 50.0 to 65.0, longitude 300.0 to 325.0\n",
      "2023-07-07 09:18:20,995 - INFO -  data slicing for this region, latitude 50.0 to 65.0, longitude 300.0 to 325.0\n"
     ]
    }
   ],
   "source": [
    "# Here we compute the regional average of temperature and salinity in the Labrador Sea region (other regions can be selected/defined) \n",
    "dmod_ls_mean=fn.weighted_area_mean(dmod, 'Labrador Sea') # In the model (monthly)\n",
    "den4_ls_mean=fn.weighted_area_mean(den4, 'Labrador Sea') # In the obs (monthly)\n",
    "# Other predefined regions are the 'Irminger Sea', the 'GIN Seas', the 'Southern Ocean' and the 'Weddell Sea'"
   ]
  },
  {
   "cell_type": "code",
   "execution_count": 6,
   "metadata": {},
   "outputs": [],
   "source": [
    "# Here we compute the density values (referred to the surface level, sigma0) first for the Labrador Sea \n",
    "rho_t_s_labrador_mod= fn.convert_variables(dmod_ls_mean) # In the model (monthly)\n",
    "rho_t_s_labrador_en4= fn.convert_variables(den4_ls_mean) # In the obs (monthly)"
   ]
  },
  {
   "cell_type": "code",
   "execution_count": 7,
   "metadata": {},
   "outputs": [
    {
     "name": "stdout",
     "output_type": "stream",
     "text": [
      "The autoreload extension is already loaded. To reload it, use:\n",
      "  %reload_ext autoreload\n"
     ]
    }
   ],
   "source": [
    "%load_ext autoreload\n",
    "%autoreload 2\n",
    "from aqua import Reader,catalogue, inspect_catalogue\n",
    "import ocean_circulation_func as fn\n",
    "from aqua.util import load_yaml"
   ]
  },
  {
   "cell_type": "code",
   "execution_count": 8,
   "metadata": {},
   "outputs": [],
   "source": [
    "config = load_yaml(\"config.yaml\")\n",
    "outputfig= config[\"outputfig\"]\n"
   ]
  },
  {
   "cell_type": "code",
   "execution_count": 9,
   "metadata": {},
   "outputs": [
    {
     "ename": "AttributeError",
     "evalue": "'Dataset' object has no attribute 'rho'",
     "output_type": "error",
     "traceback": [
      "\u001b[0;31m---------------------------------------------------------------------------\u001b[0m",
      "\u001b[0;31mAttributeError\u001b[0m                            Traceback (most recent call last)",
      "Cell \u001b[0;32mIn[9], line 1\u001b[0m\n\u001b[0;32m----> 1\u001b[0m fn\u001b[39m.\u001b[39;49mplot_stratification(dmod, region\u001b[39m=\u001b[39;49m \u001b[39m\"\u001b[39;49m\u001b[39mLabrador Sea\u001b[39;49m\u001b[39m\"\u001b[39;49m, time \u001b[39m=\u001b[39;49m \u001b[39m\"\u001b[39;49m\u001b[39mApr\u001b[39;49m\u001b[39m\"\u001b[39;49m, outputfig\u001b[39m=\u001b[39;49m\u001b[39m\"\u001b[39;49m\u001b[39m./figs\u001b[39;49m\u001b[39m\"\u001b[39;49m)\n",
      "File \u001b[0;32m~/AQUA/diagnostics/ocean_circulation/ocean_circulation_func.py:705\u001b[0m, in \u001b[0;36mplot_stratification\u001b[0;34m(mod_data, region, time, latS, latN, lonW, lonE, outputfig)\u001b[0m\n\u001b[1;32m    702\u001b[0m obs_data\u001b[39m=\u001b[39m load_obs_data()\u001b[39m.\u001b[39minterp(lev\u001b[39m=\u001b[39mmod_data\u001b[39m.\u001b[39mlev)\n\u001b[1;32m    703\u001b[0m obs_data\u001b[39m=\u001b[39m crop_obs_overlap_time(mod_data, obs_data)\n\u001b[0;32m--> 705\u001b[0m obs_data\u001b[39m.\u001b[39mrho \u001b[39m=\u001b[39m obs_data\u001b[39m.\u001b[39;49mrho \u001b[39m-\u001b[39m\u001b[39m1000\u001b[39m\n\u001b[1;32m    706\u001b[0m mod_data\u001b[39m.\u001b[39mrho \u001b[39m=\u001b[39m mod_data\u001b[39m.\u001b[39mrho \u001b[39m-\u001b[39m\u001b[39m1000\u001b[39m\n\u001b[1;32m    708\u001b[0m obs_data \u001b[39m=\u001b[39m prepare_data_for_stratification_plot(obs_data, region, time, latS, latN, lonE, lonW)\n",
      "File \u001b[0;32m~/.conda/envs/aqua/lib/python3.10/site-packages/xarray/core/common.py:278\u001b[0m, in \u001b[0;36mAttrAccessMixin.__getattr__\u001b[0;34m(self, name)\u001b[0m\n\u001b[1;32m    276\u001b[0m         \u001b[39mwith\u001b[39;00m suppress(\u001b[39mKeyError\u001b[39;00m):\n\u001b[1;32m    277\u001b[0m             \u001b[39mreturn\u001b[39;00m source[name]\n\u001b[0;32m--> 278\u001b[0m \u001b[39mraise\u001b[39;00m \u001b[39mAttributeError\u001b[39;00m(\n\u001b[1;32m    279\u001b[0m     \u001b[39mf\u001b[39m\u001b[39m\"\u001b[39m\u001b[39m{\u001b[39;00m\u001b[39mtype\u001b[39m(\u001b[39mself\u001b[39m)\u001b[39m.\u001b[39m\u001b[39m__name__\u001b[39m\u001b[39m!r}\u001b[39;00m\u001b[39m object has no attribute \u001b[39m\u001b[39m{\u001b[39;00mname\u001b[39m!r}\u001b[39;00m\u001b[39m\"\u001b[39m\n\u001b[1;32m    280\u001b[0m )\n",
      "\u001b[0;31mAttributeError\u001b[0m: 'Dataset' object has no attribute 'rho'"
     ]
    }
   ],
   "source": [
    "fn.plot_stratification(dmod, region= \"Labrador Sea\", time = \"Apr\", outputfig=\"./figs\")"
   ]
  },
  {
   "cell_type": "code",
   "execution_count": null,
   "metadata": {},
   "outputs": [],
   "source": []
  }
 ],
 "metadata": {
  "kernelspec": {
   "display_name": "aqua",
   "language": "python",
   "name": "aqua"
  },
  "language_info": {
   "codemirror_mode": {
    "name": "ipython",
    "version": 3
   },
   "file_extension": ".py",
   "mimetype": "text/x-python",
   "name": "python",
   "nbconvert_exporter": "python",
   "pygments_lexer": "ipython3",
   "version": "3.10.11"
  }
 },
 "nbformat": 4,
 "nbformat_minor": 4
}
