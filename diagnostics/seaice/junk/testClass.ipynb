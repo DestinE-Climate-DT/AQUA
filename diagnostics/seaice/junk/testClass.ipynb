{
 "cells": [
  {
   "cell_type": "code",
   "execution_count": 12,
   "metadata": {},
   "outputs": [],
   "source": [
    "from aqua import Reader, catalogue, inspect_catalogue\n",
    "from seaice_commondiags import *\n",
    "import xarray as xr\n",
    "from dask.distributed import Client\n",
    "import dask\n",
    "import matplotlib.pyplot as plt"
   ]
  },
  {
   "cell_type": "code",
   "execution_count": 25,
   "metadata": {},
   "outputs": [],
   "source": [
    "class SeaIceDiagnostics:\n",
    "    def __init__(self):\n",
    "        #self.cat = catalogue()\n",
    "        self.mesh = xr.open_dataset('/work/bm1235/a270046/meshes/NG5_griddes_nodes_IFS.nc')\n",
    "        self.client = Client(n_workers=20, threads_per_worker=1, memory_limit='4GB')\n",
    "\n",
    "    def inspect_catalog(self):\n",
    "        inspect_catalogue(self.cat)\n",
    "\n",
    "    def retrieve_data(self, model = \"FESOM\",\n",
    "                            exp=\"tco2559-ng5\",\n",
    "                            source=\"original_2d\",\n",
    "                            regrid=\"r025\",\n",
    "                            var=\"a_ice\"):\n",
    "        reader = Reader(model = model,exp= exp,\n",
    "                        source=source,\n",
    "                        regrid=regrid,\n",
    "                        var=var)\n",
    "        data = reader.retrieve(fix=True)\n",
    "        return data\n",
    "\n",
    "    def compute_area(self, data):\n",
    "        area = (self.mesh.cell_area * data.ci).sum(dim='nod2')\n",
    "        area_comp = area.compute()\n",
    "        return area_comp\n",
    "\n",
    "    def plot_area(self, area_comp):\n",
    "        area_comp.plot()\n",
    "        plt.show()"
   ]
  },
  {
   "cell_type": "code",
   "execution_count": null,
   "metadata": {},
   "outputs": [],
   "source": [
    "# Instantiate a SeaIceDiagnostics object\n",
    "SID = SeaIceDiagnostics()\n"
   ]
  },
  {
   "cell_type": "code",
   "execution_count": null,
   "metadata": {},
   "outputs": [
    {
     "name": "stdout",
     "output_type": "stream",
     "text": [
      "IFS\ttco3999-ng5\t2.8km experiment, coupled with FESOM\n",
      "\t- ICMGG_atm2d\toriginal 2d output\n",
      "\t- ICMU_atm2d\toriginal 2d output (lnsp)\n",
      "\t- ICMU_atm3d\toriginal 3d output\n",
      "\t- interpolated_global\tNN interpolation to 5400x2700 grid (lon=[-180,180], lat=[-90, 90])\n",
      "IFS\ttco2559-ng5\t4km experiment, coupled with FESOM\n",
      "\t- ICMGG_atm2d\toriginal 2d output\n",
      "\t- ICMU_atm2d\toriginal 2d output (lnsp)\n",
      "\t- ICMU_atm3d\toriginal 3d output\n",
      "\t- interpolated_global\tNN interpolation to 5400x2700 grid (lon=[-180,180], lat=[-90, 90])\n",
      "\t- lra-r100-mon\tLRA monthly data 1x1 deg regular grid\n",
      "IFS\ttco1279-orca025\t9km baseline, coupled to NEMO, deep conv ON\n",
      "\t- ICMGG_atm2d\toriginal 2d output\n",
      "\t- ICMU_atm2d\toriginal 2d output (lnsp)\n",
      "\t- ICMU_atm3d\toriginal 3d output\n",
      "\t- lra-r100-mon\tLRA monthly data 1x1 deg regular grid\n",
      "IFS\ttest-tco2559\t4km experiment, coupled with FESOM\n",
      "\t- ICMGG_atm2d\t2d output\n",
      "\t- ICMU_atm3d\t3d output\n",
      "IFS\ttest-tco79\tTCO79 test data\n",
      "\t- short\toriginal 2d output\n",
      "\t- long\tcoarse IFS data 1y\n",
      "\n",
      "FESOM\ttco3999-ng5\t2.5km experiment, coupuled with IFS\n",
      "\t- interpolated_global2d\t\n",
      "\t- interpolated_global_TS\t\n",
      "\t- interpolated_global_UV\t\n",
      "\t- original_2d\toriginal 2d output\n",
      "\t- original_3d\toriginal 3d output\n",
      "FESOM\ttco2559-ng5\t5km experiment, coupuled with IFS\n",
      "\t- interpolated_global2d\t\n",
      "\t- interpolated_global_TS\t\n",
      "\t- interpolated_global_UV\t\n",
      "\t- original_2d\toriginal 2d output\n",
      "\t- original_3d\toriginal 3d output\n",
      "\t- lra-r100-mon\t\n",
      "FESOM\ttest-pi\ttest data\n",
      "\t- original_2d\toriginal 2d output\n",
      "\n",
      "ICON\tngc2009\t5km coupled run, main ICON nextGEMS C2 run\n",
      "\t- atm_2d_ml_R02B09\toriginal 2d output on R02B09 grid (5 km)\n",
      "\t- atm_2d_ml_R02B08\toriginal 2d output on R02B09 grid (10 km)\n",
      "\t- oce_200m_atmgrid_R02B09\toriginal ocean 3d output on R02B09 grid (5 km)\n",
      "\t- intake-esm-test\tTest Intake-ESM Catalog\n",
      "\t- lra-r100-mon\tLRA daily data 1x1 deg regular grid\n",
      "ICON\thpx\tSome Healpix data\n",
      "\t- result\t\n",
      "\n",
      "MSWEP\tpast\tpast MSWEP v280 data\n",
      "\t- monthly\tmonthly MSWEP_V280 data\n",
      "\t- daily\tdaily MSWEP_V280 data\n",
      "\t- 3hourly\t3 hourly MSWEP_V280 data\n",
      "\t- monthlyz\tmonthly MSWEP_V280 data\n",
      "\t- dailyz\tdaily MSWEP_V280 data\n",
      "\n",
      "ERA5\tera5\tmain ERA5 data\n",
      "\t- monthly_inst\tERA5 instantaneous 2D data monthly averaged\n",
      "\t- monthly_acc\tERA5 accumulated 2D data monthly averaged\n",
      "\t- daily_inst\tERA5 instantaneous 2D data daily\n",
      "\t- daily_acc\tERA5 accumulated 2D data daily\n",
      "\n",
      "CERES\tebaf-toa41\tCERES-EBAF\n",
      "\t- monthly\tCERES EBAF TOA Ed4.2 from 2002 to 2022\n",
      "CERES\tebaf-toa42\tCERES-EBAF\n",
      "\t- monthly\tCERES EBAF TOA Ed4.2 from 2002 to 2022\n",
      "CERES\tebaf-sfc41\tCERES-EBAF\n",
      "\t- monthly\tCERES EBAF SFC Ed4.1 from 2002 to 2022\n",
      "CERES\tsyn-toa41\tCERES-EBAF\n",
      "\t- daily\tCERES SYN TOA Ed4.1 from 2001 to 2021\n",
      "\n",
      "AVISO\tssh-L4\tAVISO Sea Surface Height L4 product and derived variables\n",
      "\t- daily\tAVISO ssh vDT2021\n",
      "\n",
      "PHC3\tphc3\tPHC3 Polar science center Hydrographic Climatology\n",
      "\t- annual\tPHC3\n",
      "\t- seasonal\tPHC3\n",
      "\n",
      "WOA18\twoa18_2005_2017\tWorld Ocean Atlas climatology\n",
      "\t- annual\tWOA18 2005-2017\n",
      "\t- seasonal\tWOA18 2005-2017\n",
      "\n"
     ]
    },
    {
     "name": "stderr",
     "output_type": "stream",
     "text": [
      "2023-05-16 16:52:06,482 - distributed.diskutils - INFO - Found stale lock file and directory '/home/b/b382385/git/AQUA/diagnostics/seaice/dask-worker-space/worker-cnkczxp9', purging\n",
      "2023-05-16 16:52:06,485 - distributed.diskutils - INFO - Found stale lock file and directory '/home/b/b382385/git/AQUA/diagnostics/seaice/dask-worker-space/worker-nz7s81mo', purging\n",
      "2023-05-16 16:52:06,489 - distributed.diskutils - INFO - Found stale lock file and directory '/home/b/b382385/git/AQUA/diagnostics/seaice/dask-worker-space/worker-9ol77v57', purging\n"
     ]
    },
    {
     "name": "stdout",
     "output_type": "stream",
     "text": [
      "Models available in catalogue:\n"
     ]
    }
   ],
   "source": [
    "# Inspect the catalogue\n",
    "analyzer.inspect_catalog()\n",
    "\n",
    "# Retrieve the data\n",
    "data = analyzer.retrieve_data()\n",
    "\n",
    "# Compute the area\n",
    "area_comp = analyzer.compute_area(data)\n",
    "\n",
    "# Plot the area\n",
    "analyzer.plot_area(area_comp)"
   ]
  },
  {
   "cell_type": "code",
   "execution_count": null,
   "metadata": {},
   "outputs": [],
   "source": []
  }
 ],
 "metadata": {
  "kernelspec": {
   "display_name": "aqua",
   "language": "python",
   "name": "aqua"
  },
  "language_info": {
   "codemirror_mode": {
    "name": "ipython",
    "version": 3
   },
   "file_extension": ".py",
   "mimetype": "text/x-python",
   "name": "python",
   "nbconvert_exporter": "python",
   "pygments_lexer": "ipython3",
   "version": "3.9.9"
  }
 },
 "nbformat": 4,
 "nbformat_minor": 4
}
