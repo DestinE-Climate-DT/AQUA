{
 "cells": [
  {
   "attachments": {},
   "cell_type": "markdown",
   "metadata": {},
   "source": [
    "# Initial sea ice diagnostics"
   ]
  },
  {
   "cell_type": "code",
   "execution_count": 3,
   "metadata": {},
   "outputs": [
    {
     "ename": "KeyError",
     "evalue": "'Source nh-monthly of experiment osi-450 not found in regrid for model OSI-SAF.'",
     "output_type": "error",
     "traceback": [
      "\u001b[0;31m---------------------------------------------------------------------------\u001b[0m",
      "\u001b[0;31mKeyError\u001b[0m                                  Traceback (most recent call last)",
      "Cell \u001b[0;32mIn[3], line 20\u001b[0m\n\u001b[1;32m     17\u001b[0m myRegions \u001b[39m=\u001b[39m [\u001b[39m\"\u001b[39m\u001b[39mArctic\u001b[39m\u001b[39m\"\u001b[39m, \u001b[39m\"\u001b[39m\u001b[39mHudson Bay\u001b[39m\u001b[39m\"\u001b[39m, \u001b[39m\"\u001b[39m\u001b[39mSouthern Ocean\u001b[39m\u001b[39m\"\u001b[39m, \u001b[39m\"\u001b[39m\u001b[39mRoss Sea\u001b[39m\u001b[39m\"\u001b[39m, \u001b[39m\"\u001b[39m\u001b[39mWeddell Sea\u001b[39m\u001b[39m\"\u001b[39m, \u001b[39m\"\u001b[39m\u001b[39mAmundsen-Bellingshausen Seas\u001b[39m\u001b[39m\"\u001b[39m, \u001b[39m\"\u001b[39m\u001b[39mPacific Ocean\u001b[39m\u001b[39m\"\u001b[39m, \u001b[39m\"\u001b[39m\u001b[39mIndian Ocean\u001b[39m\u001b[39m\"\u001b[39m]\n\u001b[1;32m     19\u001b[0m \u001b[39m# Run diagnostic\u001b[39;00m\n\u001b[0;32m---> 20\u001b[0m diagnostic\u001b[39m.\u001b[39;49mrun(mySetups \u001b[39m=\u001b[39;49m mySetups, myRegions \u001b[39m=\u001b[39;49m myRegions)\n",
      "File \u001b[0;32m~/git/AQUA/diagnostics/seaice/notebooks/../seaice_class.py:48\u001b[0m, in \u001b[0;36mSeaIceExtent.run\u001b[0;34m(self, mySetups, myRegions)\u001b[0m\n\u001b[1;32m     45\u001b[0m label \u001b[39m=\u001b[39m model \u001b[39m+\u001b[39m \u001b[39m\"\u001b[39m\u001b[39m \u001b[39m\u001b[39m\"\u001b[39m \u001b[39m+\u001b[39m exp \u001b[39m+\u001b[39m \u001b[39m\"\u001b[39m\u001b[39m \u001b[39m\u001b[39m\"\u001b[39m \u001b[39m+\u001b[39m source\n\u001b[1;32m     47\u001b[0m \u001b[39m# Instantiate reader\u001b[39;00m\n\u001b[0;32m---> 48\u001b[0m reader \u001b[39m=\u001b[39m Reader(model  \u001b[39m=\u001b[39;49m model, \\\n\u001b[1;32m     49\u001b[0m             exp    \u001b[39m=\u001b[39;49m exp,   \\\n\u001b[1;32m     50\u001b[0m             source \u001b[39m=\u001b[39;49m source,\\\n\u001b[1;32m     51\u001b[0m         )\n\u001b[1;32m     53\u001b[0m myReaders\u001b[39m.\u001b[39mappend(reader)\n\u001b[1;32m     55\u001b[0m \u001b[39mself\u001b[39m\u001b[39m.\u001b[39mlogger\u001b[39m.\u001b[39minfo(\u001b[39m\"\u001b[39m\u001b[39mRetrieving \u001b[39m\u001b[39m\"\u001b[39m \u001b[39m+\u001b[39m \u001b[39m\"\u001b[39m\u001b[39m\\t\u001b[39;00m\u001b[39m\"\u001b[39m\u001b[39m.\u001b[39mjoin([s\u001b[39m.\u001b[39mljust(\u001b[39m20\u001b[39m) \u001b[39mfor\u001b[39;00m s \u001b[39min\u001b[39;00m setup]))\n",
      "File \u001b[0;32m~/git/AQUA/aqua/reader/reader.py:125\u001b[0m, in \u001b[0;36mReader.__init__\u001b[0;34m(self, model, exp, source, freq, regrid, method, zoom, configdir, areas, datamodel, streaming, stream_step, stream_unit, stream_startdate, rebuild, loglevel, nproc)\u001b[0m\n\u001b[1;32m    123\u001b[0m \u001b[39m# load and check the regrid\u001b[39;00m\n\u001b[1;32m    124\u001b[0m cfg_regrid \u001b[39m=\u001b[39m load_yaml(\u001b[39mself\u001b[39m\u001b[39m.\u001b[39mregrid_file)\n\u001b[0;32m--> 125\u001b[0m source_grid_id \u001b[39m=\u001b[39m check_catalog_source(cfg_regrid[\u001b[39m\"\u001b[39;49m\u001b[39msource_grids\u001b[39;49m\u001b[39m\"\u001b[39;49m],\n\u001b[1;32m    126\u001b[0m                                       \u001b[39mself\u001b[39;49m\u001b[39m.\u001b[39;49mmodel, \u001b[39mself\u001b[39;49m\u001b[39m.\u001b[39;49mexp, source, name\u001b[39m=\u001b[39;49m\u001b[39m'\u001b[39;49m\u001b[39mregrid\u001b[39;49m\u001b[39m'\u001b[39;49m)\n\u001b[1;32m    127\u001b[0m source_grid \u001b[39m=\u001b[39m cfg_regrid[\u001b[39m\"\u001b[39m\u001b[39msource_grids\u001b[39m\u001b[39m\"\u001b[39m][\u001b[39mself\u001b[39m\u001b[39m.\u001b[39mmodel][\u001b[39mself\u001b[39m\u001b[39m.\u001b[39mexp][source_grid_id]\n\u001b[1;32m    129\u001b[0m \u001b[39m# Normalize vert_coord to list\u001b[39;00m\n",
      "File \u001b[0;32m~/git/AQUA/aqua/reader/reader_utils.py:32\u001b[0m, in \u001b[0;36mcheck_catalog_source\u001b[0;34m(cat, model, exp, source, name)\u001b[0m\n\u001b[1;32m     30\u001b[0m     \u001b[39mif\u001b[39;00m source \u001b[39mnot\u001b[39;00m \u001b[39min\u001b[39;00m cat[model][exp]:\n\u001b[1;32m     31\u001b[0m         \u001b[39mif\u001b[39;00m \u001b[39m\"\u001b[39m\u001b[39mdefault\u001b[39m\u001b[39m\"\u001b[39m \u001b[39mnot\u001b[39;00m \u001b[39min\u001b[39;00m cat[model][exp]:\n\u001b[0;32m---> 32\u001b[0m             \u001b[39mraise\u001b[39;00m \u001b[39mKeyError\u001b[39;00m(\u001b[39mf\u001b[39m\u001b[39m\"\u001b[39m\u001b[39mSource \u001b[39m\u001b[39m{\u001b[39;00msource\u001b[39m}\u001b[39;00m\u001b[39m of experiment \u001b[39m\u001b[39m{\u001b[39;00mexp\u001b[39m}\u001b[39;00m\u001b[39m \u001b[39m\u001b[39m\"\u001b[39m\n\u001b[1;32m     33\u001b[0m                            \u001b[39mf\u001b[39m\u001b[39m\"\u001b[39m\u001b[39mnot found in \u001b[39m\u001b[39m{\u001b[39;00mname\u001b[39m}\u001b[39;00m\u001b[39m for model \u001b[39m\u001b[39m{\u001b[39;00mmodel\u001b[39m}\u001b[39;00m\u001b[39m.\u001b[39m\u001b[39m\"\u001b[39m)\n\u001b[1;32m     34\u001b[0m         source \u001b[39m=\u001b[39m \u001b[39m\"\u001b[39m\u001b[39mdefault\u001b[39m\u001b[39m\"\u001b[39m\n\u001b[1;32m     35\u001b[0m \u001b[39melse\u001b[39;00m:\n",
      "\u001b[0;31mKeyError\u001b[0m: 'Source nh-monthly of experiment osi-450 not found in regrid for model OSI-SAF.'"
     ]
    }
   ],
   "source": [
    "import sys\n",
    "sys.path.append(\"../\")\n",
    "from    seaice_class import SeaIceExtent\n",
    "diagnostic = SeaIceExtent()\n",
    "\n",
    "# Setups to be included in the comparison\n",
    "\n",
    "#            model      exp                          source\n",
    "mySetups = [\n",
    "            #[\"IFS\",     \"tco1279-orca025-cycle3\",   \"2D_monthly_native\"     ],\n",
    "            #[\"ICON\",    \"ngc2009\",                  \"lra-r100-monthly\"      ],\n",
    "            #[\"IFS\",     \"tco2559-ng5-cycle3\",       \"2D_monthly_0.25deg\"    ],\n",
    "            [\"OSI-SAF\", \"osi-450\",                  \"nh-monthly\"            ],\n",
    "           ]\n",
    "\n",
    "# List of regions where SIE has to be calculated\n",
    "myRegions = [\"Arctic\", \"Hudson Bay\", \"Southern Ocean\", \"Ross Sea\", \"Weddell Sea\", \"Amundsen-Bellingshausen Seas\", \"Pacific Ocean\", \"Indian Ocean\"]\n",
    "\n",
    "# Run diagnostic\n",
    "diagnostic.run(mySetups = mySetups, myRegions = myRegions)\n"
   ]
  }
 ],
 "metadata": {
  "kernelspec": {
   "display_name": "aqua",
   "language": "python",
   "name": "aqua"
  },
  "language_info": {
   "codemirror_mode": {
    "name": "ipython",
    "version": 3
   },
   "file_extension": ".py",
   "mimetype": "text/x-python",
   "name": "python",
   "nbconvert_exporter": "python",
   "pygments_lexer": "ipython3",
   "version": "3.10.11"
  },
  "orig_nbformat": 4
 },
 "nbformat": 4,
 "nbformat_minor": 2
}
