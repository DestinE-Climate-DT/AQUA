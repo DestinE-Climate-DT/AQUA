{
 "cells": [
  {
   "attachments": {},
   "cell_type": "markdown",
   "metadata": {},
   "source": [
    "# Example notebok for sea ice diagnostics\n",
    "\n",
    "Each diagnostic should have a notebook that demonstrates how to use it. \n",
    "This notebook should be placed in this folder. \n",
    "The notebook should be named after the diagnostic itself or a particular functionality, with the extension .ipynb."
   ]
  },
  {
   "cell_type": "code",
   "execution_count": 2,
   "metadata": {},
   "outputs": [
    {
     "ename": "ModuleNotFoundError",
     "evalue": "No module named 'ruamel'",
     "output_type": "error",
     "traceback": [
      "\u001b[0;31m---------------------------------------------------------------------------\u001b[0m",
      "\u001b[0;31mModuleNotFoundError\u001b[0m                       Traceback (most recent call last)",
      "\u001b[1;32m/home/b/b382385/git/AQUA/diagnostics/seaice/notebooks/seaice.ipynb Cellule 2\u001b[0m in \u001b[0;36m<cell line: 5>\u001b[0;34m()\u001b[0m\n\u001b[1;32m      <a href='vscode-notebook-cell://ssh-remote%2Blevante/home/b/b382385/git/AQUA/diagnostics/seaice/notebooks/seaice.ipynb#W1sdnNjb2RlLXJlbW90ZQ%3D%3D?line=1'>2</a>\u001b[0m \u001b[39m# temporary hack if your env-dummy.yml\u001b[39;00m\n\u001b[1;32m      <a href='vscode-notebook-cell://ssh-remote%2Blevante/home/b/b382385/git/AQUA/diagnostics/seaice/notebooks/seaice.ipynb#W1sdnNjb2RlLXJlbW90ZQ%3D%3D?line=2'>3</a>\u001b[0m \u001b[39m# does not install your diagnostic.\u001b[39;00m\n\u001b[1;32m      <a href='vscode-notebook-cell://ssh-remote%2Blevante/home/b/b382385/git/AQUA/diagnostics/seaice/notebooks/seaice.ipynb#W1sdnNjb2RlLXJlbW90ZQ%3D%3D?line=3'>4</a>\u001b[0m sys\u001b[39m.\u001b[39mpath\u001b[39m.\u001b[39minsert(\u001b[39m0\u001b[39m, \u001b[39m'\u001b[39m\u001b[39m../\u001b[39m\u001b[39m'\u001b[39m)\n\u001b[0;32m----> <a href='vscode-notebook-cell://ssh-remote%2Blevante/home/b/b382385/git/AQUA/diagnostics/seaice/notebooks/seaice.ipynb#W1sdnNjb2RlLXJlbW90ZQ%3D%3D?line=4'>5</a>\u001b[0m \u001b[39mfrom\u001b[39;00m \u001b[39mseaice_class\u001b[39;00m \u001b[39mimport\u001b[39;00m seaiceDiagnostic\n",
      "File \u001b[0;32m~/git/AQUA/diagnostics/seaice/notebooks/../seaice_class.py:1\u001b[0m, in \u001b[0;36m<module>\u001b[0;34m\u001b[0m\n\u001b[0;32m----> 1\u001b[0m \u001b[39mfrom\u001b[39;00m \u001b[39maqua\u001b[39;00m \u001b[39mimport\u001b[39;00m catalogue\n\u001b[1;32m      3\u001b[0m \u001b[39m\"\"\"Dummy diagnostic for testing purposes\"\"\"\u001b[39;00m\n\u001b[1;32m      5\u001b[0m \u001b[39mclass\u001b[39;00m \u001b[39mDummyDiagnostic\u001b[39;00m():\n",
      "File \u001b[0;32m~/git/AQUA/aqua/__init__.py:2\u001b[0m, in \u001b[0;36m<module>\u001b[0;34m\u001b[0m\n\u001b[1;32m      1\u001b[0m \u001b[39m\"\"\"AQUA module\"\"\"\u001b[39;00m\n\u001b[0;32m----> 2\u001b[0m \u001b[39mfrom\u001b[39;00m \u001b[39m.\u001b[39;00m\u001b[39mdocker\u001b[39;00m \u001b[39mimport\u001b[39;00m rundiag\n\u001b[1;32m      3\u001b[0m \u001b[39mfrom\u001b[39;00m \u001b[39m.\u001b[39;00m\u001b[39mgribber\u001b[39;00m \u001b[39mimport\u001b[39;00m Gribber\n\u001b[1;32m      4\u001b[0m \u001b[39mfrom\u001b[39;00m \u001b[39m.\u001b[39;00m\u001b[39mlra_generator\u001b[39;00m \u001b[39mimport\u001b[39;00m LRAgenerator, OPAgenerator\n",
      "File \u001b[0;32m~/git/AQUA/aqua/docker/__init__.py:2\u001b[0m, in \u001b[0;36m<module>\u001b[0;34m\u001b[0m\n\u001b[1;32m      1\u001b[0m \u001b[39m\"\"\"AQUA module\"\"\"\u001b[39;00m\n\u001b[0;32m----> 2\u001b[0m \u001b[39mfrom\u001b[39;00m \u001b[39m.\u001b[39;00m\u001b[39mrundiag\u001b[39;00m \u001b[39mimport\u001b[39;00m rundiag\n\u001b[1;32m      4\u001b[0m __all__ \u001b[39m=\u001b[39m [\u001b[39m\"\u001b[39m\u001b[39mrundiag\u001b[39m\u001b[39m\"\u001b[39m]\n",
      "File \u001b[0;32m~/git/AQUA/aqua/docker/rundiag.py:6\u001b[0m, in \u001b[0;36m<module>\u001b[0;34m\u001b[0m\n\u001b[1;32m      4\u001b[0m \u001b[39mimport\u001b[39;00m \u001b[39mdocker\u001b[39;00m\n\u001b[1;32m      5\u001b[0m \u001b[39mfrom\u001b[39;00m \u001b[39mjinja2\u001b[39;00m \u001b[39mimport\u001b[39;00m Template, FileSystemLoader, Environment\n\u001b[0;32m----> 6\u001b[0m \u001b[39mfrom\u001b[39;00m \u001b[39maqua\u001b[39;00m\u001b[39m.\u001b[39;00m\u001b[39mutil\u001b[39;00m \u001b[39mimport\u001b[39;00m load_yaml\n\u001b[1;32m      7\u001b[0m \u001b[39mfrom\u001b[39;00m \u001b[39mruamel\u001b[39;00m\u001b[39m.\u001b[39;00m\u001b[39myaml\u001b[39;00m \u001b[39mimport\u001b[39;00m YAML\n\u001b[1;32m      9\u001b[0m \u001b[39mdef\u001b[39;00m \u001b[39mrundiag\u001b[39m(cmd \u001b[39m=\u001b[39m \u001b[39mNone\u001b[39;00m, config \u001b[39m=\u001b[39m \u001b[39m'\u001b[39m\u001b[39m.\u001b[39m\u001b[39m'\u001b[39m,\n\u001b[1;32m     10\u001b[0m             machine_file\u001b[39m=\u001b[39m\u001b[39mr\u001b[39m\u001b[39m'\u001b[39m\u001b[39mmachine.yaml\u001b[39m\u001b[39m'\u001b[39m,\n\u001b[1;32m     11\u001b[0m             diagnostic_file\u001b[39m=\u001b[39m\u001b[39mr\u001b[39m\u001b[39m'\u001b[39m\u001b[39mdiagnostic.yaml\u001b[39m\u001b[39m'\u001b[39m):\n",
      "File \u001b[0;32m~/git/AQUA/aqua/util.py:12\u001b[0m, in \u001b[0;36m<module>\u001b[0;34m\u001b[0m\n\u001b[1;32m     10\u001b[0m \u001b[39mimport\u001b[39;00m \u001b[39mlogging\u001b[39;00m\n\u001b[1;32m     11\u001b[0m \u001b[39mfrom\u001b[39;00m \u001b[39mcollections\u001b[39;00m \u001b[39mimport\u001b[39;00m defaultdict\n\u001b[0;32m---> 12\u001b[0m \u001b[39mfrom\u001b[39;00m \u001b[39mruamel\u001b[39;00m\u001b[39m.\u001b[39;00m\u001b[39myaml\u001b[39;00m \u001b[39mimport\u001b[39;00m YAML\n\u001b[1;32m     13\u001b[0m \u001b[39mimport\u001b[39;00m \u001b[39myaml\u001b[39;00m\n\u001b[1;32m     14\u001b[0m \u001b[39mimport\u001b[39;00m \u001b[39meccodes\u001b[39;00m\n",
      "\u001b[0;31mModuleNotFoundError\u001b[0m: No module named 'ruamel'"
     ]
    }
   ],
   "source": [
    "import sys\n",
    "# temporary hack if your env-dummy.yml\n",
    "# does not install your diagnostic.\n",
    "sys.path.insert(0, '../')\n",
    "from seaice_class import seaiceDiagnostic"
   ]
  },
  {
   "cell_type": "code",
   "execution_count": 4,
   "metadata": {},
   "outputs": [
    {
     "name": "stdout",
     "output_type": "stream",
     "text": [
      "FESOM\ttest-pi\t5km experiment, coupuled with IFS\n",
      "\t- original_2d\toriginal 2d output\n",
      "\n",
      "IFS\ttest-tco79\t5km experiment, coupuled with IFS\n",
      "\t- short\toriginal 2d output\n",
      "\t- long\tcoarse IFS data 1y\n",
      "\n",
      "<Intake catalog: ci>\n"
     ]
    }
   ],
   "source": [
    "# Empty class to be filled with your diagnostic\n",
    "# It prints the catalogue as example of what you can do\n",
    "# with the aqua module\n",
    "\n",
    "dummy = DummyDiagnostic()\n",
    "dummy.run()"
   ]
  }
 ],
 "metadata": {
  "kernelspec": {
   "display_name": "aqua",
   "language": "python",
   "name": "python3"
  },
  "language_info": {
   "codemirror_mode": {
    "name": "ipython",
    "version": 3
   },
   "file_extension": ".py",
   "mimetype": "text/x-python",
   "name": "python",
   "nbconvert_exporter": "python",
   "pygments_lexer": "ipython3",
   "version": "3.9.9"
  },
  "orig_nbformat": 4
 },
 "nbformat": 4,
 "nbformat_minor": 2
}
