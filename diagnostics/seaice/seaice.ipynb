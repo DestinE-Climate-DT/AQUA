{
 "cells": [
  {
   "attachments": {},
   "cell_type": "markdown",
   "metadata": {},
   "source": [
    "# Initial sea ice diagnostics"
   ]
  },
  {
   "cell_type": "code",
   "execution_count": 2,
   "metadata": {},
   "outputs": [
    {
     "name": "stdout",
     "output_type": "stream",
     "text": [
      "FDB5 binary library not present on system, disabling FDB support.\n"
     ]
    }
   ],
   "source": [
    "from aqua import Reader,catalogue, inspect_catalogue\n",
    "import datetime\n",
    "import xarray as xr\n",
    "import numpy as np\n",
    "import matplotlib.pyplot as plt"
   ]
  },
  {
   "cell_type": "code",
   "execution_count": 3,
   "metadata": {},
   "outputs": [],
   "source": [
    "#cat = catalogue()\n",
    "\n",
    "# Parameters, to be moved to a YAML file eventually\n",
    "                       # Region name          # southernmost latitude    # northernmost latitude   # westernmost longitude # easternmost longitude\n",
    "regions = [ \\\n",
    "                       [ \"Arctic\",            [0.0,                      90.0,                     0.0,                    360.0                 ]], \\\n",
    "                       #[ \"Southern Ocean\",    [-90.0,                    0.0,                      0.0,                    360.0                 ]], \\\n",
    "                       #[ \"Hudson Bay\",        [50.0,                     63.0,                     265.0,                  285.0                 ]], \\\n",
    "                       #[ \"Ross Sea\",          [-90.0,                    0.0,                      160.0,                   230.0                ]], \\\n",
    "                       #[ \"Amundsen-Bellingshausen Seas\", [-90.0,         0.0,                      230.0,                  300.0                 ]], \\\n",
    "                       #[ \"Weddell Sea\",       [-90.0,                    0.0,                      300.0,                  20.0                  ]], \\\n",
    "                       #[ \"Indian Ocean\",      [-90.0,                    0.0,                      20.0,                   90.0                  ]], \\\n",
    "                       #[ \"Pacific Ocean\",     [-90.0,                    0.0,                      90.0,                   160.0                 ]], \\\n",
    "                    ]\n",
    "\n",
    "thresholdSeaIceExtent = 0.15"
   ]
  },
  {
   "cell_type": "code",
   "execution_count": 4,
   "metadata": {},
   "outputs": [],
   "source": [
    "# Exp specification\n",
    " \n",
    "# Works\n",
    "#model = \"IFS\"\n",
    "#exp   = \"tco1279-orca025-cycle3\"\n",
    "#source= \"lra-r100-monthly\"\n",
    "#computeGridCellAreas  = True\n",
    "\n",
    "# in test\n",
    "#model = \"FESOM\"\n",
    "#exp   = \"tco2559-ng5-cycle3\"\n",
    "#source= \"lra-r100-monthly\"\n",
    "\n",
    "model = \"OSI-SAF\"\n",
    "exp   = \"osi-450\"\n",
    "source = \"nh\"\n",
    "dim1Name = \"yc\"\n",
    "dim2Name = \"xc\"\n",
    "fix   = True\n",
    "computeGridCellAreas  = False\n",
    "\n",
    "\n",
    "label = model + \" \" + exp + \" \" + source"
   ]
  },
  {
   "cell_type": "code",
   "execution_count": 10,
   "metadata": {},
   "outputs": [],
   "source": [
    "\n",
    "# Instantiate reader\n",
    "reader = Reader(model  = model, \\\n",
    "                exp    = exp,   \\\n",
    "                source = source,\\\n",
    "               )\n",
    "\n",
    "data = reader.retrieve(fix = fix, regrid = \"r100\", startdate=\"2010-01-01\", enddate=\"2015-12-31\")\n"
   ]
  },
  {
   "cell_type": "code",
   "execution_count": 11,
   "metadata": {},
   "outputs": [
    {
     "name": "stdout",
     "output_type": "stream",
     "text": [
      "<xarray.DataArray 'siconc' (time: 11801, yc: 432, xc: 432)>\n",
      "dask.array<mul, shape=(11801, 432, 432), dtype=float64, chunksize=(366, 432, 432), chunktype=numpy.ndarray>\n",
      "Coordinates:\n",
      "  * time     (time) datetime64[ns] 1979-01-02T12:00:00 ... 2015-12-31T12:00:00\n",
      "    lon      (yc, xc) float32 dask.array<chunksize=(432, 432), meta=np.ndarray>\n",
      "    lat      (yc, xc) float32 dask.array<chunksize=(432, 432), meta=np.ndarray>\n",
      "  * xc       (xc) float64 -5.388e+03 -5.362e+03 ... 5.362e+03 5.388e+03\n",
      "  * yc       (yc) float64 5.388e+03 5.362e+03 ... -5.362e+03 -5.388e+03\n",
      "Attributes: (12/14)\n",
      "    standard_name:        sea_ice_area_fraction\n",
      "    long_name:            Sea ice area fraction\n",
      "    units:                Fraction\n",
      "    grid_mapping:         Lambert_Azimuthal_Grid\n",
      "    ancillary_variables:  total_standard_error status_flag\n",
      "    comment:              this field is the primary sea ice concentration est...\n",
      "    ...                   ...\n",
      "    cfVarName:            siconc\n",
      "    shortName:            siconc\n",
      "    factor:               0.01\n",
      "    offset:               0\n",
      "    src_units:            %\n",
      "    units_fixed:          1\n"
     ]
    }
   ],
   "source": [
    "print(data.siconc)"
   ]
  },
  {
   "cell_type": "code",
   "execution_count": 21,
   "metadata": {},
   "outputs": [
    {
     "name": "stdout",
     "output_type": "stream",
     "text": [
      "<xarray.DataArray 'cell_area' ()>\n",
      "dask.array<sum-aggregate, shape=(), dtype=float32, chunksize=(), chunktype=numpy.ndarray>\n",
      "Coordinates:\n",
      "    time     datetime64[ns] ...\n",
      "Attributes:\n",
      "    standard_name:      sea_ice_area_fraction status_flag\n",
      "    long_name:          status flag bit array for sea ice concentration retri...\n",
      "    grid_mapping:       Lambert_Azimuthal_Grid\n",
      "    flag_masks:         [  1   2   4   8  16  32  64 128]\n",
      "    flag_meanings:      land lake open_water_filtered land_spill_over high_t2...\n",
      "    flag_descriptions:  \\nall bits to 0 (flag 0): Nominal retrieval by the SI...\n",
      "    comment:            Flag values found in the map might be combinations of...\n"
     ]
    }
   ],
   "source": [
    "\n",
    "# Compute grid cell areas from regular grid if needed\n",
    "if computeGridCellAreas:\n",
    "    # Create grid cell areas\n",
    "    # Ensure that the grid is really regular\n",
    "    if len(data.lon.shape) != 1 or len(data.lat.shape) != 1 \\\n",
    "      or len(set(np.diff(data.lon))) != 1 or len(set(np.diff(data.lat))) != 1:\n",
    "        print(\"Lat and lon are not regular\")\n",
    "        stop()\n",
    "    else:\n",
    "\n",
    "        # Broadcast lat and lon to 2-D arrays\n",
    "        lon, lat = xr.broadcast(data.lon, data.lat)\n",
    "\n",
    "        dlam = np.diff(data.lon)[0] * 2 * np.pi / 360.0 # Degrees to radians\n",
    "        dphi = np.diff(data.lat)[0] * 2 * np.pi / 360.0 # Degrees to radians\n",
    "\n",
    "        phi = 2 * np.pi / 360.0 * data.lat\n",
    "        lam = 2 * np.pi / 360.0 * data.lon\n",
    "\n",
    "        # Expand grid\n",
    "        lam, phi = xr.broadcast(data.lon / 360.0 * 2 * np.pi, data.lat / 360.0 * 2 * np.pi)\n",
    " \n",
    "\n",
    "        Rearth = 6356e3 # meters\n",
    "\n",
    "        areacello = np.cos(phi) * Rearth * dlam * Rearth * dphi / 1e12\n",
    "        areacello = areacello.rename(\"areacello\")\n",
    "        areacello.attrs[\"units\"] = \"million km^2\"\n",
    "        areacello.attrs[\"standard_name\"] = \"Grid cell area\"\n",
    "\n",
    "        # Check that sum is within the true Earth surface\n",
    "        trueEarthSurface = 510072000e6 # Wikipedia\n",
    "        if np.abs((areacello.sum() - trueEarthSurface) / trueEarthSurface) > 0.01:\n",
    "            print(\"Earth's surface wrongly calculated\")\n",
    "else:\n",
    "    areacello = reader.grid_area\n",
    "    lat = data.lat\n",
    "    lon = data.lon\n",
    "                               \n",
    "\n",
    "print(areacello.sum())"
   ]
  },
  {
   "cell_type": "code",
   "execution_count": 23,
   "metadata": {},
   "outputs": [
    {
     "name": "stdout",
     "output_type": "stream",
     "text": [
      "dask.array<sum-aggregate, shape=(), dtype=float64, chunksize=(), chunktype=numpy.ndarray>\n"
     ]
    }
   ],
   "source": [
    "# Mask based on threshold\n",
    "siconc_mask = data.siconc.where(data.siconc > thresholdSeaIceExtent).where(data.siconc < 1.0)\n",
    "\n",
    "print(siconc_mask.sum().data)"
   ]
  },
  {
   "cell_type": "code",
   "execution_count": 27,
   "metadata": {},
   "outputs": [
    {
     "name": "stdout",
     "output_type": "stream",
     "text": [
      "(432, 432)\n"
     ]
    },
    {
     "ename": "",
     "evalue": "",
     "output_type": "error",
     "traceback": [
      "\u001b[1;31mImpossible d’exécuter le code ; la session a été supprimée. Essayez de redémarrer le noyau."
     ]
    },
    {
     "ename": "",
     "evalue": "",
     "output_type": "error",
     "traceback": [
      "\u001b[1;31mLe Kernel s’est bloqué lors de l’exécution du code dans la cellule active ou une cellule précédente. Veuillez vérifier le code dans la ou les cellules pour identifier une cause possible de l’échec. Cliquez <a href='https://aka.ms/vscodeJupyterKernelCrash'>ici</a> pour plus d’informations. Pour plus d’informations, consultez Jupyter <a href='command:jupyter.viewOutput'>log</a>."
     ]
    }
   ],
   "source": [
    "# Iterate over regions\n",
    "for jr, region in enumerate(regions):\n",
    "\n",
    "    # Create regional mask\n",
    "    latS, latN, lonW, lonE = regions[jr][1][0], regions[jr][1][1], regions[jr][1][2], regions[jr][1][3]\n",
    "\n",
    "    # Dealing with regions straddling the 180° meridian\n",
    "    if lonW > lonE:\n",
    "        regionMask = (lat >= latS) & (lat <= latN) & ((lon >= lonW) | (lon <= lonE))\n",
    "    else:\n",
    "        regionMask = (lat >= latS) & (lat <= latN) & (lon >= lonW) & (lon <= lonE)\n",
    "\n",
    "    areacello_mask = areacello.where(regionMask)\n",
    "\n",
    "    \n",
    "    print(lat.shape)\n",
    "    \n",
    "\n",
    "    # Create masks for summing later on\n",
    "    areacello_mask = areacello.where(regionMask)\n",
    "\n",
    "    extent = areacello.where(regionMask).where(siconc_mask.notnull()).sum(dim = [dim1Name, dim2Name])\n",
    "    \n",
    "\n",
    "    # Print region area for information\n",
    "    #areaRegion = areacello.where(regionMask).sum()\n",
    "    #print(region[0] + \" region area: \" + str(areaRegion.data) + areaRegion.units)\n",
    "    fig, ax = plt.subplots(1, 1)\n",
    "    extent.plot(label = label)\n",
    "    ax.grid()\n",
    "    ax.legend()\n",
    "    ax.set_title(\"Sea ice extent: region \" + region[0])\n",
    "    regionNameNoSpace = \"\".join(region[0].split())\n",
    "    fig.savefig(\"./fig_\" + regionNameNoSpace + \".png\")\n"
   ]
  }
 ],
 "metadata": {
  "kernelspec": {
   "display_name": "aqua",
   "language": "python",
   "name": "aqua"
  },
  "language_info": {
   "codemirror_mode": {
    "name": "ipython",
    "version": 3
   },
   "file_extension": ".py",
   "mimetype": "text/x-python",
   "name": "python",
   "nbconvert_exporter": "python",
   "pygments_lexer": "ipython3",
   "version": "3.10.11"
  },
  "orig_nbformat": 4
 },
 "nbformat": 4,
 "nbformat_minor": 2
}
