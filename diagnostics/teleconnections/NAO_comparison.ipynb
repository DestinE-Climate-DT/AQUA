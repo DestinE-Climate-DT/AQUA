{
 "cells": [
  {
   "cell_type": "markdown",
   "metadata": {},
   "source": [
    "# NAO comparison"
   ]
  },
  {
   "attachments": {},
   "cell_type": "markdown",
   "metadata": {},
   "source": [
    "The notebook wants to compare results from teleconnections analysis of NAO from ERA5 with index evaluated by NCAR, available at https://climatedataguide.ucar.edu/sites/default/files/2022-10/nao_station_monthly.txt"
   ]
  },
  {
   "attachments": {},
   "cell_type": "markdown",
   "metadata": {},
   "source": [
    "## Data loading"
   ]
  },
  {
   "attachments": {},
   "cell_type": "markdown",
   "metadata": {},
   "source": [
    "Load NCAR data and NAO index from teleconnections analysis"
   ]
  },
  {
   "cell_type": "code",
   "execution_count": 1,
   "metadata": {},
   "outputs": [],
   "source": [
    "import matplotlib.pyplot as plt\n",
    "import numpy as np\n",
    "import pandas as pd\n",
    "import tools\n",
    "import xarray as xr\n",
    "\n",
    "diagname  = 'teleconnections'\n",
    "machine   = 'wilma'\n",
    "\n",
    "namelist = tools.load_namelist(diagname)\n",
    "config   = tools.load_config(machine)\n",
    "\n",
    "ncarfile = 'data/nao_station_monthly.txt'\n",
    "infile   = config['teleconnections']['output']\n",
    "infile  += '/NAO_indx.nc'"
   ]
  },
  {
   "cell_type": "code",
   "execution_count": 82,
   "metadata": {},
   "outputs": [
    {
     "ename": "SyntaxError",
     "evalue": "invalid syntax (38490301.py, line 10)",
     "output_type": "error",
     "traceback": [
      "\u001b[0;36m  Cell \u001b[0;32mIn[82], line 10\u001b[0;36m\u001b[0m\n\u001b[0;31m    ncar_nao.drop_sel('time':dt.time.dt.year.sel[2022])\u001b[0m\n\u001b[0m                            ^\u001b[0m\n\u001b[0;31mSyntaxError\u001b[0m\u001b[0;31m:\u001b[0m invalid syntax\n"
     ]
    }
   ],
   "source": [
    "nao = xr.open_dataarray(infile)\n",
    "\n",
    "ncar_nao = np.genfromtxt(ncarfile, skip_header=2)\n",
    "\n",
    "year = ncar_nao[:, 0]\n",
    "month_data = ncar_nao[:, 1:]\n",
    "time = xr.cftime_range(start=str(int(year[0])),periods=12*len(year),freq='M',calendar='standard')\n",
    "month_data = month_data.reshape(-1)\n",
    "ncar_nao = xr.DataArray(month_data, coords=[time], dims=['time'], name='monthly_data')\n",
    "ncar_nao.drop_sel('time':dt.time.dt.year.sel[2022])\n"
   ]
  },
  {
   "cell_type": "markdown",
   "metadata": {},
   "source": [
    "## Plot two dataset together"
   ]
  },
  {
   "cell_type": "code",
   "execution_count": 78,
   "metadata": {},
   "outputs": [
    {
     "data": {
      "image/png": "[encoded data removed]",
      "text/plain": [
       "<Figure size 640x480 with 1 Axes>"
      ]
     },
     "metadata": {},
     "output_type": "display_data"
    }
   ],
   "source": [
    "import datetime\n",
    "import cftime\n",
    "\n",
    "time_vals = np.array(time.values)\n",
    "\n",
    "# Convert to datetime objects\n",
    "datetimes = [np.datetime64(t).astype(datetime.datetime) for t in time_vals]\n",
    "\n",
    "# Plot with matplotlib\n",
    "plt.plot(datetimes, ncar_nao.values)\n",
    "#plt.xlabel('Time')\n",
    "#plt.ylabel(ncar_nao.values.name)\n",
    "#plt.xlim([1865,2021])\n",
    "#plt.title(ncar_nao.values.name + ' over Time')\n",
    "plt.show()\n"
   ]
  },
  {
   "cell_type": "code",
   "execution_count": 71,
   "metadata": {},
   "outputs": [
    {
     "data": {
      "text/plain": [
       "array([cftime.DatetimeGregorian(1865, 1, 31, 0, 0, 0, 0, has_year_zero=False),\n",
       "       cftime.DatetimeGregorian(1865, 2, 28, 0, 0, 0, 0, has_year_zero=False),\n",
       "       cftime.DatetimeGregorian(1865, 3, 31, 0, 0, 0, 0, has_year_zero=False),\n",
       "       ...,\n",
       "       cftime.DatetimeGregorian(2022, 10, 31, 0, 0, 0, 0, has_year_zero=False),\n",
       "       cftime.DatetimeGregorian(2022, 11, 30, 0, 0, 0, 0, has_year_zero=False),\n",
       "       cftime.DatetimeGregorian(2022, 12, 31, 0, 0, 0, 0, has_year_zero=False)],\n",
       "      dtype=object)"
      ]
     },
     "execution_count": 71,
     "metadata": {},
     "output_type": "execute_result"
    }
   ],
   "source": [
    "time_vals"
   ]
  }
 ],
 "metadata": {
  "kernelspec": {
   "display_name": "aqua",
   "language": "python",
   "name": "python3"
  },
  "language_info": {
   "codemirror_mode": {
    "name": "ipython",
    "version": 3
   },
   "file_extension": ".py",
   "mimetype": "text/x-python",
   "name": "python",
   "nbconvert_exporter": "python",
   "pygments_lexer": "ipython3",
   "version": "3.11.0"
  },
  "orig_nbformat": 4,
  "vscode": {
   "interpreter": {
    "hash": "3e3b80be15d8b7824bdac94dd60428e03a1db75ec501e03347a37a9ba639a94b"
   }
  }
 },
 "nbformat": 4,
 "nbformat_minor": 2
}
