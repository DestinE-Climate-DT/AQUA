{
 "cells": [
  {
   "cell_type": "code",
   "execution_count": 1,
   "metadata": {},
   "outputs": [],
   "source": [
    "import matplotlib.pyplot as plt\n",
    "import numpy as np\n",
    "import pandas as pd\n",
    "import tools\n",
    "import xarray as xr\n",
    "from cdotesting import *\n",
    "\n",
    "diagname  = 'teleconnections'\n",
    "machine   = 'wilma'\n",
    "\n",
    "namelist = tools.load_namelist(diagname)\n",
    "config   = tools.load_config(machine)"
   ]
  },
  {
   "attachments": {},
   "cell_type": "markdown",
   "metadata": {},
   "source": [
    "## NAO test\n",
    "\n",
    "With `ret_diff=False` (default value), performs an `xarray.testing.assert_allclose()`, so that an `Assert` is raised if the difference is bigger than the request one."
   ]
  },
  {
   "cell_type": "code",
   "execution_count": 4,
   "metadata": {},
   "outputs": [
    {
     "name": "stdout",
     "output_type": "stream",
     "text": [
      "/work/datasets/obs/ERA5/mean_sea_level_pressure/mon/ERA5_mean_sea_level_pressure_mon_0.25x0.25_sfc_1979-2021.nc\n"
     ]
    }
   ],
   "source": [
    "telecname = 'NAO'\n",
    "infile   = config[diagname][telecname]['input']\n",
    "print(infile)"
   ]
  },
  {
   "cell_type": "code",
   "execution_count": 5,
   "metadata": {},
   "outputs": [
    {
     "name": "stderr",
     "output_type": "stream",
     "text": [
      "/work/users/mnurisso/mambaforge/envs/aqua/lib/python3.10/site-packages/xarray/core/indexing.py:1374: PerformanceWarning: Slicing with an out-of-order index is generating 43 times more chunks\n",
      "  return self.array[key]\n"
     ]
    }
   ],
   "source": [
    "cdo_station_based_comparison(infile,namelist,telecname,rtol=1.e-4,atol=1.e-4,ret_diff=False)"
   ]
  },
  {
   "cell_type": "markdown",
   "metadata": {},
   "source": [
    "## ENSO test"
   ]
  },
  {
   "cell_type": "code",
   "execution_count": 2,
   "metadata": {},
   "outputs": [
    {
     "name": "stdout",
     "output_type": "stream",
     "text": [
      "/work/datasets/obs/ERA5/skin_temperature/mon/ERA5_skin_temperature_mon_0.25x0.25_sfc_1979-2019.nc\n"
     ]
    }
   ],
   "source": [
    "telecname = 'ENSO'\n",
    "infile   = config[diagname][telecname]['input']\n",
    "print(infile)"
   ]
  },
  {
   "cell_type": "code",
   "execution_count": 3,
   "metadata": {},
   "outputs": [
    {
     "ename": "AssertionError",
     "evalue": "Left and right DataArray objects are not close\n\nDiffering values:\nL\n    array([299.842762, 300.369195, 300.788262, ..., 299.760252, 299.861596,\n           299.996657])\nR\n    array([299.8705 , 300.38974, 300.80524, ..., 299.79367, 299.89468, 300.0302 ],\n          dtype=float32)\n",
     "output_type": "error",
     "traceback": [
      "\u001b[0;31m---------------------------------------------------------------------------\u001b[0m",
      "\u001b[0;31mAssertionError\u001b[0m                            Traceback (most recent call last)",
      "Cell \u001b[0;32mIn[3], line 1\u001b[0m\n\u001b[0;32m----> 1\u001b[0m test\u001b[39m=\u001b[39mcdo_regional_mean_comparison(infile,namelist,telecname,rtol\u001b[39m=\u001b[39;49m\u001b[39m1.e-4\u001b[39;49m,atol\u001b[39m=\u001b[39;49m\u001b[39m1.e-4\u001b[39;49m,ret_diff\u001b[39m=\u001b[39;49m\u001b[39mFalse\u001b[39;49;00m)\n",
      "File \u001b[0;32m/work/users/mnurisso/AQUA/diagnostics/teleconnections/cdotesting.py:183\u001b[0m, in \u001b[0;36mcdo_regional_mean_comparison\u001b[0;34m(infile, namelist, telecname, months_window, rtol, atol, ret_diff)\u001b[0m\n\u001b[1;32m    181\u001b[0m     \u001b[39mreturn\u001b[39;00m avg_lib\u001b[39m-\u001b[39mavg_cdo[namelist[telecname][\u001b[39m'\u001b[39m\u001b[39mfield\u001b[39m\u001b[39m'\u001b[39m]]\n\u001b[1;32m    182\u001b[0m \u001b[39melse\u001b[39;00m:\n\u001b[0;32m--> 183\u001b[0m     xr\u001b[39m.\u001b[39;49mtesting\u001b[39m.\u001b[39;49massert_allclose(avg_lib,avg_cdo[namelist[telecname][\u001b[39m'\u001b[39;49m\u001b[39mfield\u001b[39;49m\u001b[39m'\u001b[39;49m]],\n\u001b[1;32m    184\u001b[0m                                rtol\u001b[39m=\u001b[39;49mrtol,atol\u001b[39m=\u001b[39;49matol)\n\u001b[1;32m    185\u001b[0m     \u001b[39mreturn\u001b[39;00m\n",
      "    \u001b[0;31m[... skipping hidden 1 frame]\u001b[0m\n",
      "File \u001b[0;32m/work/users/mnurisso/mambaforge/envs/aqua/lib/python3.10/site-packages/xarray/testing.py:168\u001b[0m, in \u001b[0;36massert_allclose\u001b[0;34m(a, b, rtol, atol, decode_bytes)\u001b[0m\n\u001b[1;32m    164\u001b[0m \u001b[39melif\u001b[39;00m \u001b[39misinstance\u001b[39m(a, DataArray):\n\u001b[1;32m    165\u001b[0m     allclose \u001b[39m=\u001b[39m utils\u001b[39m.\u001b[39mdict_equiv(\n\u001b[1;32m    166\u001b[0m         a\u001b[39m.\u001b[39mcoords, b\u001b[39m.\u001b[39mcoords, compat\u001b[39m=\u001b[39mcompat_variable\n\u001b[1;32m    167\u001b[0m     ) \u001b[39mand\u001b[39;00m compat_variable(a\u001b[39m.\u001b[39mvariable, b\u001b[39m.\u001b[39mvariable)\n\u001b[0;32m--> 168\u001b[0m     \u001b[39massert\u001b[39;00m allclose, formatting\u001b[39m.\u001b[39mdiff_array_repr(a, b, compat\u001b[39m=\u001b[39mequiv)\n\u001b[1;32m    169\u001b[0m \u001b[39melif\u001b[39;00m \u001b[39misinstance\u001b[39m(a, Dataset):\n\u001b[1;32m    170\u001b[0m     allclose \u001b[39m=\u001b[39m a\u001b[39m.\u001b[39m_coord_names \u001b[39m==\u001b[39m b\u001b[39m.\u001b[39m_coord_names \u001b[39mand\u001b[39;00m utils\u001b[39m.\u001b[39mdict_equiv(\n\u001b[1;32m    171\u001b[0m         a\u001b[39m.\u001b[39mvariables, b\u001b[39m.\u001b[39mvariables, compat\u001b[39m=\u001b[39mcompat_variable\n\u001b[1;32m    172\u001b[0m     )\n",
      "\u001b[0;31mAssertionError\u001b[0m: Left and right DataArray objects are not close\n\nDiffering values:\nL\n    array([299.842762, 300.369195, 300.788262, ..., 299.760252, 299.861596,\n           299.996657])\nR\n    array([299.8705 , 300.38974, 300.80524, ..., 299.79367, 299.89468, 300.0302 ],\n          dtype=float32)\n"
     ]
    }
   ],
   "source": [
    "test=cdo_regional_mean_comparison(infile,namelist,telecname,rtol=1.e-1,atol=1.e-1,ret_diff=False)"
   ]
  },
  {
   "cell_type": "code",
   "execution_count": null,
   "metadata": {},
   "outputs": [],
   "source": [
    "test.plot()"
   ]
  },
  {
   "cell_type": "code",
   "execution_count": null,
   "metadata": {},
   "outputs": [],
   "source": []
  }
 ],
 "metadata": {
  "kernelspec": {
   "display_name": "aqua",
   "language": "python",
   "name": "python3"
  },
  "language_info": {
   "codemirror_mode": {
    "name": "ipython",
    "version": 3
   },
   "file_extension": ".py",
   "mimetype": "text/x-python",
   "name": "python",
   "nbconvert_exporter": "python",
   "pygments_lexer": "ipython3",
   "version": "3.10.9"
  },
  "orig_nbformat": 4,
  "vscode": {
   "interpreter": {
    "hash": "3e3b80be15d8b7824bdac94dd60428e03a1db75ec501e03347a37a9ba639a94b"
   }
  }
 },
 "nbformat": 4,
 "nbformat_minor": 2
}
