{
 "cells": [
  {
   "cell_type": "code",
   "execution_count": 1,
   "metadata": {},
   "outputs": [
    {
     "name": "stdout",
     "output_type": "stream",
     "text": [
      "FDB5 binary library not present on system, disabling FDB support.\n"
     ]
    }
   ],
   "source": [
    "from teleconnections.comparison import TeleconnectionComparison"
   ]
  },
  {
   "cell_type": "code",
   "execution_count": 3,
   "metadata": {},
   "outputs": [
    {
     "name": "stderr",
     "output_type": "stream",
     "text": [
      "2023-06-23 19:03:10 :: TeleconnectionComparison :: DEBUG    -> Teleconnection: NAO\n",
      "2023-06-23 19:03:10 :: TeleconnectionComparison :: DEBUG    -> Model: ERA5/era5/monthly\n",
      "2023-06-23 19:03:10 :: TeleconnectionComparison :: DEBUG    -> Model: ERA5/era5/monthly\n",
      "2023-06-23 19:03:10 :: TeleconnectionComparison :: DEBUG    -> Open dataset: ERA5/era5/monthly\n",
      "2023-06-23 19:03:10 :: Teleconnection :: DEBUG    -> Open dataset: ERA5/era5/monthly\n",
      "2023-06-23 19:03:10 :: Teleconnection :: DEBUG    -> Regridding resolution: r100\n",
      "2023-06-23 19:03:10 :: Teleconnection :: INFO     -> Namelist loaded\n",
      "2023-06-23 19:03:10 :: Teleconnection :: DEBUG    -> {'NAO': {'telec_type': 'station', 'field': 'msl', 'grib_code': 151, 'lat1': 37.7, 'lon1': -25.7, 'lat2': 64.1, 'lon2': -22}, 'ENSO': {'telec_type': 'region', 'field': 'sst', 'grib_code': 151159, 'latN': 5, 'lonW': -170, 'latS': -5, 'lonE': -120}}\n",
      "2023-06-23 19:03:10 :: Teleconnection :: DEBUG    -> Teleconnection variable: msl\n",
      "2023-06-23 19:03:10 :: Teleconnection :: DEBUG    -> Teleconnection type: station\n",
      "2023-06-23 19:03:13 :: Teleconnection :: INFO     -> Reader initialized\n",
      "2023-06-23 19:03:13 :: TeleconnectionComparison :: DEBUG    -> Open dataset: ERA5/era5/monthly\n",
      "2023-06-23 19:03:13 :: Teleconnection :: DEBUG    -> Open dataset: ERA5/era5/monthly\n",
      "2023-06-23 19:03:13 :: Teleconnection :: DEBUG    -> Regridding resolution: r100\n",
      "2023-06-23 19:03:13 :: Teleconnection :: INFO     -> Namelist loaded\n",
      "2023-06-23 19:03:13 :: Teleconnection :: DEBUG    -> {'NAO': {'telec_type': 'station', 'field': 'msl', 'grib_code': 151, 'lat1': 37.7, 'lon1': -25.7, 'lat2': 64.1, 'lon2': -22}, 'ENSO': {'telec_type': 'region', 'field': 'sst', 'grib_code': 151159, 'latN': 5, 'lonW': -170, 'latS': -5, 'lonE': -120}}\n",
      "2023-06-23 19:03:13 :: Teleconnection :: DEBUG    -> Teleconnection variable: msl\n",
      "2023-06-23 19:03:13 :: Teleconnection :: DEBUG    -> Teleconnection type: station\n",
      "2023-06-23 19:03:13 :: Teleconnection :: INFO     -> Reader initialized\n"
     ]
    }
   ],
   "source": [
    "test = TeleconnectionComparison(telecname='NAO', models=['ERA5','ERA5'],\n",
    "                                exps=['era5','era5'], sources=['monthly','monthly'],\n",
    "                                loglevel='DEBUG')"
   ]
  },
  {
   "cell_type": "code",
   "execution_count": 4,
   "metadata": {},
   "outputs": [
    {
     "data": {
      "text/plain": [
       "['ERA5', 'ERA5']"
      ]
     },
     "execution_count": 4,
     "metadata": {},
     "output_type": "execute_result"
    }
   ],
   "source": [
    "test.models"
   ]
  },
  {
   "cell_type": "code",
   "execution_count": null,
   "metadata": {},
   "outputs": [],
   "source": []
  }
 ],
 "metadata": {
  "kernelspec": {
   "display_name": "teleconnections",
   "language": "python",
   "name": "python3"
  },
  "language_info": {
   "codemirror_mode": {
    "name": "ipython",
    "version": 3
   },
   "file_extension": ".py",
   "mimetype": "text/x-python",
   "name": "python",
   "nbconvert_exporter": "python",
   "pygments_lexer": "ipython3",
   "version": "3.10.11"
  },
  "orig_nbformat": 4
 },
 "nbformat": 4,
 "nbformat_minor": 2
}
