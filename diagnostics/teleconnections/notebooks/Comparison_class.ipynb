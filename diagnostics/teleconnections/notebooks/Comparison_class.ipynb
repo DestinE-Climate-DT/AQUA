{
 "cells": [
  {
   "cell_type": "code",
   "execution_count": 1,
   "metadata": {},
   "outputs": [
    {
     "name": "stdout",
     "output_type": "stream",
     "text": [
      "FDB5 binary library not present on system, disabling FDB support.\n"
     ]
    }
   ],
   "source": [
    "from teleconnections.comparison import TeleconnectionComparison"
   ]
  },
  {
   "cell_type": "code",
   "execution_count": 2,
   "metadata": {},
   "outputs": [
    {
     "name": "stderr",
     "output_type": "stream",
     "text": [
      "2023-06-26 10:28:35 :: TeleconnectionComparison :: DEBUG    -> Teleconnection: NAO\n",
      "2023-06-26 10:28:35 :: TeleconnectionComparison :: DEBUG    -> Model: ERA5/era5/monthly\n",
      "2023-06-26 10:28:35 :: TeleconnectionComparison :: DEBUG    -> Model: IFS/tco1279-orca025-cycle3/2D_monthly_native\n",
      "2023-06-26 10:28:35 :: TeleconnectionComparison :: DEBUG    -> Open dataset: ERA5/era5/monthly\n",
      "2023-06-26 10:28:35 :: Teleconnection :: DEBUG    -> Open dataset: ERA5/era5/monthly\n",
      "2023-06-26 10:28:35 :: Teleconnection :: DEBUG    -> Regridding resolution: r100\n",
      "2023-06-26 10:28:35 :: Teleconnection :: INFO     -> Namelist loaded\n",
      "2023-06-26 10:28:35 :: Teleconnection :: DEBUG    -> {'NAO': {'telec_type': 'station', 'field': 'msl', 'grib_code': 151, 'lat1': 37.7, 'lon1': -25.7, 'lat2': 64.1, 'lon2': -22}, 'ENSO': {'telec_type': 'region', 'field': 'sst', 'grib_code': 151159, 'latN': 5, 'lonW': -170, 'latS': -5, 'lonE': -120}}\n",
      "2023-06-26 10:28:35 :: Teleconnection :: DEBUG    -> Teleconnection variable: msl\n",
      "2023-06-26 10:28:35 :: Teleconnection :: DEBUG    -> Teleconnection type: station\n",
      "2023-06-26 10:28:38 :: Teleconnection :: INFO     -> Reader initialized\n",
      "2023-06-26 10:28:38 :: TeleconnectionComparison :: DEBUG    -> Open dataset: IFS/tco1279-orca025-cycle3/2D_monthly_native\n",
      "2023-06-26 10:28:38 :: Teleconnection :: DEBUG    -> Open dataset: IFS/tco1279-orca025-cycle3/2D_monthly_native\n",
      "2023-06-26 10:28:38 :: Teleconnection :: DEBUG    -> Regridding resolution: r100\n",
      "2023-06-26 10:28:38 :: Teleconnection :: INFO     -> Namelist loaded\n",
      "2023-06-26 10:28:38 :: Teleconnection :: DEBUG    -> {'NAO': {'telec_type': 'station', 'field': 'msl', 'grib_code': 151, 'lat1': 37.7, 'lon1': -25.7, 'lat2': 64.1, 'lon2': -22}, 'ENSO': {'telec_type': 'region', 'field': 'sst', 'grib_code': 151159, 'latN': 5, 'lonW': -170, 'latS': -5, 'lonE': -120}}\n",
      "2023-06-26 10:28:38 :: Teleconnection :: DEBUG    -> Teleconnection variable: msl\n",
      "2023-06-26 10:28:38 :: Teleconnection :: DEBUG    -> Teleconnection type: station\n",
      "2023-06-26 10:28:39 :: Reader :: WARNING  -> No fixes available for model IFS, experiment tco1279-orca025-cycle3, source 2D_monthly_native\n",
      "2023-06-26 10:28:39 :: Teleconnection :: INFO     -> Reader initialized\n"
     ]
    }
   ],
   "source": [
    "test = TeleconnectionComparison(telecname='NAO', models=['ERA5','IFS'],\n",
    "                                exps=['era5','tco1279-orca025-cycle3'], sources=['monthly','2D_monthly_native'],\n",
    "                                loglevel='DEBUG')"
   ]
  },
  {
   "cell_type": "code",
   "execution_count": 3,
   "metadata": {},
   "outputs": [
    {
     "name": "stderr",
     "output_type": "stream",
     "text": [
      "2023-06-26 10:28:39 :: Teleconnection :: WARNING  -> No retrieve has been performed, trying to retrieve\n",
      "2023-06-26 10:28:39 :: Reader :: INFO     -> Retrieving variables: ['msl']\n",
      "2023-06-26 10:28:39 :: Reader :: DEBUG    -> Variables in the fixes: {'msl': {'grib': True, 'source': 'MSL'}, 'sst': {'grib': True, 'source': 'SSTK'}, '2t': {'grib': True, 'source': 'T2M'}}\n",
      "2023-06-26 10:28:40 :: Reader :: INFO     -> msl: Pa --> Pa\n",
      "2023-06-26 10:28:40 :: Teleconnection :: INFO     -> Data retrieved\n",
      "2023-06-26 10:28:40 :: Reader :: DEBUG    -> Grouping variables that share the same dimension\n",
      "2023-06-26 10:28:40 :: Reader :: DEBUG    -> Vert coord: ['2d', '2dm']\n",
      "2023-06-26 10:28:40 :: Reader :: DEBUG    -> masked_att: None\n",
      "2023-06-26 10:28:40 :: Reader :: DEBUG    -> masked_vars: ['sst', 'SSTK']\n",
      "2023-06-26 10:28:40 :: Teleconnection :: INFO     -> Data regridded\n",
      "2023-06-26 10:28:40 :: station based index :: INFO     -> Evaluating station based index for NAO\n",
      "/work/bb1153/b382289/mambaforge/envs/teleconnections/lib/python3.10/site-packages/xarray/core/indexing.py:1443: PerformanceWarning: Slicing with an out-of-order index is generating 83 times more chunks\n",
      "  return self.array[key]\n",
      "2023-06-26 10:28:41 :: station based index :: INFO     -> Data longitudes are 0-360, converting teleconnection coords\n",
      "2023-06-26 10:28:41 :: station based index :: INFO     -> Station 1: lon = 334.3, lat = 37.7\n",
      "2023-06-26 10:28:41 :: station based index :: INFO     -> Station 2: lon = 338, lat = 64.1\n",
      "2023-06-26 10:28:41 :: station based index :: DEBUG    -> Dropping NaNs\n",
      "2023-06-26 10:29:13 :: station based index :: INFO     -> Index evaluated\n",
      "2023-06-26 10:29:13 :: TeleconnectionComparison :: DEBUG    -> Teleconnection index for ERA5/era5/monthly: <xarray.DataArray 'index' (time: 994)>\n",
      "dask.array<getitem, shape=(994,), dtype=float64, chunksize=(3,), chunktype=numpy.ndarray>\n",
      "Coordinates:\n",
      "  * time     (time) datetime64[ns] 1940-02-01 1940-03-01 ... 2022-11-01\n",
      "    month    (time) int64 2 3 4 5 6 7 8 9 10 11 12 1 ... 1 2 3 4 5 6 7 8 9 10 11\n",
      "Attributes:\n",
      "    standard_name:  air_pressure_at_mean_sea_level\n",
      "    long_name:      Mean sea level pressure\n",
      "    units:          Pa\n",
      "    code:           151\n",
      "    table:          128\n",
      "    history:        2023-06-26 10:28:40 variable renamed by AQUA fixer;\\n\n",
      "    paramId:        151\n",
      "    cfVarName:      msl\n",
      "    shortName:      msl\n",
      "    regridded:      1\n",
      "2023-06-26 10:29:13 :: Teleconnection :: WARNING  -> No retrieve has been performed, trying to retrieve\n",
      "2023-06-26 10:29:13 :: Reader :: INFO     -> Retrieving variables: ['msl']\n",
      "2023-06-26 10:29:13 :: Reader :: DEBUG    -> No fixes available\n",
      "2023-06-26 10:29:14 :: Teleconnection :: INFO     -> Data retrieved\n",
      "2023-06-26 10:29:14 :: Teleconnection :: INFO     -> Data regridded\n",
      "2023-06-26 10:29:14 :: station based index :: INFO     -> Evaluating station based index for NAO\n",
      "2023-06-26 10:29:14 :: station based index :: INFO     -> Data longitudes are 0-360, converting teleconnection coords\n",
      "2023-06-26 10:29:14 :: station based index :: INFO     -> Station 1: lon = 334.3, lat = 37.7\n",
      "2023-06-26 10:29:14 :: station based index :: INFO     -> Station 2: lon = 338, lat = 64.1\n",
      "2023-06-26 10:29:14 :: station based index :: DEBUG    -> Dropping NaNs\n",
      "2023-06-26 10:29:23 :: station based index :: INFO     -> Index evaluated\n",
      "2023-06-26 10:29:23 :: TeleconnectionComparison :: DEBUG    -> Teleconnection index for IFS/tco1279-orca025-cycle3/2D_monthly_native: <xarray.DataArray 'index' (time: 58)>\n",
      "dask.array<getitem, shape=(58,), dtype=float64, chunksize=(3,), chunktype=numpy.ndarray>\n",
      "Coordinates:\n",
      "  * time     (time) datetime64[ns] 2020-02-15 2020-03-15 ... 2024-11-15\n",
      "    month    (time) int64 2 3 4 5 6 7 8 9 10 11 12 1 ... 1 2 3 4 5 6 7 8 9 10 11\n",
      "Attributes: (12/17)\n",
      "    paramId:                    151\n",
      "    dataType:                   fc\n",
      "    numberOfPoints:             6599680\n",
      "    typeOfLevel:                surface\n",
      "    stepUnits:                  1\n",
      "    stepType:                   avg\n",
      "    ...                         ...\n",
      "    cfVarName:                  msl\n",
      "    missingValue:               3.4028234663852886e+38\n",
      "    totalNumber:                0\n",
      "    NV:                         0\n",
      "    gridDefinitionDescription:  Gaussian Latitude/Longitude Grid\n",
      "    regridded:                  1\n"
     ]
    }
   ],
   "source": [
    "test.index_comparison()"
   ]
  },
  {
   "cell_type": "code",
   "execution_count": null,
   "metadata": {},
   "outputs": [],
   "source": []
  }
 ],
 "metadata": {
  "kernelspec": {
   "display_name": "teleconnections",
   "language": "python",
   "name": "python3"
  },
  "language_info": {
   "codemirror_mode": {
    "name": "ipython",
    "version": 3
   },
   "file_extension": ".py",
   "mimetype": "text/x-python",
   "name": "python",
   "nbconvert_exporter": "python",
   "pygments_lexer": "ipython3",
   "version": "3.10.11"
  },
  "orig_nbformat": 4
 },
 "nbformat": 4,
 "nbformat_minor": 2
}
