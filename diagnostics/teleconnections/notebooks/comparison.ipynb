{
 "cells": [
  {
   "cell_type": "code",
   "execution_count": 1,
   "metadata": {},
   "outputs": [
    {
     "name": "stdout",
     "output_type": "stream",
     "text": [
      "FDB5 binary library not present on system, disabling FDB support.\n"
     ]
    }
   ],
   "source": [
    "from teleconnections.tc_class import Teleconnection\n",
    "from aqua.slurm import slurm"
   ]
  },
  {
   "cell_type": "code",
   "execution_count": 5,
   "metadata": {},
   "outputs": [],
   "source": [
    "model_list = ['IFS', 'IFS', 'ICON']\n",
    "exp_list = ['tco1279-orca025-cycle3', 'tco2559-ng5-cycle3', 'ngc3028']\n",
    "source_list = ['2D_monthly_native', 'lra-r100-monthly', 'P1D']\n",
    "\n",
    "model_obs = 'ERA5'\n",
    "exp_obs = 'era5'\n",
    "source_obs = 'monthly'"
   ]
  },
  {
   "cell_type": "code",
   "execution_count": 3,
   "metadata": {},
   "outputs": [
    {
     "name": "stderr",
     "output_type": "stream",
     "text": [
      "2023-06-29 12:21:41 :: create_folder :: WARNING  -> Folder ./slurm already exists\n",
      "2023-06-29 12:21:41 :: create_folder :: WARNING  -> Folder ./slurm/logs already exists\n",
      "2023-06-29 12:21:41 :: create_folder :: WARNING  -> Folder ./slurm/output already exists\n"
     ]
    },
    {
     "name": "stderr",
     "output_type": "stream",
     "text": [
      "2023-06-29 12:21:42 :: slurm :: WARNING  -> #!/usr/bin/env bash\n",
      "\n",
      "#SBATCH -J dask-worker\n",
      "#SBATCH -p compute\n",
      "#SBATCH -A bb1153\n",
      "#SBATCH -n 1\n",
      "#SBATCH --cpus-per-task=1\n",
      "#SBATCH --mem=10G\n",
      "#SBATCH -t 02:30:00\n",
      "#SBATCH --error=./slurm/logs/dask-worker-%j.err\n",
      "#SBATCH --output=./slurm/output/dask-worker-%j.out\n",
      "\n",
      "/work/bb1153/b382289/mambaforge/envs/teleconnections/bin/python -m distributed.cli.dask_worker tcp://136.172.124.7:41007 --nthreads 1 --memory-limit 9.31GiB --name dummy-name --nanny --death-timeout 60\n",
      "\n"
     ]
    }
   ],
   "source": [
    "slurm.job()"
   ]
  },
  {
   "cell_type": "code",
   "execution_count": 6,
   "metadata": {},
   "outputs": [
    {
     "name": "stderr",
     "output_type": "stream",
     "text": [
      "2023-06-29 12:24:42 :: Teleconnection :: INFO     -> Updating the log_level to DEBUG\n",
      "2023-06-29 12:24:42 :: Teleconnection :: DEBUG    -> Open dataset: IFS/tco1279-orca025-cycle3/2D_monthly_native\n",
      "2023-06-29 12:24:42 :: Teleconnection :: DEBUG    -> Regridding resolution: r100\n",
      "2023-06-29 12:24:42 :: Teleconnection :: DEBUG    -> Frequency: monthly\n",
      "2023-06-29 12:24:42 :: Teleconnection :: INFO     -> Namelist loaded\n",
      "2023-06-29 12:24:42 :: Teleconnection :: DEBUG    -> {'NAO': {'telec_type': 'station', 'field': 'msl', 'grib_code': 151, 'lat1': 37.7, 'lon1': -25.7, 'lat2': 64.1, 'lon2': -22}, 'ENSO': {'telec_type': 'region', 'field': 'sst', 'grib_code': 151159, 'latN': 5, 'lonW': -170, 'latS': -5, 'lonE': -120}}\n",
      "2023-06-29 12:24:42 :: Teleconnection :: DEBUG    -> Teleconnection variable: msl\n",
      "2023-06-29 12:24:42 :: Teleconnection :: DEBUG    -> Teleconnection type: station\n",
      "2023-06-29 12:24:42 :: Teleconnection :: INFO     -> Data will be saved\n",
      "2023-06-29 12:24:42 :: Teleconnection :: WARNING  -> No data folder specified, using the current directory\n",
      "2023-06-29 12:24:42 :: Teleconnection :: DEBUG    -> Data output folder: /home/b/b382289/AQUA/diagnostics/teleconnections/notebooks\n",
      "2023-06-29 12:24:42 :: Teleconnection :: INFO     -> No filename specified, using the teleconnection name\n",
      "2023-06-29 12:24:42 :: Teleconnection :: DEBUG    -> Output filename: IFS_tco1279-orca025-cycle3_2D_monthly_native_NAO\n",
      "2023-06-29 12:24:42 :: Reader :: INFO     -> Updating the log_level to DEBUG\n",
      "2023-06-29 12:24:42 :: Streaming :: INFO     -> Updating the log_level to DEBUG\n",
      "2023-06-29 12:24:42 :: Reader :: WARNING  -> No fixes available for model IFS, experiment tco1279-orca025-cycle3, source 2D_monthly_native\n",
      "2023-06-29 12:24:43 :: Teleconnection :: INFO     -> Reader initialized\n",
      "2023-06-29 12:24:43 :: Teleconnection :: DEBUG    -> Open dataset: IFS/tco2559-ng5-cycle3/lra-r100-monthly\n",
      "2023-06-29 12:24:43 :: Teleconnection :: DEBUG    -> Regridding resolution: r100\n",
      "2023-06-29 12:24:43 :: Teleconnection :: DEBUG    -> Frequency: monthly\n",
      "2023-06-29 12:24:43 :: Teleconnection :: INFO     -> Namelist loaded\n",
      "2023-06-29 12:24:43 :: Teleconnection :: DEBUG    -> {'NAO': {'telec_type': 'station', 'field': 'msl', 'grib_code': 151, 'lat1': 37.7, 'lon1': -25.7, 'lat2': 64.1, 'lon2': -22}, 'ENSO': {'telec_type': 'region', 'field': 'sst', 'grib_code': 151159, 'latN': 5, 'lonW': -170, 'latS': -5, 'lonE': -120}}\n",
      "2023-06-29 12:24:43 :: Teleconnection :: DEBUG    -> Teleconnection variable: msl\n",
      "2023-06-29 12:24:43 :: Teleconnection :: DEBUG    -> Teleconnection type: station\n",
      "2023-06-29 12:24:43 :: Teleconnection :: INFO     -> Data will be saved\n",
      "2023-06-29 12:24:43 :: Teleconnection :: WARNING  -> No data folder specified, using the current directory\n",
      "2023-06-29 12:24:43 :: Teleconnection :: DEBUG    -> Data output folder: /home/b/b382289/AQUA/diagnostics/teleconnections/notebooks\n",
      "2023-06-29 12:24:43 :: Teleconnection :: INFO     -> No filename specified, using the teleconnection name\n",
      "2023-06-29 12:24:43 :: Teleconnection :: DEBUG    -> Output filename: IFS_tco2559-ng5-cycle3_lra-r100-monthly_NAO\n",
      "2023-06-29 12:24:43 :: Reader :: WARNING  -> No fixes available for model IFS, experiment tco2559-ng5-cycle3, source lra-r100-monthly\n",
      "2023-06-29 12:24:43 :: Teleconnection :: INFO     -> Reader initialized\n",
      "2023-06-29 12:24:43 :: Teleconnection :: DEBUG    -> Open dataset: ICON/ngc3028/P1D\n",
      "2023-06-29 12:24:43 :: Teleconnection :: DEBUG    -> Regridding resolution: r100\n",
      "2023-06-29 12:24:43 :: Teleconnection :: DEBUG    -> Frequency: monthly\n",
      "2023-06-29 12:24:43 :: Teleconnection :: INFO     -> Namelist loaded\n",
      "2023-06-29 12:24:43 :: Teleconnection :: DEBUG    -> {'NAO': {'telec_type': 'station', 'field': 'msl', 'grib_code': 151, 'lat1': 37.7, 'lon1': -25.7, 'lat2': 64.1, 'lon2': -22}, 'ENSO': {'telec_type': 'region', 'field': 'sst', 'grib_code': 151159, 'latN': 5, 'lonW': -170, 'latS': -5, 'lonE': -120}}\n",
      "2023-06-29 12:24:43 :: Teleconnection :: DEBUG    -> Teleconnection variable: msl\n",
      "2023-06-29 12:24:43 :: Teleconnection :: DEBUG    -> Teleconnection type: station\n",
      "2023-06-29 12:24:43 :: Teleconnection :: INFO     -> Data will be saved\n",
      "2023-06-29 12:24:43 :: Teleconnection :: WARNING  -> No data folder specified, using the current directory\n",
      "2023-06-29 12:24:43 :: Teleconnection :: DEBUG    -> Data output folder: /home/b/b382289/AQUA/diagnostics/teleconnections/notebooks\n",
      "2023-06-29 12:24:43 :: Teleconnection :: INFO     -> No filename specified, using the teleconnection name\n",
      "2023-06-29 12:24:43 :: Teleconnection :: DEBUG    -> Output filename: ICON_ngc3028_P1D_NAO\n",
      "2023-06-29 12:24:43 :: Reader :: WARNING  -> No zoom specified but the source requires it, setting zoom=0\n",
      "2023-06-29 12:24:55 :: Teleconnection :: INFO     -> Reader initialized\n"
     ]
    }
   ],
   "source": [
    "# Create a list of Teleconnection objects\n",
    "tc_list = []\n",
    "\n",
    "for model, exp, source in zip(model_list, exp_list, source_list):\n",
    "    tc_list.append(Teleconnection(model=model, exp=exp, source=source, telecname='NAO', savefile=True,loglevel='DEBUG'))"
   ]
  },
  {
   "cell_type": "code",
   "execution_count": 7,
   "metadata": {},
   "outputs": [
    {
     "name": "stderr",
     "output_type": "stream",
     "text": [
      "2023-06-29 12:26:03 :: Reader :: INFO     -> Retrieving variables: ['msl']\n",
      "2023-06-29 12:26:03 :: Reader :: DEBUG    -> No fixes available\n",
      "2023-06-29 12:26:04 :: Teleconnection :: INFO     -> Data retrieved\n",
      "2023-06-29 12:26:04 :: Teleconnection :: INFO     -> Data regridded\n",
      "2023-06-29 12:26:04 :: Teleconnection :: INFO     -> Data already monthly\n",
      "2023-06-29 12:26:04 :: station based index :: INFO     -> Evaluating station based index for NAO\n",
      "2023-06-29 12:26:04 :: station based index :: INFO     -> Data longitudes are 0-360, converting teleconnection coords\n",
      "2023-06-29 12:26:04 :: station based index :: INFO     -> Station 1: lon = 334.3, lat = 37.7\n",
      "2023-06-29 12:26:04 :: station based index :: INFO     -> Station 2: lon = 338, lat = 64.1\n",
      "2023-06-29 12:26:05 :: station based index :: DEBUG    -> Dropping NaNs\n",
      "2023-06-29 12:26:54 :: station based index :: INFO     -> Index evaluated\n",
      "2023-06-29 12:27:22 :: Teleconnection :: INFO     -> Index saved to /home/b/b382289/AQUA/diagnostics/teleconnections/notebooks/IFS_tco1279-orca025-cycle3_2D_monthly_native_NAO_index.nc\n",
      "2023-06-29 12:27:23 :: Regression :: INFO     -> Computing regression\n",
      "2023-06-29 12:28:14 :: Teleconnection :: INFO     -> Regression saved to /home/b/b382289/AQUA/diagnostics/teleconnections/notebooks/IFS_tco1279-orca025-cycle3_2D_monthly_native_NAO_reg.nc\n",
      "2023-06-29 12:28:14 :: Correlation :: INFO     -> Computing correlation\n",
      "2023-06-29 12:29:06 :: Teleconnection :: INFO     -> Correlation saved to /home/b/b382289/AQUA/diagnostics/teleconnections/notebooks/IFS_tco1279-orca025-cycle3_2D_monthly_native_NAO_corr.nc\n",
      "2023-06-29 12:29:06 :: Teleconnection :: INFO     -> Teleconnection analysis completed\n",
      "2023-06-29 12:29:06 :: Reader :: INFO     -> Retrieving variables: ['msl']\n",
      "2023-06-29 12:29:06 :: Reader :: DEBUG    -> No fixes available\n",
      "2023-06-29 12:29:11 :: Teleconnection :: INFO     -> Data retrieved\n",
      "2023-06-29 12:29:11 :: Teleconnection :: INFO     -> Data regridded\n",
      "2023-06-29 12:29:11 :: Teleconnection :: INFO     -> Data already monthly\n",
      "2023-06-29 12:29:11 :: station based index :: INFO     -> Evaluating station based index for NAO\n",
      "2023-06-29 12:29:12 :: station based index :: INFO     -> Data longitudes are 0-360, converting teleconnection coords\n",
      "2023-06-29 12:29:12 :: station based index :: INFO     -> Station 1: lon = 334.3, lat = 37.7\n",
      "2023-06-29 12:29:12 :: station based index :: INFO     -> Station 2: lon = 338, lat = 64.1\n",
      "2023-06-29 12:29:12 :: station based index :: DEBUG    -> Dropping NaNs\n",
      "2023-06-29 12:29:16 :: station based index :: INFO     -> Index evaluated\n",
      "2023-06-29 12:29:20 :: Teleconnection :: INFO     -> Index saved to /home/b/b382289/AQUA/diagnostics/teleconnections/notebooks/IFS_tco2559-ng5-cycle3_lra-r100-monthly_NAO_index.nc\n",
      "2023-06-29 12:29:20 :: Regression :: INFO     -> Computing regression\n",
      "2023-06-29 12:29:25 :: Teleconnection :: INFO     -> Regression saved to /home/b/b382289/AQUA/diagnostics/teleconnections/notebooks/IFS_tco2559-ng5-cycle3_lra-r100-monthly_NAO_reg.nc\n",
      "2023-06-29 12:29:25 :: Correlation :: INFO     -> Computing correlation\n",
      "2023-06-29 12:29:29 :: Teleconnection :: INFO     -> Correlation saved to /home/b/b382289/AQUA/diagnostics/teleconnections/notebooks/IFS_tco2559-ng5-cycle3_lra-r100-monthly_NAO_corr.nc\n",
      "2023-06-29 12:29:29 :: Teleconnection :: INFO     -> Teleconnection analysis completed\n",
      "2023-06-29 12:29:29 :: Reader :: INFO     -> Retrieving variables: ['msl']\n",
      "2023-06-29 12:29:29 :: Reader :: DEBUG    -> Variables in the fixes: {'msl': {'source': 'pres_msl', 'src_units': 'Pa', 'grib': True}, 'mtntrf': {'derived': '-rlut', 'grib': True}, 'sst': {'source': 'ts', 'grib': False, 'src_units': 'K'}}\n",
      "2023-06-29 12:29:30 :: Reader :: INFO     -> msl: Pa --> Pa\n",
      "2023-06-29 12:29:30 :: Teleconnection :: INFO     -> Data retrieved\n",
      "2023-06-29 12:29:30 :: Reader :: DEBUG    -> Grouping variables that share the same dimension\n",
      "2023-06-29 12:29:30 :: Reader :: DEBUG    -> Vert coord: ['depth_half', 'depth_full']\n",
      "2023-06-29 12:29:30 :: Reader :: DEBUG    -> masked_att: {'component': 'ocean'}\n",
      "2023-06-29 12:29:30 :: Reader :: DEBUG    -> masked_vars: None\n",
      "2023-06-29 12:29:30 :: Teleconnection :: INFO     -> Data regridded\n",
      "2023-06-29 12:29:30 :: Teleconnection :: INFO     -> Data already monthly\n",
      "2023-06-29 12:29:30 :: station based index :: INFO     -> Evaluating station based index for NAO\n",
      "2023-06-29 12:29:30 :: station based index :: INFO     -> Data longitudes are 0-360, converting teleconnection coords\n",
      "2023-06-29 12:29:30 :: station based index :: INFO     -> Station 1: lon = 334.3, lat = 37.7\n",
      "2023-06-29 12:29:30 :: station based index :: INFO     -> Station 2: lon = 338, lat = 64.1\n",
      "2023-06-29 12:29:30 :: station based index :: DEBUG    -> Dropping NaNs\n"
     ]
    }
   ],
   "source": [
    "# Run the comparison\n",
    "for tc in tc_list:\n",
    "    tc.run()"
   ]
  },
  {
   "cell_type": "code",
   "execution_count": null,
   "metadata": {},
   "outputs": [],
   "source": [
    "# Observational data\n",
    "tc_obs = Teleconnection(model=model_obs, exp=exp_obs, source=source_obs, telecname='NAO', savefile=True,loglevel='DEBUG')\n",
    "tc_obs.run()"
   ]
  },
  {
   "cell_type": "code",
   "execution_count": null,
   "metadata": {},
   "outputs": [],
   "source": [
    "slurm.scancel()"
   ]
  }
 ],
 "metadata": {
  "kernelspec": {
   "display_name": "teleconnections",
   "language": "python",
   "name": "python3"
  },
  "language_info": {
   "codemirror_mode": {
    "name": "ipython",
    "version": 3
   },
   "file_extension": ".py",
   "mimetype": "text/x-python",
   "name": "python",
   "nbconvert_exporter": "python",
   "pygments_lexer": "ipython3",
   "version": "3.10.11"
  },
  "orig_nbformat": 4
 },
 "nbformat": 4,
 "nbformat_minor": 2
}
