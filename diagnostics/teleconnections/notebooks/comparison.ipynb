{
 "cells": [
  {
   "cell_type": "code",
   "execution_count": 1,
   "metadata": {},
   "outputs": [
    {
     "name": "stdout",
     "output_type": "stream",
     "text": [
      "FDB5 binary library not present on system, disabling FDB support.\n"
     ]
    }
   ],
   "source": [
    "from teleconnections.tc_class import Teleconnection\n",
    "from aqua.slurm import slurm"
   ]
  },
  {
   "cell_type": "code",
   "execution_count": 2,
   "metadata": {},
   "outputs": [],
   "source": [
    "model_list = ['IFS', 'IFS', 'ICON']\n",
    "exp_list = ['tco1279-orca025-cycle3', 'tco2559-ng5-cycle3', 'ngc3028']\n",
    "source_list = ['2D_monthly_native', 'tco2559-ng5-cycle3', 'P1D']\n"
   ]
  },
  {
   "cell_type": "code",
   "execution_count": 3,
   "metadata": {},
   "outputs": [
    {
     "name": "stderr",
     "output_type": "stream",
     "text": [
      "2023-06-28 17:53:47 :: create_folder :: WARNING  -> Folder ./slurm already exists\n",
      "2023-06-28 17:53:47 :: create_folder :: WARNING  -> Folder ./slurm/logs already exists\n",
      "2023-06-28 17:53:47 :: create_folder :: WARNING  -> Folder ./slurm/output already exists\n"
     ]
    },
    {
     "name": "stderr",
     "output_type": "stream",
     "text": [
      "2023-06-28 17:53:48 :: slurm :: WARNING  -> #!/usr/bin/env bash\n",
      "\n",
      "#SBATCH -J dask-worker\n",
      "#SBATCH -p compute\n",
      "#SBATCH -A bb1153\n",
      "#SBATCH -n 1\n",
      "#SBATCH --cpus-per-task=1\n",
      "#SBATCH --mem=10G\n",
      "#SBATCH -t 02:30:00\n",
      "#SBATCH --error=./slurm/logs/dask-worker-%j.err\n",
      "#SBATCH --output=./slurm/output/dask-worker-%j.out\n",
      "\n",
      "/work/bb1153/b382289/mambaforge/envs/teleconnections/bin/python -m distributed.cli.dask_worker tcp://136.172.124.6:37479 --nthreads 1 --memory-limit 9.31GiB --name dummy-name --nanny --death-timeout 60\n",
      "\n"
     ]
    }
   ],
   "source": [
    "slurm.job()"
   ]
  },
  {
   "cell_type": "code",
   "execution_count": 7,
   "metadata": {},
   "outputs": [
    {
     "name": "stderr",
     "output_type": "stream",
     "text": [
      "2023-06-28 17:54:58 :: Teleconnection :: WARNING  -> No data folder specified, using the current directory\n",
      "2023-06-28 17:54:58 :: Reader :: WARNING  -> No fixes available for model IFS, experiment tco1279-orca025-cycle3, source 2D_monthly_native\n",
      "2023-06-28 17:57:42 :: Teleconnection :: WARNING  -> No data folder specified, using the current directory\n",
      "2023-06-28 17:57:42 :: Reader :: WARNING  -> No fixes available for model IFS, experiment tco1279-orca025-cycle3, source 2D_monthly_native\n",
      "2023-06-28 18:00:23 :: Teleconnection :: WARNING  -> No data folder specified, using the current directory\n",
      "2023-06-28 18:00:23 :: Reader :: WARNING  -> No zoom specified but the source requires it, setting zoom=0\n"
     ]
    },
    {
     "ename": "KeyboardInterrupt",
     "evalue": "",
     "output_type": "error",
     "traceback": [
      "\u001b[0;31m---------------------------------------------------------------------------\u001b[0m",
      "\u001b[0;31mKeyboardInterrupt\u001b[0m                         Traceback (most recent call last)",
      "Cell \u001b[0;32mIn[7], line 6\u001b[0m\n\u001b[1;32m      3\u001b[0m \u001b[39mfor\u001b[39;00m model \u001b[39min\u001b[39;00m model_list:\n\u001b[1;32m      4\u001b[0m     telec[model_list\u001b[39m.\u001b[39mindex(model)] \u001b[39m=\u001b[39m Teleconnection(model\u001b[39m=\u001b[39mmodel, exp\u001b[39m=\u001b[39mexp_list[model_list\u001b[39m.\u001b[39mindex(model)], source\u001b[39m=\u001b[39msource_list[model_list\u001b[39m.\u001b[39mindex(model)], \n\u001b[1;32m      5\u001b[0m                            telecname\u001b[39m=\u001b[39m\u001b[39m'\u001b[39m\u001b[39mNAO\u001b[39m\u001b[39m'\u001b[39m, savefile\u001b[39m=\u001b[39m\u001b[39mTrue\u001b[39;00m)\n\u001b[0;32m----> 6\u001b[0m     telec[model_list\u001b[39m.\u001b[39;49mindex(model)]\u001b[39m.\u001b[39;49mrun()\n",
      "File \u001b[0;32m~/AQUA/diagnostics/teleconnections/teleconnections/tc_class.py:150\u001b[0m, in \u001b[0;36mTeleconnection.run\u001b[0;34m(self)\u001b[0m\n\u001b[1;32m    147\u001b[0m \u001b[39m\u001b[39m\u001b[39m\"\"\"Run teleconnection analysis.\"\"\"\u001b[39;00m\n\u001b[1;32m    149\u001b[0m \u001b[39mself\u001b[39m\u001b[39m.\u001b[39mretrieve()\n\u001b[0;32m--> 150\u001b[0m \u001b[39mself\u001b[39;49m\u001b[39m.\u001b[39;49mevaluate_index()\n\u001b[1;32m    151\u001b[0m \u001b[39mself\u001b[39m\u001b[39m.\u001b[39mevaluate_regression()\n\u001b[1;32m    152\u001b[0m \u001b[39mself\u001b[39m\u001b[39m.\u001b[39mevaluate_correlation()\n",
      "File \u001b[0;32m~/AQUA/diagnostics/teleconnections/teleconnections/tc_class.py:196\u001b[0m, in \u001b[0;36mTeleconnection.evaluate_index\u001b[0;34m(self, **kwargs)\u001b[0m\n\u001b[1;32m    193\u001b[0m     \u001b[39mself\u001b[39m\u001b[39m.\u001b[39mretrieve()\n\u001b[1;32m    195\u001b[0m \u001b[39mif\u001b[39;00m \u001b[39mself\u001b[39m\u001b[39m.\u001b[39mtelec_type \u001b[39m==\u001b[39m \u001b[39m'\u001b[39m\u001b[39mstation\u001b[39m\u001b[39m'\u001b[39m:\n\u001b[0;32m--> 196\u001b[0m     \u001b[39mself\u001b[39m\u001b[39m.\u001b[39mindex \u001b[39m=\u001b[39m station_based_index(field\u001b[39m=\u001b[39;49m\u001b[39mself\u001b[39;49m\u001b[39m.\u001b[39;49mdata[\u001b[39mself\u001b[39;49m\u001b[39m.\u001b[39;49mvar],\n\u001b[1;32m    197\u001b[0m                                      namelist\u001b[39m=\u001b[39;49m\u001b[39mself\u001b[39;49m\u001b[39m.\u001b[39;49mnamelist,\n\u001b[1;32m    198\u001b[0m                                      telecname\u001b[39m=\u001b[39;49m\u001b[39mself\u001b[39;49m\u001b[39m.\u001b[39;49mtelecname,\n\u001b[1;32m    199\u001b[0m                                      months_window\u001b[39m=\u001b[39;49m\u001b[39mself\u001b[39;49m\u001b[39m.\u001b[39;49mmonths_window,\n\u001b[1;32m    200\u001b[0m                                      loglevel\u001b[39m=\u001b[39;49m\u001b[39mself\u001b[39;49m\u001b[39m.\u001b[39;49mloglevel, \u001b[39m*\u001b[39;49m\u001b[39m*\u001b[39;49mkwargs)\n\u001b[1;32m    201\u001b[0m \u001b[39melif\u001b[39;00m \u001b[39mself\u001b[39m\u001b[39m.\u001b[39mtelec_type \u001b[39m==\u001b[39m \u001b[39m'\u001b[39m\u001b[39mregional\u001b[39m\u001b[39m'\u001b[39m:\n\u001b[1;32m    202\u001b[0m     \u001b[39mself\u001b[39m\u001b[39m.\u001b[39mindex \u001b[39m=\u001b[39m regional_mean_index(field\u001b[39m=\u001b[39m\u001b[39mself\u001b[39m\u001b[39m.\u001b[39mdata[\u001b[39mself\u001b[39m\u001b[39m.\u001b[39mvar],\n\u001b[1;32m    203\u001b[0m                                      namelist\u001b[39m=\u001b[39m\u001b[39mself\u001b[39m\u001b[39m.\u001b[39mnamelist,\n\u001b[1;32m    204\u001b[0m                                      telecname\u001b[39m=\u001b[39m\u001b[39mself\u001b[39m\u001b[39m.\u001b[39mtelecname,\n\u001b[1;32m    205\u001b[0m                                      months_window\u001b[39m=\u001b[39m\u001b[39mself\u001b[39m\u001b[39m.\u001b[39mmonths_window,\n\u001b[1;32m    206\u001b[0m                                      loglevel\u001b[39m=\u001b[39m\u001b[39mself\u001b[39m\u001b[39m.\u001b[39mloglevel, \u001b[39m*\u001b[39m\u001b[39m*\u001b[39mkwargs)\n",
      "File \u001b[0;32m~/AQUA/diagnostics/teleconnections/teleconnections/index.py:68\u001b[0m, in \u001b[0;36mstation_based_index\u001b[0;34m(field, namelist, telecname, months_window, loglevel)\u001b[0m\n\u001b[1;32m     66\u001b[0m \u001b[39m# 7. -- Drop NaNs --\u001b[39;00m\n\u001b[1;32m     67\u001b[0m logger\u001b[39m.\u001b[39mdebug(\u001b[39m'\u001b[39m\u001b[39mDropping NaNs\u001b[39m\u001b[39m'\u001b[39m)\n\u001b[0;32m---> 68\u001b[0m indx \u001b[39m=\u001b[39m indx\u001b[39m.\u001b[39;49mdropna(dim\u001b[39m=\u001b[39;49m\u001b[39m'\u001b[39;49m\u001b[39mtime\u001b[39;49m\u001b[39m'\u001b[39;49m)\n\u001b[1;32m     70\u001b[0m logger\u001b[39m.\u001b[39minfo(\u001b[39m'\u001b[39m\u001b[39mIndex evaluated\u001b[39m\u001b[39m'\u001b[39m)\n\u001b[1;32m     72\u001b[0m \u001b[39mreturn\u001b[39;00m indx\n",
      "File \u001b[0;32m/work/bb1153/b382289/mambaforge/envs/teleconnections/lib/python3.10/site-packages/xarray/core/dataarray.py:3257\u001b[0m, in \u001b[0;36mDataArray.dropna\u001b[0;34m(self, dim, how, thresh)\u001b[0m\n\u001b[1;32m   3184\u001b[0m \u001b[39mdef\u001b[39;00m \u001b[39mdropna\u001b[39m(\n\u001b[1;32m   3185\u001b[0m     \u001b[39mself\u001b[39m: T_DataArray,\n\u001b[1;32m   3186\u001b[0m     dim: Hashable,\n\u001b[1;32m   3187\u001b[0m     how: Literal[\u001b[39m\"\u001b[39m\u001b[39many\u001b[39m\u001b[39m\"\u001b[39m, \u001b[39m\"\u001b[39m\u001b[39mall\u001b[39m\u001b[39m\"\u001b[39m] \u001b[39m=\u001b[39m \u001b[39m\"\u001b[39m\u001b[39many\u001b[39m\u001b[39m\"\u001b[39m,\n\u001b[1;32m   3188\u001b[0m     thresh: \u001b[39mint\u001b[39m \u001b[39m|\u001b[39m \u001b[39mNone\u001b[39;00m \u001b[39m=\u001b[39m \u001b[39mNone\u001b[39;00m,\n\u001b[1;32m   3189\u001b[0m ) \u001b[39m-\u001b[39m\u001b[39m>\u001b[39m T_DataArray:\n\u001b[1;32m   3190\u001b[0m \u001b[39m    \u001b[39m\u001b[39m\"\"\"Returns a new array with dropped labels for missing values along\u001b[39;00m\n\u001b[1;32m   3191\u001b[0m \u001b[39m    the provided dimension.\u001b[39;00m\n\u001b[1;32m   3192\u001b[0m \n\u001b[0;32m   (...)\u001b[0m\n\u001b[1;32m   3255\u001b[0m \u001b[39m    Dimensions without coordinates: Y, X\u001b[39;00m\n\u001b[1;32m   3256\u001b[0m \u001b[39m    \"\"\"\u001b[39;00m\n\u001b[0;32m-> 3257\u001b[0m     ds \u001b[39m=\u001b[39m \u001b[39mself\u001b[39;49m\u001b[39m.\u001b[39;49m_to_temp_dataset()\u001b[39m.\u001b[39;49mdropna(dim, how\u001b[39m=\u001b[39;49mhow, thresh\u001b[39m=\u001b[39;49mthresh)\n\u001b[1;32m   3258\u001b[0m     \u001b[39mreturn\u001b[39;00m \u001b[39mself\u001b[39m\u001b[39m.\u001b[39m_from_temp_dataset(ds)\n",
      "File \u001b[0;32m/work/bb1153/b382289/mambaforge/envs/teleconnections/lib/python3.10/site-packages/xarray/core/dataset.py:5573\u001b[0m, in \u001b[0;36mDataset.dropna\u001b[0;34m(self, dim, how, thresh, subset)\u001b[0m\n\u001b[1;32m   5571\u001b[0m     \u001b[39mif\u001b[39;00m dim \u001b[39min\u001b[39;00m array\u001b[39m.\u001b[39mdims:\n\u001b[1;32m   5572\u001b[0m         dims \u001b[39m=\u001b[39m [d \u001b[39mfor\u001b[39;00m d \u001b[39min\u001b[39;00m array\u001b[39m.\u001b[39mdims \u001b[39mif\u001b[39;00m d \u001b[39m!=\u001b[39m dim]\n\u001b[0;32m-> 5573\u001b[0m         count \u001b[39m+\u001b[39m\u001b[39m=\u001b[39m np\u001b[39m.\u001b[39;49masarray(array\u001b[39m.\u001b[39;49mcount(dims))  \u001b[39m# type: ignore[attr-defined]\u001b[39;00m\n\u001b[1;32m   5574\u001b[0m         size \u001b[39m+\u001b[39m\u001b[39m=\u001b[39m math\u001b[39m.\u001b[39mprod([\u001b[39mself\u001b[39m\u001b[39m.\u001b[39mdims[d] \u001b[39mfor\u001b[39;00m d \u001b[39min\u001b[39;00m dims])\n\u001b[1;32m   5576\u001b[0m \u001b[39mif\u001b[39;00m thresh \u001b[39mis\u001b[39;00m \u001b[39mnot\u001b[39;00m \u001b[39mNone\u001b[39;00m:\n",
      "File \u001b[0;32m/work/bb1153/b382289/mambaforge/envs/teleconnections/lib/python3.10/site-packages/xarray/core/common.py:165\u001b[0m, in \u001b[0;36mAbstractArray.__array__\u001b[0;34m(self, dtype)\u001b[0m\n\u001b[1;32m    164\u001b[0m \u001b[39mdef\u001b[39;00m \u001b[39m__array__\u001b[39m(\u001b[39mself\u001b[39m: Any, dtype: DTypeLike \u001b[39m|\u001b[39m \u001b[39mNone\u001b[39;00m \u001b[39m=\u001b[39m \u001b[39mNone\u001b[39;00m) \u001b[39m-\u001b[39m\u001b[39m>\u001b[39m np\u001b[39m.\u001b[39mndarray:\n\u001b[0;32m--> 165\u001b[0m     \u001b[39mreturn\u001b[39;00m np\u001b[39m.\u001b[39masarray(\u001b[39mself\u001b[39;49m\u001b[39m.\u001b[39;49mvalues, dtype\u001b[39m=\u001b[39mdtype)\n",
      "File \u001b[0;32m/work/bb1153/b382289/mambaforge/envs/teleconnections/lib/python3.10/site-packages/xarray/core/variable.py:614\u001b[0m, in \u001b[0;36mVariable.values\u001b[0;34m(self)\u001b[0m\n\u001b[1;32m    611\u001b[0m \u001b[39m@property\u001b[39m\n\u001b[1;32m    612\u001b[0m \u001b[39mdef\u001b[39;00m \u001b[39mvalues\u001b[39m(\u001b[39mself\u001b[39m):\n\u001b[1;32m    613\u001b[0m \u001b[39m    \u001b[39m\u001b[39m\"\"\"The variable's data as a numpy.ndarray\"\"\"\u001b[39;00m\n\u001b[0;32m--> 614\u001b[0m     \u001b[39mreturn\u001b[39;00m _as_array_or_item(\u001b[39mself\u001b[39;49m\u001b[39m.\u001b[39;49m_data)\n",
      "File \u001b[0;32m/work/bb1153/b382289/mambaforge/envs/teleconnections/lib/python3.10/site-packages/xarray/core/variable.py:314\u001b[0m, in \u001b[0;36m_as_array_or_item\u001b[0;34m(data)\u001b[0m\n\u001b[1;32m    300\u001b[0m \u001b[39mdef\u001b[39;00m \u001b[39m_as_array_or_item\u001b[39m(data):\n\u001b[1;32m    301\u001b[0m \u001b[39m    \u001b[39m\u001b[39m\"\"\"Return the given values as a numpy array, or as an individual item if\u001b[39;00m\n\u001b[1;32m    302\u001b[0m \u001b[39m    it's a 0d datetime64 or timedelta64 array.\u001b[39;00m\n\u001b[1;32m    303\u001b[0m \n\u001b[0;32m   (...)\u001b[0m\n\u001b[1;32m    312\u001b[0m \u001b[39m    TODO: remove this (replace with np.asarray) once these issues are fixed\u001b[39;00m\n\u001b[1;32m    313\u001b[0m \u001b[39m    \"\"\"\u001b[39;00m\n\u001b[0;32m--> 314\u001b[0m     data \u001b[39m=\u001b[39m np\u001b[39m.\u001b[39;49masarray(data)\n\u001b[1;32m    315\u001b[0m     \u001b[39mif\u001b[39;00m data\u001b[39m.\u001b[39mndim \u001b[39m==\u001b[39m \u001b[39m0\u001b[39m:\n\u001b[1;32m    316\u001b[0m         \u001b[39mif\u001b[39;00m data\u001b[39m.\u001b[39mdtype\u001b[39m.\u001b[39mkind \u001b[39m==\u001b[39m \u001b[39m\"\u001b[39m\u001b[39mM\u001b[39m\u001b[39m\"\u001b[39m:\n",
      "File \u001b[0;32m/work/bb1153/b382289/mambaforge/envs/teleconnections/lib/python3.10/site-packages/dask/array/core.py:1701\u001b[0m, in \u001b[0;36mArray.__array__\u001b[0;34m(self, dtype, **kwargs)\u001b[0m\n\u001b[1;32m   1700\u001b[0m \u001b[39mdef\u001b[39;00m \u001b[39m__array__\u001b[39m(\u001b[39mself\u001b[39m, dtype\u001b[39m=\u001b[39m\u001b[39mNone\u001b[39;00m, \u001b[39m*\u001b[39m\u001b[39m*\u001b[39mkwargs):\n\u001b[0;32m-> 1701\u001b[0m     x \u001b[39m=\u001b[39m \u001b[39mself\u001b[39;49m\u001b[39m.\u001b[39;49mcompute()\n\u001b[1;32m   1702\u001b[0m     \u001b[39mif\u001b[39;00m dtype \u001b[39mand\u001b[39;00m x\u001b[39m.\u001b[39mdtype \u001b[39m!=\u001b[39m dtype:\n\u001b[1;32m   1703\u001b[0m         x \u001b[39m=\u001b[39m x\u001b[39m.\u001b[39mastype(dtype)\n",
      "File \u001b[0;32m/work/bb1153/b382289/mambaforge/envs/teleconnections/lib/python3.10/site-packages/dask/base.py:310\u001b[0m, in \u001b[0;36mDaskMethodsMixin.compute\u001b[0;34m(self, **kwargs)\u001b[0m\n\u001b[1;32m    286\u001b[0m \u001b[39mdef\u001b[39;00m \u001b[39mcompute\u001b[39m(\u001b[39mself\u001b[39m, \u001b[39m*\u001b[39m\u001b[39m*\u001b[39mkwargs):\n\u001b[1;32m    287\u001b[0m \u001b[39m    \u001b[39m\u001b[39m\"\"\"Compute this dask collection\u001b[39;00m\n\u001b[1;32m    288\u001b[0m \n\u001b[1;32m    289\u001b[0m \u001b[39m    This turns a lazy Dask collection into its in-memory equivalent.\u001b[39;00m\n\u001b[0;32m   (...)\u001b[0m\n\u001b[1;32m    308\u001b[0m \u001b[39m    dask.compute\u001b[39;00m\n\u001b[1;32m    309\u001b[0m \u001b[39m    \"\"\"\u001b[39;00m\n\u001b[0;32m--> 310\u001b[0m     (result,) \u001b[39m=\u001b[39m compute(\u001b[39mself\u001b[39;49m, traverse\u001b[39m=\u001b[39;49m\u001b[39mFalse\u001b[39;49;00m, \u001b[39m*\u001b[39;49m\u001b[39m*\u001b[39;49mkwargs)\n\u001b[1;32m    311\u001b[0m     \u001b[39mreturn\u001b[39;00m result\n",
      "File \u001b[0;32m/work/bb1153/b382289/mambaforge/envs/teleconnections/lib/python3.10/site-packages/dask/base.py:595\u001b[0m, in \u001b[0;36mcompute\u001b[0;34m(traverse, optimize_graph, scheduler, get, *args, **kwargs)\u001b[0m\n\u001b[1;32m    592\u001b[0m     keys\u001b[39m.\u001b[39mappend(x\u001b[39m.\u001b[39m__dask_keys__())\n\u001b[1;32m    593\u001b[0m     postcomputes\u001b[39m.\u001b[39mappend(x\u001b[39m.\u001b[39m__dask_postcompute__())\n\u001b[0;32m--> 595\u001b[0m results \u001b[39m=\u001b[39m schedule(dsk, keys, \u001b[39m*\u001b[39;49m\u001b[39m*\u001b[39;49mkwargs)\n\u001b[1;32m    596\u001b[0m \u001b[39mreturn\u001b[39;00m repack([f(r, \u001b[39m*\u001b[39ma) \u001b[39mfor\u001b[39;00m r, (f, a) \u001b[39min\u001b[39;00m \u001b[39mzip\u001b[39m(results, postcomputes)])\n",
      "File \u001b[0;32m/work/bb1153/b382289/mambaforge/envs/teleconnections/lib/python3.10/site-packages/distributed/client.py:3243\u001b[0m, in \u001b[0;36mClient.get\u001b[0;34m(self, dsk, keys, workers, allow_other_workers, resources, sync, asynchronous, direct, retries, priority, fifo_timeout, actors, **kwargs)\u001b[0m\n\u001b[1;32m   3241\u001b[0m         should_rejoin \u001b[39m=\u001b[39m \u001b[39mFalse\u001b[39;00m\n\u001b[1;32m   3242\u001b[0m \u001b[39mtry\u001b[39;00m:\n\u001b[0;32m-> 3243\u001b[0m     results \u001b[39m=\u001b[39m \u001b[39mself\u001b[39;49m\u001b[39m.\u001b[39;49mgather(packed, asynchronous\u001b[39m=\u001b[39;49masynchronous, direct\u001b[39m=\u001b[39;49mdirect)\n\u001b[1;32m   3244\u001b[0m \u001b[39mfinally\u001b[39;00m:\n\u001b[1;32m   3245\u001b[0m     \u001b[39mfor\u001b[39;00m f \u001b[39min\u001b[39;00m futures\u001b[39m.\u001b[39mvalues():\n",
      "File \u001b[0;32m/work/bb1153/b382289/mambaforge/envs/teleconnections/lib/python3.10/site-packages/distributed/client.py:2368\u001b[0m, in \u001b[0;36mClient.gather\u001b[0;34m(self, futures, errors, direct, asynchronous)\u001b[0m\n\u001b[1;32m   2366\u001b[0m \u001b[39mexcept\u001b[39;00m \u001b[39mValueError\u001b[39;00m:\n\u001b[1;32m   2367\u001b[0m     local_worker \u001b[39m=\u001b[39m \u001b[39mNone\u001b[39;00m\n\u001b[0;32m-> 2368\u001b[0m \u001b[39mreturn\u001b[39;00m \u001b[39mself\u001b[39;49m\u001b[39m.\u001b[39;49msync(\n\u001b[1;32m   2369\u001b[0m     \u001b[39mself\u001b[39;49m\u001b[39m.\u001b[39;49m_gather,\n\u001b[1;32m   2370\u001b[0m     futures,\n\u001b[1;32m   2371\u001b[0m     errors\u001b[39m=\u001b[39;49merrors,\n\u001b[1;32m   2372\u001b[0m     direct\u001b[39m=\u001b[39;49mdirect,\n\u001b[1;32m   2373\u001b[0m     local_worker\u001b[39m=\u001b[39;49mlocal_worker,\n\u001b[1;32m   2374\u001b[0m     asynchronous\u001b[39m=\u001b[39;49masynchronous,\n\u001b[1;32m   2375\u001b[0m )\n",
      "File \u001b[0;32m/work/bb1153/b382289/mambaforge/envs/teleconnections/lib/python3.10/site-packages/distributed/utils.py:351\u001b[0m, in \u001b[0;36mSyncMethodMixin.sync\u001b[0;34m(self, func, asynchronous, callback_timeout, *args, **kwargs)\u001b[0m\n\u001b[1;32m    349\u001b[0m     \u001b[39mreturn\u001b[39;00m future\n\u001b[1;32m    350\u001b[0m \u001b[39melse\u001b[39;00m:\n\u001b[0;32m--> 351\u001b[0m     \u001b[39mreturn\u001b[39;00m sync(\n\u001b[1;32m    352\u001b[0m         \u001b[39mself\u001b[39;49m\u001b[39m.\u001b[39;49mloop, func, \u001b[39m*\u001b[39;49margs, callback_timeout\u001b[39m=\u001b[39;49mcallback_timeout, \u001b[39m*\u001b[39;49m\u001b[39m*\u001b[39;49mkwargs\n\u001b[1;32m    353\u001b[0m     )\n",
      "File \u001b[0;32m/work/bb1153/b382289/mambaforge/envs/teleconnections/lib/python3.10/site-packages/distributed/utils.py:414\u001b[0m, in \u001b[0;36msync\u001b[0;34m(loop, func, callback_timeout, *args, **kwargs)\u001b[0m\n\u001b[1;32m    412\u001b[0m \u001b[39melse\u001b[39;00m:\n\u001b[1;32m    413\u001b[0m     \u001b[39mwhile\u001b[39;00m \u001b[39mnot\u001b[39;00m e\u001b[39m.\u001b[39mis_set():\n\u001b[0;32m--> 414\u001b[0m         wait(\u001b[39m10\u001b[39;49m)\n\u001b[1;32m    416\u001b[0m \u001b[39mif\u001b[39;00m error:\n\u001b[1;32m    417\u001b[0m     typ, exc, tb \u001b[39m=\u001b[39m error\n",
      "File \u001b[0;32m/work/bb1153/b382289/mambaforge/envs/teleconnections/lib/python3.10/site-packages/distributed/utils.py:403\u001b[0m, in \u001b[0;36msync.<locals>.wait\u001b[0;34m(timeout)\u001b[0m\n\u001b[1;32m    401\u001b[0m \u001b[39mdef\u001b[39;00m \u001b[39mwait\u001b[39m(timeout):\n\u001b[1;32m    402\u001b[0m     \u001b[39mtry\u001b[39;00m:\n\u001b[0;32m--> 403\u001b[0m         \u001b[39mreturn\u001b[39;00m e\u001b[39m.\u001b[39;49mwait(timeout)\n\u001b[1;32m    404\u001b[0m     \u001b[39mexcept\u001b[39;00m \u001b[39mKeyboardInterrupt\u001b[39;00m:\n\u001b[1;32m    405\u001b[0m         loop\u001b[39m.\u001b[39madd_callback(cancel)\n",
      "File \u001b[0;32m/work/bb1153/b382289/mambaforge/envs/teleconnections/lib/python3.10/threading.py:607\u001b[0m, in \u001b[0;36mEvent.wait\u001b[0;34m(self, timeout)\u001b[0m\n\u001b[1;32m    605\u001b[0m signaled \u001b[39m=\u001b[39m \u001b[39mself\u001b[39m\u001b[39m.\u001b[39m_flag\n\u001b[1;32m    606\u001b[0m \u001b[39mif\u001b[39;00m \u001b[39mnot\u001b[39;00m signaled:\n\u001b[0;32m--> 607\u001b[0m     signaled \u001b[39m=\u001b[39m \u001b[39mself\u001b[39;49m\u001b[39m.\u001b[39;49m_cond\u001b[39m.\u001b[39;49mwait(timeout)\n\u001b[1;32m    608\u001b[0m \u001b[39mreturn\u001b[39;00m signaled\n",
      "File \u001b[0;32m/work/bb1153/b382289/mambaforge/envs/teleconnections/lib/python3.10/threading.py:324\u001b[0m, in \u001b[0;36mCondition.wait\u001b[0;34m(self, timeout)\u001b[0m\n\u001b[1;32m    322\u001b[0m \u001b[39melse\u001b[39;00m:\n\u001b[1;32m    323\u001b[0m     \u001b[39mif\u001b[39;00m timeout \u001b[39m>\u001b[39m \u001b[39m0\u001b[39m:\n\u001b[0;32m--> 324\u001b[0m         gotit \u001b[39m=\u001b[39m waiter\u001b[39m.\u001b[39;49macquire(\u001b[39mTrue\u001b[39;49;00m, timeout)\n\u001b[1;32m    325\u001b[0m     \u001b[39melse\u001b[39;00m:\n\u001b[1;32m    326\u001b[0m         gotit \u001b[39m=\u001b[39m waiter\u001b[39m.\u001b[39macquire(\u001b[39mFalse\u001b[39;00m)\n",
      "\u001b[0;31mKeyboardInterrupt\u001b[0m: "
     ]
    }
   ],
   "source": [
    "telec = {}\n",
    "\n",
    "for model in model_list:\n",
    "    telec[model_list.index(model)] = Teleconnection(model=model, exp=exp_list[model_list.index(model)], source=source_list[model_list.index(model)], \n",
    "                           telecname='NAO', savefile=True)\n",
    "    telec[model_list.index(model)].run()"
   ]
  },
  {
   "cell_type": "code",
   "execution_count": null,
   "metadata": {},
   "outputs": [],
   "source": [
    "slurm.scancel()"
   ]
  }
 ],
 "metadata": {
  "kernelspec": {
   "display_name": "teleconnections",
   "language": "python",
   "name": "python3"
  },
  "language_info": {
   "codemirror_mode": {
    "name": "ipython",
    "version": 3
   },
   "file_extension": ".py",
   "mimetype": "text/x-python",
   "name": "python",
   "nbconvert_exporter": "python",
   "pygments_lexer": "ipython3",
   "version": "3.10.11"
  },
  "orig_nbformat": 4
 },
 "nbformat": 4,
 "nbformat_minor": 2
}
