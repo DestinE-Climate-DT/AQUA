{
 "cells": [
  {
   "attachments": {},
   "cell_type": "markdown",
   "metadata": {},
   "source": [
    "# CDO bindings test"
   ]
  },
  {
   "attachments": {},
   "cell_type": "markdown",
   "metadata": {},
   "source": [
    "Before using the cdo bindigs we need to import the cdo bindings package (`python-cdo` in `conda` or `mamba`).\n",
    "Additionally, before calling an operator, an object has to be created first.\n",
    "\n",
    "We make use of the `tempdir` argument in order to store temporary data output in a custom folder and avoid heavy memory usage."
   ]
  },
  {
   "cell_type": "code",
   "execution_count": 1,
   "metadata": {},
   "outputs": [],
   "source": [
    "import cdo\n",
    "import tools\n",
    "\n",
    "tempPath = '/scratch/users/mnurisso/tempcdo/'\n",
    "cdo = cdo.Cdo(tempdir=tempPath)"
   ]
  },
  {
   "cell_type": "code",
   "execution_count": 2,
   "metadata": {},
   "outputs": [
    {
     "name": "stdout",
     "output_type": "stream",
     "text": [
      "/work/datasets/obs/ERA5/mean_sea_level_pressure/mon/ERA5_mean_sea_level_pressure_mon_0.25x0.25_sfc_1979-2021.nc\n"
     ]
    }
   ],
   "source": [
    "# Load some test data\n",
    "\n",
    "path = '/work/datasets/obs/ERA5/mean_sea_level_pressure/mon/'\n",
    "filename = 'ERA5_mean_sea_level_pressure_mon_0.25x0.25_sfc_1979-2021.nc'\n",
    "\n",
    "infile = path+filename\n",
    "print(infile)"
   ]
  },
  {
   "attachments": {},
   "cell_type": "markdown",
   "metadata": {},
   "source": [
    "## Simple command test\n",
    "\n",
    "We try to run a simple `showname` cdo command."
   ]
  },
  {
   "cell_type": "code",
   "execution_count": 3,
   "metadata": {},
   "outputs": [
    {
     "data": {
      "text/plain": [
       "['msl']"
      ]
     },
     "execution_count": 3,
     "metadata": {},
     "output_type": "execute_result"
    }
   ],
   "source": [
    "cdo.showname(input=infile)"
   ]
  },
  {
   "attachments": {},
   "cell_type": "markdown",
   "metadata": {},
   "source": [
    "## NAO index cdo pipeline\n",
    "\n",
    "We evaluate the NAO index in a similar way of what is the function `station_based_index()` in the `index.py` file.\n",
    "The result of the analysis has to be compared with what is obtained with the `station_based_index()` function in order to test the function itself."
   ]
  },
  {
   "cell_type": "markdown",
   "metadata": {},
   "source": [
    "### Anomalies"
   ]
  },
  {
   "cell_type": "code",
   "execution_count": 4,
   "metadata": {},
   "outputs": [],
   "source": [
    "msl_ma = cdo.monmean(input=infile)\n",
    "msl_ma_av = cdo.timmean(input=msl_ma)\n",
    "msl_an = cdo.sub(input=[msl_ma, msl_ma_av])"
   ]
  },
  {
   "attachments": {},
   "cell_type": "markdown",
   "metadata": {},
   "source": [
    "Commands can also be concatenated like `cdo.timmean(input= '-monmean' + infile)`"
   ]
  },
  {
   "cell_type": "markdown",
   "metadata": {},
   "source": [
    "### Interpolation to NAO coordinates"
   ]
  },
  {
   "cell_type": "code",
   "execution_count": 5,
   "metadata": {},
   "outputs": [],
   "source": [
    "# Get the latitude and longitudes for NAO\n",
    "\n",
    "diagname  = 'teleconnections'\n",
    "telecname = 'NAO'\n",
    "\n",
    "namelist = tools.load_namelist(diagname)\n",
    "\n",
    "lon1 = tools.lon_180_to_360(namelist[telecname]['lon1'])\n",
    "lat1 = namelist[telecname]['lat1']\n",
    "lon2 = tools.lon_180_to_360(namelist[telecname]['lon2'])\n",
    "lat2 = namelist[telecname]['lat2']\n",
    "\n",
    "# Interpolate to the acquired coordinates\n",
    "\n",
    "field_an1 = cdo.remapnn(\"lon={0}_lat={1}\".format(lon1,lat1),input=msl_an)\n",
    "field_an2 = cdo.remapnn(\"lon={0}_lat={1}\".format(lon2,lat2),input=msl_an)"
   ]
  },
  {
   "cell_type": "markdown",
   "metadata": {},
   "source": [
    "### Evaluate NAO index"
   ]
  },
  {
   "cell_type": "code",
   "execution_count": 6,
   "metadata": {},
   "outputs": [],
   "source": [
    "# Rolling average\n",
    "\n",
    "months = 3\n",
    "field_an1_ma = cdo.runmean(\"{0}\".format(months),input=field_an1)\n",
    "field_an2_ma = cdo.runmean(\"{0}\".format(months),input=field_an2)"
   ]
  },
  {
   "cell_type": "code",
   "execution_count": 7,
   "metadata": {},
   "outputs": [],
   "source": [
    "# NAO (not index)\n",
    "\n",
    "diff_ma = cdo.sub(input=[field_an1_ma, field_an2_ma])\n",
    "mean_ma = cdo.timmean(input=diff_ma)\n",
    "std_ma = cdo.timstd(input=diff_ma)"
   ]
  },
  {
   "cell_type": "code",
   "execution_count": 8,
   "metadata": {},
   "outputs": [
    {
     "data": {
      "text/plain": [
       "'/scratch/users/mnurisso/aqua/teleconnections/cdo_nao.nc'"
      ]
     },
     "execution_count": 8,
     "metadata": {},
     "output_type": "execute_result"
    }
   ],
   "source": [
    "# Index NAO\n",
    "sub_nao = cdo.sub(input=[diff_ma,mean_ma])\n",
    "\n",
    "# setup output\n",
    "machine = 'wilma'\n",
    "config = tools.load_config(machine)\n",
    "\n",
    "ofile  = config[diagname]['output']\n",
    "ofile += '/cdo_nao.nc'\n",
    "\n",
    "cdo.div(input=[sub_nao,std_ma],output=ofile)"
   ]
  },
  {
   "attachments": {},
   "cell_type": "markdown",
   "metadata": {},
   "source": [
    "## Cleanup the temporary files\n",
    "\n",
    "Temporary files are not deleted when the jupyter notebook is closed. \n",
    "In order to empty the space we need to run an additional command."
   ]
  },
  {
   "cell_type": "code",
   "execution_count": 9,
   "metadata": {},
   "outputs": [],
   "source": [
    "cdo.cleanTempDir()"
   ]
  }
 ],
 "metadata": {
  "kernelspec": {
   "display_name": "aqua",
   "language": "python",
   "name": "python3"
  },
  "language_info": {
   "codemirror_mode": {
    "name": "ipython",
    "version": 3
   },
   "file_extension": ".py",
   "mimetype": "text/x-python",
   "name": "python",
   "nbconvert_exporter": "python",
   "pygments_lexer": "ipython3",
   "version": "3.11.0"
  },
  "orig_nbformat": 4,
  "vscode": {
   "interpreter": {
    "hash": "3e3b80be15d8b7824bdac94dd60428e03a1db75ec501e03347a37a9ba639a94b"
   }
  }
 },
 "nbformat": 4,
 "nbformat_minor": 2
}
