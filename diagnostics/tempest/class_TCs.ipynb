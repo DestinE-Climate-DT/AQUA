{
 "cells": [
  {
   "cell_type": "code",
   "execution_count": 1,
   "metadata": {},
   "outputs": [],
   "source": [
    "from tropical import TCs\n",
    "from aqua.util import load_yaml"
   ]
  },
  {
   "attachments": {},
   "cell_type": "markdown",
   "metadata": {},
   "source": [
    "Load configuration file with all the tempest options"
   ]
  },
  {
   "cell_type": "code",
   "execution_count": 2,
   "metadata": {},
   "outputs": [
    {
     "data": {
      "text/plain": [
       "{'dataset': {'model': 'IFS', 'exp': 'tco2559-ng5'},\n",
       " 'paths': {'regdir': '/scratch/b/b382216/regrid_new',\n",
       "  'tmpdir': '/scratch/b/b382216/tmpdir_new',\n",
       "  'fulldir': '/scratch/b/b382216/fullres_new'},\n",
       " 'grids': {'lowgrid': 'r100', 'highgrid': 'r010'},\n",
       " 'varlist': ['msl', '10u', '10v', 'tp'],\n",
       " 'time': {'start_date': '2020-08-01',\n",
       "  'end_date': '2020-09-30',\n",
       "  'frequency': '6h'},\n",
       " 'detect': {'boxdim': 10},\n",
       " 'stitch': {'n_days_freq': 25, 'n_days_ext': 15}}"
      ]
     },
     "execution_count": 2,
     "metadata": {},
     "output_type": "execute_result"
    }
   ],
   "source": [
    "tdict = load_yaml('config/config_levante.yml')\n",
    "tdict"
   ]
  },
  {
   "attachments": {},
   "cell_type": "markdown",
   "metadata": {},
   "source": [
    "Initialise the class with the dictionary from the YAML file"
   ]
  },
  {
   "cell_type": "code",
   "execution_count": 3,
   "metadata": {},
   "outputs": [],
   "source": [
    "tropical = TCs(tdict=tdict)\n",
    "#tropical = TCs(paths=tdict['paths'], var2store=tdict['varlist'])"
   ]
  },
  {
   "attachments": {},
   "cell_type": "markdown",
   "metadata": {},
   "source": [
    "Run the code on a loop on the detect nodes"
   ]
  },
  {
   "cell_type": "code",
   "execution_count": 4,
   "metadata": {},
   "outputs": [
    {
     "name": "stderr",
     "output_type": "stream",
     "text": [
      "2023-03-30 17:26:09 WARNING: 20200801T00\n",
      "2023-03-30 17:26:18 WARNING: No fixes defined for model IFS, experiment tco2559-ng5, source ICMU_atm3d\n",
      "2023-03-30 17:26:43 WARNING: 20200801T06\n",
      "2023-03-30 17:26:44 WARNING: No fixes defined for model IFS, experiment tco2559-ng5, source ICMU_atm3d\n",
      "2023-03-30 17:27:09 WARNING: 20200801T12\n",
      "2023-03-30 17:27:11 WARNING: No fixes defined for model IFS, experiment tco2559-ng5, source ICMU_atm3d\n",
      "2023-03-30 17:27:36 WARNING: 20200801T18\n",
      "2023-03-30 17:27:37 WARNING: No fixes defined for model IFS, experiment tco2559-ng5, source ICMU_atm3d\n",
      "2023-03-30 17:28:02 WARNING: 20200802T00\n",
      "2023-03-30 17:28:03 WARNING: No fixes defined for model IFS, experiment tco2559-ng5, source ICMU_atm3d\n"
     ]
    }
   ],
   "source": [
    "tropical.detect_nodes_zoomin(start_date=tdict['time']['start_date'], \n",
    "                             end_date=tdict['time']['end_date'], \n",
    "                             frequency=tdict['time']['frequency'])"
   ]
  },
  {
   "attachments": {},
   "cell_type": "markdown",
   "metadata": {},
   "source": [
    "Run the code for the detect nodes, after having set up the days freq and the extensions days"
   ]
  },
  {
   "cell_type": "code",
   "execution_count": null,
   "metadata": {},
   "outputs": [
    {
     "name": "stderr",
     "output_type": "stream",
     "text": [
      "2023-03-30 16:57:19 WARNING: 2020-09-29 00:00:00\n",
      "2023-03-30 16:57:20 WARNING: 2020-10-24 00:00:00\n",
      "2023-03-30 16:57:21 WARNING: 2020-11-18 00:00:00\n",
      "2023-03-30 16:57:21 WARNING: 2020-12-13 00:00:00\n"
     ]
    }
   ],
   "source": [
    "tropical.stitch_nodes_zoomin(start_date=tdict['time']['start_date'], end_date=tdict['time']['end_date'],\n",
    "                             n_days_freq=tdict['stitch']['n_days_freq'], n_days_ext=tdict['stitch']['n_days_ext'])"
   ]
  },
  {
   "cell_type": "markdown",
   "metadata": {},
   "source": []
  }
 ],
 "metadata": {
  "kernelspec": {
   "display_name": "TCs",
   "language": "python",
   "name": "python3"
  },
  "language_info": {
   "codemirror_mode": {
    "name": "ipython",
    "version": 3
   },
   "file_extension": ".py",
   "mimetype": "text/x-python",
   "name": "python",
   "nbconvert_exporter": "python",
   "pygments_lexer": "ipython3",
   "version": "3.10.10"
  },
  "orig_nbformat": 4
 },
 "nbformat": 4,
 "nbformat_minor": 2
}
