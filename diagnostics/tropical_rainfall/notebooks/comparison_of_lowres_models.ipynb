{
 "cells": [
  {
   "attachments": {},
   "cell_type": "markdown",
   "metadata": {},
   "source": [
    "# Comparison of Low-Resolution Cicle3 arxiv"
   ]
  },
  {
   "attachments": {},
   "cell_type": "markdown",
   "metadata": {
    "tags": [
     "top_of_file"
    ]
   },
   "source": [
    "### Content"
   ]
  },
  {
   "attachments": {},
   "cell_type": "markdown",
   "metadata": {},
   "source": [
    "\n",
    "1. [The load of packages, modules, and data](#1-load-of-packages-modules-and-data)\n",
    "\n",
    "2. [Comparison of Histograms](#2-comparison-of-histograms)\n",
    "\n",
    "4. [Tropical Mean Comparison](#3-mean-comparison)\n",
    "\n",
    "5. [The bias between models and observations](#4-calculation-of-a-bias-between-climatological-model-and-observations)\n",
    "\n",
    "[Go to the end of file](#the-end)"
   ]
  },
  {
   "cell_type": "markdown",
   "metadata": {},
   "source": [
    "The current and future capabilities of the diagnostic:\n",
    "\n",
    "|  | Implemented | Nessesety |\n",
    "| --- | --- | --- |\n",
    "| Histograms  (counts, frequencies, pdf, etc)| +  | |\n",
    "| mean (glob, along latitude, longitude and etc) | + |  |\n",
    "| bias | + |  |\n",
    "| daily variability | + | ? |\n",
    "|  95% level | + | ? |\n",
    "| Corellation of tprate montly variation and total cloud cover, 2t and etc  | - | ? |\n",
    "| Analyse of convective ranfall distributions (clustering and etc)  | - | ? |\n",
    "| Stanart deviation map per season  | - | ? |\n",
    "\n",
    "+ Comparison with GPM-hourly\n",
    "\n",
    "Ideas for aqua\n",
    "|  | Implemented | Nessesety |\n",
    "| --- | --- | --- |\n",
    "| Perfomance measuents through magic functions| +/-  | ? |\n",
    "| Precompiling techniques of aqua |  | ? |"
   ]
  },
  {
   "attachments": {},
   "cell_type": "markdown",
   "metadata": {},
   "source": [
    "#"
   ]
  },
  {
   "attachments": {},
   "cell_type": "markdown",
   "metadata": {
    "tags": [
     "section1"
    ]
   },
   "source": [
    "## 1. The load of packages, modules, and data"
   ]
  },
  {
   "cell_type": "code",
   "execution_count": 1,
   "metadata": {},
   "outputs": [
    {
     "name": "stdout",
     "output_type": "stream",
     "text": [
      "aqua is loaded\n",
      "diagnostic is loaded\n"
     ]
    }
   ],
   "source": [
    "import sys\n",
    "from aqua import Reader\n",
    "print('aqua is loaded')\n",
    "sys.path.insert(0, '../../')\n",
    "from tropical_rainfall import Tropical_Rainfall\n",
    "print('diagnostic is loaded')"
   ]
  },
  {
   "cell_type": "code",
   "execution_count": null,
   "metadata": {},
   "outputs": [],
   "source": [
    "import warnings\n",
    "\n",
    "# Filter specific warning category\n",
    "warnings.filterwarnings(\"ignore\", category=DeprecationWarning)"
   ]
  },
  {
   "attachments": {},
   "cell_type": "markdown",
   "metadata": {},
   "source": [
    "##### Loading the low-resolution arxiv "
   ]
  },
  {
   "attachments": {},
   "cell_type": "markdown",
   "metadata": {},
   "source": [
    "#### ICON, ngc3028, lra"
   ]
  },
  {
   "cell_type": "code",
   "execution_count": 3,
   "metadata": {},
   "outputs": [],
   "source": [
    "diag = Tropical_Rainfall(trop_lat=15,  num_of_bins = 5000, first_edge = 0, width_of_bin = 1/50, loglevel='warning') #1/24\n",
    "\n",
    "diag = Tropical_Rainfall(trop_lat=15,  num_of_bins = 5000, first_edge = 0, width_of_bin = 1/50, loglevel='warning') #1/24"
   ]
  },
  {
   "cell_type": "code",
   "execution_count": null,
   "metadata": {},
   "outputs": [],
   "source": [
    "reader          = Reader(model=\"ICON\", exp=\"ngc3028\", source=\"lra-r100-monthly\")\n",
    "icon_ngc3028    = reader.retrieve()\n",
    "icon_ngc3028    = icon_ngc3028['tprate'][:]*86400\n",
    "icon_ngc3028.attrs['units'] = \"mm/day\""
   ]
  },
  {
   "attachments": {},
   "cell_type": "markdown",
   "metadata": {},
   "source": [
    "#### IFS, tco2559-ng5, lra"
   ]
  },
  {
   "cell_type": "code",
   "execution_count": 2,
   "metadata": {},
   "outputs": [
    {
     "name": "stderr",
     "output_type": "stream",
     "text": [
      "2023-09-27 20:48:48 :: eccodes :: WARNING  -> ShortName tprate have multiple grib codes associated: ['260048', '172228']\n",
      "2023-09-27 20:48:48 :: eccodes :: WARNING  -> AQUA will take the first so that tprate -> 260048, please set up a correct fix if this does not look right\n"
     ]
    }
   ],
   "source": [
    "reader              = Reader(model=\"IFS\", exp=\"tco2559-ng5-cycle3\", source=\"lra-r100-monthly\") \n",
    "ifs_tco2559_ng5     = reader.retrieve()\n",
    "ifs_tco2559_ng5     = ifs_tco2559_ng5['tprate'][:]*86400\n",
    "ifs_tco2559_ng5.attrs['units'] = \"mm/day\"\n"
   ]
  },
  {
   "attachments": {},
   "cell_type": "markdown",
   "metadata": {},
   "source": [
    "#### IFS, tco1279-orca025-cycle3, lra"
   ]
  },
  {
   "cell_type": "code",
   "execution_count": null,
   "metadata": {},
   "outputs": [],
   "source": [
    "reader                  = Reader(model=\"IFS\", exp=\"tco1279-orca025-cycle3\", source=\"lra-r100-monthly\")\n",
    "ifs_tco1279_orca025     = reader.retrieve()\n",
    "ifs_tco1279_orca025     = ifs_tco1279_orca025['tprate'][:]*86400\n",
    "ifs_tco1279_orca025.attrs['units'] = \"mm/day\"\n",
    "\n",
    "ifs_tco1279_orca025 = ifs_tco1279_orca025.dropna(dim='time')"
   ]
  },
  {
   "attachments": {},
   "cell_type": "markdown",
   "metadata": {},
   "source": [
    "#### MSWEP, monthly "
   ]
  },
  {
   "cell_type": "code",
   "execution_count": null,
   "metadata": {},
   "outputs": [],
   "source": [
    "reader                  = Reader(model=\"MSWEP\", exp=\"past\", source=\"monthly\", regrid = \"r100\")\n",
    "mswep_mon               = reader.retrieve(regrid=True)\n",
    "mswep_mon               = mswep_mon['tprate'][:]*86400\n",
    "mswep_mon.attrs['units'] = \"mm/day\"\n",
    "#mswep_mon = mswep_mon.reindex(lat=list(reversed(mswep_mon.lat)))"
   ]
  },
  {
   "cell_type": "code",
   "execution_count": null,
   "metadata": {},
   "outputs": [],
   "source": [
    "mswep_mon_2015_2020 = mswep_mon.sel(time=slice('2015', '2020'))\n",
    "mswep_mon_1979_1985 = mswep_mon.sel(time=slice('1979', '1985'))"
   ]
  },
  {
   "cell_type": "markdown",
   "metadata": {},
   "source": [
    "### ERA5"
   ]
  },
  {
   "cell_type": "code",
   "execution_count": null,
   "metadata": {},
   "outputs": [],
   "source": [
    "reader                  = Reader(model=\"ERA5\", exp=\"era5\", source=\"monthly\", regrid = \"r100\")\n",
    "era5_mon                = reader.retrieve(regrid=True)\n",
    "era5_mon                = era5_mon['tprate'][:]*86400\n",
    "era5_mon.attrs['units'] = \"mm/day\""
   ]
  },
  {
   "cell_type": "code",
   "execution_count": null,
   "metadata": {},
   "outputs": [],
   "source": [
    "era5_mon_1950_1959 = era5_mon.sel(time=slice('1950', '1959'))\n",
    "era5_mon_2015_2022 = era5_mon.sel(time=slice('2015', '2022'))"
   ]
  },
  {
   "cell_type": "markdown",
   "metadata": {},
   "source": [
    "### IFS, exp=\"control-1950-devcon"
   ]
  },
  {
   "cell_type": "code",
   "execution_count": null,
   "metadata": {},
   "outputs": [],
   "source": [
    "reader                  = Reader(model=\"IFS\", exp=\"control-1950-devcon\", source=\"lra-r100-monthly\")\n",
    "control_1950_devcon     = reader.retrieve()\n",
    "#control_1950_devcon     = control_1950_devcon['tprate'][:]*86400/24\n",
    "#control_1950_devcon.attrs['units'] = \"mm/day\" #\"mm/day\""
   ]
  },
  {
   "cell_type": "markdown",
   "metadata": {},
   "source": [
    "### IFS, exp=\"historical-1990-devcon"
   ]
  },
  {
   "cell_type": "code",
   "execution_count": null,
   "metadata": {},
   "outputs": [],
   "source": [
    "reader                  = Reader(model=\"IFS\", exp=\"historical-1990-devcon\", source=\"lra-r100-monthly\", regrid = \"r100\")\n",
    "historical_1990_devcon  = reader.retrieve(regrid=True)\n",
    "historical_1990_devcon  = historical_1990_devcon['tprate'][:]*86400\n",
    "historical_1990_devcon.attrs['units'] = \"mm/day\""
   ]
  },
  {
   "attachments": {},
   "cell_type": "markdown",
   "metadata": {},
   "source": [
    "### Initialization of the tropical-rainfall diagnostic\n",
    "\n",
    "The class attributes are:\n",
    "- The latitude band of the tropical area: **trop_lat=15**     \n",
    "    \n",
    "- The number of bins in the histogram: **num_of_bins=20**\n",
    "    \n",
    "- The left edge of the first bin: **first_edge=0** \n",
    "    \n",
    "- The width of each bin: **width_of_bin**     \n",
    "    "
   ]
  },
  {
   "cell_type": "code",
   "execution_count": 4,
   "metadata": {},
   "outputs": [],
   "source": [
    "diag = Tropical_Rainfall(trop_lat=15,  num_of_bins = 1000, first_edge = 0, width_of_bin = 1, loglevel='warning') #1/24"
   ]
  },
  {
   "cell_type": "code",
   "execution_count": 4,
   "metadata": {},
   "outputs": [],
   "source": [
    "#diag = Tropical_Rainfall(trop_lat=15,  num_of_bins = 5000, first_edge = 0, width_of_bin = 1/50, loglevel='warning') #1/24\n"
   ]
  },
  {
   "cell_type": "code",
   "execution_count": null,
   "metadata": {},
   "outputs": [],
   "source": [
    "diag.seasonal_095level_into_netcdf(icon_ngc3028, path_to_pdf=path_to_netcdf, name_of_file=\"icon_ngc3028_lra_r100_monthly_095level\")"
   ]
  },
  {
   "cell_type": "code",
   "execution_count": null,
   "metadata": {},
   "outputs": [],
   "source": [
    "diag.get_95percent_level(icon_ngc3028)"
   ]
  },
  {
   "cell_type": "code",
   "execution_count": 4,
   "metadata": {},
   "outputs": [
    {
     "name": "stderr",
     "output_type": "stream",
     "text": [
      "2023-09-27 17:17:21 :: create_folder :: WARNING  -> Folder ./ already exists\n"
     ]
    }
   ],
   "source": [
    "hist_ifs_tco2559_ng5 = diag.histogram(ifs_tco2559_ng5, path_to_histogram='./', name_of_file=\"test\")\n"
   ]
  },
  {
   "cell_type": "code",
   "execution_count": 6,
   "metadata": {},
   "outputs": [
    {
     "name": "stderr",
     "output_type": "stream",
     "text": [
      "2023-09-27 20:48:51 :: create_folder :: WARNING  -> Folder . already exists\n"
     ]
    },
    {
     "data": {
      "text/plain": [
       "'.trop_rainfall_test_2020-11-15T00.nc'"
      ]
     },
     "execution_count": 6,
     "metadata": {},
     "output_type": "execute_result"
    }
   ],
   "source": [
    "diag.dataset_to_netcdf(hist_ifs_tco2559_ng5_1, path_to_netcdf='.', name_of_file='test')"
   ]
  },
  {
   "attachments": {},
   "cell_type": "markdown",
   "metadata": {},
   "source": [
    "## 2. Comparison of histograms"
   ]
  },
  {
   "attachments": {},
   "cell_type": "markdown",
   "metadata": {},
   "source": [
    "##### All output of the diagnostic is in the format of NetCDF or PDF.\n",
    "##### The paths to the repositories, where the diagnostic store the output, are "
   ]
  },
  {
   "cell_type": "code",
   "execution_count": null,
   "metadata": {},
   "outputs": [],
   "source": [
    "# Please change the path to the NetCDF files and the PDF files to your own path\n",
    "\n",
    "path_to_netcdf = \"/work/bb1153/b382267/tropical_rainfall_cicle3/NetCDF/histograms/\"\n",
    "path_to_mean = \"/work/bb1153/b382267/tropical_rainfall_cicle3/NetCDF/mean/\"\n",
    "path_to_pdf = \"/work/bb1153/b382267/tropical_rainfall_cicle3/PDF/\""
   ]
  },
  {
   "attachments": {},
   "cell_type": "markdown",
   "metadata": {},
   "source": [
    "#### The function `histogram` calculates and stores the histograms in a specified repository. "
   ]
  },
  {
   "cell_type": "code",
   "execution_count": null,
   "metadata": {},
   "outputs": [],
   "source": [
    "hist_icon_ngc3028 = diag.histogram(icon_ngc3028, path_to_histogram=path_to_netcdf, name_of_file=\"icon_ngc3028_lra_r100_monthly_mm_per_d\")"
   ]
  },
  {
   "cell_type": "code",
   "execution_count": null,
   "metadata": {},
   "outputs": [],
   "source": [
    "hist_ifs_tco2559_ng5 = diag.histogram(ifs_tco2559_ng5, path_to_histogram=path_to_netcdf, name_of_file=\"ifs_tco2559_ng5_lra_r100_monthly_mm_per_d\")\n"
   ]
  },
  {
   "cell_type": "code",
   "execution_count": null,
   "metadata": {},
   "outputs": [],
   "source": [
    "hist_ifs_tco1279_orca025 = diag.histogram(ifs_tco1279_orca025, path_to_histogram=path_to_netcdf, name_of_file=\"ifs_tco1279_orca025_lra_r100_monthly_mm_per_d\")"
   ]
  },
  {
   "cell_type": "code",
   "execution_count": null,
   "metadata": {},
   "outputs": [],
   "source": [
    "hist_mswep_mon = diag.histogram(mswep_mon, path_to_histogram=path_to_netcdf, name_of_file=\"mswep_past_monthly_r100_mm_per_d\")"
   ]
  },
  {
   "cell_type": "code",
   "execution_count": null,
   "metadata": {},
   "outputs": [],
   "source": [
    "hist_mswep_mon_2015_2020 = diag.histogram(mswep_mon_2015_2020, path_to_histogram=path_to_netcdf, name_of_file=\"mswep_past_monthly_2015_2020_r100_mm_per_d\")\n",
    "hist_mswep_mon_1979_1985 = diag.histogram(mswep_mon_1979_1985, path_to_histogram=path_to_netcdf, name_of_file=\"mswep_past_monthly_1979_1985_r100_mm_per_d\")"
   ]
  },
  {
   "cell_type": "code",
   "execution_count": null,
   "metadata": {},
   "outputs": [],
   "source": [
    "hist_era5_1950_1959 = diag.histogram(era5_mon_1950_1959, path_to_histogram=path_to_netcdf, name_of_file=\"era5_mon_1950_1959_r100_mm_per_d\")\n",
    "hist_era5_2015_2022 = diag.histogram(era5_mon_2015_2022, path_to_histogram=path_to_netcdf, name_of_file=\"era5_mon_2015_2022_r100_mm_per_d\")"
   ]
  },
  {
   "attachments": {},
   "cell_type": "markdown",
   "metadata": {},
   "source": [
    "##### The diagnostic can provide us with a graphical comparison of the obtained histograms.  \n",
    "##### Below we compare the precipitation pdf with the units `mm/day`. Units of precipitation: mm  day**-1"
   ]
  },
  {
   "cell_type": "code",
   "execution_count": null,
   "metadata": {},
   "outputs": [],
   "source": [
    "sum(hist_icon_ngc3028.pdfP[0:]* hist_icon_ngc3028.width[0:])\n"
   ]
  },
  {
   "cell_type": "code",
   "execution_count": null,
   "metadata": {},
   "outputs": [],
   "source": [
    "\n",
    "path_to_netcdf='/work/bb1153/b382267/tropical_rainfall_cicle3/NetCDF/histograms/'\n",
    "hist_icon_ngc3028 = diag.open_dataset(path_to_netcdf+'trop_rainfall_icon_ngc3028_lra_r100_monthly_mm_per_d_2020-01-21T00_2025-07-01T00_histogram.nc')\n",
    "hist_ifs_tco2559_ng5 = diag.open_dataset(path_to_netcdf+'trop_rainfall_ifs_tco2559_ng5_lra_r100_monthly_mm_per_d_2020-01-15T00_2024-12-15T00_histogram.nc')\n",
    "hist_ifs_tco1279_orca025 = diag.open_dataset(path_to_netcdf+'trop_rainfall_ifs_tco1279_orca025_lra_r100_monthly_mm_per_d_2020-01-15T00_2024-12-15T00_histogram.nc')\n",
    "\n",
    "#hist_ifs_control_1950 = diag.open_dataset(path_to_netcdf+'IFS/control_1950_devcon/trop_rainfall_control_1950_devcon_lra_r100_monthly_1950-01-01T00_1959-12-01T00_histogram.nc')\n",
    "#hist_ifs_historical_1990 = diag.open_dataset(path_to_netcdf+'IFS/historical_1990_devcon/trop_rainfall_historical_1990_devcon_lra_r100_monthly_1990-01-01T00_1990-12-01T00_histogram.nc')\n",
    "\n",
    "hist_mswep_mon =  diag.open_dataset(path_to_netcdf+'trop_rainfall_mswep_past_monthly_r100_mm_per_d_1979-02-01T00_2020-11-01T00_histogram.nc')\n",
    "hist_mswep_mon_1979_1985 =  diag.open_dataset(path_to_netcdf+'trop_rainfall_mswep_past_monthly_1979_1985_r100_mm_per_d_1979-02-01T00_1985-12-01T00_histogram.nc')\n",
    "hist_mswep_mon_2015_2020 =  diag.open_dataset(path_to_netcdf+'trop_rainfall_mswep_past_monthly_2015_2020_r100_mm_per_d_2015-01-01T00_2020-11-01T00_histogram.nc')\n",
    "\n",
    "hist_era5_1950_1959 =  diag.open_dataset(path_to_netcdf+'trop_rainfall_era5_mon_1950_1959_r100_mm_per_d_1950-01-01T00_1959-12-01T00_histogram.nc')\n",
    "hist_era5_2015_2022 = diag.open_dataset(path_to_netcdf+'trop_rainfall_era5_mon_2015_2022_r100_mm_per_d_2015-01-01T00_2022-12-01T00_histogram.nc')\n"
   ]
  },
  {
   "cell_type": "code",
   "execution_count": null,
   "metadata": {},
   "outputs": [],
   "source": [
    "\"\"\" \n",
    "path_to_netcdf='/work/bb1153/b382267/tropical_rainfall_cicle3/NetCDF/histograms/'\n",
    "hist_icon_ngc3028 = diag.open_dataset(path_to_netcdf+'ICON/PT3H/trop_rainfall_icon_ngc3028_lra_r100_monthly_2020-01-21T00_2025-07-01T00_histogram.nc')\n",
    "hist_ifs_tco2559_ng5 = diag.open_dataset(path_to_netcdf+'IFS/tco2559-ng5-cycle3/trop_rainfall_ifs_tco2559_ng5_lra_r100_monthly_2020-01-15T00_2024-12-15T00_histogram.nc')\n",
    "hist_ifs_tco1279_orca025 = diag.open_dataset(path_to_netcdf+'IFS/tco1279-orca025-cycle3/trop_rainfall_ifs_tco1279_orca025_cycle3_lra_r100_monthly_2020-01-15T00_2024-12-15T00_histogram.nc')\n",
    "\n",
    "hist_ifs_control_1950 = diag.open_dataset(path_to_netcdf+'IFS/control_1950_devcon/trop_rainfall_control_1950_devcon_lra_r100_monthly_1950-01-01T00_1959-12-01T00_histogram.nc')\n",
    "hist_ifs_historical_1990 = diag.open_dataset(path_to_netcdf+'IFS/historical_1990_devcon/trop_rainfall_historical_1990_devcon_lra_r100_monthly_1990-01-01T00_1990-12-01T00_histogram.nc')\n",
    "\n",
    "hist_mswep_mon =  diag.open_dataset(path_to_netcdf+'MSWEP/trop_rainfall_mswep_monthly_r100_1979-02-01T00_2020-11-01T00_histogram.nc')\n",
    "hist_mswep_mon_1979_1985 =  diag.open_dataset(path_to_netcdf+'MSWEP/trop_rainfall_mswep_past_monthly_1979_1985_r100_1979-02-01T00_1985-12-01T00_histogram.nc')\n",
    "hist_mswep_mon_2015_2020 =  diag.open_dataset(path_to_netcdf+'MSWEP/trop_rainfall_mswep_past_monthly_2015_2020_r100_2015-01-01T00_2020-11-01T00_histogram.nc')\n",
    "\n",
    "hist_era5_1950_1959 =  diag.open_dataset(path_to_netcdf+'ERA5/trop_rainfall_era5_mon_1950_1959_r100_1950-01-01T00_1959-12-01T00_histogram.nc')\n",
    "hist_era5_2015_2022 = diag.open_dataset(path_to_netcdf+'ERA5/trop_rainfall_era5_mon_2015_2022_r100_2015-01-01T00_2022-12-01T00_histogram.nc')\n",
    "\n",
    "\"\"\"\n"
   ]
  },
  {
   "cell_type": "code",
   "execution_count": null,
   "metadata": {},
   "outputs": [],
   "source": [
    "add = diag.histogram_plot(hist_icon_ngc3028,    figsize=1, pdfP = True, pdf=False, \n",
    "                new_unit=\"mm/hr\", \n",
    "                xlogscale=True, ylogscale=False,\n",
    "                legend='ICON ngc3028 (2020-2025)')\n",
    "diag.histogram_plot(hist_ifs_tco2559_ng5,       add = add,  color ='tab:orange', pdfP = True, pdf=False, \n",
    "                new_unit=\"mm/hr\", \n",
    "                xlogscale=True, ylogscale=False,\n",
    "                legend='IFS tco2559-ng5 (2020-2024)') \n",
    "diag.histogram_plot(hist_ifs_tco1279_orca025,   add = add,  color ='tab:red', pdfP = True, pdf=False, \n",
    "                new_unit=\"mm/hr\", \n",
    "                xlogscale=True, ylogscale=False,\n",
    "                legend='IFS tco1279-orca025 (2020-2024)')\n",
    "#diag.histogram_plot(hist_ifs_control_1950,   add = add,  color ='tab:green', pdfP = True, pdf=False, \n",
    "#                new_unit=\"mm/hr\", xlogscale=True, ylogscale=False,\n",
    "#                legend='IFS control (1950-1959)') \n",
    "diag.histogram_plot(hist_era5_1950_1959,             add = add,  color ='grey', pdfP = True, pdf=False, \n",
    "                xlogscale=True, ylogscale=False,\n",
    "                new_unit=\"mm/hr\",\n",
    "                legend='ERA5 (1950-1959)', xmax = 70) #,\n",
    "diag.histogram_plot(hist_mswep_mon_2015_2020,             add = add,  color ='k', pdfP = True, pdf=False, \n",
    "                xlogscale=True, ylogscale=False,\n",
    "                new_unit=\"mm/hr\",\n",
    "                legend='MSWEP (2015-2020)', xmax = 70, \n",
    "                plot_title='Monthly, 1 degree res (100km)', loc='upper left')\n",
    "                #path_to_pdf=path_to_pdf, \n",
    "                #pdf_format=True, \n",
    "                #name_of_file='lra_r100_monthly_comparison') #,"
   ]
  },
  {
   "cell_type": "code",
   "execution_count": null,
   "metadata": {},
   "outputs": [],
   "source": [
    "add = diag.histogram_plot(hist_icon_ngc3028,    figsize=1, pdfP = True, pdf=False, \n",
    "                new_unit=\"mm/hr\", xlogscale=True, ylogscale=False,\n",
    "                legend='ICON, ngc3028')\n",
    "diag.histogram_plot(hist_ifs_tco2559_ng5,       add = add,  color ='tab:red', pdfP = True, pdf=False, \n",
    "                new_unit=\"mm/hr\", xlogscale=True, ylogscale=False,\n",
    "                legend='IFS, tco2559-ng5') \n",
    "diag.histogram_plot(hist_ifs_tco1279_orca025,   add = add,  color ='tab:orange', pdfP = True, pdf=False,\n",
    "                new_unit=\"mm/hr\", xlogscale=True, ylogscale=False,\n",
    "                legend='IFS, tco1279-orca025') \n",
    "diag.histogram_plot(hist_mswep_mon,             add = add,  color ='tab:green', pdfP = True, pdf=False, \n",
    "                new_unit=\"mm/hr\", xlogscale=True, ylogscale=False,\n",
    "                legend='MSWEP', xmax = 70, \n",
    "                plot_title='Monthly, 1 degree res (100km)', loc='upper left')\n",
    "                #path_to_pdf=path_to_pdf, \n",
    "                #pdf_format=False, \n",
    "                #name_of_file='icon_ngc3028_ifs_tco2559_ng5_ifs_tco1279_orca025_mswep_lra_r100_monthly_comparison')"
   ]
  },
  {
   "attachments": {},
   "cell_type": "markdown",
   "metadata": {},
   "source": [
    "## 3. Mean comparison"
   ]
  },
  {
   "attachments": {},
   "cell_type": "markdown",
   "metadata": {},
   "source": [
    "##### The diagnostic can also give us a graphical comparison of the mean value along different coordinates. \n",
    "\n",
    "For example, the function `plot_of_average()` calculates the mean value of precipitation during \n",
    " - December-January-February (`DJF`), \n",
    " - March-April-May (`MAM`), \n",
    " - June-July-August (`JJA`), \n",
    " - September-October-November (`SON`), and \n",
    "- for the total period of time. \n",
    "\n",
    "Then the function  `average_into_netcdf(coord='lon')` calculates the mean value of precipitation along the longitude. \n",
    "\n",
    "In the end, the mean values of precipitation for each value of latitude in millimeters per day are:"
   ]
  },
  {
   "cell_type": "code",
   "execution_count": null,
   "metadata": {},
   "outputs": [],
   "source": [
    "diag.s_month, diag.f_month = None, None\n",
    "diag.average_into_netcdf(ifs_tco1279_orca025, coord='lon', trop_lat=90,\n",
    "                         path_to_netcdf=path_to_mean,  name_of_file='ifs_tco1279_orca025_lra')\n",
    "diag.s_month, diag.f_month = None, None\n",
    "diag.average_into_netcdf(ifs_tco1279_orca025, coord='lat', trop_lat=15,\n",
    "                         path_to_netcdf=path_to_mean,  name_of_file='ifs_tco1279_orca025_lra')"
   ]
  },
  {
   "cell_type": "code",
   "execution_count": null,
   "metadata": {},
   "outputs": [],
   "source": [
    "diag.s_month, diag.f_month = None, None\n",
    "diag.average_into_netcdf(icon_ngc3028, coord='lon', trop_lat=90,\n",
    "                         path_to_netcdf=path_to_mean,  name_of_file='icon_ngc3028_lra')\n",
    "diag.s_month, diag.f_month = None, None\n",
    "diag.average_into_netcdf(icon_ngc3028, coord='lat', trop_lat=15,\n",
    "                         path_to_netcdf=path_to_mean,  name_of_file='icon_ngc3028_lra')"
   ]
  },
  {
   "cell_type": "code",
   "execution_count": null,
   "metadata": {},
   "outputs": [],
   "source": [
    "diag.s_month, diag.f_month = None, None\n",
    "diag.average_into_netcdf(ifs_tco2559_ng5, coord='lon', trop_lat=90,\n",
    "                         path_to_netcdf=path_to_mean,  name_of_file='ifs_tco2559_ng5_lra')\n",
    "diag.s_month, diag.f_month = None, None\n",
    "diag.average_into_netcdf(ifs_tco2559_ng5, coord='lat', trop_lat=15,\n",
    "                         path_to_netcdf=path_to_mean,  name_of_file='ifs_tco2559_ng5_lra')"
   ]
  },
  {
   "cell_type": "code",
   "execution_count": null,
   "metadata": {},
   "outputs": [],
   "source": [
    "diag.s_month, diag.f_month = None, None\n",
    "diag.average_into_netcdf(mswep_mon, coord='lon', trop_lat=90,\n",
    "                         path_to_netcdf=path_to_mean,  name_of_file='mswep_mon_lra')\n",
    "diag.s_month, diag.f_month = None, None\n",
    "diag.average_into_netcdf(mswep_mon, coord='lat', trop_lat=15,\n",
    "                         path_to_netcdf=path_to_mean,  name_of_file='mswep_mon_lra')"
   ]
  },
  {
   "cell_type": "code",
   "execution_count": null,
   "metadata": {},
   "outputs": [],
   "source": [
    "diag.trop_lat=90\n",
    "add = diag.plot_of_average(path_to_netcdf=path_to_mean+\"trop_rainfall_icon_ngc3028_lra_lon_2020-09-01T00_2024-11-01T00_histogram.nc\",                  \n",
    "                                legend='ICON, ngc3028',         color='tab:blue', figsize=0.9)\n",
    "\n",
    "add = diag.plot_of_average(path_to_netcdf=path_to_mean+\"trop_rainfall_ifs_tco2559_ng5_lra_lon_2020-09-15T00_2024-11-15T00_histogram.nc\",    \n",
    "                                fig=add,    \n",
    "                                legend='IFS, tco2559-ng5',      color='tab:red')\n",
    "\n",
    "add = diag.plot_of_average(path_to_netcdf=path_to_mean+\"trop_rainfall_ifs_tco1279_orca025_lra_lon_2020-09-15T00_2024-11-15T00_histogram.nc\", \n",
    "                                fig=add,    \n",
    "                                legend='IFS, tco1279-orca025',  color='tab:orange')\n",
    "\n",
    "add = diag.plot_of_average(path_to_netcdf=path_to_mean+\"trop_rainfall_mswep_mon_lra_lon_1979-09-01T00_2020-11-01T00_histogram.nc\",          \n",
    "                                fig=add,   \n",
    "                                legend='MSWEP',                 color='tab:green',\n",
    "                                plot_title='Tropical mean, monthly, 1 degree res (100km)', loc='upper left',\n",
    "                                path_to_pdf=path_to_pdf,\n",
    "                                pdf_format=False,\n",
    "                                name_of_file='icon_ngc3028_ifs_tco2559_ng5_ifs_tco1279_orca025_mswep_lra_r100_monthly_comparison_along_lon')"
   ]
  },
  {
   "cell_type": "code",
   "execution_count": null,
   "metadata": {},
   "outputs": [],
   "source": [
    "diag.trop_lat=15\n",
    "add = diag.plot_of_average(path_to_netcdf=path_to_mean+\"trop_rainfall_icon_ngc3028_lra_lat_2020-09-01T00_2024-11-01T00_histogram.nc\",                  \n",
    "                                legend='ICON, ngc3028',         color='tab:blue', figsize=0.9)\n",
    "\n",
    "add = diag.plot_of_average(path_to_netcdf=path_to_mean+\"trop_rainfall_ifs_tco2559_ng5_lra_lat_2020-09-15T00_2024-11-15T00_histogram.nc\",    \n",
    "                                fig=add,    \n",
    "                                legend='IFS, tco2559-ng5',      color='tab:red')\n",
    "\n",
    "add = diag.plot_of_average(path_to_netcdf=path_to_mean+\"trop_rainfall_ifs_tco1279_orca025_lra_lat_2020-09-15T00_2024-11-15T00_histogram.nc\", \n",
    "                                fig=add,    \n",
    "                                legend='IFS, tco1279-orca025',  color='tab:orange')\n",
    "\n",
    "add = diag.plot_of_average(path_to_netcdf=path_to_mean+\"trop_rainfall_mswep_mon_lra_lat_1979-09-01T00_2020-11-01T00_histogram.nc\",          \n",
    "                                fig=add,   \n",
    "                                legend='MSWEP',                 color='tab:green',\n",
    "                                plot_title='Tropical mean, monthly, 1 degree res (100km)', loc='upper left',\n",
    "                                path_to_pdf=path_to_pdf,\n",
    "                                pdf_format=False,\n",
    "                                name_of_file='icon_ngc3028_ifs_tco2559_ng5_ifs_tco1279_orca025_mswep_lra_r100_monthly_comparison_along_lat')"
   ]
  },
  {
   "attachments": {},
   "cell_type": "markdown",
   "metadata": {},
   "source": [
    "## 4. Calculation of a bias between climatological model and observations"
   ]
  },
  {
   "attachments": {},
   "cell_type": "markdown",
   "metadata": {},
   "source": [
    "Tropical-rainfall diagnostic provides the graphical representation of the bias between the mean value of precipitation of the climatological model and the mean value of observations. \n",
    "\n",
    "The mean value the function calculates for each season (`DJF`, `MAM`, `JJA`, `SON`) and for the total period of time. "
   ]
  },
  {
   "cell_type": "code",
   "execution_count": null,
   "metadata": {},
   "outputs": [],
   "source": [
    "diag.plot_seasons_or_months(icon_ngc3028, seasons=True, new_unit='mm/day',  trop_lat=90,  vmin=-9, vmax=11,\n",
    "               plot_title='The bias between ICON, ngc3028 and MSWEP, monthly, 1 degree res (100km)')\n",
    "               #path_to_pdf=path_to_pdf, name_of_file='icon_ngc3028_mswep_lra_r100_monthly_bias')"
   ]
  },
  {
   "cell_type": "code",
   "execution_count": null,
   "metadata": {},
   "outputs": [],
   "source": [
    "diag.plot_bias(icon_ngc3028, dataset_2 = mswep_mon, seasons=True, new_unit='mm/day',  trop_lat=90,  vmin=-9, vmax=11,\n",
    "               plot_title='The bias between ICON, ngc3028 and MSWEP, monthly, 1 degree res (100km)',\n",
    "               path_to_pdf=path_to_pdf, name_of_file='icon_ngc3028_mswep_lra_r100_monthly_bias')"
   ]
  },
  {
   "cell_type": "code",
   "execution_count": null,
   "metadata": {},
   "outputs": [],
   "source": [
    "diag.plot_bias(ifs_tco1279_orca025, dataset_2 = mswep_mon, seasons=True, new_unit='mm/day',  trop_lat=90,  vmin=-9, vmax=11,\n",
    "               plot_title='The bias between IFS, tco1279-orca0258 and MSWEP, monthly, 1 degree res (100km)',\n",
    "               path_to_pdf=path_to_pdf, name_of_file='ifs_tco1279_orca0258_mswep_lra_r100_monthly_bias')"
   ]
  },
  {
   "cell_type": "code",
   "execution_count": null,
   "metadata": {},
   "outputs": [],
   "source": [
    "diag.plot_bias(ifs_tco2559_ng5, dataset_2 = mswep_mon, seasons=True, new_unit='mm/day',  trop_lat=90,  vmin=-9, vmax=11,\n",
    "               plot_title='The bias between IFS, tco2559-ng5 and MSWEP, monthly, 1 degree res (100km)',\n",
    "               path_to_pdf=path_to_pdf, name_of_file='tco2559-ng5_mswep_lra_r100_monthly_bias')"
   ]
  },
  {
   "attachments": {},
   "cell_type": "markdown",
   "metadata": {},
   "source": [
    "#"
   ]
  },
  {
   "attachments": {},
   "cell_type": "markdown",
   "metadata": {},
   "source": [
    "## Below is the comparison of high-frequency histograms."
   ]
  },
  {
   "cell_type": "code",
   "execution_count": null,
   "metadata": {},
   "outputs": [],
   "source": [
    "diag = Tropical_Rainfall(trop_lat=15,  num_of_bins = int(1000/1), first_edge = 0, width_of_bin = 1, loglevel='debug')"
   ]
  },
  {
   "cell_type": "code",
   "execution_count": null,
   "metadata": {},
   "outputs": [],
   "source": [
    "path_to_ifs='/work/bb1153/b382267/tropical_rainfall_cicle3/NetCDF/histograms/tco2559-ng5-cycle3/'\n",
    "hist_ifs_2559_high = diag.merge_list_of_histograms(path_to_histograms = path_to_ifs, multi = None, seasons = False, all = True)"
   ]
  },
  {
   "cell_type": "code",
   "execution_count": null,
   "metadata": {},
   "outputs": [],
   "source": [
    "path_to_ifs_orca='/work/bb1153/b382267/tropical_rainfall_cicle3/NetCDF/histograms/tco1279-orca025-cycle3/'\n",
    "hist_ifs_tco1279_high = diag.merge_list_of_histograms(path_to_histograms = path_to_ifs_orca, multi = None, seasons = False, all = True)"
   ]
  },
  {
   "cell_type": "code",
   "execution_count": null,
   "metadata": {},
   "outputs": [],
   "source": [
    "path_to_icon='/work/bb1153/b382267/tropical_rainfall_cicle3/NetCDF/histograms/PT3H/'\n",
    "hist_icon_ngc3028_high = diag.merge_list_of_histograms(path_to_histograms = path_to_icon, multi = None,  all = True)"
   ]
  },
  {
   "cell_type": "code",
   "execution_count": null,
   "metadata": {},
   "outputs": [],
   "source": [
    "path_to_mswep='/work/bb1153/b382267/tropical_rainfall_cicle3/NetCDF/histograms/mswep_no_fix/'\n",
    "hist_mswep_high = diag.merge_list_of_histograms(path_to_histograms = path_to_mswep, multi = None,  all = True)"
   ]
  },
  {
   "cell_type": "code",
   "execution_count": null,
   "metadata": {},
   "outputs": [],
   "source": [
    "for hist in [hist_ifs_2559_high, hist_ifs_tco1279_high, hist_icon_ngc3028_high, hist_mswep_high]:\n",
    "    if abs(hist.pdf.sum() -1) < 10**(-4) and  abs(hist.frequency.sum() -1) < 10**(-4):\n",
    "        print('OK')"
   ]
  },
  {
   "cell_type": "code",
   "execution_count": null,
   "metadata": {},
   "outputs": [],
   "source": [
    "add = diag.histogram_plot(hist_icon_ngc3028_high,   pdf=True,   figsize=1,                         \n",
    "                legend='ICON, ngc3028')\n",
    "add = diag.histogram_plot(hist_ifs_tco1279_high.pdf,    pdf=False, frequency=False,   add = add,  color ='tab:orange', \n",
    "                legend='IFS, tco1279-orca025') \n",
    "add = diag.histogram_plot(hist_ifs_2559_high,       pdf=True,   add = add,  color ='tab:red', \n",
    "                legend='IFS, tco2559-ng5') \n",
    "add = diag.histogram_plot(hist_mswep_high,          pdf=True,   add = add,  color ='tab:green', \n",
    "                legend='MSWEP',  \n",
    "                plot_title='3hourly, 0.1 degree res (10km)', loc='upper right',\n",
    "                path_to_pdf=path_to_pdf, \n",
    "                pdf_format=False,  \n",
    "                name_of_file='icon_ngc3028_ifs_tco2559_ng5_ifs_tco1279_orca025_mswep_10km_3h')"
   ]
  },
  {
   "attachments": {},
   "cell_type": "markdown",
   "metadata": {},
   "source": [
    "##### The end"
   ]
  }
 ],
 "metadata": {
  "kernelspec": {
   "display_name": "tropical-rainfall",
   "language": "python",
   "name": "python3"
  },
  "language_info": {
   "codemirror_mode": {
    "name": "ipython",
    "version": 3
   },
   "file_extension": ".py",
   "mimetype": "text/x-python",
   "name": "python",
   "nbconvert_exporter": "python",
   "pygments_lexer": "ipython3",
   "version": "3.10.12"
  },
  "orig_nbformat": 4,
  "vscode": {
   "interpreter": {
    "hash": "07e98d85ba00412b6aa5125aae8e919611736cabcd7c227888eba392d8503989"
   }
  }
 },
 "nbformat": 4,
 "nbformat_minor": 2
}
