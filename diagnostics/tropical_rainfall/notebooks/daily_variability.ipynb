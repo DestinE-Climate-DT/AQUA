{
 "cells": [
  {
   "attachments": {},
   "cell_type": "markdown",
   "metadata": {},
   "source": [
    "## 1. The load of packages, modules, and data"
   ]
  },
  {
   "cell_type": "code",
   "execution_count": 1,
   "metadata": {},
   "outputs": [],
   "source": [
    "import sys\n",
    "from aqua import Reader\n",
    "sys.path.insert(0, '../../')\n",
    "from tropical_rainfall import Tropical_Rainfall"
   ]
  },
  {
   "cell_type": "code",
   "execution_count": 2,
   "metadata": {},
   "outputs": [],
   "source": [
    "from aqua.slurm import slurm"
   ]
  },
  {
   "cell_type": "code",
   "execution_count": 3,
   "metadata": {},
   "outputs": [
    {
     "name": "stderr",
     "output_type": "stream",
     "text": [
      "2023-08-16 15:11:03 :: create_folder :: WARNING  -> Folder ./slurm already exists\n",
      "2023-08-16 15:11:03 :: create_folder :: WARNING  -> Folder ./slurm/logs already exists\n",
      "2023-08-16 15:11:03 :: create_folder :: WARNING  -> Folder ./slurm/output already exists\n",
      "2023-08-16 15:11:15 :: slurm :: WARNING  -> #!/usr/bin/env bash\n",
      "\n",
      "#SBATCH -J dask-worker\n",
      "#SBATCH -p compute\n",
      "#SBATCH -A bb1153\n",
      "#SBATCH -n 1\n",
      "#SBATCH --cpus-per-task=16\n",
      "#SBATCH --mem=233G\n",
      "#SBATCH -t 02:30:00\n",
      "#SBATCH --error=./slurm/logs/dask-worker-%j.err\n",
      "#SBATCH --output=./slurm/output/dask-worker-%j.out\n",
      "\n",
      "/work/bb1153/b382267/mamba_dir/mambaforge/envs/tropical-rainfall_m/bin/python -m distributed.cli.dask_worker tcp://136.172.124.6:39149 --nthreads 4 --nworkers 4 --memory-limit 58.21GiB --name dummy-name --nanny --death-timeout 60\n",
      "\n"
     ]
    }
   ],
   "source": [
    "slurm.job(cores=16, memory=\"250 GB\")"
   ]
  },
  {
   "cell_type": "code",
   "execution_count": 4,
   "metadata": {},
   "outputs": [
    {
     "name": "stdout",
     "output_type": "stream",
     "text": [
      "JOBID      CPUS  NODES ST         NAME                 TIME       START_TIME           DEPENDENCY           PARTITION            MIN_MEMORY          \n",
      "6519869    16    1     PD         dask-worker          0:00       N/A                  (null)               compute              233G                \n"
     ]
    },
    {
     "data": {
      "text/plain": [
       "0"
      ]
     },
     "execution_count": 4,
     "metadata": {},
     "output_type": "execute_result"
    }
   ],
   "source": [
    "slurm.squeue()"
   ]
  },
  {
   "cell_type": "code",
   "execution_count": 5,
   "metadata": {},
   "outputs": [],
   "source": [
    "diag = Tropical_Rainfall(trop_lat=15,  num_of_bins = 1000, first_edge = 0, width_of_bin = 1 - 10**(-6), loglevel='debug')"
   ]
  },
  {
   "cell_type": "code",
   "execution_count": 6,
   "metadata": {},
   "outputs": [],
   "source": [
    "reader              = Reader(model=\"IFS\", exp=\"tco1279-orca025-cycle3\", source=\"2D_1h_native\", regrid=\"r010\")\n",
    "ifs_tco1279_orca025_retrived = reader.retrieve()"
   ]
  },
  {
   "cell_type": "code",
   "execution_count": null,
   "metadata": {},
   "outputs": [],
   "source": [
    "ifs_tco1279_orca025_retrived = ifs_tco1279_orca025_retrived.isel(time=slice(0, 10))\n",
    "ifs_tco1279_orca025 = reader.regrid(ifs_tco1279_orca025_retrived)"
   ]
  },
  {
   "cell_type": "code",
   "execution_count": null,
   "metadata": {},
   "outputs": [],
   "source": [
    "ifs_tco1279_orca025.lat.size*0.005, ifs_tco1279_orca025.lon.size*0.005"
   ]
  },
  {
   "cell_type": "code",
   "execution_count": null,
   "metadata": {},
   "outputs": [],
   "source": [
    "path_to_netcdf = \"/work/bb1153/b382267/tropical_rainfall_cicle3/NetCDF/UTC_timing/\""
   ]
  },
  {
   "cell_type": "code",
   "execution_count": null,
   "metadata": {},
   "outputs": [],
   "source": [
    "diag.add_UTC_DataAaray(data = ifs_tco1279_orca025_retrived, space_grid_factor = 0.005,\n",
    "                        path_to_netcdf=path_to_netcdf, name_of_file = 'TEST_high_res_icon_ngc3028')"
   ]
  },
  {
   "attachments": {},
   "cell_type": "markdown",
   "metadata": {},
   "source": [
    "## OR low-res models"
   ]
  },
  {
   "attachments": {},
   "cell_type": "markdown",
   "metadata": {},
   "source": [
    "reader          = Reader(model=\"ICON\", exp=\"ngc3028\", source=\"lra-r100-monthly\")\n",
    "icon_ngc3028    = reader.retrieve()\n",
    "icon_ngc3028    = icon_ngc3028['tprate'][:]*86400\n",
    "icon_ngc3028.attrs['units'] = \"mm/day\""
   ]
  },
  {
   "cell_type": "code",
   "execution_count": null,
   "metadata": {},
   "outputs": [],
   "source": [
    "diag.add_UTC_DataAaray(data = icon_ngc3028,  space_grid_factor = 0.05, time_length=2,\n",
    "                              path_to_netcdf=path_to_netcdf, name_of_file = 'TEST_icon_ngc3028')"
   ]
  },
  {
   "cell_type": "code",
   "execution_count": null,
   "metadata": {},
   "outputs": [],
   "source": [
    "diag.open_dataset(\"/work/bb1153/b382267/tropical_rainfall_cicle3/NetCDF/UTC_timing/trop_rainfall_TEST_icon_ngc3028_2020-01-21T00_2020-02-01T00_histogram.nc\")"
   ]
  },
  {
   "cell_type": "code",
   "execution_count": null,
   "metadata": {},
   "outputs": [],
   "source": [
    "utc_time = temp['utc_time'].stack(total=['time', 'lat', 'lon'])\n",
    "tprate = temp['tprate'].stack(total=['time', 'lat', 'lon'])\n",
    "new_data = [utc_time, tprate]"
   ]
  },
  {
   "cell_type": "code",
   "execution_count": null,
   "metadata": {},
   "outputs": [],
   "source": []
  }
 ],
 "metadata": {
  "kernelspec": {
   "display_name": "tropical-rainfall_m",
   "language": "python",
   "name": "python3"
  },
  "language_info": {
   "codemirror_mode": {
    "name": "ipython",
    "version": 3
   },
   "file_extension": ".py",
   "mimetype": "text/x-python",
   "name": "python",
   "nbconvert_exporter": "python",
   "pygments_lexer": "ipython3",
   "version": "3.10.12"
  },
  "orig_nbformat": 4
 },
 "nbformat": 4,
 "nbformat_minor": 2
}
