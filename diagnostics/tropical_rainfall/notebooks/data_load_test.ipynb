{
 "cells": [
  {
   "attachments": {},
   "cell_type": "markdown",
   "metadata": {},
   "source": [
    "# The demonstration of the tropical precipitation module on the different datasets"
   ]
  },
  {
   "attachments": {},
   "cell_type": "markdown",
   "metadata": {},
   "source": [
    "###  Loading the necessary packages"
   ]
  },
  {
   "cell_type": "code",
   "execution_count": 2,
   "metadata": {},
   "outputs": [],
   "source": [
    "import sys"
   ]
  },
  {
   "attachments": {},
   "cell_type": "markdown",
   "metadata": {},
   "source": [
    "### Setting the path to the diagnostic repository "
   ]
  },
  {
   "cell_type": "code",
   "execution_count": 3,
   "metadata": {},
   "outputs": [],
   "source": [
    "sys.path.append('..')"
   ]
  },
  {
   "cell_type": "code",
   "execution_count": null,
   "metadata": {},
   "outputs": [],
   "source": [
    "sys.path"
   ]
  },
  {
   "cell_type": "code",
   "execution_count": 5,
   "metadata": {},
   "outputs": [],
   "source": [
    "configdir = '../../../config/'\n",
    "diagname  = 'tr_pr'\n",
    "machine   = 'levante'"
   ]
  },
  {
   "attachments": {},
   "cell_type": "markdown",
   "metadata": {},
   "source": [
    "### Importing the aqua module "
   ]
  },
  {
   "cell_type": "code",
   "execution_count": 6,
   "metadata": {},
   "outputs": [],
   "source": [
    "import aqua"
   ]
  },
  {
   "cell_type": "code",
   "execution_count": 7,
   "metadata": {},
   "outputs": [],
   "source": [
    "from aqua import Reader\n",
    "from aqua.reader import catalogue"
   ]
  },
  {
   "cell_type": "code",
   "execution_count": 12,
   "metadata": {},
   "outputs": [
    {
     "name": "stdout",
     "output_type": "stream",
     "text": [
      "IFS\ttco3999-ng5\t2.8km experiment, coupled with FESOM\n",
      "\t- ICMGG_atm2d\t\n",
      "\t- ICMU_atm2d\t\n",
      "\t- ICMU_atm3d\t\n",
      "\t- interpolated_global\t\n",
      "\t- interpolated_np\t\n",
      "\t- interpolated_sp\t\n",
      "\t- interpolated_sp_ci\t\n",
      "\t- lra-r100-mon\t\n",
      "IFS\ttco2559-ng5\t4km experiment, coupled with FESOM\n",
      "\t- ICMGG_atm2d\t\n",
      "\t- ICMU_atm2d\t\n",
      "\t- ICMU_atm3d\t\n",
      "\t- interpolated_global\t\n",
      "\t- interpolated_np\t\n",
      "\t- interpolated_sp\t\n",
      "\t- lra-r100-day\t\n",
      "\t- lra-r100-mon\t\n",
      "IFS\ttco1279-orca025\t9km baseline, coupled to NEMO, deep conv ON\n",
      "\t- ICMGG_atm2d\t\n",
      "\t- ICMU_atm2d\t\n",
      "\t- ICMU_atm3d\t\n",
      "\t- lra-r100-mon\t\n",
      "IFS\ttest-tco2559\t4km experiment, coupled with FESOM\n",
      "\t- ICMGG_atm2d\t2d output\n",
      "\t- ICMU_atm3d\t3d output\n",
      "IFS\ttest-tco79\tTCO79 test data\n",
      "\t- short\toriginal 2d output\n",
      "\t- long\tcoarse IFS data 1y\n",
      "\n",
      "FESOM\ttco3999-ng5\t2.5km experiment, coupuled with IFS\n",
      "\t- elem_grid\t\n",
      "\t- node_grid\t\n",
      "\t- np\tnearest-neighbor interpolation to lat-lon grid\n",
      "\t- interpolated_global2d\t\n",
      "\t- interpolated_global_TS\t\n",
      "\t- interpolated_global_UV\t\n",
      "\t- interpolated_np\t\n",
      "\t- interpolated_sp\t\n",
      "\t- original_2d\toriginal 2d output\n",
      "\t- original_3d\toriginal 3d output\n",
      "FESOM\ttco2559-ng5\t5km experiment, coupuled with IFS\n",
      "\t- elem_grid\t\n",
      "\t- node_grid\t\n",
      "\t- interpolated_global2d\t\n",
      "\t- interpolated_global_TS\t\n",
      "\t- interpolated_global_UV\t\n",
      "\t- interpolated_np\t\n",
      "\t- interpolated_sp\t\n",
      "\t- original_2d\toriginal 2d output\n",
      "\t- original_3d\toriginal 3d output\n",
      "\t- lra-r100-mon\t\n",
      "\t- lra-r100-day\t\n",
      "FESOM\ttest-ng5\t5km experiment, coupuled with IFS\n",
      "\t- elem_grid\t\n",
      "\t- node_grid\t\n",
      "\t- original_2d\toriginal 2d output\n",
      "\t- original_3d\toriginal 3d output\n",
      "FESOM\ttest-pi\ttest data\n",
      "\t- original_2d\toriginal 2d output\n",
      "\n",
      "ICON\tngc2009\t5km coupled run, main ICON nextGEMS C2 run\n",
      "\t- atm_2d_ml\t\n",
      "\t- atm_2d_ml_R02B09\t\n",
      "\t- atm_2d_ml_R02B08\t\n",
      "\t- oce_200m_atmgrid_R02B09\t\n",
      "\t- intake-esm-test\tTest Intake-ESM Catalog\n",
      "\t- lra-r100-mon\t\n",
      "\t- lra-r100-day\t\n",
      "ICON\thpx\tSome Healpix data\n",
      "\t- result\t\n",
      "\n",
      "MSWEP\tpast\tpast MSWEP v280 data\n",
      "\t- monthly\tmonthly MSWEP_V280 data\n",
      "\t- daily\tdaily MSWEP_V280 data\n",
      "\t- 3hourly\t3 hourly MSWEP_V280 data\n",
      "\t- monthlyz\tmonthly MSWEP_V280 data\n",
      "\t- dailyz\tdaily MSWEP_V280 data\n",
      "\n",
      "ERA5\tera5\tmain ERA5 data\n",
      "\t- monthly_inst\tERA5 instantaneous 2D data monthly averaged\n",
      "\t- monthly_acc\tERA5 accumulated 2D data monthly averaged\n",
      "\t- daily_inst\tERA5 instantaneous 2D data daily\n",
      "\t- daily_acc\tERA5 accumulated 2D data daily\n",
      "\n",
      "CERES\tebaf-toa41\tCERES-EBAF\n",
      "\t- monthly\tCERES EBAF TOA Ed4.2 from 2002 to 2022\n",
      "CERES\tebaf-toa42\tCERES-EBAF\n",
      "\t- monthly\tCERES EBAF TOA Ed4.2 from 2002 to 2022\n",
      "CERES\tebaf-sfc41\tCERES-EBAF\n",
      "\t- monthly\tCERES EBAF SFC Ed4.1 from 2002 to 2022\n",
      "CERES\tsyn-toa41\tCERES-EBAF\n",
      "\t- daily\tCERES SYN TOA Ed4.1 from 2001 to 2021\n",
      "\n"
     ]
    },
    {
     "data": {
      "application/yaml": "levante:\n  args:\n    path: ../../../config//levante/catalog.yaml\n  description: ''\n  driver: intake.catalog.local.YAMLFileCatalog\n  metadata: {}\n",
      "text/plain": [
       "levante:\n",
       "  args:\n",
       "    path: ../../../config//levante/catalog.yaml\n",
       "  description: ''\n",
       "  driver: intake.catalog.local.YAMLFileCatalog\n",
       "  metadata: {}\n"
      ]
     },
     "metadata": {
      "application/json": {
       "root": "levante"
      }
     },
     "output_type": "display_data"
    }
   ],
   "source": [
    "catalogue(verbose = True, configdir=configdir)"
   ]
  },
  {
   "attachments": {},
   "cell_type": "markdown",
   "metadata": {},
   "source": [
    "# DATA TESTED: \n",
    "    + ICON \n",
    "    + MSWEP \n",
    "    + IFS\n",
    "    - FESOM (problems with datatype)\n",
    "    - CERES (which variable)\n",
    "    - ERA5 (got an unexpected keyword argument 'metadata')"
   ]
  },
  {
   "attachments": {},
   "cell_type": "markdown",
   "metadata": {},
   "source": [
    "# Successful TESTS"
   ]
  },
  {
   "attachments": {},
   "cell_type": "markdown",
   "metadata": {},
   "source": [
    "## ICON data"
   ]
  },
  {
   "cell_type": "code",
   "execution_count": null,
   "metadata": {},
   "outputs": [],
   "source": [
    "reader = Reader(model=\"ICON\", exp=\"ngc2009\",  configdir=configdir, source=\"atm_2d_ml\")\n",
    "ICON = reader.retrieve()\n",
    "ICON_not_fixed = reader.retrieve(fix=False)"
   ]
  },
  {
   "cell_type": "code",
   "execution_count": 11,
   "metadata": {},
   "outputs": [],
   "source": [
    "reader = Reader(model=\"ICON\", exp=\"ngc2009\",  configdir=configdir, source=\"atm_2d_ml_R02B09\", regrid=\"r200\")\n",
    "ICON = reader.retrieve()\n",
    "ICON_not_fixed = reader.retrieve(fix=False)"
   ]
  },
  {
   "cell_type": "code",
   "execution_count": 20,
   "metadata": {},
   "outputs": [],
   "source": [
    "reader = Reader(model=\"ICON\", exp=\"ngc2009\",  configdir=configdir, source=\"oce_200m_atmgrid_R02B09\")\n",
    "ICON = reader.retrieve()\n",
    "ICON_not_fixed = reader.retrieve(fix=False)"
   ]
  },
  {
   "cell_type": "code",
   "execution_count": null,
   "metadata": {},
   "outputs": [],
   "source": [
    "reader = Reader(model=\"ICON\", exp=\"ngc2009\",  configdir=configdir, source=\"intake-esm-test\")\n",
    "ICON = reader.retrieve()\n",
    "ICON_not_fixed = reader.retrieve(fix=False)"
   ]
  },
  {
   "attachments": {},
   "cell_type": "markdown",
   "metadata": {},
   "source": [
    "## Problem"
   ]
  },
  {
   "cell_type": "code",
   "execution_count": null,
   "metadata": {},
   "outputs": [],
   "source": [
    "reader = Reader(model=\"ICON\", exp=\"ngc2009\",  configdir=configdir, source=\"atm_2d_ml_R02B08\")\n",
    "#ICON = reader.retrieve()\n",
    "#ICON_not_fixed = reader.retrieve(fix=False)"
   ]
  },
  {
   "cell_type": "code",
   "execution_count": null,
   "metadata": {},
   "outputs": [],
   "source": [
    "reader = Reader(model=\"ICON\", exp=\"hpx\",  configdir=configdir, source=\"result\")\n",
    "ICON = reader.retrieve()\n",
    "ICON_not_fixed = reader.retrieve(fix=False)"
   ]
  },
  {
   "cell_type": "code",
   "execution_count": null,
   "metadata": {},
   "outputs": [],
   "source": [
    "reader = Reader(model=\"ICON\", exp=\"ngc2009\",  configdir=configdir, source=\"lra-r100-mon\")\n",
    "#ICON = reader.retrieve()\n",
    "#ICON_not_fixed = reader.retrieve(fix=False)"
   ]
  },
  {
   "cell_type": "code",
   "execution_count": null,
   "metadata": {},
   "outputs": [],
   "source": [
    "reader = Reader(model=\"ICON\", exp=\"ngc2009\",  configdir=configdir, source=\"lra-r100-day\")\n",
    "#ICON = reader.retrieve()\n",
    "#ICON_not_fixed = reader.retrieve(fix=False)"
   ]
  },
  {
   "cell_type": "code",
   "execution_count": null,
   "metadata": {},
   "outputs": [],
   "source": [
    "ICON['tprate']"
   ]
  },
  {
   "attachments": {},
   "cell_type": "markdown",
   "metadata": {},
   "source": [
    "## MSWEP"
   ]
  },
  {
   "cell_type": "code",
   "execution_count": 27,
   "metadata": {},
   "outputs": [],
   "source": [
    "reader = Reader(model=\"MSWEP\", exp=\"past\", source=\"monthly\",configdir=configdir)\n",
    "MSWEP = reader.retrieve()\n",
    "MSWEP_not_fixed = reader.retrieve(fix=False)"
   ]
  },
  {
   "attachments": {},
   "cell_type": "markdown",
   "metadata": {},
   "source": [
    "### VERY veru slow. But reader is working"
   ]
  },
  {
   "cell_type": "code",
   "execution_count": null,
   "metadata": {},
   "outputs": [],
   "source": [
    "reader = Reader(model=\"MSWEP\", exp=\"past\", source=\"daily\",configdir=configdir)\n",
    "MSWEP = reader.retrieve()\n",
    "MSWEP_not_fixed = reader.retrieve(fix=False)"
   ]
  },
  {
   "cell_type": "code",
   "execution_count": null,
   "metadata": {},
   "outputs": [],
   "source": [
    "reader = Reader(model=\"MSWEP\", exp=\"past\", source=\"3hourly\",configdir=configdir)\n",
    "MSWEP = reader.retrieve()\n",
    "MSWEP_not_fixed = reader.retrieve(fix=False)"
   ]
  },
  {
   "cell_type": "code",
   "execution_count": null,
   "metadata": {},
   "outputs": [],
   "source": [
    "reader = Reader(model=\"MSWEP\", exp=\"past\", source=\"monthlyz\",configdir=configdir)\n",
    "MSWEP = reader.retrieve()\n",
    "MSWEP_not_fixed = reader.retrieve(fix=False)"
   ]
  },
  {
   "cell_type": "code",
   "execution_count": null,
   "metadata": {},
   "outputs": [],
   "source": [
    "reader = Reader(model=\"MSWEP\", exp=\"past\", source=\"dailyz\",configdir=configdir)\n",
    "MSWEP = reader.retrieve()\n",
    "MSWEP_not_fixed = reader.retrieve(fix=False)"
   ]
  },
  {
   "cell_type": "code",
   "execution_count": 10,
   "metadata": {},
   "outputs": [
    {
     "data": {
      "text/html": [
       "<div><svg style=\"position: absolute; width: 0; height: 0; overflow: hidden\">\n",
       "<defs>\n",
       "<symbol id=\"icon-database\" viewBox=\"0 0 32 32\">\n",
       "<path d=\"M16 0c-8.837 0-16 2.239-16 5v4c0 2.761 7.163 5 16 5s16-2.239 16-5v-4c0-2.761-7.163-5-16-5z\"></path>\n",
       "<path d=\"M16 17c-8.837 0-16-2.239-16-5v6c0 2.761 7.163 5 16 5s16-2.239 16-5v-6c0 2.761-7.163 5-16 5z\"></path>\n",
       "<path d=\"M16 26c-8.837 0-16-2.239-16-5v6c0 2.761 7.163 5 16 5s16-2.239 16-5v-6c0 2.761-7.163 5-16 5z\"></path>\n",
       "</symbol>\n",
       "<symbol id=\"icon-file-text2\" viewBox=\"0 0 32 32\">\n",
       "<path d=\"M28.681 7.159c-0.694-0.947-1.662-2.053-2.724-3.116s-2.169-2.030-3.116-2.724c-1.612-1.182-2.393-1.319-2.841-1.319h-15.5c-1.378 0-2.5 1.121-2.5 2.5v27c0 1.378 1.122 2.5 2.5 2.5h23c1.378 0 2.5-1.122 2.5-2.5v-19.5c0-0.448-0.137-1.23-1.319-2.841zM24.543 5.457c0.959 0.959 1.712 1.825 2.268 2.543h-4.811v-4.811c0.718 0.556 1.584 1.309 2.543 2.268zM28 29.5c0 0.271-0.229 0.5-0.5 0.5h-23c-0.271 0-0.5-0.229-0.5-0.5v-27c0-0.271 0.229-0.5 0.5-0.5 0 0 15.499-0 15.5 0v7c0 0.552 0.448 1 1 1h7v19.5z\"></path>\n",
       "<path d=\"M23 26h-14c-0.552 0-1-0.448-1-1s0.448-1 1-1h14c0.552 0 1 0.448 1 1s-0.448 1-1 1z\"></path>\n",
       "<path d=\"M23 22h-14c-0.552 0-1-0.448-1-1s0.448-1 1-1h14c0.552 0 1 0.448 1 1s-0.448 1-1 1z\"></path>\n",
       "<path d=\"M23 18h-14c-0.552 0-1-0.448-1-1s0.448-1 1-1h14c0.552 0 1 0.448 1 1s-0.448 1-1 1z\"></path>\n",
       "</symbol>\n",
       "</defs>\n",
       "</svg>\n",
       "<style>/* CSS stylesheet for displaying xarray objects in jupyterlab.\n",
       " *\n",
       " */\n",
       "\n",
       ":root {\n",
       "  --xr-font-color0: var(--jp-content-font-color0, rgba(0, 0, 0, 1));\n",
       "  --xr-font-color2: var(--jp-content-font-color2, rgba(0, 0, 0, 0.54));\n",
       "  --xr-font-color3: var(--jp-content-font-color3, rgba(0, 0, 0, 0.38));\n",
       "  --xr-border-color: var(--jp-border-color2, #e0e0e0);\n",
       "  --xr-disabled-color: var(--jp-layout-color3, #bdbdbd);\n",
       "  --xr-background-color: var(--jp-layout-color0, white);\n",
       "  --xr-background-color-row-even: var(--jp-layout-color1, white);\n",
       "  --xr-background-color-row-odd: var(--jp-layout-color2, #eeeeee);\n",
       "}\n",
       "\n",
       "html[theme=dark],\n",
       "body[data-theme=dark],\n",
       "body.vscode-dark {\n",
       "  --xr-font-color0: rgba(255, 255, 255, 1);\n",
       "  --xr-font-color2: rgba(255, 255, 255, 0.54);\n",
       "  --xr-font-color3: rgba(255, 255, 255, 0.38);\n",
       "  --xr-border-color: #1F1F1F;\n",
       "  --xr-disabled-color: #515151;\n",
       "  --xr-background-color: #111111;\n",
       "  --xr-background-color-row-even: #111111;\n",
       "  --xr-background-color-row-odd: #313131;\n",
       "}\n",
       "\n",
       ".xr-wrap {\n",
       "  display: block !important;\n",
       "  min-width: 300px;\n",
       "  max-width: 700px;\n",
       "}\n",
       "\n",
       ".xr-text-repr-fallback {\n",
       "  /* fallback to plain text repr when CSS is not injected (untrusted notebook) */\n",
       "  display: none;\n",
       "}\n",
       "\n",
       ".xr-header {\n",
       "  padding-top: 6px;\n",
       "  padding-bottom: 6px;\n",
       "  margin-bottom: 4px;\n",
       "  border-bottom: solid 1px var(--xr-border-color);\n",
       "}\n",
       "\n",
       ".xr-header > div,\n",
       ".xr-header > ul {\n",
       "  display: inline;\n",
       "  margin-top: 0;\n",
       "  margin-bottom: 0;\n",
       "}\n",
       "\n",
       ".xr-obj-type,\n",
       ".xr-array-name {\n",
       "  margin-left: 2px;\n",
       "  margin-right: 10px;\n",
       "}\n",
       "\n",
       ".xr-obj-type {\n",
       "  color: var(--xr-font-color2);\n",
       "}\n",
       "\n",
       ".xr-sections {\n",
       "  padding-left: 0 !important;\n",
       "  display: grid;\n",
       "  grid-template-columns: 150px auto auto 1fr 20px 20px;\n",
       "}\n",
       "\n",
       ".xr-section-item {\n",
       "  display: contents;\n",
       "}\n",
       "\n",
       ".xr-section-item input {\n",
       "  display: none;\n",
       "}\n",
       "\n",
       ".xr-section-item input + label {\n",
       "  color: var(--xr-disabled-color);\n",
       "}\n",
       "\n",
       ".xr-section-item input:enabled + label {\n",
       "  cursor: pointer;\n",
       "  color: var(--xr-font-color2);\n",
       "}\n",
       "\n",
       ".xr-section-item input:enabled + label:hover {\n",
       "  color: var(--xr-font-color0);\n",
       "}\n",
       "\n",
       ".xr-section-summary {\n",
       "  grid-column: 1;\n",
       "  color: var(--xr-font-color2);\n",
       "  font-weight: 500;\n",
       "}\n",
       "\n",
       ".xr-section-summary > span {\n",
       "  display: inline-block;\n",
       "  padding-left: 0.5em;\n",
       "}\n",
       "\n",
       ".xr-section-summary-in:disabled + label {\n",
       "  color: var(--xr-font-color2);\n",
       "}\n",
       "\n",
       ".xr-section-summary-in + label:before {\n",
       "  display: inline-block;\n",
       "  content: '►';\n",
       "  font-size: 11px;\n",
       "  width: 15px;\n",
       "  text-align: center;\n",
       "}\n",
       "\n",
       ".xr-section-summary-in:disabled + label:before {\n",
       "  color: var(--xr-disabled-color);\n",
       "}\n",
       "\n",
       ".xr-section-summary-in:checked + label:before {\n",
       "  content: '▼';\n",
       "}\n",
       "\n",
       ".xr-section-summary-in:checked + label > span {\n",
       "  display: none;\n",
       "}\n",
       "\n",
       ".xr-section-summary,\n",
       ".xr-section-inline-details {\n",
       "  padding-top: 4px;\n",
       "  padding-bottom: 4px;\n",
       "}\n",
       "\n",
       ".xr-section-inline-details {\n",
       "  grid-column: 2 / -1;\n",
       "}\n",
       "\n",
       ".xr-section-details {\n",
       "  display: none;\n",
       "  grid-column: 1 / -1;\n",
       "  margin-bottom: 5px;\n",
       "}\n",
       "\n",
       ".xr-section-summary-in:checked ~ .xr-section-details {\n",
       "  display: contents;\n",
       "}\n",
       "\n",
       ".xr-array-wrap {\n",
       "  grid-column: 1 / -1;\n",
       "  display: grid;\n",
       "  grid-template-columns: 20px auto;\n",
       "}\n",
       "\n",
       ".xr-array-wrap > label {\n",
       "  grid-column: 1;\n",
       "  vertical-align: top;\n",
       "}\n",
       "\n",
       ".xr-preview {\n",
       "  color: var(--xr-font-color3);\n",
       "}\n",
       "\n",
       ".xr-array-preview,\n",
       ".xr-array-data {\n",
       "  padding: 0 5px !important;\n",
       "  grid-column: 2;\n",
       "}\n",
       "\n",
       ".xr-array-data,\n",
       ".xr-array-in:checked ~ .xr-array-preview {\n",
       "  display: none;\n",
       "}\n",
       "\n",
       ".xr-array-in:checked ~ .xr-array-data,\n",
       ".xr-array-preview {\n",
       "  display: inline-block;\n",
       "}\n",
       "\n",
       ".xr-dim-list {\n",
       "  display: inline-block !important;\n",
       "  list-style: none;\n",
       "  padding: 0 !important;\n",
       "  margin: 0;\n",
       "}\n",
       "\n",
       ".xr-dim-list li {\n",
       "  display: inline-block;\n",
       "  padding: 0;\n",
       "  margin: 0;\n",
       "}\n",
       "\n",
       ".xr-dim-list:before {\n",
       "  content: '(';\n",
       "}\n",
       "\n",
       ".xr-dim-list:after {\n",
       "  content: ')';\n",
       "}\n",
       "\n",
       ".xr-dim-list li:not(:last-child):after {\n",
       "  content: ',';\n",
       "  padding-right: 5px;\n",
       "}\n",
       "\n",
       ".xr-has-index {\n",
       "  font-weight: bold;\n",
       "}\n",
       "\n",
       ".xr-var-list,\n",
       ".xr-var-item {\n",
       "  display: contents;\n",
       "}\n",
       "\n",
       ".xr-var-item > div,\n",
       ".xr-var-item label,\n",
       ".xr-var-item > .xr-var-name span {\n",
       "  background-color: var(--xr-background-color-row-even);\n",
       "  margin-bottom: 0;\n",
       "}\n",
       "\n",
       ".xr-var-item > .xr-var-name:hover span {\n",
       "  padding-right: 5px;\n",
       "}\n",
       "\n",
       ".xr-var-list > li:nth-child(odd) > div,\n",
       ".xr-var-list > li:nth-child(odd) > label,\n",
       ".xr-var-list > li:nth-child(odd) > .xr-var-name span {\n",
       "  background-color: var(--xr-background-color-row-odd);\n",
       "}\n",
       "\n",
       ".xr-var-name {\n",
       "  grid-column: 1;\n",
       "}\n",
       "\n",
       ".xr-var-dims {\n",
       "  grid-column: 2;\n",
       "}\n",
       "\n",
       ".xr-var-dtype {\n",
       "  grid-column: 3;\n",
       "  text-align: right;\n",
       "  color: var(--xr-font-color2);\n",
       "}\n",
       "\n",
       ".xr-var-preview {\n",
       "  grid-column: 4;\n",
       "}\n",
       "\n",
       ".xr-index-preview {\n",
       "  grid-column: 2 / 5;\n",
       "  color: var(--xr-font-color2);\n",
       "}\n",
       "\n",
       ".xr-var-name,\n",
       ".xr-var-dims,\n",
       ".xr-var-dtype,\n",
       ".xr-preview,\n",
       ".xr-attrs dt {\n",
       "  white-space: nowrap;\n",
       "  overflow: hidden;\n",
       "  text-overflow: ellipsis;\n",
       "  padding-right: 10px;\n",
       "}\n",
       "\n",
       ".xr-var-name:hover,\n",
       ".xr-var-dims:hover,\n",
       ".xr-var-dtype:hover,\n",
       ".xr-attrs dt:hover {\n",
       "  overflow: visible;\n",
       "  width: auto;\n",
       "  z-index: 1;\n",
       "}\n",
       "\n",
       ".xr-var-attrs,\n",
       ".xr-var-data,\n",
       ".xr-index-data {\n",
       "  display: none;\n",
       "  background-color: var(--xr-background-color) !important;\n",
       "  padding-bottom: 5px !important;\n",
       "}\n",
       "\n",
       ".xr-var-attrs-in:checked ~ .xr-var-attrs,\n",
       ".xr-var-data-in:checked ~ .xr-var-data,\n",
       ".xr-index-data-in:checked ~ .xr-index-data {\n",
       "  display: block;\n",
       "}\n",
       "\n",
       ".xr-var-data > table {\n",
       "  float: right;\n",
       "}\n",
       "\n",
       ".xr-var-name span,\n",
       ".xr-var-data,\n",
       ".xr-index-name div,\n",
       ".xr-index-data,\n",
       ".xr-attrs {\n",
       "  padding-left: 25px !important;\n",
       "}\n",
       "\n",
       ".xr-attrs,\n",
       ".xr-var-attrs,\n",
       ".xr-var-data,\n",
       ".xr-index-data {\n",
       "  grid-column: 1 / -1;\n",
       "}\n",
       "\n",
       "dl.xr-attrs {\n",
       "  padding: 0;\n",
       "  margin: 0;\n",
       "  display: grid;\n",
       "  grid-template-columns: 125px auto;\n",
       "}\n",
       "\n",
       ".xr-attrs dt,\n",
       ".xr-attrs dd {\n",
       "  padding: 0;\n",
       "  margin: 0;\n",
       "  float: left;\n",
       "  padding-right: 10px;\n",
       "  width: auto;\n",
       "}\n",
       "\n",
       ".xr-attrs dt {\n",
       "  font-weight: normal;\n",
       "  grid-column: 1;\n",
       "}\n",
       "\n",
       ".xr-attrs dt:hover span {\n",
       "  display: inline-block;\n",
       "  background: var(--xr-background-color);\n",
       "  padding-right: 10px;\n",
       "}\n",
       "\n",
       ".xr-attrs dd {\n",
       "  grid-column: 2;\n",
       "  white-space: pre-wrap;\n",
       "  word-break: break-all;\n",
       "}\n",
       "\n",
       ".xr-icon-database,\n",
       ".xr-icon-file-text2,\n",
       ".xr-no-icon {\n",
       "  display: inline-block;\n",
       "  vertical-align: middle;\n",
       "  width: 1em;\n",
       "  height: 1.5em !important;\n",
       "  stroke-width: 0;\n",
       "  stroke: currentColor;\n",
       "  fill: currentColor;\n",
       "}\n",
       "</style><pre class='xr-text-repr-fallback'>&lt;xarray.DataArray &#x27;tprate&#x27; (time: 502, lat: 1800, lon: 3600)&gt;\n",
       "dask.array&lt;mul, shape=(502, 1800, 3600), dtype=float32, chunksize=(1, 1800, 3600), chunktype=numpy.ndarray&gt;\n",
       "Coordinates:\n",
       "  * lon      (lon) float32 -179.9 -179.8 -179.8 -179.6 ... 179.8 179.9 179.9\n",
       "  * lat      (lat) float32 89.95 89.85 89.75 89.65 ... -89.75 -89.85 -89.95\n",
       "  * time     (time) datetime64[ns] 1979-02-01 1979-03-01 ... 2020-11-01\n",
       "Attributes:\n",
       "    units:         m s**-1\n",
       "    history:       2023-03-31 03:01:26 variable renamed by AQUA fixer;\\n2023-...\n",
       "    paramId:       172228\n",
       "    long_name:     Mean total precipitation rate\n",
       "    cfVarName:     tprate\n",
       "    shortName:     tprate\n",
       "    target_units:  m s**-1\n",
       "    factor:        3.802570537683474e-10\n",
       "    offset:        0\n",
       "    src_units:     mm month-1\n",
       "    units_fixed:   1</pre><div class='xr-wrap' style='display:none'><div class='xr-header'><div class='xr-obj-type'>xarray.DataArray</div><div class='xr-array-name'>'tprate'</div><ul class='xr-dim-list'><li><span class='xr-has-index'>time</span>: 502</li><li><span class='xr-has-index'>lat</span>: 1800</li><li><span class='xr-has-index'>lon</span>: 3600</li></ul></div><ul class='xr-sections'><li class='xr-section-item'><div class='xr-array-wrap'><input id='section-a96bdb8c-f063-441a-952c-a8ea75c694be' class='xr-array-in' type='checkbox' checked><label for='section-a96bdb8c-f063-441a-952c-a8ea75c694be' title='Show/hide data repr'><svg class='icon xr-icon-database'><use xlink:href='#icon-database'></use></svg></label><div class='xr-array-preview xr-preview'><span>dask.array&lt;chunksize=(1, 1800, 3600), meta=np.ndarray&gt;</span></div><div class='xr-array-data'><table>\n",
       "    <tr>\n",
       "        <td>\n",
       "            <table style=\"border-collapse: collapse;\">\n",
       "                <thead>\n",
       "                    <tr>\n",
       "                        <td> </td>\n",
       "                        <th> Array </th>\n",
       "                        <th> Chunk </th>\n",
       "                    </tr>\n",
       "                </thead>\n",
       "                <tbody>\n",
       "                    \n",
       "                    <tr>\n",
       "                        <th> Bytes </th>\n",
       "                        <td> 12.12 GiB </td>\n",
       "                        <td> 24.72 MiB </td>\n",
       "                    </tr>\n",
       "                    \n",
       "                    <tr>\n",
       "                        <th> Shape </th>\n",
       "                        <td> (502, 1800, 3600) </td>\n",
       "                        <td> (1, 1800, 3600) </td>\n",
       "                    </tr>\n",
       "                    <tr>\n",
       "                        <th> Dask graph </th>\n",
       "                        <td colspan=\"2\"> 502 chunks in 1006 graph layers </td>\n",
       "                    </tr>\n",
       "                    <tr>\n",
       "                        <th> Data type </th>\n",
       "                        <td colspan=\"2\"> float32 numpy.ndarray </td>\n",
       "                    </tr>\n",
       "                </tbody>\n",
       "            </table>\n",
       "        </td>\n",
       "        <td>\n",
       "        <svg width=\"203\" height=\"133\" style=\"stroke:rgb(0,0,0);stroke-width:1\" >\n",
       "\n",
       "  <!-- Horizontal lines -->\n",
       "  <line x1=\"10\" y1=\"0\" x2=\"33\" y2=\"23\" style=\"stroke-width:2\" />\n",
       "  <line x1=\"10\" y1=\"60\" x2=\"33\" y2=\"83\" style=\"stroke-width:2\" />\n",
       "\n",
       "  <!-- Vertical lines -->\n",
       "  <line x1=\"10\" y1=\"0\" x2=\"10\" y2=\"60\" style=\"stroke-width:2\" />\n",
       "  <line x1=\"11\" y1=\"1\" x2=\"11\" y2=\"61\" />\n",
       "  <line x1=\"12\" y1=\"2\" x2=\"12\" y2=\"62\" />\n",
       "  <line x1=\"13\" y1=\"3\" x2=\"13\" y2=\"63\" />\n",
       "  <line x1=\"14\" y1=\"4\" x2=\"14\" y2=\"64\" />\n",
       "  <line x1=\"16\" y1=\"6\" x2=\"16\" y2=\"66\" />\n",
       "  <line x1=\"17\" y1=\"7\" x2=\"17\" y2=\"67\" />\n",
       "  <line x1=\"18\" y1=\"8\" x2=\"18\" y2=\"68\" />\n",
       "  <line x1=\"19\" y1=\"9\" x2=\"19\" y2=\"69\" />\n",
       "  <line x1=\"21\" y1=\"11\" x2=\"21\" y2=\"71\" />\n",
       "  <line x1=\"22\" y1=\"12\" x2=\"22\" y2=\"72\" />\n",
       "  <line x1=\"23\" y1=\"13\" x2=\"23\" y2=\"73\" />\n",
       "  <line x1=\"24\" y1=\"14\" x2=\"24\" y2=\"74\" />\n",
       "  <line x1=\"26\" y1=\"16\" x2=\"26\" y2=\"76\" />\n",
       "  <line x1=\"27\" y1=\"17\" x2=\"27\" y2=\"77\" />\n",
       "  <line x1=\"28\" y1=\"18\" x2=\"28\" y2=\"78\" />\n",
       "  <line x1=\"29\" y1=\"19\" x2=\"29\" y2=\"79\" />\n",
       "  <line x1=\"31\" y1=\"21\" x2=\"31\" y2=\"81\" />\n",
       "  <line x1=\"32\" y1=\"22\" x2=\"32\" y2=\"82\" />\n",
       "  <line x1=\"33\" y1=\"23\" x2=\"33\" y2=\"83\" style=\"stroke-width:2\" />\n",
       "\n",
       "  <!-- Colored Rectangle -->\n",
       "  <polygon points=\"10.0,0.0 33.73459767327052,23.73459767327052 33.73459767327052,83.73459767327051 10.0,60.0\" style=\"fill:#8B4903A0;stroke-width:0\"/>\n",
       "\n",
       "  <!-- Horizontal lines -->\n",
       "  <line x1=\"10\" y1=\"0\" x2=\"130\" y2=\"0\" style=\"stroke-width:2\" />\n",
       "  <line x1=\"11\" y1=\"1\" x2=\"131\" y2=\"1\" />\n",
       "  <line x1=\"12\" y1=\"2\" x2=\"132\" y2=\"2\" />\n",
       "  <line x1=\"13\" y1=\"3\" x2=\"133\" y2=\"3\" />\n",
       "  <line x1=\"14\" y1=\"4\" x2=\"134\" y2=\"4\" />\n",
       "  <line x1=\"16\" y1=\"6\" x2=\"136\" y2=\"6\" />\n",
       "  <line x1=\"17\" y1=\"7\" x2=\"137\" y2=\"7\" />\n",
       "  <line x1=\"18\" y1=\"8\" x2=\"138\" y2=\"8\" />\n",
       "  <line x1=\"19\" y1=\"9\" x2=\"139\" y2=\"9\" />\n",
       "  <line x1=\"21\" y1=\"11\" x2=\"141\" y2=\"11\" />\n",
       "  <line x1=\"22\" y1=\"12\" x2=\"142\" y2=\"12\" />\n",
       "  <line x1=\"23\" y1=\"13\" x2=\"143\" y2=\"13\" />\n",
       "  <line x1=\"24\" y1=\"14\" x2=\"144\" y2=\"14\" />\n",
       "  <line x1=\"26\" y1=\"16\" x2=\"146\" y2=\"16\" />\n",
       "  <line x1=\"27\" y1=\"17\" x2=\"147\" y2=\"17\" />\n",
       "  <line x1=\"28\" y1=\"18\" x2=\"148\" y2=\"18\" />\n",
       "  <line x1=\"29\" y1=\"19\" x2=\"149\" y2=\"19\" />\n",
       "  <line x1=\"31\" y1=\"21\" x2=\"151\" y2=\"21\" />\n",
       "  <line x1=\"32\" y1=\"22\" x2=\"152\" y2=\"22\" />\n",
       "  <line x1=\"33\" y1=\"23\" x2=\"153\" y2=\"23\" style=\"stroke-width:2\" />\n",
       "\n",
       "  <!-- Vertical lines -->\n",
       "  <line x1=\"10\" y1=\"0\" x2=\"33\" y2=\"23\" style=\"stroke-width:2\" />\n",
       "  <line x1=\"130\" y1=\"0\" x2=\"153\" y2=\"23\" style=\"stroke-width:2\" />\n",
       "\n",
       "  <!-- Colored Rectangle -->\n",
       "  <polygon points=\"10.0,0.0 130.0,0.0 153.7345976732705,23.73459767327052 33.73459767327052,23.73459767327052\" style=\"fill:#8B4903A0;stroke-width:0\"/>\n",
       "\n",
       "  <!-- Horizontal lines -->\n",
       "  <line x1=\"33\" y1=\"23\" x2=\"153\" y2=\"23\" style=\"stroke-width:2\" />\n",
       "  <line x1=\"33\" y1=\"83\" x2=\"153\" y2=\"83\" style=\"stroke-width:2\" />\n",
       "\n",
       "  <!-- Vertical lines -->\n",
       "  <line x1=\"33\" y1=\"23\" x2=\"33\" y2=\"83\" style=\"stroke-width:2\" />\n",
       "  <line x1=\"153\" y1=\"23\" x2=\"153\" y2=\"83\" style=\"stroke-width:2\" />\n",
       "\n",
       "  <!-- Colored Rectangle -->\n",
       "  <polygon points=\"33.73459767327052,23.73459767327052 153.7345976732705,23.73459767327052 153.7345976732705,83.73459767327051 33.73459767327052,83.73459767327051\" style=\"fill:#ECB172A0;stroke-width:0\"/>\n",
       "\n",
       "  <!-- Text -->\n",
       "  <text x=\"93.734598\" y=\"103.734598\" font-size=\"1.0rem\" font-weight=\"100\" text-anchor=\"middle\" >3600</text>\n",
       "  <text x=\"173.734598\" y=\"53.734598\" font-size=\"1.0rem\" font-weight=\"100\" text-anchor=\"middle\" transform=\"rotate(-90,173.734598,53.734598)\">1800</text>\n",
       "  <text x=\"11.867299\" y=\"91.867299\" font-size=\"1.0rem\" font-weight=\"100\" text-anchor=\"middle\" transform=\"rotate(45,11.867299,91.867299)\">502</text>\n",
       "</svg>\n",
       "        </td>\n",
       "    </tr>\n",
       "</table></div></div></li><li class='xr-section-item'><input id='section-2952c9ae-4a03-41e3-ac89-2eb936c352e5' class='xr-section-summary-in' type='checkbox'  checked><label for='section-2952c9ae-4a03-41e3-ac89-2eb936c352e5' class='xr-section-summary' >Coordinates: <span>(3)</span></label><div class='xr-section-inline-details'></div><div class='xr-section-details'><ul class='xr-var-list'><li class='xr-var-item'><div class='xr-var-name'><span class='xr-has-index'>lon</span></div><div class='xr-var-dims'>(lon)</div><div class='xr-var-dtype'>float32</div><div class='xr-var-preview xr-preview'>-179.9 -179.8 ... 179.9 179.9</div><input id='attrs-2d217c94-bb9a-47b2-8e39-9bdc82ce49e5' class='xr-var-attrs-in' type='checkbox' ><label for='attrs-2d217c94-bb9a-47b2-8e39-9bdc82ce49e5' title='Show/Hide attributes'><svg class='icon xr-icon-file-text2'><use xlink:href='#icon-file-text2'></use></svg></label><input id='data-32b8dd40-9102-4f09-b939-a8d38f4e02d7' class='xr-var-data-in' type='checkbox'><label for='data-32b8dd40-9102-4f09-b939-a8d38f4e02d7' title='Show/Hide data repr'><svg class='icon xr-icon-database'><use xlink:href='#icon-database'></use></svg></label><div class='xr-var-attrs'><dl class='xr-attrs'><dt><span>units :</span></dt><dd>degrees_east</dd><dt><span>long_name :</span></dt><dd>longitude</dd></dl></div><div class='xr-var-data'><pre>array([-179.95   , -179.84999, -179.75   , ...,  179.75002,  179.85002,\n",
       "        179.95   ], dtype=float32)</pre></div></li><li class='xr-var-item'><div class='xr-var-name'><span class='xr-has-index'>lat</span></div><div class='xr-var-dims'>(lat)</div><div class='xr-var-dtype'>float32</div><div class='xr-var-preview xr-preview'>89.95 89.85 89.75 ... -89.85 -89.95</div><input id='attrs-56c3e1ac-d280-4991-aa84-7b0b6701d53e' class='xr-var-attrs-in' type='checkbox' ><label for='attrs-56c3e1ac-d280-4991-aa84-7b0b6701d53e' title='Show/Hide attributes'><svg class='icon xr-icon-file-text2'><use xlink:href='#icon-file-text2'></use></svg></label><input id='data-3479aacd-833e-4988-88cc-61318ef28ffb' class='xr-var-data-in' type='checkbox'><label for='data-3479aacd-833e-4988-88cc-61318ef28ffb' title='Show/Hide data repr'><svg class='icon xr-icon-database'><use xlink:href='#icon-database'></use></svg></label><div class='xr-var-attrs'><dl class='xr-attrs'><dt><span>units :</span></dt><dd>degrees_north</dd><dt><span>long_name :</span></dt><dd>latitude</dd></dl></div><div class='xr-var-data'><pre>array([ 89.95    ,  89.85    ,  89.75    , ..., -89.75    , -89.850006,\n",
       "       -89.95001 ], dtype=float32)</pre></div></li><li class='xr-var-item'><div class='xr-var-name'><span class='xr-has-index'>time</span></div><div class='xr-var-dims'>(time)</div><div class='xr-var-dtype'>datetime64[ns]</div><div class='xr-var-preview xr-preview'>1979-02-01 ... 2020-11-01</div><input id='attrs-f9b39953-200b-495b-9f44-5e27ba618930' class='xr-var-attrs-in' type='checkbox' ><label for='attrs-f9b39953-200b-495b-9f44-5e27ba618930' title='Show/Hide attributes'><svg class='icon xr-icon-file-text2'><use xlink:href='#icon-file-text2'></use></svg></label><input id='data-cd643adf-8ec1-4284-8358-056677f4ff87' class='xr-var-data-in' type='checkbox'><label for='data-cd643adf-8ec1-4284-8358-056677f4ff87' title='Show/Hide data repr'><svg class='icon xr-icon-database'><use xlink:href='#icon-database'></use></svg></label><div class='xr-var-attrs'><dl class='xr-attrs'><dt><span>long_name :</span></dt><dd>time</dd></dl></div><div class='xr-var-data'><pre>array([&#x27;1979-02-01T00:00:00.000000000&#x27;, &#x27;1979-03-01T00:00:00.000000000&#x27;,\n",
       "       &#x27;1979-04-01T00:00:00.000000000&#x27;, ..., &#x27;2020-09-01T00:00:00.000000000&#x27;,\n",
       "       &#x27;2020-10-01T00:00:00.000000000&#x27;, &#x27;2020-11-01T00:00:00.000000000&#x27;],\n",
       "      dtype=&#x27;datetime64[ns]&#x27;)</pre></div></li></ul></div></li><li class='xr-section-item'><input id='section-e7fdb1a1-f7bf-46e2-ac7b-b6b950e39332' class='xr-section-summary-in' type='checkbox'  ><label for='section-e7fdb1a1-f7bf-46e2-ac7b-b6b950e39332' class='xr-section-summary' >Indexes: <span>(3)</span></label><div class='xr-section-inline-details'></div><div class='xr-section-details'><ul class='xr-var-list'><li class='xr-var-item'><div class='xr-index-name'><div>lon</div></div><div class='xr-index-preview'>PandasIndex</div><div></div><input id='index-f9b8c7f6-1c51-41c2-a088-2e7e6777511f' class='xr-index-data-in' type='checkbox'/><label for='index-f9b8c7f6-1c51-41c2-a088-2e7e6777511f' title='Show/Hide index repr'><svg class='icon xr-icon-database'><use xlink:href='#icon-database'></use></svg></label><div class='xr-index-data'><pre>PandasIndex(Float64Index([ -179.9499969482422, -179.84999084472656,             -179.75,\n",
       "              -179.64999389648438,  -179.5500030517578,  -179.4499969482422,\n",
       "              -179.34999084472656,             -179.25, -179.14999389648438,\n",
       "               -179.0500030517578,\n",
       "              ...\n",
       "                179.0500030517578,  179.15000915527344,  179.25001525878906,\n",
       "                179.3500213623047,   179.4499969482422,   179.5500030517578,\n",
       "               179.65000915527344,  179.75001525878906,   179.8500213623047,\n",
       "                179.9499969482422],\n",
       "             dtype=&#x27;float64&#x27;, name=&#x27;lon&#x27;, length=3600))</pre></div></li><li class='xr-var-item'><div class='xr-index-name'><div>lat</div></div><div class='xr-index-preview'>PandasIndex</div><div></div><input id='index-3add85b1-8e16-4516-ad3a-8aa526f7016f' class='xr-index-data-in' type='checkbox'/><label for='index-3add85b1-8e16-4516-ad3a-8aa526f7016f' title='Show/Hide index repr'><svg class='icon xr-icon-database'><use xlink:href='#icon-database'></use></svg></label><div class='xr-index-data'><pre>PandasIndex(Float64Index([ 89.94999694824219,   89.8499984741211,              89.75,\n",
       "               89.64999389648438,  89.54999542236328,  89.44999694824219,\n",
       "                89.3499984741211,              89.25,  89.14999389648438,\n",
       "               89.04999542236328,\n",
       "              ...\n",
       "              -89.05000305175781, -89.15000915527344,             -89.25,\n",
       "              -89.35000610351562, -89.45001220703125, -89.55000305175781,\n",
       "              -89.65000915527344,             -89.75, -89.85000610351562,\n",
       "              -89.95001220703125],\n",
       "             dtype=&#x27;float64&#x27;, name=&#x27;lat&#x27;, length=1800))</pre></div></li><li class='xr-var-item'><div class='xr-index-name'><div>time</div></div><div class='xr-index-preview'>PandasIndex</div><div></div><input id='index-08d63ef1-3e98-4a60-8e86-18eb04176fa7' class='xr-index-data-in' type='checkbox'/><label for='index-08d63ef1-3e98-4a60-8e86-18eb04176fa7' title='Show/Hide index repr'><svg class='icon xr-icon-database'><use xlink:href='#icon-database'></use></svg></label><div class='xr-index-data'><pre>PandasIndex(DatetimeIndex([&#x27;1979-02-01&#x27;, &#x27;1979-03-01&#x27;, &#x27;1979-04-01&#x27;, &#x27;1979-05-01&#x27;,\n",
       "               &#x27;1979-06-01&#x27;, &#x27;1979-07-01&#x27;, &#x27;1979-08-01&#x27;, &#x27;1979-09-01&#x27;,\n",
       "               &#x27;1979-10-01&#x27;, &#x27;1979-11-01&#x27;,\n",
       "               ...\n",
       "               &#x27;2020-02-01&#x27;, &#x27;2020-03-01&#x27;, &#x27;2020-04-01&#x27;, &#x27;2020-05-01&#x27;,\n",
       "               &#x27;2020-06-01&#x27;, &#x27;2020-07-01&#x27;, &#x27;2020-08-01&#x27;, &#x27;2020-09-01&#x27;,\n",
       "               &#x27;2020-10-01&#x27;, &#x27;2020-11-01&#x27;],\n",
       "              dtype=&#x27;datetime64[ns]&#x27;, name=&#x27;time&#x27;, length=502, freq=None))</pre></div></li></ul></div></li><li class='xr-section-item'><input id='section-5edf6de6-07d6-4d7c-8cc3-91639cb34e6f' class='xr-section-summary-in' type='checkbox'  ><label for='section-5edf6de6-07d6-4d7c-8cc3-91639cb34e6f' class='xr-section-summary' >Attributes: <span>(11)</span></label><div class='xr-section-inline-details'></div><div class='xr-section-details'><dl class='xr-attrs'><dt><span>units :</span></dt><dd>m s**-1</dd><dt><span>history :</span></dt><dd>2023-03-31 03:01:26 variable renamed by AQUA fixer;\n",
       "2023-03-31 03:01:26 units changed by AQUA fixer;\n",
       "</dd><dt><span>paramId :</span></dt><dd>172228</dd><dt><span>long_name :</span></dt><dd>Mean total precipitation rate</dd><dt><span>cfVarName :</span></dt><dd>tprate</dd><dt><span>shortName :</span></dt><dd>tprate</dd><dt><span>target_units :</span></dt><dd>m s**-1</dd><dt><span>factor :</span></dt><dd>3.802570537683474e-10</dd><dt><span>offset :</span></dt><dd>0</dd><dt><span>src_units :</span></dt><dd>mm month-1</dd><dt><span>units_fixed :</span></dt><dd>1</dd></dl></div></li></ul></div></div>"
      ],
      "text/plain": [
       "<xarray.DataArray 'tprate' (time: 502, lat: 1800, lon: 3600)>\n",
       "dask.array<mul, shape=(502, 1800, 3600), dtype=float32, chunksize=(1, 1800, 3600), chunktype=numpy.ndarray>\n",
       "Coordinates:\n",
       "  * lon      (lon) float32 -179.9 -179.8 -179.8 -179.6 ... 179.8 179.9 179.9\n",
       "  * lat      (lat) float32 89.95 89.85 89.75 89.65 ... -89.75 -89.85 -89.95\n",
       "  * time     (time) datetime64[ns] 1979-02-01 1979-03-01 ... 2020-11-01\n",
       "Attributes:\n",
       "    units:         m s**-1\n",
       "    history:       2023-03-31 03:01:26 variable renamed by AQUA fixer;\\n2023-...\n",
       "    paramId:       172228\n",
       "    long_name:     Mean total precipitation rate\n",
       "    cfVarName:     tprate\n",
       "    shortName:     tprate\n",
       "    target_units:  m s**-1\n",
       "    factor:        3.802570537683474e-10\n",
       "    offset:        0\n",
       "    src_units:     mm month-1\n",
       "    units_fixed:   1"
      ]
     },
     "execution_count": 10,
     "metadata": {},
     "output_type": "execute_result"
    }
   ],
   "source": [
    "MSWEP['tprate'] "
   ]
  },
  {
   "attachments": {},
   "cell_type": "markdown",
   "metadata": {},
   "source": [
    "## IFS, tco3999-ng5\t"
   ]
  },
  {
   "cell_type": "code",
   "execution_count": 30,
   "metadata": {},
   "outputs": [],
   "source": [
    "reader = Reader(model=\"IFS\", exp=\"tco3999-ng5\", source=\"ICMGG_atm2d\",configdir=configdir)\n",
    "IFS = reader.retrieve()\n",
    "IFS_not_fixed = reader.retrieve(fix=False)"
   ]
  },
  {
   "cell_type": "code",
   "execution_count": 31,
   "metadata": {},
   "outputs": [
    {
     "name": "stderr",
     "output_type": "stream",
     "text": [
      "2023-04-13 18:43:56 :: Reader :: WARNING  -> Source areas file not found: /work/bb1153/b382075/nextgems/weights/cell_area_IFS_tco3999-ng5_ICMU_atm2d.nc\n",
      "2023-04-13 18:43:56 :: Reader :: WARNING  -> Attempting to generate it ...\n",
      "2023-04-13 18:43:56 :: Reader :: WARNING  -> Source grid: /work/bm1235/a270046/cycle2-sync/tcogrids/2.8km/tcogrids/tco3999_grid.nc\n",
      "2023-04-13 18:45:18 :: Reader :: WARNING  -> Success!\n"
     ]
    }
   ],
   "source": [
    "reader = Reader(model=\"IFS\", exp=\"tco3999-ng5\", source=\"ICMU_atm2d\",configdir=configdir)\n",
    "IFS = reader.retrieve()\n",
    "IFS_not_fixed = reader.retrieve(fix=False)"
   ]
  },
  {
   "cell_type": "code",
   "execution_count": 32,
   "metadata": {},
   "outputs": [
    {
     "name": "stderr",
     "output_type": "stream",
     "text": [
      "2023-04-13 18:45:18 :: Reader :: WARNING  -> Source areas file not found: /work/bb1153/b382075/nextgems/weights/cell_area_IFS_tco3999-ng5_ICMU_atm3d.nc\n",
      "2023-04-13 18:45:18 :: Reader :: WARNING  -> Attempting to generate it ...\n",
      "2023-04-13 18:45:18 :: Reader :: WARNING  -> Source grid: /work/bm1235/a270046/cycle2-sync/tcogrids/2.8km/tcogrids/tco3999_grid.nc\n",
      "2023-04-13 18:46:03 :: Reader :: WARNING  -> Success!\n"
     ]
    }
   ],
   "source": [
    "reader = Reader(model=\"IFS\", exp=\"tco3999-ng5\", source=\"ICMU_atm3d\",configdir=configdir)\n",
    "IFS = reader.retrieve()\n",
    "IFS_not_fixed = reader.retrieve(fix=False)"
   ]
  },
  {
   "cell_type": "code",
   "execution_count": null,
   "metadata": {},
   "outputs": [],
   "source": [
    "reader = Reader(model=\"IFS\", exp=\"tco3999-ng5\", source=\"interpolated_global\",configdir=configdir)\n",
    "#IFS = reader.retrieve()\n",
    "#IFS_not_fixed = reader.retrieve(fix=False)"
   ]
  },
  {
   "cell_type": "code",
   "execution_count": null,
   "metadata": {},
   "outputs": [],
   "source": [
    "reader = Reader(model=\"IFS\", exp=\"tco3999-ng5\", source=\"interpolated_np\",configdir=configdir)\n",
    "#IFS = reader.retrieve()\n",
    "#IFS_not_fixed = reader.retrieve(fix=False)"
   ]
  },
  {
   "cell_type": "code",
   "execution_count": null,
   "metadata": {},
   "outputs": [],
   "source": [
    "reader = Reader(model=\"IFS\", exp=\"tco3999-ng5\", source=\"interpolated_sp\",configdir=configdir)\n",
    "#IFS = reader.retrieve()\n",
    "#IFS_not_fixed = reader.retrieve(fix=False)"
   ]
  },
  {
   "cell_type": "code",
   "execution_count": null,
   "metadata": {},
   "outputs": [],
   "source": [
    "reader = Reader(model=\"IFS\", exp=\"tco3999-ng5\", source=\"interpolated_sp_ci\",configdir=configdir)\n",
    "#IFS = reader.retrieve()\n",
    "#IFS_not_fixed = reader.retrieve(fix=False)"
   ]
  },
  {
   "cell_type": "code",
   "execution_count": 37,
   "metadata": {},
   "outputs": [
    {
     "name": "stderr",
     "output_type": "stream",
     "text": [
      "2023-04-13 18:59:49 :: Reader :: WARNING  -> Source areas file not found: /work/bb1153/b382075/nextgems/weights/cell_area_IFS_tco3999-ng5_lra-r100-mon.nc\n",
      "2023-04-13 18:59:49 :: Reader :: WARNING  -> Attempting to generate it ...\n",
      "2023-04-13 18:59:49 :: Reader :: WARNING  -> Source grid: /work/bm1235/a270046/cycle2-sync/tcogrids/2.8km/tcogrids/tco3999_grid.nc\n"
     ]
    },
    {
     "ename": "KeyError",
     "evalue": "'value'",
     "output_type": "error",
     "traceback": [
      "\u001b[0;31m---------------------------------------------------------------------------\u001b[0m",
      "\u001b[0;31mKeyError\u001b[0m                                  Traceback (most recent call last)",
      "File \u001b[0;32m~/mambaforge/envs/tropical-rainfall/lib/python3.10/site-packages/xarray/core/dataset.py:1347\u001b[0m, in \u001b[0;36mDataset._construct_dataarray\u001b[0;34m(self, name)\u001b[0m\n\u001b[1;32m   1346\u001b[0m \u001b[39mtry\u001b[39;00m:\n\u001b[0;32m-> 1347\u001b[0m     variable \u001b[39m=\u001b[39m \u001b[39mself\u001b[39;49m\u001b[39m.\u001b[39;49m_variables[name]\n\u001b[1;32m   1348\u001b[0m \u001b[39mexcept\u001b[39;00m \u001b[39mKeyError\u001b[39;00m:\n",
      "\u001b[0;31mKeyError\u001b[0m: 'value'",
      "\nDuring handling of the above exception, another exception occurred:\n",
      "\u001b[0;31mKeyError\u001b[0m                                  Traceback (most recent call last)",
      "Cell \u001b[0;32mIn[37], line 1\u001b[0m\n\u001b[0;32m----> 1\u001b[0m reader \u001b[39m=\u001b[39m Reader(model\u001b[39m=\u001b[39;49m\u001b[39m\"\u001b[39;49m\u001b[39mIFS\u001b[39;49m\u001b[39m\"\u001b[39;49m, exp\u001b[39m=\u001b[39;49m\u001b[39m\"\u001b[39;49m\u001b[39mtco3999-ng5\u001b[39;49m\u001b[39m\"\u001b[39;49m, source\u001b[39m=\u001b[39;49m\u001b[39m\"\u001b[39;49m\u001b[39mlra-r100-mon\u001b[39;49m\u001b[39m\"\u001b[39;49m,configdir\u001b[39m=\u001b[39;49mconfigdir)\n\u001b[1;32m      2\u001b[0m IFS \u001b[39m=\u001b[39m reader\u001b[39m.\u001b[39mretrieve()\n\u001b[1;32m      3\u001b[0m IFS_not_fixed \u001b[39m=\u001b[39m reader\u001b[39m.\u001b[39mretrieve(fix\u001b[39m=\u001b[39m\u001b[39mFalse\u001b[39;00m)\n",
      "File \u001b[0;32m/work/bb1153/b382267/AQUA/aqua/reader/reader.py:160\u001b[0m, in \u001b[0;36mReader.__init__\u001b[0;34m(self, model, exp, source, freq, regrid, method, zoom, configdir, level, areas, var, vars, datamodel, streaming, stream_step, stream_unit, stream_startdate, rebuild, loglevel)\u001b[0m\n\u001b[1;32m    158\u001b[0m     \u001b[39mif\u001b[39;00m os\u001b[39m.\u001b[39mpath\u001b[39m.\u001b[39mexists(\u001b[39mself\u001b[39m\u001b[39m.\u001b[39msrc_areafile):\n\u001b[1;32m    159\u001b[0m         os\u001b[39m.\u001b[39munlink(\u001b[39mself\u001b[39m\u001b[39m.\u001b[39msrc_areafile)\n\u001b[0;32m--> 160\u001b[0m     \u001b[39mself\u001b[39;49m\u001b[39m.\u001b[39;49m_make_src_area_file(\u001b[39mself\u001b[39;49m\u001b[39m.\u001b[39;49msrc_areafile, source_grid,\n\u001b[1;32m    161\u001b[0m                              gridpath\u001b[39m=\u001b[39;49mcfg_regrid[\u001b[39m\"\u001b[39;49m\u001b[39mcdo-paths\u001b[39;49m\u001b[39m\"\u001b[39;49m][\u001b[39m\"\u001b[39;49m\u001b[39mdownload\u001b[39;49m\u001b[39m\"\u001b[39;49m],\n\u001b[1;32m    162\u001b[0m                              icongridpath\u001b[39m=\u001b[39;49mcfg_regrid[\u001b[39m\"\u001b[39;49m\u001b[39mcdo-paths\u001b[39;49m\u001b[39m\"\u001b[39;49m][\u001b[39m\"\u001b[39;49m\u001b[39micon\u001b[39;49m\u001b[39m\"\u001b[39;49m],\n\u001b[1;32m    163\u001b[0m                              zoom\u001b[39m=\u001b[39;49mzoom)\n\u001b[1;32m    165\u001b[0m \u001b[39mself\u001b[39m\u001b[39m.\u001b[39msrc_grid_area \u001b[39m=\u001b[39m xr\u001b[39m.\u001b[39mopen_mfdataset(\u001b[39mself\u001b[39m\u001b[39m.\u001b[39msrc_areafile)\u001b[39m.\u001b[39mcell_area\n\u001b[1;32m    167\u001b[0m \u001b[39mif\u001b[39;00m regrid:\n",
      "File \u001b[0;32m/work/bb1153/b382267/AQUA/aqua/reader/regrid.py:61\u001b[0m, in \u001b[0;36mRegridMixin._make_src_area_file\u001b[0;34m(self, areafile, source_grid, gridpath, icongridpath, zoom)\u001b[0m\n\u001b[1;32m     59\u001b[0m grid_area \u001b[39m=\u001b[39m _rename_dims(grid_area, \u001b[39mself\u001b[39m\u001b[39m.\u001b[39msrc_space_coord)\n\u001b[1;32m     60\u001b[0m data \u001b[39m=\u001b[39m \u001b[39mself\u001b[39m\u001b[39m.\u001b[39mretrieve(fix\u001b[39m=\u001b[39m\u001b[39mFalse\u001b[39;00m)\n\u001b[0;32m---> 61\u001b[0m grid_area \u001b[39m=\u001b[39m grid_area\u001b[39m.\u001b[39massign_coords({coord: data\u001b[39m.\u001b[39mcoords[coord] \u001b[39mfor\u001b[39;00m coord \u001b[39min\u001b[39;00m \u001b[39mself\u001b[39m\u001b[39m.\u001b[39msrc_space_coord})\n\u001b[1;32m     62\u001b[0m grid_area\u001b[39m.\u001b[39mto_netcdf(areafile)\n\u001b[1;32m     63\u001b[0m \u001b[39mself\u001b[39m\u001b[39m.\u001b[39mlogger\u001b[39m.\u001b[39mwarning(\u001b[39m\"\u001b[39m\u001b[39mSuccess!\u001b[39m\u001b[39m\"\u001b[39m)\n",
      "File \u001b[0;32m/work/bb1153/b382267/AQUA/aqua/reader/regrid.py:61\u001b[0m, in \u001b[0;36m<dictcomp>\u001b[0;34m(.0)\u001b[0m\n\u001b[1;32m     59\u001b[0m grid_area \u001b[39m=\u001b[39m _rename_dims(grid_area, \u001b[39mself\u001b[39m\u001b[39m.\u001b[39msrc_space_coord)\n\u001b[1;32m     60\u001b[0m data \u001b[39m=\u001b[39m \u001b[39mself\u001b[39m\u001b[39m.\u001b[39mretrieve(fix\u001b[39m=\u001b[39m\u001b[39mFalse\u001b[39;00m)\n\u001b[0;32m---> 61\u001b[0m grid_area \u001b[39m=\u001b[39m grid_area\u001b[39m.\u001b[39massign_coords({coord: data\u001b[39m.\u001b[39;49mcoords[coord] \u001b[39mfor\u001b[39;00m coord \u001b[39min\u001b[39;00m \u001b[39mself\u001b[39m\u001b[39m.\u001b[39msrc_space_coord})\n\u001b[1;32m     62\u001b[0m grid_area\u001b[39m.\u001b[39mto_netcdf(areafile)\n\u001b[1;32m     63\u001b[0m \u001b[39mself\u001b[39m\u001b[39m.\u001b[39mlogger\u001b[39m.\u001b[39mwarning(\u001b[39m\"\u001b[39m\u001b[39mSuccess!\u001b[39m\u001b[39m\"\u001b[39m)\n",
      "File \u001b[0;32m~/mambaforge/envs/tropical-rainfall/lib/python3.10/site-packages/xarray/core/coordinates.py:290\u001b[0m, in \u001b[0;36mDatasetCoordinates.__getitem__\u001b[0;34m(self, key)\u001b[0m\n\u001b[1;32m    288\u001b[0m \u001b[39mif\u001b[39;00m key \u001b[39min\u001b[39;00m \u001b[39mself\u001b[39m\u001b[39m.\u001b[39m_data\u001b[39m.\u001b[39mdata_vars:\n\u001b[1;32m    289\u001b[0m     \u001b[39mraise\u001b[39;00m \u001b[39mKeyError\u001b[39;00m(key)\n\u001b[0;32m--> 290\u001b[0m \u001b[39mreturn\u001b[39;00m \u001b[39mself\u001b[39;49m\u001b[39m.\u001b[39;49m_data[key]\n",
      "File \u001b[0;32m~/mambaforge/envs/tropical-rainfall/lib/python3.10/site-packages/xarray/core/dataset.py:1438\u001b[0m, in \u001b[0;36mDataset.__getitem__\u001b[0;34m(self, key)\u001b[0m\n\u001b[1;32m   1436\u001b[0m     \u001b[39mreturn\u001b[39;00m \u001b[39mself\u001b[39m\u001b[39m.\u001b[39misel(\u001b[39m*\u001b[39m\u001b[39m*\u001b[39mkey)\n\u001b[1;32m   1437\u001b[0m \u001b[39mif\u001b[39;00m utils\u001b[39m.\u001b[39mhashable(key):\n\u001b[0;32m-> 1438\u001b[0m     \u001b[39mreturn\u001b[39;00m \u001b[39mself\u001b[39;49m\u001b[39m.\u001b[39;49m_construct_dataarray(key)\n\u001b[1;32m   1439\u001b[0m \u001b[39mif\u001b[39;00m utils\u001b[39m.\u001b[39miterable_of_hashable(key):\n\u001b[1;32m   1440\u001b[0m     \u001b[39mreturn\u001b[39;00m \u001b[39mself\u001b[39m\u001b[39m.\u001b[39m_copy_listed(key)\n",
      "File \u001b[0;32m~/mambaforge/envs/tropical-rainfall/lib/python3.10/site-packages/xarray/core/dataset.py:1349\u001b[0m, in \u001b[0;36mDataset._construct_dataarray\u001b[0;34m(self, name)\u001b[0m\n\u001b[1;32m   1347\u001b[0m     variable \u001b[39m=\u001b[39m \u001b[39mself\u001b[39m\u001b[39m.\u001b[39m_variables[name]\n\u001b[1;32m   1348\u001b[0m \u001b[39mexcept\u001b[39;00m \u001b[39mKeyError\u001b[39;00m:\n\u001b[0;32m-> 1349\u001b[0m     _, name, variable \u001b[39m=\u001b[39m _get_virtual_variable(\u001b[39mself\u001b[39;49m\u001b[39m.\u001b[39;49m_variables, name, \u001b[39mself\u001b[39;49m\u001b[39m.\u001b[39;49mdims)\n\u001b[1;32m   1351\u001b[0m needed_dims \u001b[39m=\u001b[39m \u001b[39mset\u001b[39m(variable\u001b[39m.\u001b[39mdims)\n\u001b[1;32m   1353\u001b[0m coords: \u001b[39mdict\u001b[39m[Hashable, Variable] \u001b[39m=\u001b[39m {}\n",
      "File \u001b[0;32m~/mambaforge/envs/tropical-rainfall/lib/python3.10/site-packages/xarray/core/dataset.py:185\u001b[0m, in \u001b[0;36m_get_virtual_variable\u001b[0;34m(variables, key, dim_sizes)\u001b[0m\n\u001b[1;32m    183\u001b[0m split_key \u001b[39m=\u001b[39m key\u001b[39m.\u001b[39msplit(\u001b[39m\"\u001b[39m\u001b[39m.\u001b[39m\u001b[39m\"\u001b[39m, \u001b[39m1\u001b[39m)\n\u001b[1;32m    184\u001b[0m \u001b[39mif\u001b[39;00m \u001b[39mlen\u001b[39m(split_key) \u001b[39m!=\u001b[39m \u001b[39m2\u001b[39m:\n\u001b[0;32m--> 185\u001b[0m     \u001b[39mraise\u001b[39;00m \u001b[39mKeyError\u001b[39;00m(key)\n\u001b[1;32m    187\u001b[0m ref_name, var_name \u001b[39m=\u001b[39m split_key\n\u001b[1;32m    188\u001b[0m ref_var \u001b[39m=\u001b[39m variables[ref_name]\n",
      "\u001b[0;31mKeyError\u001b[0m: 'value'"
     ]
    }
   ],
   "source": [
    "reader = Reader(model=\"IFS\", exp=\"tco3999-ng5\", source=\"lra-r100-mon\",configdir=configdir)\n",
    "IFS = reader.retrieve()\n",
    "IFS_not_fixed = reader.retrieve(fix=False)"
   ]
  },
  {
   "attachments": {},
   "cell_type": "markdown",
   "metadata": {},
   "source": [
    "## IFS, tco2559-ng5"
   ]
  },
  {
   "cell_type": "code",
   "execution_count": null,
   "metadata": {},
   "outputs": [],
   "source": [
    "reader = Reader(model=\"IFS\", exp=\"tco2559-ng5\", source=\"ICMGG_atm2d\",configdir=configdir)\n",
    "IFS = reader.retrieve()\n",
    "IFS_not_fixed = reader.retrieve(fix=False)"
   ]
  },
  {
   "cell_type": "code",
   "execution_count": null,
   "metadata": {},
   "outputs": [],
   "source": [
    "reader = Reader(model=\"IFS\", exp=\"tco2559-ng5\", source=\"ICMU_atm2d\",configdir=configdir)\n",
    "IFS = reader.retrieve()\n",
    "IFS_not_fixed = reader.retrieve(fix=False)"
   ]
  },
  {
   "cell_type": "code",
   "execution_count": null,
   "metadata": {},
   "outputs": [],
   "source": [
    "reader = Reader(model=\"IFS\", exp=\"tco2559-ng5\", source=\"ICMU_atm3d\",configdir=configdir)\n",
    "IFS = reader.retrieve()\n",
    "IFS_not_fixed = reader.retrieve(fix=False)"
   ]
  },
  {
   "cell_type": "code",
   "execution_count": null,
   "metadata": {},
   "outputs": [],
   "source": [
    "reader = Reader(model=\"IFS\", exp=\"tco2559-ng5\", source=\"interpolated_global\",configdir=configdir)\n",
    "IFS = reader.retrieve()\n",
    "IFS_not_fixed = reader.retrieve(fix=False)"
   ]
  },
  {
   "cell_type": "code",
   "execution_count": null,
   "metadata": {},
   "outputs": [],
   "source": [
    "reader = Reader(model=\"IFS\", exp=\"tco2559-ng5\", source=\"interpolated_np\",configdir=configdir)\n",
    "IFS = reader.retrieve()\n",
    "IFS_not_fixed = reader.retrieve(fix=False)"
   ]
  },
  {
   "cell_type": "code",
   "execution_count": null,
   "metadata": {},
   "outputs": [],
   "source": [
    "reader = Reader(model=\"IFS\", exp=\"tco2559-ng5\", source=\"interpolated_sp\",configdir=configdir)\n",
    "IFS = reader.retrieve()\n",
    "IFS_not_fixed = reader.retrieve(fix=False)"
   ]
  },
  {
   "cell_type": "code",
   "execution_count": null,
   "metadata": {},
   "outputs": [],
   "source": [
    "reader = Reader(model=\"IFS\", exp=\"tco2559-ng5\", source=\"lra-r100-day\",configdir=configdir)\n",
    "IFS = reader.retrieve()\n",
    "IFS_not_fixed = reader.retrieve(fix=False)"
   ]
  },
  {
   "cell_type": "code",
   "execution_count": null,
   "metadata": {},
   "outputs": [],
   "source": [
    "reader = Reader(model=\"IFS\", exp=\"tco2559-ng5\", source=\"lra-r100-mon\",configdir=configdir)\n",
    "IFS = reader.retrieve()\n",
    "IFS_not_fixed = reader.retrieve(fix=False)"
   ]
  },
  {
   "attachments": {},
   "cell_type": "markdown",
   "metadata": {},
   "source": [
    "## IFS, tco1279-orca025"
   ]
  },
  {
   "cell_type": "code",
   "execution_count": null,
   "metadata": {},
   "outputs": [],
   "source": [
    "reader = Reader(model=\"IFS\", exp=\"tco1279-orca025\", source=\"ICMGG_atm2d\",configdir=configdir)\n",
    "IFS = reader.retrieve()\n",
    "IFS_not_fixed = reader.retrieve(fix=False)"
   ]
  },
  {
   "cell_type": "code",
   "execution_count": null,
   "metadata": {},
   "outputs": [],
   "source": [
    "reader = Reader(model=\"IFS\", exp=\"tco1279-orca025\", source=\"ICMU_atm2d\",configdir=configdir)\n",
    "IFS = reader.retrieve()\n",
    "IFS_not_fixed = reader.retrieve(fix=False)"
   ]
  },
  {
   "cell_type": "code",
   "execution_count": null,
   "metadata": {},
   "outputs": [],
   "source": [
    "reader = Reader(model=\"IFS\", exp=\"tco1279-orca025\", source=\"ICMU_atm3d\",configdir=configdir)\n",
    "IFS = reader.retrieve()\n",
    "IFS_not_fixed = reader.retrieve(fix=False)"
   ]
  },
  {
   "cell_type": "code",
   "execution_count": null,
   "metadata": {},
   "outputs": [],
   "source": [
    "reader = Reader(model=\"IFS\", exp=\"tco1279-orca025\", source=\"lra-r100-mon\",configdir=configdir)\n",
    "IFS = reader.retrieve()\n",
    "IFS_not_fixed = reader.retrieve(fix=False)"
   ]
  },
  {
   "attachments": {},
   "cell_type": "markdown",
   "metadata": {},
   "source": [
    "## IFS, test-tco2559, test-tco79"
   ]
  },
  {
   "cell_type": "code",
   "execution_count": null,
   "metadata": {},
   "outputs": [],
   "source": [
    "reader = Reader(model=\"IFS\", exp=\"test-tco2559\", source=\"ICMGG_atm2d\",configdir=configdir)\n",
    "IFS = reader.retrieve()\n",
    "IFS_not_fixed = reader.retrieve(fix=False)"
   ]
  },
  {
   "cell_type": "code",
   "execution_count": null,
   "metadata": {},
   "outputs": [],
   "source": [
    "reader = Reader(model=\"IFS\", exp=\"test-tco2559\", source=\"ICMU_atm3d\",configdir=configdir)\n",
    "IFS = reader.retrieve()\n",
    "IFS_not_fixed = reader.retrieve(fix=False)"
   ]
  },
  {
   "cell_type": "code",
   "execution_count": null,
   "metadata": {},
   "outputs": [],
   "source": [
    "reader = Reader(model=\"IFS\", exp=\"test-tco79\", source=\"short\",configdir=configdir)\n",
    "IFS = reader.retrieve()\n",
    "IFS_not_fixed = reader.retrieve(fix=False)"
   ]
  },
  {
   "cell_type": "code",
   "execution_count": null,
   "metadata": {},
   "outputs": [],
   "source": [
    "reader = Reader(model=\"IFS\", exp=\"test-tco79\", source=\"long\",configdir=configdir)\n",
    "IFS = reader.retrieve()\n",
    "IFS_not_fixed = reader.retrieve(fix=False)"
   ]
  },
  {
   "cell_type": "code",
   "execution_count": null,
   "metadata": {},
   "outputs": [],
   "source": [
    "IFS['tprate']"
   ]
  },
  {
   "cell_type": "code",
   "execution_count": 19,
   "metadata": {},
   "outputs": [
    {
     "data": {
      "text/plain": [
       "'2021.8.17'"
      ]
     },
     "execution_count": 19,
     "metadata": {},
     "output_type": "execute_result"
    }
   ],
   "source": [
    "# ERA5\n",
    "#import intake_esm\n",
    "#intake_esm.__version__"
   ]
  },
  {
   "attachments": {},
   "cell_type": "markdown",
   "metadata": {},
   "source": [
    "# ERA5"
   ]
  },
  {
   "attachments": {},
   "cell_type": "markdown",
   "metadata": {},
   "source": [
    "Error: TypeError: 'NoneType' object is not iterable"
   ]
  },
  {
   "cell_type": "code",
   "execution_count": null,
   "metadata": {},
   "outputs": [],
   "source": [
    "reader = Reader(model=\"ERA5\", exp=\"era5\", source=\"monthly_inst\",configdir=configdir)\n",
    "ERA5 = reader.retrieve()\n",
    "ERA5_not_fixed = reader.retrieve(fix=False)"
   ]
  },
  {
   "cell_type": "code",
   "execution_count": 40,
   "metadata": {},
   "outputs": [],
   "source": [
    "reader = Reader(model=\"ERA5\", exp=\"era5\", source=\"monthly_acc\",configdir=configdir)\n",
    "ERA5 = reader.retrieve()\n",
    "ERA5_not_fixed = reader.retrieve(fix=False)"
   ]
  },
  {
   "cell_type": "code",
   "execution_count": null,
   "metadata": {},
   "outputs": [],
   "source": [
    "reader = Reader(model=\"ERA5\", exp=\"era5\", source=\"daily_inst\",configdir=configdir)\n",
    "ERA5 = reader.retrieve()\n",
    "ERA5_not_fixed = reader.retrieve(fix=False)"
   ]
  },
  {
   "cell_type": "code",
   "execution_count": null,
   "metadata": {},
   "outputs": [],
   "source": [
    "reader = Reader(model=\"ERA5\", exp=\"era5\", source=\"daily_acc\",configdir=configdir)\n",
    "ERA5 = reader.retrieve()\n",
    "ERA5_not_fixed = reader.retrieve(fix=False)"
   ]
  },
  {
   "cell_type": "code",
   "execution_count": null,
   "metadata": {},
   "outputs": [],
   "source": [
    "ERA5_data['tp']"
   ]
  },
  {
   "attachments": {},
   "cell_type": "markdown",
   "metadata": {},
   "source": [
    "## FESOM, tco3999-ng5"
   ]
  },
  {
   "cell_type": "code",
   "execution_count": null,
   "metadata": {},
   "outputs": [],
   "source": [
    "reader = Reader(model=\"FESOM\", exp=\"tco3999-ng5\", source=\"elem_grid\", configdir=configdir)\n",
    "FESOM = reader.retrieve()\n",
    "FESOM_not_fixed = reader.retrieve()"
   ]
  },
  {
   "cell_type": "code",
   "execution_count": null,
   "metadata": {},
   "outputs": [],
   "source": [
    "reader = Reader(model=\"FESOM\", exp=\"tco3999-ng5\", source=\"node_grid\", configdir=configdir)\n",
    "FESOM = reader.retrieve()\n",
    "FESOM_not_fixed = reader.retrieve()"
   ]
  },
  {
   "cell_type": "code",
   "execution_count": null,
   "metadata": {},
   "outputs": [],
   "source": [
    "reader = Reader(model=\"FESOM\", exp=\"tco3999-ng5\", source=\"np\", configdir=configdir)\n",
    "FESOM = reader.retrieve()\n",
    "FESOM_not_fixed = reader.retrieve()"
   ]
  },
  {
   "cell_type": "code",
   "execution_count": null,
   "metadata": {},
   "outputs": [],
   "source": [
    "reader = Reader(model=\"FESOM\", exp=\"tco3999-ng5\", source=\"interpolated_global2d\", configdir=configdir)\n",
    "FESOM = reader.retrieve()\n",
    "FESOM_not_fixed = reader.retrieve()"
   ]
  },
  {
   "cell_type": "code",
   "execution_count": null,
   "metadata": {},
   "outputs": [],
   "source": [
    "reader = Reader(model=\"FESOM\", exp=\"tco3999-ng5\", source=\"interpolated_global_TS\", configdir=configdir)\n",
    "FESOM = reader.retrieve()\n",
    "FESOM_not_fixed = reader.retrieve()"
   ]
  },
  {
   "cell_type": "code",
   "execution_count": null,
   "metadata": {},
   "outputs": [],
   "source": [
    "reader = Reader(model=\"FESOM\", exp=\"tco3999-ng5\", source=\"interpolated_global_UV\", configdir=configdir)\n",
    "FESOM = reader.retrieve()\n",
    "FESOM_not_fixed = reader.retrieve()"
   ]
  },
  {
   "cell_type": "code",
   "execution_count": null,
   "metadata": {},
   "outputs": [],
   "source": [
    "reader = Reader(model=\"FESOM\", exp=\"tco3999-ng5\", source=\"interpolated_np\", configdir=configdir)\n",
    "FESOM = reader.retrieve()\n",
    "FESOM_not_fixed = reader.retrieve()"
   ]
  },
  {
   "cell_type": "code",
   "execution_count": null,
   "metadata": {},
   "outputs": [],
   "source": [
    "reader = Reader(model=\"FESOM\", exp=\"tco3999-ng5\", source=\"interpolated_sp\", configdir=configdir)\n",
    "FESOM = reader.retrieve()\n",
    "FESOM_not_fixed = reader.retrieve()"
   ]
  },
  {
   "cell_type": "code",
   "execution_count": null,
   "metadata": {},
   "outputs": [],
   "source": [
    "reader = Reader(model=\"FESOM\", exp=\"tco3999-ng5\", source=\"original_2d\", configdir=configdir)\n",
    "FESOM = reader.retrieve()\n",
    "FESOM_not_fixed = reader.retrieve()"
   ]
  },
  {
   "cell_type": "code",
   "execution_count": null,
   "metadata": {},
   "outputs": [],
   "source": [
    "reader = Reader(model=\"FESOM\", exp=\"tco3999-ng5\", source=\"original_3d\", configdir=configdir)\n",
    "FESOM = reader.retrieve()\n",
    "FESOM_not_fixed = reader.retrieve()"
   ]
  },
  {
   "attachments": {},
   "cell_type": "markdown",
   "metadata": {},
   "source": [
    "## FESOM, tco2559-ng5\t"
   ]
  },
  {
   "cell_type": "code",
   "execution_count": null,
   "metadata": {},
   "outputs": [],
   "source": [
    "reader = Reader(model=\"FESOM\", exp=\"tco2559-ng5\", source=\"elem_grid\", configdir=configdir)\n",
    "FESOM = reader.retrieve()\n",
    "FESOM_not_fixed = reader.retrieve()"
   ]
  },
  {
   "cell_type": "code",
   "execution_count": null,
   "metadata": {},
   "outputs": [],
   "source": [
    "reader = Reader(model=\"FESOM\", exp=\"tco2559-ng5\", source=\"node_grid\", configdir=configdir)\n",
    "FESOM = reader.retrieve()\n",
    "FESOM_not_fixed = reader.retrieve()"
   ]
  },
  {
   "cell_type": "code",
   "execution_count": null,
   "metadata": {},
   "outputs": [],
   "source": [
    "reader = Reader(model=\"FESOM\", exp=\"tco2559-ng5\", source=\"interpolated_global2d\", configdir=configdir)\n",
    "FESOM = reader.retrieve()\n",
    "FESOM_not_fixed = reader.retrieve()"
   ]
  },
  {
   "cell_type": "code",
   "execution_count": null,
   "metadata": {},
   "outputs": [],
   "source": [
    "reader = Reader(model=\"FESOM\", exp=\"tco2559-ng5\", source=\"interpolated_global_TS\", configdir=configdir)\n",
    "FESOM = reader.retrieve()\n",
    "FESOM_not_fixed = reader.retrieve()"
   ]
  },
  {
   "cell_type": "code",
   "execution_count": null,
   "metadata": {},
   "outputs": [],
   "source": [
    "reader = Reader(model=\"FESOM\", exp=\"tco2559-ng5\", source=\"interpolated_global_UV\", configdir=configdir)\n",
    "FESOM = reader.retrieve()\n",
    "FESOM_not_fixed = reader.retrieve()"
   ]
  },
  {
   "cell_type": "code",
   "execution_count": null,
   "metadata": {},
   "outputs": [],
   "source": [
    "\n",
    "reader = Reader(model=\"FESOM\", exp=\"tco2559-ng5\", source=\"interpolated_np\", configdir=configdir)\n",
    "FESOM = reader.retrieve()\n",
    "FESOM_not_fixed = reader.retrieve()"
   ]
  },
  {
   "cell_type": "code",
   "execution_count": null,
   "metadata": {},
   "outputs": [],
   "source": [
    "\n",
    "reader = Reader(model=\"FESOM\", exp=\"tco2559-ng5\", source=\"interpolated_sp\", configdir=configdir)\n",
    "FESOM = reader.retrieve()\n",
    "FESOM_not_fixed = reader.retrieve()"
   ]
  },
  {
   "cell_type": "code",
   "execution_count": null,
   "metadata": {},
   "outputs": [],
   "source": [
    "reader = Reader(model=\"FESOM\", exp=\"tco2559-ng5\", source=\"original_2d\", configdir=configdir)\n",
    "FESOM = reader.retrieve()\n",
    "FESOM_not_fixed = reader.retrieve()"
   ]
  },
  {
   "cell_type": "code",
   "execution_count": null,
   "metadata": {},
   "outputs": [],
   "source": [
    "reader = Reader(model=\"FESOM\", exp=\"tco2559-ng5\", source=\"original_3d\", configdir=configdir)\n",
    "FESOM = reader.retrieve()\n",
    "FESOM_not_fixed = reader.retrieve()"
   ]
  },
  {
   "cell_type": "code",
   "execution_count": null,
   "metadata": {},
   "outputs": [],
   "source": [
    "reader = Reader(model=\"FESOM\", exp=\"tco2559-ng5\", source=\"lra-r100-mon\", configdir=configdir)\n",
    "FESOM = reader.retrieve()\n",
    "FESOM_not_fixed = reader.retrieve()"
   ]
  },
  {
   "cell_type": "code",
   "execution_count": null,
   "metadata": {},
   "outputs": [],
   "source": [
    "reader = Reader(model=\"FESOM\", exp=\"tco2559-ng5\", source=\"lra-r100-day\", configdir=configdir)\n",
    "FESOM = reader.retrieve()\n",
    "FESOM_not_fixed = reader.retrieve()"
   ]
  },
  {
   "attachments": {},
   "cell_type": "markdown",
   "metadata": {},
   "source": [
    "## FESOM, test-ng5, test-pi"
   ]
  },
  {
   "cell_type": "code",
   "execution_count": null,
   "metadata": {},
   "outputs": [],
   "source": [
    "reader = Reader(model=\"FESOM\", exp=\"test-ng5\", source=\"elem_grid\", configdir=configdir)\n",
    "FESOM = reader.retrieve()\n",
    "FESOM_not_fixed = reader.retrieve()"
   ]
  },
  {
   "cell_type": "code",
   "execution_count": null,
   "metadata": {},
   "outputs": [],
   "source": [
    "reader = Reader(model=\"FESOM\", exp=\"test-ng5\", source=\"node_grid\", configdir=configdir)\n",
    "FESOM = reader.retrieve()\n",
    "FESOM_not_fixed = reader.retrieve()"
   ]
  },
  {
   "cell_type": "code",
   "execution_count": null,
   "metadata": {},
   "outputs": [],
   "source": [
    "reader = Reader(model=\"FESOM\", exp=\"tco2559-ng5\", source=\"original_2d\", configdir=configdir)\n",
    "FESOM = reader.retrieve()\n",
    "FESOM_not_fixed = reader.retrieve()"
   ]
  },
  {
   "cell_type": "code",
   "execution_count": 55,
   "metadata": {},
   "outputs": [
    {
     "name": "stdout",
     "output_type": "stream",
     "text": [
      "No fixes defined for model FESOM, experiment tco2559-ng5, source original_2d\n"
     ]
    }
   ],
   "source": [
    "reader = Reader(model=\"FESOM\", exp=\"tco2559-ng5\", source=\"original_3d\", configdir=configdir)\n",
    "FESOM = reader.retrieve()\n",
    "FESOM_not_fixed = reader.retrieve()"
   ]
  },
  {
   "cell_type": "code",
   "execution_count": null,
   "metadata": {},
   "outputs": [],
   "source": [
    "reader = Reader(model=\"FESOM\", exp=\"test-pi\", source=\"original_2d\", configdir=configdir)\n",
    "FESOM = reader.retrieve()\n",
    "FESOM_not_fixed = reader.retrieve()"
   ]
  },
  {
   "cell_type": "code",
   "execution_count": 54,
   "metadata": {},
   "outputs": [
    {
     "data": {
      "text/html": [
       "<div><svg style=\"position: absolute; width: 0; height: 0; overflow: hidden\">\n",
       "<defs>\n",
       "<symbol id=\"icon-database\" viewBox=\"0 0 32 32\">\n",
       "<path d=\"M16 0c-8.837 0-16 2.239-16 5v4c0 2.761 7.163 5 16 5s16-2.239 16-5v-4c0-2.761-7.163-5-16-5z\"></path>\n",
       "<path d=\"M16 17c-8.837 0-16-2.239-16-5v6c0 2.761 7.163 5 16 5s16-2.239 16-5v-6c0 2.761-7.163 5-16 5z\"></path>\n",
       "<path d=\"M16 26c-8.837 0-16-2.239-16-5v6c0 2.761 7.163 5 16 5s16-2.239 16-5v-6c0 2.761-7.163 5-16 5z\"></path>\n",
       "</symbol>\n",
       "<symbol id=\"icon-file-text2\" viewBox=\"0 0 32 32\">\n",
       "<path d=\"M28.681 7.159c-0.694-0.947-1.662-2.053-2.724-3.116s-2.169-2.030-3.116-2.724c-1.612-1.182-2.393-1.319-2.841-1.319h-15.5c-1.378 0-2.5 1.121-2.5 2.5v27c0 1.378 1.122 2.5 2.5 2.5h23c1.378 0 2.5-1.122 2.5-2.5v-19.5c0-0.448-0.137-1.23-1.319-2.841zM24.543 5.457c0.959 0.959 1.712 1.825 2.268 2.543h-4.811v-4.811c0.718 0.556 1.584 1.309 2.543 2.268zM28 29.5c0 0.271-0.229 0.5-0.5 0.5h-23c-0.271 0-0.5-0.229-0.5-0.5v-27c0-0.271 0.229-0.5 0.5-0.5 0 0 15.499-0 15.5 0v7c0 0.552 0.448 1 1 1h7v19.5z\"></path>\n",
       "<path d=\"M23 26h-14c-0.552 0-1-0.448-1-1s0.448-1 1-1h14c0.552 0 1 0.448 1 1s-0.448 1-1 1z\"></path>\n",
       "<path d=\"M23 22h-14c-0.552 0-1-0.448-1-1s0.448-1 1-1h14c0.552 0 1 0.448 1 1s-0.448 1-1 1z\"></path>\n",
       "<path d=\"M23 18h-14c-0.552 0-1-0.448-1-1s0.448-1 1-1h14c0.552 0 1 0.448 1 1s-0.448 1-1 1z\"></path>\n",
       "</symbol>\n",
       "</defs>\n",
       "</svg>\n",
       "<style>/* CSS stylesheet for displaying xarray objects in jupyterlab.\n",
       " *\n",
       " */\n",
       "\n",
       ":root {\n",
       "  --xr-font-color0: var(--jp-content-font-color0, rgba(0, 0, 0, 1));\n",
       "  --xr-font-color2: var(--jp-content-font-color2, rgba(0, 0, 0, 0.54));\n",
       "  --xr-font-color3: var(--jp-content-font-color3, rgba(0, 0, 0, 0.38));\n",
       "  --xr-border-color: var(--jp-border-color2, #e0e0e0);\n",
       "  --xr-disabled-color: var(--jp-layout-color3, #bdbdbd);\n",
       "  --xr-background-color: var(--jp-layout-color0, white);\n",
       "  --xr-background-color-row-even: var(--jp-layout-color1, white);\n",
       "  --xr-background-color-row-odd: var(--jp-layout-color2, #eeeeee);\n",
       "}\n",
       "\n",
       "html[theme=dark],\n",
       "body[data-theme=dark],\n",
       "body.vscode-dark {\n",
       "  --xr-font-color0: rgba(255, 255, 255, 1);\n",
       "  --xr-font-color2: rgba(255, 255, 255, 0.54);\n",
       "  --xr-font-color3: rgba(255, 255, 255, 0.38);\n",
       "  --xr-border-color: #1F1F1F;\n",
       "  --xr-disabled-color: #515151;\n",
       "  --xr-background-color: #111111;\n",
       "  --xr-background-color-row-even: #111111;\n",
       "  --xr-background-color-row-odd: #313131;\n",
       "}\n",
       "\n",
       ".xr-wrap {\n",
       "  display: block !important;\n",
       "  min-width: 300px;\n",
       "  max-width: 700px;\n",
       "}\n",
       "\n",
       ".xr-text-repr-fallback {\n",
       "  /* fallback to plain text repr when CSS is not injected (untrusted notebook) */\n",
       "  display: none;\n",
       "}\n",
       "\n",
       ".xr-header {\n",
       "  padding-top: 6px;\n",
       "  padding-bottom: 6px;\n",
       "  margin-bottom: 4px;\n",
       "  border-bottom: solid 1px var(--xr-border-color);\n",
       "}\n",
       "\n",
       ".xr-header > div,\n",
       ".xr-header > ul {\n",
       "  display: inline;\n",
       "  margin-top: 0;\n",
       "  margin-bottom: 0;\n",
       "}\n",
       "\n",
       ".xr-obj-type,\n",
       ".xr-array-name {\n",
       "  margin-left: 2px;\n",
       "  margin-right: 10px;\n",
       "}\n",
       "\n",
       ".xr-obj-type {\n",
       "  color: var(--xr-font-color2);\n",
       "}\n",
       "\n",
       ".xr-sections {\n",
       "  padding-left: 0 !important;\n",
       "  display: grid;\n",
       "  grid-template-columns: 150px auto auto 1fr 20px 20px;\n",
       "}\n",
       "\n",
       ".xr-section-item {\n",
       "  display: contents;\n",
       "}\n",
       "\n",
       ".xr-section-item input {\n",
       "  display: none;\n",
       "}\n",
       "\n",
       ".xr-section-item input + label {\n",
       "  color: var(--xr-disabled-color);\n",
       "}\n",
       "\n",
       ".xr-section-item input:enabled + label {\n",
       "  cursor: pointer;\n",
       "  color: var(--xr-font-color2);\n",
       "}\n",
       "\n",
       ".xr-section-item input:enabled + label:hover {\n",
       "  color: var(--xr-font-color0);\n",
       "}\n",
       "\n",
       ".xr-section-summary {\n",
       "  grid-column: 1;\n",
       "  color: var(--xr-font-color2);\n",
       "  font-weight: 500;\n",
       "}\n",
       "\n",
       ".xr-section-summary > span {\n",
       "  display: inline-block;\n",
       "  padding-left: 0.5em;\n",
       "}\n",
       "\n",
       ".xr-section-summary-in:disabled + label {\n",
       "  color: var(--xr-font-color2);\n",
       "}\n",
       "\n",
       ".xr-section-summary-in + label:before {\n",
       "  display: inline-block;\n",
       "  content: '►';\n",
       "  font-size: 11px;\n",
       "  width: 15px;\n",
       "  text-align: center;\n",
       "}\n",
       "\n",
       ".xr-section-summary-in:disabled + label:before {\n",
       "  color: var(--xr-disabled-color);\n",
       "}\n",
       "\n",
       ".xr-section-summary-in:checked + label:before {\n",
       "  content: '▼';\n",
       "}\n",
       "\n",
       ".xr-section-summary-in:checked + label > span {\n",
       "  display: none;\n",
       "}\n",
       "\n",
       ".xr-section-summary,\n",
       ".xr-section-inline-details {\n",
       "  padding-top: 4px;\n",
       "  padding-bottom: 4px;\n",
       "}\n",
       "\n",
       ".xr-section-inline-details {\n",
       "  grid-column: 2 / -1;\n",
       "}\n",
       "\n",
       ".xr-section-details {\n",
       "  display: none;\n",
       "  grid-column: 1 / -1;\n",
       "  margin-bottom: 5px;\n",
       "}\n",
       "\n",
       ".xr-section-summary-in:checked ~ .xr-section-details {\n",
       "  display: contents;\n",
       "}\n",
       "\n",
       ".xr-array-wrap {\n",
       "  grid-column: 1 / -1;\n",
       "  display: grid;\n",
       "  grid-template-columns: 20px auto;\n",
       "}\n",
       "\n",
       ".xr-array-wrap > label {\n",
       "  grid-column: 1;\n",
       "  vertical-align: top;\n",
       "}\n",
       "\n",
       ".xr-preview {\n",
       "  color: var(--xr-font-color3);\n",
       "}\n",
       "\n",
       ".xr-array-preview,\n",
       ".xr-array-data {\n",
       "  padding: 0 5px !important;\n",
       "  grid-column: 2;\n",
       "}\n",
       "\n",
       ".xr-array-data,\n",
       ".xr-array-in:checked ~ .xr-array-preview {\n",
       "  display: none;\n",
       "}\n",
       "\n",
       ".xr-array-in:checked ~ .xr-array-data,\n",
       ".xr-array-preview {\n",
       "  display: inline-block;\n",
       "}\n",
       "\n",
       ".xr-dim-list {\n",
       "  display: inline-block !important;\n",
       "  list-style: none;\n",
       "  padding: 0 !important;\n",
       "  margin: 0;\n",
       "}\n",
       "\n",
       ".xr-dim-list li {\n",
       "  display: inline-block;\n",
       "  padding: 0;\n",
       "  margin: 0;\n",
       "}\n",
       "\n",
       ".xr-dim-list:before {\n",
       "  content: '(';\n",
       "}\n",
       "\n",
       ".xr-dim-list:after {\n",
       "  content: ')';\n",
       "}\n",
       "\n",
       ".xr-dim-list li:not(:last-child):after {\n",
       "  content: ',';\n",
       "  padding-right: 5px;\n",
       "}\n",
       "\n",
       ".xr-has-index {\n",
       "  font-weight: bold;\n",
       "}\n",
       "\n",
       ".xr-var-list,\n",
       ".xr-var-item {\n",
       "  display: contents;\n",
       "}\n",
       "\n",
       ".xr-var-item > div,\n",
       ".xr-var-item label,\n",
       ".xr-var-item > .xr-var-name span {\n",
       "  background-color: var(--xr-background-color-row-even);\n",
       "  margin-bottom: 0;\n",
       "}\n",
       "\n",
       ".xr-var-item > .xr-var-name:hover span {\n",
       "  padding-right: 5px;\n",
       "}\n",
       "\n",
       ".xr-var-list > li:nth-child(odd) > div,\n",
       ".xr-var-list > li:nth-child(odd) > label,\n",
       ".xr-var-list > li:nth-child(odd) > .xr-var-name span {\n",
       "  background-color: var(--xr-background-color-row-odd);\n",
       "}\n",
       "\n",
       ".xr-var-name {\n",
       "  grid-column: 1;\n",
       "}\n",
       "\n",
       ".xr-var-dims {\n",
       "  grid-column: 2;\n",
       "}\n",
       "\n",
       ".xr-var-dtype {\n",
       "  grid-column: 3;\n",
       "  text-align: right;\n",
       "  color: var(--xr-font-color2);\n",
       "}\n",
       "\n",
       ".xr-var-preview {\n",
       "  grid-column: 4;\n",
       "}\n",
       "\n",
       ".xr-index-preview {\n",
       "  grid-column: 2 / 5;\n",
       "  color: var(--xr-font-color2);\n",
       "}\n",
       "\n",
       ".xr-var-name,\n",
       ".xr-var-dims,\n",
       ".xr-var-dtype,\n",
       ".xr-preview,\n",
       ".xr-attrs dt {\n",
       "  white-space: nowrap;\n",
       "  overflow: hidden;\n",
       "  text-overflow: ellipsis;\n",
       "  padding-right: 10px;\n",
       "}\n",
       "\n",
       ".xr-var-name:hover,\n",
       ".xr-var-dims:hover,\n",
       ".xr-var-dtype:hover,\n",
       ".xr-attrs dt:hover {\n",
       "  overflow: visible;\n",
       "  width: auto;\n",
       "  z-index: 1;\n",
       "}\n",
       "\n",
       ".xr-var-attrs,\n",
       ".xr-var-data,\n",
       ".xr-index-data {\n",
       "  display: none;\n",
       "  background-color: var(--xr-background-color) !important;\n",
       "  padding-bottom: 5px !important;\n",
       "}\n",
       "\n",
       ".xr-var-attrs-in:checked ~ .xr-var-attrs,\n",
       ".xr-var-data-in:checked ~ .xr-var-data,\n",
       ".xr-index-data-in:checked ~ .xr-index-data {\n",
       "  display: block;\n",
       "}\n",
       "\n",
       ".xr-var-data > table {\n",
       "  float: right;\n",
       "}\n",
       "\n",
       ".xr-var-name span,\n",
       ".xr-var-data,\n",
       ".xr-index-name div,\n",
       ".xr-index-data,\n",
       ".xr-attrs {\n",
       "  padding-left: 25px !important;\n",
       "}\n",
       "\n",
       ".xr-attrs,\n",
       ".xr-var-attrs,\n",
       ".xr-var-data,\n",
       ".xr-index-data {\n",
       "  grid-column: 1 / -1;\n",
       "}\n",
       "\n",
       "dl.xr-attrs {\n",
       "  padding: 0;\n",
       "  margin: 0;\n",
       "  display: grid;\n",
       "  grid-template-columns: 125px auto;\n",
       "}\n",
       "\n",
       ".xr-attrs dt,\n",
       ".xr-attrs dd {\n",
       "  padding: 0;\n",
       "  margin: 0;\n",
       "  float: left;\n",
       "  padding-right: 10px;\n",
       "  width: auto;\n",
       "}\n",
       "\n",
       ".xr-attrs dt {\n",
       "  font-weight: normal;\n",
       "  grid-column: 1;\n",
       "}\n",
       "\n",
       ".xr-attrs dt:hover span {\n",
       "  display: inline-block;\n",
       "  background: var(--xr-background-color);\n",
       "  padding-right: 10px;\n",
       "}\n",
       "\n",
       ".xr-attrs dd {\n",
       "  grid-column: 2;\n",
       "  white-space: pre-wrap;\n",
       "  word-break: break-all;\n",
       "}\n",
       "\n",
       ".xr-icon-database,\n",
       ".xr-icon-file-text2,\n",
       ".xr-no-icon {\n",
       "  display: inline-block;\n",
       "  vertical-align: middle;\n",
       "  width: 1em;\n",
       "  height: 1.5em !important;\n",
       "  stroke-width: 0;\n",
       "  stroke: currentColor;\n",
       "  fill: currentColor;\n",
       "}\n",
       "</style><pre class='xr-text-repr-fallback'>&lt;xarray.DataArray &#x27;prec&#x27; (time: 8328, nod2: 7402886)&gt;\n",
       "dask.array&lt;concatenate, shape=(8328, 7402886), dtype=float32, chunksize=(1, 7402886), chunktype=numpy.ndarray&gt;\n",
       "Coordinates:\n",
       "  * time     (time) datetime64[ns] 2020-01-20T00:56:00 ... 2020-12-31T23:56:00\n",
       "Dimensions without coordinates: nod2\n",
       "Attributes:\n",
       "    description:  precicipation rain\n",
       "    long_name:    precicipation rain\n",
       "    units:        m/s</pre><div class='xr-wrap' style='display:none'><div class='xr-header'><div class='xr-obj-type'>xarray.DataArray</div><div class='xr-array-name'>'prec'</div><ul class='xr-dim-list'><li><span class='xr-has-index'>time</span>: 8328</li><li><span>nod2</span>: 7402886</li></ul></div><ul class='xr-sections'><li class='xr-section-item'><div class='xr-array-wrap'><input id='section-7de17a35-337e-496f-b1f5-14ad6234d514' class='xr-array-in' type='checkbox' checked><label for='section-7de17a35-337e-496f-b1f5-14ad6234d514' title='Show/hide data repr'><svg class='icon xr-icon-database'><use xlink:href='#icon-database'></use></svg></label><div class='xr-array-preview xr-preview'><span>dask.array&lt;chunksize=(1, 7402886), meta=np.ndarray&gt;</span></div><div class='xr-array-data'><table>\n",
       "    <tr>\n",
       "        <td>\n",
       "            <table style=\"border-collapse: collapse;\">\n",
       "                <thead>\n",
       "                    <tr>\n",
       "                        <td> </td>\n",
       "                        <th> Array </th>\n",
       "                        <th> Chunk </th>\n",
       "                    </tr>\n",
       "                </thead>\n",
       "                <tbody>\n",
       "                    \n",
       "                    <tr>\n",
       "                        <th> Bytes </th>\n",
       "                        <td> 229.67 GiB </td>\n",
       "                        <td> 28.24 MiB </td>\n",
       "                    </tr>\n",
       "                    \n",
       "                    <tr>\n",
       "                        <th> Shape </th>\n",
       "                        <td> (8328, 7402886) </td>\n",
       "                        <td> (1, 7402886) </td>\n",
       "                    </tr>\n",
       "                    <tr>\n",
       "                        <th> Dask graph </th>\n",
       "                        <td colspan=\"2\"> 8328 chunks in 27 graph layers </td>\n",
       "                    </tr>\n",
       "                    <tr>\n",
       "                        <th> Data type </th>\n",
       "                        <td colspan=\"2\"> float32 numpy.ndarray </td>\n",
       "                    </tr>\n",
       "                </tbody>\n",
       "            </table>\n",
       "        </td>\n",
       "        <td>\n",
       "        <svg width=\"170\" height=\"75\" style=\"stroke:rgb(0,0,0);stroke-width:1\" >\n",
       "\n",
       "  <!-- Horizontal lines -->\n",
       "  <line x1=\"0\" y1=\"0\" x2=\"120\" y2=\"0\" style=\"stroke-width:2\" />\n",
       "  <line x1=\"0\" y1=\"1\" x2=\"120\" y2=\"1\" />\n",
       "  <line x1=\"0\" y1=\"2\" x2=\"120\" y2=\"2\" />\n",
       "  <line x1=\"0\" y1=\"4\" x2=\"120\" y2=\"4\" />\n",
       "  <line x1=\"0\" y1=\"5\" x2=\"120\" y2=\"5\" />\n",
       "  <line x1=\"0\" y1=\"6\" x2=\"120\" y2=\"6\" />\n",
       "  <line x1=\"0\" y1=\"8\" x2=\"120\" y2=\"8\" />\n",
       "  <line x1=\"0\" y1=\"9\" x2=\"120\" y2=\"9\" />\n",
       "  <line x1=\"0\" y1=\"10\" x2=\"120\" y2=\"10\" />\n",
       "  <line x1=\"0\" y1=\"12\" x2=\"120\" y2=\"12\" />\n",
       "  <line x1=\"0\" y1=\"13\" x2=\"120\" y2=\"13\" />\n",
       "  <line x1=\"0\" y1=\"14\" x2=\"120\" y2=\"14\" />\n",
       "  <line x1=\"0\" y1=\"16\" x2=\"120\" y2=\"16\" />\n",
       "  <line x1=\"0\" y1=\"17\" x2=\"120\" y2=\"17\" />\n",
       "  <line x1=\"0\" y1=\"18\" x2=\"120\" y2=\"18\" />\n",
       "  <line x1=\"0\" y1=\"20\" x2=\"120\" y2=\"20\" />\n",
       "  <line x1=\"0\" y1=\"21\" x2=\"120\" y2=\"21\" />\n",
       "  <line x1=\"0\" y1=\"22\" x2=\"120\" y2=\"22\" />\n",
       "  <line x1=\"0\" y1=\"24\" x2=\"120\" y2=\"24\" />\n",
       "  <line x1=\"0\" y1=\"25\" x2=\"120\" y2=\"25\" style=\"stroke-width:2\" />\n",
       "\n",
       "  <!-- Vertical lines -->\n",
       "  <line x1=\"0\" y1=\"0\" x2=\"0\" y2=\"25\" style=\"stroke-width:2\" />\n",
       "  <line x1=\"120\" y1=\"0\" x2=\"120\" y2=\"25\" style=\"stroke-width:2\" />\n",
       "\n",
       "  <!-- Colored Rectangle -->\n",
       "  <polygon points=\"0.0,0.0 120.0,0.0 120.0,25.412616514582485 0.0,25.412616514582485\" style=\"fill:#8B4903A0;stroke-width:0\"/>\n",
       "\n",
       "  <!-- Text -->\n",
       "  <text x=\"60.000000\" y=\"45.412617\" font-size=\"1.0rem\" font-weight=\"100\" text-anchor=\"middle\" >7402886</text>\n",
       "  <text x=\"140.000000\" y=\"12.706308\" font-size=\"1.0rem\" font-weight=\"100\" text-anchor=\"middle\" transform=\"rotate(-90,140.000000,12.706308)\">8328</text>\n",
       "</svg>\n",
       "        </td>\n",
       "    </tr>\n",
       "</table></div></div></li><li class='xr-section-item'><input id='section-2607ae36-2ce6-4b3b-9c13-13a3ca65ff95' class='xr-section-summary-in' type='checkbox'  checked><label for='section-2607ae36-2ce6-4b3b-9c13-13a3ca65ff95' class='xr-section-summary' >Coordinates: <span>(1)</span></label><div class='xr-section-inline-details'></div><div class='xr-section-details'><ul class='xr-var-list'><li class='xr-var-item'><div class='xr-var-name'><span class='xr-has-index'>time</span></div><div class='xr-var-dims'>(time)</div><div class='xr-var-dtype'>datetime64[ns]</div><div class='xr-var-preview xr-preview'>2020-01-20T00:56:00 ... 2020-12-...</div><input id='attrs-84bd5c37-05c1-4973-803f-e5c83eb13bfd' class='xr-var-attrs-in' type='checkbox' ><label for='attrs-84bd5c37-05c1-4973-803f-e5c83eb13bfd' title='Show/Hide attributes'><svg class='icon xr-icon-file-text2'><use xlink:href='#icon-file-text2'></use></svg></label><input id='data-fef18bc2-032f-4c78-bb81-3fa8b0326ec3' class='xr-var-data-in' type='checkbox'><label for='data-fef18bc2-032f-4c78-bb81-3fa8b0326ec3' title='Show/Hide data repr'><svg class='icon xr-icon-database'><use xlink:href='#icon-database'></use></svg></label><div class='xr-var-attrs'><dl class='xr-attrs'><dt><span>long_name :</span></dt><dd>time</dd><dt><span>standard_name :</span></dt><dd>time</dd><dt><span>axis :</span></dt><dd>T</dd><dt><span>stored_direction :</span></dt><dd>increasing</dd></dl></div><div class='xr-var-data'><pre>array([&#x27;2020-01-20T00:56:00.000000000&#x27;, &#x27;2020-01-20T01:56:00.000000000&#x27;,\n",
       "       &#x27;2020-01-20T02:56:00.000000000&#x27;, ..., &#x27;2020-12-31T21:56:00.000000000&#x27;,\n",
       "       &#x27;2020-12-31T22:56:00.000000000&#x27;, &#x27;2020-12-31T23:56:00.000000000&#x27;],\n",
       "      dtype=&#x27;datetime64[ns]&#x27;)</pre></div></li></ul></div></li><li class='xr-section-item'><input id='section-584ae38c-4a5e-4a10-8211-b30ca357946a' class='xr-section-summary-in' type='checkbox'  ><label for='section-584ae38c-4a5e-4a10-8211-b30ca357946a' class='xr-section-summary' >Indexes: <span>(1)</span></label><div class='xr-section-inline-details'></div><div class='xr-section-details'><ul class='xr-var-list'><li class='xr-var-item'><div class='xr-index-name'><div>time</div></div><div class='xr-index-preview'>PandasIndex</div><div></div><input id='index-7ab53523-c2f1-4be4-901b-a2012f85b516' class='xr-index-data-in' type='checkbox'/><label for='index-7ab53523-c2f1-4be4-901b-a2012f85b516' title='Show/Hide index repr'><svg class='icon xr-icon-database'><use xlink:href='#icon-database'></use></svg></label><div class='xr-index-data'><pre>PandasIndex(DatetimeIndex([&#x27;2020-01-20 00:56:00&#x27;, &#x27;2020-01-20 01:56:00&#x27;,\n",
       "               &#x27;2020-01-20 02:56:00&#x27;, &#x27;2020-01-20 03:56:00&#x27;,\n",
       "               &#x27;2020-01-20 04:56:00&#x27;, &#x27;2020-01-20 05:56:00&#x27;,\n",
       "               &#x27;2020-01-20 06:56:00&#x27;, &#x27;2020-01-20 07:56:00&#x27;,\n",
       "               &#x27;2020-01-20 08:56:00&#x27;, &#x27;2020-01-20 09:56:00&#x27;,\n",
       "               ...\n",
       "               &#x27;2020-12-31 14:56:00&#x27;, &#x27;2020-12-31 15:56:00&#x27;,\n",
       "               &#x27;2020-12-31 16:56:00&#x27;, &#x27;2020-12-31 17:56:00&#x27;,\n",
       "               &#x27;2020-12-31 18:56:00&#x27;, &#x27;2020-12-31 19:56:00&#x27;,\n",
       "               &#x27;2020-12-31 20:56:00&#x27;, &#x27;2020-12-31 21:56:00&#x27;,\n",
       "               &#x27;2020-12-31 22:56:00&#x27;, &#x27;2020-12-31 23:56:00&#x27;],\n",
       "              dtype=&#x27;datetime64[ns]&#x27;, name=&#x27;time&#x27;, length=8328, freq=None))</pre></div></li></ul></div></li><li class='xr-section-item'><input id='section-b440e650-2dce-49e2-97d2-9c0ad1b89d3e' class='xr-section-summary-in' type='checkbox'  checked><label for='section-b440e650-2dce-49e2-97d2-9c0ad1b89d3e' class='xr-section-summary' >Attributes: <span>(3)</span></label><div class='xr-section-inline-details'></div><div class='xr-section-details'><dl class='xr-attrs'><dt><span>description :</span></dt><dd>precicipation rain</dd><dt><span>long_name :</span></dt><dd>precicipation rain</dd><dt><span>units :</span></dt><dd>m/s</dd></dl></div></li></ul></div></div>"
      ],
      "text/plain": [
       "<xarray.DataArray 'prec' (time: 8328, nod2: 7402886)>\n",
       "dask.array<concatenate, shape=(8328, 7402886), dtype=float32, chunksize=(1, 7402886), chunktype=numpy.ndarray>\n",
       "Coordinates:\n",
       "  * time     (time) datetime64[ns] 2020-01-20T00:56:00 ... 2020-12-31T23:56:00\n",
       "Dimensions without coordinates: nod2\n",
       "Attributes:\n",
       "    description:  precicipation rain\n",
       "    long_name:    precicipation rain\n",
       "    units:        m/s"
      ]
     },
     "execution_count": 54,
     "metadata": {},
     "output_type": "execute_result"
    }
   ],
   "source": [
    "FESOM['prec']"
   ]
  },
  {
   "attachments": {},
   "cell_type": "markdown",
   "metadata": {},
   "source": [
    "Erro: ValueError: conflicting sizes for dimension 'lat': length 2700 on  and length 2000 on {'lon': 'lon', 'lat': 'lat'}"
   ]
  },
  {
   "attachments": {},
   "cell_type": "markdown",
   "metadata": {},
   "source": [
    "# CERES"
   ]
  },
  {
   "attachments": {},
   "cell_type": "markdown",
   "metadata": {},
   "source": [
    "Error: TypeError: 'NoneType' object is not iterable"
   ]
  },
  {
   "cell_type": "code",
   "execution_count": null,
   "metadata": {},
   "outputs": [],
   "source": [
    "reader = Reader(model=\"CERES\", exp=\"ebaf-toa41\", source=\"monthly\", configdir=configdir)\n",
    "CERES = reader.retrieve()\n",
    "CERES_not_fixed = reader.retrieve(fix=False)"
   ]
  },
  {
   "cell_type": "code",
   "execution_count": 19,
   "metadata": {},
   "outputs": [],
   "source": [
    "reader = Reader(model=\"CERES\", exp=\"ebaf-toa42\", source=\"monthly\",configdir=configdir)\n",
    "CERES = reader.retrieve()\n",
    "CERES_not_fixed = reader.retrieve(fix=False)"
   ]
  },
  {
   "cell_type": "code",
   "execution_count": null,
   "metadata": {},
   "outputs": [],
   "source": [
    "reader = Reader(model=\"CERES\", exp=\"ebaf-sfc41\", source=\"monthly\",configdir=configdir)\n",
    "CERES = reader.retrieve()\n",
    "CERES_not_fixed = reader.retrieve(fix=False)"
   ]
  },
  {
   "cell_type": "code",
   "execution_count": null,
   "metadata": {},
   "outputs": [],
   "source": [
    "reader = Reader(model=\"CERES\", exp=\"syn-toa41\", source=\"daily\", configdir=configdir)\n",
    "CERES = reader.retrieve()\n",
    "CERES_not_fixed = reader.retrieve(fix=False)"
   ]
  },
  {
   "cell_type": "code",
   "execution_count": null,
   "metadata": {},
   "outputs": [],
   "source": [
    "CERES"
   ]
  }
 ],
 "metadata": {
  "kernelspec": {
   "display_name": "tropical-rainfall",
   "language": "python",
   "name": "python3"
  },
  "language_info": {
   "codemirror_mode": {
    "name": "ipython",
    "version": 3
   },
   "file_extension": ".py",
   "mimetype": "text/x-python",
   "name": "python",
   "nbconvert_exporter": "python",
   "pygments_lexer": "ipython3",
   "version": "3.10.10"
  },
  "orig_nbformat": 4,
  "vscode": {
   "interpreter": {
    "hash": "07e98d85ba00412b6aa5125aae8e919611736cabcd7c227888eba392d8503989"
   }
  }
 },
 "nbformat": 4,
 "nbformat_minor": 2
}
