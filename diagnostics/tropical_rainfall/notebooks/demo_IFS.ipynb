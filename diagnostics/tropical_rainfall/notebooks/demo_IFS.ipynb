{
 "cells": [
  {
   "attachments": {},
   "cell_type": "markdown",
   "metadata": {},
   "source": [
    "# The demonstration of the tropical precipitation module on the different datasets"
   ]
  },
  {
   "attachments": {},
   "cell_type": "markdown",
   "metadata": {},
   "source": [
    "## Structure\n",
    " 1) Load of  packages, modules and data\n",
    " 2) Diagnostic with manual data preprocessing\n",
    " 3) Diagnostic with automatic data preprocessing\n",
    " 4) Calculation time expectation  \n",
    " 5) Plots and animations"
   ]
  },
  {
   "attachments": {},
   "cell_type": "markdown",
   "metadata": {},
   "source": [
    "## 1) Load of  packages, modules and data"
   ]
  },
  {
   "attachments": {},
   "cell_type": "markdown",
   "metadata": {},
   "source": [
    "###  Loading the necessary packages"
   ]
  },
  {
   "cell_type": "code",
   "execution_count": 1,
   "metadata": {},
   "outputs": [],
   "source": [
    "import dask\n",
    "\n",
    "import re\n",
    "import matplotlib as mpl\n",
    "# Define Agg as Backend for matplotlib when no X server is running\n",
    "mpl.use('Agg')\n",
    "#import socket\n",
    "import os\n",
    "import importlib\n",
    "\n",
    "#import inspect\n",
    "#import timeit\n",
    "import sys"
   ]
  },
  {
   "attachments": {},
   "cell_type": "markdown",
   "metadata": {},
   "source": [
    "### Storing the path to the current repository into the variable"
   ]
  },
  {
   "cell_type": "code",
   "execution_count": 2,
   "metadata": {},
   "outputs": [],
   "source": [
    "with os.popen(\"pwd \") as f:\n",
    "    _pwd = f.readline()\n",
    "\n",
    "pwd = re.split(r'[\\n]', _pwd)[0]"
   ]
  },
  {
   "attachments": {},
   "cell_type": "markdown",
   "metadata": {},
   "source": [
    "### Setting the path to the diagnostic repository "
   ]
  },
  {
   "cell_type": "code",
   "execution_count": 3,
   "metadata": {},
   "outputs": [],
   "source": [
    "sys.path.append(str(pwd)+'/../')\n",
    "import src.shared_func\n",
    "import src.tr_pr_mod"
   ]
  },
  {
   "attachments": {},
   "cell_type": "markdown",
   "metadata": {},
   "source": [
    "### Loading the extra function, which can be used in any diagnostic"
   ]
  },
  {
   "cell_type": "code",
   "execution_count": 4,
   "metadata": {},
   "outputs": [],
   "source": [
    "importlib.reload(src.shared_func)\n",
    "from  src.shared_func import time_interpreter,  animation_creator, image_creator,  xarray_attribute_update,  data_size"
   ]
  },
  {
   "attachments": {},
   "cell_type": "markdown",
   "metadata": {},
   "source": [
    "### Loading the tropical precipitation module"
   ]
  },
  {
   "cell_type": "code",
   "execution_count": 5,
   "metadata": {},
   "outputs": [],
   "source": [
    "importlib.reload(src.tr_pr_mod)\n",
    "from  src.tr_pr_mod import TR_PR_Diagnostic"
   ]
  },
  {
   "attachments": {},
   "cell_type": "markdown",
   "metadata": {},
   "source": [
    "### Importing the aqua module"
   ]
  },
  {
   "cell_type": "code",
   "execution_count": null,
   "metadata": {},
   "outputs": [],
   "source": [
    "import aqua"
   ]
  },
  {
   "cell_type": "code",
   "execution_count": null,
   "metadata": {},
   "outputs": [],
   "source": [
    "from aqua import Reader\n",
    "from aqua.reader import catalogue"
   ]
  },
  {
   "cell_type": "code",
   "execution_count": null,
   "metadata": {},
   "outputs": [],
   "source": [
    "configdir = '../../../config/'\n",
    "diagname  = 'tr_pr'\n",
    "machine   = 'levante'\n",
    "catalogue(configdir=configdir)"
   ]
  },
  {
   "attachments": {},
   "cell_type": "markdown",
   "metadata": {},
   "source": [
    "### IFS data"
   ]
  },
  {
   "cell_type": "code",
   "execution_count": null,
   "metadata": {},
   "outputs": [],
   "source": [
    "reader = Reader(model=\"IFS\", exp=\"tco3999-ng5\", source=\"ICMGG_atm2d\",configdir=configdir, regrid=\"r200\")\n",
    "IFS = reader.retrieve()"
   ]
  },
  {
   "cell_type": "code",
   "execution_count": null,
   "metadata": {},
   "outputs": [],
   "source": [
    "IFS"
   ]
  },
  {
   "attachments": {},
   "cell_type": "markdown",
   "metadata": {},
   "source": [
    "### Selecting the small part of dataset for tests"
   ]
  },
  {
   "cell_type": "code",
   "execution_count": null,
   "metadata": {},
   "outputs": [],
   "source": [
    "IFS_chunk_regrided = reader.regrid(IFS[\"tprate\"][10:15,:])"
   ]
  },
  {
   "cell_type": "code",
   "execution_count": null,
   "metadata": {},
   "outputs": [],
   "source": [
    "IFS_chunk_regrided "
   ]
  },
  {
   "attachments": {},
   "cell_type": "markdown",
   "metadata": {},
   "source": [
    "## 2) Diagnostic with manual data preprocessing"
   ]
  },
  {
   "attachments": {},
   "cell_type": "markdown",
   "metadata": {},
   "source": [
    "### Initializing the class object and Setting the class attributes"
   ]
  },
  {
   "cell_type": "code",
   "execution_count": 7,
   "metadata": {},
   "outputs": [],
   "source": [
    "diag = TR_PR_Diagnostic()\n",
    "\n",
    "# mandatory attributes\n",
    "diag.num_of_bins = 15\n",
    "diag.first_edge = 0\n",
    "diag.width_of_bin = 1*10**(-4)/diag.num_of_bins\n",
    "\n",
    "# other attributes of class whoch have a default value\n",
    "diag.trop_lat = 10\n",
    "diag.i_timestep = None\n",
    "diag.f_timestep = None\n",
    "diag.s_year = None\n",
    "diag.f_year = None \n",
    "diag.s_month = None\n",
    "diag.f_month = None "
   ]
  },
  {
   "attachments": {},
   "cell_type": "markdown",
   "metadata": {},
   "source": [
    "### OR"
   ]
  },
  {
   "cell_type": "code",
   "execution_count": 8,
   "metadata": {},
   "outputs": [],
   "source": [
    "diag = TR_PR_Diagnostic(num_of_bins = 15, first_edge = 0, width_of_bin = 1*10**(-6)/15)"
   ]
  },
  {
   "attachments": {},
   "cell_type": "markdown",
   "metadata": {},
   "source": [
    "### Original coordinates"
   ]
  },
  {
   "cell_type": "code",
   "execution_count": 14,
   "metadata": {},
   "outputs": [
    {
     "data": {
      "text/plain": [
       "('lat', 'lon')"
      ]
     },
     "execution_count": 14,
     "metadata": {},
     "output_type": "execute_result"
    }
   ],
   "source": [
    "diag.coordinate_names(IFS)"
   ]
  },
  {
   "attachments": {},
   "cell_type": "markdown",
   "metadata": {},
   "source": [
    "### Size of entire dataset"
   ]
  },
  {
   "cell_type": "code",
   "execution_count": 15,
   "metadata": {},
   "outputs": [
    {
     "data": {
      "text/plain": [
       "1732208720000"
      ]
     },
     "execution_count": 15,
     "metadata": {},
     "output_type": "execute_result"
    }
   ],
   "source": [
    "data_size(IFS)"
   ]
  },
  {
   "attachments": {},
   "cell_type": "markdown",
   "metadata": {},
   "source": [
    "### Timestep of dataset is"
   ]
  },
  {
   "cell_type": "code",
   "execution_count": 16,
   "metadata": {},
   "outputs": [
    {
     "data": {
      "text/plain": [
       "'1H'"
      ]
     },
     "execution_count": 16,
     "metadata": {},
     "output_type": "execute_result"
    }
   ],
   "source": [
    "time_interpreter(IFS)"
   ]
  },
  {
   "attachments": {},
   "cell_type": "markdown",
   "metadata": {},
   "source": [
    "### Coordinates after regrid"
   ]
  },
  {
   "cell_type": "code",
   "execution_count": 19,
   "metadata": {},
   "outputs": [
    {
     "data": {
      "text/plain": [
       "('lat', 'lon')"
      ]
     },
     "execution_count": 19,
     "metadata": {},
     "output_type": "execute_result"
    }
   ],
   "source": [
    "diag.coordinate_names(IFS_chunk_regrided)"
   ]
  },
  {
   "attachments": {},
   "cell_type": "markdown",
   "metadata": {},
   "source": [
    "### Size of selected chunk"
   ]
  },
  {
   "cell_type": "code",
   "execution_count": 20,
   "metadata": {},
   "outputs": [
    {
     "data": {
      "text/plain": [
       "81000"
      ]
     },
     "execution_count": 20,
     "metadata": {},
     "output_type": "execute_result"
    }
   ],
   "source": [
    "data_size(IFS_chunk_regrided)"
   ]
  },
  {
   "attachments": {},
   "cell_type": "markdown",
   "metadata": {},
   "source": [
    "### Attribute update"
   ]
  },
  {
   "cell_type": "code",
   "execution_count": 21,
   "metadata": {},
   "outputs": [],
   "source": [
    "IFS_chunk_regrided = xarray_attribute_update(IFS_chunk_regrided, IFS)"
   ]
  },
  {
   "attachments": {},
   "cell_type": "markdown",
   "metadata": {},
   "source": [
    "### Load selected chunk into a memory"
   ]
  },
  {
   "cell_type": "code",
   "execution_count": 22,
   "metadata": {},
   "outputs": [],
   "source": [
    "IFS_chunk_regrided = IFS_chunk_regrided.compute()"
   ]
  },
  {
   "attachments": {},
   "cell_type": "markdown",
   "metadata": {},
   "source": [
    "### Units of precepitation rate"
   ]
  },
  {
   "cell_type": "code",
   "execution_count": 23,
   "metadata": {},
   "outputs": [
    {
     "data": {
      "text/plain": [
       "'m s**-1'"
      ]
     },
     "execution_count": 23,
     "metadata": {},
     "output_type": "execute_result"
    }
   ],
   "source": [
    "IFS_chunk_regrided.attrs['units']"
   ]
  },
  {
   "cell_type": "code",
   "execution_count": 24,
   "metadata": {},
   "outputs": [
    {
     "data": {
      "text/plain": [
       "'1H'"
      ]
     },
     "execution_count": 24,
     "metadata": {},
     "output_type": "execute_result"
    }
   ],
   "source": [
    "time_interpreter(IFS_chunk_regrided) "
   ]
  },
  {
   "attachments": {},
   "cell_type": "markdown",
   "metadata": {},
   "source": [
    "### Tropical latitudes"
   ]
  },
  {
   "cell_type": "code",
   "execution_count": 25,
   "metadata": {},
   "outputs": [],
   "source": [
    "IFS_chunk_regrided_trop = diag.ds_per_lat_range(IFS_chunk_regrided)"
   ]
  },
  {
   "cell_type": "code",
   "execution_count": null,
   "metadata": {},
   "outputs": [],
   "source": [
    "IFS_chunk_regrided_trop"
   ]
  },
  {
   "cell_type": "code",
   "execution_count": null,
   "metadata": {},
   "outputs": [],
   "source": [
    "#IFS_chunk_regrided_trop = IFS_chunk_regrided_trop.compute()"
   ]
  },
  {
   "attachments": {},
   "cell_type": "markdown",
   "metadata": {},
   "source": [
    "### Size reduction"
   ]
  },
  {
   "cell_type": "code",
   "execution_count": 27,
   "metadata": {},
   "outputs": [
    {
     "data": {
      "text/plain": [
       "81000"
      ]
     },
     "execution_count": 27,
     "metadata": {},
     "output_type": "execute_result"
    }
   ],
   "source": [
    "data_size(IFS_chunk_regrided)"
   ]
  },
  {
   "cell_type": "code",
   "execution_count": 28,
   "metadata": {},
   "outputs": [
    {
     "data": {
      "text/plain": [
       "9000"
      ]
     },
     "execution_count": 28,
     "metadata": {},
     "output_type": "execute_result"
    }
   ],
   "source": [
    "data_size(IFS_chunk_regrided_trop)"
   ]
  },
  {
   "attachments": {},
   "cell_type": "markdown",
   "metadata": {},
   "source": [
    "### Fastest histogram"
   ]
  },
  {
   "cell_type": "code",
   "execution_count": 29,
   "metadata": {},
   "outputs": [
    {
     "data": {
      "text/html": [
       "<div><svg style=\"position: absolute; width: 0; height: 0; overflow: hidden\">\n",
       "<defs>\n",
       "<symbol id=\"icon-database\" viewBox=\"0 0 32 32\">\n",
       "<path d=\"M16 0c-8.837 0-16 2.239-16 5v4c0 2.761 7.163 5 16 5s16-2.239 16-5v-4c0-2.761-7.163-5-16-5z\"></path>\n",
       "<path d=\"M16 17c-8.837 0-16-2.239-16-5v6c0 2.761 7.163 5 16 5s16-2.239 16-5v-6c0 2.761-7.163 5-16 5z\"></path>\n",
       "<path d=\"M16 26c-8.837 0-16-2.239-16-5v6c0 2.761 7.163 5 16 5s16-2.239 16-5v-6c0 2.761-7.163 5-16 5z\"></path>\n",
       "</symbol>\n",
       "<symbol id=\"icon-file-text2\" viewBox=\"0 0 32 32\">\n",
       "<path d=\"M28.681 7.159c-0.694-0.947-1.662-2.053-2.724-3.116s-2.169-2.030-3.116-2.724c-1.612-1.182-2.393-1.319-2.841-1.319h-15.5c-1.378 0-2.5 1.121-2.5 2.5v27c0 1.378 1.122 2.5 2.5 2.5h23c1.378 0 2.5-1.122 2.5-2.5v-19.5c0-0.448-0.137-1.23-1.319-2.841zM24.543 5.457c0.959 0.959 1.712 1.825 2.268 2.543h-4.811v-4.811c0.718 0.556 1.584 1.309 2.543 2.268zM28 29.5c0 0.271-0.229 0.5-0.5 0.5h-23c-0.271 0-0.5-0.229-0.5-0.5v-27c0-0.271 0.229-0.5 0.5-0.5 0 0 15.499-0 15.5 0v7c0 0.552 0.448 1 1 1h7v19.5z\"></path>\n",
       "<path d=\"M23 26h-14c-0.552 0-1-0.448-1-1s0.448-1 1-1h14c0.552 0 1 0.448 1 1s-0.448 1-1 1z\"></path>\n",
       "<path d=\"M23 22h-14c-0.552 0-1-0.448-1-1s0.448-1 1-1h14c0.552 0 1 0.448 1 1s-0.448 1-1 1z\"></path>\n",
       "<path d=\"M23 18h-14c-0.552 0-1-0.448-1-1s0.448-1 1-1h14c0.552 0 1 0.448 1 1s-0.448 1-1 1z\"></path>\n",
       "</symbol>\n",
       "</defs>\n",
       "</svg>\n",
       "<style>/* CSS stylesheet for displaying xarray objects in jupyterlab.\n",
       " *\n",
       " */\n",
       "\n",
       ":root {\n",
       "  --xr-font-color0: var(--jp-content-font-color0, rgba(0, 0, 0, 1));\n",
       "  --xr-font-color2: var(--jp-content-font-color2, rgba(0, 0, 0, 0.54));\n",
       "  --xr-font-color3: var(--jp-content-font-color3, rgba(0, 0, 0, 0.38));\n",
       "  --xr-border-color: var(--jp-border-color2, #e0e0e0);\n",
       "  --xr-disabled-color: var(--jp-layout-color3, #bdbdbd);\n",
       "  --xr-background-color: var(--jp-layout-color0, white);\n",
       "  --xr-background-color-row-even: var(--jp-layout-color1, white);\n",
       "  --xr-background-color-row-odd: var(--jp-layout-color2, #eeeeee);\n",
       "}\n",
       "\n",
       "html[theme=dark],\n",
       "body[data-theme=dark],\n",
       "body.vscode-dark {\n",
       "  --xr-font-color0: rgba(255, 255, 255, 1);\n",
       "  --xr-font-color2: rgba(255, 255, 255, 0.54);\n",
       "  --xr-font-color3: rgba(255, 255, 255, 0.38);\n",
       "  --xr-border-color: #1F1F1F;\n",
       "  --xr-disabled-color: #515151;\n",
       "  --xr-background-color: #111111;\n",
       "  --xr-background-color-row-even: #111111;\n",
       "  --xr-background-color-row-odd: #313131;\n",
       "}\n",
       "\n",
       ".xr-wrap {\n",
       "  display: block !important;\n",
       "  min-width: 300px;\n",
       "  max-width: 700px;\n",
       "}\n",
       "\n",
       ".xr-text-repr-fallback {\n",
       "  /* fallback to plain text repr when CSS is not injected (untrusted notebook) */\n",
       "  display: none;\n",
       "}\n",
       "\n",
       ".xr-header {\n",
       "  padding-top: 6px;\n",
       "  padding-bottom: 6px;\n",
       "  margin-bottom: 4px;\n",
       "  border-bottom: solid 1px var(--xr-border-color);\n",
       "}\n",
       "\n",
       ".xr-header > div,\n",
       ".xr-header > ul {\n",
       "  display: inline;\n",
       "  margin-top: 0;\n",
       "  margin-bottom: 0;\n",
       "}\n",
       "\n",
       ".xr-obj-type,\n",
       ".xr-array-name {\n",
       "  margin-left: 2px;\n",
       "  margin-right: 10px;\n",
       "}\n",
       "\n",
       ".xr-obj-type {\n",
       "  color: var(--xr-font-color2);\n",
       "}\n",
       "\n",
       ".xr-sections {\n",
       "  padding-left: 0 !important;\n",
       "  display: grid;\n",
       "  grid-template-columns: 150px auto auto 1fr 20px 20px;\n",
       "}\n",
       "\n",
       ".xr-section-item {\n",
       "  display: contents;\n",
       "}\n",
       "\n",
       ".xr-section-item input {\n",
       "  display: none;\n",
       "}\n",
       "\n",
       ".xr-section-item input + label {\n",
       "  color: var(--xr-disabled-color);\n",
       "}\n",
       "\n",
       ".xr-section-item input:enabled + label {\n",
       "  cursor: pointer;\n",
       "  color: var(--xr-font-color2);\n",
       "}\n",
       "\n",
       ".xr-section-item input:enabled + label:hover {\n",
       "  color: var(--xr-font-color0);\n",
       "}\n",
       "\n",
       ".xr-section-summary {\n",
       "  grid-column: 1;\n",
       "  color: var(--xr-font-color2);\n",
       "  font-weight: 500;\n",
       "}\n",
       "\n",
       ".xr-section-summary > span {\n",
       "  display: inline-block;\n",
       "  padding-left: 0.5em;\n",
       "}\n",
       "\n",
       ".xr-section-summary-in:disabled + label {\n",
       "  color: var(--xr-font-color2);\n",
       "}\n",
       "\n",
       ".xr-section-summary-in + label:before {\n",
       "  display: inline-block;\n",
       "  content: '►';\n",
       "  font-size: 11px;\n",
       "  width: 15px;\n",
       "  text-align: center;\n",
       "}\n",
       "\n",
       ".xr-section-summary-in:disabled + label:before {\n",
       "  color: var(--xr-disabled-color);\n",
       "}\n",
       "\n",
       ".xr-section-summary-in:checked + label:before {\n",
       "  content: '▼';\n",
       "}\n",
       "\n",
       ".xr-section-summary-in:checked + label > span {\n",
       "  display: none;\n",
       "}\n",
       "\n",
       ".xr-section-summary,\n",
       ".xr-section-inline-details {\n",
       "  padding-top: 4px;\n",
       "  padding-bottom: 4px;\n",
       "}\n",
       "\n",
       ".xr-section-inline-details {\n",
       "  grid-column: 2 / -1;\n",
       "}\n",
       "\n",
       ".xr-section-details {\n",
       "  display: none;\n",
       "  grid-column: 1 / -1;\n",
       "  margin-bottom: 5px;\n",
       "}\n",
       "\n",
       ".xr-section-summary-in:checked ~ .xr-section-details {\n",
       "  display: contents;\n",
       "}\n",
       "\n",
       ".xr-array-wrap {\n",
       "  grid-column: 1 / -1;\n",
       "  display: grid;\n",
       "  grid-template-columns: 20px auto;\n",
       "}\n",
       "\n",
       ".xr-array-wrap > label {\n",
       "  grid-column: 1;\n",
       "  vertical-align: top;\n",
       "}\n",
       "\n",
       ".xr-preview {\n",
       "  color: var(--xr-font-color3);\n",
       "}\n",
       "\n",
       ".xr-array-preview,\n",
       ".xr-array-data {\n",
       "  padding: 0 5px !important;\n",
       "  grid-column: 2;\n",
       "}\n",
       "\n",
       ".xr-array-data,\n",
       ".xr-array-in:checked ~ .xr-array-preview {\n",
       "  display: none;\n",
       "}\n",
       "\n",
       ".xr-array-in:checked ~ .xr-array-data,\n",
       ".xr-array-preview {\n",
       "  display: inline-block;\n",
       "}\n",
       "\n",
       ".xr-dim-list {\n",
       "  display: inline-block !important;\n",
       "  list-style: none;\n",
       "  padding: 0 !important;\n",
       "  margin: 0;\n",
       "}\n",
       "\n",
       ".xr-dim-list li {\n",
       "  display: inline-block;\n",
       "  padding: 0;\n",
       "  margin: 0;\n",
       "}\n",
       "\n",
       ".xr-dim-list:before {\n",
       "  content: '(';\n",
       "}\n",
       "\n",
       ".xr-dim-list:after {\n",
       "  content: ')';\n",
       "}\n",
       "\n",
       ".xr-dim-list li:not(:last-child):after {\n",
       "  content: ',';\n",
       "  padding-right: 5px;\n",
       "}\n",
       "\n",
       ".xr-has-index {\n",
       "  font-weight: bold;\n",
       "}\n",
       "\n",
       ".xr-var-list,\n",
       ".xr-var-item {\n",
       "  display: contents;\n",
       "}\n",
       "\n",
       ".xr-var-item > div,\n",
       ".xr-var-item label,\n",
       ".xr-var-item > .xr-var-name span {\n",
       "  background-color: var(--xr-background-color-row-even);\n",
       "  margin-bottom: 0;\n",
       "}\n",
       "\n",
       ".xr-var-item > .xr-var-name:hover span {\n",
       "  padding-right: 5px;\n",
       "}\n",
       "\n",
       ".xr-var-list > li:nth-child(odd) > div,\n",
       ".xr-var-list > li:nth-child(odd) > label,\n",
       ".xr-var-list > li:nth-child(odd) > .xr-var-name span {\n",
       "  background-color: var(--xr-background-color-row-odd);\n",
       "}\n",
       "\n",
       ".xr-var-name {\n",
       "  grid-column: 1;\n",
       "}\n",
       "\n",
       ".xr-var-dims {\n",
       "  grid-column: 2;\n",
       "}\n",
       "\n",
       ".xr-var-dtype {\n",
       "  grid-column: 3;\n",
       "  text-align: right;\n",
       "  color: var(--xr-font-color2);\n",
       "}\n",
       "\n",
       ".xr-var-preview {\n",
       "  grid-column: 4;\n",
       "}\n",
       "\n",
       ".xr-index-preview {\n",
       "  grid-column: 2 / 5;\n",
       "  color: var(--xr-font-color2);\n",
       "}\n",
       "\n",
       ".xr-var-name,\n",
       ".xr-var-dims,\n",
       ".xr-var-dtype,\n",
       ".xr-preview,\n",
       ".xr-attrs dt {\n",
       "  white-space: nowrap;\n",
       "  overflow: hidden;\n",
       "  text-overflow: ellipsis;\n",
       "  padding-right: 10px;\n",
       "}\n",
       "\n",
       ".xr-var-name:hover,\n",
       ".xr-var-dims:hover,\n",
       ".xr-var-dtype:hover,\n",
       ".xr-attrs dt:hover {\n",
       "  overflow: visible;\n",
       "  width: auto;\n",
       "  z-index: 1;\n",
       "}\n",
       "\n",
       ".xr-var-attrs,\n",
       ".xr-var-data,\n",
       ".xr-index-data {\n",
       "  display: none;\n",
       "  background-color: var(--xr-background-color) !important;\n",
       "  padding-bottom: 5px !important;\n",
       "}\n",
       "\n",
       ".xr-var-attrs-in:checked ~ .xr-var-attrs,\n",
       ".xr-var-data-in:checked ~ .xr-var-data,\n",
       ".xr-index-data-in:checked ~ .xr-index-data {\n",
       "  display: block;\n",
       "}\n",
       "\n",
       ".xr-var-data > table {\n",
       "  float: right;\n",
       "}\n",
       "\n",
       ".xr-var-name span,\n",
       ".xr-var-data,\n",
       ".xr-index-name div,\n",
       ".xr-index-data,\n",
       ".xr-attrs {\n",
       "  padding-left: 25px !important;\n",
       "}\n",
       "\n",
       ".xr-attrs,\n",
       ".xr-var-attrs,\n",
       ".xr-var-data,\n",
       ".xr-index-data {\n",
       "  grid-column: 1 / -1;\n",
       "}\n",
       "\n",
       "dl.xr-attrs {\n",
       "  padding: 0;\n",
       "  margin: 0;\n",
       "  display: grid;\n",
       "  grid-template-columns: 125px auto;\n",
       "}\n",
       "\n",
       ".xr-attrs dt,\n",
       ".xr-attrs dd {\n",
       "  padding: 0;\n",
       "  margin: 0;\n",
       "  float: left;\n",
       "  padding-right: 10px;\n",
       "  width: auto;\n",
       "}\n",
       "\n",
       ".xr-attrs dt {\n",
       "  font-weight: normal;\n",
       "  grid-column: 1;\n",
       "}\n",
       "\n",
       ".xr-attrs dt:hover span {\n",
       "  display: inline-block;\n",
       "  background: var(--xr-background-color);\n",
       "  padding-right: 10px;\n",
       "}\n",
       "\n",
       ".xr-attrs dd {\n",
       "  grid-column: 2;\n",
       "  white-space: pre-wrap;\n",
       "  word-break: break-all;\n",
       "}\n",
       "\n",
       ".xr-icon-database,\n",
       ".xr-icon-file-text2,\n",
       ".xr-no-icon {\n",
       "  display: inline-block;\n",
       "  vertical-align: middle;\n",
       "  width: 1em;\n",
       "  height: 1.5em !important;\n",
       "  stroke-width: 0;\n",
       "  stroke: currentColor;\n",
       "  fill: currentColor;\n",
       "}\n",
       "</style><pre class='xr-text-repr-fallback'>&lt;xarray.DataArray (bin: 15)&gt;\n",
       "array([7.3648e+04, 2.9230e+03, 1.3840e+03, 8.4800e+02, 5.3300e+02,\n",
       "       4.0500e+02, 2.8000e+02, 2.0600e+02, 1.8000e+02, 1.1500e+02,\n",
       "       1.0500e+02, 8.3000e+01, 6.1000e+01, 3.9000e+01, 5.3000e+01])\n",
       "Coordinates:\n",
       "  * bin      (bin) float64 0.0 6.667e-08 1.333e-07 ... 8e-07 8.667e-07 9.333e-07\n",
       "Attributes: (12/28)\n",
       "    paramId:                    172228\n",
       "    dataType:                   fc\n",
       "    numberOfPoints:             64144000\n",
       "    typeOfLevel:                surface\n",
       "    stepUnits:                  1\n",
       "    stepType:                   instant\n",
       "    ...                         ...\n",
       "    units_fixed:                1\n",
       "    regridded:                  1\n",
       "    edition:                    1\n",
       "    centre:                     ecmf\n",
       "    centreDescription:          European Centre for Medium-Range Weather Fore...\n",
       "    subCentre:                  0</pre><div class='xr-wrap' style='display:none'><div class='xr-header'><div class='xr-obj-type'>xarray.DataArray</div><div class='xr-array-name'></div><ul class='xr-dim-list'><li><span class='xr-has-index'>bin</span>: 15</li></ul></div><ul class='xr-sections'><li class='xr-section-item'><div class='xr-array-wrap'><input id='section-31e97205-6959-41ed-af1b-a872a353ec8f' class='xr-array-in' type='checkbox' checked><label for='section-31e97205-6959-41ed-af1b-a872a353ec8f' title='Show/hide data repr'><svg class='icon xr-icon-database'><use xlink:href='#icon-database'></use></svg></label><div class='xr-array-preview xr-preview'><span>7.365e+04 2.923e+03 1.384e+03 848.0 533.0 ... 83.0 61.0 39.0 53.0</span></div><div class='xr-array-data'><pre>array([7.3648e+04, 2.9230e+03, 1.3840e+03, 8.4800e+02, 5.3300e+02,\n",
       "       4.0500e+02, 2.8000e+02, 2.0600e+02, 1.8000e+02, 1.1500e+02,\n",
       "       1.0500e+02, 8.3000e+01, 6.1000e+01, 3.9000e+01, 5.3000e+01])</pre></div></div></li><li class='xr-section-item'><input id='section-879efc24-49e3-4cf7-a136-14264bfde566' class='xr-section-summary-in' type='checkbox'  checked><label for='section-879efc24-49e3-4cf7-a136-14264bfde566' class='xr-section-summary' >Coordinates: <span>(1)</span></label><div class='xr-section-inline-details'></div><div class='xr-section-details'><ul class='xr-var-list'><li class='xr-var-item'><div class='xr-var-name'><span class='xr-has-index'>bin</span></div><div class='xr-var-dims'>(bin)</div><div class='xr-var-dtype'>float64</div><div class='xr-var-preview xr-preview'>0.0 6.667e-08 ... 9.333e-07</div><input id='attrs-1204ceec-2990-4791-bc7c-c31ced9fce09' class='xr-var-attrs-in' type='checkbox' disabled><label for='attrs-1204ceec-2990-4791-bc7c-c31ced9fce09' title='Show/Hide attributes'><svg class='icon xr-icon-file-text2'><use xlink:href='#icon-file-text2'></use></svg></label><input id='data-2ef12f94-c540-4526-8a0b-efbadbf3051d' class='xr-var-data-in' type='checkbox'><label for='data-2ef12f94-c540-4526-8a0b-efbadbf3051d' title='Show/Hide data repr'><svg class='icon xr-icon-database'><use xlink:href='#icon-database'></use></svg></label><div class='xr-var-attrs'><dl class='xr-attrs'></dl></div><div class='xr-var-data'><pre>array([0.000000e+00, 6.666667e-08, 1.333333e-07, 2.000000e-07, 2.666667e-07,\n",
       "       3.333333e-07, 4.000000e-07, 4.666667e-07, 5.333333e-07, 6.000000e-07,\n",
       "       6.666667e-07, 7.333333e-07, 8.000000e-07, 8.666667e-07, 9.333333e-07])</pre></div></li></ul></div></li><li class='xr-section-item'><input id='section-05b91ff0-0e0d-4ffa-82c9-0aa0065fd7eb' class='xr-section-summary-in' type='checkbox'  ><label for='section-05b91ff0-0e0d-4ffa-82c9-0aa0065fd7eb' class='xr-section-summary' >Indexes: <span>(1)</span></label><div class='xr-section-inline-details'></div><div class='xr-section-details'><ul class='xr-var-list'><li class='xr-var-item'><div class='xr-index-name'><div>bin</div></div><div class='xr-index-preview'>PandasIndex</div><div></div><input id='index-354b4043-afb5-41aa-99e3-80a9aa44df3a' class='xr-index-data-in' type='checkbox'/><label for='index-354b4043-afb5-41aa-99e3-80a9aa44df3a' title='Show/Hide index repr'><svg class='icon xr-icon-database'><use xlink:href='#icon-database'></use></svg></label><div class='xr-index-data'><pre>PandasIndex(Float64Index([                   0.0,  6.666666666666667e-08,\n",
       "              1.3333333333333334e-07,                  2e-07,\n",
       "              2.6666666666666667e-07, 3.3333333333333335e-07,\n",
       "                               4e-07, 4.6666666666666666e-07,\n",
       "               5.333333333333333e-07,                  6e-07,\n",
       "               6.666666666666667e-07,  7.333333333333333e-07,\n",
       "                               8e-07,  8.666666666666667e-07,\n",
       "               9.333333333333333e-07],\n",
       "             dtype=&#x27;float64&#x27;, name=&#x27;bin&#x27;))</pre></div></li></ul></div></li><li class='xr-section-item'><input id='section-b2d6a1ab-086c-4a11-bf0d-fa85385b711d' class='xr-section-summary-in' type='checkbox'  ><label for='section-b2d6a1ab-086c-4a11-bf0d-fa85385b711d' class='xr-section-summary' >Attributes: <span>(28)</span></label><div class='xr-section-inline-details'></div><div class='xr-section-details'><dl class='xr-attrs'><dt><span>paramId :</span></dt><dd>172228</dd><dt><span>dataType :</span></dt><dd>fc</dd><dt><span>numberOfPoints :</span></dt><dd>64144000</dd><dt><span>typeOfLevel :</span></dt><dd>surface</dd><dt><span>stepUnits :</span></dt><dd>1</dd><dt><span>stepType :</span></dt><dd>instant</dd><dt><span>gridType :</span></dt><dd>reduced_gg</dd><dt><span>shortName :</span></dt><dd>tprate</dd><dt><span>units :</span></dt><dd>m s**-1</dd><dt><span>name :</span></dt><dd>Total precipitation</dd><dt><span>cfVarName :</span></dt><dd>tprate</dd><dt><span>missingValue :</span></dt><dd>9999</dd><dt><span>totalNumber :</span></dt><dd>0</dd><dt><span>NV :</span></dt><dd>0</dd><dt><span>gridDefinitionDescription :</span></dt><dd>Gaussian Latitude/Longitude Grid</dd><dt><span>history :</span></dt><dd>2023-04-14 20:00:00 variable renamed by AQUA fixer;\n",
       "2023-04-14 20:00:00 decumulated by AQUA fixer;\n",
       "2023-04-14 20:00:00 variable decumulated by AQUA fixer;\n",
       "2023-04-14 20:00:03 units changed by AQUA fixer;\n",
       "2023-04-14 20:01:20 regridded by AQUA fixer;\n",
       "🪄🧙‍♂️🔮 magic dataset assembly provided by gribscan.IFSMagician\r\n",
       "2023-04-14 20:00:00 retrieved by AQUA fixer;\n",
       "2023-04-14 20:00:03 coordinates adjusted by AQUA fixer;\n",
       "</dd><dt><span>long_name :</span></dt><dd>Mean total precipitation rate</dd><dt><span>target_units :</span></dt><dd>m s**-1</dd><dt><span>factor :</span></dt><dd>0.0002777777777777778</dd><dt><span>offset :</span></dt><dd>0</dd><dt><span>decumulated :</span></dt><dd>1</dd><dt><span>src_units :</span></dt><dd>m</dd><dt><span>units_fixed :</span></dt><dd>1</dd><dt><span>regridded :</span></dt><dd>1</dd><dt><span>edition :</span></dt><dd>1</dd><dt><span>centre :</span></dt><dd>ecmf</dd><dt><span>centreDescription :</span></dt><dd>European Centre for Medium-Range Weather Forecasts</dd><dt><span>subCentre :</span></dt><dd>0</dd></dl></div></li></ul></div></div>"
      ],
      "text/plain": [
       "<xarray.DataArray (bin: 15)>\n",
       "array([7.3648e+04, 2.9230e+03, 1.3840e+03, 8.4800e+02, 5.3300e+02,\n",
       "       4.0500e+02, 2.8000e+02, 2.0600e+02, 1.8000e+02, 1.1500e+02,\n",
       "       1.0500e+02, 8.3000e+01, 6.1000e+01, 3.9000e+01, 5.3000e+01])\n",
       "Coordinates:\n",
       "  * bin      (bin) float64 0.0 6.667e-08 1.333e-07 ... 8e-07 8.667e-07 9.333e-07\n",
       "Attributes: (12/28)\n",
       "    paramId:                    172228\n",
       "    dataType:                   fc\n",
       "    numberOfPoints:             64144000\n",
       "    typeOfLevel:                surface\n",
       "    stepUnits:                  1\n",
       "    stepType:                   instant\n",
       "    ...                         ...\n",
       "    units_fixed:                1\n",
       "    regridded:                  1\n",
       "    edition:                    1\n",
       "    centre:                     ecmf\n",
       "    centreDescription:          European Centre for Medium-Range Weather Fore...\n",
       "    subCentre:                  0"
      ]
     },
     "execution_count": 29,
     "metadata": {},
     "output_type": "execute_result"
    }
   ],
   "source": [
    "hist_IFS  = diag.hist1d_fast(IFS_chunk_regrided,  preprocess = False)\n",
    "hist_IFS"
   ]
  },
  {
   "cell_type": "code",
   "execution_count": 30,
   "metadata": {},
   "outputs": [
    {
     "data": {
      "text/html": [
       "<div><svg style=\"position: absolute; width: 0; height: 0; overflow: hidden\">\n",
       "<defs>\n",
       "<symbol id=\"icon-database\" viewBox=\"0 0 32 32\">\n",
       "<path d=\"M16 0c-8.837 0-16 2.239-16 5v4c0 2.761 7.163 5 16 5s16-2.239 16-5v-4c0-2.761-7.163-5-16-5z\"></path>\n",
       "<path d=\"M16 17c-8.837 0-16-2.239-16-5v6c0 2.761 7.163 5 16 5s16-2.239 16-5v-6c0 2.761-7.163 5-16 5z\"></path>\n",
       "<path d=\"M16 26c-8.837 0-16-2.239-16-5v6c0 2.761 7.163 5 16 5s16-2.239 16-5v-6c0 2.761-7.163 5-16 5z\"></path>\n",
       "</symbol>\n",
       "<symbol id=\"icon-file-text2\" viewBox=\"0 0 32 32\">\n",
       "<path d=\"M28.681 7.159c-0.694-0.947-1.662-2.053-2.724-3.116s-2.169-2.030-3.116-2.724c-1.612-1.182-2.393-1.319-2.841-1.319h-15.5c-1.378 0-2.5 1.121-2.5 2.5v27c0 1.378 1.122 2.5 2.5 2.5h23c1.378 0 2.5-1.122 2.5-2.5v-19.5c0-0.448-0.137-1.23-1.319-2.841zM24.543 5.457c0.959 0.959 1.712 1.825 2.268 2.543h-4.811v-4.811c0.718 0.556 1.584 1.309 2.543 2.268zM28 29.5c0 0.271-0.229 0.5-0.5 0.5h-23c-0.271 0-0.5-0.229-0.5-0.5v-27c0-0.271 0.229-0.5 0.5-0.5 0 0 15.499-0 15.5 0v7c0 0.552 0.448 1 1 1h7v19.5z\"></path>\n",
       "<path d=\"M23 26h-14c-0.552 0-1-0.448-1-1s0.448-1 1-1h14c0.552 0 1 0.448 1 1s-0.448 1-1 1z\"></path>\n",
       "<path d=\"M23 22h-14c-0.552 0-1-0.448-1-1s0.448-1 1-1h14c0.552 0 1 0.448 1 1s-0.448 1-1 1z\"></path>\n",
       "<path d=\"M23 18h-14c-0.552 0-1-0.448-1-1s0.448-1 1-1h14c0.552 0 1 0.448 1 1s-0.448 1-1 1z\"></path>\n",
       "</symbol>\n",
       "</defs>\n",
       "</svg>\n",
       "<style>/* CSS stylesheet for displaying xarray objects in jupyterlab.\n",
       " *\n",
       " */\n",
       "\n",
       ":root {\n",
       "  --xr-font-color0: var(--jp-content-font-color0, rgba(0, 0, 0, 1));\n",
       "  --xr-font-color2: var(--jp-content-font-color2, rgba(0, 0, 0, 0.54));\n",
       "  --xr-font-color3: var(--jp-content-font-color3, rgba(0, 0, 0, 0.38));\n",
       "  --xr-border-color: var(--jp-border-color2, #e0e0e0);\n",
       "  --xr-disabled-color: var(--jp-layout-color3, #bdbdbd);\n",
       "  --xr-background-color: var(--jp-layout-color0, white);\n",
       "  --xr-background-color-row-even: var(--jp-layout-color1, white);\n",
       "  --xr-background-color-row-odd: var(--jp-layout-color2, #eeeeee);\n",
       "}\n",
       "\n",
       "html[theme=dark],\n",
       "body[data-theme=dark],\n",
       "body.vscode-dark {\n",
       "  --xr-font-color0: rgba(255, 255, 255, 1);\n",
       "  --xr-font-color2: rgba(255, 255, 255, 0.54);\n",
       "  --xr-font-color3: rgba(255, 255, 255, 0.38);\n",
       "  --xr-border-color: #1F1F1F;\n",
       "  --xr-disabled-color: #515151;\n",
       "  --xr-background-color: #111111;\n",
       "  --xr-background-color-row-even: #111111;\n",
       "  --xr-background-color-row-odd: #313131;\n",
       "}\n",
       "\n",
       ".xr-wrap {\n",
       "  display: block !important;\n",
       "  min-width: 300px;\n",
       "  max-width: 700px;\n",
       "}\n",
       "\n",
       ".xr-text-repr-fallback {\n",
       "  /* fallback to plain text repr when CSS is not injected (untrusted notebook) */\n",
       "  display: none;\n",
       "}\n",
       "\n",
       ".xr-header {\n",
       "  padding-top: 6px;\n",
       "  padding-bottom: 6px;\n",
       "  margin-bottom: 4px;\n",
       "  border-bottom: solid 1px var(--xr-border-color);\n",
       "}\n",
       "\n",
       ".xr-header > div,\n",
       ".xr-header > ul {\n",
       "  display: inline;\n",
       "  margin-top: 0;\n",
       "  margin-bottom: 0;\n",
       "}\n",
       "\n",
       ".xr-obj-type,\n",
       ".xr-array-name {\n",
       "  margin-left: 2px;\n",
       "  margin-right: 10px;\n",
       "}\n",
       "\n",
       ".xr-obj-type {\n",
       "  color: var(--xr-font-color2);\n",
       "}\n",
       "\n",
       ".xr-sections {\n",
       "  padding-left: 0 !important;\n",
       "  display: grid;\n",
       "  grid-template-columns: 150px auto auto 1fr 20px 20px;\n",
       "}\n",
       "\n",
       ".xr-section-item {\n",
       "  display: contents;\n",
       "}\n",
       "\n",
       ".xr-section-item input {\n",
       "  display: none;\n",
       "}\n",
       "\n",
       ".xr-section-item input + label {\n",
       "  color: var(--xr-disabled-color);\n",
       "}\n",
       "\n",
       ".xr-section-item input:enabled + label {\n",
       "  cursor: pointer;\n",
       "  color: var(--xr-font-color2);\n",
       "}\n",
       "\n",
       ".xr-section-item input:enabled + label:hover {\n",
       "  color: var(--xr-font-color0);\n",
       "}\n",
       "\n",
       ".xr-section-summary {\n",
       "  grid-column: 1;\n",
       "  color: var(--xr-font-color2);\n",
       "  font-weight: 500;\n",
       "}\n",
       "\n",
       ".xr-section-summary > span {\n",
       "  display: inline-block;\n",
       "  padding-left: 0.5em;\n",
       "}\n",
       "\n",
       ".xr-section-summary-in:disabled + label {\n",
       "  color: var(--xr-font-color2);\n",
       "}\n",
       "\n",
       ".xr-section-summary-in + label:before {\n",
       "  display: inline-block;\n",
       "  content: '►';\n",
       "  font-size: 11px;\n",
       "  width: 15px;\n",
       "  text-align: center;\n",
       "}\n",
       "\n",
       ".xr-section-summary-in:disabled + label:before {\n",
       "  color: var(--xr-disabled-color);\n",
       "}\n",
       "\n",
       ".xr-section-summary-in:checked + label:before {\n",
       "  content: '▼';\n",
       "}\n",
       "\n",
       ".xr-section-summary-in:checked + label > span {\n",
       "  display: none;\n",
       "}\n",
       "\n",
       ".xr-section-summary,\n",
       ".xr-section-inline-details {\n",
       "  padding-top: 4px;\n",
       "  padding-bottom: 4px;\n",
       "}\n",
       "\n",
       ".xr-section-inline-details {\n",
       "  grid-column: 2 / -1;\n",
       "}\n",
       "\n",
       ".xr-section-details {\n",
       "  display: none;\n",
       "  grid-column: 1 / -1;\n",
       "  margin-bottom: 5px;\n",
       "}\n",
       "\n",
       ".xr-section-summary-in:checked ~ .xr-section-details {\n",
       "  display: contents;\n",
       "}\n",
       "\n",
       ".xr-array-wrap {\n",
       "  grid-column: 1 / -1;\n",
       "  display: grid;\n",
       "  grid-template-columns: 20px auto;\n",
       "}\n",
       "\n",
       ".xr-array-wrap > label {\n",
       "  grid-column: 1;\n",
       "  vertical-align: top;\n",
       "}\n",
       "\n",
       ".xr-preview {\n",
       "  color: var(--xr-font-color3);\n",
       "}\n",
       "\n",
       ".xr-array-preview,\n",
       ".xr-array-data {\n",
       "  padding: 0 5px !important;\n",
       "  grid-column: 2;\n",
       "}\n",
       "\n",
       ".xr-array-data,\n",
       ".xr-array-in:checked ~ .xr-array-preview {\n",
       "  display: none;\n",
       "}\n",
       "\n",
       ".xr-array-in:checked ~ .xr-array-data,\n",
       ".xr-array-preview {\n",
       "  display: inline-block;\n",
       "}\n",
       "\n",
       ".xr-dim-list {\n",
       "  display: inline-block !important;\n",
       "  list-style: none;\n",
       "  padding: 0 !important;\n",
       "  margin: 0;\n",
       "}\n",
       "\n",
       ".xr-dim-list li {\n",
       "  display: inline-block;\n",
       "  padding: 0;\n",
       "  margin: 0;\n",
       "}\n",
       "\n",
       ".xr-dim-list:before {\n",
       "  content: '(';\n",
       "}\n",
       "\n",
       ".xr-dim-list:after {\n",
       "  content: ')';\n",
       "}\n",
       "\n",
       ".xr-dim-list li:not(:last-child):after {\n",
       "  content: ',';\n",
       "  padding-right: 5px;\n",
       "}\n",
       "\n",
       ".xr-has-index {\n",
       "  font-weight: bold;\n",
       "}\n",
       "\n",
       ".xr-var-list,\n",
       ".xr-var-item {\n",
       "  display: contents;\n",
       "}\n",
       "\n",
       ".xr-var-item > div,\n",
       ".xr-var-item label,\n",
       ".xr-var-item > .xr-var-name span {\n",
       "  background-color: var(--xr-background-color-row-even);\n",
       "  margin-bottom: 0;\n",
       "}\n",
       "\n",
       ".xr-var-item > .xr-var-name:hover span {\n",
       "  padding-right: 5px;\n",
       "}\n",
       "\n",
       ".xr-var-list > li:nth-child(odd) > div,\n",
       ".xr-var-list > li:nth-child(odd) > label,\n",
       ".xr-var-list > li:nth-child(odd) > .xr-var-name span {\n",
       "  background-color: var(--xr-background-color-row-odd);\n",
       "}\n",
       "\n",
       ".xr-var-name {\n",
       "  grid-column: 1;\n",
       "}\n",
       "\n",
       ".xr-var-dims {\n",
       "  grid-column: 2;\n",
       "}\n",
       "\n",
       ".xr-var-dtype {\n",
       "  grid-column: 3;\n",
       "  text-align: right;\n",
       "  color: var(--xr-font-color2);\n",
       "}\n",
       "\n",
       ".xr-var-preview {\n",
       "  grid-column: 4;\n",
       "}\n",
       "\n",
       ".xr-index-preview {\n",
       "  grid-column: 2 / 5;\n",
       "  color: var(--xr-font-color2);\n",
       "}\n",
       "\n",
       ".xr-var-name,\n",
       ".xr-var-dims,\n",
       ".xr-var-dtype,\n",
       ".xr-preview,\n",
       ".xr-attrs dt {\n",
       "  white-space: nowrap;\n",
       "  overflow: hidden;\n",
       "  text-overflow: ellipsis;\n",
       "  padding-right: 10px;\n",
       "}\n",
       "\n",
       ".xr-var-name:hover,\n",
       ".xr-var-dims:hover,\n",
       ".xr-var-dtype:hover,\n",
       ".xr-attrs dt:hover {\n",
       "  overflow: visible;\n",
       "  width: auto;\n",
       "  z-index: 1;\n",
       "}\n",
       "\n",
       ".xr-var-attrs,\n",
       ".xr-var-data,\n",
       ".xr-index-data {\n",
       "  display: none;\n",
       "  background-color: var(--xr-background-color) !important;\n",
       "  padding-bottom: 5px !important;\n",
       "}\n",
       "\n",
       ".xr-var-attrs-in:checked ~ .xr-var-attrs,\n",
       ".xr-var-data-in:checked ~ .xr-var-data,\n",
       ".xr-index-data-in:checked ~ .xr-index-data {\n",
       "  display: block;\n",
       "}\n",
       "\n",
       ".xr-var-data > table {\n",
       "  float: right;\n",
       "}\n",
       "\n",
       ".xr-var-name span,\n",
       ".xr-var-data,\n",
       ".xr-index-name div,\n",
       ".xr-index-data,\n",
       ".xr-attrs {\n",
       "  padding-left: 25px !important;\n",
       "}\n",
       "\n",
       ".xr-attrs,\n",
       ".xr-var-attrs,\n",
       ".xr-var-data,\n",
       ".xr-index-data {\n",
       "  grid-column: 1 / -1;\n",
       "}\n",
       "\n",
       "dl.xr-attrs {\n",
       "  padding: 0;\n",
       "  margin: 0;\n",
       "  display: grid;\n",
       "  grid-template-columns: 125px auto;\n",
       "}\n",
       "\n",
       ".xr-attrs dt,\n",
       ".xr-attrs dd {\n",
       "  padding: 0;\n",
       "  margin: 0;\n",
       "  float: left;\n",
       "  padding-right: 10px;\n",
       "  width: auto;\n",
       "}\n",
       "\n",
       ".xr-attrs dt {\n",
       "  font-weight: normal;\n",
       "  grid-column: 1;\n",
       "}\n",
       "\n",
       ".xr-attrs dt:hover span {\n",
       "  display: inline-block;\n",
       "  background: var(--xr-background-color);\n",
       "  padding-right: 10px;\n",
       "}\n",
       "\n",
       ".xr-attrs dd {\n",
       "  grid-column: 2;\n",
       "  white-space: pre-wrap;\n",
       "  word-break: break-all;\n",
       "}\n",
       "\n",
       ".xr-icon-database,\n",
       ".xr-icon-file-text2,\n",
       ".xr-no-icon {\n",
       "  display: inline-block;\n",
       "  vertical-align: middle;\n",
       "  width: 1em;\n",
       "  height: 1.5em !important;\n",
       "  stroke-width: 0;\n",
       "  stroke: currentColor;\n",
       "  fill: currentColor;\n",
       "}\n",
       "</style><pre class='xr-text-repr-fallback'>&lt;xarray.DataArray (bin: 15)&gt;\n",
       "array([7.302e+03, 5.970e+02, 2.940e+02, 2.290e+02, 1.450e+02, 1.130e+02,\n",
       "       7.900e+01, 5.700e+01, 5.500e+01, 3.800e+01, 2.800e+01, 1.400e+01,\n",
       "       1.200e+01, 7.000e+00, 6.000e+00])\n",
       "Coordinates:\n",
       "  * bin      (bin) float64 0.0 6.667e-08 1.333e-07 ... 8e-07 8.667e-07 9.333e-07\n",
       "Attributes: (12/28)\n",
       "    paramId:                    172228\n",
       "    dataType:                   fc\n",
       "    numberOfPoints:             64144000\n",
       "    typeOfLevel:                surface\n",
       "    stepUnits:                  1\n",
       "    stepType:                   instant\n",
       "    ...                         ...\n",
       "    units_fixed:                1\n",
       "    regridded:                  1\n",
       "    edition:                    1\n",
       "    centre:                     ecmf\n",
       "    centreDescription:          European Centre for Medium-Range Weather Fore...\n",
       "    subCentre:                  0</pre><div class='xr-wrap' style='display:none'><div class='xr-header'><div class='xr-obj-type'>xarray.DataArray</div><div class='xr-array-name'></div><ul class='xr-dim-list'><li><span class='xr-has-index'>bin</span>: 15</li></ul></div><ul class='xr-sections'><li class='xr-section-item'><div class='xr-array-wrap'><input id='section-ed1a167d-ac20-45f8-b558-6d6f6df6108a' class='xr-array-in' type='checkbox' checked><label for='section-ed1a167d-ac20-45f8-b558-6d6f6df6108a' title='Show/hide data repr'><svg class='icon xr-icon-database'><use xlink:href='#icon-database'></use></svg></label><div class='xr-array-preview xr-preview'><span>7.302e+03 597.0 294.0 229.0 145.0 113.0 ... 28.0 14.0 12.0 7.0 6.0</span></div><div class='xr-array-data'><pre>array([7.302e+03, 5.970e+02, 2.940e+02, 2.290e+02, 1.450e+02, 1.130e+02,\n",
       "       7.900e+01, 5.700e+01, 5.500e+01, 3.800e+01, 2.800e+01, 1.400e+01,\n",
       "       1.200e+01, 7.000e+00, 6.000e+00])</pre></div></div></li><li class='xr-section-item'><input id='section-1202f508-9a06-49cc-9d66-afd7e4e08712' class='xr-section-summary-in' type='checkbox'  checked><label for='section-1202f508-9a06-49cc-9d66-afd7e4e08712' class='xr-section-summary' >Coordinates: <span>(1)</span></label><div class='xr-section-inline-details'></div><div class='xr-section-details'><ul class='xr-var-list'><li class='xr-var-item'><div class='xr-var-name'><span class='xr-has-index'>bin</span></div><div class='xr-var-dims'>(bin)</div><div class='xr-var-dtype'>float64</div><div class='xr-var-preview xr-preview'>0.0 6.667e-08 ... 9.333e-07</div><input id='attrs-f293f974-ddb1-40cc-b817-cbd8aae7ae6b' class='xr-var-attrs-in' type='checkbox' disabled><label for='attrs-f293f974-ddb1-40cc-b817-cbd8aae7ae6b' title='Show/Hide attributes'><svg class='icon xr-icon-file-text2'><use xlink:href='#icon-file-text2'></use></svg></label><input id='data-d50c78a6-c494-4ab1-9232-ae4f8179ae3d' class='xr-var-data-in' type='checkbox'><label for='data-d50c78a6-c494-4ab1-9232-ae4f8179ae3d' title='Show/Hide data repr'><svg class='icon xr-icon-database'><use xlink:href='#icon-database'></use></svg></label><div class='xr-var-attrs'><dl class='xr-attrs'></dl></div><div class='xr-var-data'><pre>array([0.000000e+00, 6.666667e-08, 1.333333e-07, 2.000000e-07, 2.666667e-07,\n",
       "       3.333333e-07, 4.000000e-07, 4.666667e-07, 5.333333e-07, 6.000000e-07,\n",
       "       6.666667e-07, 7.333333e-07, 8.000000e-07, 8.666667e-07, 9.333333e-07])</pre></div></li></ul></div></li><li class='xr-section-item'><input id='section-6ed2a9ca-dab6-403a-9c61-f66f08a19489' class='xr-section-summary-in' type='checkbox'  ><label for='section-6ed2a9ca-dab6-403a-9c61-f66f08a19489' class='xr-section-summary' >Indexes: <span>(1)</span></label><div class='xr-section-inline-details'></div><div class='xr-section-details'><ul class='xr-var-list'><li class='xr-var-item'><div class='xr-index-name'><div>bin</div></div><div class='xr-index-preview'>PandasIndex</div><div></div><input id='index-757ec14a-0fd4-4d28-b3d2-bfb9de837f35' class='xr-index-data-in' type='checkbox'/><label for='index-757ec14a-0fd4-4d28-b3d2-bfb9de837f35' title='Show/Hide index repr'><svg class='icon xr-icon-database'><use xlink:href='#icon-database'></use></svg></label><div class='xr-index-data'><pre>PandasIndex(Float64Index([                   0.0,  6.666666666666667e-08,\n",
       "              1.3333333333333334e-07,                  2e-07,\n",
       "              2.6666666666666667e-07, 3.3333333333333335e-07,\n",
       "                               4e-07, 4.6666666666666666e-07,\n",
       "               5.333333333333333e-07,                  6e-07,\n",
       "               6.666666666666667e-07,  7.333333333333333e-07,\n",
       "                               8e-07,  8.666666666666667e-07,\n",
       "               9.333333333333333e-07],\n",
       "             dtype=&#x27;float64&#x27;, name=&#x27;bin&#x27;))</pre></div></li></ul></div></li><li class='xr-section-item'><input id='section-b92c4a3a-03ed-4977-b540-f69cc055fb7e' class='xr-section-summary-in' type='checkbox'  ><label for='section-b92c4a3a-03ed-4977-b540-f69cc055fb7e' class='xr-section-summary' >Attributes: <span>(28)</span></label><div class='xr-section-inline-details'></div><div class='xr-section-details'><dl class='xr-attrs'><dt><span>paramId :</span></dt><dd>172228</dd><dt><span>dataType :</span></dt><dd>fc</dd><dt><span>numberOfPoints :</span></dt><dd>64144000</dd><dt><span>typeOfLevel :</span></dt><dd>surface</dd><dt><span>stepUnits :</span></dt><dd>1</dd><dt><span>stepType :</span></dt><dd>instant</dd><dt><span>gridType :</span></dt><dd>reduced_gg</dd><dt><span>shortName :</span></dt><dd>tprate</dd><dt><span>units :</span></dt><dd>m s**-1</dd><dt><span>name :</span></dt><dd>Total precipitation</dd><dt><span>cfVarName :</span></dt><dd>tprate</dd><dt><span>missingValue :</span></dt><dd>9999</dd><dt><span>totalNumber :</span></dt><dd>0</dd><dt><span>NV :</span></dt><dd>0</dd><dt><span>gridDefinitionDescription :</span></dt><dd>Gaussian Latitude/Longitude Grid</dd><dt><span>history :</span></dt><dd>2023-04-14 20:00:00 variable renamed by AQUA fixer;\n",
       "2023-04-14 20:00:00 decumulated by AQUA fixer;\n",
       "2023-04-14 20:00:00 variable decumulated by AQUA fixer;\n",
       "2023-04-14 20:00:03 units changed by AQUA fixer;\n",
       "2023-04-14 20:01:20 regridded by AQUA fixer;\n",
       "🪄🧙‍♂️🔮 magic dataset assembly provided by gribscan.IFSMagician\r\n",
       "2023-04-14 20:00:00 retrieved by AQUA fixer;\n",
       "2023-04-14 20:00:03 coordinates adjusted by AQUA fixer;\n",
       "</dd><dt><span>long_name :</span></dt><dd>Mean total precipitation rate</dd><dt><span>target_units :</span></dt><dd>m s**-1</dd><dt><span>factor :</span></dt><dd>0.0002777777777777778</dd><dt><span>offset :</span></dt><dd>0</dd><dt><span>decumulated :</span></dt><dd>1</dd><dt><span>src_units :</span></dt><dd>m</dd><dt><span>units_fixed :</span></dt><dd>1</dd><dt><span>regridded :</span></dt><dd>1</dd><dt><span>edition :</span></dt><dd>1</dd><dt><span>centre :</span></dt><dd>ecmf</dd><dt><span>centreDescription :</span></dt><dd>European Centre for Medium-Range Weather Forecasts</dd><dt><span>subCentre :</span></dt><dd>0</dd></dl></div></li></ul></div></div>"
      ],
      "text/plain": [
       "<xarray.DataArray (bin: 15)>\n",
       "array([7.302e+03, 5.970e+02, 2.940e+02, 2.290e+02, 1.450e+02, 1.130e+02,\n",
       "       7.900e+01, 5.700e+01, 5.500e+01, 3.800e+01, 2.800e+01, 1.400e+01,\n",
       "       1.200e+01, 7.000e+00, 6.000e+00])\n",
       "Coordinates:\n",
       "  * bin      (bin) float64 0.0 6.667e-08 1.333e-07 ... 8e-07 8.667e-07 9.333e-07\n",
       "Attributes: (12/28)\n",
       "    paramId:                    172228\n",
       "    dataType:                   fc\n",
       "    numberOfPoints:             64144000\n",
       "    typeOfLevel:                surface\n",
       "    stepUnits:                  1\n",
       "    stepType:                   instant\n",
       "    ...                         ...\n",
       "    units_fixed:                1\n",
       "    regridded:                  1\n",
       "    edition:                    1\n",
       "    centre:                     ecmf\n",
       "    centreDescription:          European Centre for Medium-Range Weather Fore...\n",
       "    subCentre:                  0"
      ]
     },
     "execution_count": 30,
     "metadata": {},
     "output_type": "execute_result"
    }
   ],
   "source": [
    "hist_IFS_trop  = diag.hist1d_fast(IFS_chunk_regrided_trop,  preprocess = False)\n",
    "hist_IFS_trop"
   ]
  },
  {
   "attachments": {},
   "cell_type": "markdown",
   "metadata": {},
   "source": [
    "## 3) Diagnostic with automatic data preprocessing"
   ]
  },
  {
   "cell_type": "code",
   "execution_count": null,
   "metadata": {},
   "outputs": [],
   "source": [
    "diag = TR_PR_Diagnostic()\n",
    "\n",
    "# mandatory attributes\n",
    "diag.num_of_bins = 15\n",
    "diag.first_edge = 0\n",
    "diag.width_of_bin = 1*10**(-4)/diag.num_of_bins\n",
    "\n",
    "# other attributes of class whoch have a default value\n",
    "diag.trop_lat = 10\n",
    "diag.i_timestep = 10\n",
    "diag.f_timestep = 20"
   ]
  },
  {
   "attachments": {},
   "cell_type": "markdown",
   "metadata": {},
   "source": [
    "### OR"
   ]
  },
  {
   "cell_type": "code",
   "execution_count": 38,
   "metadata": {},
   "outputs": [],
   "source": [
    "diag = TR_PR_Diagnostic(num_of_bins = 15, first_edge = 0, width_of_bin = 1*10**(-6)/15, i_timestep = 10, f_timestep = 20)"
   ]
  },
  {
   "cell_type": "code",
   "execution_count": 40,
   "metadata": {},
   "outputs": [
    {
     "ename": "KeyError",
     "evalue": "'Indexing with a boolean dask array is not allowed. This will result in a dask array of unknown shape. Such arrays are unsupported by Xarray.Please compute the indexer first using .compute()'",
     "output_type": "error",
     "traceback": [
      "\u001b[0;31m---------------------------------------------------------------------------\u001b[0m",
      "\u001b[0;31mKeyError\u001b[0m                                  Traceback (most recent call last)",
      "Cell \u001b[0;32mIn[40], line 1\u001b[0m\n\u001b[0;32m----> 1\u001b[0m hist_IFS_prepr  \u001b[39m=\u001b[39m diag\u001b[39m.\u001b[39;49mhist1d_fast(IFS)\n\u001b[1;32m      2\u001b[0m hist_IFS_prepr \n",
      "File \u001b[0;32m/work/bb1153/b382267/AQUA/diagnostics/tropical_rainfall/notebooks/../src/tr_pr_mod.py:486\u001b[0m, in \u001b[0;36mTR_PR_Diagnostic.hist1d_fast\u001b[0;34m(self, data, preprocess, trop_lat, variable_1, num_of_bins, i_timestep, f_timestep, s_year, f_year, s_month, f_month, first_edge, width_of_bin, _add, start)\u001b[0m\n\u001b[1;32m    482\u001b[0m \u001b[39mself\u001b[39m\u001b[39m.\u001b[39mattributes_update(i_timestep\u001b[39m=\u001b[39mi_timestep,  f_timestep\u001b[39m=\u001b[39mf_timestep, trop_lat \u001b[39m=\u001b[39m trop_lat, s_year \u001b[39m=\u001b[39m s_year, f_year \u001b[39m=\u001b[39m f_year, s_month \u001b[39m=\u001b[39m s_month, f_month \u001b[39m=\u001b[39m f_month, first_edge \u001b[39m=\u001b[39m first_edge, num_of_bins \u001b[39m=\u001b[39m num_of_bins, width_of_bin \u001b[39m=\u001b[39m width_of_bin)\n\u001b[1;32m    485\u001b[0m \u001b[39mif\u001b[39;00m preprocess \u001b[39m==\u001b[39m \u001b[39mTrue\u001b[39;00m:\n\u001b[0;32m--> 486\u001b[0m     data \u001b[39m=\u001b[39m \u001b[39mself\u001b[39;49m\u001b[39m.\u001b[39;49mpreprocessing(data, preprocess\u001b[39m=\u001b[39;49mpreprocess, variable_1\u001b[39m=\u001b[39;49mvariable_1, trop_lat\u001b[39m=\u001b[39;49mtrop_lat, i_timestep\u001b[39m=\u001b[39;49mi_timestep, f_timestep\u001b[39m=\u001b[39;49mf_timestep, s_year\u001b[39m=\u001b[39;49ms_year, f_year\u001b[39m=\u001b[39;49mf_year, s_month\u001b[39m=\u001b[39;49ms_month, f_month\u001b[39m=\u001b[39;49mf_month,  sort \u001b[39m=\u001b[39;49m \u001b[39mFalse\u001b[39;49;00m, dask_array \u001b[39m=\u001b[39;49m \u001b[39mFalse\u001b[39;49;00m)\n\u001b[1;32m    489\u001b[0m bin_table \u001b[39m=\u001b[39m [\u001b[39mself\u001b[39m\u001b[39m.\u001b[39mfirst_edge \u001b[39m+\u001b[39m \u001b[39mself\u001b[39m\u001b[39m.\u001b[39mwidth_of_bin\u001b[39m*\u001b[39mj \u001b[39mfor\u001b[39;00m j \u001b[39min\u001b[39;00m \u001b[39mrange\u001b[39m(\u001b[39m0\u001b[39m, \u001b[39mself\u001b[39m\u001b[39m.\u001b[39mnum_of_bins)]        \n\u001b[1;32m    491\u001b[0m hist_fast \u001b[39m=\u001b[39m fast_histogram\u001b[39m.\u001b[39mhistogram1d(data, \n\u001b[1;32m    492\u001b[0m     \u001b[39mrange\u001b[39m\u001b[39m=\u001b[39m[\u001b[39mself\u001b[39m\u001b[39m.\u001b[39mfirst_edge, \u001b[39mself\u001b[39m\u001b[39m.\u001b[39mfirst_edge \u001b[39m+\u001b[39m (\u001b[39mself\u001b[39m\u001b[39m.\u001b[39mnum_of_bins)\u001b[39m*\u001b[39m\u001b[39mself\u001b[39m\u001b[39m.\u001b[39mwidth_of_bin], bins \u001b[39m=\u001b[39m (\u001b[39mself\u001b[39m\u001b[39m.\u001b[39mnum_of_bins))\n",
      "File \u001b[0;32m/work/bb1153/b382267/AQUA/diagnostics/tropical_rainfall/notebooks/../src/tr_pr_mod.py:421\u001b[0m, in \u001b[0;36mTR_PR_Diagnostic.preprocessing\u001b[0;34m(self, data, preprocess, variable_1, trop_lat, i_timestep, f_timestep, s_year, f_year, s_month, f_month, sort, dask_array)\u001b[0m\n\u001b[1;32m    418\u001b[0m \u001b[39mself\u001b[39m\u001b[39m.\u001b[39mattributes_update(i_timestep\u001b[39m=\u001b[39mi_timestep,  f_timestep\u001b[39m=\u001b[39mf_timestep, trop_lat \u001b[39m=\u001b[39m trop_lat, s_year \u001b[39m=\u001b[39m s_year, f_year \u001b[39m=\u001b[39m f_year, s_month \u001b[39m=\u001b[39m s_month, f_month \u001b[39m=\u001b[39m f_month)\n\u001b[1;32m    420\u001b[0m \u001b[39mif\u001b[39;00m preprocess \u001b[39m==\u001b[39m \u001b[39mTrue\u001b[39;00m:\n\u001b[0;32m--> 421\u001b[0m     ds \u001b[39m=\u001b[39m \u001b[39mself\u001b[39;49m\u001b[39m.\u001b[39;49mds_per_lat_range(data, trop_lat\u001b[39m=\u001b[39;49m\u001b[39mself\u001b[39;49m\u001b[39m.\u001b[39;49mtrop_lat)\n\u001b[1;32m    422\u001b[0m     ds \u001b[39m=\u001b[39m \u001b[39mself\u001b[39m\u001b[39m.\u001b[39mds_per_time_range(ds, i_timestep\u001b[39m=\u001b[39m\u001b[39mself\u001b[39m\u001b[39m.\u001b[39mi_timestep, f_timestep\u001b[39m=\u001b[39m\u001b[39mself\u001b[39m\u001b[39m.\u001b[39mf_timestep, s_year\u001b[39m=\u001b[39m\u001b[39mself\u001b[39m\u001b[39m.\u001b[39ms_year, f_year\u001b[39m=\u001b[39m\u001b[39mself\u001b[39m\u001b[39m.\u001b[39mf_year, s_month\u001b[39m=\u001b[39m\u001b[39mself\u001b[39m\u001b[39m.\u001b[39ms_month, f_month\u001b[39m=\u001b[39m\u001b[39mself\u001b[39m\u001b[39m.\u001b[39mf_month) \n\u001b[1;32m    423\u001b[0m     ds \u001b[39m=\u001b[39m \u001b[39mself\u001b[39m\u001b[39m.\u001b[39mds_into_array(ds, variable_1\u001b[39m=\u001b[39mvariable_1, sort\u001b[39m=\u001b[39msort)\n",
      "File \u001b[0;32m/work/bb1153/b382267/AQUA/diagnostics/tropical_rainfall/notebooks/../src/tr_pr_mod.py:164\u001b[0m, in \u001b[0;36mTR_PR_Diagnostic.ds_per_lat_range\u001b[0;34m(self, data, trop_lat)\u001b[0m\n\u001b[1;32m    161\u001b[0m coord_lat, coord_lon \u001b[39m=\u001b[39m \u001b[39mself\u001b[39m\u001b[39m.\u001b[39mcoordinate_names(data)\n\u001b[1;32m    162\u001b[0m \u001b[39mself\u001b[39m\u001b[39m.\u001b[39mattributes_update(trop_lat \u001b[39m=\u001b[39m trop_lat)\n\u001b[0;32m--> 164\u001b[0m data_trop \u001b[39m=\u001b[39m data\u001b[39m.\u001b[39;49mwhere(\u001b[39mabs\u001b[39;49m(data[coord_lat]) \u001b[39m<\u001b[39;49m\u001b[39m=\u001b[39;49m \u001b[39mself\u001b[39;49m\u001b[39m.\u001b[39;49mtrop_lat, drop\u001b[39m=\u001b[39;49m\u001b[39mTrue\u001b[39;49;00m)  \n\u001b[1;32m    165\u001b[0m \u001b[39mreturn\u001b[39;00m data_trop\n",
      "File \u001b[0;32m~/mambaforge/envs/tropical-rainfall/lib/python3.10/site-packages/xarray/core/common.py:1141\u001b[0m, in \u001b[0;36mDataWithCoords.where\u001b[0;34m(self, cond, other, drop)\u001b[0m\n\u001b[1;32m   1138\u001b[0m     \u001b[39mfor\u001b[39;00m dim \u001b[39min\u001b[39;00m cond\u001b[39m.\u001b[39msizes\u001b[39m.\u001b[39mkeys():\n\u001b[1;32m   1139\u001b[0m         indexers[dim] \u001b[39m=\u001b[39m _get_indexer(dim)\n\u001b[0;32m-> 1141\u001b[0m     \u001b[39mself\u001b[39m \u001b[39m=\u001b[39m \u001b[39mself\u001b[39;49m\u001b[39m.\u001b[39;49misel(\u001b[39m*\u001b[39;49m\u001b[39m*\u001b[39;49mindexers)\n\u001b[1;32m   1142\u001b[0m     cond \u001b[39m=\u001b[39m cond\u001b[39m.\u001b[39misel(\u001b[39m*\u001b[39m\u001b[39m*\u001b[39mindexers)\n\u001b[1;32m   1144\u001b[0m \u001b[39mreturn\u001b[39;00m ops\u001b[39m.\u001b[39mwhere_method(\u001b[39mself\u001b[39m, cond, other)\n",
      "File \u001b[0;32m~/mambaforge/envs/tropical-rainfall/lib/python3.10/site-packages/xarray/core/dataset.py:2427\u001b[0m, in \u001b[0;36mDataset.isel\u001b[0;34m(self, indexers, drop, missing_dims, **indexers_kwargs)\u001b[0m\n\u001b[1;32m   2425\u001b[0m indexers \u001b[39m=\u001b[39m either_dict_or_kwargs(indexers, indexers_kwargs, \u001b[39m\"\u001b[39m\u001b[39misel\u001b[39m\u001b[39m\"\u001b[39m)\n\u001b[1;32m   2426\u001b[0m \u001b[39mif\u001b[39;00m \u001b[39many\u001b[39m(is_fancy_indexer(idx) \u001b[39mfor\u001b[39;00m idx \u001b[39min\u001b[39;00m indexers\u001b[39m.\u001b[39mvalues()):\n\u001b[0;32m-> 2427\u001b[0m     \u001b[39mreturn\u001b[39;00m \u001b[39mself\u001b[39;49m\u001b[39m.\u001b[39;49m_isel_fancy(indexers, drop\u001b[39m=\u001b[39;49mdrop, missing_dims\u001b[39m=\u001b[39;49mmissing_dims)\n\u001b[1;32m   2429\u001b[0m \u001b[39m# Much faster algorithm for when all indexers are ints, slices, one-dimensional\u001b[39;00m\n\u001b[1;32m   2430\u001b[0m \u001b[39m# lists, or zero or one-dimensional np.ndarray's\u001b[39;00m\n\u001b[1;32m   2431\u001b[0m indexers \u001b[39m=\u001b[39m drop_dims_from_indexers(indexers, \u001b[39mself\u001b[39m\u001b[39m.\u001b[39mdims, missing_dims)\n",
      "File \u001b[0;32m~/mambaforge/envs/tropical-rainfall/lib/python3.10/site-packages/xarray/core/dataset.py:2483\u001b[0m, in \u001b[0;36mDataset._isel_fancy\u001b[0;34m(self, indexers, drop, missing_dims)\u001b[0m\n\u001b[1;32m   2479\u001b[0m var_indexers \u001b[39m=\u001b[39m {\n\u001b[1;32m   2480\u001b[0m     k: v \u001b[39mfor\u001b[39;00m k, v \u001b[39min\u001b[39;00m valid_indexers\u001b[39m.\u001b[39mitems() \u001b[39mif\u001b[39;00m k \u001b[39min\u001b[39;00m var\u001b[39m.\u001b[39mdims\n\u001b[1;32m   2481\u001b[0m }\n\u001b[1;32m   2482\u001b[0m \u001b[39mif\u001b[39;00m var_indexers:\n\u001b[0;32m-> 2483\u001b[0m     new_var \u001b[39m=\u001b[39m var\u001b[39m.\u001b[39;49misel(indexers\u001b[39m=\u001b[39;49mvar_indexers)\n\u001b[1;32m   2484\u001b[0m     \u001b[39m# drop scalar coordinates\u001b[39;00m\n\u001b[1;32m   2485\u001b[0m     \u001b[39m# https://github.com/pydata/xarray/issues/6554\u001b[39;00m\n\u001b[1;32m   2486\u001b[0m     \u001b[39mif\u001b[39;00m name \u001b[39min\u001b[39;00m \u001b[39mself\u001b[39m\u001b[39m.\u001b[39mcoords \u001b[39mand\u001b[39;00m drop \u001b[39mand\u001b[39;00m new_var\u001b[39m.\u001b[39mndim \u001b[39m==\u001b[39m \u001b[39m0\u001b[39m:\n",
      "File \u001b[0;32m~/mambaforge/envs/tropical-rainfall/lib/python3.10/site-packages/xarray/core/variable.py:1328\u001b[0m, in \u001b[0;36mVariable.isel\u001b[0;34m(self, indexers, missing_dims, **indexers_kwargs)\u001b[0m\n\u001b[1;32m   1325\u001b[0m indexers \u001b[39m=\u001b[39m drop_dims_from_indexers(indexers, \u001b[39mself\u001b[39m\u001b[39m.\u001b[39mdims, missing_dims)\n\u001b[1;32m   1327\u001b[0m key \u001b[39m=\u001b[39m \u001b[39mtuple\u001b[39m(indexers\u001b[39m.\u001b[39mget(dim, \u001b[39mslice\u001b[39m(\u001b[39mNone\u001b[39;00m)) \u001b[39mfor\u001b[39;00m dim \u001b[39min\u001b[39;00m \u001b[39mself\u001b[39m\u001b[39m.\u001b[39mdims)\n\u001b[0;32m-> 1328\u001b[0m \u001b[39mreturn\u001b[39;00m \u001b[39mself\u001b[39;49m[key]\n",
      "File \u001b[0;32m~/mambaforge/envs/tropical-rainfall/lib/python3.10/site-packages/xarray/core/variable.py:875\u001b[0m, in \u001b[0;36mVariable.__getitem__\u001b[0;34m(self, key)\u001b[0m\n\u001b[1;32m    862\u001b[0m \u001b[39mdef\u001b[39;00m \u001b[39m__getitem__\u001b[39m(\u001b[39mself\u001b[39m: T_Variable, key) \u001b[39m-\u001b[39m\u001b[39m>\u001b[39m T_Variable:\n\u001b[1;32m    863\u001b[0m \u001b[39m    \u001b[39m\u001b[39m\"\"\"Return a new Variable object whose contents are consistent with\u001b[39;00m\n\u001b[1;32m    864\u001b[0m \u001b[39m    getting the provided key from the underlying data.\u001b[39;00m\n\u001b[1;32m    865\u001b[0m \n\u001b[0;32m   (...)\u001b[0m\n\u001b[1;32m    873\u001b[0m \u001b[39m    array `x.values` directly.\u001b[39;00m\n\u001b[1;32m    874\u001b[0m \u001b[39m    \"\"\"\u001b[39;00m\n\u001b[0;32m--> 875\u001b[0m     dims, indexer, new_order \u001b[39m=\u001b[39m \u001b[39mself\u001b[39;49m\u001b[39m.\u001b[39;49m_broadcast_indexes(key)\n\u001b[1;32m    876\u001b[0m     data \u001b[39m=\u001b[39m as_indexable(\u001b[39mself\u001b[39m\u001b[39m.\u001b[39m_data)[indexer]\n\u001b[1;32m    877\u001b[0m     \u001b[39mif\u001b[39;00m new_order:\n",
      "File \u001b[0;32m~/mambaforge/envs/tropical-rainfall/lib/python3.10/site-packages/xarray/core/variable.py:708\u001b[0m, in \u001b[0;36mVariable._broadcast_indexes\u001b[0;34m(self, key)\u001b[0m\n\u001b[1;32m    705\u001b[0m \u001b[39mif\u001b[39;00m \u001b[39mall\u001b[39m(\u001b[39misinstance\u001b[39m(k, BASIC_INDEXING_TYPES) \u001b[39mfor\u001b[39;00m k \u001b[39min\u001b[39;00m key):\n\u001b[1;32m    706\u001b[0m     \u001b[39mreturn\u001b[39;00m \u001b[39mself\u001b[39m\u001b[39m.\u001b[39m_broadcast_indexes_basic(key)\n\u001b[0;32m--> 708\u001b[0m \u001b[39mself\u001b[39;49m\u001b[39m.\u001b[39;49m_validate_indexers(key)\n\u001b[1;32m    709\u001b[0m \u001b[39m# Detect it can be mapped as an outer indexer\u001b[39;00m\n\u001b[1;32m    710\u001b[0m \u001b[39m# If all key is unlabeled, or\u001b[39;00m\n\u001b[1;32m    711\u001b[0m \u001b[39m# key can be mapped as an OuterIndexer.\u001b[39;00m\n\u001b[1;32m    712\u001b[0m \u001b[39mif\u001b[39;00m \u001b[39mall\u001b[39m(\u001b[39mnot\u001b[39;00m \u001b[39misinstance\u001b[39m(k, Variable) \u001b[39mfor\u001b[39;00m k \u001b[39min\u001b[39;00m key):\n",
      "File \u001b[0;32m~/mambaforge/envs/tropical-rainfall/lib/python3.10/site-packages/xarray/core/variable.py:760\u001b[0m, in \u001b[0;36mVariable._validate_indexers\u001b[0;34m(self, key)\u001b[0m\n\u001b[1;32m    755\u001b[0m     \u001b[39mraise\u001b[39;00m \u001b[39mIndexError\u001b[39;00m(\n\u001b[1;32m    756\u001b[0m         \u001b[39m\"\u001b[39m\u001b[39m{}\u001b[39;00m\u001b[39m-dimensional boolean indexing is \u001b[39m\u001b[39m\"\u001b[39m\n\u001b[1;32m    757\u001b[0m         \u001b[39m\"\u001b[39m\u001b[39mnot supported. \u001b[39m\u001b[39m\"\u001b[39m\u001b[39m.\u001b[39mformat(k\u001b[39m.\u001b[39mndim)\n\u001b[1;32m    758\u001b[0m     )\n\u001b[1;32m    759\u001b[0m \u001b[39mif\u001b[39;00m is_duck_dask_array(k\u001b[39m.\u001b[39mdata):\n\u001b[0;32m--> 760\u001b[0m     \u001b[39mraise\u001b[39;00m \u001b[39mKeyError\u001b[39;00m(\n\u001b[1;32m    761\u001b[0m         \u001b[39m\"\u001b[39m\u001b[39mIndexing with a boolean dask array is not allowed. \u001b[39m\u001b[39m\"\u001b[39m\n\u001b[1;32m    762\u001b[0m         \u001b[39m\"\u001b[39m\u001b[39mThis will result in a dask array of unknown shape. \u001b[39m\u001b[39m\"\u001b[39m\n\u001b[1;32m    763\u001b[0m         \u001b[39m\"\u001b[39m\u001b[39mSuch arrays are unsupported by Xarray.\u001b[39m\u001b[39m\"\u001b[39m\n\u001b[1;32m    764\u001b[0m         \u001b[39m\"\u001b[39m\u001b[39mPlease compute the indexer first using .compute()\u001b[39m\u001b[39m\"\u001b[39m\n\u001b[1;32m    765\u001b[0m     )\n\u001b[1;32m    766\u001b[0m \u001b[39mif\u001b[39;00m \u001b[39mgetattr\u001b[39m(k, \u001b[39m\"\u001b[39m\u001b[39mdims\u001b[39m\u001b[39m\"\u001b[39m, (dim,)) \u001b[39m!=\u001b[39m (dim,):\n\u001b[1;32m    767\u001b[0m     \u001b[39mraise\u001b[39;00m \u001b[39mIndexError\u001b[39;00m(\n\u001b[1;32m    768\u001b[0m         \u001b[39m\"\u001b[39m\u001b[39mBoolean indexer should be unlabeled or on the \u001b[39m\u001b[39m\"\u001b[39m\n\u001b[1;32m    769\u001b[0m         \u001b[39m\"\u001b[39m\u001b[39msame dimension to the indexed array. Indexer is \u001b[39m\u001b[39m\"\u001b[39m\n\u001b[0;32m   (...)\u001b[0m\n\u001b[1;32m    772\u001b[0m         )\n\u001b[1;32m    773\u001b[0m     )\n",
      "\u001b[0;31mKeyError\u001b[0m: 'Indexing with a boolean dask array is not allowed. This will result in a dask array of unknown shape. Such arrays are unsupported by Xarray.Please compute the indexer first using .compute()'"
     ]
    }
   ],
   "source": [
    "hist_IFS_prepr  = diag.hist1d_fast(IFS)\n",
    "hist_IFS_prepr "
   ]
  },
  {
   "cell_type": "code",
   "execution_count": 101,
   "metadata": {},
   "outputs": [],
   "source": []
  },
  {
   "attachments": {},
   "cell_type": "markdown",
   "metadata": {},
   "source": [
    "## Expected calculation time for entire dataset"
   ]
  },
  {
   "cell_type": "code",
   "execution_count": 26,
   "metadata": {},
   "outputs": [],
   "source": [
    "import src.time_estimation"
   ]
  },
  {
   "cell_type": "code",
   "execution_count": 32,
   "metadata": {},
   "outputs": [],
   "source": [
    "importlib.reload(src.time_estimation)\n",
    "from  src.time_estimation import  estimated_total_calc_time,   optimal_amout_of_timesteps"
   ]
  },
  {
   "attachments": {},
   "cell_type": "markdown",
   "metadata": {},
   "source": [
    "###  Checking the calculation time of a small chunk of the dataset"
   ]
  },
  {
   "cell_type": "code",
   "execution_count": 37,
   "metadata": {},
   "outputs": [
    {
     "name": "stdout",
     "output_type": "stream",
     "text": [
      "450 µs ± 72 µs per loop (mean ± std. dev. of 2 runs, 1 loop each)\n"
     ]
    }
   ],
   "source": [
    "result = %timeit -r 2 -n 1 -o  diag.hist1d_fast(IFS_chunk_regrided_trop,  preprocess = False)\n",
    "time_fast_reg, time_fast_reg_stdev =  result.average, result.stdev "
   ]
  },
  {
   "attachments": {},
   "cell_type": "markdown",
   "metadata": {},
   "source": [
    "### Estemated calculation time of entire dataset"
   ]
  },
  {
   "cell_type": "code",
   "execution_count": 39,
   "metadata": {},
   "outputs": [
    {
     "data": {
      "text/plain": [
       "(86668.67938164828, 1.0031097150653736)"
      ]
     },
     "execution_count": 39,
     "metadata": {},
     "output_type": "execute_result"
    }
   ],
   "source": [
    "estimated_total_calc_time(ds_part = IFS_chunk_regrided_trop, calc_time = time_fast_reg, ds_full = IFS,  units='D')"
   ]
  },
  {
   "attachments": {},
   "cell_type": "markdown",
   "metadata": {},
   "source": [
    "### Optimal amount of timesteps"
   ]
  },
  {
   "cell_type": "code",
   "execution_count": 41,
   "metadata": {},
   "outputs": [
    {
     "data": {
      "text/plain": [
       "(0.12461249066045943, 673)"
      ]
     },
     "execution_count": 41,
     "metadata": {},
     "output_type": "execute_result"
    }
   ],
   "source": [
    "optimal_amout_of_timesteps(ds_part = IFS_chunk_regrided_trop, calc_time = time_fast_reg,  ds_full = IFS, wanted_time ='3H')"
   ]
  },
  {
   "attachments": {},
   "cell_type": "markdown",
   "metadata": {},
   "source": [
    "## Plots and animations"
   ]
  },
  {
   "attachments": {},
   "cell_type": "markdown",
   "metadata": {},
   "source": [
    "### Plot of obtained histogram "
   ]
  },
  {
   "cell_type": "code",
   "execution_count": null,
   "metadata": {},
   "outputs": [],
   "source": [
    "diag.hist_plot(hist_IFS, pdf = False, smooth = False, label='IFS/IFS', plot_title = \"ICON, precipitation rate for one timestep\")"
   ]
  },
  {
   "cell_type": "code",
   "execution_count": null,
   "metadata": {},
   "outputs": [],
   "source": [
    "diag.hist_plot(hist_IFS_trop, pdf = False, smooth = False, label='IFS/IFS_trop', plot_title = \"ICON, trop precipitation rate for one timestep\")"
   ]
  },
  {
   "attachments": {},
   "cell_type": "markdown",
   "metadata": {},
   "source": [
    "### Plot of mean and median value of precipitation rate"
   ]
  },
  {
   "cell_type": "code",
   "execution_count": 90,
   "metadata": {},
   "outputs": [],
   "source": [
    "diag.mean_and_median_plot(IFS_chunk_regrided, savelabel = 'IFS/IFS')"
   ]
  },
  {
   "cell_type": "code",
   "execution_count": null,
   "metadata": {},
   "outputs": [],
   "source": [
    "diag.mean_and_median_plot(IFS_chunk_regrided_trop, savelabel = 'IFS/IFS_trop')"
   ]
  },
  {
   "attachments": {},
   "cell_type": "markdown",
   "metadata": {},
   "source": [
    "### Image"
   ]
  },
  {
   "cell_type": "code",
   "execution_count": 110,
   "metadata": {},
   "outputs": [
    {
     "name": "stdout",
     "output_type": "stream",
     "text": [
      "Done!\n"
     ]
    }
   ],
   "source": [
    "image_creator(IFS_chunk_regrided, vmin =0, vmax = 10**(-7),  trop_lat = 90,  label='IFS/IFS')"
   ]
  },
  {
   "cell_type": "code",
   "execution_count": 111,
   "metadata": {},
   "outputs": [
    {
     "name": "stdout",
     "output_type": "stream",
     "text": [
      "Done!\n"
     ]
    }
   ],
   "source": [
    "image_creator(IFS_chunk_regrided_trop, vmin =0, vmax = 10**(-7),  label='IFS/IFS_trop')"
   ]
  },
  {
   "attachments": {},
   "cell_type": "markdown",
   "metadata": {},
   "source": [
    "### Animation"
   ]
  },
  {
   "cell_type": "code",
   "execution_count": 34,
   "metadata": {},
   "outputs": [],
   "source": [
    "IFS_chunk_regrided = reader.regrid(IFS[\"tprate\"][10:30,:])\n",
    "IFS_chunk_regrided = IFS_chunk_regrided.compute()"
   ]
  },
  {
   "cell_type": "code",
   "execution_count": 52,
   "metadata": {},
   "outputs": [
    {
     "name": "stdout",
     "output_type": "stream",
     "text": [
      ".....................Done!\n"
     ]
    },
    {
     "data": {
      "text/plain": [
       "True"
      ]
     },
     "execution_count": 52,
     "metadata": {},
     "output_type": "execute_result"
    }
   ],
   "source": [
    "animation_creator(IFS_chunk_regrided, vmin =0, vmax = 10**(-7),   nSeconds = 20,  trop_lat = 90,  label='IFS_tprate')"
   ]
  },
  {
   "cell_type": "code",
   "execution_count": 35,
   "metadata": {},
   "outputs": [],
   "source": [
    "IFS_chunk_regrided_trop = diag.ds_per_lat_range(IFS_chunk_regrided)\n",
    "IFS_chunk_regrided_trop = IFS_chunk_regrided_trop.compute()"
   ]
  },
  {
   "cell_type": "code",
   "execution_count": 36,
   "metadata": {},
   "outputs": [
    {
     "name": "stdout",
     "output_type": "stream",
     "text": [
      ".....................Done!\n"
     ]
    },
    {
     "data": {
      "text/plain": [
       "True"
      ]
     },
     "execution_count": 36,
     "metadata": {},
     "output_type": "execute_result"
    }
   ],
   "source": [
    "animation_creator(IFS_chunk_regrided_trop, vmin =0, vmax = 10**(-7), nSeconds = 20,  trop_lat = 10,  label='IFS_tprate_trop')"
   ]
  },
  {
   "cell_type": "code",
   "execution_count": null,
   "metadata": {},
   "outputs": [],
   "source": []
  }
 ],
 "metadata": {
  "kernelspec": {
   "display_name": "tropical-rainfall",
   "language": "python",
   "name": "python3"
  },
  "language_info": {
   "codemirror_mode": {
    "name": "ipython",
    "version": 3
   },
   "file_extension": ".py",
   "mimetype": "text/x-python",
   "name": "python",
   "nbconvert_exporter": "python",
   "pygments_lexer": "ipython3",
   "version": "3.10.10"
  },
  "orig_nbformat": 4,
  "vscode": {
   "interpreter": {
    "hash": "07e98d85ba00412b6aa5125aae8e919611736cabcd7c227888eba392d8503989"
   }
  }
 },
 "nbformat": 4,
 "nbformat_minor": 2
}
