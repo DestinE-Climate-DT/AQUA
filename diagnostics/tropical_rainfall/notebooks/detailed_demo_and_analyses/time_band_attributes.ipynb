{
 "cells": [
  {
   "cell_type": "markdown",
   "metadata": {},
   "source": [
    "If we want to save the results of analyzed high-resolution chunks of data in the storage, we need to provide a unique name for the file, which will contain information about the time grid or time band."
   ]
  },
  {
   "cell_type": "code",
   "execution_count": 1,
   "metadata": {},
   "outputs": [],
   "source": [
    "import sys\n",
    "from aqua import Reader\n",
    "sys.path.insert(0, '../../../')\n",
    "from tropical_rainfall import Tropical_Rainfall"
   ]
  },
  {
   "cell_type": "code",
   "execution_count": 2,
   "metadata": {},
   "outputs": [
    {
     "name": "stderr",
     "output_type": "stream",
     "text": [
      "2023-09-29 20:39:03 :: eccodes :: WARNING  -> ShortName tprate have multiple grib codes associated: ['260048', '172228']\n",
      "2023-09-29 20:39:03 :: eccodes :: WARNING  -> AQUA will take the first so that tprate -> 260048, please set up a correct fix if this does not look right\n"
     ]
    }
   ],
   "source": [
    "reader              = Reader(model=\"IFS\", exp=\"tco2559-ng5-cycle3\", source=\"lra-r100-monthly\") \n",
    "ifs_tco2559_ng5     = reader.retrieve()\n",
    "ifs_tco2559_ng5     = ifs_tco2559_ng5['tprate'][:]*86400 \n",
    "ifs_tco2559_ng5.attrs['units'] = \"mm/day\""
   ]
  },
  {
   "cell_type": "code",
   "execution_count": 3,
   "metadata": {},
   "outputs": [],
   "source": [
    "diag = Tropical_Rainfall(trop_lat=15,  num_of_bins = 1000, first_edge = 0, width_of_bin = 1, loglevel='error')"
   ]
  },
  {
   "cell_type": "markdown",
   "metadata": {},
   "source": [
    "Produced dataset (and dataarray) contains the attribute 'time_band.'"
   ]
  },
  {
   "cell_type": "code",
   "execution_count": 4,
   "metadata": {},
   "outputs": [
    {
     "data": {
      "text/plain": [
       "'2020-01-15T00:00:00.000000000, 2024-12-15T00:00:00.000000000, freq=M'"
      ]
     },
     "execution_count": 4,
     "metadata": {},
     "output_type": "execute_result"
    }
   ],
   "source": [
    "hist_ifs_tco2559_ng5 = diag.histogram(ifs_tco2559_ng5)\n",
    "hist_ifs_tco2559_ng5.time_band"
   ]
  },
  {
   "cell_type": "markdown",
   "metadata": {},
   "source": [
    "If we want to save the data in the storage, the name of the file will contain the time_band information."
   ]
  },
  {
   "cell_type": "code",
   "execution_count": 5,
   "metadata": {},
   "outputs": [
    {
     "name": "stderr",
     "output_type": "stream",
     "text": [
      "2023-09-29 20:39:36 :: create_folder :: WARNING  -> Folder ./ already exists\n"
     ]
    },
    {
     "data": {
      "text/plain": [
       "'./trop_rainfall_test_2020-01-15T00_2024-12-15T00_M.nc'"
      ]
     },
     "execution_count": 5,
     "metadata": {},
     "output_type": "execute_result"
    }
   ],
   "source": [
    "diag.dataset_to_netcdf(hist_ifs_tco2559_ng5, path_to_netcdf='./', name_of_file='test')"
   ]
  },
  {
   "cell_type": "code",
   "execution_count": 6,
   "metadata": {},
   "outputs": [],
   "source": [
    "ifs_tco2559_ng5_feb = ifs_tco2559_ng5.sel(time='2020-02')\n",
    "hist_ifs_tco2559_ng5_feb = diag.histogram(ifs_tco2559_ng5_feb)\n",
    "ifs_tco2559_ng5_mar = ifs_tco2559_ng5.sel(time='2020-03')\n",
    "hist_ifs_tco2559_ng5_mar = diag.histogram(ifs_tco2559_ng5_mar)"
   ]
  },
  {
   "cell_type": "markdown",
   "metadata": {},
   "source": [
    "If I want to merge two datasets (or even a list of datasets), the total time band will be appropriately updated. "
   ]
  },
  {
   "cell_type": "code",
   "execution_count": 7,
   "metadata": {},
   "outputs": [
    {
     "data": {
      "text/plain": [
       "'2020-02-15T00:00:00.000000000, 2020-03-15T00:00:00.000000000, freq=1M'"
      ]
     },
     "execution_count": 7,
     "metadata": {},
     "output_type": "execute_result"
    }
   ],
   "source": [
    "hist_ifs_tco2559_ng5_feb_mar  = diag.merge_two_datasets(hist_ifs_tco2559_ng5_feb, hist_ifs_tco2559_ng5_mar)\n",
    "hist_ifs_tco2559_ng5_feb_mar.time_band"
   ]
  },
  {
   "cell_type": "markdown",
   "metadata": {},
   "source": [
    "The file's name in the filesystem will contain the correct total time band of the merged dataset. "
   ]
  },
  {
   "cell_type": "code",
   "execution_count": 8,
   "metadata": {},
   "outputs": [
    {
     "name": "stderr",
     "output_type": "stream",
     "text": [
      "2023-09-29 20:40:41 :: create_folder :: WARNING  -> Folder ./ already exists\n"
     ]
    },
    {
     "data": {
      "text/plain": [
       "'./trop_rainfall_test_2020-02-15T00_2020-03-15T00_1M.nc'"
      ]
     },
     "execution_count": 8,
     "metadata": {},
     "output_type": "execute_result"
    }
   ],
   "source": [
    "diag.dataset_to_netcdf(hist_ifs_tco2559_ng5_feb_mar, path_to_netcdf='./', name_of_file='test')"
   ]
  },
  {
   "cell_type": "markdown",
   "metadata": {},
   "source": [
    "Below is an example of how to merge the list of datasets stored in the filesystem. The produced dataset will contain updated 'time_band' and 'time_band_history.'"
   ]
  },
  {
   "cell_type": "code",
   "execution_count": null,
   "metadata": {},
   "outputs": [],
   "source": [
    "path_to_ifs='/work/bb1153/b382267/tropical_rainfall_cicle3/NetCDF/histograms/tco2559-ng5-cycle3/'\n",
    "hist_ifs_2559_high = diag.merge_list_of_histograms(path_to_histograms = path_to_ifs, multi = None, seasons = False, all = True)"
   ]
  }
 ],
 "metadata": {
  "kernelspec": {
   "display_name": "common_environment",
   "language": "python",
   "name": "python3"
  },
  "language_info": {
   "codemirror_mode": {
    "name": "ipython",
    "version": 3
   },
   "file_extension": ".py",
   "mimetype": "text/x-python",
   "name": "python",
   "nbconvert_exporter": "python",
   "pygments_lexer": "ipython3",
   "version": "3.10.12"
  },
  "orig_nbformat": 4
 },
 "nbformat": 4,
 "nbformat_minor": 2
}
