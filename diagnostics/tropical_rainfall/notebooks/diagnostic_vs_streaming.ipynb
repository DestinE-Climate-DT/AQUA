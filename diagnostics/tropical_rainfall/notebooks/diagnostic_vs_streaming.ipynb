{
 "cells": [
  {
   "attachments": {},
   "cell_type": "markdown",
   "metadata": {},
   "source": [
    "# The example of tropical rainfall diagnostic during the streaming mode"
   ]
  },
  {
   "attachments": {},
   "cell_type": "markdown",
   "metadata": {},
   "source": [
    "### Content"
   ]
  },
  {
   "attachments": {},
   "cell_type": "markdown",
   "metadata": {},
   "source": [
    "1. [The load of packages, modules, and data](#1-load-of-packages-modules-and-data)\n",
    "\n",
    "2. [Calculating and saving the histograms in the storage for each stream output](#2-calculating-and-saving-to-the-memory-the-histograms-for-each-stream-output-ten-in-total)\n",
    "\n",
    "3. [Loading and merging all the histograms from the specified repository](#3-loading-and-merging-all-the-histograms-in-the-specified-repository)\n",
    "\n",
    "4. [Loading and merging multiple histograms from the specified repository ](#4-loading-and-merging-multiple-histograms-in-the-specified-repository)"
   ]
  },
  {
   "attachments": {},
   "cell_type": "markdown",
   "metadata": {},
   "source": [
    "## 1. The load of packages, modules, and data"
   ]
  },
  {
   "cell_type": "code",
   "execution_count": 1,
   "metadata": {},
   "outputs": [
    {
     "name": "stdout",
     "output_type": "stream",
     "text": [
      "Running tropical rainfall diagnostic...\n",
      "Reading configuration yaml file..\n"
     ]
    }
   ],
   "source": [
    "from aqua import Reader\n",
    "import sys\n",
    "sys.path.insert(0, '../../')\n",
    "from tropical_rainfall import Tropical_Rainfall"
   ]
  },
  {
   "attachments": {},
   "cell_type": "markdown",
   "metadata": {},
   "source": [
    "##### You can initialize the diagnostic in the way you prefer. The demonstration of different initializations of diagnostic you can find in the notebook ``ICON_histogram_calculation.ipynb``"
   ]
  },
  {
   "cell_type": "code",
   "execution_count": 2,
   "metadata": {},
   "outputs": [],
   "source": [
    "diag = Tropical_Rainfall()"
   ]
  },
  {
   "cell_type": "code",
   "execution_count": 3,
   "metadata": {},
   "outputs": [],
   "source": [
    "if diag.tools.get_machine()=='levante':\n",
    "    reader = Reader(model=\"ICON\", exp=\"ngc2009\", source=\"atm_2d_ml_R02B09\",  regrid=\"r100\")"
   ]
  },
  {
   "attachments": {},
   "cell_type": "markdown",
   "metadata": {},
   "source": [
    "## 2. Calculating and saving the histograms in the storage for each stream output"
   ]
  },
  {
   "attachments": {},
   "cell_type": "markdown",
   "metadata": {},
   "source": [
    "##### Set the path to the repository where you would like to store the histograms. "
   ]
  },
  {
   "cell_type": "code",
   "execution_count": 3,
   "metadata": {},
   "outputs": [],
   "source": [
    "path_to_histograms = diag.path_to_netcdf+'histograms/test_streaming/'\n",
    "name_of_file = 'icon'"
   ]
  },
  {
   "attachments": {},
   "cell_type": "markdown",
   "metadata": {},
   "source": [
    "##### `Note`: the diagnostic already provides unique names for the histograms. Namely, the name of the histogram includes the starting and final time steps for which the diagnostic performs the calculations in the following format: `year-month-day-hour`. The name of the file, which you specified, would be added at the beginning of the file name. \n",
    "\n",
    "##### For example, for the first output, the name of the histogram is `icon_2020-01-20T00_2020-01-20T23_histogram.pkl`."
   ]
  },
  {
   "attachments": {},
   "cell_type": "markdown",
   "metadata": {},
   "source": [
    "##### Calculating the histograms and storing them in the memory:"
   ]
  },
  {
   "cell_type": "code",
   "execution_count": null,
   "metadata": {},
   "outputs": [],
   "source": [
    "for i in range(0, 10):\n",
    "    icon_3_days = reader.retrieve(regrid=True, streaming=True, stream_step=3, stream_unit='days') \n",
    "    hist_icon  = diag.histogram(icon_3_days, path_to_histogram = path_to_histograms, name_of_file = name_of_file)"
   ]
  },
  {
   "attachments": {},
   "cell_type": "markdown",
   "metadata": {},
   "source": [
    "## 3. Loading and merging all the histograms from the specified repository "
   ]
  },
  {
   "attachments": {},
   "cell_type": "markdown",
   "metadata": {},
   "source": [
    "##### If you want to merge all histograms if the specified repository, set the following flag: `all=True.`\n",
    "\n",
    "##### The function will merge all histograms into single histograms. In order to avoid possible mistakes, keep the histograms obtained for different models in different repositories. "
   ]
  },
  {
   "cell_type": "code",
   "execution_count": null,
   "metadata": {},
   "outputs": [],
   "source": [
    "merged_histograms = diag.merge_list_of_histograms(path_to_histograms=path_to_histograms, multi=None, all=True)\n",
    "merged_histograms"
   ]
  },
  {
   "attachments": {},
   "cell_type": "markdown",
   "metadata": {},
   "source": [
    "## 4. Loading and merging multiple histograms from the specified repository "
   ]
  },
  {
   "attachments": {},
   "cell_type": "markdown",
   "metadata": {},
   "source": [
    "##### If you want to merge only a specific number of histograms, set the function `multi`-argument. \n",
    "\n",
    "##### Note: The function will sort the files in the repository and take the first `multi` number of histograms in the repo."
   ]
  },
  {
   "cell_type": "code",
   "execution_count": null,
   "metadata": {},
   "outputs": [],
   "source": [
    "merged_histograms = diag.merge_list_of_histograms(path_to_histograms=path_to_histograms, multi=3, all=False)\n",
    "merged_histograms"
   ]
  }
 ],
 "metadata": {
  "kernelspec": {
   "display_name": "aqua",
   "language": "python",
   "name": "python3"
  },
  "language_info": {
   "codemirror_mode": {
    "name": "ipython",
    "version": 3
   },
   "file_extension": ".py",
   "mimetype": "text/x-python",
   "name": "python",
   "nbconvert_exporter": "python",
   "pygments_lexer": "ipython3",
   "version": "3.11.6"
  },
  "orig_nbformat": 4
 },
 "nbformat": 4,
 "nbformat_minor": 2
}
