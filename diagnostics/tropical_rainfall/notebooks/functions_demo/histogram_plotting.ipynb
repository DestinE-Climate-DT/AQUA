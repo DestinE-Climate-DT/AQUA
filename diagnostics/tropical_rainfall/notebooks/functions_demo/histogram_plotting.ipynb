{
 "cells": [
  {
   "attachments": {},
   "cell_type": "markdown",
   "metadata": {},
   "source": [
    "# The detailed demonstration of the tropical rainfall diagnostic for ICON data: \n",
    "# Graphical representation of the histograms "
   ]
  },
  {
   "attachments": {},
   "cell_type": "markdown",
   "metadata": {
    "tags": [
     "top_of_file"
    ]
   },
   "source": [
    "### Content"
   ]
  },
  {
   "attachments": {},
   "cell_type": "markdown",
   "metadata": {},
   "source": [
    "\n",
    "1. [The load of packages, modules, and data](#1-load-of-packages-modules-and-data)\n",
    "\n",
    "2. [Calculation of histogram of precipitation/tropical precipitation](#2-calculation-of-histogram-of-precipitationtropicalprecipitation)\n",
    "\n",
    "3. [Graphical representation of the histograms](#4-histograms-of-tropical-precipitationn)\n",
    "\n",
    "    3.1 [Different styles of plots](#41-different-styles-of-plots)\n",
    "\n",
    "    3.1.1 [Histogram of counts with a smooth line style](#311-histogram-of-counts-with-a-smooth-linestyle-smooth--true)\n",
    "\n",
    "    3.1.2 [Histogram of counts with a step line style](#312-histogram-of-counts-with-a-step-linestyle-step--true)\n",
    "\n",
    "    3.2  [ Saving the figure to the storage](#32-saving-the-figure-to-the-storage)\n",
    "\n",
    "    3.3 [ Plotting the histogram of the counts, frequency, and pdf](#33-plotting-the-histogram-of-counts-frequency-and-pdf)\n",
    "\n",
    "\n",
    "[Go to the end of file](#the-end)"
   ]
  },
  {
   "attachments": {},
   "cell_type": "markdown",
   "metadata": {},
   "source": [
    "#"
   ]
  },
  {
   "attachments": {},
   "cell_type": "markdown",
   "metadata": {
    "tags": [
     "section1"
    ]
   },
   "source": [
    "## 1. The load of packages, modules, and data"
   ]
  },
  {
   "cell_type": "code",
   "execution_count": 17,
   "metadata": {},
   "outputs": [],
   "source": [
    "from aqua import Reader\n",
    "from tropical_rainfall import Tropical_Rainfall"
   ]
  },
  {
   "attachments": {},
   "cell_type": "markdown",
   "metadata": {},
   "source": [
    "#### ICON data"
   ]
  },
  {
   "cell_type": "code",
   "execution_count": 18,
   "metadata": {},
   "outputs": [
    {
     "name": "stderr",
     "output_type": "stream",
     "text": [
      "\u001b[38;2;255;165;0m2024-04-16 21:18:34 :: Reader :: WARNING  -> LRA_LUMI parameter is required but is missing, setting to default /work/bb1153/b382076/LRA-lumi\u001b[0m\n"
     ]
    },
    {
     "name": "stderr",
     "output_type": "stream",
     "text": [
      "/work/bb1153/b382267/mamba_dir/mambaforge/envs/aqua/lib/python3.11/site-packages/dask/array/core.py:4836: PerformanceWarning: Increasing number of chunks by factor of 72\n",
      "  result = blockwise(\n",
      "/work/bb1153/b382267/mamba_dir/mambaforge/envs/aqua/lib/python3.11/site-packages/dask/array/core.py:4836: PerformanceWarning: Increasing number of chunks by factor of 72\n",
      "  result = blockwise(\n"
     ]
    }
   ],
   "source": [
    "reader = Reader(model=\"ICON\", exp=\"historical-1990\", source=\"lra-r100-monthly\")\n",
    "icon = reader.retrieve() "
   ]
  },
  {
   "attachments": {},
   "cell_type": "markdown",
   "metadata": {},
   "source": [
    "## 2. Calculation of histogram of tropical precipitation\n"
   ]
  },
  {
   "attachments": {},
   "cell_type": "markdown",
   "metadata": {
    "tags": [
     "manual_preprocessing"
    ]
   },
   "source": [
    "##### Initializing the class object with the following attributes: \n",
    " - `num_of_bins`\n",
    " - `first_edge`\n",
    " - `width_of_bin`"
   ]
  },
  {
   "cell_type": "code",
   "execution_count": 19,
   "metadata": {},
   "outputs": [],
   "source": [
    "diag = Tropical_Rainfall(num_of_bins=20, first_edge=0, width_of_bin=5)"
   ]
  },
  {
   "attachments": {},
   "cell_type": "markdown",
   "metadata": {},
   "source": [
    "####  The tropical latitude band, by default, is the following"
   ]
  },
  {
   "cell_type": "code",
   "execution_count": 20,
   "metadata": {},
   "outputs": [
    {
     "data": {
      "text/html": [
       "<div><svg style=\"position: absolute; width: 0; height: 0; overflow: hidden\">\n",
       "<defs>\n",
       "<symbol id=\"icon-database\" viewBox=\"0 0 32 32\">\n",
       "<path d=\"M16 0c-8.837 0-16 2.239-16 5v4c0 2.761 7.163 5 16 5s16-2.239 16-5v-4c0-2.761-7.163-5-16-5z\"></path>\n",
       "<path d=\"M16 17c-8.837 0-16-2.239-16-5v6c0 2.761 7.163 5 16 5s16-2.239 16-5v-6c0 2.761-7.163 5-16 5z\"></path>\n",
       "<path d=\"M16 26c-8.837 0-16-2.239-16-5v6c0 2.761 7.163 5 16 5s16-2.239 16-5v-6c0 2.761-7.163 5-16 5z\"></path>\n",
       "</symbol>\n",
       "<symbol id=\"icon-file-text2\" viewBox=\"0 0 32 32\">\n",
       "<path d=\"M28.681 7.159c-0.694-0.947-1.662-2.053-2.724-3.116s-2.169-2.030-3.116-2.724c-1.612-1.182-2.393-1.319-2.841-1.319h-15.5c-1.378 0-2.5 1.121-2.5 2.5v27c0 1.378 1.122 2.5 2.5 2.5h23c1.378 0 2.5-1.122 2.5-2.5v-19.5c0-0.448-0.137-1.23-1.319-2.841zM24.543 5.457c0.959 0.959 1.712 1.825 2.268 2.543h-4.811v-4.811c0.718 0.556 1.584 1.309 2.543 2.268zM28 29.5c0 0.271-0.229 0.5-0.5 0.5h-23c-0.271 0-0.5-0.229-0.5-0.5v-27c0-0.271 0.229-0.5 0.5-0.5 0 0 15.499-0 15.5 0v7c0 0.552 0.448 1 1 1h7v19.5z\"></path>\n",
       "<path d=\"M23 26h-14c-0.552 0-1-0.448-1-1s0.448-1 1-1h14c0.552 0 1 0.448 1 1s-0.448 1-1 1z\"></path>\n",
       "<path d=\"M23 22h-14c-0.552 0-1-0.448-1-1s0.448-1 1-1h14c0.552 0 1 0.448 1 1s-0.448 1-1 1z\"></path>\n",
       "<path d=\"M23 18h-14c-0.552 0-1-0.448-1-1s0.448-1 1-1h14c0.552 0 1 0.448 1 1s-0.448 1-1 1z\"></path>\n",
       "</symbol>\n",
       "</defs>\n",
       "</svg>\n",
       "<style>/* CSS stylesheet for displaying xarray objects in jupyterlab.\n",
       " *\n",
       " */\n",
       "\n",
       ":root {\n",
       "  --xr-font-color0: var(--jp-content-font-color0, rgba(0, 0, 0, 1));\n",
       "  --xr-font-color2: var(--jp-content-font-color2, rgba(0, 0, 0, 0.54));\n",
       "  --xr-font-color3: var(--jp-content-font-color3, rgba(0, 0, 0, 0.38));\n",
       "  --xr-border-color: var(--jp-border-color2, #e0e0e0);\n",
       "  --xr-disabled-color: var(--jp-layout-color3, #bdbdbd);\n",
       "  --xr-background-color: var(--jp-layout-color0, white);\n",
       "  --xr-background-color-row-even: var(--jp-layout-color1, white);\n",
       "  --xr-background-color-row-odd: var(--jp-layout-color2, #eeeeee);\n",
       "}\n",
       "\n",
       "html[theme=dark],\n",
       "body[data-theme=dark],\n",
       "body.vscode-dark {\n",
       "  --xr-font-color0: rgba(255, 255, 255, 1);\n",
       "  --xr-font-color2: rgba(255, 255, 255, 0.54);\n",
       "  --xr-font-color3: rgba(255, 255, 255, 0.38);\n",
       "  --xr-border-color: #1F1F1F;\n",
       "  --xr-disabled-color: #515151;\n",
       "  --xr-background-color: #111111;\n",
       "  --xr-background-color-row-even: #111111;\n",
       "  --xr-background-color-row-odd: #313131;\n",
       "}\n",
       "\n",
       ".xr-wrap {\n",
       "  display: block !important;\n",
       "  min-width: 300px;\n",
       "  max-width: 700px;\n",
       "}\n",
       "\n",
       ".xr-text-repr-fallback {\n",
       "  /* fallback to plain text repr when CSS is not injected (untrusted notebook) */\n",
       "  display: none;\n",
       "}\n",
       "\n",
       ".xr-header {\n",
       "  padding-top: 6px;\n",
       "  padding-bottom: 6px;\n",
       "  margin-bottom: 4px;\n",
       "  border-bottom: solid 1px var(--xr-border-color);\n",
       "}\n",
       "\n",
       ".xr-header > div,\n",
       ".xr-header > ul {\n",
       "  display: inline;\n",
       "  margin-top: 0;\n",
       "  margin-bottom: 0;\n",
       "}\n",
       "\n",
       ".xr-obj-type,\n",
       ".xr-array-name {\n",
       "  margin-left: 2px;\n",
       "  margin-right: 10px;\n",
       "}\n",
       "\n",
       ".xr-obj-type {\n",
       "  color: var(--xr-font-color2);\n",
       "}\n",
       "\n",
       ".xr-sections {\n",
       "  padding-left: 0 !important;\n",
       "  display: grid;\n",
       "  grid-template-columns: 150px auto auto 1fr 20px 20px;\n",
       "}\n",
       "\n",
       ".xr-section-item {\n",
       "  display: contents;\n",
       "}\n",
       "\n",
       ".xr-section-item input {\n",
       "  display: none;\n",
       "}\n",
       "\n",
       ".xr-section-item input + label {\n",
       "  color: var(--xr-disabled-color);\n",
       "}\n",
       "\n",
       ".xr-section-item input:enabled + label {\n",
       "  cursor: pointer;\n",
       "  color: var(--xr-font-color2);\n",
       "}\n",
       "\n",
       ".xr-section-item input:enabled + label:hover {\n",
       "  color: var(--xr-font-color0);\n",
       "}\n",
       "\n",
       ".xr-section-summary {\n",
       "  grid-column: 1;\n",
       "  color: var(--xr-font-color2);\n",
       "  font-weight: 500;\n",
       "}\n",
       "\n",
       ".xr-section-summary > span {\n",
       "  display: inline-block;\n",
       "  padding-left: 0.5em;\n",
       "}\n",
       "\n",
       ".xr-section-summary-in:disabled + label {\n",
       "  color: var(--xr-font-color2);\n",
       "}\n",
       "\n",
       ".xr-section-summary-in + label:before {\n",
       "  display: inline-block;\n",
       "  content: '►';\n",
       "  font-size: 11px;\n",
       "  width: 15px;\n",
       "  text-align: center;\n",
       "}\n",
       "\n",
       ".xr-section-summary-in:disabled + label:before {\n",
       "  color: var(--xr-disabled-color);\n",
       "}\n",
       "\n",
       ".xr-section-summary-in:checked + label:before {\n",
       "  content: '▼';\n",
       "}\n",
       "\n",
       ".xr-section-summary-in:checked + label > span {\n",
       "  display: none;\n",
       "}\n",
       "\n",
       ".xr-section-summary,\n",
       ".xr-section-inline-details {\n",
       "  padding-top: 4px;\n",
       "  padding-bottom: 4px;\n",
       "}\n",
       "\n",
       ".xr-section-inline-details {\n",
       "  grid-column: 2 / -1;\n",
       "}\n",
       "\n",
       ".xr-section-details {\n",
       "  display: none;\n",
       "  grid-column: 1 / -1;\n",
       "  margin-bottom: 5px;\n",
       "}\n",
       "\n",
       ".xr-section-summary-in:checked ~ .xr-section-details {\n",
       "  display: contents;\n",
       "}\n",
       "\n",
       ".xr-array-wrap {\n",
       "  grid-column: 1 / -1;\n",
       "  display: grid;\n",
       "  grid-template-columns: 20px auto;\n",
       "}\n",
       "\n",
       ".xr-array-wrap > label {\n",
       "  grid-column: 1;\n",
       "  vertical-align: top;\n",
       "}\n",
       "\n",
       ".xr-preview {\n",
       "  color: var(--xr-font-color3);\n",
       "}\n",
       "\n",
       ".xr-array-preview,\n",
       ".xr-array-data {\n",
       "  padding: 0 5px !important;\n",
       "  grid-column: 2;\n",
       "}\n",
       "\n",
       ".xr-array-data,\n",
       ".xr-array-in:checked ~ .xr-array-preview {\n",
       "  display: none;\n",
       "}\n",
       "\n",
       ".xr-array-in:checked ~ .xr-array-data,\n",
       ".xr-array-preview {\n",
       "  display: inline-block;\n",
       "}\n",
       "\n",
       ".xr-dim-list {\n",
       "  display: inline-block !important;\n",
       "  list-style: none;\n",
       "  padding: 0 !important;\n",
       "  margin: 0;\n",
       "}\n",
       "\n",
       ".xr-dim-list li {\n",
       "  display: inline-block;\n",
       "  padding: 0;\n",
       "  margin: 0;\n",
       "}\n",
       "\n",
       ".xr-dim-list:before {\n",
       "  content: '(';\n",
       "}\n",
       "\n",
       ".xr-dim-list:after {\n",
       "  content: ')';\n",
       "}\n",
       "\n",
       ".xr-dim-list li:not(:last-child):after {\n",
       "  content: ',';\n",
       "  padding-right: 5px;\n",
       "}\n",
       "\n",
       ".xr-has-index {\n",
       "  font-weight: bold;\n",
       "}\n",
       "\n",
       ".xr-var-list,\n",
       ".xr-var-item {\n",
       "  display: contents;\n",
       "}\n",
       "\n",
       ".xr-var-item > div,\n",
       ".xr-var-item label,\n",
       ".xr-var-item > .xr-var-name span {\n",
       "  background-color: var(--xr-background-color-row-even);\n",
       "  margin-bottom: 0;\n",
       "}\n",
       "\n",
       ".xr-var-item > .xr-var-name:hover span {\n",
       "  padding-right: 5px;\n",
       "}\n",
       "\n",
       ".xr-var-list > li:nth-child(odd) > div,\n",
       ".xr-var-list > li:nth-child(odd) > label,\n",
       ".xr-var-list > li:nth-child(odd) > .xr-var-name span {\n",
       "  background-color: var(--xr-background-color-row-odd);\n",
       "}\n",
       "\n",
       ".xr-var-name {\n",
       "  grid-column: 1;\n",
       "}\n",
       "\n",
       ".xr-var-dims {\n",
       "  grid-column: 2;\n",
       "}\n",
       "\n",
       ".xr-var-dtype {\n",
       "  grid-column: 3;\n",
       "  text-align: right;\n",
       "  color: var(--xr-font-color2);\n",
       "}\n",
       "\n",
       ".xr-var-preview {\n",
       "  grid-column: 4;\n",
       "}\n",
       "\n",
       ".xr-index-preview {\n",
       "  grid-column: 2 / 5;\n",
       "  color: var(--xr-font-color2);\n",
       "}\n",
       "\n",
       ".xr-var-name,\n",
       ".xr-var-dims,\n",
       ".xr-var-dtype,\n",
       ".xr-preview,\n",
       ".xr-attrs dt {\n",
       "  white-space: nowrap;\n",
       "  overflow: hidden;\n",
       "  text-overflow: ellipsis;\n",
       "  padding-right: 10px;\n",
       "}\n",
       "\n",
       ".xr-var-name:hover,\n",
       ".xr-var-dims:hover,\n",
       ".xr-var-dtype:hover,\n",
       ".xr-attrs dt:hover {\n",
       "  overflow: visible;\n",
       "  width: auto;\n",
       "  z-index: 1;\n",
       "}\n",
       "\n",
       ".xr-var-attrs,\n",
       ".xr-var-data,\n",
       ".xr-index-data {\n",
       "  display: none;\n",
       "  background-color: var(--xr-background-color) !important;\n",
       "  padding-bottom: 5px !important;\n",
       "}\n",
       "\n",
       ".xr-var-attrs-in:checked ~ .xr-var-attrs,\n",
       ".xr-var-data-in:checked ~ .xr-var-data,\n",
       ".xr-index-data-in:checked ~ .xr-index-data {\n",
       "  display: block;\n",
       "}\n",
       "\n",
       ".xr-var-data > table {\n",
       "  float: right;\n",
       "}\n",
       "\n",
       ".xr-var-name span,\n",
       ".xr-var-data,\n",
       ".xr-index-name div,\n",
       ".xr-index-data,\n",
       ".xr-attrs {\n",
       "  padding-left: 25px !important;\n",
       "}\n",
       "\n",
       ".xr-attrs,\n",
       ".xr-var-attrs,\n",
       ".xr-var-data,\n",
       ".xr-index-data {\n",
       "  grid-column: 1 / -1;\n",
       "}\n",
       "\n",
       "dl.xr-attrs {\n",
       "  padding: 0;\n",
       "  margin: 0;\n",
       "  display: grid;\n",
       "  grid-template-columns: 125px auto;\n",
       "}\n",
       "\n",
       ".xr-attrs dt,\n",
       ".xr-attrs dd {\n",
       "  padding: 0;\n",
       "  margin: 0;\n",
       "  float: left;\n",
       "  padding-right: 10px;\n",
       "  width: auto;\n",
       "}\n",
       "\n",
       ".xr-attrs dt {\n",
       "  font-weight: normal;\n",
       "  grid-column: 1;\n",
       "}\n",
       "\n",
       ".xr-attrs dt:hover span {\n",
       "  display: inline-block;\n",
       "  background: var(--xr-background-color);\n",
       "  padding-right: 10px;\n",
       "}\n",
       "\n",
       ".xr-attrs dd {\n",
       "  grid-column: 2;\n",
       "  white-space: pre-wrap;\n",
       "  word-break: break-all;\n",
       "}\n",
       "\n",
       ".xr-icon-database,\n",
       ".xr-icon-file-text2,\n",
       ".xr-no-icon {\n",
       "  display: inline-block;\n",
       "  vertical-align: middle;\n",
       "  width: 1em;\n",
       "  height: 1.5em !important;\n",
       "  stroke-width: 0;\n",
       "  stroke: currentColor;\n",
       "  fill: currentColor;\n",
       "}\n",
       "</style><pre class='xr-text-repr-fallback'>&lt;xarray.Dataset&gt; Size: 960B\n",
       "Dimensions:        (center_of_bin: 20)\n",
       "Coordinates:\n",
       "  * center_of_bin  (center_of_bin) float64 160B 2.5 7.5 12.5 ... 87.5 92.5 97.5\n",
       "    width          (center_of_bin) float64 160B 5.0 5.0 5.0 5.0 ... 5.0 5.0 5.0\n",
       "Data variables:\n",
       "    counts         (center_of_bin) float64 160B 1.235e+06 5.191e+05 ... 1.0 0.0\n",
       "    frequency      (center_of_bin) float64 160B 0.5804 0.244 ... 4.7e-07 0.0\n",
       "    pdf            (center_of_bin) float64 160B 0.1161 0.0488 ... 9.4e-08 0.0\n",
       "    pdfP           (center_of_bin) float64 160B 0.2902 0.366 ... 8.695e-06 0.0\n",
       "Attributes:\n",
       "    history:                \\n2024-04-16 21:18:42 AQUA💧: Retrieved from ICON_...\n",
       "    time_band:              1990-01-01T00:00:00.000000000, 2006-05-01T00:00:0...\n",
       "    lat_band:               -14.5, 14.5, freq=1.0\n",
       "    lon_band:               0.0, 359.0, freq=1.0\n",
       "    time_band_history:      1990-01-01T00:00:00.000000000, 2006-05-01T00:00:0...\n",
       "    units:                  mm/day\n",
       "    mean_of_original_data:  5.143757961054234\n",
       "    mean_of_histogram:      5.88433681143072\n",
       "    relative_discrepancy:   -14.397622438375798</pre><div class='xr-wrap' style='display:none'><div class='xr-header'><div class='xr-obj-type'>xarray.Dataset</div></div><ul class='xr-sections'><li class='xr-section-item'><input id='section-15a5817f-62ae-43c9-afe8-4f2b76e31b73' class='xr-section-summary-in' type='checkbox' disabled ><label for='section-15a5817f-62ae-43c9-afe8-4f2b76e31b73' class='xr-section-summary'  title='Expand/collapse section'>Dimensions:</label><div class='xr-section-inline-details'><ul class='xr-dim-list'><li><span class='xr-has-index'>center_of_bin</span>: 20</li></ul></div><div class='xr-section-details'></div></li><li class='xr-section-item'><input id='section-6b780800-5289-4052-b5b4-e7daf19d5437' class='xr-section-summary-in' type='checkbox'  checked><label for='section-6b780800-5289-4052-b5b4-e7daf19d5437' class='xr-section-summary' >Coordinates: <span>(2)</span></label><div class='xr-section-inline-details'></div><div class='xr-section-details'><ul class='xr-var-list'><li class='xr-var-item'><div class='xr-var-name'><span class='xr-has-index'>center_of_bin</span></div><div class='xr-var-dims'>(center_of_bin)</div><div class='xr-var-dtype'>float64</div><div class='xr-var-preview xr-preview'>2.5 7.5 12.5 ... 87.5 92.5 97.5</div><input id='attrs-134d314b-98fe-4f74-95c7-decb779fade9' class='xr-var-attrs-in' type='checkbox' ><label for='attrs-134d314b-98fe-4f74-95c7-decb779fade9' title='Show/Hide attributes'><svg class='icon xr-icon-file-text2'><use xlink:href='#icon-file-text2'></use></svg></label><input id='data-19331468-fdab-4cfb-b25b-9b3884dc1e38' class='xr-var-data-in' type='checkbox'><label for='data-19331468-fdab-4cfb-b25b-9b3884dc1e38' title='Show/Hide data repr'><svg class='icon xr-icon-database'><use xlink:href='#icon-database'></use></svg></label><div class='xr-var-attrs'><dl class='xr-attrs'><dt><span>units :</span></dt><dd>mm/day</dd><dt><span>history :</span></dt><dd>Units are added to the bins to coordinate</dd></dl></div><div class='xr-var-data'><pre>array([ 2.5,  7.5, 12.5, 17.5, 22.5, 27.5, 32.5, 37.5, 42.5, 47.5, 52.5, 57.5,\n",
       "       62.5, 67.5, 72.5, 77.5, 82.5, 87.5, 92.5, 97.5])</pre></div></li><li class='xr-var-item'><div class='xr-var-name'><span>width</span></div><div class='xr-var-dims'>(center_of_bin)</div><div class='xr-var-dtype'>float64</div><div class='xr-var-preview xr-preview'>5.0 5.0 5.0 5.0 ... 5.0 5.0 5.0 5.0</div><input id='attrs-edaccd97-c64c-4231-8e5e-bc295c0a723c' class='xr-var-attrs-in' type='checkbox' disabled><label for='attrs-edaccd97-c64c-4231-8e5e-bc295c0a723c' title='Show/Hide attributes'><svg class='icon xr-icon-file-text2'><use xlink:href='#icon-file-text2'></use></svg></label><input id='data-893e29be-a3a6-464c-a367-3effb785b160' class='xr-var-data-in' type='checkbox'><label for='data-893e29be-a3a6-464c-a367-3effb785b160' title='Show/Hide data repr'><svg class='icon xr-icon-database'><use xlink:href='#icon-database'></use></svg></label><div class='xr-var-attrs'><dl class='xr-attrs'></dl></div><div class='xr-var-data'><pre>array([5., 5., 5., 5., 5., 5., 5., 5., 5., 5., 5., 5., 5., 5., 5., 5., 5.,\n",
       "       5., 5., 5.])</pre></div></li></ul></div></li><li class='xr-section-item'><input id='section-fcba7a22-9faa-4d30-b41f-ade66e60da99' class='xr-section-summary-in' type='checkbox'  checked><label for='section-fcba7a22-9faa-4d30-b41f-ade66e60da99' class='xr-section-summary' >Data variables: <span>(4)</span></label><div class='xr-section-inline-details'></div><div class='xr-section-details'><ul class='xr-var-list'><li class='xr-var-item'><div class='xr-var-name'><span>counts</span></div><div class='xr-var-dims'>(center_of_bin)</div><div class='xr-var-dtype'>float64</div><div class='xr-var-preview xr-preview'>1.235e+06 5.191e+05 ... 1.0 0.0</div><input id='attrs-d569677a-9894-4dc3-a53e-c3f00b23d66c' class='xr-var-attrs-in' type='checkbox' ><label for='attrs-d569677a-9894-4dc3-a53e-c3f00b23d66c' title='Show/Hide attributes'><svg class='icon xr-icon-file-text2'><use xlink:href='#icon-file-text2'></use></svg></label><input id='data-63e40eb1-4e8e-4276-b741-4d5c187663c3' class='xr-var-data-in' type='checkbox'><label for='data-63e40eb1-4e8e-4276-b741-4d5c187663c3' title='Show/Hide data repr'><svg class='icon xr-icon-database'><use xlink:href='#icon-database'></use></svg></label><div class='xr-var-attrs'><dl class='xr-attrs'><dt><span>GRIB_paramId :</span></dt><dd>260048</dd><dt><span>long_name :</span></dt><dd>Mean total precipitation rate</dd><dt><span>shortName :</span></dt><dd>mtpr</dd><dt><span>GRIB_stepUnits :</span></dt><dd>1</dd><dt><span>GRIB_gridDefinitionDescription :</span></dt><dd>150</dd><dt><span>GRIB_typeOfLevel :</span></dt><dd>surface</dd><dt><span>standard_name :</span></dt><dd>unknown</dd><dt><span>GRIB_gridType :</span></dt><dd>healpix</dd><dt><span>GRIB_cfName :</span></dt><dd>unknown</dd><dt><span>GRIB_stepType :</span></dt><dd>instant</dd><dt><span>GRIB_cfVarName :</span></dt><dd>tprate</dd><dt><span>GRIB_numberOfPoints :</span></dt><dd>12582912</dd><dt><span>GRIB_name :</span></dt><dd>Total precipitation rate</dd><dt><span>units :</span></dt><dd>mm/day</dd><dt><span>GRIB_missingValue :</span></dt><dd>9999</dd><dt><span>cfVarName :</span></dt><dd>mtpr</dd><dt><span>history :</span></dt><dd>\n",
       "2024-03-02 07:15:03 AQUA💧: Variable renamed mtpr by fixer;\n",
       "2024-03-02 07:15:03 AQUA💧: Converting units of mtpr: from kg m**-2 s**-1 to kg m**-2 s**-1;\n",
       "2024-03-02 07:15:06 AQUA💧: resampled from frequency 1h to frequency monthly by AQUA timmean;\n",
       "2024-03-02 07:15:06 AQUA💧: Regrid from hpz10-nested to r100;\n",
       "2024-03-02 07:17:03 AQUA💧: regridded from hpz10-nested to r100 and from frequency 1 to monthly through LRA generator;\n",
       "2024-04-16 21:18:42 the units of precipitation are converted from mm/day to mm/day;\n",
       " </dd><dt><span>GRIB_NV :</span></dt><dd>0</dd><dt><span>gridtype :</span></dt><dd>healpix</dd><dt><span>GRIB_shortName :</span></dt><dd>tprate</dd><dt><span>paramId :</span></dt><dd>235055</dd><dt><span>GRIB_units :</span></dt><dd>kg m**-2 s**-1</dd><dt><span>GRIB_dataType :</span></dt><dd>fc</dd><dt><span>size_of_the_data :</span></dt><dd>2127600</dd><dt><span>time_band :</span></dt><dd>1990-01-01T00:00:00.000000000, 2006-05-01T00:00:00.000000000, freq=M</dd><dt><span>lat_band :</span></dt><dd>-14.5, 14.5, freq=1.0</dd><dt><span>lon_band :</span></dt><dd>0.0, 359.0, freq=1.0</dd><dt><span>time_band_history :</span></dt><dd>1990-01-01T00:00:00.000000000, 2006-05-01T00:00:00.000000000, freq=M</dd><dt><span>mean_of_original_data :</span></dt><dd>5.143757961054234</dd><dt><span>mean_of_histogram :</span></dt><dd>5.88433681143072</dd><dt><span>relative_discrepancy :</span></dt><dd>-14.397622438375798</dd></dl></div><div class='xr-var-data'><pre>array([1.234831e+06, 5.191060e+05, 2.556560e+05, 8.104200e+04,\n",
       "       2.483400e+04, 8.063000e+03, 2.597000e+03, 8.750000e+02,\n",
       "       3.460000e+02, 1.590000e+02, 5.500000e+01, 1.400000e+01,\n",
       "       7.000000e+00, 6.000000e+00, 3.000000e+00, 4.000000e+00,\n",
       "       1.000000e+00, 0.000000e+00, 1.000000e+00, 0.000000e+00])</pre></div></li><li class='xr-var-item'><div class='xr-var-name'><span>frequency</span></div><div class='xr-var-dims'>(center_of_bin)</div><div class='xr-var-dtype'>float64</div><div class='xr-var-preview xr-preview'>0.5804 0.244 0.1202 ... 4.7e-07 0.0</div><input id='attrs-ea30f77d-c74c-472f-bbb7-22a151bbf165' class='xr-var-attrs-in' type='checkbox' ><label for='attrs-ea30f77d-c74c-472f-bbb7-22a151bbf165' title='Show/Hide attributes'><svg class='icon xr-icon-file-text2'><use xlink:href='#icon-file-text2'></use></svg></label><input id='data-c90e9501-f956-4eba-b008-b98f7393cff7' class='xr-var-data-in' type='checkbox'><label for='data-c90e9501-f956-4eba-b008-b98f7393cff7' title='Show/Hide data repr'><svg class='icon xr-icon-database'><use xlink:href='#icon-database'></use></svg></label><div class='xr-var-attrs'><dl class='xr-attrs'><dt><span>GRIB_paramId :</span></dt><dd>260048</dd><dt><span>long_name :</span></dt><dd>Mean total precipitation rate</dd><dt><span>shortName :</span></dt><dd>mtpr</dd><dt><span>GRIB_stepUnits :</span></dt><dd>1</dd><dt><span>GRIB_gridDefinitionDescription :</span></dt><dd>150</dd><dt><span>GRIB_typeOfLevel :</span></dt><dd>surface</dd><dt><span>standard_name :</span></dt><dd>unknown</dd><dt><span>GRIB_gridType :</span></dt><dd>healpix</dd><dt><span>GRIB_cfName :</span></dt><dd>unknown</dd><dt><span>GRIB_stepType :</span></dt><dd>instant</dd><dt><span>GRIB_cfVarName :</span></dt><dd>tprate</dd><dt><span>GRIB_numberOfPoints :</span></dt><dd>12582912</dd><dt><span>GRIB_name :</span></dt><dd>Total precipitation rate</dd><dt><span>units :</span></dt><dd>mm/day</dd><dt><span>GRIB_missingValue :</span></dt><dd>9999</dd><dt><span>cfVarName :</span></dt><dd>mtpr</dd><dt><span>history :</span></dt><dd>\n",
       "2024-03-02 07:15:03 AQUA💧: Variable renamed mtpr by fixer;\n",
       "2024-03-02 07:15:03 AQUA💧: Converting units of mtpr: from kg m**-2 s**-1 to kg m**-2 s**-1;\n",
       "2024-03-02 07:15:06 AQUA💧: resampled from frequency 1h to frequency monthly by AQUA timmean;\n",
       "2024-03-02 07:15:06 AQUA💧: Regrid from hpz10-nested to r100;\n",
       "2024-03-02 07:17:03 AQUA💧: regridded from hpz10-nested to r100 and from frequency 1 to monthly through LRA generator;\n",
       "2024-04-16 21:18:42 the units of precipitation are converted from mm/day to mm/day;\n",
       " </dd><dt><span>GRIB_NV :</span></dt><dd>0</dd><dt><span>gridtype :</span></dt><dd>healpix</dd><dt><span>GRIB_shortName :</span></dt><dd>tprate</dd><dt><span>paramId :</span></dt><dd>235055</dd><dt><span>GRIB_units :</span></dt><dd>kg m**-2 s**-1</dd><dt><span>GRIB_dataType :</span></dt><dd>fc</dd><dt><span>size_of_the_data :</span></dt><dd>2127600</dd><dt><span>time_band :</span></dt><dd>1990-01-01T00:00:00.000000000, 2006-05-01T00:00:00.000000000, freq=M</dd><dt><span>lat_band :</span></dt><dd>-14.5, 14.5, freq=1.0</dd><dt><span>lon_band :</span></dt><dd>0.0, 359.0, freq=1.0</dd><dt><span>time_band_history :</span></dt><dd>1990-01-01T00:00:00.000000000, 2006-05-01T00:00:00.000000000, freq=M</dd><dt><span>mean_of_original_data :</span></dt><dd>5.143757961054234</dd><dt><span>mean_of_histogram :</span></dt><dd>5.88433681143072</dd><dt><span>relative_discrepancy :</span></dt><dd>-14.397622438375798</dd></dl></div><div class='xr-var-data'><pre>array([5.80386821e-01, 2.43986652e-01, 1.20161685e-01, 3.80908065e-02,\n",
       "       1.16723068e-02, 3.78971611e-03, 1.22062418e-03, 4.11261515e-04,\n",
       "       1.62624553e-04, 7.47320925e-05, 2.58507238e-05, 6.58018425e-06,\n",
       "       3.29009212e-06, 2.82007896e-06, 1.41003948e-06, 1.88005264e-06,\n",
       "       4.70013160e-07, 0.00000000e+00, 4.70013160e-07, 0.00000000e+00])</pre></div></li><li class='xr-var-item'><div class='xr-var-name'><span>pdf</span></div><div class='xr-var-dims'>(center_of_bin)</div><div class='xr-var-dtype'>float64</div><div class='xr-var-preview xr-preview'>0.1161 0.0488 ... 9.4e-08 0.0</div><input id='attrs-8e808806-549e-4af7-a368-09f473ceeab5' class='xr-var-attrs-in' type='checkbox' ><label for='attrs-8e808806-549e-4af7-a368-09f473ceeab5' title='Show/Hide attributes'><svg class='icon xr-icon-file-text2'><use xlink:href='#icon-file-text2'></use></svg></label><input id='data-45a22fd9-bb39-4758-a57d-bb8823ff5b8c' class='xr-var-data-in' type='checkbox'><label for='data-45a22fd9-bb39-4758-a57d-bb8823ff5b8c' title='Show/Hide data repr'><svg class='icon xr-icon-database'><use xlink:href='#icon-database'></use></svg></label><div class='xr-var-attrs'><dl class='xr-attrs'><dt><span>GRIB_paramId :</span></dt><dd>260048</dd><dt><span>long_name :</span></dt><dd>Mean total precipitation rate</dd><dt><span>shortName :</span></dt><dd>mtpr</dd><dt><span>GRIB_stepUnits :</span></dt><dd>1</dd><dt><span>GRIB_gridDefinitionDescription :</span></dt><dd>150</dd><dt><span>GRIB_typeOfLevel :</span></dt><dd>surface</dd><dt><span>standard_name :</span></dt><dd>unknown</dd><dt><span>GRIB_gridType :</span></dt><dd>healpix</dd><dt><span>GRIB_cfName :</span></dt><dd>unknown</dd><dt><span>GRIB_stepType :</span></dt><dd>instant</dd><dt><span>GRIB_cfVarName :</span></dt><dd>tprate</dd><dt><span>GRIB_numberOfPoints :</span></dt><dd>12582912</dd><dt><span>GRIB_name :</span></dt><dd>Total precipitation rate</dd><dt><span>units :</span></dt><dd>mm/day</dd><dt><span>GRIB_missingValue :</span></dt><dd>9999</dd><dt><span>cfVarName :</span></dt><dd>mtpr</dd><dt><span>history :</span></dt><dd>\n",
       "2024-03-02 07:15:03 AQUA💧: Variable renamed mtpr by fixer;\n",
       "2024-03-02 07:15:03 AQUA💧: Converting units of mtpr: from kg m**-2 s**-1 to kg m**-2 s**-1;\n",
       "2024-03-02 07:15:06 AQUA💧: resampled from frequency 1h to frequency monthly by AQUA timmean;\n",
       "2024-03-02 07:15:06 AQUA💧: Regrid from hpz10-nested to r100;\n",
       "2024-03-02 07:17:03 AQUA💧: regridded from hpz10-nested to r100 and from frequency 1 to monthly through LRA generator;\n",
       "2024-04-16 21:18:42 the units of precipitation are converted from mm/day to mm/day;\n",
       " </dd><dt><span>GRIB_NV :</span></dt><dd>0</dd><dt><span>gridtype :</span></dt><dd>healpix</dd><dt><span>GRIB_shortName :</span></dt><dd>tprate</dd><dt><span>paramId :</span></dt><dd>235055</dd><dt><span>GRIB_units :</span></dt><dd>kg m**-2 s**-1</dd><dt><span>GRIB_dataType :</span></dt><dd>fc</dd><dt><span>size_of_the_data :</span></dt><dd>2127600</dd><dt><span>time_band :</span></dt><dd>1990-01-01T00:00:00.000000000, 2006-05-01T00:00:00.000000000, freq=M</dd><dt><span>lat_band :</span></dt><dd>-14.5, 14.5, freq=1.0</dd><dt><span>lon_band :</span></dt><dd>0.0, 359.0, freq=1.0</dd><dt><span>time_band_history :</span></dt><dd>1990-01-01T00:00:00.000000000, 2006-05-01T00:00:00.000000000, freq=M</dd><dt><span>mean_of_original_data :</span></dt><dd>5.143757961054234</dd><dt><span>mean_of_histogram :</span></dt><dd>5.88433681143072</dd><dt><span>relative_discrepancy :</span></dt><dd>-14.397622438375798</dd></dl></div><div class='xr-var-data'><pre>array([1.16077364e-01, 4.87973303e-02, 2.40323369e-02, 7.61816131e-03,\n",
       "       2.33446136e-03, 7.57943222e-04, 2.44124835e-04, 8.22523031e-05,\n",
       "       3.25249107e-05, 1.49464185e-05, 5.17014476e-06, 1.31603685e-06,\n",
       "       6.58018425e-07, 5.64015792e-07, 2.82007896e-07, 3.76010528e-07,\n",
       "       9.40026321e-08, 0.00000000e+00, 9.40026321e-08, 0.00000000e+00])</pre></div></li><li class='xr-var-item'><div class='xr-var-name'><span>pdfP</span></div><div class='xr-var-dims'>(center_of_bin)</div><div class='xr-var-dtype'>float64</div><div class='xr-var-preview xr-preview'>0.2902 0.366 ... 8.695e-06 0.0</div><input id='attrs-dad49ca1-592b-4446-be90-1b01b7b3f891' class='xr-var-attrs-in' type='checkbox' ><label for='attrs-dad49ca1-592b-4446-be90-1b01b7b3f891' title='Show/Hide attributes'><svg class='icon xr-icon-file-text2'><use xlink:href='#icon-file-text2'></use></svg></label><input id='data-96e68f5c-7fbc-4da3-9ddf-5643e865b157' class='xr-var-data-in' type='checkbox'><label for='data-96e68f5c-7fbc-4da3-9ddf-5643e865b157' title='Show/Hide data repr'><svg class='icon xr-icon-database'><use xlink:href='#icon-database'></use></svg></label><div class='xr-var-attrs'><dl class='xr-attrs'><dt><span>GRIB_paramId :</span></dt><dd>260048</dd><dt><span>long_name :</span></dt><dd>Mean total precipitation rate</dd><dt><span>shortName :</span></dt><dd>mtpr</dd><dt><span>GRIB_stepUnits :</span></dt><dd>1</dd><dt><span>GRIB_gridDefinitionDescription :</span></dt><dd>150</dd><dt><span>GRIB_typeOfLevel :</span></dt><dd>surface</dd><dt><span>standard_name :</span></dt><dd>unknown</dd><dt><span>GRIB_gridType :</span></dt><dd>healpix</dd><dt><span>GRIB_cfName :</span></dt><dd>unknown</dd><dt><span>GRIB_stepType :</span></dt><dd>instant</dd><dt><span>GRIB_cfVarName :</span></dt><dd>tprate</dd><dt><span>GRIB_numberOfPoints :</span></dt><dd>12582912</dd><dt><span>GRIB_name :</span></dt><dd>Total precipitation rate</dd><dt><span>units :</span></dt><dd>mm/day</dd><dt><span>GRIB_missingValue :</span></dt><dd>9999</dd><dt><span>cfVarName :</span></dt><dd>mtpr</dd><dt><span>history :</span></dt><dd>\n",
       "2024-03-02 07:15:03 AQUA💧: Variable renamed mtpr by fixer;\n",
       "2024-03-02 07:15:03 AQUA💧: Converting units of mtpr: from kg m**-2 s**-1 to kg m**-2 s**-1;\n",
       "2024-03-02 07:15:06 AQUA💧: resampled from frequency 1h to frequency monthly by AQUA timmean;\n",
       "2024-03-02 07:15:06 AQUA💧: Regrid from hpz10-nested to r100;\n",
       "2024-03-02 07:17:03 AQUA💧: regridded from hpz10-nested to r100 and from frequency 1 to monthly through LRA generator;\n",
       "2024-04-16 21:18:42 the units of precipitation are converted from mm/day to mm/day;\n",
       " </dd><dt><span>GRIB_NV :</span></dt><dd>0</dd><dt><span>gridtype :</span></dt><dd>healpix</dd><dt><span>GRIB_shortName :</span></dt><dd>tprate</dd><dt><span>paramId :</span></dt><dd>235055</dd><dt><span>GRIB_units :</span></dt><dd>kg m**-2 s**-1</dd><dt><span>GRIB_dataType :</span></dt><dd>fc</dd><dt><span>size_of_the_data :</span></dt><dd>2127600</dd></dl></div><div class='xr-var-data'><pre>array([2.90193410e-01, 3.65979977e-01, 3.00404211e-01, 1.33317823e-01,\n",
       "       5.25253807e-02, 2.08434386e-02, 7.93405715e-03, 3.08446136e-03,\n",
       "       1.38230870e-03, 7.09954879e-04, 2.71432600e-04, 7.56721188e-05,\n",
       "       4.11261515e-05, 3.80710660e-05, 2.04455725e-05, 2.91408159e-05,\n",
       "       7.75521715e-06, 0.00000000e+00, 8.69524347e-06, 0.00000000e+00])</pre></div></li></ul></div></li><li class='xr-section-item'><input id='section-f3db3563-782a-4cd1-b0b6-e9b1202491e0' class='xr-section-summary-in' type='checkbox'  ><label for='section-f3db3563-782a-4cd1-b0b6-e9b1202491e0' class='xr-section-summary' >Indexes: <span>(1)</span></label><div class='xr-section-inline-details'></div><div class='xr-section-details'><ul class='xr-var-list'><li class='xr-var-item'><div class='xr-index-name'><div>center_of_bin</div></div><div class='xr-index-preview'>PandasIndex</div><div></div><input id='index-e523f5e4-1ebc-41f0-8370-c5d0f148a304' class='xr-index-data-in' type='checkbox'/><label for='index-e523f5e4-1ebc-41f0-8370-c5d0f148a304' title='Show/Hide index repr'><svg class='icon xr-icon-database'><use xlink:href='#icon-database'></use></svg></label><div class='xr-index-data'><pre>PandasIndex(Index([ 2.5,  7.5, 12.5, 17.5, 22.5, 27.5, 32.5, 37.5, 42.5, 47.5, 52.5, 57.5,\n",
       "       62.5, 67.5, 72.5, 77.5, 82.5, 87.5, 92.5, 97.5],\n",
       "      dtype=&#x27;float64&#x27;, name=&#x27;center_of_bin&#x27;))</pre></div></li></ul></div></li><li class='xr-section-item'><input id='section-8b90c2c0-2f88-4c58-9ae3-8ddac2ac9740' class='xr-section-summary-in' type='checkbox'  checked><label for='section-8b90c2c0-2f88-4c58-9ae3-8ddac2ac9740' class='xr-section-summary' >Attributes: <span>(9)</span></label><div class='xr-section-inline-details'></div><div class='xr-section-details'><dl class='xr-attrs'><dt><span>history :</span></dt><dd>\n",
       "2024-04-16 21:18:42 AQUA💧: Retrieved from ICON_historical-1990_lra-r100-monthly using file from disk;\n",
       "2024-04-16 21:18:42 AQUA💧: Coordinates adjusted to ifs by fixer;\n",
       "2024-04-16 21:18:43 histogram is calculated for time_band: [1990-01-01T00:00:00.000000000, 2006-05-01T00:00:00.000000000, freq=M]; lat_band: [-14.5, 14.5, freq=1.0]; lon_band: [0.0, 359.0, freq=1.0];\n",
       " </dd><dt><span>time_band :</span></dt><dd>1990-01-01T00:00:00.000000000, 2006-05-01T00:00:00.000000000, freq=M</dd><dt><span>lat_band :</span></dt><dd>-14.5, 14.5, freq=1.0</dd><dt><span>lon_band :</span></dt><dd>0.0, 359.0, freq=1.0</dd><dt><span>time_band_history :</span></dt><dd>1990-01-01T00:00:00.000000000, 2006-05-01T00:00:00.000000000, freq=M</dd><dt><span>units :</span></dt><dd>mm/day</dd><dt><span>mean_of_original_data :</span></dt><dd>5.143757961054234</dd><dt><span>mean_of_histogram :</span></dt><dd>5.88433681143072</dd><dt><span>relative_discrepancy :</span></dt><dd>-14.397622438375798</dd></dl></div></li></ul></div></div>"
      ],
      "text/plain": [
       "<xarray.Dataset> Size: 960B\n",
       "Dimensions:        (center_of_bin: 20)\n",
       "Coordinates:\n",
       "  * center_of_bin  (center_of_bin) float64 160B 2.5 7.5 12.5 ... 87.5 92.5 97.5\n",
       "    width          (center_of_bin) float64 160B 5.0 5.0 5.0 5.0 ... 5.0 5.0 5.0\n",
       "Data variables:\n",
       "    counts         (center_of_bin) float64 160B 1.235e+06 5.191e+05 ... 1.0 0.0\n",
       "    frequency      (center_of_bin) float64 160B 0.5804 0.244 ... 4.7e-07 0.0\n",
       "    pdf            (center_of_bin) float64 160B 0.1161 0.0488 ... 9.4e-08 0.0\n",
       "    pdfP           (center_of_bin) float64 160B 0.2902 0.366 ... 8.695e-06 0.0\n",
       "Attributes:\n",
       "    history:                \\n2024-04-16 21:18:42 AQUA💧: Retrieved from ICON_...\n",
       "    time_band:              1990-01-01T00:00:00.000000000, 2006-05-01T00:00:0...\n",
       "    lat_band:               -14.5, 14.5, freq=1.0\n",
       "    lon_band:               0.0, 359.0, freq=1.0\n",
       "    time_band_history:      1990-01-01T00:00:00.000000000, 2006-05-01T00:00:0...\n",
       "    units:                  mm/day\n",
       "    mean_of_original_data:  5.143757961054234\n",
       "    mean_of_histogram:      5.88433681143072\n",
       "    relative_discrepancy:   -14.397622438375798"
      ]
     },
     "execution_count": 20,
     "metadata": {},
     "output_type": "execute_result"
    }
   ],
   "source": [
    "hist_icon  = diag.histogram(icon)\n",
    "hist_icon"
   ]
  },
  {
   "attachments": {},
   "cell_type": "markdown",
   "metadata": {},
   "source": [
    "#### Initialization of diagnostic with a log spaced bins"
   ]
  },
  {
   "cell_type": "code",
   "execution_count": 21,
   "metadata": {},
   "outputs": [],
   "source": [
    "bins = [1.00000000e-09, 1.63789371e-09, 2.68269580e-09, 4.39397056e-09,\n",
    "        7.19685673e-09, 1.17876863e-08, 1.93069773e-08, 3.16227766e-08,\n",
    "        5.17947468e-08, 8.48342898e-08, 1.38949549e-07, 2.27584593e-07,\n",
    "        3.72759372e-07, 6.10540230e-07, 1.00000000e-06]"
   ]
  },
  {
   "cell_type": "code",
   "execution_count": 22,
   "metadata": {},
   "outputs": [],
   "source": [
    "diag = Tropical_Rainfall(bins=bins)"
   ]
  },
  {
   "cell_type": "code",
   "execution_count": 23,
   "metadata": {},
   "outputs": [
    {
     "name": "stderr",
     "output_type": "stream",
     "text": [
      "\u001b[38;2;255;165;0m2024-04-16 21:18:43 :: Trop. Rainfall :: WARNING  -> Amount of counts in the histogram is not equal to the size of the data\u001b[0m\n",
      "\u001b[38;2;255;165;0m2024-04-16 21:18:43 :: Trop. Rainfall :: WARNING  -> Check the data and the bins\u001b[0m\n"
     ]
    },
    {
     "name": "stderr",
     "output_type": "stream",
     "text": [
      "\u001b[38;2;255;165;0m2024-04-16 21:18:43 :: Trop. Rainfall :: WARNING  -> The difference between the mean of the data and the mean of the histogram is greater                                 than the threshold. \n",
      " Increase the number of bins and decrease the width of the bins.\u001b[0m\n"
     ]
    },
    {
     "data": {
      "text/html": [
       "<div><svg style=\"position: absolute; width: 0; height: 0; overflow: hidden\">\n",
       "<defs>\n",
       "<symbol id=\"icon-database\" viewBox=\"0 0 32 32\">\n",
       "<path d=\"M16 0c-8.837 0-16 2.239-16 5v4c0 2.761 7.163 5 16 5s16-2.239 16-5v-4c0-2.761-7.163-5-16-5z\"></path>\n",
       "<path d=\"M16 17c-8.837 0-16-2.239-16-5v6c0 2.761 7.163 5 16 5s16-2.239 16-5v-6c0 2.761-7.163 5-16 5z\"></path>\n",
       "<path d=\"M16 26c-8.837 0-16-2.239-16-5v6c0 2.761 7.163 5 16 5s16-2.239 16-5v-6c0 2.761-7.163 5-16 5z\"></path>\n",
       "</symbol>\n",
       "<symbol id=\"icon-file-text2\" viewBox=\"0 0 32 32\">\n",
       "<path d=\"M28.681 7.159c-0.694-0.947-1.662-2.053-2.724-3.116s-2.169-2.030-3.116-2.724c-1.612-1.182-2.393-1.319-2.841-1.319h-15.5c-1.378 0-2.5 1.121-2.5 2.5v27c0 1.378 1.122 2.5 2.5 2.5h23c1.378 0 2.5-1.122 2.5-2.5v-19.5c0-0.448-0.137-1.23-1.319-2.841zM24.543 5.457c0.959 0.959 1.712 1.825 2.268 2.543h-4.811v-4.811c0.718 0.556 1.584 1.309 2.543 2.268zM28 29.5c0 0.271-0.229 0.5-0.5 0.5h-23c-0.271 0-0.5-0.229-0.5-0.5v-27c0-0.271 0.229-0.5 0.5-0.5 0 0 15.499-0 15.5 0v7c0 0.552 0.448 1 1 1h7v19.5z\"></path>\n",
       "<path d=\"M23 26h-14c-0.552 0-1-0.448-1-1s0.448-1 1-1h14c0.552 0 1 0.448 1 1s-0.448 1-1 1z\"></path>\n",
       "<path d=\"M23 22h-14c-0.552 0-1-0.448-1-1s0.448-1 1-1h14c0.552 0 1 0.448 1 1s-0.448 1-1 1z\"></path>\n",
       "<path d=\"M23 18h-14c-0.552 0-1-0.448-1-1s0.448-1 1-1h14c0.552 0 1 0.448 1 1s-0.448 1-1 1z\"></path>\n",
       "</symbol>\n",
       "</defs>\n",
       "</svg>\n",
       "<style>/* CSS stylesheet for displaying xarray objects in jupyterlab.\n",
       " *\n",
       " */\n",
       "\n",
       ":root {\n",
       "  --xr-font-color0: var(--jp-content-font-color0, rgba(0, 0, 0, 1));\n",
       "  --xr-font-color2: var(--jp-content-font-color2, rgba(0, 0, 0, 0.54));\n",
       "  --xr-font-color3: var(--jp-content-font-color3, rgba(0, 0, 0, 0.38));\n",
       "  --xr-border-color: var(--jp-border-color2, #e0e0e0);\n",
       "  --xr-disabled-color: var(--jp-layout-color3, #bdbdbd);\n",
       "  --xr-background-color: var(--jp-layout-color0, white);\n",
       "  --xr-background-color-row-even: var(--jp-layout-color1, white);\n",
       "  --xr-background-color-row-odd: var(--jp-layout-color2, #eeeeee);\n",
       "}\n",
       "\n",
       "html[theme=dark],\n",
       "body[data-theme=dark],\n",
       "body.vscode-dark {\n",
       "  --xr-font-color0: rgba(255, 255, 255, 1);\n",
       "  --xr-font-color2: rgba(255, 255, 255, 0.54);\n",
       "  --xr-font-color3: rgba(255, 255, 255, 0.38);\n",
       "  --xr-border-color: #1F1F1F;\n",
       "  --xr-disabled-color: #515151;\n",
       "  --xr-background-color: #111111;\n",
       "  --xr-background-color-row-even: #111111;\n",
       "  --xr-background-color-row-odd: #313131;\n",
       "}\n",
       "\n",
       ".xr-wrap {\n",
       "  display: block !important;\n",
       "  min-width: 300px;\n",
       "  max-width: 700px;\n",
       "}\n",
       "\n",
       ".xr-text-repr-fallback {\n",
       "  /* fallback to plain text repr when CSS is not injected (untrusted notebook) */\n",
       "  display: none;\n",
       "}\n",
       "\n",
       ".xr-header {\n",
       "  padding-top: 6px;\n",
       "  padding-bottom: 6px;\n",
       "  margin-bottom: 4px;\n",
       "  border-bottom: solid 1px var(--xr-border-color);\n",
       "}\n",
       "\n",
       ".xr-header > div,\n",
       ".xr-header > ul {\n",
       "  display: inline;\n",
       "  margin-top: 0;\n",
       "  margin-bottom: 0;\n",
       "}\n",
       "\n",
       ".xr-obj-type,\n",
       ".xr-array-name {\n",
       "  margin-left: 2px;\n",
       "  margin-right: 10px;\n",
       "}\n",
       "\n",
       ".xr-obj-type {\n",
       "  color: var(--xr-font-color2);\n",
       "}\n",
       "\n",
       ".xr-sections {\n",
       "  padding-left: 0 !important;\n",
       "  display: grid;\n",
       "  grid-template-columns: 150px auto auto 1fr 20px 20px;\n",
       "}\n",
       "\n",
       ".xr-section-item {\n",
       "  display: contents;\n",
       "}\n",
       "\n",
       ".xr-section-item input {\n",
       "  display: none;\n",
       "}\n",
       "\n",
       ".xr-section-item input + label {\n",
       "  color: var(--xr-disabled-color);\n",
       "}\n",
       "\n",
       ".xr-section-item input:enabled + label {\n",
       "  cursor: pointer;\n",
       "  color: var(--xr-font-color2);\n",
       "}\n",
       "\n",
       ".xr-section-item input:enabled + label:hover {\n",
       "  color: var(--xr-font-color0);\n",
       "}\n",
       "\n",
       ".xr-section-summary {\n",
       "  grid-column: 1;\n",
       "  color: var(--xr-font-color2);\n",
       "  font-weight: 500;\n",
       "}\n",
       "\n",
       ".xr-section-summary > span {\n",
       "  display: inline-block;\n",
       "  padding-left: 0.5em;\n",
       "}\n",
       "\n",
       ".xr-section-summary-in:disabled + label {\n",
       "  color: var(--xr-font-color2);\n",
       "}\n",
       "\n",
       ".xr-section-summary-in + label:before {\n",
       "  display: inline-block;\n",
       "  content: '►';\n",
       "  font-size: 11px;\n",
       "  width: 15px;\n",
       "  text-align: center;\n",
       "}\n",
       "\n",
       ".xr-section-summary-in:disabled + label:before {\n",
       "  color: var(--xr-disabled-color);\n",
       "}\n",
       "\n",
       ".xr-section-summary-in:checked + label:before {\n",
       "  content: '▼';\n",
       "}\n",
       "\n",
       ".xr-section-summary-in:checked + label > span {\n",
       "  display: none;\n",
       "}\n",
       "\n",
       ".xr-section-summary,\n",
       ".xr-section-inline-details {\n",
       "  padding-top: 4px;\n",
       "  padding-bottom: 4px;\n",
       "}\n",
       "\n",
       ".xr-section-inline-details {\n",
       "  grid-column: 2 / -1;\n",
       "}\n",
       "\n",
       ".xr-section-details {\n",
       "  display: none;\n",
       "  grid-column: 1 / -1;\n",
       "  margin-bottom: 5px;\n",
       "}\n",
       "\n",
       ".xr-section-summary-in:checked ~ .xr-section-details {\n",
       "  display: contents;\n",
       "}\n",
       "\n",
       ".xr-array-wrap {\n",
       "  grid-column: 1 / -1;\n",
       "  display: grid;\n",
       "  grid-template-columns: 20px auto;\n",
       "}\n",
       "\n",
       ".xr-array-wrap > label {\n",
       "  grid-column: 1;\n",
       "  vertical-align: top;\n",
       "}\n",
       "\n",
       ".xr-preview {\n",
       "  color: var(--xr-font-color3);\n",
       "}\n",
       "\n",
       ".xr-array-preview,\n",
       ".xr-array-data {\n",
       "  padding: 0 5px !important;\n",
       "  grid-column: 2;\n",
       "}\n",
       "\n",
       ".xr-array-data,\n",
       ".xr-array-in:checked ~ .xr-array-preview {\n",
       "  display: none;\n",
       "}\n",
       "\n",
       ".xr-array-in:checked ~ .xr-array-data,\n",
       ".xr-array-preview {\n",
       "  display: inline-block;\n",
       "}\n",
       "\n",
       ".xr-dim-list {\n",
       "  display: inline-block !important;\n",
       "  list-style: none;\n",
       "  padding: 0 !important;\n",
       "  margin: 0;\n",
       "}\n",
       "\n",
       ".xr-dim-list li {\n",
       "  display: inline-block;\n",
       "  padding: 0;\n",
       "  margin: 0;\n",
       "}\n",
       "\n",
       ".xr-dim-list:before {\n",
       "  content: '(';\n",
       "}\n",
       "\n",
       ".xr-dim-list:after {\n",
       "  content: ')';\n",
       "}\n",
       "\n",
       ".xr-dim-list li:not(:last-child):after {\n",
       "  content: ',';\n",
       "  padding-right: 5px;\n",
       "}\n",
       "\n",
       ".xr-has-index {\n",
       "  font-weight: bold;\n",
       "}\n",
       "\n",
       ".xr-var-list,\n",
       ".xr-var-item {\n",
       "  display: contents;\n",
       "}\n",
       "\n",
       ".xr-var-item > div,\n",
       ".xr-var-item label,\n",
       ".xr-var-item > .xr-var-name span {\n",
       "  background-color: var(--xr-background-color-row-even);\n",
       "  margin-bottom: 0;\n",
       "}\n",
       "\n",
       ".xr-var-item > .xr-var-name:hover span {\n",
       "  padding-right: 5px;\n",
       "}\n",
       "\n",
       ".xr-var-list > li:nth-child(odd) > div,\n",
       ".xr-var-list > li:nth-child(odd) > label,\n",
       ".xr-var-list > li:nth-child(odd) > .xr-var-name span {\n",
       "  background-color: var(--xr-background-color-row-odd);\n",
       "}\n",
       "\n",
       ".xr-var-name {\n",
       "  grid-column: 1;\n",
       "}\n",
       "\n",
       ".xr-var-dims {\n",
       "  grid-column: 2;\n",
       "}\n",
       "\n",
       ".xr-var-dtype {\n",
       "  grid-column: 3;\n",
       "  text-align: right;\n",
       "  color: var(--xr-font-color2);\n",
       "}\n",
       "\n",
       ".xr-var-preview {\n",
       "  grid-column: 4;\n",
       "}\n",
       "\n",
       ".xr-index-preview {\n",
       "  grid-column: 2 / 5;\n",
       "  color: var(--xr-font-color2);\n",
       "}\n",
       "\n",
       ".xr-var-name,\n",
       ".xr-var-dims,\n",
       ".xr-var-dtype,\n",
       ".xr-preview,\n",
       ".xr-attrs dt {\n",
       "  white-space: nowrap;\n",
       "  overflow: hidden;\n",
       "  text-overflow: ellipsis;\n",
       "  padding-right: 10px;\n",
       "}\n",
       "\n",
       ".xr-var-name:hover,\n",
       ".xr-var-dims:hover,\n",
       ".xr-var-dtype:hover,\n",
       ".xr-attrs dt:hover {\n",
       "  overflow: visible;\n",
       "  width: auto;\n",
       "  z-index: 1;\n",
       "}\n",
       "\n",
       ".xr-var-attrs,\n",
       ".xr-var-data,\n",
       ".xr-index-data {\n",
       "  display: none;\n",
       "  background-color: var(--xr-background-color) !important;\n",
       "  padding-bottom: 5px !important;\n",
       "}\n",
       "\n",
       ".xr-var-attrs-in:checked ~ .xr-var-attrs,\n",
       ".xr-var-data-in:checked ~ .xr-var-data,\n",
       ".xr-index-data-in:checked ~ .xr-index-data {\n",
       "  display: block;\n",
       "}\n",
       "\n",
       ".xr-var-data > table {\n",
       "  float: right;\n",
       "}\n",
       "\n",
       ".xr-var-name span,\n",
       ".xr-var-data,\n",
       ".xr-index-name div,\n",
       ".xr-index-data,\n",
       ".xr-attrs {\n",
       "  padding-left: 25px !important;\n",
       "}\n",
       "\n",
       ".xr-attrs,\n",
       ".xr-var-attrs,\n",
       ".xr-var-data,\n",
       ".xr-index-data {\n",
       "  grid-column: 1 / -1;\n",
       "}\n",
       "\n",
       "dl.xr-attrs {\n",
       "  padding: 0;\n",
       "  margin: 0;\n",
       "  display: grid;\n",
       "  grid-template-columns: 125px auto;\n",
       "}\n",
       "\n",
       ".xr-attrs dt,\n",
       ".xr-attrs dd {\n",
       "  padding: 0;\n",
       "  margin: 0;\n",
       "  float: left;\n",
       "  padding-right: 10px;\n",
       "  width: auto;\n",
       "}\n",
       "\n",
       ".xr-attrs dt {\n",
       "  font-weight: normal;\n",
       "  grid-column: 1;\n",
       "}\n",
       "\n",
       ".xr-attrs dt:hover span {\n",
       "  display: inline-block;\n",
       "  background: var(--xr-background-color);\n",
       "  padding-right: 10px;\n",
       "}\n",
       "\n",
       ".xr-attrs dd {\n",
       "  grid-column: 2;\n",
       "  white-space: pre-wrap;\n",
       "  word-break: break-all;\n",
       "}\n",
       "\n",
       ".xr-icon-database,\n",
       ".xr-icon-file-text2,\n",
       ".xr-no-icon {\n",
       "  display: inline-block;\n",
       "  vertical-align: middle;\n",
       "  width: 1em;\n",
       "  height: 1.5em !important;\n",
       "  stroke-width: 0;\n",
       "  stroke: currentColor;\n",
       "  fill: currentColor;\n",
       "}\n",
       "</style><pre class='xr-text-repr-fallback'>&lt;xarray.Dataset&gt; Size: 672B\n",
       "Dimensions:        (center_of_bin: 14)\n",
       "Coordinates:\n",
       "  * center_of_bin  (center_of_bin) float64 112B 1.319e-09 2.16e-09 ... 8.053e-07\n",
       "    width          (center_of_bin) float64 112B 6.379e-10 ... 3.895e-07\n",
       "Data variables:\n",
       "    counts         (center_of_bin) int64 112B 4 7 12 32 21 ... 79 92 144 190 326\n",
       "    frequency      (center_of_bin) float64 112B 1.88e-06 3.29e-06 ... 0.0001532\n",
       "    pdf            (center_of_bin) float64 112B 2.947e+03 3.149e+03 ... 393.4\n",
       "    pdfP           (center_of_bin) float64 112B 3.887e-06 ... 0.0003168\n",
       "Attributes:\n",
       "    history:                \\n2024-04-16 21:18:42 AQUA💧: Retrieved from ICON_...\n",
       "    time_band:              1990-01-01T00:00:00.000000000, 2006-05-01T00:00:0...\n",
       "    lat_band:               -14.5, 14.5, freq=1.0\n",
       "    lon_band:               0.0, 359.0, freq=1.0\n",
       "    time_band_history:      1990-01-01T00:00:00.000000000, 2006-05-01T00:00:0...\n",
       "    units:                  mm/day\n",
       "    mean_of_original_data:  5.143757961054234\n",
       "    mean_of_histogram:      2.0513184012947452e-10\n",
       "    relative_discrepancy:   99.99999999601202</pre><div class='xr-wrap' style='display:none'><div class='xr-header'><div class='xr-obj-type'>xarray.Dataset</div></div><ul class='xr-sections'><li class='xr-section-item'><input id='section-e32a46cf-47cb-4574-a8c9-5f24b105c2fb' class='xr-section-summary-in' type='checkbox' disabled ><label for='section-e32a46cf-47cb-4574-a8c9-5f24b105c2fb' class='xr-section-summary'  title='Expand/collapse section'>Dimensions:</label><div class='xr-section-inline-details'><ul class='xr-dim-list'><li><span class='xr-has-index'>center_of_bin</span>: 14</li></ul></div><div class='xr-section-details'></div></li><li class='xr-section-item'><input id='section-622601f5-d194-4a21-9183-e62355ef65fc' class='xr-section-summary-in' type='checkbox'  checked><label for='section-622601f5-d194-4a21-9183-e62355ef65fc' class='xr-section-summary' >Coordinates: <span>(2)</span></label><div class='xr-section-inline-details'></div><div class='xr-section-details'><ul class='xr-var-list'><li class='xr-var-item'><div class='xr-var-name'><span class='xr-has-index'>center_of_bin</span></div><div class='xr-var-dims'>(center_of_bin)</div><div class='xr-var-dtype'>float64</div><div class='xr-var-preview xr-preview'>1.319e-09 2.16e-09 ... 8.053e-07</div><input id='attrs-4b4c2b1b-9302-47d6-becd-1a3ef7a8b670' class='xr-var-attrs-in' type='checkbox' ><label for='attrs-4b4c2b1b-9302-47d6-becd-1a3ef7a8b670' title='Show/Hide attributes'><svg class='icon xr-icon-file-text2'><use xlink:href='#icon-file-text2'></use></svg></label><input id='data-57e2469e-a59d-4906-9db8-38971bb2e1d8' class='xr-var-data-in' type='checkbox'><label for='data-57e2469e-a59d-4906-9db8-38971bb2e1d8' title='Show/Hide data repr'><svg class='icon xr-icon-database'><use xlink:href='#icon-database'></use></svg></label><div class='xr-var-attrs'><dl class='xr-attrs'><dt><span>units :</span></dt><dd>mm/day</dd><dt><span>history :</span></dt><dd>Units are added to the bins to coordinate</dd></dl></div><div class='xr-var-data'><pre>array([1.318947e-09, 2.160295e-09, 3.538333e-09, 5.795414e-09, 9.492272e-09,\n",
       "       1.554733e-08, 2.546488e-08, 4.170876e-08, 6.831452e-08, 1.118919e-07,\n",
       "       1.832671e-07, 3.001720e-07, 4.916498e-07, 8.052701e-07])</pre></div></li><li class='xr-var-item'><div class='xr-var-name'><span>width</span></div><div class='xr-var-dims'>(center_of_bin)</div><div class='xr-var-dtype'>float64</div><div class='xr-var-preview xr-preview'>6.379e-10 1.045e-09 ... 3.895e-07</div><input id='attrs-180b28ff-2b20-4670-8340-b7ee9a11ca28' class='xr-var-attrs-in' type='checkbox' disabled><label for='attrs-180b28ff-2b20-4670-8340-b7ee9a11ca28' title='Show/Hide attributes'><svg class='icon xr-icon-file-text2'><use xlink:href='#icon-file-text2'></use></svg></label><input id='data-de20318a-1e7b-40d7-b7de-dc21d11b78ad' class='xr-var-data-in' type='checkbox'><label for='data-de20318a-1e7b-40d7-b7de-dc21d11b78ad' title='Show/Hide data repr'><svg class='icon xr-icon-database'><use xlink:href='#icon-database'></use></svg></label><div class='xr-var-attrs'><dl class='xr-attrs'></dl></div><div class='xr-var-data'><pre>array([6.37893710e-10, 1.04480209e-09, 1.71127476e-09, 2.80288617e-09,\n",
       "       4.59082957e-09, 7.51929100e-09, 1.23157993e-08, 2.01719702e-08,\n",
       "       3.30395430e-08, 5.41152592e-08, 8.86350440e-08, 1.45174779e-07,\n",
       "       2.37780858e-07, 3.89459770e-07])</pre></div></li></ul></div></li><li class='xr-section-item'><input id='section-a061fc91-b210-42b5-aff2-9dbc5783062f' class='xr-section-summary-in' type='checkbox'  checked><label for='section-a061fc91-b210-42b5-aff2-9dbc5783062f' class='xr-section-summary' >Data variables: <span>(4)</span></label><div class='xr-section-inline-details'></div><div class='xr-section-details'><ul class='xr-var-list'><li class='xr-var-item'><div class='xr-var-name'><span>counts</span></div><div class='xr-var-dims'>(center_of_bin)</div><div class='xr-var-dtype'>int64</div><div class='xr-var-preview xr-preview'>4 7 12 32 21 ... 79 92 144 190 326</div><input id='attrs-7979aacc-aea3-4263-9c46-8bb5306c3da5' class='xr-var-attrs-in' type='checkbox' ><label for='attrs-7979aacc-aea3-4263-9c46-8bb5306c3da5' title='Show/Hide attributes'><svg class='icon xr-icon-file-text2'><use xlink:href='#icon-file-text2'></use></svg></label><input id='data-f39fcb67-23b1-409a-83a6-efba4d777f30' class='xr-var-data-in' type='checkbox'><label for='data-f39fcb67-23b1-409a-83a6-efba4d777f30' title='Show/Hide data repr'><svg class='icon xr-icon-database'><use xlink:href='#icon-database'></use></svg></label><div class='xr-var-attrs'><dl class='xr-attrs'><dt><span>GRIB_paramId :</span></dt><dd>260048</dd><dt><span>long_name :</span></dt><dd>Mean total precipitation rate</dd><dt><span>shortName :</span></dt><dd>mtpr</dd><dt><span>GRIB_stepUnits :</span></dt><dd>1</dd><dt><span>GRIB_gridDefinitionDescription :</span></dt><dd>150</dd><dt><span>GRIB_typeOfLevel :</span></dt><dd>surface</dd><dt><span>standard_name :</span></dt><dd>unknown</dd><dt><span>GRIB_gridType :</span></dt><dd>healpix</dd><dt><span>GRIB_cfName :</span></dt><dd>unknown</dd><dt><span>GRIB_stepType :</span></dt><dd>instant</dd><dt><span>GRIB_cfVarName :</span></dt><dd>tprate</dd><dt><span>GRIB_numberOfPoints :</span></dt><dd>12582912</dd><dt><span>GRIB_name :</span></dt><dd>Total precipitation rate</dd><dt><span>units :</span></dt><dd>mm/day</dd><dt><span>GRIB_missingValue :</span></dt><dd>9999</dd><dt><span>cfVarName :</span></dt><dd>mtpr</dd><dt><span>history :</span></dt><dd>\n",
       "2024-03-02 07:15:03 AQUA💧: Variable renamed mtpr by fixer;\n",
       "2024-03-02 07:15:03 AQUA💧: Converting units of mtpr: from kg m**-2 s**-1 to kg m**-2 s**-1;\n",
       "2024-03-02 07:15:06 AQUA💧: resampled from frequency 1h to frequency monthly by AQUA timmean;\n",
       "2024-03-02 07:15:06 AQUA💧: Regrid from hpz10-nested to r100;\n",
       "2024-03-02 07:17:03 AQUA💧: regridded from hpz10-nested to r100 and from frequency 1 to monthly through LRA generator;\n",
       "2024-04-16 21:18:43 the units of precipitation are converted from mm/day to mm/day;\n",
       " </dd><dt><span>GRIB_NV :</span></dt><dd>0</dd><dt><span>gridtype :</span></dt><dd>healpix</dd><dt><span>GRIB_shortName :</span></dt><dd>tprate</dd><dt><span>paramId :</span></dt><dd>235055</dd><dt><span>GRIB_units :</span></dt><dd>kg m**-2 s**-1</dd><dt><span>GRIB_dataType :</span></dt><dd>fc</dd><dt><span>size_of_the_data :</span></dt><dd>2127600</dd><dt><span>time_band :</span></dt><dd>1990-01-01T00:00:00.000000000, 2006-05-01T00:00:00.000000000, freq=M</dd><dt><span>lat_band :</span></dt><dd>-14.5, 14.5, freq=1.0</dd><dt><span>lon_band :</span></dt><dd>0.0, 359.0, freq=1.0</dd><dt><span>time_band_history :</span></dt><dd>1990-01-01T00:00:00.000000000, 2006-05-01T00:00:00.000000000, freq=M</dd><dt><span>mean_of_original_data :</span></dt><dd>5.143757961054234</dd><dt><span>mean_of_histogram :</span></dt><dd>2.0513184012947452e-10</dd><dt><span>relative_discrepancy :</span></dt><dd>99.99999999601202</dd></dl></div><div class='xr-var-data'><pre>array([  4,   7,  12,  32,  21,  37,  63,  46, 103,  79,  92, 144, 190,\n",
       "       326])</pre></div></li><li class='xr-var-item'><div class='xr-var-name'><span>frequency</span></div><div class='xr-var-dims'>(center_of_bin)</div><div class='xr-var-dtype'>float64</div><div class='xr-var-preview xr-preview'>1.88e-06 3.29e-06 ... 0.0001532</div><input id='attrs-4aa70a61-af4d-4b38-aff4-253728565ce4' class='xr-var-attrs-in' type='checkbox' ><label for='attrs-4aa70a61-af4d-4b38-aff4-253728565ce4' title='Show/Hide attributes'><svg class='icon xr-icon-file-text2'><use xlink:href='#icon-file-text2'></use></svg></label><input id='data-42dd85cc-e0c6-4ff3-b2fa-92070ed70e4c' class='xr-var-data-in' type='checkbox'><label for='data-42dd85cc-e0c6-4ff3-b2fa-92070ed70e4c' title='Show/Hide data repr'><svg class='icon xr-icon-database'><use xlink:href='#icon-database'></use></svg></label><div class='xr-var-attrs'><dl class='xr-attrs'><dt><span>GRIB_paramId :</span></dt><dd>260048</dd><dt><span>long_name :</span></dt><dd>Mean total precipitation rate</dd><dt><span>shortName :</span></dt><dd>mtpr</dd><dt><span>GRIB_stepUnits :</span></dt><dd>1</dd><dt><span>GRIB_gridDefinitionDescription :</span></dt><dd>150</dd><dt><span>GRIB_typeOfLevel :</span></dt><dd>surface</dd><dt><span>standard_name :</span></dt><dd>unknown</dd><dt><span>GRIB_gridType :</span></dt><dd>healpix</dd><dt><span>GRIB_cfName :</span></dt><dd>unknown</dd><dt><span>GRIB_stepType :</span></dt><dd>instant</dd><dt><span>GRIB_cfVarName :</span></dt><dd>tprate</dd><dt><span>GRIB_numberOfPoints :</span></dt><dd>12582912</dd><dt><span>GRIB_name :</span></dt><dd>Total precipitation rate</dd><dt><span>units :</span></dt><dd>mm/day</dd><dt><span>GRIB_missingValue :</span></dt><dd>9999</dd><dt><span>cfVarName :</span></dt><dd>mtpr</dd><dt><span>history :</span></dt><dd>\n",
       "2024-03-02 07:15:03 AQUA💧: Variable renamed mtpr by fixer;\n",
       "2024-03-02 07:15:03 AQUA💧: Converting units of mtpr: from kg m**-2 s**-1 to kg m**-2 s**-1;\n",
       "2024-03-02 07:15:06 AQUA💧: resampled from frequency 1h to frequency monthly by AQUA timmean;\n",
       "2024-03-02 07:15:06 AQUA💧: Regrid from hpz10-nested to r100;\n",
       "2024-03-02 07:17:03 AQUA💧: regridded from hpz10-nested to r100 and from frequency 1 to monthly through LRA generator;\n",
       "2024-04-16 21:18:43 the units of precipitation are converted from mm/day to mm/day;\n",
       " </dd><dt><span>GRIB_NV :</span></dt><dd>0</dd><dt><span>gridtype :</span></dt><dd>healpix</dd><dt><span>GRIB_shortName :</span></dt><dd>tprate</dd><dt><span>paramId :</span></dt><dd>235055</dd><dt><span>GRIB_units :</span></dt><dd>kg m**-2 s**-1</dd><dt><span>GRIB_dataType :</span></dt><dd>fc</dd><dt><span>size_of_the_data :</span></dt><dd>2127600</dd><dt><span>time_band :</span></dt><dd>1990-01-01T00:00:00.000000000, 2006-05-01T00:00:00.000000000, freq=M</dd><dt><span>lat_band :</span></dt><dd>-14.5, 14.5, freq=1.0</dd><dt><span>lon_band :</span></dt><dd>0.0, 359.0, freq=1.0</dd><dt><span>time_band_history :</span></dt><dd>1990-01-01T00:00:00.000000000, 2006-05-01T00:00:00.000000000, freq=M</dd><dt><span>mean_of_original_data :</span></dt><dd>5.143757961054234</dd><dt><span>mean_of_histogram :</span></dt><dd>2.0513184012947452e-10</dd><dt><span>relative_discrepancy :</span></dt><dd>99.99999999601202</dd></dl></div><div class='xr-var-data'><pre>array([1.88005264e-06, 3.29009212e-06, 5.64015792e-06, 1.50404211e-05,\n",
       "       9.87027637e-06, 1.73904869e-05, 2.96108291e-05, 2.16206054e-05,\n",
       "       4.84113555e-05, 3.71310397e-05, 4.32412108e-05, 6.76818951e-05,\n",
       "       8.93025005e-05, 1.53224290e-04])</pre></div></li><li class='xr-var-item'><div class='xr-var-name'><span>pdf</span></div><div class='xr-var-dims'>(center_of_bin)</div><div class='xr-var-dtype'>float64</div><div class='xr-var-preview xr-preview'>2.947e+03 3.149e+03 ... 375.6 393.4</div><input id='attrs-90061e3c-64d5-41a8-8442-21f6a4f2e5e7' class='xr-var-attrs-in' type='checkbox' ><label for='attrs-90061e3c-64d5-41a8-8442-21f6a4f2e5e7' title='Show/Hide attributes'><svg class='icon xr-icon-file-text2'><use xlink:href='#icon-file-text2'></use></svg></label><input id='data-0933c2c6-f07f-4309-a8e7-6645162eae0d' class='xr-var-data-in' type='checkbox'><label for='data-0933c2c6-f07f-4309-a8e7-6645162eae0d' title='Show/Hide data repr'><svg class='icon xr-icon-database'><use xlink:href='#icon-database'></use></svg></label><div class='xr-var-attrs'><dl class='xr-attrs'><dt><span>GRIB_paramId :</span></dt><dd>260048</dd><dt><span>long_name :</span></dt><dd>Mean total precipitation rate</dd><dt><span>shortName :</span></dt><dd>mtpr</dd><dt><span>GRIB_stepUnits :</span></dt><dd>1</dd><dt><span>GRIB_gridDefinitionDescription :</span></dt><dd>150</dd><dt><span>GRIB_typeOfLevel :</span></dt><dd>surface</dd><dt><span>standard_name :</span></dt><dd>unknown</dd><dt><span>GRIB_gridType :</span></dt><dd>healpix</dd><dt><span>GRIB_cfName :</span></dt><dd>unknown</dd><dt><span>GRIB_stepType :</span></dt><dd>instant</dd><dt><span>GRIB_cfVarName :</span></dt><dd>tprate</dd><dt><span>GRIB_numberOfPoints :</span></dt><dd>12582912</dd><dt><span>GRIB_name :</span></dt><dd>Total precipitation rate</dd><dt><span>units :</span></dt><dd>mm/day</dd><dt><span>GRIB_missingValue :</span></dt><dd>9999</dd><dt><span>cfVarName :</span></dt><dd>mtpr</dd><dt><span>history :</span></dt><dd>\n",
       "2024-03-02 07:15:03 AQUA💧: Variable renamed mtpr by fixer;\n",
       "2024-03-02 07:15:03 AQUA💧: Converting units of mtpr: from kg m**-2 s**-1 to kg m**-2 s**-1;\n",
       "2024-03-02 07:15:06 AQUA💧: resampled from frequency 1h to frequency monthly by AQUA timmean;\n",
       "2024-03-02 07:15:06 AQUA💧: Regrid from hpz10-nested to r100;\n",
       "2024-03-02 07:17:03 AQUA💧: regridded from hpz10-nested to r100 and from frequency 1 to monthly through LRA generator;\n",
       "2024-04-16 21:18:43 the units of precipitation are converted from mm/day to mm/day;\n",
       " </dd><dt><span>GRIB_NV :</span></dt><dd>0</dd><dt><span>gridtype :</span></dt><dd>healpix</dd><dt><span>GRIB_shortName :</span></dt><dd>tprate</dd><dt><span>paramId :</span></dt><dd>235055</dd><dt><span>GRIB_units :</span></dt><dd>kg m**-2 s**-1</dd><dt><span>GRIB_dataType :</span></dt><dd>fc</dd><dt><span>size_of_the_data :</span></dt><dd>2127600</dd><dt><span>time_band :</span></dt><dd>1990-01-01T00:00:00.000000000, 2006-05-01T00:00:00.000000000, freq=M</dd><dt><span>lat_band :</span></dt><dd>-14.5, 14.5, freq=1.0</dd><dt><span>lon_band :</span></dt><dd>0.0, 359.0, freq=1.0</dd><dt><span>time_band_history :</span></dt><dd>1990-01-01T00:00:00.000000000, 2006-05-01T00:00:00.000000000, freq=M</dd><dt><span>mean_of_original_data :</span></dt><dd>5.143757961054234</dd><dt><span>mean_of_histogram :</span></dt><dd>2.0513184012947452e-10</dd><dt><span>relative_discrepancy :</span></dt><dd>99.99999999601202</dd></dl></div><div class='xr-var-data'><pre>array([2947.28198758, 3149.00989773, 3295.88097497, 5366.04778773,\n",
       "       2149.99842997, 2312.7828054 , 2404.29617128, 1071.81426319,\n",
       "       1465.25499817,  686.14731257,  487.85682054,  466.20973394,\n",
       "        375.56639849,  393.42777376])</pre></div></li><li class='xr-var-item'><div class='xr-var-name'><span>pdfP</span></div><div class='xr-var-dims'>(center_of_bin)</div><div class='xr-var-dtype'>float64</div><div class='xr-var-preview xr-preview'>3.887e-06 6.803e-06 ... 0.0003168</div><input id='attrs-8d5fe5d1-0cc8-4d15-b1f8-0639176ce07f' class='xr-var-attrs-in' type='checkbox' ><label for='attrs-8d5fe5d1-0cc8-4d15-b1f8-0639176ce07f' title='Show/Hide attributes'><svg class='icon xr-icon-file-text2'><use xlink:href='#icon-file-text2'></use></svg></label><input id='data-67f5e13e-f7de-4e51-b9cf-cc1887b37a41' class='xr-var-data-in' type='checkbox'><label for='data-67f5e13e-f7de-4e51-b9cf-cc1887b37a41' title='Show/Hide data repr'><svg class='icon xr-icon-database'><use xlink:href='#icon-database'></use></svg></label><div class='xr-var-attrs'><dl class='xr-attrs'><dt><span>GRIB_paramId :</span></dt><dd>260048</dd><dt><span>long_name :</span></dt><dd>Mean total precipitation rate</dd><dt><span>shortName :</span></dt><dd>mtpr</dd><dt><span>GRIB_stepUnits :</span></dt><dd>1</dd><dt><span>GRIB_gridDefinitionDescription :</span></dt><dd>150</dd><dt><span>GRIB_typeOfLevel :</span></dt><dd>surface</dd><dt><span>standard_name :</span></dt><dd>unknown</dd><dt><span>GRIB_gridType :</span></dt><dd>healpix</dd><dt><span>GRIB_cfName :</span></dt><dd>unknown</dd><dt><span>GRIB_stepType :</span></dt><dd>instant</dd><dt><span>GRIB_cfVarName :</span></dt><dd>tprate</dd><dt><span>GRIB_numberOfPoints :</span></dt><dd>12582912</dd><dt><span>GRIB_name :</span></dt><dd>Total precipitation rate</dd><dt><span>units :</span></dt><dd>mm/day</dd><dt><span>GRIB_missingValue :</span></dt><dd>9999</dd><dt><span>cfVarName :</span></dt><dd>mtpr</dd><dt><span>history :</span></dt><dd>\n",
       "2024-03-02 07:15:03 AQUA💧: Variable renamed mtpr by fixer;\n",
       "2024-03-02 07:15:03 AQUA💧: Converting units of mtpr: from kg m**-2 s**-1 to kg m**-2 s**-1;\n",
       "2024-03-02 07:15:06 AQUA💧: resampled from frequency 1h to frequency monthly by AQUA timmean;\n",
       "2024-03-02 07:15:06 AQUA💧: Regrid from hpz10-nested to r100;\n",
       "2024-03-02 07:17:03 AQUA💧: regridded from hpz10-nested to r100 and from frequency 1 to monthly through LRA generator;\n",
       "2024-04-16 21:18:43 the units of precipitation are converted from mm/day to mm/day;\n",
       " </dd><dt><span>GRIB_NV :</span></dt><dd>0</dd><dt><span>gridtype :</span></dt><dd>healpix</dd><dt><span>GRIB_shortName :</span></dt><dd>tprate</dd><dt><span>paramId :</span></dt><dd>235055</dd><dt><span>GRIB_units :</span></dt><dd>kg m**-2 s**-1</dd><dt><span>GRIB_dataType :</span></dt><dd>fc</dd><dt><span>size_of_the_data :</span></dt><dd>2127600</dd></dl></div><div class='xr-var-data'><pre>array([3.88730831e-06, 6.80278957e-06, 1.16619250e-05, 3.10984666e-05,\n",
       "       2.04083689e-05, 3.59576017e-05, 6.12251062e-05, 4.47040457e-05,\n",
       "       1.00098189e-04, 7.67743398e-05, 8.94080906e-05, 1.39943100e-04,\n",
       "       1.84647145e-04, 3.16815629e-04])</pre></div></li></ul></div></li><li class='xr-section-item'><input id='section-8da3be3c-da68-47dc-94ab-d2ed5a38fd04' class='xr-section-summary-in' type='checkbox'  ><label for='section-8da3be3c-da68-47dc-94ab-d2ed5a38fd04' class='xr-section-summary' >Indexes: <span>(1)</span></label><div class='xr-section-inline-details'></div><div class='xr-section-details'><ul class='xr-var-list'><li class='xr-var-item'><div class='xr-index-name'><div>center_of_bin</div></div><div class='xr-index-preview'>PandasIndex</div><div></div><input id='index-111c8781-6b68-4245-a717-7296fe515b31' class='xr-index-data-in' type='checkbox'/><label for='index-111c8781-6b68-4245-a717-7296fe515b31' title='Show/Hide index repr'><svg class='icon xr-icon-database'><use xlink:href='#icon-database'></use></svg></label><div class='xr-index-data'><pre>PandasIndex(Index([       1.318946855e-09,        2.160294755e-09,         3.53833318e-09,\n",
       "       5.7954136449999995e-09,        9.492271515e-09,         1.55473318e-08,\n",
       "       2.5464876950000003e-08, 4.1708761700000005e-08,         6.83145183e-08,\n",
       "       1.1189191939999998e-07,         1.83267071e-07,        3.001719825e-07,\n",
       "               4.91649801e-07,         8.05270115e-07],\n",
       "      dtype=&#x27;float64&#x27;, name=&#x27;center_of_bin&#x27;))</pre></div></li></ul></div></li><li class='xr-section-item'><input id='section-18c930c8-7b56-4591-8206-80ec8fbff71a' class='xr-section-summary-in' type='checkbox'  checked><label for='section-18c930c8-7b56-4591-8206-80ec8fbff71a' class='xr-section-summary' >Attributes: <span>(9)</span></label><div class='xr-section-inline-details'></div><div class='xr-section-details'><dl class='xr-attrs'><dt><span>history :</span></dt><dd>\n",
       "2024-04-16 21:18:42 AQUA💧: Retrieved from ICON_historical-1990_lra-r100-monthly using file from disk;\n",
       "2024-04-16 21:18:42 AQUA💧: Coordinates adjusted to ifs by fixer;\n",
       "2024-04-16 21:18:43 histogram is calculated for time_band: [1990-01-01T00:00:00.000000000, 2006-05-01T00:00:00.000000000, freq=M]; lat_band: [-14.5, 14.5, freq=1.0]; lon_band: [0.0, 359.0, freq=1.0];\n",
       " </dd><dt><span>time_band :</span></dt><dd>1990-01-01T00:00:00.000000000, 2006-05-01T00:00:00.000000000, freq=M</dd><dt><span>lat_band :</span></dt><dd>-14.5, 14.5, freq=1.0</dd><dt><span>lon_band :</span></dt><dd>0.0, 359.0, freq=1.0</dd><dt><span>time_band_history :</span></dt><dd>1990-01-01T00:00:00.000000000, 2006-05-01T00:00:00.000000000, freq=M</dd><dt><span>units :</span></dt><dd>mm/day</dd><dt><span>mean_of_original_data :</span></dt><dd>5.143757961054234</dd><dt><span>mean_of_histogram :</span></dt><dd>2.0513184012947452e-10</dd><dt><span>relative_discrepancy :</span></dt><dd>99.99999999601202</dd></dl></div></li></ul></div></div>"
      ],
      "text/plain": [
       "<xarray.Dataset> Size: 672B\n",
       "Dimensions:        (center_of_bin: 14)\n",
       "Coordinates:\n",
       "  * center_of_bin  (center_of_bin) float64 112B 1.319e-09 2.16e-09 ... 8.053e-07\n",
       "    width          (center_of_bin) float64 112B 6.379e-10 ... 3.895e-07\n",
       "Data variables:\n",
       "    counts         (center_of_bin) int64 112B 4 7 12 32 21 ... 79 92 144 190 326\n",
       "    frequency      (center_of_bin) float64 112B 1.88e-06 3.29e-06 ... 0.0001532\n",
       "    pdf            (center_of_bin) float64 112B 2.947e+03 3.149e+03 ... 393.4\n",
       "    pdfP           (center_of_bin) float64 112B 3.887e-06 ... 0.0003168\n",
       "Attributes:\n",
       "    history:                \\n2024-04-16 21:18:42 AQUA💧: Retrieved from ICON_...\n",
       "    time_band:              1990-01-01T00:00:00.000000000, 2006-05-01T00:00:0...\n",
       "    lat_band:               -14.5, 14.5, freq=1.0\n",
       "    lon_band:               0.0, 359.0, freq=1.0\n",
       "    time_band_history:      1990-01-01T00:00:00.000000000, 2006-05-01T00:00:0...\n",
       "    units:                  mm/day\n",
       "    mean_of_original_data:  5.143757961054234\n",
       "    mean_of_histogram:      2.0513184012947452e-10\n",
       "    relative_discrepancy:   99.99999999601202"
      ]
     },
     "execution_count": 23,
     "metadata": {},
     "output_type": "execute_result"
    }
   ],
   "source": [
    "hist_icon_trop_logspaced  = diag.histogram(icon)\n",
    "hist_icon_trop_logspaced"
   ]
  },
  {
   "attachments": {},
   "cell_type": "markdown",
   "metadata": {},
   "source": [
    "#"
   ]
  },
  {
   "attachments": {},
   "cell_type": "markdown",
   "metadata": {},
   "source": [
    "## 3. Plotting the histograms of tropical precipitation"
   ]
  },
  {
   "attachments": {},
   "cell_type": "markdown",
   "metadata": {},
   "source": [
    "### The function `histogram_plot` has a big set of arguments.\n",
    "\n",
    "#### The first and major group of arguments relates to the histogram type: \n",
    "\n",
    "* `pdf`-histogram: `pdf=True`, also it is default value, \n",
    "\n",
    "* `frequency`-histogram: `frequency=True, pdf=False`,\n",
    "\n",
    "* `counts`-histogram: `frequency=False, pdf=False`."
   ]
  },
  {
   "attachments": {},
   "cell_type": "markdown",
   "metadata": {},
   "source": [
    "#### The second group of arguments related to the plot style:\n",
    "\n",
    "\n",
    "* `smooth` (bool, True by default):     if True, smooth 2D line\n",
    "\n",
    "* `step` (bool, False by default):      if True, step line "
   ]
  },
  {
   "attachments": {},
   "cell_type": "markdown",
   "metadata": {},
   "source": [
    "#### The third set of arguments involves the figure settings:\n",
    "\n",
    "* `ls` (str, '-'):              The line style for the plot. \n",
    "\n",
    "* `ylogscale` (bool, True):     The logarithmic scale for the y-axis. \n",
    "\n",
    "* `xlogscale` (bool, False):    The logarithmic scale for the x-axis. \n",
    "\n",
    "* `color` (str, 'tab:blue'):    The color of the plot. \n",
    "            \n",
    "* `figsize` (float, 1):         The size of the figure. \n",
    "\n",
    "* `legend` (str, '_Hidden'):    The legend label for the plot. \n",
    "\n",
    "* `varname` (str, 'Precipitation'):    The name of the variable for the x-axis label. \n",
    "\n",
    "* `plot_title` (str, None):     The title of the plot.\n",
    "            \n",
    "* `loc` (str, 'upper right'):   The location of the legend. \n",
    "\n",
    "* `add/fig` (tuple, None):      Tuple of (fig, ax) to add the plot to an existing figure. / The figure object to plot on.\n",
    "\n",
    "* `path_to_figure` (str, None): The path to save the figure. If provided, saves the figure at the specified path."
   ]
  },
  {
   "attachments": {},
   "cell_type": "markdown",
   "metadata": {},
   "source": [
    "### 3.1 Different styles of the plots"
   ]
  },
  {
   "attachments": {},
   "cell_type": "markdown",
   "metadata": {},
   "source": [
    "##### 3.1.1 Histogram of counts with a `smooth` line style (`smooth = True`)"
   ]
  },
  {
   "cell_type": "code",
   "execution_count": 31,
   "metadata": {},
   "outputs": [
    {
     "data": {
      "text/plain": [
       "({<Axes: title={'center': 'ICON, trop precipitation rate'}, xlabel='mtpr, [mm/day]', ylabel='Counts'>,\n",
       "  <Figure size 640x400 with 1 Axes>},\n",
       " '/work/bb1153/b382267/tropical_rainfall_cicle3/PDF/trop_rainfall__counts_histogram.pdf')"
      ]
     },
     "execution_count": 31,
     "metadata": {},
     "output_type": "execute_result"
    },
    {
     "data": {
      "image/png": "[encoded data removed]",
      "text/plain": [
       "<Figure size 640x400 with 1 Axes>"
      ]
     },
     "metadata": {},
     "output_type": "display_data"
    }
   ],
   "source": [
    "diag.histogram_plot(hist_icon, pdf=False, figsize=0.8, smooth=True,\n",
    "               xlogscale = True, ylogscale=True, plot_title = \"ICON, trop precipitation rate\")"
   ]
  },
  {
   "attachments": {},
   "cell_type": "markdown",
   "metadata": {},
   "source": [
    "##### 3.1.2 Histogram of counts with a `step` line style (`step = True`)"
   ]
  },
  {
   "cell_type": "code",
   "execution_count": 25,
   "metadata": {},
   "outputs": [
    {
     "data": {
      "text/plain": [
       "({<Axes: title={'center': 'ICON, trop precipitation rate'}, xlabel='mtpr, [mm/day]', ylabel='Counts'>,\n",
       "  <Figure size 640x400 with 1 Axes>},\n",
       " '/work/bb1153/b382267/tropical_rainfall_cicle3/PDF/trop_rainfall__counts_histogram.pdf')"
      ]
     },
     "execution_count": 25,
     "metadata": {},
     "output_type": "execute_result"
    },
    {
     "data": {
      "image/png": "[encoded data removed]",
      "text/plain": [
       "<Figure size 640x400 with 1 Axes>"
      ]
     },
     "metadata": {},
     "output_type": "display_data"
    }
   ],
   "source": [
    "diag.histogram_plot(hist_icon, pdf=False, smooth=False, step = True, figsize=0.8, \n",
    "               xlogscale = True, ylogscale=True, plot_title = \"ICON, trop precipitation rate\")"
   ]
  },
  {
   "attachments": {},
   "cell_type": "markdown",
   "metadata": {},
   "source": [
    "### 3.2 Saving the figure in the storage "
   ]
  },
  {
   "cell_type": "code",
   "execution_count": 26,
   "metadata": {},
   "outputs": [
    {
     "data": {
      "text/plain": [
       "({<Axes: title={'center': 'ICON, trop precipitation rate'}, xlabel='mtpr, [mm/day]', ylabel='PDF'>,\n",
       "  <Figure size 560x350 with 1 Axes>},\n",
       " './any_path_any_name.pngtrop_rainfall__PDF_histogram.pdf')"
      ]
     },
     "execution_count": 26,
     "metadata": {},
     "output_type": "execute_result"
    },
    {
     "data": {
      "image/png": "[encoded data removed]",
      "text/plain": [
       "<Figure size 560x350 with 1 Axes>"
      ]
     },
     "metadata": {},
     "output_type": "display_data"
    }
   ],
   "source": [
    "diag.histogram_plot(hist_icon_trop_logspaced, figsize=0.7, \n",
    "                    xlogscale = True, ylogscale=True,  \n",
    "                    plot_title = \"ICON, trop precipitation rate\",\n",
    "                    path_to_pdf='./any_path_any_name.png')"
   ]
  },
  {
   "attachments": {},
   "cell_type": "markdown",
   "metadata": {},
   "source": [
    "### 3.3 Plotting the histogram of counts, frequency, and pdf"
   ]
  },
  {
   "attachments": {},
   "cell_type": "markdown",
   "metadata": {},
   "source": [
    "##### Histogram of counts (`frequency=False, pdf = False`)"
   ]
  },
  {
   "cell_type": "code",
   "execution_count": 27,
   "metadata": {},
   "outputs": [
    {
     "data": {
      "text/plain": [
       "({<Axes: title={'center': 'ICON, trop precipitation rate'}, xlabel='mtpr, [mm/day]', ylabel='Counts'>,\n",
       "  <Figure size 640x400 with 1 Axes>},\n",
       " '/work/bb1153/b382267/tropical_rainfall_cicle3/PDF/trop_rainfall__counts_histogram.pdf')"
      ]
     },
     "execution_count": 27,
     "metadata": {},
     "output_type": "execute_result"
    },
    {
     "data": {
      "image/png": "[encoded data removed]",
      "text/plain": [
       "<Figure size 640x400 with 1 Axes>"
      ]
     },
     "metadata": {},
     "output_type": "display_data"
    }
   ],
   "source": [
    "diag.histogram_plot(hist_icon, frequency=False, pdf = False,  figsize=0.8, \n",
    "                    xlogscale = True, ylogscale=True, \n",
    "                    plot_title = \"ICON, trop precipitation rate\")"
   ]
  },
  {
   "attachments": {},
   "cell_type": "markdown",
   "metadata": {},
   "source": [
    "##### Histogram of frequency (`frequency=True, pdf=False`)"
   ]
  },
  {
   "cell_type": "code",
   "execution_count": 28,
   "metadata": {},
   "outputs": [
    {
     "data": {
      "text/plain": [
       "({<Axes: title={'center': 'ICON, trop precipitation rate'}, xlabel='mtpr, [mm/day]', ylabel='Frequency'>,\n",
       "  <Figure size 640x400 with 1 Axes>},\n",
       " '/work/bb1153/b382267/tropical_rainfall_cicle3/PDF/trop_rainfall__frequency_histogram.pdf')"
      ]
     },
     "execution_count": 28,
     "metadata": {},
     "output_type": "execute_result"
    },
    {
     "data": {
      "image/png": "[encoded data removed]",
      "text/plain": [
       "<Figure size 640x400 with 1 Axes>"
      ]
     },
     "metadata": {},
     "output_type": "display_data"
    }
   ],
   "source": [
    "diag.histogram_plot(hist_icon, frequency=True, pdf = False, figsize=0.8, \n",
    "                    xlogscale = True, ylogscale=True, plot_title = \"ICON, trop precipitation rate\")"
   ]
  },
  {
   "attachments": {},
   "cell_type": "markdown",
   "metadata": {},
   "source": [
    "##### Histogram of pdf (`pdf=True`, also it is a default argument)"
   ]
  },
  {
   "cell_type": "code",
   "execution_count": 29,
   "metadata": {},
   "outputs": [
    {
     "data": {
      "text/plain": [
       "({<Axes: title={'center': 'ICON, trop precipitation rate'}, xlabel='mtpr, [mm/day]', ylabel='PDF'>,\n",
       "  <Figure size 640x400 with 1 Axes>},\n",
       " '/work/bb1153/b382267/tropical_rainfall_cicle3/PDF/trop_rainfall__PDF_histogram.pdf')"
      ]
     },
     "execution_count": 29,
     "metadata": {},
     "output_type": "execute_result"
    },
    {
     "data": {
      "image/png": "[encoded data removed]",
      "text/plain": [
       "<Figure size 640x400 with 1 Axes>"
      ]
     },
     "metadata": {},
     "output_type": "display_data"
    }
   ],
   "source": [
    "diag.histogram_plot(hist_icon, pdf = True, figsize=0.8, \n",
    "                    xlogscale = True, ylogscale=True, plot_title = \"ICON, trop precipitation rate\")"
   ]
  },
  {
   "attachments": {},
   "cell_type": "markdown",
   "metadata": {
    "tags": [
     "end_of_file",
     "<a id=‘end_of_file’></a>"
    ]
   },
   "source": [
    "[Back to the top of file](#structure)"
   ]
  },
  {
   "attachments": {},
   "cell_type": "markdown",
   "metadata": {},
   "source": [
    "#"
   ]
  },
  {
   "attachments": {},
   "cell_type": "markdown",
   "metadata": {},
   "source": [
    "##### The end"
   ]
  }
 ],
 "metadata": {
  "kernelspec": {
   "display_name": "tropical-rainfall",
   "language": "python",
   "name": "python3"
  },
  "language_info": {
   "codemirror_mode": {
    "name": "ipython",
    "version": 3
   },
   "file_extension": ".py",
   "mimetype": "text/x-python",
   "name": "python",
   "nbconvert_exporter": "python",
   "pygments_lexer": "ipython3",
   "version": "3.11.8"
  },
  "orig_nbformat": 4,
  "vscode": {
   "interpreter": {
    "hash": "07e98d85ba00412b6aa5125aae8e919611736cabcd7c227888eba392d8503989"
   }
  }
 },
 "nbformat": 4,
 "nbformat_minor": 2
}
