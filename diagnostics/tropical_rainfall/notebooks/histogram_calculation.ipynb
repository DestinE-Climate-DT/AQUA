{
 "cells": [
  {
   "attachments": {},
   "cell_type": "markdown",
   "metadata": {},
   "source": [
    "# The detailed demonstration of the tropical rainfall diagnostic for low-resolution data:\n",
    "\n",
    "# Calculation of histograms"
   ]
  },
  {
   "attachments": {},
   "cell_type": "markdown",
   "metadata": {
    "tags": [
     "top_of_file"
    ]
   },
   "source": [
    "### Content"
   ]
  },
  {
   "attachments": {},
   "cell_type": "markdown",
   "metadata": {},
   "source": [
    "\n",
    "1. [The load of packages, modules, and data](#1-load-of-packages-modules-and-data)\n",
    "\n",
    "2. [Calculation of histogram of precipitation/tropical precipitation](#2-calculation-of-histogram-of-precipitationtropicalprecipitation)\n",
    "\n",
    "    2.1. [with continuous  uniform binning](#21-with-continuous-uniform-binning)\n",
    "\n",
    "    2.2  [with non-uniform (log-spaced) binning](#22-with-non-uniform-log-spaced-binning)\n",
    "\n",
    "    2.3. [in the lazy (or delayed) mode](#23-in-the-lazy-or-delayed-mode)\n",
    "    \n",
    "    2.4. [with non-default tropical latitude band](#24-with-non-default-latitude-band)\n",
    "\n",
    "    2.5  [with a specific time band](#25-with-a-specific-time-band)\n",
    "\n",
    "    2.6. [with weights (weights=reader.grid_area)](#26-with-weights-weightsreadergrid_area)\n",
    " \n",
    "\n",
    "3. [Loading the histogram to/from storage](#3-loading-the-histogram-tofrom-storage)\n",
    "\n",
    "[Go to the end of file](#the-end)"
   ]
  },
  {
   "attachments": {},
   "cell_type": "markdown",
   "metadata": {},
   "source": [
    "We split the demonstration of the histogram calculation for low-resolution and high-resolution data into two notebooks. \n",
    "\n",
    "The reason for that is that in the current diagnostic deliverable, the histogram calculations for low-resolution data have more features. Namely, the description of the functionality is following:\n",
    "\n",
    "|  | Low-resolution | High-resolution |\n",
    "| --- | --- | --- |\n",
    "| name of function | histogram_lowres  | histogram |\n",
    "| uniform binning | + | + |\n",
    "| non-uniform (log-spaced) binning | + | - |\n",
    "| lazy (or delayed) mode | + | - |\n",
    "|  weights (weights=reader.grid_area) | + | - |\n",
    "\n",
    "In the next deliverable of the diagnostic, we will add all necessary features for high-resolution data (like non-uniform binning)."
   ]
  },
  {
   "attachments": {},
   "cell_type": "markdown",
   "metadata": {},
   "source": [
    "#"
   ]
  },
  {
   "attachments": {},
   "cell_type": "markdown",
   "metadata": {
    "tags": [
     "section1"
    ]
   },
   "source": [
    "## 1. The load of packages, modules, and data"
   ]
  },
  {
   "cell_type": "code",
   "execution_count": 1,
   "metadata": {},
   "outputs": [
    {
     "name": "stderr",
     "output_type": "stream",
     "text": [
      "OpenBLAS blas_thread_init: pthread_create failed for thread 121 of 128: Resource temporarily unavailable\n",
      "OpenBLAS blas_thread_init: RLIMIT_NPROC 1024 current, 1024 max\n",
      "OpenBLAS blas_thread_init: pthread_create failed for thread 122 of 128: Resource temporarily unavailable\n",
      "OpenBLAS blas_thread_init: RLIMIT_NPROC 1024 current, 1024 max\n",
      "OpenBLAS blas_thread_init: pthread_create failed for thread 123 of 128: Resource temporarily unavailable\n",
      "OpenBLAS blas_thread_init: RLIMIT_NPROC 1024 current, 1024 max\n",
      "OpenBLAS blas_thread_init: pthread_create failed for thread 124 of 128: Resource temporarily unavailable\n",
      "OpenBLAS blas_thread_init: RLIMIT_NPROC 1024 current, 1024 max\n",
      "OpenBLAS blas_thread_init: pthread_create failed for thread 125 of 128: Resource temporarily unavailable\n",
      "OpenBLAS blas_thread_init: RLIMIT_NPROC 1024 current, 1024 max\n",
      "OpenBLAS blas_thread_init: pthread_create failed for thread 126 of 128: Resource temporarily unavailable\n",
      "OpenBLAS blas_thread_init: RLIMIT_NPROC 1024 current, 1024 max\n",
      "OpenBLAS blas_thread_init: pthread_create failed for thread 127 of 128: Resource temporarily unavailable\n",
      "OpenBLAS blas_thread_init: RLIMIT_NPROC 1024 current, 1024 max\n"
     ]
    },
    {
     "ename": "KeyboardInterrupt",
     "evalue": "",
     "output_type": "error",
     "traceback": [
      "\u001b[0;31m---------------------------------------------------------------------------\u001b[0m",
      "\u001b[0;31mKeyboardInterrupt\u001b[0m                         Traceback (most recent call last)",
      "\u001b[1;32m/work/bb1153/b382267/AQUA/diagnostics/tropical_rainfall/notebooks/histogram_calculation.ipynb Cell 7\u001b[0m line \u001b[0;36m2\n\u001b[1;32m      <a href='vscode-notebook-cell://ssh-remote%2Blevante/work/bb1153/b382267/AQUA/diagnostics/tropical_rainfall/notebooks/histogram_calculation.ipynb#W6sdnNjb2RlLXJlbW90ZQ%3D%3D?line=0'>1</a>\u001b[0m \u001b[39mimport\u001b[39;00m \u001b[39msys\u001b[39;00m\n\u001b[0;32m----> <a href='vscode-notebook-cell://ssh-remote%2Blevante/work/bb1153/b382267/AQUA/diagnostics/tropical_rainfall/notebooks/histogram_calculation.ipynb#W6sdnNjb2RlLXJlbW90ZQ%3D%3D?line=1'>2</a>\u001b[0m \u001b[39mfrom\u001b[39;00m \u001b[39maqua\u001b[39;00m \u001b[39mimport\u001b[39;00m Reader\n\u001b[1;32m      <a href='vscode-notebook-cell://ssh-remote%2Blevante/work/bb1153/b382267/AQUA/diagnostics/tropical_rainfall/notebooks/histogram_calculation.ipynb#W6sdnNjb2RlLXJlbW90ZQ%3D%3D?line=2'>3</a>\u001b[0m sys\u001b[39m.\u001b[39mpath\u001b[39m.\u001b[39minsert(\u001b[39m0\u001b[39m, \u001b[39m'\u001b[39m\u001b[39m../../\u001b[39m\u001b[39m'\u001b[39m)\n\u001b[1;32m      <a href='vscode-notebook-cell://ssh-remote%2Blevante/work/bb1153/b382267/AQUA/diagnostics/tropical_rainfall/notebooks/histogram_calculation.ipynb#W6sdnNjb2RlLXJlbW90ZQ%3D%3D?line=3'>4</a>\u001b[0m \u001b[39mfrom\u001b[39;00m \u001b[39mtropical_rainfall\u001b[39;00m \u001b[39mimport\u001b[39;00m Tropical_Rainfall\n",
      "File \u001b[0;32m/work/bb1153/b382267/AQUA/aqua/__init__.py:2\u001b[0m\n\u001b[1;32m      1\u001b[0m \u001b[39m\"\"\"AQUA module\"\"\"\u001b[39;00m\n\u001b[0;32m----> 2\u001b[0m \u001b[39mfrom\u001b[39;00m \u001b[39m.\u001b[39;00m\u001b[39mdocker\u001b[39;00m \u001b[39mimport\u001b[39;00m rundiag\n\u001b[1;32m      3\u001b[0m \u001b[39mfrom\u001b[39;00m \u001b[39m.\u001b[39;00m\u001b[39mgribber\u001b[39;00m \u001b[39mimport\u001b[39;00m Gribber\n\u001b[1;32m      4\u001b[0m \u001b[39mfrom\u001b[39;00m \u001b[39m.\u001b[39;00m\u001b[39mlra_generator\u001b[39;00m \u001b[39mimport\u001b[39;00m LRAgenerator\n",
      "File \u001b[0;32m/work/bb1153/b382267/AQUA/aqua/docker/__init__.py:2\u001b[0m\n\u001b[1;32m      1\u001b[0m \u001b[39m\"\"\"AQUA module\"\"\"\u001b[39;00m\n\u001b[0;32m----> 2\u001b[0m \u001b[39mfrom\u001b[39;00m \u001b[39m.\u001b[39;00m\u001b[39mrundiag\u001b[39;00m \u001b[39mimport\u001b[39;00m rundiag\n\u001b[1;32m      4\u001b[0m __all__ \u001b[39m=\u001b[39m [\u001b[39m\"\u001b[39m\u001b[39mrundiag\u001b[39m\u001b[39m\"\u001b[39m]\n",
      "File \u001b[0;32m/work/bb1153/b382267/AQUA/aqua/docker/rundiag.py:6\u001b[0m\n\u001b[1;32m      4\u001b[0m \u001b[39mimport\u001b[39;00m \u001b[39mdocker\u001b[39;00m\n\u001b[1;32m      5\u001b[0m \u001b[39mfrom\u001b[39;00m \u001b[39mjinja2\u001b[39;00m \u001b[39mimport\u001b[39;00m Template, FileSystemLoader, Environment\n\u001b[0;32m----> 6\u001b[0m \u001b[39mfrom\u001b[39;00m \u001b[39maqua\u001b[39;00m\u001b[39m.\u001b[39;00m\u001b[39mutil\u001b[39;00m \u001b[39mimport\u001b[39;00m load_yaml\n\u001b[1;32m      7\u001b[0m \u001b[39mfrom\u001b[39;00m \u001b[39mruamel\u001b[39;00m\u001b[39m.\u001b[39;00m\u001b[39myaml\u001b[39;00m \u001b[39mimport\u001b[39;00m YAML\n\u001b[1;32m      9\u001b[0m \u001b[39mdef\u001b[39;00m \u001b[39mrundiag\u001b[39m(cmd \u001b[39m=\u001b[39m \u001b[39mNone\u001b[39;00m, config \u001b[39m=\u001b[39m \u001b[39m'\u001b[39m\u001b[39m.\u001b[39m\u001b[39m'\u001b[39m,\n\u001b[1;32m     10\u001b[0m             machine_file\u001b[39m=\u001b[39m\u001b[39mr\u001b[39m\u001b[39m'\u001b[39m\u001b[39mmachine.yaml\u001b[39m\u001b[39m'\u001b[39m,\n\u001b[1;32m     11\u001b[0m             diagnostic_file\u001b[39m=\u001b[39m\u001b[39mr\u001b[39m\u001b[39m'\u001b[39m\u001b[39mdiagnostic.yaml\u001b[39m\u001b[39m'\u001b[39m):\n",
      "File \u001b[0;32m/work/bb1153/b382267/AQUA/aqua/util/__init__.py:4\u001b[0m\n\u001b[1;32m      1\u001b[0m \u001b[39m\"\"\"Utilities module\"\"\"\u001b[39;00m\n\u001b[1;32m      3\u001b[0m \u001b[39m#from .config import get_config_dir, get_machine, get_reader_filenames\u001b[39;00m\n\u001b[0;32m----> 4\u001b[0m \u001b[39mfrom\u001b[39;00m \u001b[39m.\u001b[39;00m\u001b[39mconfig\u001b[39;00m \u001b[39mimport\u001b[39;00m ConfigPath\n\u001b[1;32m      5\u001b[0m \u001b[39mfrom\u001b[39;00m \u001b[39m.\u001b[39;00m\u001b[39meccodes\u001b[39;00m \u001b[39mimport\u001b[39;00m read_eccodes_dic, read_eccodes_def, get_eccodes_attr\n\u001b[1;32m      6\u001b[0m \u001b[39mfrom\u001b[39;00m \u001b[39m.\u001b[39;00m\u001b[39mgraphics\u001b[39;00m \u001b[39mimport\u001b[39;00m add_cyclic_lon, plot_box, minmax_maps\n",
      "File \u001b[0;32m/work/bb1153/b382267/AQUA/aqua/util/config.py:3\u001b[0m\n\u001b[1;32m      1\u001b[0m \u001b[39m\"\"\"Utility functions for getting the configuration files\"\"\"\u001b[39;00m\n\u001b[1;32m      2\u001b[0m \u001b[39mimport\u001b[39;00m \u001b[39mos\u001b[39;00m\n\u001b[0;32m----> 3\u001b[0m \u001b[39mfrom\u001b[39;00m \u001b[39m.\u001b[39;00m\u001b[39myaml\u001b[39;00m \u001b[39mimport\u001b[39;00m load_yaml\n\u001b[1;32m      6\u001b[0m \u001b[39mclass\u001b[39;00m \u001b[39mConfigPath\u001b[39;00m():\n\u001b[1;32m      8\u001b[0m \u001b[39m    \u001b[39m\u001b[39m\"\"\"\u001b[39;00m\n\u001b[1;32m      9\u001b[0m \u001b[39m    Class to set the configuration path and dir in a robust way\u001b[39;00m\n\u001b[1;32m     10\u001b[0m \u001b[39m    \"\"\"\u001b[39;00m\n",
      "File \u001b[0;32m/work/bb1153/b382267/AQUA/aqua/util/yaml.py:8\u001b[0m\n\u001b[1;32m      6\u001b[0m \u001b[39mimport\u001b[39;00m \u001b[39msys\u001b[39;00m\n\u001b[1;32m      7\u001b[0m \u001b[39mfrom\u001b[39;00m \u001b[39mstring\u001b[39;00m \u001b[39mimport\u001b[39;00m Template\n\u001b[0;32m----> 8\u001b[0m \u001b[39mimport\u001b[39;00m \u001b[39mxarray\u001b[39;00m \u001b[39mas\u001b[39;00m \u001b[39mxr\u001b[39;00m\n\u001b[1;32m      9\u001b[0m \u001b[39mfrom\u001b[39;00m \u001b[39mcollections\u001b[39;00m \u001b[39mimport\u001b[39;00m defaultdict\n\u001b[1;32m     10\u001b[0m \u001b[39mfrom\u001b[39;00m \u001b[39mruamel\u001b[39;00m\u001b[39m.\u001b[39;00m\u001b[39myaml\u001b[39;00m \u001b[39mimport\u001b[39;00m YAML\n",
      "File \u001b[0;32m/work/bb1153/b382267/mamba_dir/mambaforge/envs/aqua_common/lib/python3.11/site-packages/xarray/__init__.py:3\u001b[0m\n\u001b[1;32m      1\u001b[0m \u001b[39mfrom\u001b[39;00m \u001b[39mimportlib\u001b[39;00m\u001b[39m.\u001b[39;00m\u001b[39mmetadata\u001b[39;00m \u001b[39mimport\u001b[39;00m version \u001b[39mas\u001b[39;00m _version\n\u001b[0;32m----> 3\u001b[0m \u001b[39mfrom\u001b[39;00m \u001b[39mxarray\u001b[39;00m \u001b[39mimport\u001b[39;00m testing, tutorial\n\u001b[1;32m      4\u001b[0m \u001b[39mfrom\u001b[39;00m \u001b[39mxarray\u001b[39;00m\u001b[39m.\u001b[39;00m\u001b[39mbackends\u001b[39;00m\u001b[39m.\u001b[39;00m\u001b[39mapi\u001b[39;00m \u001b[39mimport\u001b[39;00m (\n\u001b[1;32m      5\u001b[0m     load_dataarray,\n\u001b[1;32m      6\u001b[0m     load_dataset,\n\u001b[0;32m   (...)\u001b[0m\n\u001b[1;32m     10\u001b[0m     save_mfdataset,\n\u001b[1;32m     11\u001b[0m )\n\u001b[1;32m     12\u001b[0m \u001b[39mfrom\u001b[39;00m \u001b[39mxarray\u001b[39;00m\u001b[39m.\u001b[39;00m\u001b[39mbackends\u001b[39;00m\u001b[39m.\u001b[39;00m\u001b[39mzarr\u001b[39;00m \u001b[39mimport\u001b[39;00m open_zarr\n",
      "File \u001b[0;32m/work/bb1153/b382267/mamba_dir/mambaforge/envs/aqua_common/lib/python3.11/site-packages/xarray/testing.py:7\u001b[0m\n\u001b[1;32m      4\u001b[0m \u001b[39mfrom\u001b[39;00m \u001b[39mcollections\u001b[39;00m\u001b[39m.\u001b[39;00m\u001b[39mabc\u001b[39;00m \u001b[39mimport\u001b[39;00m Hashable\n\u001b[1;32m      5\u001b[0m \u001b[39mfrom\u001b[39;00m \u001b[39mtyping\u001b[39;00m \u001b[39mimport\u001b[39;00m Union\n\u001b[0;32m----> 7\u001b[0m \u001b[39mimport\u001b[39;00m \u001b[39mnumpy\u001b[39;00m \u001b[39mas\u001b[39;00m \u001b[39mnp\u001b[39;00m\n\u001b[1;32m      8\u001b[0m \u001b[39mimport\u001b[39;00m \u001b[39mpandas\u001b[39;00m \u001b[39mas\u001b[39;00m \u001b[39mpd\u001b[39;00m\n\u001b[1;32m     10\u001b[0m \u001b[39mfrom\u001b[39;00m \u001b[39mxarray\u001b[39;00m\u001b[39m.\u001b[39;00m\u001b[39mcore\u001b[39;00m \u001b[39mimport\u001b[39;00m duck_array_ops, formatting, utils\n",
      "File \u001b[0;32m/work/bb1153/b382267/mamba_dir/mambaforge/envs/aqua_common/lib/python3.11/site-packages/numpy/__init__.py:141\u001b[0m\n\u001b[1;32m    138\u001b[0m \u001b[39m# Allow distributors to run custom init code\u001b[39;00m\n\u001b[1;32m    139\u001b[0m \u001b[39mfrom\u001b[39;00m \u001b[39m.\u001b[39;00m \u001b[39mimport\u001b[39;00m _distributor_init\n\u001b[0;32m--> 141\u001b[0m \u001b[39mfrom\u001b[39;00m \u001b[39m.\u001b[39;00m \u001b[39mimport\u001b[39;00m core\n\u001b[1;32m    142\u001b[0m \u001b[39mfrom\u001b[39;00m \u001b[39m.\u001b[39;00m\u001b[39mcore\u001b[39;00m \u001b[39mimport\u001b[39;00m \u001b[39m*\u001b[39m\n\u001b[1;32m    143\u001b[0m \u001b[39mfrom\u001b[39;00m \u001b[39m.\u001b[39;00m \u001b[39mimport\u001b[39;00m compat\n",
      "File \u001b[0;32m/work/bb1153/b382267/mamba_dir/mambaforge/envs/aqua_common/lib/python3.11/site-packages/numpy/core/__init__.py:23\u001b[0m\n\u001b[1;32m     20\u001b[0m         env_added\u001b[39m.\u001b[39mappend(envkey)\n\u001b[1;32m     22\u001b[0m \u001b[39mtry\u001b[39;00m:\n\u001b[0;32m---> 23\u001b[0m     \u001b[39mfrom\u001b[39;00m \u001b[39m.\u001b[39;00m \u001b[39mimport\u001b[39;00m multiarray\n\u001b[1;32m     24\u001b[0m \u001b[39mexcept\u001b[39;00m \u001b[39mImportError\u001b[39;00m \u001b[39mas\u001b[39;00m exc:\n\u001b[1;32m     25\u001b[0m     \u001b[39mimport\u001b[39;00m \u001b[39msys\u001b[39;00m\n",
      "File \u001b[0;32m/work/bb1153/b382267/mamba_dir/mambaforge/envs/aqua_common/lib/python3.11/site-packages/numpy/core/multiarray.py:10\u001b[0m\n\u001b[1;32m      1\u001b[0m \u001b[39m\"\"\"\u001b[39;00m\n\u001b[1;32m      2\u001b[0m \u001b[39mCreate the numpy.core.multiarray namespace for backward compatibility. In v1.16\u001b[39;00m\n\u001b[1;32m      3\u001b[0m \u001b[39mthe multiarray and umath c-extension modules were merged into a single\u001b[39;00m\n\u001b[0;32m   (...)\u001b[0m\n\u001b[1;32m      6\u001b[0m \n\u001b[1;32m      7\u001b[0m \u001b[39m\"\"\"\u001b[39;00m\n\u001b[1;32m      9\u001b[0m \u001b[39mimport\u001b[39;00m \u001b[39mfunctools\u001b[39;00m\n\u001b[0;32m---> 10\u001b[0m \u001b[39mfrom\u001b[39;00m \u001b[39m.\u001b[39;00m \u001b[39mimport\u001b[39;00m overrides\n\u001b[1;32m     11\u001b[0m \u001b[39mfrom\u001b[39;00m \u001b[39m.\u001b[39;00m \u001b[39mimport\u001b[39;00m _multiarray_umath\n\u001b[1;32m     12\u001b[0m \u001b[39mfrom\u001b[39;00m \u001b[39m.\u001b[39;00m\u001b[39m_multiarray_umath\u001b[39;00m \u001b[39mimport\u001b[39;00m \u001b[39m*\u001b[39m  \u001b[39m# noqa: F403\u001b[39;00m\n",
      "File \u001b[0;32m/work/bb1153/b382267/mamba_dir/mambaforge/envs/aqua_common/lib/python3.11/site-packages/numpy/core/overrides.py:6\u001b[0m\n\u001b[1;32m      3\u001b[0m \u001b[39mimport\u001b[39;00m \u001b[39mfunctools\u001b[39;00m\n\u001b[1;32m      4\u001b[0m \u001b[39mimport\u001b[39;00m \u001b[39mos\u001b[39;00m\n\u001b[0;32m----> 6\u001b[0m \u001b[39mfrom\u001b[39;00m \u001b[39mnumpy\u001b[39;00m\u001b[39m.\u001b[39;00m\u001b[39mcore\u001b[39;00m\u001b[39m.\u001b[39;00m\u001b[39m_multiarray_umath\u001b[39;00m \u001b[39mimport\u001b[39;00m (\n\u001b[1;32m      7\u001b[0m     add_docstring, implement_array_function, _get_implementing_args)\n\u001b[1;32m      8\u001b[0m \u001b[39mfrom\u001b[39;00m \u001b[39mnumpy\u001b[39;00m\u001b[39m.\u001b[39;00m\u001b[39mcompat\u001b[39;00m\u001b[39m.\u001b[39;00m\u001b[39m_inspect\u001b[39;00m \u001b[39mimport\u001b[39;00m getargspec\n\u001b[1;32m     11\u001b[0m ARRAY_FUNCTION_ENABLED \u001b[39m=\u001b[39m \u001b[39mbool\u001b[39m(\n\u001b[1;32m     12\u001b[0m     \u001b[39mint\u001b[39m(os\u001b[39m.\u001b[39menviron\u001b[39m.\u001b[39mget(\u001b[39m'\u001b[39m\u001b[39mNUMPY_EXPERIMENTAL_ARRAY_FUNCTION\u001b[39m\u001b[39m'\u001b[39m, \u001b[39m1\u001b[39m)))\n",
      "\u001b[0;31mKeyboardInterrupt\u001b[0m: "
     ]
    }
   ],
   "source": [
    "import sys\n",
    "from aqua import Reader\n",
    "sys.path.insert(0, '../../')\n",
    "from tropical_rainfall import Tropical_Rainfall"
   ]
  },
  {
   "cell_type": "code",
   "execution_count": null,
   "metadata": {},
   "outputs": [],
   "source": [
    "diag = Tropical_Rainfall()\n",
    "path_to_mean = diag.path_to_netcdf+'mean/'"
   ]
  },
  {
   "cell_type": "code",
   "execution_count": null,
   "metadata": {},
   "outputs": [
    {
     "name": "stderr",
     "output_type": "stream",
     "text": [
      "\u001b[33m2023-10-20 17:34:50 :: Reader :: WARNING  -> You are asking for var ['tprate'] which is already fixed from ['tp'].\u001b[0m\n",
      "\u001b[33m2023-10-20 17:34:50 :: Reader :: WARNING  -> It would be safer to run with fix=False\u001b[0m\n",
      "\u001b[33m2023-10-20 17:34:50 :: Reader :: WARNING  -> You are asking for var ['tprate'] which is already fixed from ['tp'].\u001b[0m\n",
      "\u001b[33m2023-10-20 17:34:50 :: Reader :: WARNING  -> Would be safer to run with fix=False\u001b[0m\n",
      "\u001b[33m2023-10-20 17:34:50 :: eccodes :: WARNING  -> ShortName tprate have multiple grib codes associated: ['260048', '172228']\u001b[0m\n",
      "\u001b[33m2023-10-20 17:34:50 :: eccodes :: WARNING  -> AQUA will take the first so that tprate -> 260048, please set up a correct fix if this does not look right\u001b[0m\n",
      "\u001b[33m2023-10-20 17:34:54 :: Reader :: WARNING  -> You are asking for var ['tprate'] which is already fixed from ['tp'].\u001b[0m\n",
      "\u001b[33m2023-10-20 17:34:54 :: Reader :: WARNING  -> It would be safer to run with fix=False\u001b[0m\n",
      "\u001b[33m2023-10-20 17:34:54 :: Reader :: WARNING  -> You are asking for var ['tprate'] which is already fixed from ['tp'].\u001b[0m\n",
      "\u001b[33m2023-10-20 17:34:54 :: Reader :: WARNING  -> Would be safer to run with fix=False\u001b[0m\n",
      "\u001b[33m2023-10-20 17:34:54 :: eccodes :: WARNING  -> ShortName tprate have multiple grib codes associated: ['260048', '172228']\u001b[0m\n",
      "\u001b[33m2023-10-20 17:34:54 :: eccodes :: WARNING  -> AQUA will take the first so that tprate -> 260048, please set up a correct fix if this does not look right\u001b[0m\n"
     ]
    }
   ],
   "source": [
    "if diag.tools.get_machine()==lumi:\n",
    "    reader  = Reader(model=\"IFS\", exp=\"historical-1990-devcon\", source=\"lra-r100-monthly\") \n",
    "    ifs_1990_devcon = reader.retrieve(var=[\"tprate\"])\n",
    "    \n",
    "    reader                  = Reader(model=\"IFS\", exp=\"control-1950-devcon\", source=\"lra-r100-monthly\")\n",
    "    control_1950_devcon     = reader.retrieve(var=[\"tprate\"])\n",
    "else:\n",
    "    reader  = Reader(model=\"IFS\", exp=\"tco2559-ng5-cycle3\", source=\"lra-r100-monthly\")\n",
    "    ifs_tco2559_ng5    = reader.retrieve(var=[\"tprate\"])\n",
    "\n",
    "    reader                  = Reader(model=\"IFS\", exp=\"tco1279-orca025-cycle3\", source=\"lra-r100-monthly\")\n",
    "    ifs_tco1279_orca025     = reader.retrieve(var=[\"tprate\"])"
   ]
  },
  {
   "cell_type": "code",
   "execution_count": 7,
   "metadata": {},
   "outputs": [],
   "source": [
    "if diag.tools.get_machine()==lumi:\n",
    "    lra_data = {\n",
    "                'historical_1990': {'data': ifs_1990_devcon, 'label': 'ifs_historical-1990-devcon'},\n",
    "                'control_1950': {'data': control_1950_devcon, 'label': 'ifs_control-1950-devcon'},            \n",
    "            }\n",
    "else:\n",
    "    lra_data = {\n",
    "                'ifs_tco2559': {'data': ifs_tco2559_ng5, 'label': 'ifs_tco2559'},    \n",
    "                'ifs_tco1279': {'data': ifs_tco1279_orca025, 'label': 'ifs_tco1279'},     \n",
    "            }"
   ]
  },
  {
   "attachments": {},
   "cell_type": "markdown",
   "metadata": {},
   "source": [
    "## 2. Calculation of histogram of tropical precipitation\n"
   ]
  },
  {
   "attachments": {},
   "cell_type": "markdown",
   "metadata": {},
   "source": [
    "### 2.1. with continuous uniform binning "
   ]
  },
  {
   "attachments": {},
   "cell_type": "markdown",
   "metadata": {
    "tags": [
     "manual_preprocessing"
    ]
   },
   "source": [
    "##### We can perform calculations of the histograms with uniform binning by  initializing the following attributes of diagnostic: \n",
    " - `num_of_bins`\n",
    " - `first_edge`\n",
    " - `width_of_bin`\n",
    " \n",
    " ##### In this case, all the bins in the histogram will have the width of bins."
   ]
  },
  {
   "attachments": {},
   "cell_type": "markdown",
   "metadata": {},
   "source": [
    "##### We calculate the histogram simply by function:"
   ]
  },
  {
   "cell_type": "code",
   "execution_count": null,
   "metadata": {},
   "outputs": [],
   "source": [
    "histograms = {}\n",
    "for key, value in lra_data.items():\n",
    "    histograms[key] = diag.histogram(value[\"data\"], \n",
    "                                     new_unit=new_unit,  path_to_histogram=path_to_netcdf, name_of_file=value[\"label\"])"
   ]
  },
  {
   "attachments": {},
   "cell_type": "markdown",
   "metadata": {},
   "source": [
    "##### The output of the histogram function is xarray.Dataset, which has two coordinates \n",
    "- `center_of_bin`:   the center of each bin\n",
    "- `width`:           width of each bin\n",
    "##### and contains three variables:\n",
    "- `counts`:       the number of observations that fall into each bin\n",
    "- `frequency`:    the number of cases in each bin, normalized by the total number of counts. The sum of the frequencies equals 1.\n",
    "- `pdf`:          the number of cases in each bin, normalized by the total number of counts and width of each bin. \n",
    "\n",
    "##### local and global attributes. Local attributes contain the information about the time and space grid for which diagnostic performed the calculations:\n",
    "- `time_band`:    the value of time of the first and last element in the dataset and the frequency of the time grid\n",
    "- `lat_band`:     the maximum and minimum values of the tropical latitude band and the frequency of the latitude grid\n",
    "- `lon_band`:     the maximum and minimum values of the longitude and the frequency of the longitude grid\n",
    "\n",
    "##### Global attribute `history` contains the information about when the histogram was calculated and values of `time_band`, `lat_band`, and `lon_band`."
   ]
  },
  {
   "attachments": {},
   "cell_type": "markdown",
   "metadata": {},
   "source": [
    "### 2.2.  with non-uniform (log-spaced) binning  "
   ]
  },
  {
   "attachments": {},
   "cell_type": "markdown",
   "metadata": {},
   "source": [
    "##### If you want to perform the calculation for non-uniform binning, use the `bins` attribute of the diagnostic instead of  `num_of_bins`, `first_edge`, and `width_of_bin`.  "
   ]
  },
  {
   "cell_type": "code",
   "execution_count": 5,
   "metadata": {},
   "outputs": [],
   "source": [
    "bins = [1.00000000e-09, 1.63789371e-09, 2.68269580e-09, 4.39397056e-09,\n",
    "       7.19685673e-09, 1.17876863e-08, 1.93069773e-08, 3.16227766e-08,\n",
    "       5.17947468e-08, 8.48342898e-08, 1.38949549e-07, 2.27584593e-07,\n",
    "       3.72759372e-07, 6.10540230e-07, 1.00000000e-06]"
   ]
  },
  {
   "cell_type": "code",
   "execution_count": 6,
   "metadata": {},
   "outputs": [],
   "source": [
    "diag = Tropical_Rainfall(bins=bins)"
   ]
  },
  {
   "cell_type": "code",
   "execution_count": null,
   "metadata": {},
   "outputs": [],
   "source": [
    "histograms_logspaced = {}\n",
    "for key, value in lra_data.items():\n",
    "    histograms_logspaced[key] = diag.histogram_lowres(value[\"data\"], \n",
    "                                     new_unit=new_unit,  path_to_histogram=path_to_netcdf, name_of_file=value[\"label\"]+\"_logspaced\")"
   ]
  },
  {
   "attachments": {},
   "cell_type": "markdown",
   "metadata": {},
   "source": [
    "### 2.3. in the lazy (or delayed) mode"
   ]
  },
  {
   "attachments": {},
   "cell_type": "markdown",
   "metadata": {},
   "source": [
    "##### To perform calculations in the so-called lazy mode, use the flag `lazy` in the histogram function. "
   ]
  },
  {
   "cell_type": "code",
   "execution_count": 8,
   "metadata": {},
   "outputs": [],
   "source": [
    "diag = Tropical_Rainfall(trop_lat=15,  num_of_bins = 5000, first_edge = 0, loglevel='warning')\n",
    "diag.width_of_bin = diag.precipitation_rate_units_converter(0.2, old_unit='mm/day', new_unit=new_unit)\n"
   ]
  },
  {
   "cell_type": "code",
   "execution_count": 8,
   "metadata": {},
   "outputs": [
    {
     "name": "stderr",
     "output_type": "stream",
     "text": [
      "/LUMI_TYKKY_PuGxLUy/miniconda/envs/env1/lib/python3.11/site-packages/dask/array/core.py:3470: UserWarning: Passing an object to dask.array.from_array which is already a Dask collection. This can lead to unexpected behavior.\n",
      "  warnings.warn(\n",
      "/LUMI_TYKKY_PuGxLUy/miniconda/envs/env1/lib/python3.11/site-packages/dask/array/core.py:3470: UserWarning: Passing an object to dask.array.from_array which is already a Dask collection. This can lead to unexpected behavior.\n",
      "  warnings.warn(\n"
     ]
    }
   ],
   "source": [
    "histograms_lazy = {}\n",
    "for key, value in lra_data.items():\n",
    "    histograms_lazy[key] = diag.histogram_lowres(value[\"data\"], new_unit=new_unit,\n",
    "                                     lazy=True)"
   ]
  },
  {
   "attachments": {},
   "cell_type": "markdown",
   "metadata": {},
   "source": [
    "##### `Note`: In the case of lazy calculation, the function's output will be different:  the xarray will contain only non-computed counts. If you want to add frequency and pdf variables to the histogram Dataset, apply the following function `add_frequency_and_pdf` (but only when you are actually ready to compute the histogram)."
   ]
  },
  {
   "cell_type": "code",
   "execution_count": 19,
   "metadata": {},
   "outputs": [],
   "source": [
    "for key,value in lra_data.items():\n",
    "    histograms_lazy[key]  = diag.add_frequency_and_pdf(tprate_dataset=histograms_lazy[key])"
   ]
  },
  {
   "attachments": {},
   "cell_type": "markdown",
   "metadata": {},
   "source": [
    "### 2.4. with non-default latitude band "
   ]
  },
  {
   "attachments": {},
   "cell_type": "markdown",
   "metadata": {},
   "source": [
    "##### The tropical latitude band, by default, is the following"
   ]
  },
  {
   "cell_type": "code",
   "execution_count": 11,
   "metadata": {},
   "outputs": [
    {
     "data": {
      "text/plain": [
       "10"
      ]
     },
     "execution_count": 11,
     "metadata": {},
     "output_type": "execute_result"
    }
   ],
   "source": [
    "diag.trop_lat"
   ]
  },
  {
   "attachments": {},
   "cell_type": "markdown",
   "metadata": {},
   "source": [
    "##### You can modify the tropical latitude band as "
   ]
  },
  {
   "cell_type": "code",
   "execution_count": 12,
   "metadata": {},
   "outputs": [
    {
     "data": {
      "text/plain": [
       "20"
      ]
     },
     "execution_count": 12,
     "metadata": {},
     "output_type": "execute_result"
    }
   ],
   "source": [
    "diag.trop_lat = 20\n",
    "diag.trop_lat"
   ]
  },
  {
   "attachments": {},
   "cell_type": "markdown",
   "metadata": {},
   "source": [
    "##### You can also modify the latitude band with the use of an argument `trop_lat` of the histogram function "
   ]
  },
  {
   "cell_type": "code",
   "execution_count": 22,
   "metadata": {},
   "outputs": [],
   "source": [
    "histograms_trop30 = {}\n",
    "for key, value in lra_data.items():\n",
    "    histograms_trop30[key] = diag.histogram(value[\"data\"], trop_lat=30, new_unit=new_unit)"
   ]
  },
  {
   "attachments": {},
   "cell_type": "markdown",
   "metadata": {},
   "source": [
    "### 2.5. with a specific time band "
   ]
  },
  {
   "attachments": {},
   "cell_type": "markdown",
   "metadata": {},
   "source": [
    "##### You can specify `s_time` and `f_time` as integers (starting and final times). For example, "
   ]
  },
  {
   "cell_type": "code",
   "execution_count": 28,
   "metadata": {},
   "outputs": [],
   "source": [
    "diag = Tropical_Rainfall(trop_lat=15,  num_of_bins = 5000, first_edge = 0, loglevel='warning', s_time = 0, f_time = 5)\n",
    "diag.width_of_bin = diag.precipitation_rate_units_converter(0.2, old_unit='mm/day', new_unit=new_unit)\n"
   ]
  },
  {
   "cell_type": "code",
   "execution_count": 29,
   "metadata": {},
   "outputs": [],
   "source": [
    "histograms_timeband = {}\n",
    "for key, value in lra_data.items():\n",
    "    histograms_timeband[key] = diag.histogram(value[\"data\"], new_unit=new_unit)"
   ]
  },
  {
   "attachments": {},
   "cell_type": "markdown",
   "metadata": {},
   "source": [
    "##### Also, you can specify `s_time` and `f_time` as strings. For example, "
   ]
  },
  {
   "cell_type": "code",
   "execution_count": 16,
   "metadata": {},
   "outputs": [],
   "source": [
    "diag.s_time = '2020:01'\n",
    "diag.f_time ='2020/03/20/12'"
   ]
  },
  {
   "attachments": {},
   "cell_type": "markdown",
   "metadata": {},
   "source": [
    "##### or"
   ]
  },
  {
   "cell_type": "code",
   "execution_count": 17,
   "metadata": {},
   "outputs": [],
   "source": [
    "diag.s_time = '2020'\n",
    "diag.f_time ='2020.03.20'"
   ]
  },
  {
   "attachments": {},
   "cell_type": "markdown",
   "metadata": {},
   "source": [
    "##### There is the possibility of specifying only the year band or only the months' band. For example, we can select June, July, and August in a whole dataset as"
   ]
  },
  {
   "cell_type": "code",
   "execution_count": 18,
   "metadata": {},
   "outputs": [],
   "source": [
    "diag.s_month = 3\n",
    "diag.f_month = 6 "
   ]
  },
  {
   "cell_type": "markdown",
   "metadata": {},
   "source": [
    "In order to evaluate the original dataset, we reset the time band at the full time range available in the dataset:"
   ]
  },
  {
   "cell_type": "code",
   "execution_count": 19,
   "metadata": {},
   "outputs": [],
   "source": [
    "diag.s_time = None\n",
    "diag.f_time = None\n",
    "diag.s_month = None\n",
    "diag.f_month = None"
   ]
  },
  {
   "attachments": {},
   "cell_type": "markdown",
   "metadata": {},
   "source": [
    "### 2.6. with weights (weights=reader.grid_area)"
   ]
  },
  {
   "attachments": {},
   "cell_type": "markdown",
   "metadata": {},
   "source": [
    "##### The function provides the opportunity to calculate the histogram with weights. Compared to standard methods, such computations are `high-speed` because they are based on `dask_histogram` package."
   ]
  },
  {
   "cell_type": "code",
   "execution_count": 30,
   "metadata": {},
   "outputs": [],
   "source": [
    "histograms_weighted = {}\n",
    "for key, value in lra_data.items():\n",
    "    histograms_weighted[key] = diag.histogram(value[\"data\"], new_unit=new_unit, weights=reader.grid_area)"
   ]
  },
  {
   "attachments": {},
   "cell_type": "markdown",
   "metadata": {},
   "source": [
    "##### You can also parse only the `bins` attribute of the class  instead of the specification of `num_of_bins`, `first_edge`, and `width_of_bin`. \n",
    "\n",
    "##### But such calculations would be much `slower`! (at around 50 times)"
   ]
  },
  {
   "cell_type": "code",
   "execution_count": 22,
   "metadata": {},
   "outputs": [],
   "source": [
    "diag = Tropical_Rainfall(bins = bins)"
   ]
  },
  {
   "cell_type": "code",
   "execution_count": null,
   "metadata": {},
   "outputs": [],
   "source": [
    "histograms_weighted = {}\n",
    "for key, value in lra_data.items():\n",
    "    histograms_weighted[key] = diag.histogram_lowres(value[\"data\"], new_unit=new_unit, weights=reader.grid_area)"
   ]
  },
  {
   "attachments": {},
   "cell_type": "markdown",
   "metadata": {},
   "source": [
    "#"
   ]
  },
  {
   "attachments": {},
   "cell_type": "markdown",
   "metadata": {},
   "source": [
    "## 3. Loading the histogram to/from storage"
   ]
  },
  {
   "attachments": {},
   "cell_type": "markdown",
   "metadata": {},
   "source": [
    "#### Saving the histogram in storage. \n",
    "\n",
    "##### `Notice`: the name of the file will be unique and depends on the time band "
   ]
  },
  {
   "cell_type": "code",
   "execution_count": null,
   "metadata": {},
   "outputs": [],
   "source": [
    "histograms = {}\n",
    "for key, value in lra_data.items():\n",
    "    histograms[key] = diag.histogram(value[\"data\"], \n",
    "                                     new_unit=new_unit,  path_to_histogram=path_to_netcdf, name_of_file=value[\"label\"])"
   ]
  },
  {
   "attachments": {},
   "cell_type": "markdown",
   "metadata": {},
   "source": [
    "#### Loading/opening the histogram from the storage \n",
    "\n",
    "##### The information about how to open and merge the list of histograms, see the notebook  `diagnostic_vs_streaming.ipynb`"
   ]
  },
  {
   "cell_type": "code",
   "execution_count": 31,
   "metadata": {},
   "outputs": [],
   "source": [
    "if lumi:\n",
    "    filename = path_to_netcdf+'trop_rainfall_ifs_control-1950-devcon_histogram_0-0_1000-0_5000_1950-01-01T00_1959-12-01T00_M.nc'\n",
    "    diag.open_dataset(path_to_netcdf = filename)"
   ]
  },
  {
   "attachments": {},
   "cell_type": "markdown",
   "metadata": {
    "tags": [
     "end_of_file",
     "<a id=‘end_of_file’></a>"
    ]
   },
   "source": [
    "[Back to the top of file](#structure)"
   ]
  },
  {
   "attachments": {},
   "cell_type": "markdown",
   "metadata": {},
   "source": [
    "##### The end"
   ]
  }
 ],
 "metadata": {
  "kernelspec": {
   "display_name": "tropical-rainfall",
   "language": "python",
   "name": "python3"
  },
  "language_info": {
   "codemirror_mode": {
    "name": "ipython",
    "version": 3
   },
   "file_extension": ".py",
   "mimetype": "text/x-python",
   "name": "python",
   "nbconvert_exporter": "python",
   "pygments_lexer": "ipython3",
   "version": "3.11.6"
  },
  "orig_nbformat": 4,
  "vscode": {
   "interpreter": {
    "hash": "07e98d85ba00412b6aa5125aae8e919611736cabcd7c227888eba392d8503989"
   }
  }
 },
 "nbformat": 4,
 "nbformat_minor": 2
}
