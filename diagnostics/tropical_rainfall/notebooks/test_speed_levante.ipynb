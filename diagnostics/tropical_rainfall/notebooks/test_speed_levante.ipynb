{
 "cells": [
  {
   "cell_type": "code",
   "execution_count": 1,
   "metadata": {},
   "outputs": [],
   "source": [
    "from dask_jobqueue import SLURMCluster # pip \n",
    "from dask.distributed import Client, progress \n",
    "import dask\n",
    "\n",
    "import re\n",
    "import matplotlib as mpl\n",
    "# Define Agg as Backend for matplotlib when no X server is running\n",
    "mpl.use('Agg')\n",
    "import socket\n",
    "import os\n",
    "import importlib \n",
    "\n",
    "import inspect\n",
    "import timeit"
   ]
  },
  {
   "cell_type": "code",
   "execution_count": 2,
   "metadata": {},
   "outputs": [],
   "source": [
    "\n",
    "def squeue_user(username = \"$USER\"):\n",
    "    _squeue_user = os.system(\"squeue --user=\"+str(username))\n",
    "    return _squeue_user \n",
    "\n",
    "with os.popen(\"pwd \") as f:\n",
    "    _pwd = f.readline()\n",
    "pwd = re.split(r'[\\n]', _pwd)[0]"
   ]
  },
  {
   "cell_type": "code",
   "execution_count": 3,
   "metadata": {},
   "outputs": [
    {
     "name": "stderr",
     "output_type": "stream",
     "text": [
      "/home/b/b382267/mambaforge/envs/tropical-rainfall/lib/python3.10/site-packages/dask_jobqueue/slurm.py:49: FutureWarning: project has been renamed to account as this kwarg was used wit -A option. You are still using it (please also check config files). If you did not set account yet, project will be respected for now, but it will be removed in a future release. If you already set account, project is ignored and you can remove it.\n",
      "  warnings.warn(warn, FutureWarning)\n"
     ]
    },
    {
     "name": "stdout",
     "output_type": "stream",
     "text": [
      "#!/usr/bin/env bash\n",
      "\n",
      "#SBATCH -J dask-worker\n",
      "#SBATCH -p compute\n",
      "#SBATCH -A bb1153\n",
      "#SBATCH -n 1\n",
      "#SBATCH --cpus-per-task=256\n",
      "#SBATCH --mem=466G\n",
      "#SBATCH -t 04:30:50\n",
      "\n",
      "/home/b/b382267/mambaforge/envs/tropical-rainfall/bin/python -m distributed.cli.dask_worker tcp://136.172.124.7:36637 --nthreads 16 --nworkers 16 --memory-limit 29.10GiB --name dummy-name --nanny --death-timeout 60\n",
      "\n"
     ]
    },
    {
     "name": "stderr",
     "output_type": "stream",
     "text": [
      "/home/b/b382267/mambaforge/envs/tropical-rainfall/lib/python3.10/site-packages/distributed/node.py:182: UserWarning: Port 8787 is already in use.\n",
      "Perhaps you already have a cluster running?\n",
      "Hosting the HTTP server on port 44161 instead\n",
      "  warnings.warn(\n",
      "/home/b/b382267/mambaforge/envs/tropical-rainfall/lib/python3.10/site-packages/dask_jobqueue/slurm.py:49: FutureWarning: project has been renamed to account as this kwarg was used wit -A option. You are still using it (please also check config files). If you did not set account yet, project will be respected for now, but it will be removed in a future release. If you already set account, project is ignored and you can remove it.\n",
      "  warnings.warn(warn, FutureWarning)\n"
     ]
    }
   ],
   "source": [
    "\n",
    "extra_args=[\n",
    "    \"--error=\"+str(pwd)+\"/slurm/logs/dask-worker-%j.err\",\n",
    "    \"--output=\"+str(pwd)+\"/slurm/output/dask-worker-%j.out\"\n",
    "]\n",
    "cluster = SLURMCluster(\n",
    "    name='dask-cluster', \n",
    "    cores=256,    \n",
    "    memory=\"500 GB\", \n",
    "    project=\"bb1153\",\n",
    "    queue= \"compute\", \n",
    "    walltime='04:30:50',\n",
    ")\n",
    "client = Client(cluster)\n",
    "print(cluster.job_script())"
   ]
  },
  {
   "cell_type": "code",
   "execution_count": 4,
   "metadata": {},
   "outputs": [],
   "source": [
    "cluster.scale(jobs=1)"
   ]
  },
  {
   "cell_type": "code",
   "execution_count": 10,
   "metadata": {},
   "outputs": [
    {
     "name": "stdout",
     "output_type": "stream",
     "text": [
      "             JOBID PARTITION     NAME     USER ST       TIME  NODES NODELIST(REASON)\n",
      "           4509090   compute dask-wor  b382267 PD       0:00      1 (Priority)\n",
      "           4509083   compute dask-wor  b382267  R       6:17      1 l40301\n"
     ]
    },
    {
     "data": {
      "text/plain": [
       "0"
      ]
     },
     "execution_count": 10,
     "metadata": {},
     "output_type": "execute_result"
    }
   ],
   "source": [
    "squeue_user()"
   ]
  },
  {
   "cell_type": "code",
   "execution_count": 7,
   "metadata": {},
   "outputs": [
    {
     "data": {
      "text/plain": [
       "0"
      ]
     },
     "execution_count": 7,
     "metadata": {},
     "output_type": "execute_result"
    }
   ],
   "source": [
    "os.system(\"scancel  4265508\") "
   ]
  },
  {
   "cell_type": "code",
   "execution_count": 21,
   "metadata": {},
   "outputs": [],
   "source": [
    "while True:\n",
    "    try:\n",
    "        importlib.reload(src.shared_func)\n",
    "        from  src.shared_func import time_interpreter,  animation\n",
    "        break\n",
    "    except NameError:\n",
    "        import src.shared_func\n",
    "        from  src.shared_func import time_interpreter,  animation\n",
    "        break"
   ]
  },
  {
   "cell_type": "code",
   "execution_count": 16,
   "metadata": {},
   "outputs": [],
   "source": [
    "import sys\n",
    "sys.path.append('..')"
   ]
  },
  {
   "cell_type": "code",
   "execution_count": 18,
   "metadata": {},
   "outputs": [],
   "source": [
    "while True:\n",
    "    try:\n",
    "        importlib.reload(src.tr_pr_mod)\n",
    "        from  src.tr_pr_mod import TR_PR_Diagnostic\n",
    "        break\n",
    "    except NameError:\n",
    "        import src.tr_pr_mod\n",
    "        from  src.tr_pr_mod import TR_PR_Diagnostic\n",
    "        break"
   ]
  },
  {
   "cell_type": "code",
   "execution_count": null,
   "metadata": {},
   "outputs": [],
   "source": []
  },
  {
   "cell_type": "code",
   "execution_count": 38,
   "metadata": {},
   "outputs": [],
   "source": [
    "diag = TR_PR_Diagnostic()\n",
    "\n",
    "diag.num_of_bins = 15\n",
    "diag.first_edge = 0\n",
    "diag.width_of_bin = 2000*10**(-6)/diag.num_of_bins\n",
    "\n",
    "last_edge = diag.first_edge  + diag.num_of_bins*diag.width_of_bin"
   ]
  },
  {
   "cell_type": "code",
   "execution_count": 39,
   "metadata": {},
   "outputs": [],
   "source": [
    "import aqua"
   ]
  },
  {
   "cell_type": "code",
   "execution_count": 41,
   "metadata": {},
   "outputs": [],
   "source": [
    "from aqua import Reader\n",
    "from aqua.reader import catalogue"
   ]
  },
  {
   "cell_type": "code",
   "execution_count": 50,
   "metadata": {},
   "outputs": [],
   "source": [
    "diagname  = 'tr_pr'\n",
    "machine   = 'levante'"
   ]
  },
  {
   "cell_type": "code",
   "execution_count": 54,
   "metadata": {},
   "outputs": [
    {
     "ename": "SystemExit",
     "evalue": "Cannot find the basic configuration file!",
     "output_type": "error",
     "traceback": [
      "An exception has occurred, use %tb to see the full traceback.\n",
      "\u001b[0;31mSystemExit\u001b[0m\u001b[0;31m:\u001b[0m Cannot find the basic configuration file!\n"
     ]
    },
    {
     "name": "stderr",
     "output_type": "stream",
     "text": [
      "/home/b/b382267/mambaforge/envs/aqua/lib/python3.10/site-packages/IPython/core/interactiveshell.py:3468: UserWarning: To exit: use 'exit', 'quit', or Ctrl-D.\n",
      "  warn(\"To exit: use 'exit', 'quit', or Ctrl-D.\", stacklevel=1)\n"
     ]
    }
   ],
   "source": [
    "catalogue()"
   ]
  },
  {
   "cell_type": "code",
   "execution_count": null,
   "metadata": {},
   "outputs": [],
   "source": [
    "reader = Reader(model=\"ICON\", exp=\"ngc2009\", source=\"atm_2d_ml_R02B09\")\n",
    "ICON_2009 = reader.retrieve()"
   ]
  },
  {
   "cell_type": "code",
   "execution_count": null,
   "metadata": {},
   "outputs": [],
   "source": [
    "ICON_2009"
   ]
  },
  {
   "cell_type": "code",
   "execution_count": 13,
   "metadata": {},
   "outputs": [],
   "source": [
    "import xarray as xr \n",
    "import matplotlib.pyplot as plt\n",
    "import numpy as np "
   ]
  },
  {
   "cell_type": "code",
   "execution_count": 14,
   "metadata": {},
   "outputs": [],
   "source": [
    "ICON_2009_small = ICON_2009['pr'][0:3,:]\n",
    "ICON_2009_small = ICON_2009_small.compute()"
   ]
  },
  {
   "cell_type": "code",
   "execution_count": 102,
   "metadata": {},
   "outputs": [
    {
     "data": {
      "text/plain": [
       "'30m'"
      ]
     },
     "execution_count": 102,
     "metadata": {},
     "output_type": "execute_result"
    }
   ],
   "source": [
    "diag.time_interpreter_b(ICON_2009)\n",
    "\n",
    "diag.time_interpreter_b(ICON_2009_small) "
   ]
  },
  {
   "attachments": {},
   "cell_type": "markdown",
   "metadata": {},
   "source": [
    "### Numpy.package (Numpy.digitize + Numpy.count_nonzero)"
   ]
  },
  {
   "cell_type": "code",
   "execution_count": 59,
   "metadata": {},
   "outputs": [
    {
     "name": "stdout",
     "output_type": "stream",
     "text": [
      "6.94 s ± 259 ms per loop (mean ± std. dev. of 2 runs, 1 loop each)\n"
     ]
    },
    {
     "data": {
      "text/plain": [
       "<TimeitResult : 6.94 s ± 259 ms per loop (mean ± std. dev. of 2 runs, 1 loop each)>"
      ]
     },
     "execution_count": 59,
     "metadata": {},
     "output_type": "execute_result"
    }
   ],
   "source": [
    "%timeit -r 2 -n 1 -o diag.hist_np_digitize(ICON_2009_small,  preprocess = False)"
   ]
  },
  {
   "cell_type": "code",
   "execution_count": 60,
   "metadata": {},
   "outputs": [],
   "source": [
    "result = _\n",
    "#vars(result)\n",
    "time_np_digitize, time_np_digitize_stdev =  result.average, result.stdev "
   ]
  },
  {
   "cell_type": "code",
   "execution_count": 103,
   "metadata": {},
   "outputs": [
    {
     "data": {
      "text/plain": [
       "(<xarray.DataArray (bin: 15)>\n",
       " array([62657269,   119221,    43543,    21621,    13658,     9689,\n",
       "            7086,     5303,     4263,     3534,     2761,     2251,\n",
       "            2086,     1822,     1621])\n",
       " Coordinates:\n",
       "   * bin      (bin) float64 0.0 0.0001333 0.0002667 ... 0.0016 0.001733 0.001867,\n",
       " 62914560,\n",
       " 6.729786157608032)"
      ]
     },
     "execution_count": 103,
     "metadata": {},
     "output_type": "execute_result"
    }
   ],
   "source": [
    "hist_digitize = diag.hist_np_digitize(ICON_2009_small,  preprocess = False)"
   ]
  },
  {
   "attachments": {},
   "cell_type": "markdown",
   "metadata": {},
   "source": [
    "### fast_histogram package (fast_histogram.histogram1d)"
   ]
  },
  {
   "cell_type": "code",
   "execution_count": 62,
   "metadata": {},
   "outputs": [
    {
     "name": "stdout",
     "output_type": "stream",
     "text": [
      "257 ms ± 2.8 ms per loop (mean ± std. dev. of 2 runs, 1 loop each)\n"
     ]
    },
    {
     "data": {
      "text/plain": [
       "<TimeitResult : 257 ms ± 2.8 ms per loop (mean ± std. dev. of 2 runs, 1 loop each)>"
      ]
     },
     "execution_count": 62,
     "metadata": {},
     "output_type": "execute_result"
    }
   ],
   "source": [
    "%timeit -r 2 -n 1 -o diag.hist1d_fast(ICON_2009_small,  preprocess = False)"
   ]
  },
  {
   "cell_type": "code",
   "execution_count": 63,
   "metadata": {},
   "outputs": [],
   "source": [
    "result = _\n",
    "time_fast, time_fast_stdev =  result.average, result.stdev "
   ]
  },
  {
   "cell_type": "code",
   "execution_count": 104,
   "metadata": {},
   "outputs": [],
   "source": [
    "hist_fast  = diag.hist1d_fast(ICON_2009_small,  preprocess = False)"
   ]
  },
  {
   "attachments": {},
   "cell_type": "markdown",
   "metadata": {},
   "source": [
    "### Numpy package (Numpy.histogram)"
   ]
  },
  {
   "cell_type": "code",
   "execution_count": 65,
   "metadata": {},
   "outputs": [
    {
     "name": "stdout",
     "output_type": "stream",
     "text": [
      "450 ms ± 40.6 ms per loop (mean ± std. dev. of 2 runs, 1 loop each)\n"
     ]
    },
    {
     "data": {
      "text/plain": [
       "<TimeitResult : 450 ms ± 40.6 ms per loop (mean ± std. dev. of 2 runs, 1 loop each)>"
      ]
     },
     "execution_count": 65,
     "metadata": {},
     "output_type": "execute_result"
    }
   ],
   "source": [
    "%timeit -r 2 -n 1 -o diag.hist1d_np(ICON_2009_small,  preprocess = False)"
   ]
  },
  {
   "cell_type": "code",
   "execution_count": 66,
   "metadata": {},
   "outputs": [],
   "source": [
    "result = _\n",
    "time_np, time_np_stdev =  result.average, result.stdev "
   ]
  },
  {
   "cell_type": "code",
   "execution_count": 105,
   "metadata": {},
   "outputs": [],
   "source": [
    "hist_np = diag.hist1d_np(ICON_2009_small,  preprocess = False)"
   ]
  },
  {
   "cell_type": "code",
   "execution_count": 67,
   "metadata": {},
   "outputs": [],
   "source": [
    "ICON_2009_small_prep = ICON_2009_small.stack(total=['time', 'cell'])"
   ]
  },
  {
   "attachments": {},
   "cell_type": "markdown",
   "metadata": {},
   "source": [
    "###  matplotlib.pyplot package (matplotlib.pyplot.hist)"
   ]
  },
  {
   "cell_type": "code",
   "execution_count": 69,
   "metadata": {},
   "outputs": [
    {
     "name": "stdout",
     "output_type": "stream",
     "text": [
      "1.85 s ± 82.2 ms per loop (mean ± std. dev. of 2 runs, 1 loop each)\n"
     ]
    },
    {
     "data": {
      "text/plain": [
       "<TimeitResult : 1.85 s ± 82.2 ms per loop (mean ± std. dev. of 2 runs, 1 loop each)>"
      ]
     },
     "execution_count": 69,
     "metadata": {},
     "output_type": "execute_result"
    }
   ],
   "source": [
    "%timeit -r 2 -n 1 -o diag.hist1d_pyplot(ICON_2009_small_prep,  preprocess = False)"
   ]
  },
  {
   "cell_type": "code",
   "execution_count": 70,
   "metadata": {},
   "outputs": [],
   "source": [
    "result = _\n",
    "time_pyplt, time_pyplt_stdev =  result.average, result.stdev "
   ]
  },
  {
   "cell_type": "code",
   "execution_count": 106,
   "metadata": {},
   "outputs": [],
   "source": [
    "hist_pyplt = diag.hist1d_pyplot(ICON_2009_small_prep,  preprocess = False)"
   ]
  },
  {
   "attachments": {},
   "cell_type": "markdown",
   "metadata": {},
   "source": [
    "## Dask packages"
   ]
  },
  {
   "cell_type": "code",
   "execution_count": 71,
   "metadata": {},
   "outputs": [],
   "source": [
    "import dask.array as da"
   ]
  },
  {
   "cell_type": "code",
   "execution_count": 72,
   "metadata": {},
   "outputs": [],
   "source": [
    "ICON_2009_small_prep_dask = da.from_array(ICON_2009_small_prep)"
   ]
  },
  {
   "attachments": {},
   "cell_type": "markdown",
   "metadata": {},
   "source": [
    "### dask_histogram.boost package (dask_histogram.boost.Histogram)"
   ]
  },
  {
   "cell_type": "code",
   "execution_count": 73,
   "metadata": {},
   "outputs": [
    {
     "name": "stdout",
     "output_type": "stream",
     "text": [
      "dask.array<to-dask-array, shape=(15,), dtype=float64, chunksize=(15,), chunktype=numpy.ndarray> [dask.array<array, shape=(16,), dtype=float64, chunksize=(16,), chunktype=numpy.ndarray>]\n",
      "dask.array<to-dask-array, shape=(15,), dtype=float64, chunksize=(15,), chunktype=numpy.ndarray> [dask.array<array, shape=(16,), dtype=float64, chunksize=(16,), chunktype=numpy.ndarray>]\n",
      "6.24 s ± 528 ms per loop (mean ± std. dev. of 2 runs, 1 loop each)\n"
     ]
    },
    {
     "data": {
      "text/plain": [
       "<TimeitResult : 6.24 s ± 528 ms per loop (mean ± std. dev. of 2 runs, 1 loop each)>"
      ]
     },
     "execution_count": 73,
     "metadata": {},
     "output_type": "execute_result"
    }
   ],
   "source": [
    "%timeit -r 2 -n 1 -o diag.dask_boost(ICON_2009_small_prep_dask,  preprocess = False)"
   ]
  },
  {
   "cell_type": "code",
   "execution_count": 74,
   "metadata": {},
   "outputs": [],
   "source": [
    "result = _\n",
    "time_boost, time_boost_stdev =  result.average, result.stdev "
   ]
  },
  {
   "cell_type": "code",
   "execution_count": 107,
   "metadata": {},
   "outputs": [
    {
     "name": "stdout",
     "output_type": "stream",
     "text": [
      "dask.array<to-dask-array, shape=(15,), dtype=float64, chunksize=(15,), chunktype=numpy.ndarray> [dask.array<array, shape=(16,), dtype=float64, chunksize=(16,), chunktype=numpy.ndarray>]\n"
     ]
    }
   ],
   "source": [
    "hist_boost = diag.dask_boost(ICON_2009_small_prep_dask,  preprocess = False)"
   ]
  },
  {
   "attachments": {},
   "cell_type": "markdown",
   "metadata": {},
   "source": [
    "### dask_histogram package  (dask_histogram.factory)"
   ]
  },
  {
   "cell_type": "code",
   "execution_count": 75,
   "metadata": {},
   "outputs": [
    {
     "name": "stdout",
     "output_type": "stream",
     "text": [
      "1.54 s ± 315 ms per loop (mean ± std. dev. of 2 runs, 1 loop each)\n"
     ]
    },
    {
     "data": {
      "text/plain": [
       "<TimeitResult : 1.54 s ± 315 ms per loop (mean ± std. dev. of 2 runs, 1 loop each)>"
      ]
     },
     "execution_count": 75,
     "metadata": {},
     "output_type": "execute_result"
    }
   ],
   "source": [
    "%timeit -r 2 -n 1 -o diag.dask_factory(ICON_2009_small_prep_dask,  preprocess = False)"
   ]
  },
  {
   "cell_type": "code",
   "execution_count": 76,
   "metadata": {},
   "outputs": [],
   "source": [
    "result = _\n",
    "time_factory, time_factory_stdev =  result.average, result.stdev "
   ]
  },
  {
   "cell_type": "code",
   "execution_count": 108,
   "metadata": {},
   "outputs": [],
   "source": [
    "hist_factory = diag.dask_factory(ICON_2009_small_prep_dask,  preprocess = False)"
   ]
  },
  {
   "cell_type": "code",
   "execution_count": null,
   "metadata": {},
   "outputs": [],
   "source": [
    "# Check the scaling "
   ]
  },
  {
   "attachments": {},
   "cell_type": "markdown",
   "metadata": {},
   "source": [
    "# lat + lon coordinates"
   ]
  },
  {
   "cell_type": "code",
   "execution_count": 77,
   "metadata": {},
   "outputs": [
    {
     "name": "stdout",
     "output_type": "stream",
     "text": [
      "No fixes defined for model  ICON\n"
     ]
    }
   ],
   "source": [
    "reader = Reader(model=\"ICON\", exp=\"ngc2009\", source=\"atm_2d_ml_R02B09\", regrid=\"r200\")\n",
    "\n",
    "ICON_2009_reg = reader.retrieve()"
   ]
  },
  {
   "cell_type": "code",
   "execution_count": 78,
   "metadata": {},
   "outputs": [],
   "source": [
    "ICON_2009_reg_small = ICON_2009_reg['pr'][0:3,:]\n",
    "ICON_2009_reg_small = ICON_2009_reg_small.compute()"
   ]
  },
  {
   "cell_type": "code",
   "execution_count": 79,
   "metadata": {},
   "outputs": [
    {
     "data": {
      "text/plain": [
       "'30m'"
      ]
     },
     "execution_count": 79,
     "metadata": {},
     "output_type": "execute_result"
    }
   ],
   "source": [
    "diag.time_interpreter_b(ICON_2009_reg_small) "
   ]
  },
  {
   "attachments": {},
   "cell_type": "markdown",
   "metadata": {},
   "source": [
    "### Numpy.package (Numpy.digitize + Numpy.count_nonzero)"
   ]
  },
  {
   "cell_type": "code",
   "execution_count": 80,
   "metadata": {},
   "outputs": [
    {
     "name": "stdout",
     "output_type": "stream",
     "text": [
      "6.56 s ± 180 ms per loop (mean ± std. dev. of 2 runs, 1 loop each)\n"
     ]
    },
    {
     "data": {
      "text/plain": [
       "<TimeitResult : 6.56 s ± 180 ms per loop (mean ± std. dev. of 2 runs, 1 loop each)>"
      ]
     },
     "execution_count": 80,
     "metadata": {},
     "output_type": "execute_result"
    }
   ],
   "source": [
    "%timeit -r 2 -n 1 -o diag.hist_np_digitize(ICON_2009_reg_small,  preprocess = False)"
   ]
  },
  {
   "cell_type": "code",
   "execution_count": 81,
   "metadata": {},
   "outputs": [],
   "source": [
    "result = _\n",
    "time_digitize_reg, time_digitize_reg_stdev =  result.average, result.stdev "
   ]
  },
  {
   "cell_type": "code",
   "execution_count": 109,
   "metadata": {},
   "outputs": [],
   "source": [
    "hist_digitize_reg = diag.hist_np_digitize(ICON_2009_reg_small,  preprocess = False)"
   ]
  },
  {
   "attachments": {},
   "cell_type": "markdown",
   "metadata": {},
   "source": [
    "### fast_histogram package (fast_histogram.histogram1d)"
   ]
  },
  {
   "cell_type": "code",
   "execution_count": 82,
   "metadata": {},
   "outputs": [
    {
     "name": "stdout",
     "output_type": "stream",
     "text": [
      "251 ms ± 484 µs per loop (mean ± std. dev. of 2 runs, 1 loop each)\n"
     ]
    },
    {
     "data": {
      "text/plain": [
       "<TimeitResult : 251 ms ± 484 µs per loop (mean ± std. dev. of 2 runs, 1 loop each)>"
      ]
     },
     "execution_count": 82,
     "metadata": {},
     "output_type": "execute_result"
    }
   ],
   "source": [
    "%timeit -r 2 -n 1 -o  diag.hist1d_fast(ICON_2009_reg_small,  preprocess = False)"
   ]
  },
  {
   "cell_type": "code",
   "execution_count": 83,
   "metadata": {},
   "outputs": [],
   "source": [
    "result = _\n",
    "time_fast_reg, time_fast_reg_stdev =  result.average, result.stdev "
   ]
  },
  {
   "cell_type": "code",
   "execution_count": 110,
   "metadata": {},
   "outputs": [],
   "source": [
    "hist_fast_reg = diag.hist1d_fast(ICON_2009_reg_small,  preprocess = False)"
   ]
  },
  {
   "attachments": {},
   "cell_type": "markdown",
   "metadata": {},
   "source": [
    "### Numpy package (Numpy.histogram)"
   ]
  },
  {
   "cell_type": "code",
   "execution_count": 87,
   "metadata": {},
   "outputs": [
    {
     "name": "stdout",
     "output_type": "stream",
     "text": [
      "430 ms ± 485 µs per loop (mean ± std. dev. of 2 runs, 1 loop each)\n"
     ]
    },
    {
     "data": {
      "text/plain": [
       "<TimeitResult : 430 ms ± 485 µs per loop (mean ± std. dev. of 2 runs, 1 loop each)>"
      ]
     },
     "execution_count": 87,
     "metadata": {},
     "output_type": "execute_result"
    }
   ],
   "source": [
    "%timeit -r 2 -n 1 -o  diag.hist1d_np(ICON_2009_reg_small,  preprocess = False)"
   ]
  },
  {
   "cell_type": "code",
   "execution_count": 88,
   "metadata": {},
   "outputs": [],
   "source": [
    "result = _\n",
    "time_np_reg, time_np_reg_stdev =  result.average, result.stdev "
   ]
  },
  {
   "cell_type": "code",
   "execution_count": 111,
   "metadata": {},
   "outputs": [],
   "source": [
    "hist_np_reg = diag.hist1d_np(ICON_2009_reg_small,  preprocess = False)"
   ]
  },
  {
   "cell_type": "code",
   "execution_count": 89,
   "metadata": {},
   "outputs": [],
   "source": [
    "ICON_2009_reg_small_prep = ICON_2009_reg_small.stack(total=['time', 'cell'])"
   ]
  },
  {
   "attachments": {},
   "cell_type": "markdown",
   "metadata": {},
   "source": [
    "###  matplotlib.pyplot package (matplotlib.pyplot.hist)"
   ]
  },
  {
   "cell_type": "code",
   "execution_count": 90,
   "metadata": {},
   "outputs": [
    {
     "name": "stdout",
     "output_type": "stream",
     "text": [
      "1.77 s ± 3.76 ms per loop (mean ± std. dev. of 2 runs, 1 loop each)\n"
     ]
    },
    {
     "data": {
      "text/plain": [
       "<TimeitResult : 1.77 s ± 3.76 ms per loop (mean ± std. dev. of 2 runs, 1 loop each)>"
      ]
     },
     "execution_count": 90,
     "metadata": {},
     "output_type": "execute_result"
    }
   ],
   "source": [
    "%timeit -r 2 -n 1 -o  diag.hist1d_pyplot(ICON_2009_reg_small_prep,  preprocess = False)"
   ]
  },
  {
   "cell_type": "code",
   "execution_count": 91,
   "metadata": {},
   "outputs": [],
   "source": [
    "result = _\n",
    "time_pyplt_reg, time_pyplt_reg_stdev =  result.average, result.stdev "
   ]
  },
  {
   "cell_type": "code",
   "execution_count": 112,
   "metadata": {},
   "outputs": [],
   "source": [
    "hist_pyplt_reg = diag.hist1d_pyplot(ICON_2009_reg_small_prep,  preprocess = False)"
   ]
  },
  {
   "cell_type": "code",
   "execution_count": 92,
   "metadata": {},
   "outputs": [],
   "source": [
    "ICON_2009_reg_small_prep_dask = da.from_array(ICON_2009_reg_small_prep)"
   ]
  },
  {
   "attachments": {},
   "cell_type": "markdown",
   "metadata": {},
   "source": [
    "### dask_histogram package  (dask_histogram.factory)"
   ]
  },
  {
   "cell_type": "code",
   "execution_count": 93,
   "metadata": {},
   "outputs": [
    {
     "name": "stdout",
     "output_type": "stream",
     "text": [
      "dask.array<to-dask-array, shape=(15,), dtype=float64, chunksize=(15,), chunktype=numpy.ndarray> [dask.array<array, shape=(16,), dtype=float64, chunksize=(16,), chunktype=numpy.ndarray>]\n",
      "dask.array<to-dask-array, shape=(15,), dtype=float64, chunksize=(15,), chunktype=numpy.ndarray> [dask.array<array, shape=(16,), dtype=float64, chunksize=(16,), chunktype=numpy.ndarray>]\n",
      "5.32 s ± 105 ms per loop (mean ± std. dev. of 2 runs, 1 loop each)\n"
     ]
    },
    {
     "data": {
      "text/plain": [
       "<TimeitResult : 5.32 s ± 105 ms per loop (mean ± std. dev. of 2 runs, 1 loop each)>"
      ]
     },
     "execution_count": 93,
     "metadata": {},
     "output_type": "execute_result"
    }
   ],
   "source": [
    "%timeit -r 2 -n 1 -o  diag.dask_boost(ICON_2009_reg_small_prep_dask,  preprocess = False)"
   ]
  },
  {
   "cell_type": "code",
   "execution_count": 94,
   "metadata": {},
   "outputs": [],
   "source": [
    "result = _\n",
    "time_boost_reg, time_boost_reg_stdev =  result.average, result.stdev "
   ]
  },
  {
   "cell_type": "code",
   "execution_count": 113,
   "metadata": {},
   "outputs": [
    {
     "name": "stdout",
     "output_type": "stream",
     "text": [
      "dask.array<to-dask-array, shape=(15,), dtype=float64, chunksize=(15,), chunktype=numpy.ndarray> [dask.array<array, shape=(16,), dtype=float64, chunksize=(16,), chunktype=numpy.ndarray>]\n"
     ]
    }
   ],
   "source": [
    "hist_boost_reg = diag.dask_boost(ICON_2009_reg_small_prep_dask,  preprocess = False)"
   ]
  },
  {
   "attachments": {},
   "cell_type": "markdown",
   "metadata": {},
   "source": [
    "### dask_histogram.boost package (dask_histogram.boost.Histogram)"
   ]
  },
  {
   "cell_type": "code",
   "execution_count": 95,
   "metadata": {},
   "outputs": [
    {
     "name": "stdout",
     "output_type": "stream",
     "text": [
      "1.21 s ± 3.8 ms per loop (mean ± std. dev. of 2 runs, 1 loop each)\n"
     ]
    },
    {
     "data": {
      "text/plain": [
       "<TimeitResult : 1.21 s ± 3.8 ms per loop (mean ± std. dev. of 2 runs, 1 loop each)>"
      ]
     },
     "execution_count": 95,
     "metadata": {},
     "output_type": "execute_result"
    }
   ],
   "source": [
    "%timeit -r 2 -n 1 -o  diag.dask_factory(ICON_2009_reg_small_prep_dask,  preprocess = False)"
   ]
  },
  {
   "cell_type": "code",
   "execution_count": 96,
   "metadata": {},
   "outputs": [],
   "source": [
    "result = _\n",
    "time_factory_reg, time_factory_reg_stdev =  result.average, result.stdev "
   ]
  },
  {
   "cell_type": "code",
   "execution_count": 114,
   "metadata": {},
   "outputs": [],
   "source": [
    "hist_factory_reg = diag.dask_factory(ICON_2009_reg_small_prep_dask,  preprocess = False)"
   ]
  },
  {
   "cell_type": "code",
   "execution_count": 99,
   "metadata": {},
   "outputs": [],
   "source": [
    "time_set1 = [ time_boost_reg, time_factory_reg, time_fast_reg,  time_np_reg, time_pyplt_reg,  time_digitize_reg]\n",
    "\n",
    "time_set2 = [ time_boost, time_factory, time_fast,  time_np, time_pyplt,  time_np_digitize ]\n",
    "\n",
    "fig = plt.figure(figsize=(12,6))\n",
    "\n",
    "barWidth = 0.2\n",
    "br1 = np.arange(len(time_set1))\n",
    "br2 = [x + barWidth for x in br1]\n",
    "\n",
    "plt.bar(br1, time_set1, color ='red',  width = barWidth,\n",
    "        edgecolor ='grey', label = \"ICON, regrided\") #'aqua, 3.10.9')\n",
    "\n",
    "plt.bar(br2, time_set2, color ='green',  width = barWidth,\n",
    "        edgecolor ='grey', label = \"ICON\") #'aqua, 3.10.9')\n",
    "#plt.bar(br1, time_set1_3_9_16, color ='red', alpha =0.6, width = barWidth, bottom = time_set1_3_8_16,\n",
    "#        edgecolor ='grey', label ='CMIP, 3.9.16')\n",
    " \n",
    "# Adding Xticks\n",
    "plt.xlabel('Methods', fontweight ='bold', fontsize = 15)\n",
    "plt.ylabel('Calculation time per element', fontweight ='bold', fontsize = 15)\n",
    "plt.xticks([r + barWidth for r in range(len(time_set1))],\n",
    "        ['boost', 'factory', 'fast', 'np', 'pyplt', 'digitize'], fontsize=14)  #, 'left'\n",
    "plt.xticks(fontsize=14)         \n",
    "\n",
    "\n",
    "\n",
    "plt.legend(fontsize=14)\n",
    "\n",
    "\n",
    "plt.savefig(\"./figures/Calc_time_timeit.png\",\n",
    "            bbox_inches =\"tight\",\n",
    "            pad_inches = 1,\n",
    "            transparent = True,\n",
    "            facecolor =\"w\",\n",
    "            edgecolor ='w',\n",
    "            orientation ='landscape')\n"
   ]
  },
  {
   "cell_type": "code",
   "execution_count": 168,
   "metadata": {},
   "outputs": [],
   "source": [
    "def check_equality():\n",
    "    result = _\n",
    "    if np.count_nonzero(result == True) == result.size:\n",
    "        return 0\n",
    "    else:\n",
    "        return 1"
   ]
  },
  {
   "cell_type": "code",
   "execution_count": null,
   "metadata": {},
   "outputs": [],
   "source": [
    "hist_digitize_reg == hist_digitize"
   ]
  },
  {
   "cell_type": "code",
   "execution_count": null,
   "metadata": {},
   "outputs": [],
   "source": [
    "check_equality()"
   ]
  },
  {
   "cell_type": "code",
   "execution_count": 177,
   "metadata": {},
   "outputs": [
    {
     "data": {
      "text/html": [
       "<div><svg style=\"position: absolute; width: 0; height: 0; overflow: hidden\">\n",
       "<defs>\n",
       "<symbol id=\"icon-database\" viewBox=\"0 0 32 32\">\n",
       "<path d=\"M16 0c-8.837 0-16 2.239-16 5v4c0 2.761 7.163 5 16 5s16-2.239 16-5v-4c0-2.761-7.163-5-16-5z\"></path>\n",
       "<path d=\"M16 17c-8.837 0-16-2.239-16-5v6c0 2.761 7.163 5 16 5s16-2.239 16-5v-6c0 2.761-7.163 5-16 5z\"></path>\n",
       "<path d=\"M16 26c-8.837 0-16-2.239-16-5v6c0 2.761 7.163 5 16 5s16-2.239 16-5v-6c0 2.761-7.163 5-16 5z\"></path>\n",
       "</symbol>\n",
       "<symbol id=\"icon-file-text2\" viewBox=\"0 0 32 32\">\n",
       "<path d=\"M28.681 7.159c-0.694-0.947-1.662-2.053-2.724-3.116s-2.169-2.030-3.116-2.724c-1.612-1.182-2.393-1.319-2.841-1.319h-15.5c-1.378 0-2.5 1.121-2.5 2.5v27c0 1.378 1.122 2.5 2.5 2.5h23c1.378 0 2.5-1.122 2.5-2.5v-19.5c0-0.448-0.137-1.23-1.319-2.841zM24.543 5.457c0.959 0.959 1.712 1.825 2.268 2.543h-4.811v-4.811c0.718 0.556 1.584 1.309 2.543 2.268zM28 29.5c0 0.271-0.229 0.5-0.5 0.5h-23c-0.271 0-0.5-0.229-0.5-0.5v-27c0-0.271 0.229-0.5 0.5-0.5 0 0 15.499-0 15.5 0v7c0 0.552 0.448 1 1 1h7v19.5z\"></path>\n",
       "<path d=\"M23 26h-14c-0.552 0-1-0.448-1-1s0.448-1 1-1h14c0.552 0 1 0.448 1 1s-0.448 1-1 1z\"></path>\n",
       "<path d=\"M23 22h-14c-0.552 0-1-0.448-1-1s0.448-1 1-1h14c0.552 0 1 0.448 1 1s-0.448 1-1 1z\"></path>\n",
       "<path d=\"M23 18h-14c-0.552 0-1-0.448-1-1s0.448-1 1-1h14c0.552 0 1 0.448 1 1s-0.448 1-1 1z\"></path>\n",
       "</symbol>\n",
       "</defs>\n",
       "</svg>\n",
       "<style>/* CSS stylesheet for displaying xarray objects in jupyterlab.\n",
       " *\n",
       " */\n",
       "\n",
       ":root {\n",
       "  --xr-font-color0: var(--jp-content-font-color0, rgba(0, 0, 0, 1));\n",
       "  --xr-font-color2: var(--jp-content-font-color2, rgba(0, 0, 0, 0.54));\n",
       "  --xr-font-color3: var(--jp-content-font-color3, rgba(0, 0, 0, 0.38));\n",
       "  --xr-border-color: var(--jp-border-color2, #e0e0e0);\n",
       "  --xr-disabled-color: var(--jp-layout-color3, #bdbdbd);\n",
       "  --xr-background-color: var(--jp-layout-color0, white);\n",
       "  --xr-background-color-row-even: var(--jp-layout-color1, white);\n",
       "  --xr-background-color-row-odd: var(--jp-layout-color2, #eeeeee);\n",
       "}\n",
       "\n",
       "html[theme=dark],\n",
       "body[data-theme=dark],\n",
       "body.vscode-dark {\n",
       "  --xr-font-color0: rgba(255, 255, 255, 1);\n",
       "  --xr-font-color2: rgba(255, 255, 255, 0.54);\n",
       "  --xr-font-color3: rgba(255, 255, 255, 0.38);\n",
       "  --xr-border-color: #1F1F1F;\n",
       "  --xr-disabled-color: #515151;\n",
       "  --xr-background-color: #111111;\n",
       "  --xr-background-color-row-even: #111111;\n",
       "  --xr-background-color-row-odd: #313131;\n",
       "}\n",
       "\n",
       ".xr-wrap {\n",
       "  display: block !important;\n",
       "  min-width: 300px;\n",
       "  max-width: 700px;\n",
       "}\n",
       "\n",
       ".xr-text-repr-fallback {\n",
       "  /* fallback to plain text repr when CSS is not injected (untrusted notebook) */\n",
       "  display: none;\n",
       "}\n",
       "\n",
       ".xr-header {\n",
       "  padding-top: 6px;\n",
       "  padding-bottom: 6px;\n",
       "  margin-bottom: 4px;\n",
       "  border-bottom: solid 1px var(--xr-border-color);\n",
       "}\n",
       "\n",
       ".xr-header > div,\n",
       ".xr-header > ul {\n",
       "  display: inline;\n",
       "  margin-top: 0;\n",
       "  margin-bottom: 0;\n",
       "}\n",
       "\n",
       ".xr-obj-type,\n",
       ".xr-array-name {\n",
       "  margin-left: 2px;\n",
       "  margin-right: 10px;\n",
       "}\n",
       "\n",
       ".xr-obj-type {\n",
       "  color: var(--xr-font-color2);\n",
       "}\n",
       "\n",
       ".xr-sections {\n",
       "  padding-left: 0 !important;\n",
       "  display: grid;\n",
       "  grid-template-columns: 150px auto auto 1fr 20px 20px;\n",
       "}\n",
       "\n",
       ".xr-section-item {\n",
       "  display: contents;\n",
       "}\n",
       "\n",
       ".xr-section-item input {\n",
       "  display: none;\n",
       "}\n",
       "\n",
       ".xr-section-item input + label {\n",
       "  color: var(--xr-disabled-color);\n",
       "}\n",
       "\n",
       ".xr-section-item input:enabled + label {\n",
       "  cursor: pointer;\n",
       "  color: var(--xr-font-color2);\n",
       "}\n",
       "\n",
       ".xr-section-item input:enabled + label:hover {\n",
       "  color: var(--xr-font-color0);\n",
       "}\n",
       "\n",
       ".xr-section-summary {\n",
       "  grid-column: 1;\n",
       "  color: var(--xr-font-color2);\n",
       "  font-weight: 500;\n",
       "}\n",
       "\n",
       ".xr-section-summary > span {\n",
       "  display: inline-block;\n",
       "  padding-left: 0.5em;\n",
       "}\n",
       "\n",
       ".xr-section-summary-in:disabled + label {\n",
       "  color: var(--xr-font-color2);\n",
       "}\n",
       "\n",
       ".xr-section-summary-in + label:before {\n",
       "  display: inline-block;\n",
       "  content: '►';\n",
       "  font-size: 11px;\n",
       "  width: 15px;\n",
       "  text-align: center;\n",
       "}\n",
       "\n",
       ".xr-section-summary-in:disabled + label:before {\n",
       "  color: var(--xr-disabled-color);\n",
       "}\n",
       "\n",
       ".xr-section-summary-in:checked + label:before {\n",
       "  content: '▼';\n",
       "}\n",
       "\n",
       ".xr-section-summary-in:checked + label > span {\n",
       "  display: none;\n",
       "}\n",
       "\n",
       ".xr-section-summary,\n",
       ".xr-section-inline-details {\n",
       "  padding-top: 4px;\n",
       "  padding-bottom: 4px;\n",
       "}\n",
       "\n",
       ".xr-section-inline-details {\n",
       "  grid-column: 2 / -1;\n",
       "}\n",
       "\n",
       ".xr-section-details {\n",
       "  display: none;\n",
       "  grid-column: 1 / -1;\n",
       "  margin-bottom: 5px;\n",
       "}\n",
       "\n",
       ".xr-section-summary-in:checked ~ .xr-section-details {\n",
       "  display: contents;\n",
       "}\n",
       "\n",
       ".xr-array-wrap {\n",
       "  grid-column: 1 / -1;\n",
       "  display: grid;\n",
       "  grid-template-columns: 20px auto;\n",
       "}\n",
       "\n",
       ".xr-array-wrap > label {\n",
       "  grid-column: 1;\n",
       "  vertical-align: top;\n",
       "}\n",
       "\n",
       ".xr-preview {\n",
       "  color: var(--xr-font-color3);\n",
       "}\n",
       "\n",
       ".xr-array-preview,\n",
       ".xr-array-data {\n",
       "  padding: 0 5px !important;\n",
       "  grid-column: 2;\n",
       "}\n",
       "\n",
       ".xr-array-data,\n",
       ".xr-array-in:checked ~ .xr-array-preview {\n",
       "  display: none;\n",
       "}\n",
       "\n",
       ".xr-array-in:checked ~ .xr-array-data,\n",
       ".xr-array-preview {\n",
       "  display: inline-block;\n",
       "}\n",
       "\n",
       ".xr-dim-list {\n",
       "  display: inline-block !important;\n",
       "  list-style: none;\n",
       "  padding: 0 !important;\n",
       "  margin: 0;\n",
       "}\n",
       "\n",
       ".xr-dim-list li {\n",
       "  display: inline-block;\n",
       "  padding: 0;\n",
       "  margin: 0;\n",
       "}\n",
       "\n",
       ".xr-dim-list:before {\n",
       "  content: '(';\n",
       "}\n",
       "\n",
       ".xr-dim-list:after {\n",
       "  content: ')';\n",
       "}\n",
       "\n",
       ".xr-dim-list li:not(:last-child):after {\n",
       "  content: ',';\n",
       "  padding-right: 5px;\n",
       "}\n",
       "\n",
       ".xr-has-index {\n",
       "  font-weight: bold;\n",
       "}\n",
       "\n",
       ".xr-var-list,\n",
       ".xr-var-item {\n",
       "  display: contents;\n",
       "}\n",
       "\n",
       ".xr-var-item > div,\n",
       ".xr-var-item label,\n",
       ".xr-var-item > .xr-var-name span {\n",
       "  background-color: var(--xr-background-color-row-even);\n",
       "  margin-bottom: 0;\n",
       "}\n",
       "\n",
       ".xr-var-item > .xr-var-name:hover span {\n",
       "  padding-right: 5px;\n",
       "}\n",
       "\n",
       ".xr-var-list > li:nth-child(odd) > div,\n",
       ".xr-var-list > li:nth-child(odd) > label,\n",
       ".xr-var-list > li:nth-child(odd) > .xr-var-name span {\n",
       "  background-color: var(--xr-background-color-row-odd);\n",
       "}\n",
       "\n",
       ".xr-var-name {\n",
       "  grid-column: 1;\n",
       "}\n",
       "\n",
       ".xr-var-dims {\n",
       "  grid-column: 2;\n",
       "}\n",
       "\n",
       ".xr-var-dtype {\n",
       "  grid-column: 3;\n",
       "  text-align: right;\n",
       "  color: var(--xr-font-color2);\n",
       "}\n",
       "\n",
       ".xr-var-preview {\n",
       "  grid-column: 4;\n",
       "}\n",
       "\n",
       ".xr-index-preview {\n",
       "  grid-column: 2 / 5;\n",
       "  color: var(--xr-font-color2);\n",
       "}\n",
       "\n",
       ".xr-var-name,\n",
       ".xr-var-dims,\n",
       ".xr-var-dtype,\n",
       ".xr-preview,\n",
       ".xr-attrs dt {\n",
       "  white-space: nowrap;\n",
       "  overflow: hidden;\n",
       "  text-overflow: ellipsis;\n",
       "  padding-right: 10px;\n",
       "}\n",
       "\n",
       ".xr-var-name:hover,\n",
       ".xr-var-dims:hover,\n",
       ".xr-var-dtype:hover,\n",
       ".xr-attrs dt:hover {\n",
       "  overflow: visible;\n",
       "  width: auto;\n",
       "  z-index: 1;\n",
       "}\n",
       "\n",
       ".xr-var-attrs,\n",
       ".xr-var-data,\n",
       ".xr-index-data {\n",
       "  display: none;\n",
       "  background-color: var(--xr-background-color) !important;\n",
       "  padding-bottom: 5px !important;\n",
       "}\n",
       "\n",
       ".xr-var-attrs-in:checked ~ .xr-var-attrs,\n",
       ".xr-var-data-in:checked ~ .xr-var-data,\n",
       ".xr-index-data-in:checked ~ .xr-index-data {\n",
       "  display: block;\n",
       "}\n",
       "\n",
       ".xr-var-data > table {\n",
       "  float: right;\n",
       "}\n",
       "\n",
       ".xr-var-name span,\n",
       ".xr-var-data,\n",
       ".xr-index-name div,\n",
       ".xr-index-data,\n",
       ".xr-attrs {\n",
       "  padding-left: 25px !important;\n",
       "}\n",
       "\n",
       ".xr-attrs,\n",
       ".xr-var-attrs,\n",
       ".xr-var-data,\n",
       ".xr-index-data {\n",
       "  grid-column: 1 / -1;\n",
       "}\n",
       "\n",
       "dl.xr-attrs {\n",
       "  padding: 0;\n",
       "  margin: 0;\n",
       "  display: grid;\n",
       "  grid-template-columns: 125px auto;\n",
       "}\n",
       "\n",
       ".xr-attrs dt,\n",
       ".xr-attrs dd {\n",
       "  padding: 0;\n",
       "  margin: 0;\n",
       "  float: left;\n",
       "  padding-right: 10px;\n",
       "  width: auto;\n",
       "}\n",
       "\n",
       ".xr-attrs dt {\n",
       "  font-weight: normal;\n",
       "  grid-column: 1;\n",
       "}\n",
       "\n",
       ".xr-attrs dt:hover span {\n",
       "  display: inline-block;\n",
       "  background: var(--xr-background-color);\n",
       "  padding-right: 10px;\n",
       "}\n",
       "\n",
       ".xr-attrs dd {\n",
       "  grid-column: 2;\n",
       "  white-space: pre-wrap;\n",
       "  word-break: break-all;\n",
       "}\n",
       "\n",
       ".xr-icon-database,\n",
       ".xr-icon-file-text2,\n",
       ".xr-no-icon {\n",
       "  display: inline-block;\n",
       "  vertical-align: middle;\n",
       "  width: 1em;\n",
       "  height: 1.5em !important;\n",
       "  stroke-width: 0;\n",
       "  stroke: currentColor;\n",
       "  fill: currentColor;\n",
       "}\n",
       "</style><pre class='xr-text-repr-fallback'>&lt;xarray.DataArray (bin: 15)&gt;\n",
       "array([ True,  True,  True,  True,  True,  True,  True,  True,  True,\n",
       "        True,  True,  True,  True,  True,  True])\n",
       "Coordinates:\n",
       "  * bin      (bin) float64 0.0 0.0001333 0.0002667 ... 0.0016 0.001733 0.001867</pre><div class='xr-wrap' style='display:none'><div class='xr-header'><div class='xr-obj-type'>xarray.DataArray</div><div class='xr-array-name'></div><ul class='xr-dim-list'><li><span class='xr-has-index'>bin</span>: 15</li></ul></div><ul class='xr-sections'><li class='xr-section-item'><div class='xr-array-wrap'><input id='section-47e17b1c-220c-4bc6-89bc-005b02f06391' class='xr-array-in' type='checkbox' checked><label for='section-47e17b1c-220c-4bc6-89bc-005b02f06391' title='Show/hide data repr'><svg class='icon xr-icon-database'><use xlink:href='#icon-database'></use></svg></label><div class='xr-array-preview xr-preview'><span>True True True True True True True ... True True True True True True</span></div><div class='xr-array-data'><pre>array([ True,  True,  True,  True,  True,  True,  True,  True,  True,\n",
       "        True,  True,  True,  True,  True,  True])</pre></div></div></li><li class='xr-section-item'><input id='section-c0e281e2-779f-4ae8-a7cc-dee4e7f7d991' class='xr-section-summary-in' type='checkbox'  checked><label for='section-c0e281e2-779f-4ae8-a7cc-dee4e7f7d991' class='xr-section-summary' >Coordinates: <span>(1)</span></label><div class='xr-section-inline-details'></div><div class='xr-section-details'><ul class='xr-var-list'><li class='xr-var-item'><div class='xr-var-name'><span class='xr-has-index'>bin</span></div><div class='xr-var-dims'>(bin)</div><div class='xr-var-dtype'>float64</div><div class='xr-var-preview xr-preview'>0.0 0.0001333 ... 0.001733 0.001867</div><input id='attrs-02cd2f6d-31a7-4c38-b721-81b925cd8dac' class='xr-var-attrs-in' type='checkbox' disabled><label for='attrs-02cd2f6d-31a7-4c38-b721-81b925cd8dac' title='Show/Hide attributes'><svg class='icon xr-icon-file-text2'><use xlink:href='#icon-file-text2'></use></svg></label><input id='data-2a5c7f7f-2bf9-470e-90c4-ed69d46b1bd6' class='xr-var-data-in' type='checkbox'><label for='data-2a5c7f7f-2bf9-470e-90c4-ed69d46b1bd6' title='Show/Hide data repr'><svg class='icon xr-icon-database'><use xlink:href='#icon-database'></use></svg></label><div class='xr-var-attrs'><dl class='xr-attrs'></dl></div><div class='xr-var-data'><pre>array([0.      , 0.000133, 0.000267, 0.0004  , 0.000533, 0.000667, 0.0008  ,\n",
       "       0.000933, 0.001067, 0.0012  , 0.001333, 0.001467, 0.0016  , 0.001733,\n",
       "       0.001867])</pre></div></li></ul></div></li><li class='xr-section-item'><input id='section-6a92cb1a-586e-4080-bb54-effd0b9e0b7c' class='xr-section-summary-in' type='checkbox'  ><label for='section-6a92cb1a-586e-4080-bb54-effd0b9e0b7c' class='xr-section-summary' >Indexes: <span>(1)</span></label><div class='xr-section-inline-details'></div><div class='xr-section-details'><ul class='xr-var-list'><li class='xr-var-item'><div class='xr-index-name'><div>bin</div></div><div class='xr-index-preview'>PandasIndex</div><div></div><input id='index-0b7c4afe-4373-4380-a9c0-203da6902322' class='xr-index-data-in' type='checkbox'/><label for='index-0b7c4afe-4373-4380-a9c0-203da6902322' title='Show/Hide index repr'><svg class='icon xr-icon-database'><use xlink:href='#icon-database'></use></svg></label><div class='xr-index-data'><pre>PandasIndex(Float64Index([                   0.0, 0.00013333333333333334,\n",
       "               0.0002666666666666667,                 0.0004,\n",
       "               0.0005333333333333334,  0.0006666666666666668,\n",
       "                              0.0008,  0.0009333333333333333,\n",
       "               0.0010666666666666667,  0.0012000000000000001,\n",
       "               0.0013333333333333335,  0.0014666666666666667,\n",
       "                              0.0016,  0.0017333333333333335,\n",
       "               0.0018666666666666666],\n",
       "             dtype=&#x27;float64&#x27;, name=&#x27;bin&#x27;))</pre></div></li></ul></div></li><li class='xr-section-item'><input id='section-71726181-0308-432f-a7a9-4ef903fb5983' class='xr-section-summary-in' type='checkbox' disabled ><label for='section-71726181-0308-432f-a7a9-4ef903fb5983' class='xr-section-summary'  title='Expand/collapse section'>Attributes: <span>(0)</span></label><div class='xr-section-inline-details'></div><div class='xr-section-details'><dl class='xr-attrs'></dl></div></li></ul></div></div>"
      ],
      "text/plain": [
       "<xarray.DataArray (bin: 15)>\n",
       "array([ True,  True,  True,  True,  True,  True,  True,  True,  True,\n",
       "        True,  True,  True,  True,  True,  True])\n",
       "Coordinates:\n",
       "  * bin      (bin) float64 0.0 0.0001333 0.0002667 ... 0.0016 0.001733 0.001867"
      ]
     },
     "execution_count": 177,
     "metadata": {},
     "output_type": "execute_result"
    }
   ],
   "source": [
    "hist_fast_reg == hist_fast\n"
   ]
  },
  {
   "cell_type": "code",
   "execution_count": 178,
   "metadata": {},
   "outputs": [
    {
     "data": {
      "text/plain": [
       "0"
      ]
     },
     "execution_count": 178,
     "metadata": {},
     "output_type": "execute_result"
    }
   ],
   "source": [
    "check_equality()"
   ]
  },
  {
   "cell_type": "code",
   "execution_count": 172,
   "metadata": {},
   "outputs": [
    {
     "data": {
      "text/html": [
       "<div><svg style=\"position: absolute; width: 0; height: 0; overflow: hidden\">\n",
       "<defs>\n",
       "<symbol id=\"icon-database\" viewBox=\"0 0 32 32\">\n",
       "<path d=\"M16 0c-8.837 0-16 2.239-16 5v4c0 2.761 7.163 5 16 5s16-2.239 16-5v-4c0-2.761-7.163-5-16-5z\"></path>\n",
       "<path d=\"M16 17c-8.837 0-16-2.239-16-5v6c0 2.761 7.163 5 16 5s16-2.239 16-5v-6c0 2.761-7.163 5-16 5z\"></path>\n",
       "<path d=\"M16 26c-8.837 0-16-2.239-16-5v6c0 2.761 7.163 5 16 5s16-2.239 16-5v-6c0 2.761-7.163 5-16 5z\"></path>\n",
       "</symbol>\n",
       "<symbol id=\"icon-file-text2\" viewBox=\"0 0 32 32\">\n",
       "<path d=\"M28.681 7.159c-0.694-0.947-1.662-2.053-2.724-3.116s-2.169-2.030-3.116-2.724c-1.612-1.182-2.393-1.319-2.841-1.319h-15.5c-1.378 0-2.5 1.121-2.5 2.5v27c0 1.378 1.122 2.5 2.5 2.5h23c1.378 0 2.5-1.122 2.5-2.5v-19.5c0-0.448-0.137-1.23-1.319-2.841zM24.543 5.457c0.959 0.959 1.712 1.825 2.268 2.543h-4.811v-4.811c0.718 0.556 1.584 1.309 2.543 2.268zM28 29.5c0 0.271-0.229 0.5-0.5 0.5h-23c-0.271 0-0.5-0.229-0.5-0.5v-27c0-0.271 0.229-0.5 0.5-0.5 0 0 15.499-0 15.5 0v7c0 0.552 0.448 1 1 1h7v19.5z\"></path>\n",
       "<path d=\"M23 26h-14c-0.552 0-1-0.448-1-1s0.448-1 1-1h14c0.552 0 1 0.448 1 1s-0.448 1-1 1z\"></path>\n",
       "<path d=\"M23 22h-14c-0.552 0-1-0.448-1-1s0.448-1 1-1h14c0.552 0 1 0.448 1 1s-0.448 1-1 1z\"></path>\n",
       "<path d=\"M23 18h-14c-0.552 0-1-0.448-1-1s0.448-1 1-1h14c0.552 0 1 0.448 1 1s-0.448 1-1 1z\"></path>\n",
       "</symbol>\n",
       "</defs>\n",
       "</svg>\n",
       "<style>/* CSS stylesheet for displaying xarray objects in jupyterlab.\n",
       " *\n",
       " */\n",
       "\n",
       ":root {\n",
       "  --xr-font-color0: var(--jp-content-font-color0, rgba(0, 0, 0, 1));\n",
       "  --xr-font-color2: var(--jp-content-font-color2, rgba(0, 0, 0, 0.54));\n",
       "  --xr-font-color3: var(--jp-content-font-color3, rgba(0, 0, 0, 0.38));\n",
       "  --xr-border-color: var(--jp-border-color2, #e0e0e0);\n",
       "  --xr-disabled-color: var(--jp-layout-color3, #bdbdbd);\n",
       "  --xr-background-color: var(--jp-layout-color0, white);\n",
       "  --xr-background-color-row-even: var(--jp-layout-color1, white);\n",
       "  --xr-background-color-row-odd: var(--jp-layout-color2, #eeeeee);\n",
       "}\n",
       "\n",
       "html[theme=dark],\n",
       "body[data-theme=dark],\n",
       "body.vscode-dark {\n",
       "  --xr-font-color0: rgba(255, 255, 255, 1);\n",
       "  --xr-font-color2: rgba(255, 255, 255, 0.54);\n",
       "  --xr-font-color3: rgba(255, 255, 255, 0.38);\n",
       "  --xr-border-color: #1F1F1F;\n",
       "  --xr-disabled-color: #515151;\n",
       "  --xr-background-color: #111111;\n",
       "  --xr-background-color-row-even: #111111;\n",
       "  --xr-background-color-row-odd: #313131;\n",
       "}\n",
       "\n",
       ".xr-wrap {\n",
       "  display: block !important;\n",
       "  min-width: 300px;\n",
       "  max-width: 700px;\n",
       "}\n",
       "\n",
       ".xr-text-repr-fallback {\n",
       "  /* fallback to plain text repr when CSS is not injected (untrusted notebook) */\n",
       "  display: none;\n",
       "}\n",
       "\n",
       ".xr-header {\n",
       "  padding-top: 6px;\n",
       "  padding-bottom: 6px;\n",
       "  margin-bottom: 4px;\n",
       "  border-bottom: solid 1px var(--xr-border-color);\n",
       "}\n",
       "\n",
       ".xr-header > div,\n",
       ".xr-header > ul {\n",
       "  display: inline;\n",
       "  margin-top: 0;\n",
       "  margin-bottom: 0;\n",
       "}\n",
       "\n",
       ".xr-obj-type,\n",
       ".xr-array-name {\n",
       "  margin-left: 2px;\n",
       "  margin-right: 10px;\n",
       "}\n",
       "\n",
       ".xr-obj-type {\n",
       "  color: var(--xr-font-color2);\n",
       "}\n",
       "\n",
       ".xr-sections {\n",
       "  padding-left: 0 !important;\n",
       "  display: grid;\n",
       "  grid-template-columns: 150px auto auto 1fr 20px 20px;\n",
       "}\n",
       "\n",
       ".xr-section-item {\n",
       "  display: contents;\n",
       "}\n",
       "\n",
       ".xr-section-item input {\n",
       "  display: none;\n",
       "}\n",
       "\n",
       ".xr-section-item input + label {\n",
       "  color: var(--xr-disabled-color);\n",
       "}\n",
       "\n",
       ".xr-section-item input:enabled + label {\n",
       "  cursor: pointer;\n",
       "  color: var(--xr-font-color2);\n",
       "}\n",
       "\n",
       ".xr-section-item input:enabled + label:hover {\n",
       "  color: var(--xr-font-color0);\n",
       "}\n",
       "\n",
       ".xr-section-summary {\n",
       "  grid-column: 1;\n",
       "  color: var(--xr-font-color2);\n",
       "  font-weight: 500;\n",
       "}\n",
       "\n",
       ".xr-section-summary > span {\n",
       "  display: inline-block;\n",
       "  padding-left: 0.5em;\n",
       "}\n",
       "\n",
       ".xr-section-summary-in:disabled + label {\n",
       "  color: var(--xr-font-color2);\n",
       "}\n",
       "\n",
       ".xr-section-summary-in + label:before {\n",
       "  display: inline-block;\n",
       "  content: '►';\n",
       "  font-size: 11px;\n",
       "  width: 15px;\n",
       "  text-align: center;\n",
       "}\n",
       "\n",
       ".xr-section-summary-in:disabled + label:before {\n",
       "  color: var(--xr-disabled-color);\n",
       "}\n",
       "\n",
       ".xr-section-summary-in:checked + label:before {\n",
       "  content: '▼';\n",
       "}\n",
       "\n",
       ".xr-section-summary-in:checked + label > span {\n",
       "  display: none;\n",
       "}\n",
       "\n",
       ".xr-section-summary,\n",
       ".xr-section-inline-details {\n",
       "  padding-top: 4px;\n",
       "  padding-bottom: 4px;\n",
       "}\n",
       "\n",
       ".xr-section-inline-details {\n",
       "  grid-column: 2 / -1;\n",
       "}\n",
       "\n",
       ".xr-section-details {\n",
       "  display: none;\n",
       "  grid-column: 1 / -1;\n",
       "  margin-bottom: 5px;\n",
       "}\n",
       "\n",
       ".xr-section-summary-in:checked ~ .xr-section-details {\n",
       "  display: contents;\n",
       "}\n",
       "\n",
       ".xr-array-wrap {\n",
       "  grid-column: 1 / -1;\n",
       "  display: grid;\n",
       "  grid-template-columns: 20px auto;\n",
       "}\n",
       "\n",
       ".xr-array-wrap > label {\n",
       "  grid-column: 1;\n",
       "  vertical-align: top;\n",
       "}\n",
       "\n",
       ".xr-preview {\n",
       "  color: var(--xr-font-color3);\n",
       "}\n",
       "\n",
       ".xr-array-preview,\n",
       ".xr-array-data {\n",
       "  padding: 0 5px !important;\n",
       "  grid-column: 2;\n",
       "}\n",
       "\n",
       ".xr-array-data,\n",
       ".xr-array-in:checked ~ .xr-array-preview {\n",
       "  display: none;\n",
       "}\n",
       "\n",
       ".xr-array-in:checked ~ .xr-array-data,\n",
       ".xr-array-preview {\n",
       "  display: inline-block;\n",
       "}\n",
       "\n",
       ".xr-dim-list {\n",
       "  display: inline-block !important;\n",
       "  list-style: none;\n",
       "  padding: 0 !important;\n",
       "  margin: 0;\n",
       "}\n",
       "\n",
       ".xr-dim-list li {\n",
       "  display: inline-block;\n",
       "  padding: 0;\n",
       "  margin: 0;\n",
       "}\n",
       "\n",
       ".xr-dim-list:before {\n",
       "  content: '(';\n",
       "}\n",
       "\n",
       ".xr-dim-list:after {\n",
       "  content: ')';\n",
       "}\n",
       "\n",
       ".xr-dim-list li:not(:last-child):after {\n",
       "  content: ',';\n",
       "  padding-right: 5px;\n",
       "}\n",
       "\n",
       ".xr-has-index {\n",
       "  font-weight: bold;\n",
       "}\n",
       "\n",
       ".xr-var-list,\n",
       ".xr-var-item {\n",
       "  display: contents;\n",
       "}\n",
       "\n",
       ".xr-var-item > div,\n",
       ".xr-var-item label,\n",
       ".xr-var-item > .xr-var-name span {\n",
       "  background-color: var(--xr-background-color-row-even);\n",
       "  margin-bottom: 0;\n",
       "}\n",
       "\n",
       ".xr-var-item > .xr-var-name:hover span {\n",
       "  padding-right: 5px;\n",
       "}\n",
       "\n",
       ".xr-var-list > li:nth-child(odd) > div,\n",
       ".xr-var-list > li:nth-child(odd) > label,\n",
       ".xr-var-list > li:nth-child(odd) > .xr-var-name span {\n",
       "  background-color: var(--xr-background-color-row-odd);\n",
       "}\n",
       "\n",
       ".xr-var-name {\n",
       "  grid-column: 1;\n",
       "}\n",
       "\n",
       ".xr-var-dims {\n",
       "  grid-column: 2;\n",
       "}\n",
       "\n",
       ".xr-var-dtype {\n",
       "  grid-column: 3;\n",
       "  text-align: right;\n",
       "  color: var(--xr-font-color2);\n",
       "}\n",
       "\n",
       ".xr-var-preview {\n",
       "  grid-column: 4;\n",
       "}\n",
       "\n",
       ".xr-index-preview {\n",
       "  grid-column: 2 / 5;\n",
       "  color: var(--xr-font-color2);\n",
       "}\n",
       "\n",
       ".xr-var-name,\n",
       ".xr-var-dims,\n",
       ".xr-var-dtype,\n",
       ".xr-preview,\n",
       ".xr-attrs dt {\n",
       "  white-space: nowrap;\n",
       "  overflow: hidden;\n",
       "  text-overflow: ellipsis;\n",
       "  padding-right: 10px;\n",
       "}\n",
       "\n",
       ".xr-var-name:hover,\n",
       ".xr-var-dims:hover,\n",
       ".xr-var-dtype:hover,\n",
       ".xr-attrs dt:hover {\n",
       "  overflow: visible;\n",
       "  width: auto;\n",
       "  z-index: 1;\n",
       "}\n",
       "\n",
       ".xr-var-attrs,\n",
       ".xr-var-data,\n",
       ".xr-index-data {\n",
       "  display: none;\n",
       "  background-color: var(--xr-background-color) !important;\n",
       "  padding-bottom: 5px !important;\n",
       "}\n",
       "\n",
       ".xr-var-attrs-in:checked ~ .xr-var-attrs,\n",
       ".xr-var-data-in:checked ~ .xr-var-data,\n",
       ".xr-index-data-in:checked ~ .xr-index-data {\n",
       "  display: block;\n",
       "}\n",
       "\n",
       ".xr-var-data > table {\n",
       "  float: right;\n",
       "}\n",
       "\n",
       ".xr-var-name span,\n",
       ".xr-var-data,\n",
       ".xr-index-name div,\n",
       ".xr-index-data,\n",
       ".xr-attrs {\n",
       "  padding-left: 25px !important;\n",
       "}\n",
       "\n",
       ".xr-attrs,\n",
       ".xr-var-attrs,\n",
       ".xr-var-data,\n",
       ".xr-index-data {\n",
       "  grid-column: 1 / -1;\n",
       "}\n",
       "\n",
       "dl.xr-attrs {\n",
       "  padding: 0;\n",
       "  margin: 0;\n",
       "  display: grid;\n",
       "  grid-template-columns: 125px auto;\n",
       "}\n",
       "\n",
       ".xr-attrs dt,\n",
       ".xr-attrs dd {\n",
       "  padding: 0;\n",
       "  margin: 0;\n",
       "  float: left;\n",
       "  padding-right: 10px;\n",
       "  width: auto;\n",
       "}\n",
       "\n",
       ".xr-attrs dt {\n",
       "  font-weight: normal;\n",
       "  grid-column: 1;\n",
       "}\n",
       "\n",
       ".xr-attrs dt:hover span {\n",
       "  display: inline-block;\n",
       "  background: var(--xr-background-color);\n",
       "  padding-right: 10px;\n",
       "}\n",
       "\n",
       ".xr-attrs dd {\n",
       "  grid-column: 2;\n",
       "  white-space: pre-wrap;\n",
       "  word-break: break-all;\n",
       "}\n",
       "\n",
       ".xr-icon-database,\n",
       ".xr-icon-file-text2,\n",
       ".xr-no-icon {\n",
       "  display: inline-block;\n",
       "  vertical-align: middle;\n",
       "  width: 1em;\n",
       "  height: 1.5em !important;\n",
       "  stroke-width: 0;\n",
       "  stroke: currentColor;\n",
       "  fill: currentColor;\n",
       "}\n",
       "</style><pre class='xr-text-repr-fallback'>&lt;xarray.DataArray (bin: 15)&gt;\n",
       "array([ True,  True,  True,  True,  True,  True,  True,  True,  True,\n",
       "        True,  True,  True,  True,  True,  True])\n",
       "Coordinates:\n",
       "  * bin      (bin) float32 0.0 0.0001333 0.0002667 ... 0.0016 0.001733 0.001867</pre><div class='xr-wrap' style='display:none'><div class='xr-header'><div class='xr-obj-type'>xarray.DataArray</div><div class='xr-array-name'></div><ul class='xr-dim-list'><li><span class='xr-has-index'>bin</span>: 15</li></ul></div><ul class='xr-sections'><li class='xr-section-item'><div class='xr-array-wrap'><input id='section-555e1112-6cf7-42e7-a7d7-5e9987c3a491' class='xr-array-in' type='checkbox' checked><label for='section-555e1112-6cf7-42e7-a7d7-5e9987c3a491' title='Show/hide data repr'><svg class='icon xr-icon-database'><use xlink:href='#icon-database'></use></svg></label><div class='xr-array-preview xr-preview'><span>True True True True True True True ... True True True True True True</span></div><div class='xr-array-data'><pre>array([ True,  True,  True,  True,  True,  True,  True,  True,  True,\n",
       "        True,  True,  True,  True,  True,  True])</pre></div></div></li><li class='xr-section-item'><input id='section-80948e83-8428-47d5-9d2a-5af8e1442465' class='xr-section-summary-in' type='checkbox'  checked><label for='section-80948e83-8428-47d5-9d2a-5af8e1442465' class='xr-section-summary' >Coordinates: <span>(1)</span></label><div class='xr-section-inline-details'></div><div class='xr-section-details'><ul class='xr-var-list'><li class='xr-var-item'><div class='xr-var-name'><span class='xr-has-index'>bin</span></div><div class='xr-var-dims'>(bin)</div><div class='xr-var-dtype'>float32</div><div class='xr-var-preview xr-preview'>0.0 0.0001333 ... 0.001733 0.001867</div><input id='attrs-82571382-ef16-4250-90e4-a80e77ddf038' class='xr-var-attrs-in' type='checkbox' disabled><label for='attrs-82571382-ef16-4250-90e4-a80e77ddf038' title='Show/Hide attributes'><svg class='icon xr-icon-file-text2'><use xlink:href='#icon-file-text2'></use></svg></label><input id='data-87c941ec-80ce-449c-bf2d-624da393ab5b' class='xr-var-data-in' type='checkbox'><label for='data-87c941ec-80ce-449c-bf2d-624da393ab5b' title='Show/Hide data repr'><svg class='icon xr-icon-database'><use xlink:href='#icon-database'></use></svg></label><div class='xr-var-attrs'><dl class='xr-attrs'></dl></div><div class='xr-var-data'><pre>array([0.      , 0.000133, 0.000267, 0.0004  , 0.000533, 0.000667, 0.0008  ,\n",
       "       0.000933, 0.001067, 0.0012  , 0.001333, 0.001467, 0.0016  , 0.001733,\n",
       "       0.001867], dtype=float32)</pre></div></li></ul></div></li><li class='xr-section-item'><input id='section-809be976-5278-4b1c-9ace-4a56301d5cd1' class='xr-section-summary-in' type='checkbox'  ><label for='section-809be976-5278-4b1c-9ace-4a56301d5cd1' class='xr-section-summary' >Indexes: <span>(1)</span></label><div class='xr-section-inline-details'></div><div class='xr-section-details'><ul class='xr-var-list'><li class='xr-var-item'><div class='xr-index-name'><div>bin</div></div><div class='xr-index-preview'>PandasIndex</div><div></div><input id='index-060e6204-c5f1-4e84-a58b-cd16d769e16d' class='xr-index-data-in' type='checkbox'/><label for='index-060e6204-c5f1-4e84-a58b-cd16d769e16d' title='Show/Hide index repr'><svg class='icon xr-icon-database'><use xlink:href='#icon-database'></use></svg></label><div class='xr-index-data'><pre>PandasIndex(Float64Index([                   0.0, 0.00013333333481568843,\n",
       "              0.00026666666963137686, 0.00039999998989515007,\n",
       "               0.0005333333392627537,  0.0006666666595265269,\n",
       "               0.0007999999797903001,  0.0009333333582617342,\n",
       "               0.0010666666785255075,  0.0012000000569969416,\n",
       "               0.0013333333190530539,   0.001466666697524488,\n",
       "               0.0015999999595806003,  0.0017333333380520344,\n",
       "               0.0018666667165234685],\n",
       "             dtype=&#x27;float64&#x27;, name=&#x27;bin&#x27;))</pre></div></li></ul></div></li><li class='xr-section-item'><input id='section-1746b934-c8ee-411f-9dd3-818036a3daf4' class='xr-section-summary-in' type='checkbox' disabled ><label for='section-1746b934-c8ee-411f-9dd3-818036a3daf4' class='xr-section-summary'  title='Expand/collapse section'>Attributes: <span>(0)</span></label><div class='xr-section-inline-details'></div><div class='xr-section-details'><dl class='xr-attrs'></dl></div></li></ul></div></div>"
      ],
      "text/plain": [
       "<xarray.DataArray (bin: 15)>\n",
       "array([ True,  True,  True,  True,  True,  True,  True,  True,  True,\n",
       "        True,  True,  True,  True,  True,  True])\n",
       "Coordinates:\n",
       "  * bin      (bin) float32 0.0 0.0001333 0.0002667 ... 0.0016 0.001733 0.001867"
      ]
     },
     "execution_count": 172,
     "metadata": {},
     "output_type": "execute_result"
    }
   ],
   "source": [
    "hist_np_reg == hist_np"
   ]
  },
  {
   "cell_type": "code",
   "execution_count": 173,
   "metadata": {},
   "outputs": [
    {
     "data": {
      "text/plain": [
       "0"
      ]
     },
     "execution_count": 173,
     "metadata": {},
     "output_type": "execute_result"
    }
   ],
   "source": [
    "check_equality()"
   ]
  },
  {
   "cell_type": "code",
   "execution_count": 34,
   "metadata": {},
   "outputs": [
    {
     "name": "stdout",
     "output_type": "stream",
     "text": [
      "hist_plot function in the process \n",
      "\n",
      "hist_plot function in the process \n",
      "\n",
      "hist_plot function in the process \n",
      "\n",
      "hist_plot function in the process \n",
      "\n",
      "hist_plot function in the process \n",
      "\n",
      "hist_plot function in the process \n",
      "\n",
      "hist_plot function in the process \n",
      "\n",
      "hist_plot function in the process \n",
      "\n"
     ]
    }
   ],
   "source": [
    "\n",
    "fig = plt.figure()\n",
    "ax = fig.add_subplot(111)\n",
    "\n",
    "_pdf = True\n",
    "\n",
    "diag.hist_plot(hist_fast_reg,           pdf=_pdf,   color = 'tab:red',     label='fast')\n",
    "diag.hist_plot(hist_np_reg,             pdf=_pdf,   color = 'tab:green',   label='np')\n",
    "diag.hist_plot(hist_pyplt_reg,          pdf=_pdf,   color = 'tab:blue',    label='pyplt')\n",
    "diag.hist_plot(hist_digitize_reg,       pdf=_pdf,   color = 'tab:blue',    label='pyplt')\n",
    "\n",
    "diag.hist_plot(hist_fast,           pdf=_pdf,   color = 'tab:red',     label='fast')\n",
    "diag.hist_plot(hist_np,             pdf=_pdf,   color = 'tab:green',   label='np')\n",
    "diag.hist_plot(hist_pyplt,          pdf=_pdf,   color = 'tab:blue',    label='pyplt')\n",
    "diag.hist_plot(hist_digitize,       pdf=_pdf,   color = 'tab:blue',    label='pyplt')\n",
    "\n",
    "\n",
    "\n",
    "ax.grid()\n",
    "\n",
    "plt.savefig(\"./figures/pdf_hists_reg.png\",\n",
    "            bbox_inches =\"tight\",\n",
    "            pad_inches = 1,\n",
    "            transparent = True,\n",
    "            facecolor =\"w\",\n",
    "            edgecolor ='w',\n",
    "            orientation ='landscape')"
   ]
  },
  {
   "cell_type": "code",
   "execution_count": 173,
   "metadata": {},
   "outputs": [
    {
     "name": "stdout",
     "output_type": "stream",
     "text": [
      "hist_plot function in the process \n",
      "\n",
      "hist_plot function in the process \n",
      "\n",
      "hist_plot function in the process \n",
      "\n",
      "hist_plot function in the process \n",
      "\n",
      "hist_plot function in the process \n",
      "\n",
      "hist_plot function in the process \n",
      "\n"
     ]
    }
   ],
   "source": [
    "\n",
    "fig = plt.figure()\n",
    "ax = fig.add_subplot(111)\n",
    "\n",
    "_pdf = True\n",
    "\n",
    "diag.hist_plot(hist_boost,          pdf=_pdf,   color = 'tab:purple',  label='right')\n",
    "diag.hist_plot(hist_factory,        pdf=_pdf,   color = 'tab:grey',    label='left')\n",
    "diag.hist_plot(hist_fast,           pdf=_pdf,   color = 'tab:red',     label='fast')\n",
    "diag.hist_plot(hist_np,             pdf=_pdf,   color = 'tab:green',   label='np')\n",
    "diag.hist_plot(hist_pyplt,          pdf=_pdf,   color = 'tab:blue',    label='pyplt')\n",
    "diag.hist_plot(hist_digitize,       pdf=_pdf,   color = 'tab:blue',    label='pyplt')\n",
    "\n",
    "\n",
    "\n",
    "ax.grid()\n",
    "\n",
    "plt.savefig(\"./figures/pdf_hists_2.png\",\n",
    "            bbox_inches =\"tight\",\n",
    "            pad_inches = 1,\n",
    "            transparent = True,\n",
    "            facecolor =\"w\",\n",
    "            edgecolor ='w',\n",
    "            orientation ='landscape')"
   ]
  },
  {
   "cell_type": "code",
   "execution_count": 189,
   "metadata": {},
   "outputs": [
    {
     "name": "stdout",
     "output_type": "stream",
     "text": [
      "hist_plot function in the process \n",
      "\n",
      "pdf\n",
      "hist_plot function in the process \n",
      "\n",
      "pdf\n",
      "hist_plot function in the process \n",
      "\n",
      "pdf\n",
      "hist_plot function in the process \n",
      "\n",
      "pdf\n",
      "hist_plot function in the process \n",
      "\n",
      "pdf\n",
      "hist_plot function in the process \n",
      "\n",
      "pdf\n"
     ]
    }
   ],
   "source": [
    "\n",
    "fig = plt.figure()\n",
    "ax = fig.add_subplot(111)\n",
    "\n",
    "_pdf = True\n",
    "\n",
    "diag.hist_plot(CMIP_hist_boost,     pdf=_pdf,   color = 'tab:purple',  label='right')\n",
    "diag.hist_plot(CMIP_hist_fact,      pdf=_pdf,   color = 'tab:grey',    label='left')\n",
    "diag.hist_plot(CMIP_hist_fast,      pdf=_pdf,   color = 'tab:red',     label='fast')\n",
    "diag.hist_plot(CMIP_hist_np,        pdf=_pdf,   color = 'tab:green',   label='np')\n",
    "diag.hist_plot(CMIP_hist_pyplt,     pdf=_pdf,   color = 'tab:blue',    label='pyplt')\n",
    "diag.hist_plot(CMIP_hist_digitize,  pdf=_pdf,   color = 'tab:blue',    label='pyplt')\n",
    "\n",
    "\n",
    "\n",
    "ax.grid()\n",
    "\n",
    "plt.savefig(\"./figures/pdf_hists.png\",\n",
    "            bbox_inches =\"tight\",\n",
    "            pad_inches = 1,\n",
    "            transparent = True,\n",
    "            facecolor =\"w\",\n",
    "            edgecolor ='w',\n",
    "            orientation ='landscape')\n",
    "\n"
   ]
  },
  {
   "cell_type": "code",
   "execution_count": null,
   "metadata": {},
   "outputs": [],
   "source": [
    "# timeit "
   ]
  },
  {
   "cell_type": "code",
   "execution_count": 36,
   "metadata": {},
   "outputs": [],
   "source": [
    "time_set1 = [  del_time_fast_reg,  del_time_np_reg, del_time_pyplt_reg,  del_time_digitize_reg ]\n",
    "\n",
    "time_set2 = [  del_time_fast,  del_time_np, del_time_pyplt,  del_time_digitize ]\n",
    "\n",
    "Per_element = True\n",
    "\n",
    "if Per_element == True:\n",
    "    time_set1 = [time_set1[i]/size_reg for i in range(len(time_set1))] \n",
    "\n",
    "if Per_element == True:\n",
    "    time_set2 = [time_set2[i]/size for i in range(len(time_set2))] \n",
    "\n",
    "fig = plt.figure(figsize=(12,6))\n",
    "\n",
    "barWidth = 0.2\n",
    "br1 = np.arange(len(time_set1))\n",
    "br2 = [x + barWidth for x in br1]\n",
    "\n",
    "plt.bar(br1, time_set1, color ='red',  width = barWidth,\n",
    "        edgecolor ='grey', label = \"ICON, reg\") #'aqua, 3.10.9')\n",
    "\n",
    "plt.bar(br2, time_set2, color ='green',  width = barWidth,\n",
    "        edgecolor ='grey', label = \"ICON\") #'aqua, 3.10.9')\n",
    "#plt.bar(br1, time_set1_3_9_16, color ='red', alpha =0.6, width = barWidth, bottom = time_set1_3_8_16,\n",
    "#        edgecolor ='grey', label ='CMIP, 3.9.16')\n",
    " \n",
    "# Adding Xticks\n",
    "plt.xlabel('Methods', fontweight ='bold', fontsize = 15)\n",
    "plt.ylabel('Calculation time per element', fontweight ='bold', fontsize = 15)\n",
    "plt.xticks([r + barWidth for r in range(len(time_set1))],\n",
    "        ['fast', 'np', 'pyplt', 'digitize'], fontsize=14)  #, 'left'\n",
    "plt.xticks(fontsize=14)         \n",
    "\n",
    "\n",
    "\n",
    "plt.legend(fontsize=14)\n",
    "\n",
    "\n",
    "plt.savefig(\"./figures/Calc_time_sameds.png\",\n",
    "            bbox_inches =\"tight\",\n",
    "            pad_inches = 1,\n",
    "            transparent = True,\n",
    "            facecolor =\"w\",\n",
    "            edgecolor ='w',\n",
    "            orientation ='landscape')\n",
    "\n",
    "\n"
   ]
  },
  {
   "cell_type": "code",
   "execution_count": null,
   "metadata": {},
   "outputs": [],
   "source": []
  }
 ],
 "metadata": {
  "kernelspec": {
   "display_name": "tropical-rainfall",
   "language": "python",
   "name": "python3"
  },
  "language_info": {
   "codemirror_mode": {
    "name": "ipython",
    "version": 3
   },
   "file_extension": ".py",
   "mimetype": "text/x-python",
   "name": "python",
   "nbconvert_exporter": "python",
   "pygments_lexer": "ipython3",
   "version": "3.10.10"
  },
  "orig_nbformat": 4,
  "vscode": {
   "interpreter": {
    "hash": "07e98d85ba00412b6aa5125aae8e919611736cabcd7c227888eba392d8503989"
   }
  }
 },
 "nbformat": 4,
 "nbformat_minor": 2
}
