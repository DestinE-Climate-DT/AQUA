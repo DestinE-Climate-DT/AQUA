{
 "cells": [
  {
   "attachments": {},
   "cell_type": "markdown",
   "metadata": {},
   "source": [
    "# The demonstration of the tropical precipitation module on the different datasets"
   ]
  },
  {
   "attachments": {},
   "cell_type": "markdown",
   "metadata": {},
   "source": [
    "###  Loading the necessary packages"
   ]
  },
  {
   "cell_type": "code",
   "execution_count": 1,
   "metadata": {},
   "outputs": [],
   "source": [
    "from dask_jobqueue import SLURMCluster # pip \n",
    "from dask.distributed import Client, progress \n",
    "import dask\n",
    "\n",
    "import re\n",
    "import matplotlib as mpl\n",
    "# Define Agg as Backend for matplotlib when no X server is running\n",
    "mpl.use('Agg')\n",
    "import socket\n",
    "import os\n",
    "import importlib\n",
    "\n",
    "import inspect\n",
    "import timeit\n",
    "import sys"
   ]
  },
  {
   "attachments": {},
   "cell_type": "markdown",
   "metadata": {},
   "source": [
    "### Function, which reads the status of the user in the slurm queue "
   ]
  },
  {
   "cell_type": "code",
   "execution_count": 2,
   "metadata": {},
   "outputs": [],
   "source": [
    "def squeue_user(username = \"$USER\"):\n",
    "    _squeue_user = os.system(\"squeue --user=\"+str(username))\n",
    "    return _squeue_user "
   ]
  },
  {
   "attachments": {},
   "cell_type": "markdown",
   "metadata": {},
   "source": [
    "### Storing the path to the current repository into the variable"
   ]
  },
  {
   "cell_type": "code",
   "execution_count": 3,
   "metadata": {},
   "outputs": [],
   "source": [
    "with os.popen(\"pwd \") as f:\n",
    "    _pwd = f.readline()\n",
    "\n",
    "pwd = re.split(r'[\\n]', _pwd)[0]"
   ]
  },
  {
   "attachments": {},
   "cell_type": "markdown",
   "metadata": {},
   "source": [
    "### Setting the slurm job"
   ]
  },
  {
   "cell_type": "code",
   "execution_count": 20,
   "metadata": {},
   "outputs": [
    {
     "name": "stdout",
     "output_type": "stream",
     "text": [
      "#!/usr/bin/env bash\n",
      "\n",
      "#SBATCH -J dask-worker\n",
      "#SBATCH -p compute\n",
      "#SBATCH -A bb1153\n",
      "#SBATCH -n 1\n",
      "#SBATCH --cpus-per-task=256\n",
      "#SBATCH --mem=466G\n",
      "#SBATCH -t 04:30:50\n",
      "#SBATCH --error=/work/bb1153/b382267/AQUA/diagnostics/tropical_rainfall/notebooks/time_memory_estimation/slurm/logs/dask-worker-%j.err\n",
      "#SBATCH --output=/work/bb1153/b382267/AQUA/diagnostics/tropical_rainfall/notebooks/time_memory_estimation/slurm/output/dask-worker-%j.out\n",
      "\n",
      "/home/b/b382267/mambaforge/envs/tropical-rainfall/bin/python -m distributed.cli.dask_worker tcp://136.172.124.1:39181 --nthreads 16 --nworkers 16 --memory-limit 29.10GiB --name dummy-name --nanny --death-timeout 60\n",
      "\n"
     ]
    },
    {
     "name": "stderr",
     "output_type": "stream",
     "text": [
      "/home/b/b382267/mambaforge/envs/tropical-rainfall/lib/python3.10/site-packages/dask_jobqueue/core.py:255: FutureWarning: job_extra has been renamed to job_extra_directives. You are still using it (even if only set to []; please also check config files). If you did not set job_extra_directives yet, job_extra will be respected for now, but it will be removed in a future release. If you already set job_extra_directives, job_extra is ignored and you can remove it.\n",
      "  warnings.warn(warn, FutureWarning)\n",
      "/home/b/b382267/mambaforge/envs/tropical-rainfall/lib/python3.10/site-packages/dask_jobqueue/slurm.py:49: FutureWarning: project has been renamed to account as this kwarg was used wit -A option. You are still using it (please also check config files). If you did not set account yet, project will be respected for now, but it will be removed in a future release. If you already set account, project is ignored and you can remove it.\n",
      "  warnings.warn(warn, FutureWarning)\n",
      "/home/b/b382267/mambaforge/envs/tropical-rainfall/lib/python3.10/site-packages/distributed/node.py:182: UserWarning: Port 8787 is already in use.\n",
      "Perhaps you already have a cluster running?\n",
      "Hosting the HTTP server on port 35665 instead\n",
      "  warnings.warn(\n"
     ]
    }
   ],
   "source": [
    "\n",
    "extra_args=[\n",
    "    \"--error=\"+str(pwd)+\"/slurm/logs/dask-worker-%j.err\",\n",
    "    \"--output=\"+str(pwd)+\"/slurm/output/dask-worker-%j.out\"\n",
    "]\n",
    "\n",
    "cluster = SLURMCluster(\n",
    "    name='dask-cluster', \n",
    "    cores=256,    \n",
    "    memory=\"500 GB\", \n",
    "    project=\"bb1153\",\n",
    "    queue= \"compute\", \n",
    "    walltime='04:30:50',\n",
    "    job_extra=extra_args,\n",
    ")\n",
    "client = Client(cluster)\n",
    "print(cluster.job_script())"
   ]
  },
  {
   "attachments": {},
   "cell_type": "markdown",
   "metadata": {},
   "source": [
    "### Loading the slurm job to the queue "
   ]
  },
  {
   "cell_type": "code",
   "execution_count": 21,
   "metadata": {},
   "outputs": [],
   "source": [
    "cluster.scale(jobs=1)"
   ]
  },
  {
   "attachments": {},
   "cell_type": "markdown",
   "metadata": {},
   "source": [
    "### Checking our slurm job in the queue "
   ]
  },
  {
   "cell_type": "code",
   "execution_count": 22,
   "metadata": {},
   "outputs": [
    {
     "name": "stdout",
     "output_type": "stream",
     "text": [
      "             JOBID PARTITION     NAME     USER ST       TIME  NODES NODELIST(REASON)\n",
      "           4600495   compute dask-wor  b382267 PD       0:00      1 (None)\n"
     ]
    },
    {
     "data": {
      "text/plain": [
       "0"
      ]
     },
     "execution_count": 22,
     "metadata": {},
     "output_type": "execute_result"
    }
   ],
   "source": [
    "squeue_user()"
   ]
  },
  {
   "attachments": {},
   "cell_type": "markdown",
   "metadata": {},
   "source": [
    "### Canceling the job if it is necessary. Set the job ID manually"
   ]
  },
  {
   "cell_type": "code",
   "execution_count": 8,
   "metadata": {},
   "outputs": [
    {
     "data": {
      "text/plain": [
       "0"
      ]
     },
     "execution_count": 8,
     "metadata": {},
     "output_type": "execute_result"
    }
   ],
   "source": [
    "Job_ID =   4523604\n",
    "os.system(\"scancel \" +str(Job_ID)) "
   ]
  },
  {
   "attachments": {},
   "cell_type": "markdown",
   "metadata": {},
   "source": [
    "### Setting the path to the diagnostic repository "
   ]
  },
  {
   "cell_type": "code",
   "execution_count": 7,
   "metadata": {},
   "outputs": [],
   "source": [
    "sys.path.append(str(pwd)+'/../../')\n",
    "import src.shared_func\n",
    "import src.tr_pr_mod\n",
    "import src.memory_estimator"
   ]
  },
  {
   "attachments": {},
   "cell_type": "markdown",
   "metadata": {},
   "source": [
    "### Loading the extra function, which can be used in any diagnostic"
   ]
  },
  {
   "cell_type": "code",
   "execution_count": 8,
   "metadata": {},
   "outputs": [],
   "source": [
    "while True:\n",
    "    try:\n",
    "        importlib.reload(src.shared_func)\n",
    "        from  src.shared_func import time_interpreter,  animation_creator, image_creator,  xarray_attribute_update, data_size\n",
    "        break\n",
    "    except NameError and AttributeError:\n",
    "        import src.shared_func\n",
    "        from  src.shared_func import time_interpreter,   animation_creator, image_creator,  xarray_attribute_update, data_size\n",
    "        break"
   ]
  },
  {
   "attachments": {},
   "cell_type": "markdown",
   "metadata": {},
   "source": [
    "### Loading the tropical precipitation module"
   ]
  },
  {
   "cell_type": "code",
   "execution_count": 9,
   "metadata": {},
   "outputs": [],
   "source": [
    "while True:\n",
    "    try:\n",
    "        importlib.reload(src.tr_pr_mod)\n",
    "        from  src.tr_pr_mod import TR_PR_Diagnostic\n",
    "        break\n",
    "    except NameError and AttributeError:\n",
    "        import src.tr_pr_mod\n",
    "        from  src.tr_pr_mod import TR_PR_Diagnostic\n",
    "        break"
   ]
  },
  {
   "attachments": {},
   "cell_type": "markdown",
   "metadata": {},
   "source": [
    "## Loading the memory estimator"
   ]
  },
  {
   "cell_type": "code",
   "execution_count": 26,
   "metadata": {},
   "outputs": [],
   "source": [
    "while True:\n",
    "    try:\n",
    "        importlib.reload(src.memory_estimator)\n",
    "        from  src.memory_estimator import  expected_total_memory_usage, adaptive_data_load, mem_units_converter\n",
    "        break\n",
    "    except NameError and AttributeError:\n",
    "        import src.memory_estimator\n",
    "        from  src.memory_estimator import  expected_total_memory_usage, adaptive_data_load, mem_units_converter\n",
    "        break"
   ]
  },
  {
   "cell_type": "code",
   "execution_count": 14,
   "metadata": {},
   "outputs": [],
   "source": [
    "configdir = '../../../../config/'\n",
    "diagname  = 'tr_pr'\n",
    "machine   = 'levante'"
   ]
  },
  {
   "attachments": {},
   "cell_type": "markdown",
   "metadata": {},
   "source": [
    "### Setting the class attributes"
   ]
  },
  {
   "cell_type": "code",
   "execution_count": 15,
   "metadata": {},
   "outputs": [],
   "source": [
    "diag = TR_PR_Diagnostic()\n",
    "\n",
    "diag.num_of_bins = 15\n",
    "diag.first_edge = 0\n",
    "diag.width_of_bin = 1*10**(-4)/diag.num_of_bins\n",
    "\n",
    "last_edge = diag.first_edge  + diag.num_of_bins*diag.width_of_bin"
   ]
  },
  {
   "attachments": {},
   "cell_type": "markdown",
   "metadata": {},
   "source": [
    "### Importing the aqua module "
   ]
  },
  {
   "cell_type": "code",
   "execution_count": 16,
   "metadata": {},
   "outputs": [],
   "source": [
    "import aqua"
   ]
  },
  {
   "cell_type": "code",
   "execution_count": 17,
   "metadata": {},
   "outputs": [],
   "source": [
    "from aqua import Reader\n",
    "from aqua.reader import catalogue"
   ]
  },
  {
   "cell_type": "code",
   "execution_count": 18,
   "metadata": {},
   "outputs": [
    {
     "name": "stdout",
     "output_type": "stream",
     "text": [
      "IFS\ttco3999-ng5\t2.8km experiment, coupled with FESOM\n",
      "\t- ICMGG_atm2d\t\n",
      "\t- ICMU_atm2d\t\n",
      "\t- ICMU_atm3d\t\n",
      "\t- interpolated_global\t\n",
      "\t- interpolated_np\t\n",
      "\t- interpolated_sp\t\n",
      "\t- interpolated_sp_ci\t\n",
      "\t- lra-r100-day\t\n",
      "\t- lra-r100-mon\t\n",
      "IFS\ttco2559-ng5\t4km experiment, coupled with FESOM\n",
      "\t- ICMGG_atm2d\t\n",
      "\t- ICMU_atm2d\t\n",
      "\t- ICMU_atm3d\t\n",
      "\t- interpolated_global\t\n",
      "\t- interpolated_np\t\n",
      "\t- interpolated_sp\t\n",
      "\t- lra-r100-day\t\n",
      "\t- lra-r100-mon\t\n",
      "IFS\ttco1279-orca025\t9km baseline, coupled to NEMO, deep conv ON\n",
      "\t- ICMGG_atm2d\t\n",
      "\t- ICMU_atm2d\t\n",
      "\t- ICMU_atm3d\t\n",
      "\t- lra-r100-day\t\n",
      "\t- lra-r100-mon\t\n",
      "IFS\ttest-tco2559\t4km experiment, coupled with FESOM\n",
      "\t- ICMGG_atm2d\t2d output\n",
      "\t- ICMU_atm3d\t3d output\n",
      "\n",
      "FESOM\ttco3999-ng5\t2.5km experiment, coupuled with IFS\n",
      "\t- elem_grid\t\n",
      "\t- node_grid\t\n",
      "\t- np\tnearest-neighbor interpolation to lat-lon grid\n",
      "\t- interpolated_global2d\t\n",
      "\t- interpolated_global_TS\t\n",
      "\t- interpolated_global_UV\t\n",
      "\t- interpolated_np\t\n",
      "\t- interpolated_sp\t\n",
      "\t- original_2d\toriginal 2d output\n",
      "\t- original_3d\toriginal 3d output\n",
      "FESOM\ttco2559-ng5\t5km experiment, coupuled with IFS\n",
      "\t- elem_grid\t\n",
      "\t- node_grid\t\n",
      "\t- interpolated_global2d\t\n",
      "\t- interpolated_global_TS\t\n",
      "\t- interpolated_global_UV\t\n",
      "\t- interpolated_np\t\n",
      "\t- interpolated_sp\t\n",
      "\t- original_2d\toriginal 2d output\n",
      "\t- original_3d\toriginal 3d output\n",
      "\t- lra-r100-mon\t\n",
      "\t- lra-r100-day\t\n",
      "FESOM\ttest-ng5\t5km experiment, coupuled with IFS\n",
      "\t- elem_grid\t\n",
      "\t- node_grid\t\n",
      "\t- original_2d\toriginal 2d output\n",
      "\t- original_3d\toriginal 3d output\n",
      "FESOM\ttest-pi\t5km experiment, coupuled with IFS\n",
      "\t- elem_grid\t\n",
      "\t- node_grid\t\n",
      "\t- original_2d\toriginal 2d output\n",
      "\t- original_3d\toriginal 3d output\n",
      "\n",
      "ICON\tngc2009\t5km coupled run, main ICON nextGEMS C2 run\n",
      "\t- atm_2d_ml\t\n",
      "\t- atm_2d_ml_R02B09\t\n",
      "\t- atm_2d_ml_R02B08\t\n",
      "\t- atm_2d_ml_R02B06\t\n",
      "\t- oce_200m_atmgrid\t\n",
      "\t- oce_200m_atmgrid_R02B09\t\n",
      "\t- intake-esm-test\tTest Intake-ESM Catalog\n",
      "\t- lra-r100-mon\t\n",
      "\t- lra-r100-day\t\n",
      "ICON\thpx\tSome Healpix data\n",
      "\t- result\t\n",
      "ICON\tgrids\tICON grids\n",
      "\n",
      "MSWEP\tpast\tpast MSWEP v280 data\n",
      "\t- monthly\tmonthly MSWEP_V280 data\n",
      "\t- daily\tdaily MSWEP_V280 data\n",
      "\t- 3hourly\t3 hourly MSWEP_V280 data\n",
      "\t- monthlyz\tmonthly MSWEP_V280 data\n",
      "\t- dailyz\tdaily MSWEP_V280 data\n",
      "\n",
      "ERA5\tera5\tmain ERA5 data\n",
      "\t- monthly_inst\tERA5 instantaneous 2D data monthly averaged\n",
      "\t- monthly_acc\tERA5 accumulated 2D data monthly averaged\n",
      "\t- daily_inst\tERA5 instantaneous 2D data daily\n",
      "\t- daily_acc\tERA5 accumulated 2D data daily\n",
      "\n",
      "CERES\tebaf-toa41\tCERES-EBAF\n",
      "\t- monthly\tCERES EBAF TOA Ed4.2 from 2002 to 2022\n",
      "CERES\tebaf-toa42\tCERES-EBAF\n",
      "\t- monthly\tCERES EBAF TOA Ed4.2 from 2002 to 2022\n",
      "CERES\tebaf-sfc41\tCERES-EBAF\n",
      "\t- monthly\tCERES EBAF SFC Ed4.1 from 2002 to 2022\n",
      "CERES\tsyn-toa41\tCERES-EBAF\n",
      "\t- daily\tCERES SYN TOA Ed4.1 from 2001 to 2021\n",
      "\n"
     ]
    },
    {
     "data": {
      "application/yaml": "levante:\n  args:\n    path: ../../../../config//levante/catalog.yaml\n  description: ''\n  driver: intake.catalog.local.YAMLFileCatalog\n  metadata: {}\n",
      "text/plain": [
       "levante:\n",
       "  args:\n",
       "    path: ../../../../config//levante/catalog.yaml\n",
       "  description: ''\n",
       "  driver: intake.catalog.local.YAMLFileCatalog\n",
       "  metadata: {}\n"
      ]
     },
     "metadata": {
      "application/json": {
       "root": "levante"
      }
     },
     "output_type": "display_data"
    }
   ],
   "source": [
    "catalogue(configdir=configdir)"
   ]
  },
  {
   "attachments": {},
   "cell_type": "markdown",
   "metadata": {},
   "source": [
    "## Memory check"
   ]
  },
  {
   "cell_type": "code",
   "execution_count": 23,
   "metadata": {},
   "outputs": [],
   "source": [
    "max_time_step = 2"
   ]
  },
  {
   "attachments": {},
   "cell_type": "markdown",
   "metadata": {},
   "source": [
    "### See description in README.md file"
   ]
  },
  {
   "cell_type": "code",
   "execution_count": null,
   "metadata": {},
   "outputs": [],
   "source": [
    "\n",
    "VmRSS_1, Vm_1_units = src.memory_estimator.read_VmRSS_av()\n",
    "\n",
    "\"\"\"     \"\"\"     \"\"\"     \"\"\"     \"\"\"     \"\"\"\n",
    "reader = Reader(model=\"ICON\", exp=\"ngc2009\",  configdir=configdir, source=\"atm_2d_ml_R02B09\", regrid=\"r200\")\n",
    "ICON_2009 = reader.retrieve()\n",
    "ICON_2009_chunk = ICON_2009['tprate'][0:max_time_step,:]\n",
    "ICON_2009_chunk = ICON_2009_chunk.compute()\n",
    "\n",
    "ICON_2009_chunk= xarray_attribute_update(ICON_2009_chunk, ICON_2009)\n",
    "# Fastest histogram\n",
    "hist_fast_ICON  = diag.hist1d_fast(ICON_2009_chunk,  preprocess = False)\n",
    "\"\"\"     \"\"\"     \"\"\"     \"\"\"     \"\"\"     \"\"\"\n",
    "\n",
    "mem_max, mem_units = expected_total_memory_usage(ds_part = ICON_2009_chunk,  ds_full = ICON_2009['tprate'], VmRSS_1 = VmRSS_1 )\n",
    "mem_units_converter(old_mem_unit =  mem_units, old_value = mem_max, desirable_mem_unit = 'GB')"
   ]
  },
  {
   "attachments": {},
   "cell_type": "markdown",
   "metadata": {},
   "source": [
    "## Adaptive loading of data"
   ]
  },
  {
   "cell_type": "code",
   "execution_count": null,
   "metadata": {},
   "outputs": [],
   "source": [
    "VmRSS_1, Vm_1_units = src.memory_estimator.read_VmRSS_av()\n",
    "adaptive_data_load(ds_part = ICON_2009_chunk,  ds_full =  ICON_2009['tprate'], VmRSS_1 = VmRSS_1, Mem_Perc_Max = 0.5)"
   ]
  }
 ],
 "metadata": {
  "kernelspec": {
   "display_name": "tropical-rainfall",
   "language": "python",
   "name": "python3"
  },
  "language_info": {
   "codemirror_mode": {
    "name": "ipython",
    "version": 3
   },
   "file_extension": ".py",
   "mimetype": "text/x-python",
   "name": "python",
   "nbconvert_exporter": "python",
   "pygments_lexer": "ipython3",
   "version": "3.10.10"
  },
  "orig_nbformat": 4,
  "vscode": {
   "interpreter": {
    "hash": "07e98d85ba00412b6aa5125aae8e919611736cabcd7c227888eba392d8503989"
   }
  }
 },
 "nbformat": 4,
 "nbformat_minor": 2
}
