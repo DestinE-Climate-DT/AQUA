{
 "cells": [
  {
   "cell_type": "code",
   "execution_count": 1,
   "metadata": {},
   "outputs": [],
   "source": [
    "from aqua import Reader\n",
    "from aqua.reader import catalogue"
   ]
  },
  {
   "cell_type": "code",
   "execution_count": null,
   "metadata": {},
   "outputs": [],
   "source": [
    "catalogue()"
   ]
  },
  {
   "attachments": {},
   "cell_type": "markdown",
   "metadata": {},
   "source": [
    "## ERA5 load"
   ]
  },
  {
   "cell_type": "code",
   "execution_count": 2,
   "metadata": {},
   "outputs": [
    {
     "ename": "RuntimeError",
     "evalue": "can't start new thread",
     "output_type": "error",
     "traceback": [
      "\u001b[0;31m---------------------------------------------------------------------------\u001b[0m",
      "\u001b[0;31mRuntimeError\u001b[0m                              Traceback (most recent call last)",
      "Cell \u001b[0;32mIn[2], line 2\u001b[0m\n\u001b[1;32m      1\u001b[0m reader \u001b[39m=\u001b[39m Reader(model\u001b[39m=\u001b[39m\u001b[39m\"\u001b[39m\u001b[39mERA5\u001b[39m\u001b[39m\"\u001b[39m, exp\u001b[39m=\u001b[39m\u001b[39m\"\u001b[39m\u001b[39mdaily\u001b[39m\u001b[39m\"\u001b[39m, source\u001b[39m=\u001b[39m\u001b[39m\"\u001b[39m\u001b[39man_combined\u001b[39m\u001b[39m\"\u001b[39m  )\n\u001b[0;32m----> 2\u001b[0m era_test \u001b[39m=\u001b[39m reader\u001b[39m.\u001b[39;49mretrieve()\n\u001b[1;32m      3\u001b[0m era5_test \u001b[39m=\u001b[39m reader\u001b[39m.\u001b[39mretrieve(fix\u001b[39m=\u001b[39m\u001b[39mFalse\u001b[39;00m)\n",
      "File \u001b[0;32m/work/bb1153/b382267/AQUA/aqua/reader/reader.py:263\u001b[0m, in \u001b[0;36mReader.retrieve\u001b[0;34m(self, regrid, timmean, decumulate, fix, apply_unit_fix, var, vars, streaming, stream_step, stream_unit, stream_startdate, streaming_generator)\u001b[0m\n\u001b[1;32m    261\u001b[0m     \u001b[39mself\u001b[39m\u001b[39m.\u001b[39mgrid_area \u001b[39m=\u001b[39m \u001b[39mself\u001b[39m\u001b[39m.\u001b[39mdst_grid_area\n\u001b[1;32m    262\u001b[0m \u001b[39mif\u001b[39;00m fix:   \u001b[39m# Do not change easily this order. The fixer assumes to be after regridding\u001b[39;00m\n\u001b[0;32m--> 263\u001b[0m     data \u001b[39m=\u001b[39m \u001b[39mself\u001b[39;49m\u001b[39m.\u001b[39;49mfixer(data, apply_unit_fix\u001b[39m=\u001b[39;49mapply_unit_fix)\n\u001b[1;32m    264\u001b[0m \u001b[39mif\u001b[39;00m streaming \u001b[39mor\u001b[39;00m \u001b[39mself\u001b[39m\u001b[39m.\u001b[39mstreaming \u001b[39mor\u001b[39;00m streaming_generator:\n\u001b[1;32m    265\u001b[0m     \u001b[39mif\u001b[39;00m streaming_generator:\n",
      "File \u001b[0;32m/work/bb1153/b382267/AQUA/aqua/reader/fixer.py:167\u001b[0m, in \u001b[0;36mFixerMixin.fixer\u001b[0;34m(self, data, apply_unit_fix)\u001b[0m\n\u001b[1;32m    165\u001b[0m src_datamodel \u001b[39m=\u001b[39m fix\u001b[39m.\u001b[39mget(\u001b[39m\"\u001b[39m\u001b[39mdata_model\u001b[39m\u001b[39m\"\u001b[39m, src_datamodel)\n\u001b[1;32m    166\u001b[0m \u001b[39mif\u001b[39;00m src_datamodel \u001b[39mand\u001b[39;00m src_datamodel \u001b[39mis\u001b[39;00m \u001b[39mnot\u001b[39;00m \u001b[39mFalse\u001b[39;00m:\n\u001b[0;32m--> 167\u001b[0m     data \u001b[39m=\u001b[39m \u001b[39mself\u001b[39;49m\u001b[39m.\u001b[39;49mchange_coord_datamodel(data, src_datamodel, \u001b[39mself\u001b[39;49m\u001b[39m.\u001b[39;49mdst_datamodel)\n\u001b[1;32m    168\u001b[0m     log_history(data, \u001b[39m\"\u001b[39m\u001b[39mcoordinates adjusted by AQUA fixer\u001b[39m\u001b[39m\"\u001b[39m)\n\u001b[1;32m    170\u001b[0m \u001b[39mreturn\u001b[39;00m data\n",
      "File \u001b[0;32m/work/bb1153/b382267/AQUA/aqua/reader/fixer.py:244\u001b[0m, in \u001b[0;36mFixerMixin.change_coord_datamodel\u001b[0;34m(self, data, src_datamodel, dst_datamodel)\u001b[0m\n\u001b[1;32m    242\u001b[0m     \u001b[39m# Hack needed because cfgrib.cf2cdm mixes up coordinates with dims\u001b[39;00m\n\u001b[1;32m    243\u001b[0m     \u001b[39mif\u001b[39;00m \u001b[39m\"\u001b[39m\u001b[39mforecast_reference_time\u001b[39m\u001b[39m\"\u001b[39m \u001b[39min\u001b[39;00m data\u001b[39m.\u001b[39mdims:\n\u001b[0;32m--> 244\u001b[0m         data \u001b[39m=\u001b[39m data\u001b[39m.\u001b[39;49mswap_dims({\u001b[39m\"\u001b[39;49m\u001b[39mforecast_reference_time\u001b[39;49m\u001b[39m\"\u001b[39;49m: \u001b[39m\"\u001b[39;49m\u001b[39mtime\u001b[39;49m\u001b[39m\"\u001b[39;49m})\n\u001b[1;32m    245\u001b[0m \u001b[39mreturn\u001b[39;00m data\n",
      "File \u001b[0;32m/work/bb1153/b382267/mamba_dir/mambaforge/envs/aqua/lib/python3.10/site-packages/xarray/core/dataset.py:3852\u001b[0m, in \u001b[0;36mDataset.swap_dims\u001b[0;34m(self, dims_dict, **dims_kwargs)\u001b[0m\n\u001b[1;32m   3850\u001b[0m var: Variable\n\u001b[1;32m   3851\u001b[0m \u001b[39mif\u001b[39;00m k \u001b[39min\u001b[39;00m result_dims:\n\u001b[0;32m-> 3852\u001b[0m     var \u001b[39m=\u001b[39m v\u001b[39m.\u001b[39;49mto_index_variable()\n\u001b[1;32m   3853\u001b[0m     var\u001b[39m.\u001b[39mdims \u001b[39m=\u001b[39m dims\n\u001b[1;32m   3854\u001b[0m     \u001b[39mif\u001b[39;00m k \u001b[39min\u001b[39;00m \u001b[39mself\u001b[39m\u001b[39m.\u001b[39m_indexes:\n",
      "File \u001b[0;32m/work/bb1153/b382267/mamba_dir/mambaforge/envs/aqua/lib/python3.10/site-packages/xarray/core/variable.py:623\u001b[0m, in \u001b[0;36mVariable.to_index_variable\u001b[0;34m(self)\u001b[0m\n\u001b[1;32m    621\u001b[0m \u001b[39mdef\u001b[39;00m \u001b[39mto_index_variable\u001b[39m(\u001b[39mself\u001b[39m) \u001b[39m-\u001b[39m\u001b[39m>\u001b[39m IndexVariable:\n\u001b[1;32m    622\u001b[0m \u001b[39m    \u001b[39m\u001b[39m\"\"\"Return this variable as an xarray.IndexVariable\"\"\"\u001b[39;00m\n\u001b[0;32m--> 623\u001b[0m     \u001b[39mreturn\u001b[39;00m IndexVariable(\n\u001b[1;32m    624\u001b[0m         \u001b[39mself\u001b[39;49m\u001b[39m.\u001b[39;49m_dims, \u001b[39mself\u001b[39;49m\u001b[39m.\u001b[39;49m_data, \u001b[39mself\u001b[39;49m\u001b[39m.\u001b[39;49m_attrs, encoding\u001b[39m=\u001b[39;49m\u001b[39mself\u001b[39;49m\u001b[39m.\u001b[39;49m_encoding, fastpath\u001b[39m=\u001b[39;49m\u001b[39mTrue\u001b[39;49;00m\n\u001b[1;32m    625\u001b[0m     )\n",
      "File \u001b[0;32m/work/bb1153/b382267/mamba_dir/mambaforge/envs/aqua/lib/python3.10/site-packages/xarray/core/variable.py:2867\u001b[0m, in \u001b[0;36mIndexVariable.__init__\u001b[0;34m(self, dims, data, attrs, encoding, fastpath)\u001b[0m\n\u001b[1;32m   2865\u001b[0m \u001b[39m# Unlike in Variable, always eagerly load values into memory\u001b[39;00m\n\u001b[1;32m   2866\u001b[0m \u001b[39mif\u001b[39;00m \u001b[39mnot\u001b[39;00m \u001b[39misinstance\u001b[39m(\u001b[39mself\u001b[39m\u001b[39m.\u001b[39m_data, PandasIndexingAdapter):\n\u001b[0;32m-> 2867\u001b[0m     \u001b[39mself\u001b[39m\u001b[39m.\u001b[39m_data \u001b[39m=\u001b[39m PandasIndexingAdapter(\u001b[39mself\u001b[39;49m\u001b[39m.\u001b[39;49m_data)\n",
      "File \u001b[0;32m/work/bb1153/b382267/mamba_dir/mambaforge/envs/aqua/lib/python3.10/site-packages/xarray/core/indexing.py:1475\u001b[0m, in \u001b[0;36mPandasIndexingAdapter.__init__\u001b[0;34m(self, array, dtype)\u001b[0m\n\u001b[1;32m   1472\u001b[0m \u001b[39mdef\u001b[39;00m \u001b[39m__init__\u001b[39m(\u001b[39mself\u001b[39m, array: pd\u001b[39m.\u001b[39mIndex, dtype: DTypeLike \u001b[39m=\u001b[39m \u001b[39mNone\u001b[39;00m):\n\u001b[1;32m   1473\u001b[0m     \u001b[39mfrom\u001b[39;00m \u001b[39mxarray\u001b[39;00m\u001b[39m.\u001b[39;00m\u001b[39mcore\u001b[39;00m\u001b[39m.\u001b[39;00m\u001b[39mindexes\u001b[39;00m \u001b[39mimport\u001b[39;00m safe_cast_to_index\n\u001b[0;32m-> 1475\u001b[0m     \u001b[39mself\u001b[39m\u001b[39m.\u001b[39marray \u001b[39m=\u001b[39m safe_cast_to_index(array)\n\u001b[1;32m   1477\u001b[0m     \u001b[39mif\u001b[39;00m dtype \u001b[39mis\u001b[39;00m \u001b[39mNone\u001b[39;00m:\n\u001b[1;32m   1478\u001b[0m         \u001b[39mself\u001b[39m\u001b[39m.\u001b[39m_dtype \u001b[39m=\u001b[39m get_valid_numpy_dtype(array)\n",
      "File \u001b[0;32m/work/bb1153/b382267/mamba_dir/mambaforge/envs/aqua/lib/python3.10/site-packages/xarray/core/indexes.py:190\u001b[0m, in \u001b[0;36msafe_cast_to_index\u001b[0;34m(array)\u001b[0m\n\u001b[1;32m    180\u001b[0m             emit_user_level_warning(\n\u001b[1;32m    181\u001b[0m                 (\n\u001b[1;32m    182\u001b[0m                     \u001b[39m\"\u001b[39m\u001b[39m`pandas.Index` does not support the `float16` dtype.\u001b[39m\u001b[39m\"\u001b[39m\n\u001b[0;32m   (...)\u001b[0m\n\u001b[1;32m    186\u001b[0m                 category\u001b[39m=\u001b[39m\u001b[39mDeprecationWarning\u001b[39;00m,\n\u001b[1;32m    187\u001b[0m             )\n\u001b[1;32m    188\u001b[0m             kwargs[\u001b[39m\"\u001b[39m\u001b[39mdtype\u001b[39m\u001b[39m\"\u001b[39m] \u001b[39m=\u001b[39m \u001b[39m\"\u001b[39m\u001b[39mfloat64\u001b[39m\u001b[39m\"\u001b[39m\n\u001b[0;32m--> 190\u001b[0m     index \u001b[39m=\u001b[39m pd\u001b[39m.\u001b[39mIndex(np\u001b[39m.\u001b[39;49masarray(array), \u001b[39m*\u001b[39m\u001b[39m*\u001b[39mkwargs)\n\u001b[1;32m    192\u001b[0m \u001b[39mreturn\u001b[39;00m _maybe_cast_to_cftimeindex(index)\n",
      "File \u001b[0;32m/work/bb1153/b382267/mamba_dir/mambaforge/envs/aqua/lib/python3.10/site-packages/dask/array/core.py:1701\u001b[0m, in \u001b[0;36mArray.__array__\u001b[0;34m(self, dtype, **kwargs)\u001b[0m\n\u001b[1;32m   1700\u001b[0m \u001b[39mdef\u001b[39;00m \u001b[39m__array__\u001b[39m(\u001b[39mself\u001b[39m, dtype\u001b[39m=\u001b[39m\u001b[39mNone\u001b[39;00m, \u001b[39m*\u001b[39m\u001b[39m*\u001b[39mkwargs):\n\u001b[0;32m-> 1701\u001b[0m     x \u001b[39m=\u001b[39m \u001b[39mself\u001b[39;49m\u001b[39m.\u001b[39;49mcompute()\n\u001b[1;32m   1702\u001b[0m     \u001b[39mif\u001b[39;00m dtype \u001b[39mand\u001b[39;00m x\u001b[39m.\u001b[39mdtype \u001b[39m!=\u001b[39m dtype:\n\u001b[1;32m   1703\u001b[0m         x \u001b[39m=\u001b[39m x\u001b[39m.\u001b[39mastype(dtype)\n",
      "File \u001b[0;32m/work/bb1153/b382267/mamba_dir/mambaforge/envs/aqua/lib/python3.10/site-packages/dask/base.py:314\u001b[0m, in \u001b[0;36mDaskMethodsMixin.compute\u001b[0;34m(self, **kwargs)\u001b[0m\n\u001b[1;32m    290\u001b[0m \u001b[39mdef\u001b[39;00m \u001b[39mcompute\u001b[39m(\u001b[39mself\u001b[39m, \u001b[39m*\u001b[39m\u001b[39m*\u001b[39mkwargs):\n\u001b[1;32m    291\u001b[0m \u001b[39m    \u001b[39m\u001b[39m\"\"\"Compute this dask collection\u001b[39;00m\n\u001b[1;32m    292\u001b[0m \n\u001b[1;32m    293\u001b[0m \u001b[39m    This turns a lazy Dask collection into its in-memory equivalent.\u001b[39;00m\n\u001b[0;32m   (...)\u001b[0m\n\u001b[1;32m    312\u001b[0m \u001b[39m    dask.compute\u001b[39;00m\n\u001b[1;32m    313\u001b[0m \u001b[39m    \"\"\"\u001b[39;00m\n\u001b[0;32m--> 314\u001b[0m     (result,) \u001b[39m=\u001b[39m compute(\u001b[39mself\u001b[39;49m, traverse\u001b[39m=\u001b[39;49m\u001b[39mFalse\u001b[39;49;00m, \u001b[39m*\u001b[39;49m\u001b[39m*\u001b[39;49mkwargs)\n\u001b[1;32m    315\u001b[0m     \u001b[39mreturn\u001b[39;00m result\n",
      "File \u001b[0;32m/work/bb1153/b382267/mamba_dir/mambaforge/envs/aqua/lib/python3.10/site-packages/dask/base.py:599\u001b[0m, in \u001b[0;36mcompute\u001b[0;34m(traverse, optimize_graph, scheduler, get, *args, **kwargs)\u001b[0m\n\u001b[1;32m    596\u001b[0m     keys\u001b[39m.\u001b[39mappend(x\u001b[39m.\u001b[39m__dask_keys__())\n\u001b[1;32m    597\u001b[0m     postcomputes\u001b[39m.\u001b[39mappend(x\u001b[39m.\u001b[39m__dask_postcompute__())\n\u001b[0;32m--> 599\u001b[0m results \u001b[39m=\u001b[39m schedule(dsk, keys, \u001b[39m*\u001b[39;49m\u001b[39m*\u001b[39;49mkwargs)\n\u001b[1;32m    600\u001b[0m \u001b[39mreturn\u001b[39;00m repack([f(r, \u001b[39m*\u001b[39ma) \u001b[39mfor\u001b[39;00m r, (f, a) \u001b[39min\u001b[39;00m \u001b[39mzip\u001b[39m(results, postcomputes)])\n",
      "File \u001b[0;32m/work/bb1153/b382267/mamba_dir/mambaforge/envs/aqua/lib/python3.10/site-packages/dask/threaded.py:89\u001b[0m, in \u001b[0;36mget\u001b[0;34m(dsk, keys, cache, num_workers, pool, **kwargs)\u001b[0m\n\u001b[1;32m     86\u001b[0m     \u001b[39melif\u001b[39;00m \u001b[39misinstance\u001b[39m(pool, multiprocessing\u001b[39m.\u001b[39mpool\u001b[39m.\u001b[39mPool):\n\u001b[1;32m     87\u001b[0m         pool \u001b[39m=\u001b[39m MultiprocessingPoolExecutor(pool)\n\u001b[0;32m---> 89\u001b[0m results \u001b[39m=\u001b[39m get_async(\n\u001b[1;32m     90\u001b[0m     pool\u001b[39m.\u001b[39;49msubmit,\n\u001b[1;32m     91\u001b[0m     pool\u001b[39m.\u001b[39;49m_max_workers,\n\u001b[1;32m     92\u001b[0m     dsk,\n\u001b[1;32m     93\u001b[0m     keys,\n\u001b[1;32m     94\u001b[0m     cache\u001b[39m=\u001b[39;49mcache,\n\u001b[1;32m     95\u001b[0m     get_id\u001b[39m=\u001b[39;49m_thread_get_id,\n\u001b[1;32m     96\u001b[0m     pack_exception\u001b[39m=\u001b[39;49mpack_exception,\n\u001b[1;32m     97\u001b[0m     \u001b[39m*\u001b[39;49m\u001b[39m*\u001b[39;49mkwargs,\n\u001b[1;32m     98\u001b[0m )\n\u001b[1;32m    100\u001b[0m \u001b[39m# Cleanup pools associated to dead threads\u001b[39;00m\n\u001b[1;32m    101\u001b[0m \u001b[39mwith\u001b[39;00m pools_lock:\n",
      "File \u001b[0;32m/work/bb1153/b382267/mamba_dir/mambaforge/envs/aqua/lib/python3.10/site-packages/dask/local.py:499\u001b[0m, in \u001b[0;36mget_async\u001b[0;34m(submit, num_workers, dsk, result, cache, get_id, rerun_exceptions_locally, pack_exception, raise_exception, callbacks, dumps, loads, chunksize, **kwargs)\u001b[0m\n\u001b[1;32m    497\u001b[0m \u001b[39m# Main loop, wait on tasks to finish, insert new ones\u001b[39;00m\n\u001b[1;32m    498\u001b[0m \u001b[39mwhile\u001b[39;00m state[\u001b[39m\"\u001b[39m\u001b[39mwaiting\u001b[39m\u001b[39m\"\u001b[39m] \u001b[39mor\u001b[39;00m state[\u001b[39m\"\u001b[39m\u001b[39mready\u001b[39m\u001b[39m\"\u001b[39m] \u001b[39mor\u001b[39;00m state[\u001b[39m\"\u001b[39m\u001b[39mrunning\u001b[39m\u001b[39m\"\u001b[39m]:\n\u001b[0;32m--> 499\u001b[0m     fire_tasks(chunksize)\n\u001b[1;32m    500\u001b[0m     \u001b[39mfor\u001b[39;00m key, res_info, failed \u001b[39min\u001b[39;00m queue_get(queue)\u001b[39m.\u001b[39mresult():\n\u001b[1;32m    501\u001b[0m         \u001b[39mif\u001b[39;00m failed:\n",
      "File \u001b[0;32m/work/bb1153/b382267/mamba_dir/mambaforge/envs/aqua/lib/python3.10/site-packages/dask/local.py:494\u001b[0m, in \u001b[0;36mget_async.<locals>.fire_tasks\u001b[0;34m(chunksize)\u001b[0m\n\u001b[1;32m    492\u001b[0m \u001b[39mif\u001b[39;00m \u001b[39mnot\u001b[39;00m each_args:\n\u001b[1;32m    493\u001b[0m     \u001b[39mbreak\u001b[39;00m\n\u001b[0;32m--> 494\u001b[0m fut \u001b[39m=\u001b[39m submit(batch_execute_tasks, each_args)\n\u001b[1;32m    495\u001b[0m fut\u001b[39m.\u001b[39madd_done_callback(queue\u001b[39m.\u001b[39mput)\n",
      "File \u001b[0;32m/work/bb1153/b382267/mamba_dir/mambaforge/envs/aqua/lib/python3.10/concurrent/futures/thread.py:176\u001b[0m, in \u001b[0;36mThreadPoolExecutor.submit\u001b[0;34m(self, fn, *args, **kwargs)\u001b[0m\n\u001b[1;32m    173\u001b[0m w \u001b[39m=\u001b[39m _WorkItem(f, fn, args, kwargs)\n\u001b[1;32m    175\u001b[0m \u001b[39mself\u001b[39m\u001b[39m.\u001b[39m_work_queue\u001b[39m.\u001b[39mput(w)\n\u001b[0;32m--> 176\u001b[0m \u001b[39mself\u001b[39;49m\u001b[39m.\u001b[39;49m_adjust_thread_count()\n\u001b[1;32m    177\u001b[0m \u001b[39mreturn\u001b[39;00m f\n",
      "File \u001b[0;32m/work/bb1153/b382267/mamba_dir/mambaforge/envs/aqua/lib/python3.10/concurrent/futures/thread.py:199\u001b[0m, in \u001b[0;36mThreadPoolExecutor._adjust_thread_count\u001b[0;34m(self)\u001b[0m\n\u001b[1;32m    192\u001b[0m thread_name \u001b[39m=\u001b[39m \u001b[39m'\u001b[39m\u001b[39m%s\u001b[39;00m\u001b[39m_\u001b[39m\u001b[39m%d\u001b[39;00m\u001b[39m'\u001b[39m \u001b[39m%\u001b[39m (\u001b[39mself\u001b[39m\u001b[39m.\u001b[39m_thread_name_prefix \u001b[39mor\u001b[39;00m \u001b[39mself\u001b[39m,\n\u001b[1;32m    193\u001b[0m                          num_threads)\n\u001b[1;32m    194\u001b[0m t \u001b[39m=\u001b[39m threading\u001b[39m.\u001b[39mThread(name\u001b[39m=\u001b[39mthread_name, target\u001b[39m=\u001b[39m_worker,\n\u001b[1;32m    195\u001b[0m                      args\u001b[39m=\u001b[39m(weakref\u001b[39m.\u001b[39mref(\u001b[39mself\u001b[39m, weakref_cb),\n\u001b[1;32m    196\u001b[0m                            \u001b[39mself\u001b[39m\u001b[39m.\u001b[39m_work_queue,\n\u001b[1;32m    197\u001b[0m                            \u001b[39mself\u001b[39m\u001b[39m.\u001b[39m_initializer,\n\u001b[1;32m    198\u001b[0m                            \u001b[39mself\u001b[39m\u001b[39m.\u001b[39m_initargs))\n\u001b[0;32m--> 199\u001b[0m t\u001b[39m.\u001b[39;49mstart()\n\u001b[1;32m    200\u001b[0m \u001b[39mself\u001b[39m\u001b[39m.\u001b[39m_threads\u001b[39m.\u001b[39madd(t)\n\u001b[1;32m    201\u001b[0m _threads_queues[t] \u001b[39m=\u001b[39m \u001b[39mself\u001b[39m\u001b[39m.\u001b[39m_work_queue\n",
      "File \u001b[0;32m/work/bb1153/b382267/mamba_dir/mambaforge/envs/aqua/lib/python3.10/threading.py:935\u001b[0m, in \u001b[0;36mThread.start\u001b[0;34m(self)\u001b[0m\n\u001b[1;32m    933\u001b[0m     _limbo[\u001b[39mself\u001b[39m] \u001b[39m=\u001b[39m \u001b[39mself\u001b[39m\n\u001b[1;32m    934\u001b[0m \u001b[39mtry\u001b[39;00m:\n\u001b[0;32m--> 935\u001b[0m     _start_new_thread(\u001b[39mself\u001b[39;49m\u001b[39m.\u001b[39;49m_bootstrap, ())\n\u001b[1;32m    936\u001b[0m \u001b[39mexcept\u001b[39;00m \u001b[39mException\u001b[39;00m:\n\u001b[1;32m    937\u001b[0m     \u001b[39mwith\u001b[39;00m _active_limbo_lock:\n",
      "\u001b[0;31mRuntimeError\u001b[0m: can't start new thread"
     ]
    }
   ],
   "source": [
    "reader = Reader(model=\"ERA5\", exp=\"daily\", source=\"an_combined\"  )\n",
    "era_test = reader.retrieve()\n",
    "era5_test = reader.retrieve(fix=False)"
   ]
  },
  {
   "cell_type": "code",
   "execution_count": null,
   "metadata": {},
   "outputs": [],
   "source": [
    "reader = Reader(model=\"ERA5\", exp=\"daily\", source=\"tp\"  )\n",
    "era_test = reader.retrieve()\n",
    "era5_test = reader.retrieve(fix=False)"
   ]
  },
  {
   "cell_type": "code",
   "execution_count": 4,
   "metadata": {},
   "outputs": [
    {
     "name": "stderr",
     "output_type": "stream",
     "text": [
      "2023-05-19 16:36:40 :: Reader :: WARNING  -> Source areas file not found: /work/bb1153/b382075/nextgems/weights/cell_area_ERA5_daily_tp.nc\n",
      "2023-05-19 16:36:40 :: Reader :: WARNING  -> Attempting to generate it ...\n",
      "2023-05-19 16:36:40 :: Reader :: WARNING  -> Source grid: /work/bb1153/b382075/nextgems/grids/n320_unstructured.nc\n",
      "2023-05-19 16:36:41 :: Reader :: WARNING  -> Success!\n"
     ]
    }
   ],
   "source": [
    "reader = Reader(model=\"ERA5\", exp=\"daily\", source=\"tp\"  )\n",
    "era_test = reader.retrieve()\n",
    "era5_test = reader.retrieve(fix=False)"
   ]
  },
  {
   "cell_type": "code",
   "execution_count": 3,
   "metadata": {},
   "outputs": [
    {
     "name": "stderr",
     "output_type": "stream",
     "text": [
      "2023-05-19 16:36:10 :: Reader :: WARNING  -> Source areas file not found: /work/bb1153/b382075/nextgems/weights/cell_area_ERA5_daily_t2m.nc\n",
      "2023-05-19 16:36:10 :: Reader :: WARNING  -> Attempting to generate it ...\n",
      "2023-05-19 16:36:10 :: Reader :: WARNING  -> Source grid: /work/bb1153/b382075/nextgems/grids/n320_unstructured.nc\n",
      "2023-05-19 16:36:11 :: Reader :: WARNING  -> Success!\n"
     ]
    }
   ],
   "source": [
    "reader = Reader(model=\"ERA5\", exp=\"daily\", source=\"t2m\"  )\n",
    "era_test = reader.retrieve()\n",
    "era5_test = reader.retrieve(fix=False)"
   ]
  },
  {
   "attachments": {},
   "cell_type": "markdown",
   "metadata": {},
   "source": [
    "## MSWEP load"
   ]
  },
  {
   "attachments": {},
   "cell_type": "markdown",
   "metadata": {},
   "source": [
    "### Monthly"
   ]
  },
  {
   "cell_type": "code",
   "execution_count": 2,
   "metadata": {},
   "outputs": [
    {
     "name": "stderr",
     "output_type": "stream",
     "text": [
      "2023-05-19 16:19:57 :: Reader :: WARNING  -> Source areas file not found: /work/bb1153/b382075/nextgems/weights/cell_area_MSWEP_monthly_1979-2020.nc\n",
      "2023-05-19 16:19:57 :: Reader :: WARNING  -> Attempting to generate it ...\n",
      "2023-05-19 16:19:57 :: Reader :: WARNING  -> Source grid: /tmp/tmp8aubhe53\n",
      "2023-05-19 16:20:03 :: Reader :: WARNING  -> Success!\n"
     ]
    }
   ],
   "source": [
    "reader = Reader(model=\"MSWEP\", exp=\"monthly\", source=\"1979-2020\"  )\n",
    "MSWEP = reader.retrieve()\n",
    "MSWEP_not_fixed = reader.retrieve(fix=False)"
   ]
  },
  {
   "attachments": {},
   "cell_type": "markdown",
   "metadata": {},
   "source": [
    "### Or with old MSWEP catalogue"
   ]
  },
  {
   "cell_type": "code",
   "execution_count": 3,
   "metadata": {},
   "outputs": [],
   "source": [
    "reader = Reader(model=\"MSWEP\", exp=\"past\", source=\"monthly\"  )"
   ]
  },
  {
   "attachments": {},
   "cell_type": "markdown",
   "metadata": {},
   "source": [
    "### Daily"
   ]
  },
  {
   "cell_type": "code",
   "execution_count": 3,
   "metadata": {},
   "outputs": [
    {
     "name": "stderr",
     "output_type": "stream",
     "text": [
      "2023-05-19 16:20:59 :: Reader :: WARNING  -> Source areas file not found: /work/bb1153/b382075/nextgems/weights/cell_area_MSWEP_daily_1979-1989.nc\n",
      "2023-05-19 16:20:59 :: Reader :: WARNING  -> Attempting to generate it ...\n",
      "2023-05-19 16:20:59 :: Reader :: WARNING  -> Source grid: /tmp/tmpk17tztza\n",
      "2023-05-19 16:21:02 :: Reader :: WARNING  -> Success!\n"
     ]
    }
   ],
   "source": [
    "reader = Reader(model=\"MSWEP\", exp=\"daily\", source=\"1979-1989\"  )\n",
    "MSWEP = reader.retrieve()\n",
    "MSWEP_not_fixed = reader.retrieve(fix=False)"
   ]
  },
  {
   "cell_type": "code",
   "execution_count": 4,
   "metadata": {},
   "outputs": [
    {
     "name": "stderr",
     "output_type": "stream",
     "text": [
      "2023-05-19 16:21:23 :: Reader :: WARNING  -> Source areas file not found: /work/bb1153/b382075/nextgems/weights/cell_area_MSWEP_daily_1990-1999.nc\n",
      "2023-05-19 16:21:23 :: Reader :: WARNING  -> Attempting to generate it ...\n",
      "2023-05-19 16:21:23 :: Reader :: WARNING  -> Source grid: /tmp/tmpgejja868\n",
      "2023-05-19 16:21:26 :: Reader :: WARNING  -> Success!\n"
     ]
    }
   ],
   "source": [
    "reader = Reader(model=\"MSWEP\", exp=\"daily\", source=\"1990-1999\"  )\n",
    "MSWEP = reader.retrieve()\n",
    "MSWEP_not_fixed = reader.retrieve(fix=False)"
   ]
  },
  {
   "cell_type": "code",
   "execution_count": 5,
   "metadata": {},
   "outputs": [
    {
     "name": "stderr",
     "output_type": "stream",
     "text": [
      "2023-05-19 16:21:45 :: Reader :: WARNING  -> Source areas file not found: /work/bb1153/b382075/nextgems/weights/cell_area_MSWEP_daily_2000-2009.nc\n",
      "2023-05-19 16:21:45 :: Reader :: WARNING  -> Attempting to generate it ...\n",
      "2023-05-19 16:21:45 :: Reader :: WARNING  -> Source grid: /tmp/tmp4du2x3xc\n",
      "2023-05-19 16:21:48 :: Reader :: WARNING  -> Success!\n"
     ]
    }
   ],
   "source": [
    "reader = Reader(model=\"MSWEP\", exp=\"daily\", source=\"2000-2009\"  )\n",
    "MSWEP = reader.retrieve()\n",
    "MSWEP_not_fixed = reader.retrieve(fix=False)"
   ]
  },
  {
   "cell_type": "code",
   "execution_count": 6,
   "metadata": {},
   "outputs": [
    {
     "name": "stderr",
     "output_type": "stream",
     "text": [
      "2023-05-19 16:22:09 :: Reader :: WARNING  -> Source areas file not found: /work/bb1153/b382075/nextgems/weights/cell_area_MSWEP_daily_2010-2020.nc\n",
      "2023-05-19 16:22:09 :: Reader :: WARNING  -> Attempting to generate it ...\n",
      "2023-05-19 16:22:09 :: Reader :: WARNING  -> Source grid: /tmp/tmprj341x1l\n",
      "2023-05-19 16:22:11 :: Reader :: WARNING  -> Success!\n"
     ]
    }
   ],
   "source": [
    "reader = Reader(model=\"MSWEP\", exp=\"daily\", source=\"2010-2020\"  )\n",
    "MSWEP = reader.retrieve()\n",
    "MSWEP_not_fixed = reader.retrieve(fix=False)"
   ]
  },
  {
   "attachments": {},
   "cell_type": "markdown",
   "metadata": {},
   "source": [
    "### Or by single year (from 1979 till 2020)"
   ]
  },
  {
   "cell_type": "code",
   "execution_count": 2,
   "metadata": {},
   "outputs": [
    {
     "name": "stderr",
     "output_type": "stream",
     "text": [
      "2023-05-19 18:09:14 :: Reader :: WARNING  -> Source areas file not found: /work/bb1153/b382075/nextgems/weights/cell_area_MSWEP_daily_y1979.nc\n",
      "2023-05-19 18:09:14 :: Reader :: WARNING  -> Attempting to generate it ...\n",
      "2023-05-19 18:09:14 :: Reader :: WARNING  -> Source grid: /tmp/tmpx882r46f\n",
      "2023-05-19 18:09:20 :: Reader :: WARNING  -> Success!\n"
     ]
    }
   ],
   "source": [
    "reader = Reader(model=\"MSWEP\", exp=\"daily\", source=\"y1979\"  )\n",
    "MSWEP = reader.retrieve()\n",
    "MSWEP_not_fixed = reader.retrieve(fix=False)"
   ]
  },
  {
   "cell_type": "code",
   "execution_count": 3,
   "metadata": {},
   "outputs": [
    {
     "name": "stderr",
     "output_type": "stream",
     "text": [
      "2023-05-19 18:09:42 :: Reader :: WARNING  -> Source areas file not found: /work/bb1153/b382075/nextgems/weights/cell_area_MSWEP_daily_y2020.nc\n",
      "2023-05-19 18:09:42 :: Reader :: WARNING  -> Attempting to generate it ...\n",
      "2023-05-19 18:09:42 :: Reader :: WARNING  -> Source grid: /tmp/tmp3c_d3gi7\n",
      "2023-05-19 18:09:44 :: Reader :: WARNING  -> Success!\n"
     ]
    }
   ],
   "source": [
    "reader = Reader(model=\"MSWEP\", exp=\"daily\", source=\"y2020\"  )\n",
    "MSWEP = reader.retrieve()\n",
    "MSWEP_not_fixed = reader.retrieve(fix=False)"
   ]
  },
  {
   "attachments": {},
   "cell_type": "markdown",
   "metadata": {},
   "source": [
    "### 3hourly"
   ]
  },
  {
   "cell_type": "code",
   "execution_count": 2,
   "metadata": {},
   "outputs": [
    {
     "name": "stderr",
     "output_type": "stream",
     "text": [
      "2023-05-19 17:36:14 :: Reader :: WARNING  -> Source areas file not found: /work/bb1153/b382075/nextgems/weights/cell_area_MSWEP_3hourly_y1979.nc\n",
      "2023-05-19 17:36:14 :: Reader :: WARNING  -> Attempting to generate it ...\n",
      "2023-05-19 17:36:14 :: Reader :: WARNING  -> Source grid: /tmp/tmpu0lnfo14\n",
      "2023-05-19 17:36:20 :: Reader :: WARNING  -> Success!\n"
     ]
    }
   ],
   "source": [
    "reader = Reader(model=\"MSWEP\", exp=\"3hourly\", source=\"y1979\"  )\n",
    "MSWEP = reader.retrieve()\n",
    "MSWEP_not_fixed = reader.retrieve(fix=False)"
   ]
  },
  {
   "cell_type": "code",
   "execution_count": 3,
   "metadata": {},
   "outputs": [
    {
     "name": "stderr",
     "output_type": "stream",
     "text": [
      "2023-05-19 17:37:54 :: Reader :: WARNING  -> Source areas file not found: /work/bb1153/b382075/nextgems/weights/cell_area_MSWEP_3hourly_y2000.nc\n",
      "2023-05-19 17:37:54 :: Reader :: WARNING  -> Attempting to generate it ...\n",
      "2023-05-19 17:37:54 :: Reader :: WARNING  -> Source grid: /tmp/tmp_ak3f7fi\n",
      "2023-05-19 17:37:57 :: Reader :: WARNING  -> Success!\n"
     ]
    }
   ],
   "source": [
    "reader = Reader(model=\"MSWEP\", exp=\"3hourly\", source=\"y2000\"  )\n",
    "MSWEP = reader.retrieve()\n",
    "MSWEP_not_fixed = reader.retrieve(fix=False)"
   ]
  },
  {
   "cell_type": "code",
   "execution_count": 4,
   "metadata": {},
   "outputs": [
    {
     "name": "stderr",
     "output_type": "stream",
     "text": [
      "2023-05-19 17:39:33 :: Reader :: WARNING  -> Source areas file not found: /work/bb1153/b382075/nextgems/weights/cell_area_MSWEP_3hourly_y2020.nc\n",
      "2023-05-19 17:39:33 :: Reader :: WARNING  -> Attempting to generate it ...\n",
      "2023-05-19 17:39:33 :: Reader :: WARNING  -> Source grid: /tmp/tmpctqkhviy\n",
      "2023-05-19 17:39:36 :: Reader :: WARNING  -> Success!\n"
     ]
    }
   ],
   "source": [
    "reader = Reader(model=\"MSWEP\", exp=\"3hourly\", source=\"y2020\"  )\n",
    "MSWEP = reader.retrieve()\n",
    "MSWEP_not_fixed = reader.retrieve(fix=False)"
   ]
  },
  {
   "cell_type": "code",
   "execution_count": null,
   "metadata": {},
   "outputs": [],
   "source": []
  }
 ],
 "metadata": {
  "kernelspec": {
   "display_name": "aqua",
   "language": "python",
   "name": "python3"
  },
  "language_info": {
   "codemirror_mode": {
    "name": "ipython",
    "version": 3
   },
   "file_extension": ".py",
   "mimetype": "text/x-python",
   "name": "python",
   "nbconvert_exporter": "python",
   "pygments_lexer": "ipython3",
   "version": "3.10.11"
  },
  "orig_nbformat": 4
 },
 "nbformat": 4,
 "nbformat_minor": 2
}
