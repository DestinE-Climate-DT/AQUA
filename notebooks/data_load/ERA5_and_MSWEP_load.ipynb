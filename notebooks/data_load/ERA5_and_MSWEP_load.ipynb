{
 "cells": [
  {
   "cell_type": "code",
   "execution_count": 1,
   "metadata": {},
   "outputs": [],
   "source": [
    "from aqua import Reader\n",
    "from aqua.reader import catalogue"
   ]
  },
  {
   "cell_type": "code",
   "execution_count": null,
   "metadata": {},
   "outputs": [],
   "source": [
    "catalogue()"
   ]
  },
  {
   "attachments": {},
   "cell_type": "markdown",
   "metadata": {},
   "source": [
    "## ERA5 load"
   ]
  },
  {
   "cell_type": "code",
   "execution_count": 4,
   "metadata": {},
   "outputs": [
    {
     "name": "stderr",
     "output_type": "stream",
     "text": [
      "2023-05-19 16:36:40 :: Reader :: WARNING  -> Source areas file not found: /work/bb1153/b382075/nextgems/weights/cell_area_ERA5_daily_tp.nc\n",
      "2023-05-19 16:36:40 :: Reader :: WARNING  -> Attempting to generate it ...\n",
      "2023-05-19 16:36:40 :: Reader :: WARNING  -> Source grid: /work/bb1153/b382075/nextgems/grids/n320_unstructured.nc\n",
      "2023-05-19 16:36:41 :: Reader :: WARNING  -> Success!\n"
     ]
    }
   ],
   "source": [
    "reader = Reader(model=\"ERA5\", exp=\"daily\", source=\"tp\"  )\n",
    "era_test = reader.retrieve()\n",
    "era5_test = reader.retrieve(fix=False)"
   ]
  },
  {
   "cell_type": "code",
   "execution_count": 3,
   "metadata": {},
   "outputs": [
    {
     "name": "stderr",
     "output_type": "stream",
     "text": [
      "2023-05-19 16:36:10 :: Reader :: WARNING  -> Source areas file not found: /work/bb1153/b382075/nextgems/weights/cell_area_ERA5_daily_t2m.nc\n",
      "2023-05-19 16:36:10 :: Reader :: WARNING  -> Attempting to generate it ...\n",
      "2023-05-19 16:36:10 :: Reader :: WARNING  -> Source grid: /work/bb1153/b382075/nextgems/grids/n320_unstructured.nc\n",
      "2023-05-19 16:36:11 :: Reader :: WARNING  -> Success!\n"
     ]
    }
   ],
   "source": [
    "reader = Reader(model=\"ERA5\", exp=\"daily\", source=\"t2m\"  )\n",
    "era_test = reader.retrieve()\n",
    "era5_test = reader.retrieve(fix=False)"
   ]
  },
  {
   "attachments": {},
   "cell_type": "markdown",
   "metadata": {},
   "source": [
    "## MSWEP load"
   ]
  },
  {
   "attachments": {},
   "cell_type": "markdown",
   "metadata": {},
   "source": [
    "### Monthly"
   ]
  },
  {
   "cell_type": "code",
   "execution_count": 2,
   "metadata": {},
   "outputs": [
    {
     "name": "stderr",
     "output_type": "stream",
     "text": [
      "2023-05-19 16:19:57 :: Reader :: WARNING  -> Source areas file not found: /work/bb1153/b382075/nextgems/weights/cell_area_MSWEP_monthly_1979-2020.nc\n",
      "2023-05-19 16:19:57 :: Reader :: WARNING  -> Attempting to generate it ...\n",
      "2023-05-19 16:19:57 :: Reader :: WARNING  -> Source grid: /tmp/tmp8aubhe53\n",
      "2023-05-19 16:20:03 :: Reader :: WARNING  -> Success!\n"
     ]
    }
   ],
   "source": [
    "reader = Reader(model=\"MSWEP\", exp=\"monthly\", source=\"1979-2020\"  )\n",
    "MSWEP = reader.retrieve()\n",
    "MSWEP_not_fixed = reader.retrieve(fix=False)"
   ]
  },
  {
   "attachments": {},
   "cell_type": "markdown",
   "metadata": {},
   "source": [
    "### Or with old MSWEP catalogue"
   ]
  },
  {
   "cell_type": "code",
   "execution_count": 3,
   "metadata": {},
   "outputs": [],
   "source": [
    "reader = Reader(model=\"MSWEP\", exp=\"past\", source=\"monthly\"  )"
   ]
  },
  {
   "attachments": {},
   "cell_type": "markdown",
   "metadata": {},
   "source": [
    "### Daily"
   ]
  },
  {
   "cell_type": "code",
   "execution_count": 3,
   "metadata": {},
   "outputs": [
    {
     "name": "stderr",
     "output_type": "stream",
     "text": [
      "2023-05-19 16:20:59 :: Reader :: WARNING  -> Source areas file not found: /work/bb1153/b382075/nextgems/weights/cell_area_MSWEP_daily_1979-1989.nc\n",
      "2023-05-19 16:20:59 :: Reader :: WARNING  -> Attempting to generate it ...\n",
      "2023-05-19 16:20:59 :: Reader :: WARNING  -> Source grid: /tmp/tmpk17tztza\n",
      "2023-05-19 16:21:02 :: Reader :: WARNING  -> Success!\n"
     ]
    }
   ],
   "source": [
    "reader = Reader(model=\"MSWEP\", exp=\"daily\", source=\"1979-1989\"  )\n",
    "MSWEP = reader.retrieve()\n",
    "MSWEP_not_fixed = reader.retrieve(fix=False)"
   ]
  },
  {
   "cell_type": "code",
   "execution_count": 4,
   "metadata": {},
   "outputs": [
    {
     "name": "stderr",
     "output_type": "stream",
     "text": [
      "2023-05-19 16:21:23 :: Reader :: WARNING  -> Source areas file not found: /work/bb1153/b382075/nextgems/weights/cell_area_MSWEP_daily_1990-1999.nc\n",
      "2023-05-19 16:21:23 :: Reader :: WARNING  -> Attempting to generate it ...\n",
      "2023-05-19 16:21:23 :: Reader :: WARNING  -> Source grid: /tmp/tmpgejja868\n",
      "2023-05-19 16:21:26 :: Reader :: WARNING  -> Success!\n"
     ]
    }
   ],
   "source": [
    "reader = Reader(model=\"MSWEP\", exp=\"daily\", source=\"1990-1999\"  )\n",
    "MSWEP = reader.retrieve()\n",
    "MSWEP_not_fixed = reader.retrieve(fix=False)"
   ]
  },
  {
   "cell_type": "code",
   "execution_count": 5,
   "metadata": {},
   "outputs": [
    {
     "name": "stderr",
     "output_type": "stream",
     "text": [
      "2023-05-19 16:21:45 :: Reader :: WARNING  -> Source areas file not found: /work/bb1153/b382075/nextgems/weights/cell_area_MSWEP_daily_2000-2009.nc\n",
      "2023-05-19 16:21:45 :: Reader :: WARNING  -> Attempting to generate it ...\n",
      "2023-05-19 16:21:45 :: Reader :: WARNING  -> Source grid: /tmp/tmp4du2x3xc\n",
      "2023-05-19 16:21:48 :: Reader :: WARNING  -> Success!\n"
     ]
    }
   ],
   "source": [
    "reader = Reader(model=\"MSWEP\", exp=\"daily\", source=\"2000-2009\"  )\n",
    "MSWEP = reader.retrieve()\n",
    "MSWEP_not_fixed = reader.retrieve(fix=False)"
   ]
  },
  {
   "cell_type": "code",
   "execution_count": 6,
   "metadata": {},
   "outputs": [
    {
     "name": "stderr",
     "output_type": "stream",
     "text": [
      "2023-05-19 16:22:09 :: Reader :: WARNING  -> Source areas file not found: /work/bb1153/b382075/nextgems/weights/cell_area_MSWEP_daily_2010-2020.nc\n",
      "2023-05-19 16:22:09 :: Reader :: WARNING  -> Attempting to generate it ...\n",
      "2023-05-19 16:22:09 :: Reader :: WARNING  -> Source grid: /tmp/tmprj341x1l\n",
      "2023-05-19 16:22:11 :: Reader :: WARNING  -> Success!\n"
     ]
    }
   ],
   "source": [
    "reader = Reader(model=\"MSWEP\", exp=\"daily\", source=\"2010-2020\"  )\n",
    "MSWEP = reader.retrieve()\n",
    "MSWEP_not_fixed = reader.retrieve(fix=False)"
   ]
  },
  {
   "attachments": {},
   "cell_type": "markdown",
   "metadata": {},
   "source": [
    "### Or by single year (from 1979 till 2020)"
   ]
  },
  {
   "cell_type": "code",
   "execution_count": 2,
   "metadata": {},
   "outputs": [
    {
     "name": "stderr",
     "output_type": "stream",
     "text": [
      "2023-05-19 18:09:14 :: Reader :: WARNING  -> Source areas file not found: /work/bb1153/b382075/nextgems/weights/cell_area_MSWEP_daily_y1979.nc\n",
      "2023-05-19 18:09:14 :: Reader :: WARNING  -> Attempting to generate it ...\n",
      "2023-05-19 18:09:14 :: Reader :: WARNING  -> Source grid: /tmp/tmpx882r46f\n",
      "2023-05-19 18:09:20 :: Reader :: WARNING  -> Success!\n"
     ]
    }
   ],
   "source": [
    "reader = Reader(model=\"MSWEP\", exp=\"daily\", source=\"y1979\"  )\n",
    "MSWEP = reader.retrieve()\n",
    "MSWEP_not_fixed = reader.retrieve(fix=False)"
   ]
  },
  {
   "cell_type": "code",
   "execution_count": 3,
   "metadata": {},
   "outputs": [
    {
     "name": "stderr",
     "output_type": "stream",
     "text": [
      "2023-05-19 18:09:42 :: Reader :: WARNING  -> Source areas file not found: /work/bb1153/b382075/nextgems/weights/cell_area_MSWEP_daily_y2020.nc\n",
      "2023-05-19 18:09:42 :: Reader :: WARNING  -> Attempting to generate it ...\n",
      "2023-05-19 18:09:42 :: Reader :: WARNING  -> Source grid: /tmp/tmp3c_d3gi7\n",
      "2023-05-19 18:09:44 :: Reader :: WARNING  -> Success!\n"
     ]
    }
   ],
   "source": [
    "reader = Reader(model=\"MSWEP\", exp=\"daily\", source=\"y2020\"  )\n",
    "MSWEP = reader.retrieve()\n",
    "MSWEP_not_fixed = reader.retrieve(fix=False)"
   ]
  },
  {
   "attachments": {},
   "cell_type": "markdown",
   "metadata": {},
   "source": [
    "### 3hourly"
   ]
  },
  {
   "cell_type": "code",
   "execution_count": 2,
   "metadata": {},
   "outputs": [
    {
     "name": "stderr",
     "output_type": "stream",
     "text": [
      "2023-05-19 17:36:14 :: Reader :: WARNING  -> Source areas file not found: /work/bb1153/b382075/nextgems/weights/cell_area_MSWEP_3hourly_y1979.nc\n",
      "2023-05-19 17:36:14 :: Reader :: WARNING  -> Attempting to generate it ...\n",
      "2023-05-19 17:36:14 :: Reader :: WARNING  -> Source grid: /tmp/tmpu0lnfo14\n",
      "2023-05-19 17:36:20 :: Reader :: WARNING  -> Success!\n"
     ]
    }
   ],
   "source": [
    "reader = Reader(model=\"MSWEP\", exp=\"3hourly\", source=\"y1979\"  )\n",
    "MSWEP = reader.retrieve()\n",
    "MSWEP_not_fixed = reader.retrieve(fix=False)"
   ]
  },
  {
   "cell_type": "code",
   "execution_count": 3,
   "metadata": {},
   "outputs": [
    {
     "name": "stderr",
     "output_type": "stream",
     "text": [
      "2023-05-19 17:37:54 :: Reader :: WARNING  -> Source areas file not found: /work/bb1153/b382075/nextgems/weights/cell_area_MSWEP_3hourly_y2000.nc\n",
      "2023-05-19 17:37:54 :: Reader :: WARNING  -> Attempting to generate it ...\n",
      "2023-05-19 17:37:54 :: Reader :: WARNING  -> Source grid: /tmp/tmp_ak3f7fi\n",
      "2023-05-19 17:37:57 :: Reader :: WARNING  -> Success!\n"
     ]
    }
   ],
   "source": [
    "reader = Reader(model=\"MSWEP\", exp=\"3hourly\", source=\"y2000\"  )\n",
    "MSWEP = reader.retrieve()\n",
    "MSWEP_not_fixed = reader.retrieve(fix=False)"
   ]
  },
  {
   "cell_type": "code",
   "execution_count": 4,
   "metadata": {},
   "outputs": [
    {
     "name": "stderr",
     "output_type": "stream",
     "text": [
      "2023-05-19 17:39:33 :: Reader :: WARNING  -> Source areas file not found: /work/bb1153/b382075/nextgems/weights/cell_area_MSWEP_3hourly_y2020.nc\n",
      "2023-05-19 17:39:33 :: Reader :: WARNING  -> Attempting to generate it ...\n",
      "2023-05-19 17:39:33 :: Reader :: WARNING  -> Source grid: /tmp/tmpctqkhviy\n",
      "2023-05-19 17:39:36 :: Reader :: WARNING  -> Success!\n"
     ]
    }
   ],
   "source": [
    "reader = Reader(model=\"MSWEP\", exp=\"3hourly\", source=\"y2020\"  )\n",
    "MSWEP = reader.retrieve()\n",
    "MSWEP_not_fixed = reader.retrieve(fix=False)"
   ]
  },
  {
   "cell_type": "code",
   "execution_count": null,
   "metadata": {},
   "outputs": [],
   "source": []
  }
 ],
 "metadata": {
  "kernelspec": {
   "display_name": "aqua",
   "language": "python",
   "name": "python3"
  },
  "language_info": {
   "codemirror_mode": {
    "name": "ipython",
    "version": 3
   },
   "file_extension": ".py",
   "mimetype": "text/x-python",
   "name": "python",
   "nbconvert_exporter": "python",
   "pygments_lexer": "ipython3",
   "version": "3.10.11"
  },
  "orig_nbformat": 4
 },
 "nbformat": 4,
 "nbformat_minor": 2
}
