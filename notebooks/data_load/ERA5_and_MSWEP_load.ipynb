{
 "cells": [
  {
   "cell_type": "code",
   "execution_count": 1,
   "metadata": {},
   "outputs": [],
   "source": [
    "from aqua import Reader\n",
    "from aqua.reader import catalogue"
   ]
  },
  {
   "cell_type": "code",
   "execution_count": null,
   "metadata": {},
   "outputs": [],
   "source": [
    "catalogue()"
   ]
  },
  {
   "attachments": {},
   "cell_type": "markdown",
   "metadata": {},
   "source": [
    "## ERA5 load"
   ]
  },
  {
   "cell_type": "code",
   "execution_count": 2,
   "metadata": {},
   "outputs": [],
   "source": [
    "reader = Reader(model=\"ERA5\", exp=\"daily\", source=\"an_combined\"  )\n",
    "era_test = reader.retrieve()\n",
    "era5_test = reader.retrieve(fix=False)"
   ]
  },
  {
   "cell_type": "code",
   "execution_count": 3,
   "metadata": {},
   "outputs": [],
   "source": [
    "reader = Reader(model=\"ERA5\", exp=\"daily\", source=\"tp\"  )\n",
    "era_test = reader.retrieve()\n",
    "era5_test = reader.retrieve(fix=False)"
   ]
  },
  {
   "cell_type": "code",
   "execution_count": 4,
   "metadata": {},
   "outputs": [],
   "source": [
    "reader = Reader(model=\"ERA5\", exp=\"daily\", source=\"t2m\"  )\n",
    "era_test = reader.retrieve()\n",
    "era5_test = reader.retrieve(fix=False)"
   ]
  },
  {
   "attachments": {},
   "cell_type": "markdown",
   "metadata": {},
   "source": [
    "## MSWEP load"
   ]
  },
  {
   "attachments": {},
   "cell_type": "markdown",
   "metadata": {},
   "source": [
    "### Monthly"
   ]
  },
  {
   "cell_type": "code",
   "execution_count": 2,
   "metadata": {},
   "outputs": [
    {
     "name": "stderr",
     "output_type": "stream",
     "text": [
      "2023-05-23 03:10:31 :: Reader :: WARNING  -> Source areas file not found: /work/bb1153/b382075/nextgems/weights/cell_area_MSWEP_monthly_monthly.nc\n",
      "2023-05-23 03:10:31 :: Reader :: WARNING  -> Attempting to generate it ...\n",
      "2023-05-23 03:10:31 :: Reader :: WARNING  -> Source grid: /tmp/tmp7hola2_0\n",
      "2023-05-23 03:10:35 :: Reader :: WARNING  -> Success!\n"
     ]
    }
   ],
   "source": [
    "reader = Reader(model=\"MSWEP\", exp=\"monthly\", source=\"monthly\"  )\n",
    "MSWEP = reader.retrieve()\n",
    "MSWEP_not_fixed = reader.retrieve(fix=False)"
   ]
  },
  {
   "attachments": {},
   "cell_type": "markdown",
   "metadata": {},
   "source": [
    "### Or with old MSWEP catalogue"
   ]
  },
  {
   "cell_type": "code",
   "execution_count": 3,
   "metadata": {},
   "outputs": [],
   "source": [
    "reader = Reader(model=\"MSWEP\", exp=\"past\", source=\"monthly\"  )"
   ]
  },
  {
   "attachments": {},
   "cell_type": "markdown",
   "metadata": {},
   "source": [
    "### Daily, total"
   ]
  },
  {
   "cell_type": "code",
   "execution_count": 2,
   "metadata": {},
   "outputs": [],
   "source": [
    "reader = Reader(model=\"MSWEP\", exp=\"daily\", source=\"daily\"  )\n",
    "MSWEP_not_fixed = reader.retrieve(fix=False)"
   ]
  },
  {
   "cell_type": "code",
   "execution_count": 3,
   "metadata": {},
   "outputs": [
    {
     "name": "stderr",
     "output_type": "stream",
     "text": [
      "2023-05-23 02:56:51 :: Reader :: WARNING  -> Source areas file not found: /work/bb1153/b382075/nextgems/weights/cell_area_MSWEP_daily_daily.nc\n",
      "2023-05-23 02:56:51 :: Reader :: WARNING  -> Attempting to generate it ...\n",
      "2023-05-23 02:56:51 :: Reader :: WARNING  -> Source grid: /tmp/tmpm_v5p8cp\n",
      "2023-05-23 02:56:54 :: Reader :: WARNING  -> Success!\n"
     ]
    }
   ],
   "source": [
    "reader = Reader(model=\"MSWEP\", exp=\"daily\", source=\"daily\"  )\n",
    "MSWEP = reader.retrieve()\n",
    "MSWEP_not_fixed = reader.retrieve(fix=False)"
   ]
  },
  {
   "attachments": {},
   "cell_type": "markdown",
   "metadata": {},
   "source": [
    "### Or by single year (from 1979 till 2020)"
   ]
  },
  {
   "cell_type": "code",
   "execution_count": 3,
   "metadata": {},
   "outputs": [],
   "source": [
    "reader = Reader(model=\"MSWEP\", exp=\"daily\", source=\"y1979\"  )\n",
    "MSWEP = reader.retrieve()\n",
    "MSWEP_not_fixed = reader.retrieve(fix=False)"
   ]
  },
  {
   "cell_type": "code",
   "execution_count": 3,
   "metadata": {},
   "outputs": [
    {
     "name": "stderr",
     "output_type": "stream",
     "text": [
      "2023-05-19 18:09:42 :: Reader :: WARNING  -> Source areas file not found: /work/bb1153/b382075/nextgems/weights/cell_area_MSWEP_daily_y2020.nc\n",
      "2023-05-19 18:09:42 :: Reader :: WARNING  -> Attempting to generate it ...\n",
      "2023-05-19 18:09:42 :: Reader :: WARNING  -> Source grid: /tmp/tmp3c_d3gi7\n",
      "2023-05-19 18:09:44 :: Reader :: WARNING  -> Success!\n"
     ]
    }
   ],
   "source": [
    "reader = Reader(model=\"MSWEP\", exp=\"daily\", source=\"y2020\"  )\n",
    "MSWEP = reader.retrieve()\n",
    "MSWEP_not_fixed = reader.retrieve(fix=False)"
   ]
  },
  {
   "attachments": {},
   "cell_type": "markdown",
   "metadata": {},
   "source": [
    "### 3hourly"
   ]
  },
  {
   "cell_type": "code",
   "execution_count": 3,
   "metadata": {},
   "outputs": [],
   "source": [
    "reader = Reader(model=\"MSWEP\", exp=\"3hourly\", source=\"3hourly\"  )\n",
    "#MSWEP = reader.retrieve()\n",
    "MSWEP_not_fixed = reader.retrieve(fix=False)"
   ]
  },
  {
   "cell_type": "code",
   "execution_count": 4,
   "metadata": {},
   "outputs": [],
   "source": [
    "reader = Reader(model=\"MSWEP\", exp=\"3hourly\", source=\"y1979\"  )\n",
    "MSWEP = reader.retrieve()\n",
    "MSWEP_not_fixed = reader.retrieve(fix=False)"
   ]
  },
  {
   "cell_type": "code",
   "execution_count": 3,
   "metadata": {},
   "outputs": [
    {
     "name": "stderr",
     "output_type": "stream",
     "text": [
      "2023-05-19 17:37:54 :: Reader :: WARNING  -> Source areas file not found: /work/bb1153/b382075/nextgems/weights/cell_area_MSWEP_3hourly_y2000.nc\n",
      "2023-05-19 17:37:54 :: Reader :: WARNING  -> Attempting to generate it ...\n",
      "2023-05-19 17:37:54 :: Reader :: WARNING  -> Source grid: /tmp/tmp_ak3f7fi\n",
      "2023-05-19 17:37:57 :: Reader :: WARNING  -> Success!\n"
     ]
    }
   ],
   "source": [
    "reader = Reader(model=\"MSWEP\", exp=\"3hourly\", source=\"y2000\"  )\n",
    "MSWEP = reader.retrieve()\n",
    "MSWEP_not_fixed = reader.retrieve(fix=False)"
   ]
  },
  {
   "cell_type": "code",
   "execution_count": 4,
   "metadata": {},
   "outputs": [
    {
     "name": "stderr",
     "output_type": "stream",
     "text": [
      "2023-05-19 17:39:33 :: Reader :: WARNING  -> Source areas file not found: /work/bb1153/b382075/nextgems/weights/cell_area_MSWEP_3hourly_y2020.nc\n",
      "2023-05-19 17:39:33 :: Reader :: WARNING  -> Attempting to generate it ...\n",
      "2023-05-19 17:39:33 :: Reader :: WARNING  -> Source grid: /tmp/tmpctqkhviy\n",
      "2023-05-19 17:39:36 :: Reader :: WARNING  -> Success!\n"
     ]
    }
   ],
   "source": [
    "reader = Reader(model=\"MSWEP\", exp=\"3hourly\", source=\"y2020\"  )\n",
    "MSWEP = reader.retrieve()\n",
    "MSWEP_not_fixed = reader.retrieve(fix=False)"
   ]
  },
  {
   "cell_type": "code",
   "execution_count": null,
   "metadata": {},
   "outputs": [],
   "source": []
  }
 ],
 "metadata": {
  "kernelspec": {
   "display_name": "aqua",
   "language": "python",
   "name": "python3"
  },
  "language_info": {
   "codemirror_mode": {
    "name": "ipython",
    "version": 3
   },
   "file_extension": ".py",
   "mimetype": "text/x-python",
   "name": "python",
   "nbconvert_exporter": "python",
   "pygments_lexer": "ipython3",
   "version": "3.10.11"
  },
  "orig_nbformat": 4
 },
 "nbformat": 4,
 "nbformat_minor": 2
}
