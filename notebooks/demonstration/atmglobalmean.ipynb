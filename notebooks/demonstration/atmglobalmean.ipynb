{
 "cells": [
  {
   "cell_type": "markdown",
   "id": "39f85800-14d6-42c5-a2e3-d679e8b5232f",
   "metadata": {},
   "source": [
    "# Demonstrator notebook "
   ]
  },
  {
   "cell_type": "code",
   "execution_count": null,
   "id": "e35118e7-2df5-4e84-928f-283e205abae9",
   "metadata": {
    "tags": []
   },
   "outputs": [
    {
     "ename": "",
     "evalue": "",
     "output_type": "error",
     "traceback": [
      "\u001b[1;31mFailed to start the Kernel 'Python 3 (ipykernel) (atmglobalmean.ipynb)'. \n",
      "\u001b[1;31mView Jupyter <a href='command:jupyter.viewOutput'>log</a> for further details. Unable to get resolved server information for ms-toolsai.jupyter:_builtin.jupyterServerUrlProvider:1ad0cc23-f3fb-4037-86b7-9e08bcb84e2b"
     ]
    }
   ],
   "source": [
    "from aqua import Reader\n",
    "import sys\n",
    "sys.path.insert(0, '../../diagnostics')\n",
    "sys.path.insert(0, 'diagnostics')\n",
    "from atmglobalmean import seasonal_bias, compare_datasets_plev"
   ]
  },
  {
   "cell_type": "markdown",
   "id": "6a4adb45-3192-43b9-b6dd-0c5e1e00ac56",
   "metadata": {},
   "source": [
    "We are loading the datasets using the AQUA Reader functionality:"
   ]
  },
  {
   "cell_type": "code",
   "execution_count": null,
   "id": "fee9e437-64b0-4aca-b955-860bac491c65",
   "metadata": {
    "tags": []
   },
   "outputs": [
    {
     "ename": "",
     "evalue": "",
     "output_type": "error",
     "traceback": [
      "\u001b[1;31mFailed to start the Kernel 'Python 3 (ipykernel) (atmglobalmean.ipynb)'. \n",
      "\u001b[1;31mView Jupyter <a href='command:jupyter.viewOutput'>log</a> for further details. Unable to get resolved server information for ms-toolsai.jupyter:_builtin.jupyterServerUrlProvider:1ad0cc23-f3fb-4037-86b7-9e08bcb84e2b"
     ]
    }
   ],
   "source": [
    "# Loading ERA5 data\n",
    "reader_era5 = Reader(model=\"ERA5\", exp=\"era5\", source=\"monthly\")\n",
    "data_era5 = reader_era5.retrieve()\n",
    "\n",
    "# Loading IFS-NEMO historcal data\n",
    "reader_ifs_nemo_historical = Reader(model = 'IFS-NEMO', exp = 'historical-1990', source = 'lra-r100-monthly')\n",
    "data_ifs_nemo_historical = reader_ifs_nemo_historical.retrieve()"
   ]
  },
  {
   "cell_type": "markdown",
   "id": "fddcd9f2-a2dd-4d0d-87e9-ff4e1d3bce28",
   "metadata": {},
   "source": [
    "### 2m Temperature"
   ]
  },
  {
   "cell_type": "code",
   "execution_count": null,
   "id": "5042ba5b-4f6f-46dd-91f2-63cc52250c4c",
   "metadata": {
    "tags": []
   },
   "outputs": [
    {
     "ename": "",
     "evalue": "",
     "output_type": "error",
     "traceback": [
      "\u001b[1;31mFailed to start the Kernel 'Python 3 (ipykernel) (atmglobalmean.ipynb)'. \n",
      "\u001b[1;31mView Jupyter <a href='command:jupyter.viewOutput'>log</a> for further details. Unable to get resolved server information for ms-toolsai.jupyter:_builtin.jupyterServerUrlProvider:1ad0cc23-f3fb-4037-86b7-9e08bcb84e2b"
     ]
    }
   ],
   "source": [
    "seasonal_bias(\n",
    "    dataset1=data_ifs_nemo_historical,\n",
    "    dataset2=data_era5,\n",
    "    var_name='2t',\n",
    "    plev=None,\n",
    "    model_label1='IFS-NEMO historical',\n",
    "    model_label2='ERA5',\n",
    "    start_date1 ='1990-01-01',\n",
    "    end_date1 ='2000-12-31',\n",
    "    start_date2 ='1980-01-01',\n",
    "    end_date2 ='2010-12-31',\n",
    "    vmin=-15,\n",
    "    vmax=15,\n",
    "    nlevels=16\n",
    "    )"
   ]
  },
  {
   "cell_type": "markdown",
   "id": "e79824aa-a66d-43d1-be2a-d8628605405b",
   "metadata": {
    "tags": []
   },
   "source": [
    "### Sea surface temperature"
   ]
  },
  {
   "cell_type": "code",
   "execution_count": null,
   "id": "9301bfb6-8708-4858-8769-9dae83c01b53",
   "metadata": {
    "tags": []
   },
   "outputs": [
    {
     "ename": "",
     "evalue": "",
     "output_type": "error",
     "traceback": [
      "\u001b[1;31mFailed to start the Kernel 'Python 3 (ipykernel) (atmglobalmean.ipynb)'. \n",
      "\u001b[1;31mView Jupyter <a href='command:jupyter.viewOutput'>log</a> for further details. Unable to get resolved server information for ms-toolsai.jupyter:_builtin.jupyterServerUrlProvider:1ad0cc23-f3fb-4037-86b7-9e08bcb84e2b"
     ]
    }
   ],
   "source": [
    "seasonal_bias(\n",
    "    dataset1=data_ifs_nemo_historical,\n",
    "    dataset2=data_era5,\n",
    "    var_name='avg_tos',\n",
    "    plev=None,\n",
    "    model_label1='IFS-NEMO historical',\n",
    "    model_label2='ERA5',\n",
    "    start_date1 ='1990-01-01',\n",
    "    end_date1 ='2001-12-31',\n",
    "    start_date2 ='1980-01-01',\n",
    "    end_date2 ='2010-12-31',\n",
    "    vmin=-4,\n",
    "    vmax=4,\n",
    "    nlevels=9,\n",
    "    seasons=False\n",
    "    )"
   ]
  },
  {
   "cell_type": "markdown",
   "id": "ef839646",
   "metadata": {},
   "source": [
    "### Zonal bias plots"
   ]
  },
  {
   "cell_type": "markdown",
   "id": "46b72781",
   "metadata": {},
   "source": [
    "⚠️ ***Warning:*** takes 2minutes "
   ]
  },
  {
   "cell_type": "code",
   "execution_count": null,
   "id": "646ffb55-6638-491e-9fbe-4b362104c40e",
   "metadata": {},
   "outputs": [
    {
     "ename": "",
     "evalue": "",
     "output_type": "error",
     "traceback": [
      "\u001b[1;31mFailed to start the Kernel 'Python 3 (ipykernel) (atmglobalmean.ipynb)'. \n",
      "\u001b[1;31mView Jupyter <a href='command:jupyter.viewOutput'>log</a> for further details. Unable to get resolved server information for ms-toolsai.jupyter:_builtin.jupyterServerUrlProvider:1ad0cc23-f3fb-4037-86b7-9e08bcb84e2b"
     ]
    }
   ],
   "source": [
    "compare_datasets_plev(\n",
    "    dataset1=data_ifs_nemo_historical,\n",
    "    dataset2=data_era5,\n",
    "    var_name='u',\n",
    "    model_label1='IFS-NEMO historical',\n",
    "    model_label2='ERA5',\n",
    "    start_date1 ='1990-01-01',\n",
    "    end_date1 ='2000-12-31',\n",
    "    start_date2 ='1980-01-01',\n",
    "    end_date2 ='2010-12-31',\n",
    "    plev_min = 1000,\n",
    "    plev_max = 100000,\n",
    "    vmin = -9,\n",
    "    vmax = 9\n",
    "    )"
   ]
  }
 ],
 "metadata": {
  "kernelspec": {
   "display_name": "Python 3 (ipykernel)",
   "language": "python",
   "name": "python3"
  }
 },
 "nbformat": 4,
 "nbformat_minor": 5
}
