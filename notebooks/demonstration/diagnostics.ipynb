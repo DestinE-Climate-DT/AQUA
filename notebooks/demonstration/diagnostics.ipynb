{
 "cells": [
  {
   "cell_type": "markdown",
   "metadata": {},
   "source": [
    "## Diagnostics List"
   ]
  },
  {
   "cell_type": "code",
   "execution_count": 2,
   "metadata": {},
   "outputs": [],
   "source": [
    "from IPython.display import Markdown\n",
    "import os\n",
    "aqua_path = os.getenv(\"AQUA\")\n",
    "if aqua_path == None:\n",
    "    aqua_path = \"/home/b/b382397/AQUA\"\n",
    "    "
   ]
  },
  {
   "cell_type": "code",
   "execution_count": 3,
   "metadata": {},
   "outputs": [
    {
     "data": {
      "text/markdown": [
       "<h3>1. Tropical Rainfall<h3>"
      ],
      "text/plain": [
       "<IPython.core.display.Markdown object>"
      ]
     },
     "metadata": {},
     "output_type": "display_data"
    },
    {
     "data": {
      "text/markdown": [
       "[Tropical Rainfall](/pfs/lustrep3/scratch/project_465000454/sughosh/AQUA//diagnostics/tropical_rainfall/notebooks/for_live_demonstration.ipynb)"
      ],
      "text/plain": [
       "<IPython.core.display.Markdown object>"
      ]
     },
     "metadata": {},
     "output_type": "display_data"
    },
    {
     "data": {
      "text/markdown": [
       "<h3>2. Mean Biases<h3>"
      ],
      "text/plain": [
       "<IPython.core.display.Markdown object>"
      ]
     },
     "metadata": {},
     "output_type": "display_data"
    },
    {
     "data": {
      "text/markdown": [
       "[Atmospheric Global Mean bias](/pfs/lustrep3/scratch/project_465000454/sughosh/AQUA//diagnostics/atmglobalmean/notebooks/Demonstrator_D340_714.ipynb)"
      ],
      "text/plain": [
       "<IPython.core.display.Markdown object>"
      ]
     },
     "metadata": {},
     "output_type": "display_data"
    },
    {
     "data": {
      "text/markdown": [
       "<h3>3. Radiation Budget<h3>"
      ],
      "text/plain": [
       "<IPython.core.display.Markdown object>"
      ]
     },
     "metadata": {},
     "output_type": "display_data"
    },
    {
     "data": {
      "text/markdown": [
       "[Radiation Budget](/pfs/lustrep3/scratch/project_465000454/sughosh/AQUA//diagnostics/radiation/notebooks/IFS_NEMO_and_ICON.ipynb)"
      ],
      "text/plain": [
       "<IPython.core.display.Markdown object>"
      ]
     },
     "metadata": {},
     "output_type": "display_data"
    },
    {
     "data": {
      "text/markdown": [
       "<h3>4. Timeseries<h3>"
      ],
      "text/plain": [
       "<IPython.core.display.Markdown object>"
      ]
     },
     "metadata": {},
     "output_type": "display_data"
    },
    {
     "data": {
      "text/markdown": [
       "[Global Time Series](/pfs/lustrep3/scratch/project_465000454/sughosh/AQUA//diagnostics/global_time_series/notebooks/global_time_series.ipynb)"
      ],
      "text/plain": [
       "<IPython.core.display.Markdown object>"
      ]
     },
     "metadata": {},
     "output_type": "display_data"
    },
    {
     "data": {
      "text/markdown": [
       "<h3>5. SSH<h3>"
      ],
      "text/plain": [
       "<IPython.core.display.Markdown object>"
      ]
     },
     "metadata": {},
     "output_type": "display_data"
    },
    {
     "data": {
      "text/markdown": [
       "[SSH](/pfs/lustrep3/scratch/project_465000454/sughosh/AQUA//diagnostics/ssh/notebooks/ssh_example_outputs.ipynb)"
      ],
      "text/plain": [
       "<IPython.core.display.Markdown object>"
      ]
     },
     "metadata": {},
     "output_type": "display_data"
    },
    {
     "data": {
      "text/markdown": [
       "<h3>6. Sea Ice<h3>"
      ],
      "text/plain": [
       "<IPython.core.display.Markdown object>"
      ]
     },
     "metadata": {},
     "output_type": "display_data"
    },
    {
     "data": {
      "text/markdown": [
       "[Sea Ice](/pfs/lustrep3/scratch/project_465000454/sughosh/AQUA//diagnostics/seaice/notebooks/seaice.ipynb)"
      ],
      "text/plain": [
       "<IPython.core.display.Markdown object>"
      ]
     },
     "metadata": {},
     "output_type": "display_data"
    },
    {
     "data": {
      "text/markdown": [
       "<h3>7. Performace Indicies<h3>"
      ],
      "text/plain": [
       "<IPython.core.display.Markdown object>"
      ]
     },
     "metadata": {},
     "output_type": "display_data"
    },
    {
     "data": {
      "text/markdown": [
       "[EC-mean test](/pfs/lustrep3/scratch/project_465000454/sughosh/AQUA//diagnostics/ecmean/notebook/ecmean-destine.ipynb)"
      ],
      "text/plain": [
       "<IPython.core.display.Markdown object>"
      ]
     },
     "metadata": {},
     "output_type": "display_data"
    },
    {
     "data": {
      "text/markdown": [
       "<h3>8. Ocean3D<h3>"
      ],
      "text/plain": [
       "<IPython.core.display.Markdown object>"
      ]
     },
     "metadata": {},
     "output_type": "display_data"
    },
    {
     "data": {
      "text/markdown": [
       "[Ocean drift](/pfs/lustrep3/scratch/project_465000454/sughosh/AQUA//diagnostics/ocean3d/deliverable/demo/ocean_drifts.ipynb)"
      ],
      "text/plain": [
       "<IPython.core.display.Markdown object>"
      ]
     },
     "metadata": {},
     "output_type": "display_data"
    },
    {
     "data": {
      "text/markdown": [
       "[Ocean Circulation](/pfs/lustrep3/scratch/project_465000454/sughosh/AQUA//diagnostics/ocean3d/deliverable/demo/ocean_circulation.ipynb)"
      ],
      "text/plain": [
       "<IPython.core.display.Markdown object>"
      ]
     },
     "metadata": {},
     "output_type": "display_data"
    },
    {
     "data": {
      "text/markdown": [
       "<h3>9. Teleconnection<h3>"
      ],
      "text/plain": [
       "<IPython.core.display.Markdown object>"
      ]
     },
     "metadata": {},
     "output_type": "display_data"
    },
    {
     "data": {
      "text/markdown": [
       "[Teleconnection](/pfs/lustrep3/scratch/project_465000454/sughosh/AQUA//diagnostics/teleconnections/notebooks/demonstration.ipynb)"
      ],
      "text/plain": [
       "<IPython.core.display.Markdown object>"
      ]
     },
     "metadata": {},
     "output_type": "display_data"
    },
    {
     "data": {
      "text/markdown": [
       "<h3>10. Tropical Cyclone<h3>"
      ],
      "text/plain": [
       "<IPython.core.display.Markdown object>"
      ]
     },
     "metadata": {},
     "output_type": "display_data"
    },
    {
     "data": {
      "text/markdown": [
       "[Tropical Cyclone](/pfs/lustrep3/scratch/project_465000454/sughosh/AQUA//diagnostics/tropical_cyclones/notebooks/tropical_cyclones.ipynb)"
      ],
      "text/plain": [
       "<IPython.core.display.Markdown object>"
      ]
     },
     "metadata": {},
     "output_type": "display_data"
    }
   ],
   "source": [
    "\n",
    "display(Markdown(\"<h3>1. Tropical Rainfall<h3>\"))\n",
    "display(Markdown(f\"[Tropical Rainfall]({aqua_path}/diagnostics/tropical_rainfall/notebooks/for_live_demonstration.ipynb)\"))\n",
    "\n",
    "display(Markdown(\"<h3>2. Mean Biases<h3>\"))\n",
    "display(Markdown(f\"[Atmospheric Global Mean bias]({aqua_path}/diagnostics/atmglobalmean/notebooks/Demonstrator_D340_714.ipynb)\"))\n",
    "\n",
    "display(Markdown(\"<h3>3. Radiation Budget<h3>\"))\n",
    "display(Markdown(f\"[Radiation Budget]({aqua_path}/diagnostics/radiation/notebooks/IFS_NEMO_and_ICON.ipynb)\"))\n",
    "\n",
    "display(Markdown(\"<h3>4. Timeseries<h3>\"))\n",
    "display(Markdown(f\"[Global Time Series]({aqua_path}/diagnostics/global_time_series/notebooks/global_time_series.ipynb)\"))\n",
    "\n",
    "display(Markdown(\"<h3>5. SSH<h3>\"))\n",
    "display(Markdown(f\"[SSH]({aqua_path}/diagnostics/ssh/notebooks/ssh_example_outputs.ipynb)\"))\n",
    "\n",
    "\n",
    "\n",
    "display(Markdown(\"<h3>6. Sea Ice<h3>\"))\n",
    "display(Markdown(f\"[Sea Ice]({aqua_path}/diagnostics/seaice/notebooks/seaice.ipynb)\"))\n",
    "\n",
    "\n",
    "display(Markdown(\"<h3>7. Performace Indicies<h3>\"))\n",
    "display(Markdown(f\"[EC-mean test]({aqua_path}/diagnostics/ecmean/notebook/ecmean-destine.ipynb)\"))\n",
    "\n",
    "display(Markdown(\"<h3>8. Ocean3D<h3>\"))\n",
    "display(Markdown(f\"[Ocean drift]({aqua_path}/diagnostics/ocean3d/deliverable/demo/ocean_drifts.ipynb)\"))\n",
    "display(Markdown(f\"[Ocean Circulation]({aqua_path}/diagnostics/ocean3d/deliverable/demo/ocean_circulation.ipynb)\"))\n",
    "\n",
    "display(Markdown(\"<h3>9. Teleconnection<h3>\"))\n",
    "display(Markdown(f\"[Teleconnection]({aqua_path}/diagnostics/teleconnections/notebooks/demonstration.ipynb)\"))\n",
    "\n",
    "display(Markdown(\"<h3>10. Tropical Cyclone<h3>\"))\n",
    "display(Markdown(f\"[Tropical Cyclone]({aqua_path}/diagnostics/tropical_cyclones/notebooks/tropical_cyclones.ipynb)\"))\n"
   ]
  },
  {
   "cell_type": "code",
   "execution_count": null,
   "metadata": {},
   "outputs": [],
   "source": []
  }
 ],
 "metadata": {
  "kernelspec": {
   "display_name": "Python 3 (ipykernel)",
   "language": "python",
   "name": "python3"
  },
  "language_info": {
   "codemirror_mode": {
    "name": "ipython",
    "version": 3
   },
   "file_extension": ".py",
   "mimetype": "text/x-python",
   "name": "python",
   "nbconvert_exporter": "python",
   "pygments_lexer": "ipython3",
   "version": "3.11.7"
  }
 },
 "nbformat": 4,
 "nbformat_minor": 2
}
