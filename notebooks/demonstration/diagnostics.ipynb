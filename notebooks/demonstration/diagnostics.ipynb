{
 "cells": [
  {
   "cell_type": "markdown",
   "metadata": {},
   "source": [
    "## Diagnostics List"
   ]
  },
  {
   "cell_type": "code",
   "execution_count": null,
   "metadata": {},
   "outputs": [],
   "source": [
    "from IPython.display import Markdown\n",
    "import os\n",
    "aqua_path = os.getenv(\"AQUA\")\n",
    "if aqua_path == None:\n",
    "    aqua_path = \"/home/b/b382397/AQUA\"\n",
    "    "
   ]
  },
  {
   "cell_type": "code",
   "execution_count": null,
   "metadata": {},
   "outputs": [],
   "source": [
    "\n",
    "display(Markdown(\"<h3>1. Tropical Rainfall<h3>\"))\n",
    "display(Markdown(f\"[Tropical Rainfall]({aqua_path}/notebooks/demonstration/tropical_rainfall.ipynb)\"))\n",
    "\n",
    "display(Markdown(\"<h3>2. Mean Biases<h3>\"))\n",
    "display(Markdown(f\"[Atmospheric Global Mean bias]({aqua_path}/notebooks/demonstration/atmglobalmean.ipynb)\"))\n",
    "\n",
    "display(Markdown(\"<h3>3. Radiation Budget<h3>\"))\n",
    "display(Markdown(f\"[Radiation Budget]({aqua_path}/notebooks/demonstration/radiation.ipynb)\"))\n",
    "\n",
    "display(Markdown(\"<h3>4. Timeseries<h3>\"))\n",
    "display(Markdown(f\"[Global Time Series]({aqua_path}/notebooks/demonstration/global_time_series.ipynb)\"))\n",
    "\n",
    "display(Markdown(\"<h3>5. SSH<h3>\"))\n",
    "display(Markdown(f\"[SSH]({aqua_path}/notebooks/demonstration/ssh.ipynb)\"))\n",
    "\n",
    "\n",
    "\n",
    "display(Markdown(\"<h3>6. Sea Ice<h3>\"))\n",
    "display(Markdown(f\"[Sea Ice]({aqua_path}/notebooks/demonstration/seaice.ipynb)\"))\n",
    "\n",
    "\n",
    "display(Markdown(\"<h3>7. Performace Indicies<h3>\"))\n",
    "display(Markdown(f\"[EC-mean test]({aqua_path}/notebooks/demonstration/ecmean-destine.ipynb)\"))\n",
    "\n",
    "display(Markdown(\"<h3>8. Ocean3D<h3>\"))\n",
    "display(Markdown(f\"[Ocean drift]({aqua_path}/notebooks/demonstration/ocean_drifts.ipynb)\"))\n",
    "display(Markdown(f\"[Ocean Circulation]({aqua_path}/notebooks/demonstration/ocean_circulation.ipynb)\"))\n",
    "\n",
    "display(Markdown(\"<h3>9. Teleconnection<h3>\"))\n",
    "display(Markdown(f\"[Teleconnection]({aqua_path}/notebooks/demonstration/teleconnections.ipynb)\"))\n",
    "\n",
    "display(Markdown(\"<h3>10. Tropical Cyclone<h3>\"))\n",
    "display(Markdown(f\"[Tropical Cyclone]({aqua_path}/diagnostics/tropical_cyclones/notebooks/tropical_cyclones.ipynb)\"))\n"
   ]
  },
  {
   "cell_type": "code",
   "execution_count": null,
   "metadata": {},
   "outputs": [],
   "source": []
  }
 ],
 "metadata": {
  "kernelspec": {
   "display_name": "Python 3 (ipykernel)",
   "language": "python",
   "name": "python3"
  }
 },
 "nbformat": 4,
 "nbformat_minor": 2
}
