{
 "cells": [
  {
   "cell_type": "markdown",
   "metadata": {},
   "source": [
    "## Diagnostics List"
   ]
  },
  {
   "cell_type": "code",
   "execution_count": 1,
   "metadata": {},
   "outputs": [],
   "source": [
    "from IPython.display import Markdown\n",
    "import os\n",
    "aqua_path = os.getenv(\"AQUA\")\n",
    "if aqua_path == None:\n",
    "    aqua_path = \"/home/b/b382397/AQUA\"\n",
    "    "
   ]
  },
  {
   "cell_type": "code",
   "execution_count": 6,
   "metadata": {},
   "outputs": [
    {
     "data": {
      "text/markdown": [
       "<h3> Performace Indicies<h3>"
      ],
      "text/plain": [
       "<IPython.core.display.Markdown object>"
      ]
     },
     "metadata": {},
     "output_type": "display_data"
    },
    {
     "data": {
      "text/markdown": [
       "[EC-mean test](/pfs/lustrep3/scratch/project_465000454/sughosh/AQUA//notebooks/demonstration/ecmean-destine.ipynb)"
      ],
      "text/plain": [
       "<IPython.core.display.Markdown object>"
      ]
     },
     "metadata": {},
     "output_type": "display_data"
    },
    {
     "data": {
      "text/markdown": [
       "<h3> Ocean3D<h3>"
      ],
      "text/plain": [
       "<IPython.core.display.Markdown object>"
      ]
     },
     "metadata": {},
     "output_type": "display_data"
    },
    {
     "data": {
      "text/markdown": [
       "[Ocean drift](/pfs/lustrep3/scratch/project_465000454/sughosh/AQUA//notebooks/demonstration/ocean_drifts.ipynb)"
      ],
      "text/plain": [
       "<IPython.core.display.Markdown object>"
      ]
     },
     "metadata": {},
     "output_type": "display_data"
    },
    {
     "data": {
      "text/markdown": [
       "[Ocean Circulation](/pfs/lustrep3/scratch/project_465000454/sughosh/AQUA//notebooks/demonstration/ocean_circulation.ipynb)"
      ],
      "text/plain": [
       "<IPython.core.display.Markdown object>"
      ]
     },
     "metadata": {},
     "output_type": "display_data"
    },
    {
     "data": {
      "text/markdown": [
       "<h3> Teleconnection<h3>"
      ],
      "text/plain": [
       "<IPython.core.display.Markdown object>"
      ]
     },
     "metadata": {},
     "output_type": "display_data"
    },
    {
     "data": {
      "text/markdown": [
       "[Teleconnection](/pfs/lustrep3/scratch/project_465000454/sughosh/AQUA//notebooks/demonstration/teleconnections.ipynb)"
      ],
      "text/plain": [
       "<IPython.core.display.Markdown object>"
      ]
     },
     "metadata": {},
     "output_type": "display_data"
    },
    {
     "data": {
      "text/markdown": [
       "<h3> Timeseries<h3>"
      ],
      "text/plain": [
       "<IPython.core.display.Markdown object>"
      ]
     },
     "metadata": {},
     "output_type": "display_data"
    },
    {
     "data": {
      "text/markdown": [
       "[Global Time Series](/pfs/lustrep3/scratch/project_465000454/sughosh/AQUA//notebooks/demonstration/global_time_series.ipynb)"
      ],
      "text/plain": [
       "<IPython.core.display.Markdown object>"
      ]
     },
     "metadata": {},
     "output_type": "display_data"
    },
    {
     "data": {
      "text/markdown": [
       "<h3> Tropical Cyclone<h3>"
      ],
      "text/plain": [
       "<IPython.core.display.Markdown object>"
      ]
     },
     "metadata": {},
     "output_type": "display_data"
    },
    {
     "data": {
      "text/markdown": [
       "[Tropical Cyclone](/pfs/lustrep3/scratch/project_465000454/sughosh/AQUA//diagnostics/tropical_cyclones/notebooks/tropical_cyclones.ipynb)"
      ],
      "text/plain": [
       "<IPython.core.display.Markdown object>"
      ]
     },
     "metadata": {},
     "output_type": "display_data"
    },
    {
     "data": {
      "text/markdown": [
       "<h3> Tropical Rainfall<h3>"
      ],
      "text/plain": [
       "<IPython.core.display.Markdown object>"
      ]
     },
     "metadata": {},
     "output_type": "display_data"
    },
    {
     "data": {
      "text/markdown": [
       "[Tropical Rainfall](/pfs/lustrep3/scratch/project_465000454/sughosh/AQUA//notebooks/demonstration/tropical_rainfall.ipynb)"
      ],
      "text/plain": [
       "<IPython.core.display.Markdown object>"
      ]
     },
     "metadata": {},
     "output_type": "display_data"
    },
    {
     "data": {
      "text/markdown": [
       "<h3> Mean Biases<h3>"
      ],
      "text/plain": [
       "<IPython.core.display.Markdown object>"
      ]
     },
     "metadata": {},
     "output_type": "display_data"
    },
    {
     "data": {
      "text/markdown": [
       "[Atmospheric Global Mean bias](/pfs/lustrep3/scratch/project_465000454/sughosh/AQUA//notebooks/demonstration/atmglobalmean.ipynb)"
      ],
      "text/plain": [
       "<IPython.core.display.Markdown object>"
      ]
     },
     "metadata": {},
     "output_type": "display_data"
    },
    {
     "data": {
      "text/markdown": [
       "<h3> Radiation Budget<h3>"
      ],
      "text/plain": [
       "<IPython.core.display.Markdown object>"
      ]
     },
     "metadata": {},
     "output_type": "display_data"
    },
    {
     "data": {
      "text/markdown": [
       "[Radiation Budget](/pfs/lustrep3/scratch/project_465000454/sughosh/AQUA//notebooks/demonstration/radiation.ipynb)"
      ],
      "text/plain": [
       "<IPython.core.display.Markdown object>"
      ]
     },
     "metadata": {},
     "output_type": "display_data"
    },
    {
     "data": {
      "text/markdown": [
       "<h3> SSH<h3>"
      ],
      "text/plain": [
       "<IPython.core.display.Markdown object>"
      ]
     },
     "metadata": {},
     "output_type": "display_data"
    },
    {
     "data": {
      "text/markdown": [
       "[SSH](/pfs/lustrep3/scratch/project_465000454/sughosh/AQUA//notebooks/demonstration/ssh.ipynb)"
      ],
      "text/plain": [
       "<IPython.core.display.Markdown object>"
      ]
     },
     "metadata": {},
     "output_type": "display_data"
    },
    {
     "data": {
      "text/markdown": [
       "<h3> Sea Ice<h3>"
      ],
      "text/plain": [
       "<IPython.core.display.Markdown object>"
      ]
     },
     "metadata": {},
     "output_type": "display_data"
    },
    {
     "data": {
      "text/markdown": [
       "[Sea Ice](/pfs/lustrep3/scratch/project_465000454/sughosh/AQUA//notebooks/demonstration/seaice.ipynb)"
      ],
      "text/plain": [
       "<IPython.core.display.Markdown object>"
      ]
     },
     "metadata": {},
     "output_type": "display_data"
    }
   ],
   "source": [
    "display(Markdown(\"<h3> Performace Indicies<h3>\"))\n",
    "display(Markdown(f\"[EC-mean test]({aqua_path}/notebooks/demonstration/ecmean-destine.ipynb)\"))\n",
    "\n",
    "display(Markdown(\"<h3> Ocean3D<h3>\"))\n",
    "display(Markdown(f\"[Ocean drift]({aqua_path}/notebooks/demonstration/ocean_drifts.ipynb)\"))\n",
    "display(Markdown(f\"[Ocean Circulation]({aqua_path}/notebooks/demonstration/ocean_circulation.ipynb)\"))\n",
    "\n",
    "display(Markdown(\"<h3> Teleconnection<h3>\"))\n",
    "display(Markdown(f\"[Teleconnection]({aqua_path}/notebooks/demonstration/teleconnections.ipynb)\"))\n",
    "\n",
    "display(Markdown(\"<h3> Timeseries<h3>\"))\n",
    "display(Markdown(f\"[Global Time Series]({aqua_path}/notebooks/demonstration/global_time_series.ipynb)\"))\n",
    "\n",
    "\n",
    "display(Markdown(\"<h3> Tropical Cyclone<h3>\"))\n",
    "display(Markdown(f\"[Tropical Cyclone]({aqua_path}/diagnostics/tropical_cyclones/notebooks/tropical_cyclones.ipynb)\"))\n",
    "\n",
    "\n",
    "display(Markdown(\"<h3> Tropical Rainfall<h3>\"))\n",
    "display(Markdown(f\"[Tropical Rainfall]({aqua_path}/notebooks/demonstration/tropical_rainfall.ipynb)\"))\n",
    "\n",
    "display(Markdown(\"<h3> Mean Biases<h3>\"))\n",
    "display(Markdown(f\"[Atmospheric Global Mean bias]({aqua_path}/notebooks/demonstration/atmglobalmean.ipynb)\"))\n",
    "\n",
    "display(Markdown(\"<h3> Radiation Budget<h3>\"))\n",
    "display(Markdown(f\"[Radiation Budget]({aqua_path}/notebooks/demonstration/radiation.ipynb)\"))\n",
    "\n",
    "\n",
    "display(Markdown(\"<h3> SSH<h3>\"))\n",
    "display(Markdown(f\"[SSH]({aqua_path}/notebooks/demonstration/ssh.ipynb)\"))\n",
    "\n",
    "\n",
    "\n",
    "display(Markdown(\"<h3> Sea Ice<h3>\"))\n",
    "display(Markdown(f\"[Sea Ice]({aqua_path}/notebooks/demonstration/seaice.ipynb)\"))\n",
    "\n",
    "\n"
   ]
  },
  {
   "cell_type": "code",
   "execution_count": null,
   "metadata": {},
   "outputs": [],
   "source": []
  }
 ],
 "metadata": {
  "kernelspec": {
   "display_name": "Python 3 (ipykernel)",
   "language": "python",
   "name": "python3"
  }
 },
 "nbformat": 4,
 "nbformat_minor": 2
}
