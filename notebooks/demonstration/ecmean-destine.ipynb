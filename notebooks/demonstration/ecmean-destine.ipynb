{
 "cells": [
  {
   "cell_type": "markdown",
   "metadata": {},
   "source": [
    "# Climate DT historical runs: ECmean4 within the AQUA framework \n",
    "\n",
    "We need to load the AQUA module to access the Reader and the ECmean `performance_indices` function. \n",
    "Configuration files (which tells ECmean4 where output should be written and the mask are) as well as interface file (which defines the Climate DT filename communication between AQUA and ECmean4) should be loaded.\n",
    "\n",
    "We will run the ECmean code on both IFS-NEMO and ICON `historical-1990` experiment, for which we can get a serious assessment of the model skill. It will run on a reduced time window (5-year) to keep computation time slow. "
   ]
  },
  {
   "cell_type": "code",
   "execution_count": 1,
   "metadata": {},
   "outputs": [],
   "source": [
    "from aqua import Reader\n",
    "from ecmean.performance_indices import performance_indices\n",
    "from aqua.util import ConfigPath\n",
    "import os\n",
    "if os.getcwd().endswith(\"AQUA\"):\n",
    "    os.chdir(\"diagnostics/ecmean/notebook\")\n",
    "machine = ConfigPath().get_machine()\n",
    "\n",
    "models = ['IFS-NEMO', 'ICON']\n",
    "machine = machine\n",
    "exp = 'historical-1990'\n",
    "year1 = 1996\n",
    "year2 = 2000\n",
    "numproc = 5\n",
    "interface = '../config/interface_AQUA_destine-v1.yml'\n",
    "config = f'../config/ecmean_config_destine-v1-{machine}.yml'\n",
    "datadir = {'lumi': '/pfs/lustrep3/projappl/project_465000454/padavini/ecmean_new/output/PDF', 'levante': '/home/b/b382397/AQUA/diagnostics/ecmean/notebook'}"
   ]
  },
  {
   "cell_type": "markdown",
   "metadata": {},
   "source": [
    "*Important*: before proceeding please edit the output directories in `config/config.yaml`, especially if you move from Lumi/Levante to another machine. As a temporary solution, we are providing two configuration files for both machines. On the long term, we will try to remove the machine dependency on the code (which is related to the fact of ECmean being an external package from AQUA)\n",
    "\n",
    "Now you can load the data from the LRA, looping on the two models and running the performance indices. The operation should take about less than 1 minute. Parallel processing can be used (not with dask rather with multiproc)"
   ]
  },
  {
   "cell_type": "code",
   "execution_count": 2,
   "metadata": {},
   "outputs": [
    {
     "name": "stderr",
     "output_type": "stream",
     "text": [
      "\u001b[38;2;255;165;0m2024-05-20 22:44:40 :: Reader :: WARNING  -> LRA_LUMI parameter is required but is missing, setting to default /work/bb1153/b382076/LRA-lumi\u001b[0m\n"
     ]
    },
    {
     "name": "stderr",
     "output_type": "stream",
     "text": [
      "2024-05-20 22:44:48 | ecmean |     INFO -> Running on Linux and multiprocessing method set as \"fork\"\n",
      "2024-05-20 22:44:48 | ecmean.libs.diagnostic |  WARNING -> You asked to use your own xarray dataset/datarray...\n",
      "2024-05-20 22:44:48 | ecmean.libs.files |     INFO -> maskfile for component atm is: ../data/atm_mask_r100.nc\n",
      "2024-05-20 22:44:48 | ecmean.libs.files |     INFO -> areafile for component atm is: ../data/cell_area_r100.nc\n",
      "2024-05-20 22:44:48 | ecmean.libs.files |     INFO -> maskfile for component oce is: ../data/oce_mask_r100.nc\n",
      "2024-05-20 22:44:48 | ecmean.libs.files |     INFO -> areafile for component oce is: ../data/cell_area_r100.nc\n",
      "2024-05-20 22:44:48 | ecmean.libs.support |     INFO -> atmmareafile is ../data/cell_area_r100.nc\n",
      "2024-05-20 22:44:48 | ecmean.libs.support |     INFO -> Atmosphere grid is is a lonlat grid!\n"
     ]
    },
    {
     "name": "stdout",
     "output_type": "stream",
     "text": [
      "Welcome to ECmean4 v0.1.8: Running performance_indices with 5 cores!\n"
     ]
    },
    {
     "name": "stderr",
     "output_type": "stream",
     "text": [
      "2024-05-20 22:44:50 | ecmean.libs.support |     INFO -> maskatmfile is ../data/atm_mask_r100.nc\n",
      "2024-05-20 22:44:50 | ecmean.libs.support |     INFO -> ocemareafile is ../data/cell_area_r100.nc\n",
      "2024-05-20 22:44:50 | ecmean.libs.support |     INFO -> Oceanic grid is is a lonlat grid!\n",
      "2024-05-20 22:44:52 | ecmean.libs.support |     INFO -> maskocefile is ../data/oce_mask_r100.nc\n",
      "2024-05-20 22:44:52 | ecmean.libs.support |     INFO -> sftof is being flipped\n",
      "2024-05-20 22:44:52 | ecmean |     INFO -> Preproc in 3.4721 seconds\n",
      "2024-05-20 22:44:57 | ecmean |     INFO -> Done in 5.3946 seconds with 5 processors\n",
      "2024-05-20 22:44:59 | ecmean |     INFO -> Postproc done in 1.2847 seconds\n",
      "\u001b[38;2;255;165;0m2024-05-20 22:44:59 :: Reader :: WARNING  -> LRA_LUMI parameter is required but is missing, setting to default /work/bb1153/b382076/LRA-lumi\u001b[0m\n"
     ]
    },
    {
     "name": "stdout",
     "output_type": "stream",
     "text": [
      "ECmean4 Performance Indices succesfully computed!\n"
     ]
    },
    {
     "name": "stderr",
     "output_type": "stream",
     "text": [
      "/opt/conda/lib/python3.12/site-packages/dask/array/core.py:4839: PerformanceWarning: Increasing number of chunks by factor of 72\n",
      "  result = blockwise(\n",
      "/opt/conda/lib/python3.12/site-packages/dask/array/core.py:4839: PerformanceWarning: Increasing number of chunks by factor of 72\n",
      "  result = blockwise(\n",
      "2024-05-20 22:45:05 | ecmean |     INFO -> Updating the log_level to INFO\n",
      "2024-05-20 22:45:05 | ecmean |     INFO -> Running on Linux and multiprocessing method set as \"fork\"\n",
      "2024-05-20 22:45:05 | ecmean.libs.diagnostic |  WARNING -> You asked to use your own xarray dataset/datarray...\n",
      "2024-05-20 22:45:05 | ecmean.libs.files |     INFO -> maskfile for component atm is: ../data/atm_mask_r100.nc\n",
      "2024-05-20 22:45:05 | ecmean.libs.files |     INFO -> areafile for component atm is: ../data/cell_area_r100.nc\n",
      "2024-05-20 22:45:05 | ecmean.libs.files |     INFO -> maskfile for component oce is: ../data/oce_mask_r100.nc\n",
      "2024-05-20 22:45:05 | ecmean.libs.files |     INFO -> areafile for component oce is: ../data/cell_area_r100.nc\n",
      "2024-05-20 22:45:05 | ecmean.libs.support |     INFO -> atmmareafile is ../data/cell_area_r100.nc\n",
      "2024-05-20 22:45:05 | ecmean.libs.support |     INFO -> Atmosphere grid is is a lonlat grid!\n"
     ]
    },
    {
     "name": "stdout",
     "output_type": "stream",
     "text": [
      "Welcome to ECmean4 v0.1.8: Running performance_indices with 5 cores!\n"
     ]
    },
    {
     "name": "stderr",
     "output_type": "stream",
     "text": [
      "2024-05-20 22:45:07 | ecmean.libs.support |     INFO -> maskatmfile is ../data/atm_mask_r100.nc\n",
      "2024-05-20 22:45:07 | ecmean.libs.support |     INFO -> ocemareafile is ../data/cell_area_r100.nc\n",
      "2024-05-20 22:45:07 | ecmean.libs.support |     INFO -> Oceanic grid is is a lonlat grid!\n",
      "2024-05-20 22:45:08 | ecmean.libs.support |     INFO -> maskocefile is ../data/oce_mask_r100.nc\n",
      "2024-05-20 22:45:08 | ecmean.libs.support |     INFO -> sftof is being flipped\n",
      "2024-05-20 22:45:08 | ecmean |     INFO -> Preproc in 3.1278 seconds\n",
      "2024-05-20 22:45:08 | ecmean.libs.files |  WARNING -> Variable net_sfc requires msr which is not available in the model output. Ignoring it.\n",
      "2024-05-20 22:45:14 | ecmean |     INFO -> Done in 5.3605 seconds with 5 processors\n",
      "2024-05-20 22:45:15 | ecmean |     INFO -> Postproc done in 0.8776 seconds\n"
     ]
    },
    {
     "name": "stdout",
     "output_type": "stream",
     "text": [
      "ECmean4 Performance Indices succesfully computed!\n"
     ]
    }
   ],
   "source": [
    "for model in models: \n",
    "    reader = Reader(model=model, exp=exp, source=\"lra-r100-monthly\", fix=False)\n",
    "    data = reader.retrieve()\n",
    "    performance_indices(exp, year1, year2, numproc = numproc, config = config, model = model, \n",
    "            interface = interface, loglevel = 'info', xdataset = data)"
   ]
  },
  {
   "cell_type": "markdown",
   "metadata": {},
   "source": [
    "Plots are PDF and ca be visualized browsing to the proper location where are they are been stored according to the configuration file\n",
    "- [ICON](/users/padavini/work/ecmean_new/output/PDF/PI4_EC23_historical-1990_ICON_r1i1p1f1_1996_2000.pdf)\n",
    "- [IFS-NEMO](/users/padavini/work/ecmean_new/output/PDF/PI4_EC23_historical-1990_IFS-NEMO_r1i1p1f1_1996_2000.pdf)\n",
    "\n",
    "Otherwise, to visualize the output within the notebook we need to use an extra package, which is Wand. Remember to install it through `mamba install imagemagick` and `pip install wand` if you want to visualize the output."
   ]
  },
  {
   "cell_type": "code",
   "execution_count": 3,
   "metadata": {},
   "outputs": [
    {
     "data": {
      "text/markdown": [
       "[img ICON](/home/b/b382397/AQUA/diagnostics/ecmean/notebook/PI4_EC23_historical-1990_ICON_r1i1p1f1_1996_2000.pdf)"
      ],
      "text/plain": [
       "<IPython.core.display.Markdown object>"
      ]
     },
     "metadata": {},
     "output_type": "display_data"
    },
    {
     "data": {
      "text/markdown": [
       "[img IFS-NEMO](/home/b/b382397/AQUA/diagnostics/ecmean/notebook/PI4_EC23_historical-1990_IFS-NEMO_r1i1p1f1_1996_2000.pdf)"
      ],
      "text/plain": [
       "<IPython.core.display.Markdown object>"
      ]
     },
     "metadata": {},
     "output_type": "display_data"
    }
   ],
   "source": [
    "from IPython.display import Markdown\n",
    "display(Markdown(f\"[img ICON]({datadir[machine]}/PI4_EC23_{exp}_ICON_r1i1p1f1_{year1}_{year2}.pdf)\"))\n",
    "display(Markdown(f\"[img IFS-NEMO]({datadir[machine]}/PI4_EC23_{exp}_IFS-NEMO_r1i1p1f1_{year1}_{year2}.pdf)\"))"
   ]
  },
  {
   "cell_type": "code",
   "execution_count": 4,
   "metadata": {},
   "outputs": [
    {
     "data": {
      "text/plain": [
       "'(/home/b/b382397/AQUA/diagnostics/ecmean/notebook/PI4_EC23_historical-1990_ICON_r1i1p1f1_1996_2000.pdf)'"
      ]
     },
     "execution_count": 4,
     "metadata": {},
     "output_type": "execute_result"
    }
   ],
   "source": [
    "f\"({datadir[machine]}/PI4_EC23_{exp}_ICON_r1i1p1f1_{year1}_{year2}.pdf)\""
   ]
  },
  {
   "cell_type": "markdown",
   "metadata": {},
   "source": [
    "from wand.image import Image as WImage\n",
    "img_icon = WImage(filename=f'{datadir[machine]}/PI4_EC23_{exp}_ICON_r1i1p1f1_{year1}_{year2}.pdf')\n",
    "img_ifs = WImage(filename=f'{datadir[machine]}/PI4_EC23_{exp}_IFS-NEMO_r1i1p1f1_{year1}_{year2}.pdf')"
   ]
  },
  {
   "cell_type": "markdown",
   "metadata": {},
   "source": [
    "img_ifs"
   ]
  },
  {
   "cell_type": "markdown",
   "metadata": {},
   "source": [
    "img_icon"
   ]
  }
 ],
 "metadata": {
  "kernelspec": {
   "display_name": "Python 3 (ipykernel)",
   "language": "python",
   "name": "python3"
  },
  "language_info": {
   "codemirror_mode": {
    "name": "ipython",
    "version": 3
   },
   "file_extension": ".py",
   "mimetype": "text/x-python",
   "name": "python",
   "nbconvert_exporter": "python",
   "pygments_lexer": "ipython3",
   "version": "3.12.3"
  }
 },
 "nbformat": 4,
 "nbformat_minor": 2
}
