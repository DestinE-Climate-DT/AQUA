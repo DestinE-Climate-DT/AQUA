{
 "cells": [
  {
   "cell_type": "markdown",
   "id": "d7f56971-faa6-47f6-9aaf-d23e3042d11b",
   "metadata": {},
   "source": [
    "# Example notebook for Ensemble of Zonal (lev-lon) diagnostic of temperature"
   ]
  },
  {
   "cell_type": "markdown",
   "id": "36f57e7e-db3a-4c2b-b8ae-6e0658579b4f",
   "metadata": {},
   "source": [
    "##### This notebook demonsterates how the ensemble module can be used for Zonal data (lev-lon) temperature data from a single ensemble or multi-model ensemble memebers"
   ]
  },
  {
   "cell_type": "code",
   "execution_count": 1,
   "id": "cb95c171-87ac-467d-b4f5-7a2ce7969e75",
   "metadata": {},
   "outputs": [
    {
     "name": "stderr",
     "output_type": "stream",
     "text": [
      "/work/ab0995/a270260/aqua/lib/python3.12/site-packages/intake_esm/__init__.py:6: UserWarning: pkg_resources is deprecated as an API. See https://setuptools.pypa.io/en/latest/pkg_resources.html. The pkg_resources package is slated for removal as early as 2025-11-30. Refrain from using this package or pin to Setuptools<81.\n",
      "  from pkg_resources import DistributionNotFound, get_distribution\n"
     ]
    },
    {
     "ename": "ImportError",
     "evalue": "cannot import name 'plot_vertical_profile' from 'aqua.graphics' (/work/ab0995/a270260/AQUA_13/AQUA/src/aqua/graphics/__init__.py)",
     "output_type": "error",
     "traceback": [
      "\u001b[31m---------------------------------------------------------------------------\u001b[39m",
      "\u001b[31mImportError\u001b[39m                               Traceback (most recent call last)",
      "\u001b[36mCell\u001b[39m\u001b[36m \u001b[39m\u001b[32mIn[1]\u001b[39m\u001b[32m, line 3\u001b[39m\n\u001b[32m      1\u001b[39m \u001b[38;5;28;01mimport\u001b[39;00m\u001b[38;5;250m \u001b[39m\u001b[34;01mglob\u001b[39;00m\n\u001b[32m      2\u001b[39m \u001b[38;5;28;01mimport\u001b[39;00m\u001b[38;5;250m \u001b[39m\u001b[34;01mxarray\u001b[39;00m\u001b[38;5;250m \u001b[39m\u001b[38;5;28;01mas\u001b[39;00m\u001b[38;5;250m \u001b[39m\u001b[34;01mxr\u001b[39;00m\n\u001b[32m----> \u001b[39m\u001b[32m3\u001b[39m \u001b[38;5;28;01mfrom\u001b[39;00m\u001b[38;5;250m \u001b[39m\u001b[34;01maqua\u001b[39;00m\u001b[34;01m.\u001b[39;00m\u001b[34;01mdiagnostics\u001b[39;00m\u001b[38;5;250m \u001b[39m\u001b[38;5;28;01mimport\u001b[39;00m merge_from_data_files\n\u001b[32m      4\u001b[39m \u001b[38;5;28;01mfrom\u001b[39;00m\u001b[38;5;250m \u001b[39m\u001b[34;01maqua\u001b[39;00m\u001b[34;01m.\u001b[39;00m\u001b[34;01mdiagnostics\u001b[39;00m\u001b[38;5;250m \u001b[39m\u001b[38;5;28;01mimport\u001b[39;00m EnsembleZonal\n\u001b[32m      5\u001b[39m \u001b[38;5;28;01mfrom\u001b[39;00m\u001b[38;5;250m \u001b[39m\u001b[34;01maqua\u001b[39;00m\u001b[34;01m.\u001b[39;00m\u001b[34;01mdiagnostics\u001b[39;00m\u001b[38;5;250m \u001b[39m\u001b[38;5;28;01mimport\u001b[39;00m PlotEnsembleZonal\n",
      "\u001b[36mFile \u001b[39m\u001b[32m/work/ab0995/a270260/AQUA_13/AQUA/src/aqua_diagnostics/__init__.py:7\u001b[39m\n\u001b[32m      5\u001b[39m \u001b[38;5;28;01mfrom\u001b[39;00m\u001b[38;5;250m \u001b[39m\u001b[34;01m.\u001b[39;00m\u001b[34;01mglobal_biases\u001b[39;00m\u001b[38;5;250m \u001b[39m\u001b[38;5;28;01mimport\u001b[39;00m GlobalBiases, PlotGlobalBiases \n\u001b[32m      6\u001b[39m \u001b[38;5;28;01mfrom\u001b[39;00m\u001b[38;5;250m \u001b[39m\u001b[34;01m.\u001b[39;00m\u001b[34;01mboxplots\u001b[39;00m\u001b[38;5;250m \u001b[39m\u001b[38;5;28;01mimport\u001b[39;00m Boxplots, PlotBoxplots\n\u001b[32m----> \u001b[39m\u001b[32m7\u001b[39m \u001b[38;5;28;01mfrom\u001b[39;00m\u001b[38;5;250m \u001b[39m\u001b[34;01m.\u001b[39;00m\u001b[34;01mensemble\u001b[39;00m\u001b[38;5;250m \u001b[39m\u001b[38;5;28;01mimport\u001b[39;00m EnsembleTimeseries, EnsembleLatLon, EnsembleZonal\n\u001b[32m      8\u001b[39m \u001b[38;5;28;01mfrom\u001b[39;00m\u001b[38;5;250m \u001b[39m\u001b[34;01m.\u001b[39;00m\u001b[34;01mensemble\u001b[39;00m\u001b[38;5;250m \u001b[39m\u001b[38;5;28;01mimport\u001b[39;00m PlotEnsembleTimeseries, PlotEnsembleLatLon, PlotEnsembleZonal\n\u001b[32m      9\u001b[39m \u001b[38;5;28;01mfrom\u001b[39;00m\u001b[38;5;250m \u001b[39m\u001b[34;01m.\u001b[39;00m\u001b[34;01mensemble\u001b[39;00m\u001b[38;5;250m \u001b[39m\u001b[38;5;28;01mimport\u001b[39;00m reader_retrieve_and_merge, merge_from_data_files, load_premerged_ensemble_dataset\n",
      "\u001b[36mFile \u001b[39m\u001b[32m/work/ab0995/a270260/AQUA_13/AQUA/src/aqua_diagnostics/ensemble/__init__.py:8\u001b[39m\n\u001b[32m      6\u001b[39m \u001b[38;5;28;01mfrom\u001b[39;00m\u001b[38;5;250m \u001b[39m\u001b[34;01m.\u001b[39;00m\u001b[34;01mplot_ensemble_latlon\u001b[39;00m\u001b[38;5;250m \u001b[39m\u001b[38;5;28;01mimport\u001b[39;00m PlotEnsembleLatLon\n\u001b[32m      7\u001b[39m \u001b[38;5;28;01mfrom\u001b[39;00m\u001b[38;5;250m \u001b[39m\u001b[34;01m.\u001b[39;00m\u001b[34;01mensembleZonal\u001b[39;00m\u001b[38;5;250m \u001b[39m\u001b[38;5;28;01mimport\u001b[39;00m EnsembleZonal\n\u001b[32m----> \u001b[39m\u001b[32m8\u001b[39m \u001b[38;5;28;01mfrom\u001b[39;00m\u001b[38;5;250m \u001b[39m\u001b[34;01m.\u001b[39;00m\u001b[34;01mplot_ensemble_zonal\u001b[39;00m\u001b[38;5;250m \u001b[39m\u001b[38;5;28;01mimport\u001b[39;00m PlotEnsembleZonal\n\u001b[32m      9\u001b[39m \u001b[38;5;28;01mfrom\u001b[39;00m\u001b[38;5;250m \u001b[39m\u001b[34;01m.\u001b[39;00m\u001b[34;01mutil\u001b[39;00m\u001b[38;5;250m \u001b[39m\u001b[38;5;28;01mimport\u001b[39;00m reader_retrieve_and_merge\n\u001b[32m     10\u001b[39m \u001b[38;5;28;01mfrom\u001b[39;00m\u001b[38;5;250m \u001b[39m\u001b[34;01m.\u001b[39;00m\u001b[34;01mutil\u001b[39;00m\u001b[38;5;250m \u001b[39m\u001b[38;5;28;01mimport\u001b[39;00m merge_from_data_files\n",
      "\u001b[36mFile \u001b[39m\u001b[32m/work/ab0995/a270260/AQUA_13/AQUA/src/aqua_diagnostics/ensemble/plot_ensemble_zonal.py:5\u001b[39m\n\u001b[32m      3\u001b[39m \u001b[38;5;28;01mfrom\u001b[39;00m\u001b[38;5;250m \u001b[39m\u001b[34;01maqua\u001b[39;00m\u001b[34;01m.\u001b[39;00m\u001b[34;01mlogger\u001b[39;00m\u001b[38;5;250m \u001b[39m\u001b[38;5;28;01mimport\u001b[39;00m log_configure\n\u001b[32m      4\u001b[39m \u001b[38;5;28;01mfrom\u001b[39;00m\u001b[38;5;250m \u001b[39m\u001b[34;01maqua\u001b[39;00m\u001b[34;01m.\u001b[39;00m\u001b[34;01mexceptions\u001b[39;00m\u001b[38;5;250m \u001b[39m\u001b[38;5;28;01mimport\u001b[39;00m NoDataError\n\u001b[32m----> \u001b[39m\u001b[32m5\u001b[39m \u001b[38;5;28;01mfrom\u001b[39;00m\u001b[38;5;250m \u001b[39m\u001b[34;01maqua\u001b[39;00m\u001b[34;01m.\u001b[39;00m\u001b[34;01mgraphics\u001b[39;00m\u001b[38;5;250m \u001b[39m\u001b[38;5;28;01mimport\u001b[39;00m plot_vertical_profile\n\u001b[32m      6\u001b[39m \u001b[38;5;28;01mfrom\u001b[39;00m\u001b[38;5;250m \u001b[39m\u001b[34;01m.\u001b[39;00m\u001b[34;01mbase\u001b[39;00m\u001b[38;5;250m \u001b[39m\u001b[38;5;28;01mimport\u001b[39;00m BaseMixin\n\u001b[32m      8\u001b[39m xr.set_options(keep_attrs=\u001b[38;5;28;01mTrue\u001b[39;00m)\n",
      "\u001b[31mImportError\u001b[39m: cannot import name 'plot_vertical_profile' from 'aqua.graphics' (/work/ab0995/a270260/AQUA_13/AQUA/src/aqua/graphics/__init__.py)"
     ]
    }
   ],
   "source": [
    "import glob\n",
    "import xarray as xr\n",
    "from aqua.diagnostics import merge_from_data_files\n",
    "from aqua.diagnostics import EnsembleZonal\n",
    "from aqua.diagnostics import PlotEnsembleZonal"
   ]
  },
  {
   "cell_type": "code",
   "execution_count": null,
   "id": "69d306d4-82da-4a16-b8c4-1feb418e9fd2",
   "metadata": {},
   "outputs": [],
   "source": [
    "# loading the data as xarray Datasets\n",
    "# Here we are using two same files because we have only this file yet with same lev-lat\n",
    "# loading the Zonal Datasets \n",
    "file_0 = '/work/ab0995/a270260/pre_computed_aqua_analysis/IFS-NEMO/historical-1990/ocean3d_drift/netcdf/IFS-NEMO-historical-1990-lra-r100-monthly_zonal_mean_trend_atlantic_ocean.nc'\n",
    "file_1 = '/work/ab0995/a270260/pre_computed_aqua_analysis/IFS-NEMO/historical-1990/ocean3d_drift/netcdf/IFS-NEMO-historical-1990-lra-r100-monthly_zonal_mean_trend_atlantic_ocean.nc'\n",
    "file_list = [file_0, file_1]"
   ]
  },
  {
   "cell_type": "code",
   "execution_count": null,
   "id": "b84068c0-4250-41dc-99e3-bdd5ab8549f3",
   "metadata": {},
   "outputs": [],
   "source": [
    "# path on lumi\n",
    "# IFS-NEMO: /pfs/lustrep3/projappl/project_465000454/jvonhar/aqua-analysis/output/precomputed_aqua_analysis/IFS-NEMO/historical-1990/ocean3d_drift/netcdf/IFS-NEMO-historical-1990-lra-r100-monthly_zonal_mean_trend_atlantic_ocean.nc"
   ]
  },
  {
   "cell_type": "code",
   "execution_count": null,
   "id": "ed4c943d-1bb4-460b-b27b-6dbfdf238f74",
   "metadata": {},
   "outputs": [],
   "source": [
    "# merging the dataset along the dimension ens_dim\n",
    "# ens_dim=\"ensemble\" name can be changed. \n",
    "# It should remain consistent with the ensemble name for the EnsembleZonal class variable\n",
    "ens_dataset = merge_from_data_files(variable='avg_so', data_path_list=file_list, loglevel = \"WARNING\",ens_dim=\"ensemble\")"
   ]
  },
  {
   "cell_type": "code",
   "execution_count": null,
   "id": "cdbe21ac-450b-4eab-9c0d-d2d093705e28",
   "metadata": {},
   "outputs": [],
   "source": [
    "# from collections import Counter\n",
    "# len(ens_dataset.model)\n",
    "model_counts = ens_dataset.model.values\n",
    "model_counts"
   ]
  },
  {
   "cell_type": "code",
   "execution_count": null,
   "id": "d47b71a7-e99c-48d0-8c9f-7a5deae7b8f4",
   "metadata": {},
   "outputs": [],
   "source": [
    "zonal_ens = EnsembleZonal(var='avg_so', dataset=ens_dataset)"
   ]
  },
  {
   "cell_type": "code",
   "execution_count": null,
   "id": "8052f0dd-efc9-4065-bb93-7387f7d04d0b",
   "metadata": {},
   "outputs": [],
   "source": [
    "zonal_ens.run()"
   ]
  },
  {
   "cell_type": "code",
   "execution_count": null,
   "id": "9dbaf96d-beb7-4ef0-a819-70738173a188",
   "metadata": {},
   "outputs": [],
   "source": [
    "var = 'avg_so'\n",
    "plot_class_arguments = {\n",
    "    \"model_list\": ['IFS-NEMO', 'IFS-NEMO']\n",
    "}\n",
    "\n",
    "plot_arguments = {\n",
    "    \"var\": var,\n",
    "    \"save_pdf\": True,\n",
    "    \"save_png\": True,\n",
    "    \"title_mean\":  'Mean of Ensemble of Zonal-average of avg_so',\n",
    "    \"title_std\": 'Standard deviation of Ensemble of Zonal-average of avg_so',\n",
    "    \"cbar_label\": 'Time-mean sea water practical salinity g kg**-1/year',\n",
    "    \"dataset_mean\" : zonal_ens.dataset_mean, \n",
    "    \"dataset_std\" :zonal_ens.dataset_std}"
   ]
  },
  {
   "cell_type": "code",
   "execution_count": null,
   "id": "eb9d71fb-7388-4a65-a967-43db1a42eab0",
   "metadata": {},
   "outputs": [],
   "source": [
    "ens_zm_plot = PlotEnsembleZonal(**plot_class_arguments)"
   ]
  },
  {
   "cell_type": "code",
   "execution_count": null,
   "id": "70938ece-00f7-4a7c-a1ce-3fc047226129",
   "metadata": {},
   "outputs": [],
   "source": [
    "plot_dict = ens_zm_plot.plot(**plot_arguments)"
   ]
  },
  {
   "cell_type": "code",
   "execution_count": null,
   "id": "6be87dac-5f0c-4c46-bc06-342e5e3cd899",
   "metadata": {},
   "outputs": [],
   "source": [
    "plot_dict['mean_plot'][0] == None "
   ]
  },
  {
   "cell_type": "code",
   "execution_count": null,
   "id": "3549a899-682f-4135-97b6-b6fc749ff68c",
   "metadata": {},
   "outputs": [],
   "source": [
    "zonal_ens.dataset_mean"
   ]
  },
  {
   "cell_type": "code",
   "execution_count": null,
   "id": "5a997e18-f874-4efc-9f89-ffda7e0e108c",
   "metadata": {},
   "outputs": [],
   "source": [
    "zonal_ens.dataset_std"
   ]
  },
  {
   "cell_type": "code",
   "execution_count": null,
   "id": "32ebf1b4-fc0c-47e5-ac8c-94b3626c58ed",
   "metadata": {},
   "outputs": [],
   "source": [
    "ens_dataset.avg_so"
   ]
  },
  {
   "cell_type": "code",
   "execution_count": null,
   "id": "0129ed52-3704-4e6b-adce-3346ae23f7a0",
   "metadata": {},
   "outputs": [],
   "source": []
  },
  {
   "cell_type": "code",
   "execution_count": null,
   "id": "7f9e5f90-6dec-4966-a34f-57122d149dc3",
   "metadata": {},
   "outputs": [],
   "source": []
  }
 ],
 "metadata": {
  "kernelspec": {
   "display_name": "aqua",
   "language": "python",
   "name": "aqua"
  },
  "language_info": {
   "codemirror_mode": {
    "name": "ipython",
    "version": 3
   },
   "file_extension": ".py",
   "mimetype": "text/x-python",
   "name": "python",
   "nbconvert_exporter": "python",
   "pygments_lexer": "ipython3",
   "version": "3.12.11"
  }
 },
 "nbformat": 4,
 "nbformat_minor": 5
}
