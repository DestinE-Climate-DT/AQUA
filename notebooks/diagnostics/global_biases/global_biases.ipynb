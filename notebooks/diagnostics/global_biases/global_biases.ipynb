{
 "cells": [
  {
   "cell_type": "markdown",
   "metadata": {},
   "source": [
    "This notebook shows how to use the global_biases diagnostic.\n",
    "\n",
    "The `GlobalBiases` class provides an easy interface to plot 2D biases maps for a given experiment and a variables with respect to some observational data.\n",
    "\n",
    "Let's plot the global mean temperature for the historical experiment, with a comparison done with the same ERA5 time span and 1990-1999 climatology."
   ]
  },
  {
   "cell_type": "code",
   "execution_count": 1,
   "metadata": {},
   "outputs": [
    {
     "name": "stderr",
     "output_type": "stream",
     "text": [
      "/LUMI_TYKKY_A4O6710/miniconda/envs/env1/lib/python3.12/site-packages/esmpy/interface/loadESMF.py:94: VersionWarning: ESMF installation version 8.8.0, ESMPy version 8.8.0b0\n",
      "  warnings.warn(\"ESMF installation version {}, ESMPy version {}\".format(\n"
     ]
    }
   ],
   "source": [
    "from aqua import Reader\n",
    "from aqua.diagnostics import GlobalBiases, PlotGlobalBiases"
   ]
  },
  {
   "cell_type": "code",
   "execution_count": 2,
   "metadata": {},
   "outputs": [
    {
     "name": "stderr",
     "output_type": "stream",
     "text": [
      "\u001b[37m2025-03-07 21:02:09 :: ConfigPath :: DEBUG    -> AQUA installation found in /users/caprioli/.aqua\u001b[0m\n",
      "\u001b[37m2025-03-07 21:02:09 :: ConfigPath :: DEBUG    -> Configuration file found in /users/caprioli/.aqua/config-aqua.yaml\u001b[0m\n",
      "\u001b[37m2025-03-07 21:02:09 :: ConfigPath :: DEBUG    -> Catalog found in /users/caprioli/.aqua/config-aqua.yaml file are ['obs', 'climatedt-phase1']\u001b[0m\n",
      "\u001b[37m2025-03-07 21:02:09 :: ConfigPath :: DEBUG    -> Available catalogs are ['obs', 'climatedt-phase1']\u001b[0m\n",
      "\u001b[37m2025-03-07 21:02:09 :: ConfigPath :: DEBUG    -> Default catalog will be obs\u001b[0m\n",
      "\u001b[37m2025-03-07 21:02:09 :: ConfigPath :: DEBUG    -> Catalog file is /users/caprioli/.aqua/catalogs/obs/catalog.yaml\u001b[0m\n",
      "\u001b[37m2025-03-07 21:02:09 :: ConfigPath :: DEBUG    -> Machine file is /users/caprioli/.aqua/catalogs/obs/machine.yaml\u001b[0m\n",
      "\u001b[37m2025-03-07 21:02:09 :: ConfigPath :: DEBUG    -> Machine found in configuration file, set to lumi\u001b[0m\n",
      "\u001b[37m2025-03-07 21:02:09 :: ConfigPath :: DEBUG    -> Machine found in configuration file, set to lumi\u001b[0m\n",
      "\u001b[37m2025-03-07 21:02:09 :: ConfigPath :: DEBUG    -> Browsing catalog obs ...\u001b[0m\n",
      "\u001b[37m2025-03-07 21:02:09 :: ConfigPath :: DEBUG    -> Catalog file is /users/caprioli/.aqua/catalogs/obs/catalog.yaml\u001b[0m\n",
      "\u001b[37m2025-03-07 21:02:09 :: ConfigPath :: DEBUG    -> Machine file is /users/caprioli/.aqua/catalogs/obs/machine.yaml\u001b[0m\n",
      "\u001b[37m2025-03-07 21:02:09 :: ConfigPath :: DEBUG    -> Browsing catalog climatedt-phase1 ...\u001b[0m\n",
      "\u001b[37m2025-03-07 21:02:09 :: ConfigPath :: DEBUG    -> Catalog file is /users/caprioli/.aqua/catalogs/climatedt-phase1/catalog.yaml\u001b[0m\n",
      "\u001b[37m2025-03-07 21:02:09 :: ConfigPath :: DEBUG    -> Machine file is /users/caprioli/.aqua/catalogs/climatedt-phase1/machine.yaml\u001b[0m\n",
      "\u001b[32m2025-03-07 21:02:10 :: ConfigPath :: INFO     -> IFS-NEMO_historical-1990_lra-r100-monthly triplet found in in climatedt-phase1!\u001b[0m\n",
      "\u001b[37m2025-03-07 21:02:10 :: ConfigPath :: DEBUG    -> Final catalog to be used is climatedt-phase1\u001b[0m\n",
      "\u001b[37m2025-03-07 21:02:10 :: ConfigPath :: DEBUG    -> Catalog file is /users/caprioli/.aqua/catalogs/climatedt-phase1/catalog.yaml\u001b[0m\n",
      "\u001b[37m2025-03-07 21:02:10 :: ConfigPath :: DEBUG    -> Machine file is /users/caprioli/.aqua/catalogs/climatedt-phase1/machine.yaml\u001b[0m\n",
      "\u001b[37m2025-03-07 21:02:10 :: yaml :: DEBUG    -> Creating a new dictionary\u001b[0m\n",
      "\u001b[37m2025-03-07 21:02:10 :: yaml :: DEBUG    -> Folder to be merged: /users/caprioli/.aqua/fixes\u001b[0m\n",
      "\u001b[37m2025-03-07 21:02:10 :: yaml :: DEBUG    -> Dictionary updated\u001b[0m\n",
      "\u001b[37m2025-03-07 21:02:10 :: yaml :: DEBUG    -> Keys: dict_keys(['models', 'fixer_name', 'convention_name', 'defaults'])\u001b[0m\n",
      "\u001b[32m2025-03-07 21:02:10 :: Reader :: INFO     -> Convention dictionary: eccodes-2.39.0\u001b[0m\n",
      "\u001b[32m2025-03-07 21:02:10 :: Reader :: INFO     -> No fixer_name found, only convention will be applied\u001b[0m\n",
      "\u001b[37m2025-03-07 21:02:10 :: Reader :: DEBUG    -> Final fixes are: {'vars': {'2d': {'source': [168, 235168, '2d', 'avg_2d', 'D2M'], 'grib': 168}, '2t': {'source': [167, 228004, '2t', 'tas', 'mean2t', 'avg_2t', 'T2M'], 'grib': 167}, '10u': {'source': [165, 235165, '10u', 'uas', 'm10u', 'avg_10u', 'U10M', 'u10'], 'grib': 165}, '10v': {'source': [166, 235166, '10v', 'vas', 'm10v', 'avg_10v', 'V10M', 'v10'], 'grib': 166}, 'clwc': {'source': [246, 235246, 'clwc', 'avg_clwc'], 'grib': 246}, 'hcc': {'source': [3075, 188, 235110, 235188, 'hcc', 'avg_hcc', 'avg_hcc_frac', 'HCC'], 'grib': 3075}, 'lcc': {'source': [3073, 186, 235108, 235186, 'lcc', 'avg_lcc', 'avg_lcc_frac', 'LCC'], 'grib': 3073}, 'mcc': {'source': [3074, 187, 235109, 235187, 'mcc', 'avg_mcc', 'avg_mcc_frac', 'MCC'], 'grib': 3074}, 'msl': {'source': [151, 235151, 'msl', 'avg_msl', 'mmsl', 'psl', 'sea_level_pressure', 'MSL'], 'grib': 151}, 'pv': {'source': [60, 235100, 'pv', 'avg_pv'], 'grib': 60}, 'q': {'source': [133, 235133, 'q', 'avg_q', 'hus', 'mq', 'Q'], 'grib': 133}, 'r': {'source': [157, 235157, 'r', 'avg_r', 'hur'], 'grib': 157}, 'sd': {'source': [141, 228141, 235141, 235078, 'sd', 'avg_sd', 'msd', 'avg_sd_m'], 'grib': 228141}, 'skt': {'source': [235, 235079, 'skt', 'ts', 'avg_skt', 'mskt'], 'grib': 235}, 'sp': {'source': [134, 235134, 'sp', 'avg_sp', 'ps'], 'grib': 134}, 'ssurfror': {'source': [9, 235021, 231011, 172009, 'ssro', 'ssurfror', 'mssror', 'avg_ssurfror'], 'grib': 231011}, 'surfror': {'source': [8, 235020, 231009, 172008, 'sro', 'avg_surfror', 'msror', 'surfror', 'mrros'], 'grib': 231009}, 't': {'source': [130, 235130, 't', 'avg_t', 'ta', 'mt', 'T'], 'grib': 130}, 'tcc': {'source': [164, 228006, 228164, 'tcc', 'clt', 'meantcc', 'avg_tcc', 'TCC'], 'grib': 131164}, 'tciw': {'source': [79, 235088, 'tciw', 'avg_tciw', 'clivi'], 'grib': 79}, 'tclw': {'source': [78, 235087, 'tclw', 'avg_tclw', 'cllvi'], 'grib': 78}, 'tcwv': {'source': [137, 235137, 'tcwv', 'avg_tcwv', 'prw'], 'grib': 137}, 'u': {'source': [131, 235131, 'u', 'avg_u', 'U', 'ua'], 'grib': 131}, 'v': {'source': [132, 235132, 'v', 'avg_v', 'V', 'va'], 'grib': 132}, 'w': {'source': [135, 235135, 'w', 'avg_w', 'wa'], 'grib': 135}, 'z': {'source': [129, 235129, 'z', 'avg_z'], 'grib': 129}, 'cprea': {'source': [143, 160143, 'cp'], 'grib': 160143}, 'ie': {'source': [232, 235043, 182, 'e', 'ie', 'avg_ie', 'mer', 'E', 'evspsbl'], 'grib': 232}, 'iews': {'source': [235041, 229, 'ews', 'iews', 'avg_iews', 'metss', 'ewss', 'tauu'], 'grib': 229}, 'inss': {'source': [235042, 230, 'nss', 'inss', 'avg_inss', 'mntss', 'nsss', 'tauv'], 'grib': 230}, 'ishf': {'source': [231, 146, 235033, 'ishf', 'avg_ishf', 'SSHF', 'sshf', 'msshf', 'hfss'], 'grib': 231}, 'lsprate': {'source': [142, 260050, 'lsp', 'prlr'], 'grib': 260050}, 'sdlwrf': {'source': [260097, 175, 235036, 'sdlwrf', 'avg_sdlwrf', 'msdwlwrf', 'strd', 'rlds', 'STRD'], 'grib': 260097}, 'sdswrf': {'source': [169, 260087, 235035, 'sdswrf', 'avg_sdswrf', 'msdwswrf', 'ssrd', 'msdsrf', 'rsds', 'SSRD'], 'grib': 260087}, 'slhtf': {'source': [147, 260002, 235034, 'slhtf', 'avg_slhtf', 'mslhf', 'slhf', 'SLHF', 'hfls'], 'grib': 260002}, 'snlwrf': {'source': [177, 260099, 235038, 'snlwrf', 'avg_snlwrf', 'msnlwrf', 'str', 'STR', 'rlus'], 'grib': 260099}, 'snlwrfcs': {'source': [211, 260100, 235052, 'snlwrcs', 'snlwrfcs', 'avg_snlwrfcs', 'msnlwrfcs', 'strc', 'STRC'], 'grib': 260100}, 'snswrf': {'source': [176, 260089, 235037, 'snswrf', 'avg_snswrf', 'msnswrf', 'ssr', 'SSR'], 'grib': 260089}, 'snswrfcs': {'source': [210, 260091, 235051, 'snswrfcs', 'avg_snswrfcs', 'msnswrfcs', 'ssrc', 'SSRC'], 'grib': 260091}, 'tdswrf': {'source': [212, 260676, 235053, 'tdswrf', 'avg_tdswrf', 'mtdwswrf', 'tisr', 'TISR'], 'grib': 260676}, 'tnlwrf': {'source': [179, 260672, 235040, 'tnlwrf', 'avg_tnlwrf', 'mtnlwrf', 'ttr', 'TTR'], 'grib': 260672}, 'tnlwrfcs': {'source': [209, 260675, 235050, 'tnlwrfcs', 'avg_tnlwrfcs', 'mtnlwrfcs', 'ttrc', 'TTRC'], 'grib': 260675}, 'tnswrf': {'source': [178, 260671, 235039, 'tnswrf', 'avg_tnswrf', 'mtnswrf', 'tsr', 'TSR'], 'grib': 260671}, 'tnswrfcs': {'source': [208, 260674, 235049, 'tnswrfcs', 'avg_tnswrfcs', 'mtnswrfcs', 'tsrc', 'TSRC'], 'grib': 260674}, 'tprate': {'source': [260048, 235055, 172228, 228, 'mtpr', 'tprate', 'avg_tprate', 'pr', 'prec', 'tp', 'TP', 'rr'], 'grib': 260048}, 'tsrwe': {'source': [260049, 235031, 144, 'tsrwe', 'avg_tsrwe', 'prsn', 'sf', 'msr'], 'grib': 260049}, 'hc300m': {'source': [262121, 263121, 'avg_hc300m', 'hc300m'], 'grib': 262121}, 'hc700m': {'source': [262122, 263122, 'avg_hc700m', 'hc700m'], 'grib': 262122}, 'hcbtm': {'source': [262123, 263123, 'avg_hcbtm', 'hcbtm']}, 'sos': {'source': [262100, 263100, 'sos', 'sss', 'avg_sos'], 'grib': 262100}, 'tos': {'source': [34, 262101, 263101, 'avg_tos', 'tos', 'sst', 'analysed_sst', 'SSTK', 'avg_sst'], 'grib': 262101}, 'zos': {'source': [262124, 263124, 'avg_zos', 'zos', 'ssh'], 'grib': 262124}, 'so': {'source': [262500, 263500, 'so', 'salt', 'avg_so'], 'grid': 262500}, 'thetao': {'source': [150129, 262501, 263501, 'thetao', 'avg_thetao', 'temp', 'ocpt', 'to'], 'grid': 262501}, 'uoe': {'source': [262506, 263506, 'avg_uoe', 'uoe', 'uo'], 'grib': 262506}, 'von': {'source': [262505, 263505, 'avg_von', 'von', 'vo'], 'grib': 262505}, 'wo': {'source': [262507, 263507, 'avg_wo', 'wo'], 'grib': 262507}, 'siconc': {'source': [31, 262001, 263001, 'siconc', 'avg_siconc', 'sic', 'sea_ice_fraction', 'ci', 'CI', 'a_ice', 'ice_conc'], 'grib': 262001}, 'sisnthick': {'source': [262002, 263002, 'sisnthick', 'avg_sisnthick'], 'grib': 262002}, 'sithick': {'source': [262000, 263000, 'sit', 'm_ice', 'avg_sithick', 'sithick'], 'grib': 262000}, 'siue': {'source': [262003, 263003, 'siue', 'uice', 'avg_siue', 'siu'], 'grib': 262003}, 'sivn': {'source': [262004, 263004, 'sivn', 'vice', 'avg_sivn', 'siv'], 'grib': 262004}, 'sivol': {'source': [262008, 263008, 'sivol', 'avg_sivol'], 'grib': 262008}, 'snvol': {'source': [262009, 263009, 'snvol', 'avg_snvol'], 'grib': 262009}}}\u001b[0m\n",
      "\u001b[37m2025-03-07 21:02:10 :: Reader :: DEBUG    -> Found CDO path: /LUMI_TYKKY_A4O6710/miniconda/envs/env1/bin/cdo\u001b[0m\n",
      "\u001b[37m2025-03-07 21:02:10 :: yaml :: DEBUG    -> Creating a new dictionary\u001b[0m\n",
      "\u001b[37m2025-03-07 21:02:10 :: yaml :: DEBUG    -> Folder to be merged: /users/caprioli/.aqua/grids\u001b[0m\n",
      "\u001b[37m2025-03-07 21:02:11 :: yaml :: DEBUG    -> Dictionary updated\u001b[0m\n",
      "\u001b[37m2025-03-07 21:02:11 :: yaml :: DEBUG    -> Keys: dict_keys(['grids', 'weights', 'areas', 'cdo-paths'])\u001b[0m\n",
      "\u001b[32m2025-03-07 21:02:11 :: Reader :: INFO     -> Grid metadata is lon-lat\u001b[0m\n",
      "\u001b[37m2025-03-07 21:02:11 :: Reader :: DEBUG    -> Space coords are ['lon', 'lat']\u001b[0m\n",
      "\u001b[37m2025-03-07 21:02:11 :: Reader :: DEBUG    -> Vert coords are ['2d']\u001b[0m\n",
      "\u001b[37m2025-03-07 21:02:11 :: Reader :: DEBUG    -> Applying fixes to area file\u001b[0m\n",
      "\u001b[37m2025-03-07 21:02:11 :: Reader :: DEBUG    -> Data model: /users/caprioli/.aqua/data_models/cf2cds.json\u001b[0m\n",
      "\u001b[32m2025-03-07 21:02:11 :: Reader :: INFO     -> Retrieving variables: ['q']\u001b[0m\n",
      "\u001b[37m2025-03-07 21:02:11 :: Reader :: DEBUG    -> Variables in the fixes: {'2d': {'source': [168, 235168, '2d', 'avg_2d', 'D2M'], 'grib': 168}, '2t': {'source': [167, 228004, '2t', 'tas', 'mean2t', 'avg_2t', 'T2M'], 'grib': 167}, '10u': {'source': [165, 235165, '10u', 'uas', 'm10u', 'avg_10u', 'U10M', 'u10'], 'grib': 165}, '10v': {'source': [166, 235166, '10v', 'vas', 'm10v', 'avg_10v', 'V10M', 'v10'], 'grib': 166}, 'clwc': {'source': [246, 235246, 'clwc', 'avg_clwc'], 'grib': 246}, 'hcc': {'source': [3075, 188, 235110, 235188, 'hcc', 'avg_hcc', 'avg_hcc_frac', 'HCC'], 'grib': 3075}, 'lcc': {'source': [3073, 186, 235108, 235186, 'lcc', 'avg_lcc', 'avg_lcc_frac', 'LCC'], 'grib': 3073}, 'mcc': {'source': [3074, 187, 235109, 235187, 'mcc', 'avg_mcc', 'avg_mcc_frac', 'MCC'], 'grib': 3074}, 'msl': {'source': [151, 235151, 'msl', 'avg_msl', 'mmsl', 'psl', 'sea_level_pressure', 'MSL'], 'grib': 151}, 'pv': {'source': [60, 235100, 'pv', 'avg_pv'], 'grib': 60}, 'q': {'source': [133, 235133, 'q', 'avg_q', 'hus', 'mq', 'Q'], 'grib': 133}, 'r': {'source': [157, 235157, 'r', 'avg_r', 'hur'], 'grib': 157}, 'sd': {'source': [141, 228141, 235141, 235078, 'sd', 'avg_sd', 'msd', 'avg_sd_m'], 'grib': 228141}, 'skt': {'source': [235, 235079, 'skt', 'ts', 'avg_skt', 'mskt'], 'grib': 235}, 'sp': {'source': [134, 235134, 'sp', 'avg_sp', 'ps'], 'grib': 134}, 'ssurfror': {'source': [9, 235021, 231011, 172009, 'ssro', 'ssurfror', 'mssror', 'avg_ssurfror'], 'grib': 231011}, 'surfror': {'source': [8, 235020, 231009, 172008, 'sro', 'avg_surfror', 'msror', 'surfror', 'mrros'], 'grib': 231009}, 't': {'source': [130, 235130, 't', 'avg_t', 'ta', 'mt', 'T'], 'grib': 130}, 'tcc': {'source': [164, 228006, 228164, 'tcc', 'clt', 'meantcc', 'avg_tcc', 'TCC'], 'grib': 131164}, 'tciw': {'source': [79, 235088, 'tciw', 'avg_tciw', 'clivi'], 'grib': 79}, 'tclw': {'source': [78, 235087, 'tclw', 'avg_tclw', 'cllvi'], 'grib': 78}, 'tcwv': {'source': [137, 235137, 'tcwv', 'avg_tcwv', 'prw'], 'grib': 137}, 'u': {'source': [131, 235131, 'u', 'avg_u', 'U', 'ua'], 'grib': 131}, 'v': {'source': [132, 235132, 'v', 'avg_v', 'V', 'va'], 'grib': 132}, 'w': {'source': [135, 235135, 'w', 'avg_w', 'wa'], 'grib': 135}, 'z': {'source': [129, 235129, 'z', 'avg_z'], 'grib': 129}, 'cprea': {'source': [143, 160143, 'cp'], 'grib': 160143}, 'ie': {'source': [232, 235043, 182, 'e', 'ie', 'avg_ie', 'mer', 'E', 'evspsbl'], 'grib': 232}, 'iews': {'source': [235041, 229, 'ews', 'iews', 'avg_iews', 'metss', 'ewss', 'tauu'], 'grib': 229}, 'inss': {'source': [235042, 230, 'nss', 'inss', 'avg_inss', 'mntss', 'nsss', 'tauv'], 'grib': 230}, 'ishf': {'source': [231, 146, 235033, 'ishf', 'avg_ishf', 'SSHF', 'sshf', 'msshf', 'hfss'], 'grib': 231}, 'lsprate': {'source': [142, 260050, 'lsp', 'prlr'], 'grib': 260050}, 'sdlwrf': {'source': [260097, 175, 235036, 'sdlwrf', 'avg_sdlwrf', 'msdwlwrf', 'strd', 'rlds', 'STRD'], 'grib': 260097}, 'sdswrf': {'source': [169, 260087, 235035, 'sdswrf', 'avg_sdswrf', 'msdwswrf', 'ssrd', 'msdsrf', 'rsds', 'SSRD'], 'grib': 260087}, 'slhtf': {'source': [147, 260002, 235034, 'slhtf', 'avg_slhtf', 'mslhf', 'slhf', 'SLHF', 'hfls'], 'grib': 260002}, 'snlwrf': {'source': [177, 260099, 235038, 'snlwrf', 'avg_snlwrf', 'msnlwrf', 'str', 'STR', 'rlus'], 'grib': 260099}, 'snlwrfcs': {'source': [211, 260100, 235052, 'snlwrcs', 'snlwrfcs', 'avg_snlwrfcs', 'msnlwrfcs', 'strc', 'STRC'], 'grib': 260100}, 'snswrf': {'source': [176, 260089, 235037, 'snswrf', 'avg_snswrf', 'msnswrf', 'ssr', 'SSR'], 'grib': 260089}, 'snswrfcs': {'source': [210, 260091, 235051, 'snswrfcs', 'avg_snswrfcs', 'msnswrfcs', 'ssrc', 'SSRC'], 'grib': 260091}, 'tdswrf': {'source': [212, 260676, 235053, 'tdswrf', 'avg_tdswrf', 'mtdwswrf', 'tisr', 'TISR'], 'grib': 260676}, 'tnlwrf': {'source': [179, 260672, 235040, 'tnlwrf', 'avg_tnlwrf', 'mtnlwrf', 'ttr', 'TTR'], 'grib': 260672}, 'tnlwrfcs': {'source': [209, 260675, 235050, 'tnlwrfcs', 'avg_tnlwrfcs', 'mtnlwrfcs', 'ttrc', 'TTRC'], 'grib': 260675}, 'tnswrf': {'source': [178, 260671, 235039, 'tnswrf', 'avg_tnswrf', 'mtnswrf', 'tsr', 'TSR'], 'grib': 260671}, 'tnswrfcs': {'source': [208, 260674, 235049, 'tnswrfcs', 'avg_tnswrfcs', 'mtnswrfcs', 'tsrc', 'TSRC'], 'grib': 260674}, 'tprate': {'source': [260048, 235055, 172228, 228, 'mtpr', 'tprate', 'avg_tprate', 'pr', 'prec', 'tp', 'TP', 'rr'], 'grib': 260048}, 'tsrwe': {'source': [260049, 235031, 144, 'tsrwe', 'avg_tsrwe', 'prsn', 'sf', 'msr'], 'grib': 260049}, 'hc300m': {'source': [262121, 263121, 'avg_hc300m', 'hc300m'], 'grib': 262121}, 'hc700m': {'source': [262122, 263122, 'avg_hc700m', 'hc700m'], 'grib': 262122}, 'hcbtm': {'source': [262123, 263123, 'avg_hcbtm', 'hcbtm']}, 'sos': {'source': [262100, 263100, 'sos', 'sss', 'avg_sos'], 'grib': 262100}, 'tos': {'source': [34, 262101, 263101, 'avg_tos', 'tos', 'sst', 'analysed_sst', 'SSTK', 'avg_sst'], 'grib': 262101}, 'zos': {'source': [262124, 263124, 'avg_zos', 'zos', 'ssh'], 'grib': 262124}, 'so': {'source': [262500, 263500, 'so', 'salt', 'avg_so'], 'grid': 262500}, 'thetao': {'source': [150129, 262501, 263501, 'thetao', 'avg_thetao', 'temp', 'ocpt', 'to'], 'grid': 262501}, 'uoe': {'source': [262506, 263506, 'avg_uoe', 'uoe', 'uo'], 'grib': 262506}, 'von': {'source': [262505, 263505, 'avg_von', 'von', 'vo'], 'grib': 262505}, 'wo': {'source': [262507, 263507, 'avg_wo', 'wo'], 'grib': 262507}, 'siconc': {'source': [31, 262001, 263001, 'siconc', 'avg_siconc', 'sic', 'sea_ice_fraction', 'ci', 'CI', 'a_ice', 'ice_conc'], 'grib': 262001}, 'sisnthick': {'source': [262002, 263002, 'sisnthick', 'avg_sisnthick'], 'grib': 262002}, 'sithick': {'source': [262000, 263000, 'sit', 'm_ice', 'avg_sithick', 'sithick'], 'grib': 262000}, 'siue': {'source': [262003, 263003, 'siue', 'uice', 'avg_siue', 'siu'], 'grib': 262003}, 'sivn': {'source': [262004, 263004, 'sivn', 'vice', 'avg_sivn', 'siv'], 'grib': 262004}, 'sivol': {'source': [262008, 263008, 'sivol', 'avg_sivol'], 'grib': 262008}, 'snvol': {'source': [262009, 263009, 'snvol', 'avg_snvol'], 'grib': 262009}}\u001b[0m\n",
      "\u001b[37m2025-03-07 21:02:11 :: Reader :: DEBUG    -> Variables to be loaded: [[133, 235133, 'q', 'avg_q', 'hus', 'mq', 'Q']]\u001b[0m\n",
      "/LUMI_TYKKY_A4O6710/miniconda/envs/env1/lib/python3.12/site-packages/intake_xarray/base.py:21: FutureWarning: The return type of `Dataset.dims` will be changed to return a set of dimension names in future, in order to be more consistent with `DataArray.dims`. To access a mapping from dimension names to lengths, please use `Dataset.sizes`.\n",
      "  'dims': dict(self._ds.dims),\n",
      "/LUMI_TYKKY_A4O6710/miniconda/envs/env1/lib/python3.12/site-packages/intake_xarray/base.py:21: FutureWarning: The return type of `Dataset.dims` will be changed to return a set of dimension names in future, in order to be more consistent with `DataArray.dims`. To access a mapping from dimension names to lengths, please use `Dataset.sizes`.\n",
      "  'dims': dict(self._ds.dims),\n",
      "/LUMI_TYKKY_A4O6710/miniconda/envs/env1/lib/python3.12/site-packages/intake_xarray/base.py:21: FutureWarning: The return type of `Dataset.dims` will be changed to return a set of dimension names in future, in order to be more consistent with `DataArray.dims`. To access a mapping from dimension names to lengths, please use `Dataset.sizes`.\n",
      "  'dims': dict(self._ds.dims),\n",
      "/LUMI_TYKKY_A4O6710/miniconda/envs/env1/lib/python3.12/site-packages/intake_xarray/base.py:21: FutureWarning: The return type of `Dataset.dims` will be changed to return a set of dimension names in future, in order to be more consistent with `DataArray.dims`. To access a mapping from dimension names to lengths, please use `Dataset.sizes`.\n",
      "  'dims': dict(self._ds.dims),\n",
      "/LUMI_TYKKY_A4O6710/miniconda/envs/env1/lib/python3.12/site-packages/intake_xarray/base.py:21: FutureWarning: The return type of `Dataset.dims` will be changed to return a set of dimension names in future, in order to be more consistent with `DataArray.dims`. To access a mapping from dimension names to lengths, please use `Dataset.sizes`.\n",
      "  'dims': dict(self._ds.dims),\n",
      "/LUMI_TYKKY_A4O6710/miniconda/envs/env1/lib/python3.12/site-packages/intake_xarray/base.py:21: FutureWarning: The return type of `Dataset.dims` will be changed to return a set of dimension names in future, in order to be more consistent with `DataArray.dims`. To access a mapping from dimension names to lengths, please use `Dataset.sizes`.\n",
      "  'dims': dict(self._ds.dims),\n",
      "\u001b[37m2025-03-07 21:02:21 :: Reader :: DEBUG    -> Default input datamodel: cf\u001b[0m\n",
      "\u001b[37m2025-03-07 21:02:21 :: Reader :: DEBUG    -> deltat = 1 defined as Reader() default\u001b[0m\n",
      "\u001b[32m2025-03-07 21:02:21 :: Reader :: INFO     -> Variables to be fixed: {'q': {'source': [133, 235133, 'q', 'avg_q', 'hus', 'mq', 'Q'], 'grib': 133}}\u001b[0m\n",
      "\u001b[37m2025-03-07 21:02:21 :: Reader :: DEBUG    -> Grib variable var133, looking for attributes\u001b[0m\n",
      "\u001b[37m2025-03-07 21:02:21 :: Reader :: DEBUG    -> Grib variable var133, shortname is q\u001b[0m\n",
      "\u001b[37m2025-03-07 21:02:21 :: Reader :: DEBUG    -> For grib variable var133 find eccodes shortname q, replacing it\u001b[0m\n",
      "\u001b[37m2025-03-07 21:02:21 :: Reader :: DEBUG    -> Grib attributes for q: {'paramId': '133', 'long_name': 'Specific humidity', 'units': 'kg kg**-1', 'shortName': 'q'}\u001b[0m\n",
      "\u001b[37m2025-03-07 21:02:21 :: Reader :: DEBUG    -> Name of fixer var: q\u001b[0m\n",
      "\u001b[37m2025-03-07 21:02:21 :: Reader :: DEBUG    -> Name of data source var: q\u001b[0m\n",
      "\u001b[37m2025-03-07 21:02:21 :: Reader :: DEBUG    -> Name of target var: q\u001b[0m\n",
      "\u001b[32m2025-03-07 21:02:21 :: Reader :: INFO     -> q: converting units kg kg**-1 --> kg kg**-1\u001b[0m\n",
      "\u001b[37m2025-03-07 21:02:21 :: Reader :: DEBUG    -> q: org_units is kg kg**-1, tgt_units is None\u001b[0m\n",
      "\u001b[37m2025-03-07 21:02:21 :: Reader :: DEBUG    -> Data model: /users/caprioli/.aqua/data_models/cf2cds.json\u001b[0m\n",
      "\u001b[32m2025-03-07 21:02:21 :: Reader :: INFO     -> coordinates adjusted to cf by AQUA fixer\u001b[0m\n",
      "\u001b[33m2025-03-07 21:02:21 :: Global Biases :: WARNING  -> Variable q has multiple pressure levels but none selected. Skipping 2D plotting for bias maps.\u001b[0m\n",
      "\u001b[37m2025-03-07 21:02:21 :: ConfigPath :: DEBUG    -> Updating the log_level to DEBUG\u001b[0m\n",
      "\u001b[37m2025-03-07 21:02:21 :: ConfigPath :: DEBUG    -> AQUA installation found in /users/caprioli/.aqua\u001b[0m\n",
      "\u001b[37m2025-03-07 21:02:21 :: ConfigPath :: DEBUG    -> Configuration file found in /users/caprioli/.aqua/config-aqua.yaml\u001b[0m\n",
      "\u001b[37m2025-03-07 21:02:21 :: ConfigPath :: DEBUG    -> Catalog found in /users/caprioli/.aqua/config-aqua.yaml file are ['obs', 'climatedt-phase1']\u001b[0m\n",
      "\u001b[37m2025-03-07 21:02:21 :: ConfigPath :: DEBUG    -> Available catalogs are ['obs', 'climatedt-phase1']\u001b[0m\n",
      "\u001b[37m2025-03-07 21:02:21 :: ConfigPath :: DEBUG    -> Default catalog will be obs\u001b[0m\n",
      "\u001b[37m2025-03-07 21:02:21 :: ConfigPath :: DEBUG    -> Catalog file is /users/caprioli/.aqua/catalogs/obs/catalog.yaml\u001b[0m\n",
      "\u001b[37m2025-03-07 21:02:21 :: ConfigPath :: DEBUG    -> Machine file is /users/caprioli/.aqua/catalogs/obs/machine.yaml\u001b[0m\n",
      "\u001b[37m2025-03-07 21:02:21 :: ConfigPath :: DEBUG    -> Machine found in configuration file, set to lumi\u001b[0m\n",
      "\u001b[37m2025-03-07 21:02:21 :: ConfigPath :: DEBUG    -> Machine found in configuration file, set to lumi\u001b[0m\n",
      "\u001b[37m2025-03-07 21:02:21 :: ConfigPath :: DEBUG    -> Browsing catalog obs ...\u001b[0m\n",
      "\u001b[37m2025-03-07 21:02:21 :: ConfigPath :: DEBUG    -> Catalog file is /users/caprioli/.aqua/catalogs/obs/catalog.yaml\u001b[0m\n",
      "\u001b[37m2025-03-07 21:02:21 :: ConfigPath :: DEBUG    -> Machine file is /users/caprioli/.aqua/catalogs/obs/machine.yaml\u001b[0m\n",
      "\u001b[32m2025-03-07 21:02:21 :: ConfigPath :: INFO     -> ERA5_era5_monthly triplet found in in obs!\u001b[0m\n",
      "\u001b[37m2025-03-07 21:02:21 :: ConfigPath :: DEBUG    -> Browsing catalog climatedt-phase1 ...\u001b[0m\n",
      "\u001b[37m2025-03-07 21:02:21 :: ConfigPath :: DEBUG    -> Catalog file is /users/caprioli/.aqua/catalogs/climatedt-phase1/catalog.yaml\u001b[0m\n",
      "\u001b[37m2025-03-07 21:02:21 :: ConfigPath :: DEBUG    -> Machine file is /users/caprioli/.aqua/catalogs/climatedt-phase1/machine.yaml\u001b[0m\n",
      "\u001b[37m2025-03-07 21:02:21 :: ConfigPath :: DEBUG    -> Final catalog to be used is obs\u001b[0m\n",
      "\u001b[37m2025-03-07 21:02:21 :: ConfigPath :: DEBUG    -> Catalog file is /users/caprioli/.aqua/catalogs/obs/catalog.yaml\u001b[0m\n",
      "\u001b[37m2025-03-07 21:02:21 :: ConfigPath :: DEBUG    -> Machine file is /users/caprioli/.aqua/catalogs/obs/machine.yaml\u001b[0m\n",
      "\u001b[37m2025-03-07 21:02:21 :: yaml :: DEBUG    -> Creating a new dictionary\u001b[0m\n",
      "\u001b[37m2025-03-07 21:02:21 :: yaml :: DEBUG    -> Folder to be merged: /users/caprioli/.aqua/fixes\u001b[0m\n",
      "\u001b[37m2025-03-07 21:02:21 :: yaml :: DEBUG    -> Dictionary updated\u001b[0m\n",
      "\u001b[37m2025-03-07 21:02:21 :: yaml :: DEBUG    -> Keys: dict_keys(['models', 'fixer_name', 'convention_name', 'defaults'])\u001b[0m\n",
      "\u001b[32m2025-03-07 21:02:21 :: Reader :: INFO     -> Convention dictionary: eccodes-2.39.0\u001b[0m\n",
      "\u001b[32m2025-03-07 21:02:21 :: Reader :: INFO     -> Fix names in metadata is ERA5-destine-v1\u001b[0m\n",
      "\u001b[32m2025-03-07 21:02:21 :: Reader :: INFO     -> Fix names ERA5-destine-v1 found in fixes files\u001b[0m\n",
      "\u001b[37m2025-03-07 21:02:21 :: Reader :: DEBUG    -> Final fixes are: {'convention': 'eccodes', 'data_model': 'cf', 'vars': {'ie': {'source': 'E', 'grib': 232, 'src_units': 'm/day'}, 'tprate': {'source': 'TP', 'grib': 260048, 'src_units': 'm/day'}, 'slhtf': {'source': 'SLHF', 'grib': 260002, 'src_units': 'J m**-2 day**-1'}, 'ishf': {'source': 'SSHF', 'grib': 231, 'src_units': 'J m**-2 day**-1'}, 'snswrf': {'source': 'SSR', 'grib': 260089, 'src_units': 'J m**-2 day**-1'}, 'sdswrf': {'source': 'SSRD', 'grib': 260087, 'src_units': 'J m**-2 day**-1'}, 'snlwrf': {'source': 'STR', 'grib': 260099, 'src_units': 'J m**-2 day**-1'}, 'sdlwrf': {'source': 'STRD', 'grib': 260097, 'src_units': 'J m**-2 day**-1'}, 'tnswrf': {'source': 'TSR', 'grib': 260671, 'src_units': 'J m**-2 day**-1'}, 'tnlwrf': {'source': 'TTR', 'grib': 260672, 'src_units': 'J m**-2 day**-1'}, '2d': {'source': [168, 235168, '2d', 'avg_2d', 'D2M'], 'grib': 168}, '2t': {'source': [167, 228004, '2t', 'tas', 'mean2t', 'avg_2t', 'T2M'], 'grib': 167}, '10u': {'source': [165, 235165, '10u', 'uas', 'm10u', 'avg_10u', 'U10M', 'u10'], 'grib': 165}, '10v': {'source': [166, 235166, '10v', 'vas', 'm10v', 'avg_10v', 'V10M', 'v10'], 'grib': 166}, 'clwc': {'source': [246, 235246, 'clwc', 'avg_clwc'], 'grib': 246}, 'hcc': {'source': [3075, 188, 235110, 235188, 'hcc', 'avg_hcc', 'avg_hcc_frac', 'HCC'], 'grib': 3075}, 'lcc': {'source': [3073, 186, 235108, 235186, 'lcc', 'avg_lcc', 'avg_lcc_frac', 'LCC'], 'grib': 3073}, 'mcc': {'source': [3074, 187, 235109, 235187, 'mcc', 'avg_mcc', 'avg_mcc_frac', 'MCC'], 'grib': 3074}, 'msl': {'source': [151, 235151, 'msl', 'avg_msl', 'mmsl', 'psl', 'sea_level_pressure', 'MSL'], 'grib': 151}, 'pv': {'source': [60, 235100, 'pv', 'avg_pv'], 'grib': 60}, 'q': {'source': [133, 235133, 'q', 'avg_q', 'hus', 'mq', 'Q'], 'grib': 133}, 'r': {'source': [157, 235157, 'r', 'avg_r', 'hur'], 'grib': 157}, 'sd': {'source': [141, 228141, 235141, 235078, 'sd', 'avg_sd', 'msd', 'avg_sd_m'], 'grib': 228141}, 'skt': {'source': [235, 235079, 'skt', 'ts', 'avg_skt', 'mskt'], 'grib': 235}, 'sp': {'source': [134, 235134, 'sp', 'avg_sp', 'ps'], 'grib': 134}, 'ssurfror': {'source': [9, 235021, 231011, 172009, 'ssro', 'ssurfror', 'mssror', 'avg_ssurfror'], 'grib': 231011}, 'surfror': {'source': [8, 235020, 231009, 172008, 'sro', 'avg_surfror', 'msror', 'surfror', 'mrros'], 'grib': 231009}, 't': {'source': [130, 235130, 't', 'avg_t', 'ta', 'mt', 'T'], 'grib': 130}, 'tcc': {'source': [164, 228006, 228164, 'tcc', 'clt', 'meantcc', 'avg_tcc', 'TCC'], 'grib': 131164}, 'tciw': {'source': [79, 235088, 'tciw', 'avg_tciw', 'clivi'], 'grib': 79}, 'tclw': {'source': [78, 235087, 'tclw', 'avg_tclw', 'cllvi'], 'grib': 78}, 'tcwv': {'source': [137, 235137, 'tcwv', 'avg_tcwv', 'prw'], 'grib': 137}, 'u': {'source': [131, 235131, 'u', 'avg_u', 'U', 'ua'], 'grib': 131}, 'v': {'source': [132, 235132, 'v', 'avg_v', 'V', 'va'], 'grib': 132}, 'w': {'source': [135, 235135, 'w', 'avg_w', 'wa'], 'grib': 135}, 'z': {'source': [129, 235129, 'z', 'avg_z'], 'grib': 129}, 'cprea': {'source': [143, 160143, 'cp'], 'grib': 160143}, 'iews': {'source': [235041, 229, 'ews', 'iews', 'avg_iews', 'metss', 'ewss', 'tauu'], 'grib': 229}, 'inss': {'source': [235042, 230, 'nss', 'inss', 'avg_inss', 'mntss', 'nsss', 'tauv'], 'grib': 230}, 'lsprate': {'source': [142, 260050, 'lsp', 'prlr'], 'grib': 260050}, 'snlwrfcs': {'source': [211, 260100, 235052, 'snlwrcs', 'snlwrfcs', 'avg_snlwrfcs', 'msnlwrfcs', 'strc', 'STRC'], 'grib': 260100}, 'snswrfcs': {'source': [210, 260091, 235051, 'snswrfcs', 'avg_snswrfcs', 'msnswrfcs', 'ssrc', 'SSRC'], 'grib': 260091}, 'tdswrf': {'source': [212, 260676, 235053, 'tdswrf', 'avg_tdswrf', 'mtdwswrf', 'tisr', 'TISR'], 'grib': 260676}, 'tnlwrfcs': {'source': [209, 260675, 235050, 'tnlwrfcs', 'avg_tnlwrfcs', 'mtnlwrfcs', 'ttrc', 'TTRC'], 'grib': 260675}, 'tnswrfcs': {'source': [208, 260674, 235049, 'tnswrfcs', 'avg_tnswrfcs', 'mtnswrfcs', 'tsrc', 'TSRC'], 'grib': 260674}, 'tsrwe': {'source': [260049, 235031, 144, 'tsrwe', 'avg_tsrwe', 'prsn', 'sf', 'msr'], 'grib': 260049}, 'hc300m': {'source': [262121, 263121, 'avg_hc300m', 'hc300m'], 'grib': 262121}, 'hc700m': {'source': [262122, 263122, 'avg_hc700m', 'hc700m'], 'grib': 262122}, 'hcbtm': {'source': [262123, 263123, 'avg_hcbtm', 'hcbtm'], 'grib': True}, 'sos': {'source': [262100, 263100, 'sos', 'sss', 'avg_sos'], 'grib': 262100}, 'tos': {'source': [34, 262101, 263101, 'avg_tos', 'tos', 'sst', 'analysed_sst', 'SSTK', 'avg_sst'], 'grib': 262101}, 'zos': {'source': [262124, 263124, 'avg_zos', 'zos', 'ssh'], 'grib': 262124}, 'so': {'source': [262500, 263500, 'so', 'salt', 'avg_so'], 'grid': 262500, 'grib': True}, 'thetao': {'source': [150129, 262501, 263501, 'thetao', 'avg_thetao', 'temp', 'ocpt', 'to'], 'grid': 262501, 'grib': True}, 'uoe': {'source': [262506, 263506, 'avg_uoe', 'uoe', 'uo'], 'grib': 262506}, 'von': {'source': [262505, 263505, 'avg_von', 'von', 'vo'], 'grib': 262505}, 'wo': {'source': [262507, 263507, 'avg_wo', 'wo'], 'grib': 262507}, 'siconc': {'source': [31, 262001, 263001, 'siconc', 'avg_siconc', 'sic', 'sea_ice_fraction', 'ci', 'CI', 'a_ice', 'ice_conc'], 'grib': 262001}, 'sisnthick': {'source': [262002, 263002, 'sisnthick', 'avg_sisnthick'], 'grib': 262002}, 'sithick': {'source': [262000, 263000, 'sit', 'm_ice', 'avg_sithick', 'sithick'], 'grib': 262000}, 'siue': {'source': [262003, 263003, 'siue', 'uice', 'avg_siue', 'siu'], 'grib': 262003}, 'sivn': {'source': [262004, 263004, 'sivn', 'vice', 'avg_sivn', 'siv'], 'grib': 262004}, 'sivol': {'source': [262008, 263008, 'sivol', 'avg_sivol'], 'grib': 262008}, 'snvol': {'source': [262009, 263009, 'snvol', 'avg_snvol'], 'grib': 262009}}}\u001b[0m\n",
      "\u001b[37m2025-03-07 21:02:21 :: Reader :: DEBUG    -> Found CDO path: /LUMI_TYKKY_A4O6710/miniconda/envs/env1/bin/cdo\u001b[0m\n",
      "\u001b[37m2025-03-07 21:02:21 :: yaml :: DEBUG    -> Creating a new dictionary\u001b[0m\n",
      "\u001b[37m2025-03-07 21:02:21 :: yaml :: DEBUG    -> Folder to be merged: /users/caprioli/.aqua/grids\u001b[0m\n",
      "\u001b[37m2025-03-07 21:02:21 :: yaml :: DEBUG    -> Dictionary updated\u001b[0m\n",
      "\u001b[37m2025-03-07 21:02:21 :: yaml :: DEBUG    -> Keys: dict_keys(['grids', 'weights', 'areas', 'cdo-paths'])\u001b[0m\n",
      "\u001b[32m2025-03-07 21:02:21 :: Reader :: INFO     -> Grid metadata is era5-r025s\u001b[0m\n",
      "\u001b[37m2025-03-07 21:02:21 :: Reader :: DEBUG    -> Space coords are ['lon', 'lat']\u001b[0m\n",
      "\u001b[37m2025-03-07 21:02:21 :: Reader :: DEBUG    -> Vert coords are ['2d', '2dm']\u001b[0m\n",
      "\u001b[37m2025-03-07 21:02:21 :: Reader :: DEBUG    -> Applying fixes to area file\u001b[0m\n",
      "\u001b[37m2025-03-07 21:02:21 :: Reader :: DEBUG    -> Data model: /users/caprioli/.aqua/data_models/cf2cds.json\u001b[0m\n",
      "\u001b[32m2025-03-07 21:02:21 :: Reader :: INFO     -> Retrieving variables: ['q']\u001b[0m\n",
      "\u001b[37m2025-03-07 21:02:21 :: Reader :: DEBUG    -> Variables in the fixes: {'ie': {'source': 'E', 'grib': 232, 'src_units': 'm/day'}, 'tprate': {'source': 'TP', 'grib': 260048, 'src_units': 'm/day'}, 'slhtf': {'source': 'SLHF', 'grib': 260002, 'src_units': 'J m**-2 day**-1'}, 'ishf': {'source': 'SSHF', 'grib': 231, 'src_units': 'J m**-2 day**-1'}, 'snswrf': {'source': 'SSR', 'grib': 260089, 'src_units': 'J m**-2 day**-1'}, 'sdswrf': {'source': 'SSRD', 'grib': 260087, 'src_units': 'J m**-2 day**-1'}, 'snlwrf': {'source': 'STR', 'grib': 260099, 'src_units': 'J m**-2 day**-1'}, 'sdlwrf': {'source': 'STRD', 'grib': 260097, 'src_units': 'J m**-2 day**-1'}, 'tnswrf': {'source': 'TSR', 'grib': 260671, 'src_units': 'J m**-2 day**-1'}, 'tnlwrf': {'source': 'TTR', 'grib': 260672, 'src_units': 'J m**-2 day**-1'}, '2d': {'source': [168, 235168, '2d', 'avg_2d', 'D2M'], 'grib': 168}, '2t': {'source': [167, 228004, '2t', 'tas', 'mean2t', 'avg_2t', 'T2M'], 'grib': 167}, '10u': {'source': [165, 235165, '10u', 'uas', 'm10u', 'avg_10u', 'U10M', 'u10'], 'grib': 165}, '10v': {'source': [166, 235166, '10v', 'vas', 'm10v', 'avg_10v', 'V10M', 'v10'], 'grib': 166}, 'clwc': {'source': [246, 235246, 'clwc', 'avg_clwc'], 'grib': 246}, 'hcc': {'source': [3075, 188, 235110, 235188, 'hcc', 'avg_hcc', 'avg_hcc_frac', 'HCC'], 'grib': 3075}, 'lcc': {'source': [3073, 186, 235108, 235186, 'lcc', 'avg_lcc', 'avg_lcc_frac', 'LCC'], 'grib': 3073}, 'mcc': {'source': [3074, 187, 235109, 235187, 'mcc', 'avg_mcc', 'avg_mcc_frac', 'MCC'], 'grib': 3074}, 'msl': {'source': [151, 235151, 'msl', 'avg_msl', 'mmsl', 'psl', 'sea_level_pressure', 'MSL'], 'grib': 151}, 'pv': {'source': [60, 235100, 'pv', 'avg_pv'], 'grib': 60}, 'q': {'source': [133, 235133, 'q', 'avg_q', 'hus', 'mq', 'Q'], 'grib': 133}, 'r': {'source': [157, 235157, 'r', 'avg_r', 'hur'], 'grib': 157}, 'sd': {'source': [141, 228141, 235141, 235078, 'sd', 'avg_sd', 'msd', 'avg_sd_m'], 'grib': 228141}, 'skt': {'source': [235, 235079, 'skt', 'ts', 'avg_skt', 'mskt'], 'grib': 235}, 'sp': {'source': [134, 235134, 'sp', 'avg_sp', 'ps'], 'grib': 134}, 'ssurfror': {'source': [9, 235021, 231011, 172009, 'ssro', 'ssurfror', 'mssror', 'avg_ssurfror'], 'grib': 231011}, 'surfror': {'source': [8, 235020, 231009, 172008, 'sro', 'avg_surfror', 'msror', 'surfror', 'mrros'], 'grib': 231009}, 't': {'source': [130, 235130, 't', 'avg_t', 'ta', 'mt', 'T'], 'grib': 130}, 'tcc': {'source': [164, 228006, 228164, 'tcc', 'clt', 'meantcc', 'avg_tcc', 'TCC'], 'grib': 131164}, 'tciw': {'source': [79, 235088, 'tciw', 'avg_tciw', 'clivi'], 'grib': 79}, 'tclw': {'source': [78, 235087, 'tclw', 'avg_tclw', 'cllvi'], 'grib': 78}, 'tcwv': {'source': [137, 235137, 'tcwv', 'avg_tcwv', 'prw'], 'grib': 137}, 'u': {'source': [131, 235131, 'u', 'avg_u', 'U', 'ua'], 'grib': 131}, 'v': {'source': [132, 235132, 'v', 'avg_v', 'V', 'va'], 'grib': 132}, 'w': {'source': [135, 235135, 'w', 'avg_w', 'wa'], 'grib': 135}, 'z': {'source': [129, 235129, 'z', 'avg_z'], 'grib': 129}, 'cprea': {'source': [143, 160143, 'cp'], 'grib': 160143}, 'iews': {'source': [235041, 229, 'ews', 'iews', 'avg_iews', 'metss', 'ewss', 'tauu'], 'grib': 229}, 'inss': {'source': [235042, 230, 'nss', 'inss', 'avg_inss', 'mntss', 'nsss', 'tauv'], 'grib': 230}, 'lsprate': {'source': [142, 260050, 'lsp', 'prlr'], 'grib': 260050}, 'snlwrfcs': {'source': [211, 260100, 235052, 'snlwrcs', 'snlwrfcs', 'avg_snlwrfcs', 'msnlwrfcs', 'strc', 'STRC'], 'grib': 260100}, 'snswrfcs': {'source': [210, 260091, 235051, 'snswrfcs', 'avg_snswrfcs', 'msnswrfcs', 'ssrc', 'SSRC'], 'grib': 260091}, 'tdswrf': {'source': [212, 260676, 235053, 'tdswrf', 'avg_tdswrf', 'mtdwswrf', 'tisr', 'TISR'], 'grib': 260676}, 'tnlwrfcs': {'source': [209, 260675, 235050, 'tnlwrfcs', 'avg_tnlwrfcs', 'mtnlwrfcs', 'ttrc', 'TTRC'], 'grib': 260675}, 'tnswrfcs': {'source': [208, 260674, 235049, 'tnswrfcs', 'avg_tnswrfcs', 'mtnswrfcs', 'tsrc', 'TSRC'], 'grib': 260674}, 'tsrwe': {'source': [260049, 235031, 144, 'tsrwe', 'avg_tsrwe', 'prsn', 'sf', 'msr'], 'grib': 260049}, 'hc300m': {'source': [262121, 263121, 'avg_hc300m', 'hc300m'], 'grib': 262121}, 'hc700m': {'source': [262122, 263122, 'avg_hc700m', 'hc700m'], 'grib': 262122}, 'hcbtm': {'source': [262123, 263123, 'avg_hcbtm', 'hcbtm'], 'grib': True}, 'sos': {'source': [262100, 263100, 'sos', 'sss', 'avg_sos'], 'grib': 262100}, 'tos': {'source': [34, 262101, 263101, 'avg_tos', 'tos', 'sst', 'analysed_sst', 'SSTK', 'avg_sst'], 'grib': 262101}, 'zos': {'source': [262124, 263124, 'avg_zos', 'zos', 'ssh'], 'grib': 262124}, 'so': {'source': [262500, 263500, 'so', 'salt', 'avg_so'], 'grid': 262500, 'grib': True}, 'thetao': {'source': [150129, 262501, 263501, 'thetao', 'avg_thetao', 'temp', 'ocpt', 'to'], 'grid': 262501, 'grib': True}, 'uoe': {'source': [262506, 263506, 'avg_uoe', 'uoe', 'uo'], 'grib': 262506}, 'von': {'source': [262505, 263505, 'avg_von', 'von', 'vo'], 'grib': 262505}, 'wo': {'source': [262507, 263507, 'avg_wo', 'wo'], 'grib': 262507}, 'siconc': {'source': [31, 262001, 263001, 'siconc', 'avg_siconc', 'sic', 'sea_ice_fraction', 'ci', 'CI', 'a_ice', 'ice_conc'], 'grib': 262001}, 'sisnthick': {'source': [262002, 263002, 'sisnthick', 'avg_sisnthick'], 'grib': 262002}, 'sithick': {'source': [262000, 263000, 'sit', 'm_ice', 'avg_sithick', 'sithick'], 'grib': 262000}, 'siue': {'source': [262003, 263003, 'siue', 'uice', 'avg_siue', 'siu'], 'grib': 262003}, 'sivn': {'source': [262004, 263004, 'sivn', 'vice', 'avg_sivn', 'siv'], 'grib': 262004}, 'sivol': {'source': [262008, 263008, 'sivol', 'avg_sivol'], 'grib': 262008}, 'snvol': {'source': [262009, 263009, 'snvol', 'avg_snvol'], 'grib': 262009}}\u001b[0m\n",
      "\u001b[37m2025-03-07 21:02:21 :: Reader :: DEBUG    -> Variables to be loaded: [[133, 235133, 'q', 'avg_q', 'hus', 'mq', 'Q']]\u001b[0m\n",
      "/LUMI_TYKKY_A4O6710/miniconda/envs/env1/lib/python3.12/site-packages/intake_xarray/base.py:21: FutureWarning: The return type of `Dataset.dims` will be changed to return a set of dimension names in future, in order to be more consistent with `DataArray.dims`. To access a mapping from dimension names to lengths, please use `Dataset.sizes`.\n",
      "  'dims': dict(self._ds.dims),\n",
      "/LUMI_TYKKY_A4O6710/miniconda/envs/env1/lib/python3.12/site-packages/intake_xarray/base.py:21: FutureWarning: The return type of `Dataset.dims` will be changed to return a set of dimension names in future, in order to be more consistent with `DataArray.dims`. To access a mapping from dimension names to lengths, please use `Dataset.sizes`.\n",
      "  'dims': dict(self._ds.dims),\n",
      "/LUMI_TYKKY_A4O6710/miniconda/envs/env1/lib/python3.12/site-packages/intake_xarray/base.py:21: FutureWarning: The return type of `Dataset.dims` will be changed to return a set of dimension names in future, in order to be more consistent with `DataArray.dims`. To access a mapping from dimension names to lengths, please use `Dataset.sizes`.\n",
      "  'dims': dict(self._ds.dims),\n",
      "/LUMI_TYKKY_A4O6710/miniconda/envs/env1/lib/python3.12/site-packages/intake_xarray/base.py:21: FutureWarning: The return type of `Dataset.dims` will be changed to return a set of dimension names in future, in order to be more consistent with `DataArray.dims`. To access a mapping from dimension names to lengths, please use `Dataset.sizes`.\n",
      "  'dims': dict(self._ds.dims),\n",
      "/LUMI_TYKKY_A4O6710/miniconda/envs/env1/lib/python3.12/site-packages/intake_xarray/base.py:21: FutureWarning: The return type of `Dataset.dims` will be changed to return a set of dimension names in future, in order to be more consistent with `DataArray.dims`. To access a mapping from dimension names to lengths, please use `Dataset.sizes`.\n",
      "  'dims': dict(self._ds.dims),\n",
      "\u001b[37m2025-03-07 21:02:22 :: Reader :: DEBUG    -> Default input datamodel: cf\u001b[0m\n",
      "\u001b[37m2025-03-07 21:02:22 :: Reader :: DEBUG    -> deltat = 1 defined as Reader() default\u001b[0m\n",
      "\u001b[32m2025-03-07 21:02:22 :: Reader :: INFO     -> Variables to be fixed: {'q': {'source': [133, 235133, 'q', 'avg_q', 'hus', 'mq', 'Q'], 'grib': 133}}\u001b[0m\n",
      "\u001b[37m2025-03-07 21:02:22 :: Reader :: DEBUG    -> Grib variable var133, looking for attributes\u001b[0m\n",
      "\u001b[37m2025-03-07 21:02:22 :: Reader :: DEBUG    -> Grib variable var133, shortname is q\u001b[0m\n",
      "\u001b[37m2025-03-07 21:02:22 :: Reader :: DEBUG    -> For grib variable var133 find eccodes shortname q, replacing it\u001b[0m\n",
      "\u001b[37m2025-03-07 21:02:22 :: Reader :: DEBUG    -> Grib attributes for q: {'paramId': '133', 'long_name': 'Specific humidity', 'units': 'kg kg**-1', 'shortName': 'q'}\u001b[0m\n",
      "\u001b[37m2025-03-07 21:02:22 :: Reader :: DEBUG    -> Name of fixer var: q\u001b[0m\n",
      "\u001b[37m2025-03-07 21:02:22 :: Reader :: DEBUG    -> Name of data source var: Q\u001b[0m\n",
      "\u001b[37m2025-03-07 21:02:22 :: Reader :: DEBUG    -> Name of target var: q\u001b[0m\n",
      "\u001b[32m2025-03-07 21:02:22 :: Reader :: INFO     -> q: converting units kg kg**-1 --> kg kg**-1\u001b[0m\n",
      "\u001b[37m2025-03-07 21:02:22 :: Reader :: DEBUG    -> q: org_units is kg kg**-1, tgt_units is None\u001b[0m\n",
      "\u001b[37m2025-03-07 21:02:22 :: Reader :: DEBUG    -> Data model: /users/caprioli/.aqua/data_models/cf2cds.json\u001b[0m\n",
      "\u001b[32m2025-03-07 21:02:22 :: Reader :: INFO     -> coordinates adjusted to cf by AQUA fixer\u001b[0m\n",
      "\u001b[33m2025-03-07 21:02:22 :: Global Biases :: WARNING  -> Variable q has multiple pressure levels but none selected. Skipping 2D plotting for bias maps.\u001b[0m\n"
     ]
    }
   ],
   "source": [
    "var = 'q'\n",
    "\n",
    "biases_ifs_nemo = GlobalBiases(model='IFS-NEMO', exp='historical-1990', source='lra-r100-monthly', startdate=\"1990-01-01\", enddate=\"1999-12-31\", loglevel=\"DEBUG\", var=var)\n",
    "biases_ifs_nemo.retrieve_and_process(var=var)\n",
    "\n",
    "biases_era5 = GlobalBiases(model='ERA5', exp='era5', source='monthly', startdate=\"1990-01-01\", enddate=\"1999-12-31\", loglevel=\"DEBUG\", var=var)\n",
    "biases_era5.retrieve_and_process(var=var)\n"
   ]
  },
  {
   "cell_type": "code",
   "execution_count": 3,
   "metadata": {},
   "outputs": [],
   "source": [
    "plot_biases = PlotGlobalBiases(data = biases_ifs_nemo.data, data_ref=biases_era5.data, var=var, plev=85000,\n",
    "                               model='IFS-NEMO', exp='historical-1990', model_ref='ERA5', loglevel='DEBUG')"
   ]
  },
  {
   "cell_type": "code",
   "execution_count": null,
   "metadata": {},
   "outputs": [
    {
     "name": "stderr",
     "output_type": "stream",
     "text": [
      "\u001b[32m2025-03-07 21:02:22 :: Global Biases :: INFO     -> Plotting global biases.\u001b[0m\n",
      "\u001b[32m2025-03-07 21:02:22 :: Global Biases :: INFO     -> Selecting pressure level 85000 for variable q.\u001b[0m\n",
      "\u001b[32m2025-03-07 21:02:22 :: Global Biases :: INFO     -> Plotting bias map between two datasets.\u001b[0m\n"
     ]
    }
   ],
   "source": [
    "plot_biases.plot_bias(plev=85000)  #check why I need to specify plev again, probably little bug"
   ]
  },
  {
   "cell_type": "code",
   "execution_count": null,
   "metadata": {},
   "outputs": [
    {
     "name": "stderr",
     "output_type": "stream",
     "text": [
      "\u001b[32m2025-03-07 21:01:46 :: Global Biases :: INFO     -> Plotting seasonal biases.\u001b[0m\n",
      "\u001b[32m2025-03-07 21:01:46 :: Global Biases :: INFO     -> Selecting pressure level 85000 for variable q.\u001b[0m\n"
     ]
    },
    {
     "ename": "NameError",
     "evalue": "name 'var_name' is not defined",
     "output_type": "error",
     "traceback": [
      "\u001b[31m---------------------------------------------------------------------------\u001b[39m",
      "\u001b[31mNameError\u001b[39m                                 Traceback (most recent call last)",
      "\u001b[36mCell\u001b[39m\u001b[36m \u001b[39m\u001b[32mIn[7]\u001b[39m\u001b[32m, line 1\u001b[39m\n\u001b[32m----> \u001b[39m\u001b[32m1\u001b[39m \u001b[43mplot_biases\u001b[49m\u001b[43m.\u001b[49m\u001b[43mplot_seasonal_bias\u001b[49m\u001b[43m(\u001b[49m\u001b[43m)\u001b[49m\n",
      "\u001b[36mFile \u001b[39m\u001b[32m/pfs/lustrep2/users/caprioli/AQUA/src/aqua_diagnostics/global_biases/plot_global_biases.py:136\u001b[39m, in \u001b[36mPlotGlobalBiases.plot_seasonal_bias\u001b[39m\u001b[34m(self, seasons_stat, var, plev, vmin, vmax)\u001b[39m\n\u001b[32m    134\u001b[39m \u001b[38;5;28;01mif\u001b[39;00m \u001b[38;5;28mself\u001b[39m.plev \u001b[38;5;129;01mis\u001b[39;00m \u001b[38;5;129;01mnot\u001b[39;00m \u001b[38;5;28;01mNone\u001b[39;00m:\n\u001b[32m    135\u001b[39m     \u001b[38;5;28mself\u001b[39m.logger.info(\u001b[33mf\u001b[39m\u001b[33m'\u001b[39m\u001b[33mSelecting pressure level \u001b[39m\u001b[38;5;132;01m{\u001b[39;00m\u001b[38;5;28mself\u001b[39m.plev\u001b[38;5;132;01m}\u001b[39;00m\u001b[33m for variable \u001b[39m\u001b[38;5;132;01m{\u001b[39;00m\u001b[38;5;28mself\u001b[39m.var\u001b[38;5;132;01m}\u001b[39;00m\u001b[33m.\u001b[39m\u001b[33m'\u001b[39m)\n\u001b[32m--> \u001b[39m\u001b[32m136\u001b[39m     \u001b[38;5;28mself\u001b[39m.data = \u001b[43mselect_pressure_level\u001b[49m\u001b[43m(\u001b[49m\u001b[38;5;28;43mself\u001b[39;49m\u001b[43m.\u001b[49m\u001b[43mdata\u001b[49m\u001b[43m,\u001b[49m\u001b[43m \u001b[49m\u001b[38;5;28;43mself\u001b[39;49m\u001b[43m.\u001b[49m\u001b[43mplev\u001b[49m\u001b[43m,\u001b[49m\u001b[43m \u001b[49m\u001b[38;5;28;43mself\u001b[39;49m\u001b[43m.\u001b[49m\u001b[43mvar\u001b[49m\u001b[43m)\u001b[49m\n\u001b[32m    137\u001b[39m     \u001b[38;5;28mself\u001b[39m.data_ref = select_pressure_level(\u001b[38;5;28mself\u001b[39m.data_ref, \u001b[38;5;28mself\u001b[39m.plev, \u001b[38;5;28mself\u001b[39m.var)\n\u001b[32m    138\u001b[39m \u001b[38;5;28;01melif\u001b[39;00m \u001b[33m'\u001b[39m\u001b[33mplev\u001b[39m\u001b[33m'\u001b[39m \u001b[38;5;129;01min\u001b[39;00m \u001b[38;5;28mself\u001b[39m.data[\u001b[38;5;28mself\u001b[39m.var].dims:\n",
      "\u001b[36mFile \u001b[39m\u001b[32m/pfs/lustrep2/users/caprioli/AQUA/src/aqua_diagnostics/global_biases/util.py:44\u001b[39m, in \u001b[36mselect_pressure_level\u001b[39m\u001b[34m(data, plev, var)\u001b[39m\n\u001b[32m     42\u001b[39m         \u001b[38;5;28;01mraise\u001b[39;00m NoDataError(\u001b[33m\"\u001b[39m\u001b[33mThe specified pressure level is not in the dataset.\u001b[39m\u001b[33m\"\u001b[39m)\n\u001b[32m     43\u001b[39m \u001b[38;5;28;01melse\u001b[39;00m:\n\u001b[32m---> \u001b[39m\u001b[32m44\u001b[39m     \u001b[38;5;28;01mraise\u001b[39;00m NoDataError(\u001b[33mf\u001b[39m\u001b[33m\"\u001b[39m\u001b[38;5;132;01m{\u001b[39;00m\u001b[43mvar_name\u001b[49m\u001b[38;5;132;01m}\u001b[39;00m\u001b[33m does not have a \u001b[39m\u001b[33m'\u001b[39m\u001b[33mplev\u001b[39m\u001b[33m'\u001b[39m\u001b[33m coordinate.\u001b[39m\u001b[33m\"\u001b[39m)\n",
      "\u001b[31mNameError\u001b[39m: name 'var_name' is not defined"
     ]
    }
   ],
   "source": [
    "plot_biases.plot_seasonal_bias()"
   ]
  },
  {
   "cell_type": "markdown",
   "metadata": {},
   "source": [
    "We can also plot the vertical bias profile as a function of pressure levels:"
   ]
  },
  {
   "cell_type": "code",
   "execution_count": null,
   "metadata": {},
   "outputs": [
    {
     "ename": "KeyError",
     "evalue": "\"No variable named 'q'. Variables on the dataset include ['2t', 'time', 'lat', 'lon']\"",
     "output_type": "error",
     "traceback": [
      "\u001b[31m---------------------------------------------------------------------------\u001b[39m",
      "\u001b[31mKeyError\u001b[39m                                  Traceback (most recent call last)",
      "\u001b[32m/LUMI_TYKKY_A4O6710/miniconda/envs/env1/lib/python3.12/site-packages/xarray/core/dataset.py\u001b[39m in \u001b[36m?\u001b[39m\u001b[34m(self, name)\u001b[39m\n\u001b[32m   1512\u001b[39m             variable = self._variables[name]\n\u001b[32m   1513\u001b[39m         \u001b[38;5;28;01mexcept\u001b[39;00m KeyError:\n\u001b[32m-> \u001b[39m\u001b[32m1514\u001b[39m             _, name, variable = _get_virtual_variable(self._variables, name, self.sizes)\n\u001b[32m   1515\u001b[39m \n",
      "\u001b[31mKeyError\u001b[39m: 'q'",
      "\nDuring handling of the above exception, another exception occurred:\n",
      "\u001b[31mKeyError\u001b[39m                                  Traceback (most recent call last)",
      "\u001b[32m/LUMI_TYKKY_A4O6710/miniconda/envs/env1/lib/python3.12/site-packages/xarray/core/dataset.py\u001b[39m in \u001b[36m?\u001b[39m\u001b[34m(self, key)\u001b[39m\n\u001b[32m   1622\u001b[39m                 \u001b[38;5;28;01mif\u001b[39;00m isinstance(key, tuple):\n\u001b[32m   1623\u001b[39m                     message += f\"\\nHint: use a list to select multiple variables, for example `ds[{list(key)}]`\"\n\u001b[32m-> \u001b[39m\u001b[32m1624\u001b[39m                 \u001b[38;5;28;01mraise\u001b[39;00m KeyError(message) \u001b[38;5;28;01mfrom\u001b[39;00m e\n\u001b[32m   1625\u001b[39m \n",
      "\u001b[32m/LUMI_TYKKY_A4O6710/miniconda/envs/env1/lib/python3.12/site-packages/xarray/core/dataset.py\u001b[39m in \u001b[36m?\u001b[39m\u001b[34m(self, name)\u001b[39m\n\u001b[32m   1512\u001b[39m             variable = self._variables[name]\n\u001b[32m   1513\u001b[39m         \u001b[38;5;28;01mexcept\u001b[39;00m KeyError:\n\u001b[32m-> \u001b[39m\u001b[32m1514\u001b[39m             _, name, variable = _get_virtual_variable(self._variables, name, self.sizes)\n\u001b[32m   1515\u001b[39m \n",
      "\u001b[32m/LUMI_TYKKY_A4O6710/miniconda/envs/env1/lib/python3.12/site-packages/xarray/core/dataset.py\u001b[39m in \u001b[36m?\u001b[39m\u001b[34m(variables, key, dim_sizes)\u001b[39m\n\u001b[32m    219\u001b[39m     split_key = key.split(\u001b[33m\".\"\u001b[39m, \u001b[32m1\u001b[39m)\n\u001b[32m    220\u001b[39m     \u001b[38;5;28;01mif\u001b[39;00m len(split_key) != \u001b[32m2\u001b[39m:\n\u001b[32m--> \u001b[39m\u001b[32m221\u001b[39m         \u001b[38;5;28;01mraise\u001b[39;00m KeyError(key)\n\u001b[32m    222\u001b[39m \n",
      "\u001b[31mKeyError\u001b[39m: 'q'",
      "\nThe above exception was the direct cause of the following exception:\n",
      "\u001b[31mKeyError\u001b[39m                                  Traceback (most recent call last)",
      "\u001b[32m/tmp/ipykernel_57357/4273232591.py\u001b[39m in \u001b[36m?\u001b[39m\u001b[34m()\u001b[39m\n\u001b[32m----> \u001b[39m\u001b[32m1\u001b[39m plot_biases.plot_vertical_bias(var=\u001b[33m'q'\u001b[39m, vmin= -\u001b[32m0.002\u001b[39m, vmax= \u001b[32m0.002\u001b[39m)\n",
      "\u001b[32m/pfs/lustrep2/users/caprioli/AQUA/src/aqua_diagnostics/global_biases/plot_global_biases.py\u001b[39m in \u001b[36m?\u001b[39m\u001b[34m(self, data, data_ref, var, plev_min, plev_max, vmin, vmax)\u001b[39m\n\u001b[32m    188\u001b[39m \n\u001b[32m    189\u001b[39m             data, data_ref, var = data \u001b[38;5;28;01mor\u001b[39;00m self.data, data_ref \u001b[38;5;28;01mor\u001b[39;00m self.data_ref, var \u001b[38;5;28;01mor\u001b[39;00m self.var\n\u001b[32m    190\u001b[39m \n\u001b[32m    191\u001b[39m             \u001b[38;5;66;03m# Compute climatology for reference dataset\u001b[39;00m\n\u001b[32m--> \u001b[39m\u001b[32m192\u001b[39m             ref_climatology = data_ref[var].mean(dim=\u001b[33m'time'\u001b[39m)\n\u001b[32m    193\u001b[39m \n\u001b[32m    194\u001b[39m             \u001b[38;5;66;03m# Calculate the bias between the two datasets\u001b[39;00m\n\u001b[32m    195\u001b[39m             bias = data[var] - ref_climatology\n",
      "\u001b[32m/LUMI_TYKKY_A4O6710/miniconda/envs/env1/lib/python3.12/site-packages/xarray/core/dataset.py\u001b[39m in \u001b[36m?\u001b[39m\u001b[34m(self, key)\u001b[39m\n\u001b[32m   1620\u001b[39m \n\u001b[32m   1621\u001b[39m                 \u001b[38;5;66;03m# If someone attempts `ds['foo' , 'bar']` instead of `ds[['foo', 'bar']]`\u001b[39;00m\n\u001b[32m   1622\u001b[39m                 \u001b[38;5;28;01mif\u001b[39;00m isinstance(key, tuple):\n\u001b[32m   1623\u001b[39m                     message += f\"\\nHint: use a list to select multiple variables, for example `ds[{list(key)}]`\"\n\u001b[32m-> \u001b[39m\u001b[32m1624\u001b[39m                 \u001b[38;5;28;01mraise\u001b[39;00m KeyError(message) \u001b[38;5;28;01mfrom\u001b[39;00m e\n\u001b[32m   1625\u001b[39m \n\u001b[32m   1626\u001b[39m         \u001b[38;5;28;01mif\u001b[39;00m utils.iterable_of_hashable(key):\n\u001b[32m   1627\u001b[39m             \u001b[38;5;28;01mreturn\u001b[39;00m self._copy_listed(key)\n",
      "\u001b[31mKeyError\u001b[39m: \"No variable named 'q'. Variables on the dataset include ['2t', 'time', 'lat', 'lon']\""
     ]
    }
   ],
   "source": [
    "plot_biases.plot_vertical_bias(vmin= -0.002, vmax= 0.002)"
   ]
  }
 ],
 "metadata": {
  "kernelspec": {
   "display_name": "Python 3",
   "language": "python",
   "name": "python3"
  },
  "language_info": {
   "codemirror_mode": {
    "name": "ipython",
    "version": 3
   },
   "file_extension": ".py",
   "mimetype": "text/x-python",
   "name": "python",
   "nbconvert_exporter": "python",
   "pygments_lexer": "ipython3",
   "version": "3.12.9"
  }
 },
 "nbformat": 4,
 "nbformat_minor": 2
}
