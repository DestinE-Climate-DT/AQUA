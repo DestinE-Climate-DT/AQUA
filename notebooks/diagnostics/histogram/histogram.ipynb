{
 "cells": [
  {
   "cell_type": "markdown",
   "id": "ba515074",
   "metadata": {},
   "source": [
    "# Histogram diagnostic - Single histogram/PDF plot\n",
    "\n",
    "The aim of this diagnostic is to visualise the probability density function (PDF) or histogram of a certain variable over a specified region.\n",
    "\n",
    "In this notebook we demonstrate how to:\n",
    "1. Compute a histogram using the `Histogram` class\n",
    "2. Plot it using the `PlotHistogram` class\n",
    "3. Optionally include reference data for comparison"
   ]
  },
  {
   "cell_type": "code",
   "execution_count": null,
   "id": "f0d8a261",
   "metadata": {},
   "outputs": [],
   "source": [
    "%reload_ext autoreload\n",
    "%autoreload 2"
   ]
  },
  {
   "cell_type": "markdown",
   "id": "5ec9819a",
   "metadata": {},
   "source": [
    "## Import the classes"
   ]
  },
  {
   "cell_type": "code",
   "execution_count": null,
   "id": "5459a315",
   "metadata": {},
   "outputs": [],
   "source": [
    "from aqua_diagnostics.histogram import Histogram\n",
    "from aqua_diagnostics.histogram import PlotHistogram"
   ]
  },
  {
   "cell_type": "markdown",
   "id": "d8940e2e",
   "metadata": {},
   "source": [
    "## Setup data dictionaries\n",
    "\n",
    "We define:\n",
    "- `dataset_dict`: Configuration for the model data\n",
    "- `obs_dict`: Configuration for reference/observational data (optional)\n",
    "- `common_dict`: Common parameters for both datasets"
   ]
  },
  {
   "cell_type": "code",
   "execution_count": null,
   "id": "a4a98a53",
   "metadata": {},
   "outputs": [],
   "source": [
    "dataset_dict = {\n",
    "    'catalog': 'climatedt-phase1',\n",
    "    'model': 'ICON',\n",
    "    'exp': 'historical-1990',\n",
    "    'source': 'lra-r100-monthly'\n",
    "}\n",
    "\n",
    "obs_dict = {\n",
    "    'catalog': 'obs',\n",
    "    'model': 'ERA5',\n",
    "    'exp': 'era5',\n",
    "    'source': 'monthly'\n",
    "}\n",
    "\n",
    "common_dict = {\n",
    "    'startdate': '1990-01-01',\n",
    "    'enddate': '1999-12-31',\n",
    "    'bins': 100,              # Number of bins for histogram\n",
    "    'weighted': True,         # Use latitudinal weights\n",
    "    'loglevel': 'INFO'\n",
    "}"
   ]
  },
  {
   "cell_type": "markdown",
   "id": "e59cacce",
   "metadata": {},
   "source": [
    "## Compute histograms\n",
    "\n",
    "We create `Histogram` objects for both model and reference data.\n",
    "The `run()` method:\n",
    "1. Retrieves the data from the catalog\n",
    "2. Computes the histogram with `density=True` to get a PDF\n",
    "3. Saves the result to a netCDF file\n",
    "\n",
    "We'll analyze `tprate` (Total Precipitation Rate) in mm/day."
   ]
  },
  {
   "cell_type": "code",
   "execution_count": null,
   "id": "c878b3e3",
   "metadata": {},
   "outputs": [],
   "source": [
    "# Create Histogram objects\n",
    "hist_dataset = Histogram(**dataset_dict, **common_dict)\n",
    "hist_obs = Histogram(**obs_dict, **common_dict)\n",
    "\n",
    "# Configuration for the variable\n",
    "run_dict = {\n",
    "    'var': 'tprate',\n",
    "    'units': 'mm/day',\n",
    "    'density': True  # Get PDF instead of counts\n",
    "}\n",
    "\n",
    "# Compute histograms\n",
    "hist_dataset.run(**run_dict)\n",
    "hist_obs.run(**run_dict)"
   ]
  },
  {
   "cell_type": "markdown",
   "id": "fda8ff87",
   "metadata": {},
   "source": [
    "## Plot the histogram/PDF\n",
    "\n",
    "Now we use `PlotHistogram` to visualize the computed histograms.\n",
    "We can plot:\n",
    "- Single model data with reference data\n",
    "- Multiple models together\n",
    "- With or without reference data"
   ]
  },
  {
   "cell_type": "code",
   "execution_count": null,
   "id": "a2eaea1b",
   "metadata": {},
   "outputs": [],
   "source": [
    "# Setup plot with model data and reference\n",
    "plot = PlotHistogram(\n",
    "    data=[hist_dataset.histogram_data],  # Note: needs to be a list\n",
    "    ref_data=hist_obs.histogram_data,    # Reference data\n",
    "    loglevel='INFO'\n",
    ")\n",
    "\n",
    "# Generate and save the plot\n",
    "plot.run(\n",
    "    ylogscale=True,    # Logarithmic scale for y-axis (frequency)\n",
    "    xlogscale=False,   # Linear scale for x-axis (precipitation)\n",
    "    smooth=False       # No smoothing applied\n",
    ")"
   ]
  },
  {
   "cell_type": "markdown",
   "id": "83537f6a",
   "metadata": {},
   "source": [
    "## Optional: Custom plot with more control\n",
    "\n",
    "You can also create plots with more customization:"
   ]
  },
  {
   "cell_type": "code",
   "execution_count": null,
   "id": "37ea2370",
   "metadata": {},
   "outputs": [],
   "source": [
    "# Create plot with custom settings\n",
    "fig, ax = plot.plot(\n",
    "    data_labels=['ICON historical-1990'],\n",
    "    ref_label='ERA5',\n",
    "    title='PDF of Total Precipitation Rate',\n",
    "    xlogscale=False,\n",
    "    ylogscale=True,\n",
    "    xmin=0,\n",
    "    xmax=50,  # mm/day\n",
    "    smooth=True,\n",
    "    smooth_window=5\n",
    ")\n",
    "\n",
    "# Show the plot\n",
    "import matplotlib.pyplot as plt\n",
    "plt.show()"
   ]
  }
 ],
 "metadata": {
  "language_info": {
   "name": "python"
  }
 },
 "nbformat": 4,
 "nbformat_minor": 5
}
