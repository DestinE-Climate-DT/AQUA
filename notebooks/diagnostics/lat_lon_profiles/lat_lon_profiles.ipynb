{
 "cells": [
  {
   "cell_type": "code",
   "execution_count": 1,
   "id": "21176b78",
   "metadata": {},
   "outputs": [],
   "source": [
    "%reload_ext autoreload\n",
    "%autoreload 2"
   ]
  },
  {
   "cell_type": "code",
   "execution_count": 2,
   "id": "dc3838a6",
   "metadata": {},
   "outputs": [],
   "source": [
    "from aqua.diagnostics.lat_lon_profiles import LatLonProfiles"
   ]
  },
  {
   "cell_type": "code",
   "execution_count": 3,
   "id": "ec866ca8",
   "metadata": {},
   "outputs": [],
   "source": [
    "dataset_dict = {'catalog': 'climatedt-phase1',\n",
    "                'model': 'ICON',\n",
    "                'exp': 'historical-1990',\n",
    "                'source': 'lra-r100-monthly'}\n",
    "common_dict = {'startdate': '1990-01-01',\n",
    "               'enddate': '1999-12-31',\n",
    "               'loglevel': 'info'}"
   ]
  },
  {
   "cell_type": "code",
   "execution_count": 4,
   "id": "94dec2c8",
   "metadata": {},
   "outputs": [
    {
     "name": "stderr",
     "output_type": "stream",
     "text": [
      "\u001b[32m2025-06-06 18:44:05 :: LatLonProfiles :: INFO     -> No region provided, using lon_limits: None, lat_limits: None\u001b[0m\n"
     ]
    }
   ],
   "source": [
    "lonlat_dataset = LatLonProfiles(**dataset_dict, **common_dict)"
   ]
  },
  {
   "cell_type": "code",
   "execution_count": 5,
   "id": "670aa77f",
   "metadata": {},
   "outputs": [],
   "source": [
    "run_dict = {'var': '2t',\n",
    "            'units': 'degC'}"
   ]
  },
  {
   "cell_type": "code",
   "execution_count": 6,
   "id": "99034675",
   "metadata": {},
   "outputs": [
    {
     "name": "stderr",
     "output_type": "stream",
     "text": [
      "\u001b[32m2025-06-06 18:44:05 :: LatLonProfiles :: INFO     -> Running LatLonProfiles for 2t\u001b[0m\n",
      "\u001b[32m2025-06-06 18:44:05 :: ConfigPath :: INFO     -> ICON_historical-1990_lra-r100-monthly triplet found in in climatedt-phase1!\u001b[0m\n"
     ]
    },
    {
     "name": "stderr",
     "output_type": "stream",
     "text": [
      "\u001b[32m2025-06-06 18:44:05 :: Fixer :: INFO     -> Convention dictionary: eccodes-2.39.0\u001b[0m\n",
      "\u001b[32m2025-06-06 18:44:05 :: Fixer :: INFO     -> Fix names in metadata is icon-destine-v1-lra\u001b[0m\n",
      "\u001b[32m2025-06-06 18:44:05 :: Fixer :: INFO     -> Fix names icon-destine-v1-lra found in fixes files\u001b[0m\n",
      "\u001b[32m2025-06-06 18:44:06 :: Reader :: INFO     -> Grid metadata is lon-lat\u001b[0m\n",
      "\u001b[33m2025-06-06 18:44:06 :: Regridder :: WARNING  -> Source grid path not found. Please provide a dataset.\u001b[0m\n",
      "\u001b[33m2025-06-06 18:44:06 :: Reader :: WARNING  -> Issues in the Regridder() init: trying with data\u001b[0m\n",
      "2025-06-06 18:44:24 | smmregrid.GridInspect |     INFO -> Updating the log_level to INFO\n",
      "\u001b[32m2025-06-06 18:44:24 :: Regridder :: INFO     -> Using provided dataset as a grid path for 2d\u001b[0m\n",
      "\u001b[32m2025-06-06 18:44:24 :: Regridder :: INFO     -> Grid name: lon-lat\u001b[0m\n",
      "\u001b[32m2025-06-06 18:44:24 :: Regridder :: INFO     -> Loading existing source area from /pfs/lustrep3/appl/local/climatedt/data/AQUA/areas/cell_area_ICON_historical-1990_lra-r100-monthly.nc.\u001b[0m\n",
      "\u001b[32m2025-06-06 18:44:24 :: CoordTransator :: INFO     -> Grid type: Regular\u001b[0m\n",
      "\u001b[32m2025-06-06 18:44:24 :: CoordTransator :: INFO     -> Target data model: aqua\u001b[0m\n",
      "\u001b[32m2025-06-06 18:44:24 :: CoordTransator :: INFO     -> Loading data model from /users/cadaumar/.aqua/data_model/aqua.yaml\u001b[0m\n",
      "\u001b[32m2025-06-06 18:44:24 :: CoordTransator :: INFO     -> Analysing coordinate: latitude\u001b[0m\n",
      "\u001b[32m2025-06-06 18:44:24 :: CoordTransator :: INFO     -> Analysing coordinate: longitude\u001b[0m\n",
      "\u001b[32m2025-06-06 18:44:24 :: CoordTransator :: INFO     -> Coordinate isobaric not found in source coordinates.\u001b[0m\n",
      "\u001b[32m2025-06-06 18:44:24 :: CoordTransator :: INFO     -> Coordinate depth not found in source coordinates.\u001b[0m\n",
      "\u001b[32m2025-06-06 18:44:24 :: CoordTransator :: INFO     -> Coordinate time not found in source coordinates.\u001b[0m\n",
      "\u001b[32m2025-06-06 18:44:24 :: Reader :: INFO     -> Retrieving variables: ['2t']\u001b[0m\n",
      "\u001b[32m2025-06-06 18:44:24 :: Fixer :: INFO     -> Variables to be fixed: {'2t': {'source': [167, 228004, '2t', 'mean2t', 'avg_2t', 'T2M', 'tas'], 'grib': 167}}\u001b[0m\n",
      "\u001b[32m2025-06-06 18:44:24 :: Fixer :: INFO     -> 2t: converting units K --> K\u001b[0m\n",
      "\u001b[32m2025-06-06 18:44:24 :: CoordTransator :: INFO     -> Grid type: Regular\u001b[0m\n",
      "\u001b[32m2025-06-06 18:44:24 :: CoordTransator :: INFO     -> Target data model: aqua\u001b[0m\n",
      "\u001b[32m2025-06-06 18:44:25 :: CoordTransator :: INFO     -> Loading data model from /users/cadaumar/.aqua/data_model/aqua.yaml\u001b[0m\n",
      "\u001b[32m2025-06-06 18:44:25 :: CoordTransator :: INFO     -> Analysing coordinate: latitude\u001b[0m\n",
      "\u001b[32m2025-06-06 18:44:25 :: CoordTransator :: INFO     -> Analysing coordinate: longitude\u001b[0m\n",
      "\u001b[32m2025-06-06 18:44:25 :: CoordTransator :: INFO     -> Coordinate isobaric not found in source coordinates.\u001b[0m\n",
      "\u001b[32m2025-06-06 18:44:25 :: CoordTransator :: INFO     -> Coordinate depth not found in source coordinates.\u001b[0m\n",
      "\u001b[32m2025-06-06 18:44:25 :: CoordTransator :: INFO     -> Analysing coordinate: time\u001b[0m\n",
      "\u001b[32m2025-06-06 18:44:25 :: LatLonProfiles :: INFO     -> Computing monthly mean\u001b[0m\n",
      "\u001b[32m2025-06-06 18:44:25 :: TimStat :: INFO     -> Resampling to MS frequency and computing mean...\u001b[0m\n",
      "\u001b[32m2025-06-06 18:44:25 :: TimStat :: INFO     -> Checking if incomplete chunks has been produced...\u001b[0m\n",
      "\u001b[32m2025-06-06 18:44:25 :: timmean_chunk_completeness :: INFO     -> 120 chunks from 1990-01-01 00:00:00 to 1999-12-01 00:00:00 at MS frequency to be analysed...\u001b[0m\n",
      "\u001b[32m2025-06-06 18:44:25 :: FldStat :: INFO     -> Computing area-weighted mean on ['lon', 'lat'] dimensions\u001b[0m\n",
      "\u001b[32m2025-06-06 18:44:25 :: LatLonProfiles :: INFO     -> Computing annual mean\u001b[0m\n",
      "\u001b[32m2025-06-06 18:44:25 :: TimStat :: INFO     -> Resampling to YS frequency and computing mean...\u001b[0m\n",
      "\u001b[32m2025-06-06 18:44:25 :: TimStat :: INFO     -> Checking if incomplete chunks has been produced...\u001b[0m\n",
      "\u001b[32m2025-06-06 18:44:25 :: timmean_chunk_completeness :: INFO     -> 10 chunks from 1990-01-01 00:00:00 to 1999-01-01 00:00:00 at YS frequency to be analysed...\u001b[0m\n",
      "\u001b[32m2025-06-06 18:44:25 :: FldStat :: INFO     -> Computing area-weighted mean on ['lon', 'lat'] dimensions\u001b[0m\n",
      "\u001b[32m2025-06-06 18:44:25 :: LatLonProfiles :: INFO     -> Saving annual data for 2t.annual to netcdf in ./\u001b[0m\n",
      "\u001b[32m2025-06-06 18:44:25 :: create_folder :: INFO     -> Folder ./netcdf already exists\u001b[0m\n",
      "\u001b[32m2025-06-06 18:44:26 :: OutputSaver :: INFO     -> NetCDF file successfully saved.\u001b[0m\n"
     ]
    }
   ],
   "source": [
    "lonlat_dataset.run(**run_dict)"
   ]
  },
  {
   "cell_type": "code",
   "execution_count": 7,
   "id": "5bf5274a",
   "metadata": {},
   "outputs": [
    {
     "data": {
      "text/plain": [
       "<aqua.diagnostics.lat_lon_profiles.lat_lon_profiles.LatLonProfiles at 0x7fa65b22ae10>"
      ]
     },
     "execution_count": 7,
     "metadata": {},
     "output_type": "execute_result"
    }
   ],
   "source": [
    "lonlat_dataset"
   ]
  }
 ],
 "metadata": {
  "kernelspec": {
   "display_name": "Python 3",
   "language": "python",
   "name": "python3"
  },
  "language_info": {
   "codemirror_mode": {
    "name": "ipython",
    "version": 3
   },
   "file_extension": ".py",
   "mimetype": "text/x-python",
   "name": "python",
   "nbconvert_exporter": "python",
   "pygments_lexer": "ipython3",
   "version": "3.12.10"
  }
 },
 "nbformat": 4,
 "nbformat_minor": 5
}
