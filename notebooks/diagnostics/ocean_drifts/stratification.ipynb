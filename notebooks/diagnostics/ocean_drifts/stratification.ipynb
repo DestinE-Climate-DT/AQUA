{
 "cells": [
  {
   "cell_type": "code",
   "execution_count": 2,
   "id": "ff4ec1b9",
   "metadata": {},
   "outputs": [],
   "source": [
    "%reload_ext autoreload\n",
    "%autoreload 2 "
   ]
  },
  {
   "cell_type": "code",
   "execution_count": 3,
   "id": "6367a086",
   "metadata": {},
   "outputs": [
    {
     "name": "stderr",
     "output_type": "stream",
     "text": [
      "/home/bsc/bsc032946/.conda/envs/aqua/lib/python3.12/site-packages/intake_esm/__init__.py:6: UserWarning: pkg_resources is deprecated as an API. See https://setuptools.pypa.io/en/latest/pkg_resources.html. The pkg_resources package is slated for removal as early as 2025-11-30. Refrain from using this package or pin to Setuptools<81.\n",
      "  from pkg_resources import DistributionNotFound, get_distribution\n"
     ]
    }
   ],
   "source": [
    "from aqua.diagnostics.ocean_stratification.stratification import Stratification\n",
    "from aqua.diagnostics.ocean_stratification import PlotStratification\n",
    "from aqua.diagnostics.ocean_stratification import PlotMLD\n"
   ]
  },
  {
   "cell_type": "code",
   "execution_count": 4,
   "id": "2feb815a",
   "metadata": {},
   "outputs": [],
   "source": [
    "strat = Stratification(\n",
    "    catalog='mn5-phase2',\n",
    "    model='IFS-NEMO',\n",
    "    exp='control-1990-freeze',\n",
    "    source='lra-r100-monthly',\n",
    "    startdate='01-01-1991',\n",
    "    enddate='31-05-1992',\n",
    "    loglevel='DEBUG'\n",
    ")\n"
   ]
  },
  {
   "cell_type": "code",
   "execution_count": null,
   "id": "6f52e0ee",
   "metadata": {},
   "outputs": [
    {
     "name": "stderr",
     "output_type": "stream",
     "text": [
      "\u001b[32m2025-10-15 16:11:04 :: Stratification :: INFO     -> Starting stratification diagnostic run.\u001b[0m\n",
      "\u001b[37m2025-10-15 16:11:04 :: ConfigPath :: DEBUG    -> AQUA installation found in /home/bsc/bsc032946/.aqua\u001b[0m\n",
      "\u001b[37m2025-10-15 16:11:04 :: ConfigPath :: DEBUG    -> Configuration file found in /home/bsc/bsc032946/.aqua/config-aqua.yaml\u001b[0m\n",
      "\u001b[37m2025-10-15 16:11:04 :: ConfigPath :: DEBUG    -> Available catalogs are ['mn5-phase2']\u001b[0m\n",
      "\u001b[37m2025-10-15 16:11:04 :: ConfigPath :: DEBUG    -> Default catalog will be mn5-phase2\u001b[0m\n",
      "\u001b[37m2025-10-15 16:11:04 :: ConfigPath :: DEBUG    -> Catalog file is /home/bsc/bsc032946/.aqua/catalogs/mn5-phase2/catalog.yaml\u001b[0m\n",
      "\u001b[37m2025-10-15 16:11:04 :: ConfigPath :: DEBUG    -> Machine file is /home/bsc/bsc032946/.aqua/catalogs/mn5-phase2/machine.yaml\u001b[0m\n",
      "\u001b[37m2025-10-15 16:11:04 :: ConfigPath :: DEBUG    -> Machine found in configuration file, set to MN5\u001b[0m\n",
      "\u001b[37m2025-10-15 16:11:04 :: ConfigPath :: DEBUG    -> Machine found in configuration file, set to MN5\u001b[0m\n",
      "\u001b[37m2025-10-15 16:11:04 :: ConfigPath :: DEBUG    -> Browsing catalog mn5-phase2 ...\u001b[0m\n",
      "\u001b[37m2025-10-15 16:11:04 :: ConfigPath :: DEBUG    -> Catalog file is /home/bsc/bsc032946/.aqua/catalogs/mn5-phase2/catalog.yaml\u001b[0m\n",
      "\u001b[37m2025-10-15 16:11:04 :: ConfigPath :: DEBUG    -> Machine file is /home/bsc/bsc032946/.aqua/catalogs/mn5-phase2/machine.yaml\u001b[0m\n"
     ]
    },
    {
     "name": "stderr",
     "output_type": "stream",
     "text": [
      "\u001b[32m2025-10-15 16:11:04 :: ConfigPath :: INFO     -> IFS-NEMO_control-1990-freeze_lra-r100-monthly triplet found in in mn5-phase2!\u001b[0m\n",
      "\u001b[37m2025-10-15 16:11:04 :: ConfigPath :: DEBUG    -> Final catalog to be used is mn5-phase2\u001b[0m\n",
      "\u001b[37m2025-10-15 16:11:04 :: ConfigPath :: DEBUG    -> Catalog file is /home/bsc/bsc032946/.aqua/catalogs/mn5-phase2/catalog.yaml\u001b[0m\n",
      "\u001b[37m2025-10-15 16:11:04 :: ConfigPath :: DEBUG    -> Machine file is /home/bsc/bsc032946/.aqua/catalogs/mn5-phase2/machine.yaml\u001b[0m\n",
      "\u001b[37m2025-10-15 16:11:04 :: ConfigPath :: DEBUG    -> No paths found in the main configuration file {'mn5-phase2': {'catalog': 'mn5-phase2', 'machine': 'MN5', 'reader': {'catalog': '/home/bsc/bsc032946/.aqua/catalogs/mn5-phase2/catalog.yaml', 'machine': '/home/bsc/bsc032946/.aqua/catalogs/mn5-phase2/machine.yaml', 'fixer': '/home/bsc/bsc032946/.aqua/fixes', 'regrid': '/home/bsc/bsc032946/.aqua/grids'}, 'options': {'style': 'aqua'}}}\u001b[0m\n",
      "\u001b[37m2025-10-15 16:11:04 :: yaml :: DEBUG    -> Creating a new dictionary\u001b[0m\n",
      "\u001b[37m2025-10-15 16:11:04 :: yaml :: DEBUG    -> Folder to be merged: /home/bsc/bsc032946/.aqua/fixes\u001b[0m\n",
      "\u001b[37m2025-10-15 16:11:04 :: yaml :: DEBUG    -> Dictionary updated\u001b[0m\n",
      "\u001b[37m2025-10-15 16:11:04 :: yaml :: DEBUG    -> Keys: dict_keys(['fixer_name', 'defaults', 'convention_name'])\u001b[0m\n",
      "\u001b[32m2025-10-15 16:11:04 :: Fixer :: INFO     -> Convention dictionary: eccodes-2.39.0\u001b[0m\n",
      "\u001b[32m2025-10-15 16:11:04 :: Fixer :: INFO     -> No fixer_name found, only convention will be applied\u001b[0m\n",
      "\u001b[37m2025-10-15 16:11:04 :: Fixer :: DEBUG    -> deltat = 1 defined as Fixer() default\u001b[0m\n",
      "\u001b[37m2025-10-15 16:11:04 :: yaml :: DEBUG    -> Creating a new dictionary\u001b[0m\n",
      "\u001b[37m2025-10-15 16:11:04 :: yaml :: DEBUG    -> Folder to be merged: /home/bsc/bsc032946/.aqua/grids\u001b[0m\n",
      "\u001b[37m2025-10-15 16:11:04 :: yaml :: DEBUG    -> Dictionary updated\u001b[0m\n",
      "\u001b[37m2025-10-15 16:11:04 :: yaml :: DEBUG    -> Keys: dict_keys(['grids', 'weights', 'areas', 'cdo-paths'])\u001b[0m\n",
      "\u001b[32m2025-10-15 16:11:04 :: Reader :: INFO     -> Grid metadata is lon-lat\u001b[0m\n",
      "\u001b[37m2025-10-15 16:11:04 :: Regridder :: DEBUG    -> Normalized grid dictionary: {'vert_coord': ['2d'], 'space_coord': ['lon', 'lat'], 'path': {}}\u001b[0m\n",
      "\u001b[37m2025-10-15 16:11:04 :: Regridder :: DEBUG    -> Normalized grid path: {}\u001b[0m\n",
      "\u001b[37m2025-10-15 16:11:04 :: Regridder :: DEBUG    -> Horizontal dimensions: ['lon', 'lat']\u001b[0m\n",
      "\u001b[37m2025-10-15 16:11:04 :: Regridder :: DEBUG    -> Vertical dimensions: []\u001b[0m\n",
      "\u001b[33m2025-10-15 16:11:04 :: Regridder :: WARNING  -> Source grid path not found. Please provide a dataset.\u001b[0m\n",
      "\u001b[33m2025-10-15 16:11:04 :: Reader :: WARNING  -> Issues in the Regridder() init: trying with data\u001b[0m\n",
      "\u001b[37m2025-10-15 16:11:04 :: Reader :: DEBUG    -> Getting sample data through _retrieve_plain()...\u001b[0m\n"
     ]
    }
   ],
   "source": [
    "strat.run(\n",
    "    # dim_mean=[\"lat\",\"lon\"],\n",
    "    outputdir= \".\",\n",
    "    var=['thetao', 'so'],\n",
    "    region=\"ls\",\n",
    "    mld = True,\n",
    "    climatology = \"January\",\n",
    "    )"
   ]
  },
  {
   "cell_type": "code",
   "execution_count": null,
   "id": "2ed1394d",
   "metadata": {},
   "outputs": [
    {
     "ename": "NameError",
     "evalue": "name 'PlotStratification' is not defined",
     "output_type": "error",
     "traceback": [
      "\u001b[31m---------------------------------------------------------------------------\u001b[39m",
      "\u001b[31mNameError\u001b[39m                                 Traceback (most recent call last)",
      "\u001b[36mCell\u001b[39m\u001b[36m \u001b[39m\u001b[32mIn[1]\u001b[39m\u001b[32m, line 1\u001b[39m\n\u001b[32m----> \u001b[39m\u001b[32m1\u001b[39m ps = \u001b[43mPlotStratification\u001b[49m(data=strat.data[[\u001b[33m'\u001b[39m\u001b[33mthetao\u001b[39m\u001b[33m'\u001b[39m, \u001b[33m'\u001b[39m\u001b[33mso\u001b[39m\u001b[33m'\u001b[39m]].mean([\u001b[33m\"\u001b[39m\u001b[33mlat\u001b[39m\u001b[33m\"\u001b[39m,\u001b[33m\"\u001b[39m\u001b[33mlon\u001b[39m\u001b[33m\"\u001b[39m]),\n\u001b[32m      2\u001b[39m                         obs=strat.data[[\u001b[33m'\u001b[39m\u001b[33mthetao\u001b[39m\u001b[33m'\u001b[39m, \u001b[33m'\u001b[39m\u001b[33mso\u001b[39m\u001b[33m'\u001b[39m]].mean([\u001b[33m\"\u001b[39m\u001b[33mlat\u001b[39m\u001b[33m\"\u001b[39m,\u001b[33m\"\u001b[39m\u001b[33mlon\u001b[39m\u001b[33m\"\u001b[39m]),\n\u001b[32m      3\u001b[39m                         loglevel=\u001b[33m'\u001b[39m\u001b[33mDEBUG\u001b[39m\u001b[33m'\u001b[39m,\n\u001b[32m      4\u001b[39m                         )\n\u001b[32m      5\u001b[39m ps.plot_stratification()\n",
      "\u001b[31mNameError\u001b[39m: name 'PlotStratification' is not defined"
     ]
    }
   ],
   "source": [
    "ps = PlotStratification(data=strat.data[['thetao', 'so']].mean([\"lat\",\"lon\"]),\n",
    "                        obs=strat.data[['thetao', 'so']].mean([\"lat\",\"lon\"]),\n",
    "                        loglevel='DEBUG',\n",
    "                        )\n",
    "ps.plot_stratification()"
   ]
  },
  {
   "cell_type": "code",
   "execution_count": null,
   "id": "e64cfa58",
   "metadata": {},
   "outputs": [],
   "source": [
    "ps = PlotMLD(data=strat.data[['mld']],\n",
    "              obs=strat.data[['mld']],\n",
    "              loglevel='DEBUG',\n",
    "              )\n",
    "ps.plot_mld()"
   ]
  }
 ],
 "metadata": {
  "kernelspec": {
   "display_name": "aqua",
   "language": "python",
   "name": "python3"
  },
  "language_info": {
   "codemirror_mode": {
    "name": "ipython",
    "version": 3
   },
   "file_extension": ".py",
   "mimetype": "text/x-python",
   "name": "python",
   "nbconvert_exporter": "python",
   "pygments_lexer": "ipython3",
   "version": "3.12.11"
  }
 },
 "nbformat": 4,
 "nbformat_minor": 5
}
