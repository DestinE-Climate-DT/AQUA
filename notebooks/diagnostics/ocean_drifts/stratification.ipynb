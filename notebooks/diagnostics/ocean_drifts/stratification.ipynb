{
 "cells": [
  {
   "cell_type": "code",
   "execution_count": 2,
   "id": "ff4ec1b9",
   "metadata": {},
   "outputs": [],
   "source": [
    "%reload_ext autoreload\n",
    "%autoreload 2 "
   ]
  },
  {
   "cell_type": "code",
   "execution_count": 6,
   "id": "6367a086",
   "metadata": {},
   "outputs": [],
   "source": [
    "from aqua.diagnostics.ocean_stratification.stratification import Stratification\n",
    "from aqua.diagnostics.ocean_stratification import PlotStratification\n",
    "from aqua.diagnostics.ocean_stratification import PlotMLD\n"
   ]
  },
  {
   "cell_type": "code",
   "execution_count": 5,
   "id": "2feb815a",
   "metadata": {},
   "outputs": [
    {
     "name": "stderr",
     "output_type": "stream",
     "text": [
      "\u001b[37m2025-10-15 16:09:28 :: Diagnostic :: DEBUG    -> Updating the log_level to DEBUG\u001b[0m\n",
      "\u001b[37m2025-10-15 16:09:28 :: Stratification :: DEBUG    -> Updating the log_level to DEBUG\u001b[0m\n"
     ]
    }
   ],
   "source": [
    "strat = Stratification(\n",
    "    catalog='mn5-phase2',\n",
    "    model='IFS-NEMO',\n",
    "    exp='control-1990-freeze',\n",
    "    source='lra-r100-monthly',\n",
    "    startdate='01-01-1991',\n",
    "    enddate='31-05-1992',\n",
    "    loglevel='DEBUG'\n",
    ")\n"
   ]
  },
  {
   "cell_type": "code",
   "execution_count": null,
   "id": "6f52e0ee",
   "metadata": {},
   "outputs": [
    {
     "name": "stderr",
     "output_type": "stream",
     "text": [
      "\u001b[32m2025-10-15 16:09:40 :: Stratification :: INFO     -> Starting stratification diagnostic run.\u001b[0m\n",
      "\u001b[37m2025-10-15 16:09:40 :: Reader :: DEBUG    -> Updating the log_level to DEBUG\u001b[0m\n",
      "\u001b[37m2025-10-15 16:09:40 :: ConfigPath :: DEBUG    -> Updating the log_level to DEBUG\u001b[0m\n",
      "\u001b[37m2025-10-15 16:09:40 :: ConfigPath :: DEBUG    -> AQUA installation found in /home/bsc/bsc032946/.aqua\u001b[0m\n",
      "\u001b[37m2025-10-15 16:09:40 :: ConfigPath :: DEBUG    -> Configuration file found in /home/bsc/bsc032946/.aqua/config-aqua.yaml\u001b[0m\n",
      "\u001b[37m2025-10-15 16:09:40 :: ConfigPath :: DEBUG    -> Available catalogs are ['mn5-phase2']\u001b[0m\n",
      "\u001b[37m2025-10-15 16:09:40 :: ConfigPath :: DEBUG    -> Default catalog will be mn5-phase2\u001b[0m\n",
      "\u001b[37m2025-10-15 16:09:40 :: ConfigPath :: DEBUG    -> Catalog file is /home/bsc/bsc032946/.aqua/catalogs/mn5-phase2/catalog.yaml\u001b[0m\n",
      "\u001b[37m2025-10-15 16:09:40 :: ConfigPath :: DEBUG    -> Machine file is /home/bsc/bsc032946/.aqua/catalogs/mn5-phase2/machine.yaml\u001b[0m\n",
      "\u001b[37m2025-10-15 16:09:40 :: ConfigPath :: DEBUG    -> Machine found in configuration file, set to MN5\u001b[0m\n",
      "\u001b[37m2025-10-15 16:09:40 :: ConfigPath :: DEBUG    -> Machine found in configuration file, set to MN5\u001b[0m\n",
      "\u001b[37m2025-10-15 16:09:40 :: ConfigPath :: DEBUG    -> Browsing catalog mn5-phase2 ...\u001b[0m\n",
      "\u001b[37m2025-10-15 16:09:40 :: ConfigPath :: DEBUG    -> Catalog file is /home/bsc/bsc032946/.aqua/catalogs/mn5-phase2/catalog.yaml\u001b[0m\n",
      "\u001b[37m2025-10-15 16:09:40 :: ConfigPath :: DEBUG    -> Machine file is /home/bsc/bsc032946/.aqua/catalogs/mn5-phase2/machine.yaml\u001b[0m\n",
      "\u001b[32m2025-10-15 16:09:40 :: ConfigPath :: INFO     -> IFS-NEMO_control-1990-freeze_lra-r100-monthly triplet found in in mn5-phase2!\u001b[0m\n",
      "\u001b[37m2025-10-15 16:09:40 :: ConfigPath :: DEBUG    -> Final catalog to be used is mn5-phase2\u001b[0m\n",
      "\u001b[37m2025-10-15 16:09:40 :: ConfigPath :: DEBUG    -> Catalog file is /home/bsc/bsc032946/.aqua/catalogs/mn5-phase2/catalog.yaml\u001b[0m\n",
      "\u001b[37m2025-10-15 16:09:40 :: ConfigPath :: DEBUG    -> Machine file is /home/bsc/bsc032946/.aqua/catalogs/mn5-phase2/machine.yaml\u001b[0m\n",
      "\u001b[37m2025-10-15 16:09:40 :: ConfigPath :: DEBUG    -> No paths found in the main configuration file {'mn5-phase2': {'catalog': 'mn5-phase2', 'machine': 'MN5', 'reader': {'catalog': '/home/bsc/bsc032946/.aqua/catalogs/mn5-phase2/catalog.yaml', 'machine': '/home/bsc/bsc032946/.aqua/catalogs/mn5-phase2/machine.yaml', 'fixer': '/home/bsc/bsc032946/.aqua/fixes', 'regrid': '/home/bsc/bsc032946/.aqua/grids'}, 'options': {'style': 'aqua'}}}\u001b[0m\n",
      "\u001b[37m2025-10-15 16:09:40 :: yaml :: DEBUG    -> Updating the log_level to DEBUG\u001b[0m\n",
      "\u001b[37m2025-10-15 16:09:40 :: yaml :: DEBUG    -> Creating a new dictionary\u001b[0m\n",
      "\u001b[37m2025-10-15 16:09:40 :: yaml :: DEBUG    -> Folder to be merged: /home/bsc/bsc032946/.aqua/fixes\u001b[0m\n",
      "\u001b[37m2025-10-15 16:09:40 :: yaml :: DEBUG    -> Dictionary updated\u001b[0m\n",
      "\u001b[37m2025-10-15 16:09:40 :: yaml :: DEBUG    -> Keys: dict_keys(['fixer_name', 'defaults', 'convention_name'])\u001b[0m\n",
      "\u001b[37m2025-10-15 16:09:40 :: Fixer :: DEBUG    -> Updating the log_level to DEBUG\u001b[0m\n",
      "\u001b[32m2025-10-15 16:09:40 :: Fixer :: INFO     -> Convention dictionary: eccodes-2.39.0\u001b[0m\n",
      "\u001b[32m2025-10-15 16:09:40 :: Fixer :: INFO     -> No fixer_name found, only convention will be applied\u001b[0m\n",
      "\u001b[37m2025-10-15 16:09:40 :: Fixer :: DEBUG    -> deltat = 1 defined as Fixer() default\u001b[0m\n",
      "\u001b[37m2025-10-15 16:09:40 :: FixerOperator :: DEBUG    -> Updating the log_level to DEBUG\u001b[0m\n",
      "\u001b[37m2025-10-15 16:09:40 :: FixerDataModel :: DEBUG    -> Updating the log_level to DEBUG\u001b[0m\n",
      "\u001b[37m2025-10-15 16:09:40 :: yaml :: DEBUG    -> Creating a new dictionary\u001b[0m\n",
      "\u001b[37m2025-10-15 16:09:40 :: yaml :: DEBUG    -> Folder to be merged: /home/bsc/bsc032946/.aqua/grids\u001b[0m\n",
      "\u001b[37m2025-10-15 16:09:40 :: yaml :: DEBUG    -> Dictionary updated\u001b[0m\n",
      "\u001b[37m2025-10-15 16:09:40 :: yaml :: DEBUG    -> Keys: dict_keys(['grids', 'weights', 'areas', 'cdo-paths'])\u001b[0m\n",
      "\u001b[32m2025-10-15 16:09:40 :: Reader :: INFO     -> Grid metadata is lon-lat\u001b[0m\n",
      "\u001b[37m2025-10-15 16:09:40 :: Regridder :: DEBUG    -> Updating the log_level to DEBUG\u001b[0m\n",
      "\u001b[37m2025-10-15 16:09:40 :: Regridder :: DEBUG    -> Normalized grid dictionary: {'vert_coord': ['2d'], 'space_coord': ['lon', 'lat'], 'path': {}}\u001b[0m\n",
      "\u001b[37m2025-10-15 16:09:40 :: Regridder :: DEBUG    -> Normalized grid path: {}\u001b[0m\n",
      "\u001b[37m2025-10-15 16:09:40 :: Regridder :: DEBUG    -> Horizontal dimensions: ['lon', 'lat']\u001b[0m\n",
      "\u001b[37m2025-10-15 16:09:40 :: Regridder :: DEBUG    -> Vertical dimensions: []\u001b[0m\n",
      "\u001b[33m2025-10-15 16:09:40 :: Regridder :: WARNING  -> Source grid path not found. Please provide a dataset.\u001b[0m\n",
      "\u001b[33m2025-10-15 16:09:40 :: Reader :: WARNING  -> Issues in the Regridder() init: trying with data\u001b[0m\n",
      "\u001b[37m2025-10-15 16:09:40 :: Reader :: DEBUG    -> Getting sample data through _retrieve_plain()...\u001b[0m\n"
     ]
    }
   ],
   "source": [
    "strat.run(\n",
    "    # dim_mean=[\"lat\",\"lon\"],\n",
    "    outputdir= \".\",\n",
    "    var=['thetao', 'so'],\n",
    "    region=\"ls\",\n",
    "    mld = True,\n",
    "    climatology = \"January\",\n",
    "    )"
   ]
  },
  {
   "cell_type": "code",
   "execution_count": null,
   "id": "2ed1394d",
   "metadata": {},
   "outputs": [],
   "source": [
    "ps = PlotStratification(data=strat.data[['thetao', 'so']].mean([\"lat\",\"lon\"]),\n",
    "                        obs=strat.data[['thetao', 'so']].mean([\"lat\",\"lon\"]),\n",
    "                        loglevel='DEBUG',\n",
    "                        )\n",
    "ps.plot_stratification()"
   ]
  },
  {
   "cell_type": "code",
   "execution_count": null,
   "id": "e64cfa58",
   "metadata": {},
   "outputs": [],
   "source": [
    "ps = PlotMLD(data=strat.data[['mld']],\n",
    "              obs=strat.data[['mld']],\n",
    "              loglevel='DEBUG',\n",
    "              )\n",
    "ps.plot_mld()"
   ]
  }
 ],
 "metadata": {
  "kernelspec": {
   "display_name": "aqua",
   "language": "python",
   "name": "python3"
  },
  "language_info": {
   "codemirror_mode": {
    "name": "ipython",
    "version": 3
   },
   "file_extension": ".py",
   "mimetype": "text/x-python",
   "name": "python",
   "nbconvert_exporter": "python",
   "pygments_lexer": "ipython3",
   "version": "3.12.11"
  }
 },
 "nbformat": 4,
 "nbformat_minor": 5
}
