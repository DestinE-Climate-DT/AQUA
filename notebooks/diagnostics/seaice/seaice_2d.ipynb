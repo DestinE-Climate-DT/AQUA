{
 "cells": [
  {
   "cell_type": "markdown",
   "metadata": {},
   "source": [
    "# Sea Ice example notebook for 2D maps\n",
    "\n",
    "---\n"
   ]
  },
  {
   "cell_type": "markdown",
   "metadata": {},
   "source": [
    "To avoid excessive repetition of the same code for loading/computing of the data,  \n",
    "\n",
    ">[So please refer back to the `seaice.ipynb` notebook for the loading of the data].  \n",
    "\n",
    "The class method `plot_2d_seaice` automatically adjusts the plotting settings based on the value of the `method` argument,  \n",
    "which can be either `fraction` or `thickness`. The class computes the monthly climatology of the dataset over the available time period.  \n",
    "\n",
    "When method `fraction` is selected, it is possible to set `plot_ref_contour=True` to show the contour red line where the seaice fraction equals 20%.\n",
    "\n",
    "The `plot_type` argument determines the type of figure produced:\n",
    "\n",
    "- `var`: For each region, plots the fraction or thickness for all requested monthly climatologies (default: March and September [3,9]) across each model or reference dataset.\n",
    "- `bias`: For each of the requested months, plots the reference data, the model output, and the bias map (model – reference)."
   ]
  },
  {
   "cell_type": "markdown",
   "metadata": {},
   "source": [
    "## Plot sea ice 2D maps: bias\n",
    "\n",
    "### Plotting method: fraction\n",
    "\n",
    "Set `method='fraction'` to plot the sea ice fraction bias maps."
   ]
  },
  {
   "cell_type": "code",
   "execution_count": null,
   "metadata": {},
   "outputs": [],
   "source": [
    "p2dsi = Plot2DSeaIce(models=simod,\n",
    "                     ref=[si_ref_sh, si_ref_nh],\n",
    "                     loglevel='info')\n",
    "\n",
    "p2dsi.plot_2d_seaice(plot_type='bias', method='fraction',\n",
    "                     projkw={'projpars':{'central_longitude':0.0,\n",
    "                                         'central_latitude':'max_lat_signed'},\n",
    "                             'projname':'orthographic'},\n",
    "                     plot_ref_contour=True,\n",
    "                     save_pdf=False, save_png=False)"
   ]
  },
  {
   "cell_type": "markdown",
   "metadata": {},
   "source": [
    "As mentioned in the documentation, it is possible to provide a set of projections trough the `projkw` dictionary as in the example below (check documentation for \n",
    "all the available projections).  \n",
    "Furthermore, it is possible to set the lat-lon boundaries of the plotted regions, allowing for a refined 'zoom' of the desired area using the `extent_regions` parameter."
   ]
  },
  {
   "cell_type": "code",
   "execution_count": null,
   "metadata": {},
   "outputs": [],
   "source": [
    "p2dsi = Plot2DSeaIce(models=simod,\n",
    "                     ref=[si_ref_sh, si_ref_nh],\n",
    "                     loglevel='info')\n",
    "\n",
    "p2dsi.plot_2d_seaice(plot_type='bias', method='fraction',\n",
    "                     projkw={'projpars':{'central_longitude':0.0,\n",
    "                                         'central_latitude':'max_lat_signed'},\n",
    "                             'extent_regions':{'Arctic':   [-180, 180, 50, 90],\n",
    "                                               'Antarctic':[-180, 180, -50, -90]},\n",
    "                             'projname':'azimuthal_equidistant'},\n",
    "                     plot_ref_contour=True,\n",
    "                     save_pdf=False, save_png=False)"
   ]
  },
  {
   "cell_type": "markdown",
   "metadata": {},
   "source": [
    "### Plotting method: thickness\n",
    "\n",
    "Set `method='thickness'` to plot the sea ice thickness and the bias maps."
   ]
  },
  {
   "cell_type": "code",
   "execution_count": null,
   "metadata": {},
   "outputs": [],
   "source": [
    "p2dsi = Plot2DSeaIce(ref=[si_ref_sh, si_ref_nh],\n",
    "                     models=simod,\n",
    "                     loglevel='info')\n",
    "p2dsi.plot_2d_seaice(plot_type='bias', method='thickness',\n",
    "                     projkw={'projpars':{'central_longitude':0.0,\n",
    "                                         'central_latitude':'max_lat_signed'},\n",
    "                             'extent_regions':{'Arctic':   [-180, 180, 50, 90],\n",
    "                                               'Antarctic':[-180, 180, -50, -90]},\n",
    "                             'projname':'azimuthal_equidistant'})"
   ]
  },
  {
   "cell_type": "markdown",
   "metadata": {},
   "source": [
    "## Plot sea ice 2D maps: var\n",
    "\n",
    "Setting `plot_type='var'` will produce plot without the bias maps, with the aim to highlight the variability across the  \n",
    "months of the year for each model/reference in each region."
   ]
  },
  {
   "cell_type": "code",
   "execution_count": null,
   "metadata": {},
   "outputs": [],
   "source": [
    "p2dsi = Plot2DSeaIce(models=simod,\n",
    "                     ref=[si_ref_sh, si_ref_nh],\n",
    "                     loglevel='info')\n",
    "                     \n",
    "p2dsi.plot_2d_seaice(plot_type='var', method='fraction',\n",
    "                     projkw={'projname':'orthographic',\n",
    "                             'projpars':{'central_longitude':0.0,\n",
    "                                         'central_latitude':'max_lat_signed'}},\n",
    "                     plot_ref_contour=True)"
   ]
  }
 ],
 "metadata": {
  "kernelspec": {
   "display_name": "Python 3",
   "language": "python",
   "name": "python3"
  },
  "language_info": {
   "name": "python",
   "version": "3.12.8"
  }
 },
 "nbformat": 4,
 "nbformat_minor": 2
}
