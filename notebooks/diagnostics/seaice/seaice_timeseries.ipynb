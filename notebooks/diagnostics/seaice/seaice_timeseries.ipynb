{
 "cells": [
  {
   "cell_type": "markdown",
   "metadata": {},
   "source": [
    "# Sea Ice example notebook for timeseries\n",
    "\n",
    "---\n",
    "\n",
    "This notebook shows how to use the seaice diagnostic. It contains an example of access of a reference (OSI-SAF or PSC) and model (IFS-NEMO) datasets to evaluate \n",
    "and plot the sea ice extension, volume, fraction and thickness variables.\n",
    "\n",
    "The only import needed is the `SeaIce` and `PlotSeaIce` and `Plot2DSeaIce` classes from the `aqua.diagnostics` module."
   ]
  },
  {
   "cell_type": "code",
   "execution_count": null,
   "metadata": {},
   "outputs": [],
   "source": [
    "from aqua.diagnostics import SeaIce, PlotSeaIce, Plot2DSeaIce"
   ]
  },
  {
   "cell_type": "markdown",
   "metadata": {},
   "source": [
    "- The `SeaIce` class allow to retrive, regrid and perform the main analysis on the data. It also allow to save the resulting data as NetCDF file (through the method `save_netcdf`). \n",
    "- The `PlotSeaIce` class allow to plot and evaluate the `extent` and `volume` of sea ice.\n",
    "- The `Plot2DSeaIce` class allow to plot 2D maps and evaluate the differences of `fraction` and `thickness` of sea ice."
   ]
  },
  {
   "cell_type": "markdown",
   "metadata": {},
   "source": [
    "## Data retrieve and sea ice calculation\n",
    "\n",
    "At first it must be initialised the class `SeaIce`, which calls internally the `Reader` and performs the regridding (if a `regrid` option is provided).  \n",
    "Then we compute the sea ice for the model data (using the method `compute_seaice`).  \n",
    "The `regions` argument allow to choose the specific regions defined by lat-lon in `regions.yaml` file. "
   ]
  },
  {
   "cell_type": "markdown",
   "metadata": {},
   "source": [
    "## Seaice extent\n",
    "\n",
    "### Calculate: model data - surface extent "
   ]
  },
  {
   "cell_type": "code",
   "execution_count": null,
   "metadata": {},
   "outputs": [],
   "source": [
    "method   = 'extent'   # This is the method we want to compute with the seaice data\n",
    "varname  = 'siconc'   # This is the right variable name relative to the desired method for IFS-NEMO\n",
    "source   = 'lra-r100-monthly' # source name can change depending on the model and exp\n",
    "regions_domain = ['arctic','antarctic']\n",
    "regrid='r100'\n",
    "loglevel = 'info'\n",
    "\n",
    "seaice_model = SeaIce(model='IFS-NEMO', exp='historical-1990', source=source, regions=regions_domain, \n",
    "                      startdate='1991-01-01', enddate='2000-01-01', \n",
    "                      regrid=regrid, loglevel='info')\n",
    "simod = seaice_model.compute_seaice(method=method, var=varname)"
   ]
  },
  {
   "cell_type": "markdown",
   "metadata": {},
   "source": [
    "- The data can be saved into NetCDF files:"
   ]
  },
  {
   "cell_type": "code",
   "execution_count": null,
   "metadata": {},
   "outputs": [],
   "source": [
    "seaice_model.save_netcdf(simod, 'seaice', diagnostic_product='timeseries', extra_keys={'method': method, 'source': source, 'regions_domain': \"_\".join(regions_domain)})"
   ]
  },
  {
   "cell_type": "markdown",
   "metadata": {},
   "source": [
    "### Calculate: reference sea ice - surface extent \n",
    "\n",
    "The same must be done for the observations (reference data).  \n",
    "Since we want to plot both the 'arctic' and 'antarctic' region, we need to load both the data Northern \n",
    "and Southern Hemisphere separately due to how OSI-SAF provide these datasets.  \n",
    "Then to compute the sea ice extent. We also want to calculate the standard deviation for the observations for an improved comparison of the model against onservations.  \n",
    "Since only the plotting of the monthly timeseries is supported at the moment for the sea ice, we must set `calc_std_freq = 'monthly'`. This will create also datasets \n",
    "with the std calcualted from the data."
   ]
  },
  {
   "cell_type": "code",
   "execution_count": null,
   "metadata": {},
   "outputs": [],
   "source": [
    "seaice_ref_nh = SeaIce(model='OSI-SAF', exp='osi-450', source='nh-monthly', regions='arctic',\n",
    "                       startdate=startdate, enddate=enddate, \n",
    "                       regrid=regrid, loglevel=loglevel)\n",
    "si_ref_nh, si_std_ref_nh = seaice_ref_nh.compute_seaice(method=method, var=varname, calc_std_freq='monthly')\n",
    "\n",
    "seaice_ref_sh = SeaIce(model='OSI-SAF', exp='osi-450', source='sh-monthly', regions='antarctic',\n",
    "                      startdate=startdate, enddate=enddate, \n",
    "                      regrid=regrid, loglevel=loglevel)\n",
    "si_ref_sh, si_std_ref_sh = seaice_ref_sh.compute_seaice(method=method, var=varname, calc_std_freq='monthly')"
   ]
  },
  {
   "cell_type": "markdown",
   "metadata": {},
   "source": [
    "Following example above, the data can be saved in NetCDF."
   ]
  },
  {
   "cell_type": "markdown",
   "metadata": {},
   "source": [
    "### Plot: reference and model - surface extent \n",
    "\n",
    "To plot the seaice timeseries, we first instantiate the `PlotSeaIce` object and then plot it with the `plot_seaice` method.\n",
    "\n",
    "- The `plot_seaice` method accepts a single xr.DataArray, a xr.Dataset or a list of xr.Dataset.  \n",
    "Switch *save_pdf* *_png* to *True* to save the figure in the selected *outputdir*:"
   ]
  },
  {
   "cell_type": "code",
   "execution_count": null,
   "metadata": {},
   "outputs": [],
   "source": [
    "psi = PlotSeaIce(monthly_models=simod,\n",
    "                 monthly_ref=[si_ref_nh, si_ref_sh],\n",
    "                 monthly_std_ref=[si_std_ref_nh, si_std_ref_sh], \n",
    "                 outputdir='.',\n",
    "                 rebuild=True,\n",
    "                 loglevel=loglevel)\n",
    "psi.plot_seaice(plot_type='timeseries', save_pdf=False, save_png=False)"
   ]
  },
  {
   "cell_type": "markdown",
   "metadata": {},
   "source": [
    "---\n",
    "\n",
    "## Seaice volume \n",
    "\n",
    "Similar steps as above must be followed.\n",
    "\n",
    "### Calculate: model data - volume"
   ]
  },
  {
   "cell_type": "code",
   "execution_count": null,
   "metadata": {},
   "outputs": [],
   "source": [
    "method   = 'volume'    # This is the method we want to compute with the seaice data\n",
    "varname  = 'sithick'   # This is the right variable name relative to the desired method for IFS-NEMO\n",
    "source   = 'lra-r100-monthly'\n",
    "regions_domain = ['arctic','antarctic']\n",
    "regrid='r100'\n",
    "loglevel = 'info'\n",
    "\n",
    "seaice_model = SeaIce(model='IFS-NEMO', exp='historical-1990', source=source, regions=regions_domain,\n",
    "                      startdate='1991-01-01', enddate='2000-01-01',\n",
    "                      regrid=regrid, loglevel='info')\n",
    "simod = seaice_model.compute_seaice(method=method, var=varname)"
   ]
  },
  {
   "cell_type": "markdown",
   "metadata": {},
   "source": [
    "### Calculate: reference sea ice - volume "
   ]
  },
  {
   "cell_type": "code",
   "execution_count": null,
   "metadata": {},
   "outputs": [],
   "source": [
    "varname = 'sivol'\n",
    "\n",
    "seaice_ref_nh = SeaIce(model='PSC', exp='PIOMAS', source='monthly', regions='arctic',\n",
    "                       startdate='1991-01-01', enddate='2000-01-01',\n",
    "                       regrid=regrid, loglevel=loglevel)\n",
    "si_ref_nh, si_std_ref_nh = seaice_ref_nh.compute_seaice(method=method, var=varname, calc_std_freq='monthly')\n",
    "\n",
    "seaice_ref_sh = SeaIce(model='PSC', exp='GIOMAS', source='monthly', regions='antarctic',\n",
    "                       startdate='1991-01-01', enddate='2000-01-01', \n",
    "                       regrid=regrid, loglevel=loglevel)\n",
    "si_ref_sh, si_std_ref_sh = seaice_ref_sh.compute_seaice(method=method, var=varname, calc_std_freq='monthly')"
   ]
  },
  {
   "cell_type": "markdown",
   "metadata": {},
   "source": [
    "### Plot: reference and model - volume \n",
    "\n",
    "To plot the seaice timeseries, we first instantiate the `PlotSeaIce` object and then plot it with the `plot_seaice` method.\n",
    "\n",
    "- The `plot_seaice` method accepts a single xr.DataArray, a xr.Dataset or a list of xr.Dataset.  \n",
    "Switch *save_pdf* *_png* to *True* to save the figure in the selected *outputdir*:"
   ]
  },
  {
   "cell_type": "code",
   "execution_count": null,
   "metadata": {},
   "outputs": [],
   "source": [
    "psi = PlotSeaIce(monthly_models=simod,\n",
    "                 monthly_ref=[si_ref_nh, si_ref_sh],\n",
    "                 monthly_std_ref=[si_std_ref_nh, si_std_ref_sh], \n",
    "                 outputdir='.',\n",
    "                 rebuild=True,\n",
    "                 loglevel=loglevel)\n",
    "psi.plot_seaice(plot_type='timeseries', save_pdf=False, save_png=False)"
   ]
  }
 ],
 "metadata": {
  "kernelspec": {
   "display_name": "Python 3",
   "language": "python",
   "name": "python3"
  },
  "language_info": {
   "codemirror_mode": {
    "name": "ipython",
    "version": 3
   },
   "file_extension": ".py",
   "mimetype": "text/x-python",
   "name": "python",
   "nbconvert_exporter": "python",
   "pygments_lexer": "ipython3",
   "version": "3.12.11"
  }
 },
 "nbformat": 4,
 "nbformat_minor": 2
}
