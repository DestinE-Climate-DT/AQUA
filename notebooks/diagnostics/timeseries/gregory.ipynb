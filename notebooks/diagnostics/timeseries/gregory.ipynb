{
 "cells": [
  {
   "cell_type": "markdown",
   "id": "9a79335b",
   "metadata": {},
   "source": [
    "# Gregory plot\n",
    "\n",
    "This notebook shows how to use the Gregory diagnostic. Here we focus on the `Gregory` for the single model evaluation and the `PlotGregory` for the multi model plots."
   ]
  },
  {
   "cell_type": "code",
   "execution_count": 8,
   "id": "2560e08c",
   "metadata": {},
   "outputs": [],
   "source": [
    "%reload_ext autoreload\n",
    "%autoreload 2"
   ]
  },
  {
   "cell_type": "code",
   "execution_count": 9,
   "id": "796a9774",
   "metadata": {},
   "outputs": [],
   "source": [
    "from aqua.diagnostics.timeseries import Gregory"
   ]
  },
  {
   "cell_type": "code",
   "execution_count": 10,
   "id": "7bb2866e",
   "metadata": {},
   "outputs": [],
   "source": [
    "dataset_dict = {'catalog': 'climatedt-phase1',\n",
    "                'model': 'ICON',\n",
    "                'exp': 'historical-1990',\n",
    "                'source': 'lra-r100-monthly',\n",
    "                'startdate': '1990-01-01',\n",
    "                'enddate': '1999-12-31'}\n",
    "toa_dict = {'catalog': 'obs',\n",
    "            'model': 'CERES',\n",
    "            'exp': 'ebaf-toa42',\n",
    "            'source': 'monthly',\n",
    "            'startdate': '1990-01-01',\n",
    "            'enddate': '2020-12-31'}\n",
    "t2m_dict = {'catalog': 'obs',\n",
    "            'model': 'ERA5',\n",
    "            'exp': 'era5',\n",
    "            'source': 'monthly',\n",
    "            'startdate': '1990-01-01',\n",
    "            'enddate': '2020-12-31'}\n",
    "common_dict = {'loglevel': 'info'}"
   ]
  },
  {
   "cell_type": "code",
   "execution_count": 11,
   "id": "8815e82d",
   "metadata": {},
   "outputs": [],
   "source": [
    "greg_dataset = Gregory(**dataset_dict,\n",
    "                       **common_dict)"
   ]
  },
  {
   "cell_type": "code",
   "execution_count": 12,
   "id": "5ad2e922",
   "metadata": {},
   "outputs": [
    {
     "name": "stderr",
     "output_type": "stream",
     "text": [
      "\u001b[33m2025-03-28 17:39:16 :: Regridder :: WARNING  -> Source grid path not found. Please provide a dataset.\u001b[0m\n",
      "\u001b[33m2025-03-28 17:39:16 :: Reader :: WARNING  -> Issues in the Regridder() init: trying with data\u001b[0m\n",
      "\u001b[33m2025-03-28 17:39:16 :: Reader :: WARNING  -> Issues in the Regridder() init: trying with data\u001b[0m\n",
      "\u001b[32m2025-03-28 17:40:10 :: Diagnostic :: INFO     -> Computing the Gregory Plot for the ['monthly', 'annual'] frequency.\u001b[0m\n",
      "\u001b[32m2025-03-28 17:40:11 :: create_folder :: INFO     -> Folder ./netcdf already exists\u001b[0m\n",
      "\u001b[32m2025-03-28 17:40:12 :: OutputSaver :: INFO     -> NetCDF file successfully saved.\u001b[0m\n",
      "\u001b[32m2025-03-28 17:40:12 :: create_folder :: INFO     -> Folder ./netcdf already exists\u001b[0m\n",
      "\u001b[32m2025-03-28 17:40:13 :: OutputSaver :: INFO     -> NetCDF file successfully saved.\u001b[0m\n",
      "\u001b[32m2025-03-28 17:40:13 :: create_folder :: INFO     -> Folder ./netcdf already exists\u001b[0m\n",
      "\u001b[32m2025-03-28 17:40:14 :: OutputSaver :: INFO     -> NetCDF file successfully saved.\u001b[0m\n",
      "\u001b[32m2025-03-28 17:40:14 :: create_folder :: INFO     -> Folder ./netcdf already exists\u001b[0m\n",
      "\u001b[32m2025-03-28 17:40:14 :: OutputSaver :: INFO     -> NetCDF file successfully saved.\u001b[0m\n"
     ]
    }
   ],
   "source": [
    "greg_dataset.run()"
   ]
  },
  {
   "cell_type": "code",
   "execution_count": 13,
   "id": "c5ad4015",
   "metadata": {},
   "outputs": [
    {
     "name": "stderr",
     "output_type": "stream",
     "text": [
      "\u001b[32m2025-03-28 17:40:20 :: Diagnostic :: INFO     -> Computing the Gregory Plot for the ['monthly', 'annual'] frequency.\u001b[0m\n",
      "\u001b[32m2025-03-28 17:40:23 :: create_folder :: INFO     -> Folder ./netcdf already exists\u001b[0m\n",
      "\u001b[32m2025-03-28 17:40:38 :: OutputSaver :: INFO     -> NetCDF file successfully saved.\u001b[0m\n",
      "\u001b[32m2025-03-28 17:40:38 :: create_folder :: INFO     -> Folder ./netcdf already exists\u001b[0m\n",
      "\u001b[32m2025-03-28 17:40:53 :: OutputSaver :: INFO     -> NetCDF file successfully saved.\u001b[0m\n",
      "\u001b[32m2025-03-28 17:40:53 :: create_folder :: INFO     -> Folder ./netcdf already exists\u001b[0m\n",
      "\u001b[32m2025-03-28 17:41:07 :: OutputSaver :: INFO     -> NetCDF file successfully saved.\u001b[0m\n",
      "\u001b[33m2025-03-28 17:41:07 :: Regridder :: WARNING  -> Source grid path not found. Please provide a dataset.\u001b[0m\n",
      "\u001b[33m2025-03-28 17:41:07 :: Reader :: WARNING  -> Issues in the Regridder() init: trying with data\u001b[0m\n",
      "\u001b[32m2025-03-28 17:41:08 :: Diagnostic :: INFO     -> Computing the Gregory Plot for the ['monthly', 'annual'] frequency.\u001b[0m\n",
      "\u001b[33m2025-03-28 17:41:09 :: timmean_chunk_completeness :: WARNING  -> Chunk 2000-01-01 00:00:00->2000-12-01 00:00:00 for has 10 elements instead of expected 12, timmean() will exclude this\u001b[0m\n",
      "\u001b[32m2025-03-28 17:41:09 :: create_folder :: INFO     -> Folder ./netcdf already exists\u001b[0m\n",
      "\u001b[32m2025-03-28 17:41:14 :: OutputSaver :: INFO     -> NetCDF file successfully saved.\u001b[0m\n",
      "\u001b[32m2025-03-28 17:41:14 :: create_folder :: INFO     -> Folder ./netcdf already exists\u001b[0m\n",
      "\u001b[32m2025-03-28 17:41:15 :: OutputSaver :: INFO     -> NetCDF file successfully saved.\u001b[0m\n",
      "\u001b[32m2025-03-28 17:41:15 :: create_folder :: INFO     -> Folder ./netcdf already exists\u001b[0m\n",
      "\u001b[32m2025-03-28 17:41:16 :: OutputSaver :: INFO     -> NetCDF file successfully saved.\u001b[0m\n"
     ]
    }
   ],
   "source": [
    "greg_t2m = Gregory(**t2m_dict,\n",
    "                   **common_dict)\n",
    "greg_t2m.run(t2m=True, net_toa=False, std=True)\n",
    "greg_toa = Gregory(**toa_dict,\n",
    "                   **common_dict)\n",
    "greg_toa.run(t2m=False, net_toa=True, std=True)"
   ]
  },
  {
   "cell_type": "code",
   "execution_count": 14,
   "id": "d5e308e2",
   "metadata": {},
   "outputs": [],
   "source": [
    "from aqua.diagnostics.timeseries import PlotGregory"
   ]
  },
  {
   "cell_type": "code",
   "execution_count": null,
   "id": "54d82297",
   "metadata": {},
   "outputs": [],
   "source": [
    "greg_toa.std"
   ]
  },
  {
   "cell_type": "code",
   "execution_count": 16,
   "id": "579676ad",
   "metadata": {},
   "outputs": [],
   "source": [
    "plot_dict = {'t2m_monthly_data': greg_dataset.t2m_monthly,\n",
    "             'net_toa_monthly_data': greg_dataset.net_toa_monthly,\n",
    "             't2m_annual_data': greg_dataset.t2m_annual,\n",
    "             'net_toa_annual_data': greg_dataset.net_toa_annual,\n",
    "             't2m_monthly_ref': greg_t2m.t2m_monthly,\n",
    "             'net_toa_monthly_ref': greg_toa.net_toa_monthly,\n",
    "             't2m_annual_ref': greg_t2m.t2m_annual,\n",
    "             'net_toa_annual_ref': greg_toa.net_toa_annual,\n",
    "             't2m_annual_std': greg_t2m.t2m_std,\n",
    "             'net_toa_annual_std': greg_toa.net_toa_std,\n",
    "             'loglevel': 'info'}"
   ]
  },
  {
   "cell_type": "code",
   "execution_count": 19,
   "id": "e452b939",
   "metadata": {},
   "outputs": [],
   "source": [
    "plot = PlotGregory(**plot_dict)"
   ]
  },
  {
   "cell_type": "code",
   "execution_count": null,
   "id": "ffbfac75",
   "metadata": {},
   "outputs": [],
   "source": []
  }
 ],
 "metadata": {
  "kernelspec": {
   "display_name": "Python 3",
   "language": "python",
   "name": "python3"
  },
  "language_info": {
   "codemirror_mode": {
    "name": "ipython",
    "version": 3
   },
   "file_extension": ".py",
   "mimetype": "text/x-python",
   "name": "python",
   "nbconvert_exporter": "python",
   "pygments_lexer": "ipython3",
   "version": "3.12.9"
  }
 },
 "nbformat": 4,
 "nbformat_minor": 5
}
