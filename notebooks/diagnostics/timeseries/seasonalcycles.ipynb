{
 "cells": [
  {
   "cell_type": "markdown",
   "id": "8cd38c6d-d624-4d72-83c4-aa9e69d836f1",
   "metadata": {},
   "source": [
    "# Seasonal cycles\n",
    "\n",
    "This notebook shows how to use the seasonal cycles diagnostic. Here we focus on the `SeasonalCycles` for the single model evaluation and the `PlotSeasonalCycles` for the multi model plots."
   ]
  },
  {
   "cell_type": "code",
   "execution_count": 1,
   "id": "84d5fe13",
   "metadata": {},
   "outputs": [],
   "source": [
    "%reload_ext autoreload\n",
    "%autoreload 2"
   ]
  },
  {
   "cell_type": "code",
   "execution_count": 2,
   "id": "bd765e24-8381-474e-bf3b-134fa98c901b",
   "metadata": {},
   "outputs": [
    {
     "name": "stderr",
     "output_type": "stream",
     "text": [
      "/LUMI_TYKKY_L60Yfbf/miniconda/envs/env1/lib/python3.12/site-packages/esmpy/interface/loadESMF.py:94: VersionWarning: ESMF installation version 8.8.0, ESMPy version 8.8.0b0\n",
      "  warnings.warn(\"ESMF installation version {}, ESMPy version {}\".format(\n"
     ]
    }
   ],
   "source": [
    "from aqua.diagnostics.timeseries import SeasonalCycles"
   ]
  },
  {
   "cell_type": "code",
   "execution_count": 4,
   "id": "36bc55bc",
   "metadata": {},
   "outputs": [],
   "source": [
    "dataset_dict = {'catalog': 'climatedt-phase1',\n",
    "                'model': 'ICON',\n",
    "                'exp': 'historical-1990',\n",
    "                'source': 'lra-r100-monthly'}\n",
    "obs_dict = {'catalog': 'obs',\n",
    "            'model': 'ERA5',\n",
    "            'exp': 'era5',\n",
    "            'source': 'monthly',\n",
    "            'std_startdate': '1990-01-01',\n",
    "            'std_enddate': '1999-12-31'}\n",
    "common_dict = {'startdate': '1990-01-01',\n",
    "               'enddate': '1999-12-31',\n",
    "               'loglevel': 'info'}"
   ]
  },
  {
   "cell_type": "code",
   "execution_count": 6,
   "id": "cd2bbb1d",
   "metadata": {},
   "outputs": [],
   "source": [
    "sc_dataset = SeasonalCycles(**dataset_dict, **common_dict)"
   ]
  },
  {
   "cell_type": "code",
   "execution_count": 8,
   "id": "ae4ea5f3",
   "metadata": {},
   "outputs": [],
   "source": [
    "run_dict = {'var': '2t',\n",
    "            'units': 'degC'}"
   ]
  },
  {
   "cell_type": "code",
   "execution_count": 9,
   "id": "8e82f40e",
   "metadata": {},
   "outputs": [
    {
     "name": "stderr",
     "output_type": "stream",
     "text": [
      "\u001b[32m2025-03-28 13:46:32 :: TimeSeries :: INFO     -> Running SeasonalCycles for 2t\u001b[0m\n"
     ]
    },
    {
     "name": "stderr",
     "output_type": "stream",
     "text": [
      "\u001b[32m2025-03-28 13:46:32 :: ConfigPath :: INFO     -> ICON_historical-1990_lra-r100-monthly triplet found in in climatedt-phase1!\u001b[0m\n",
      "\u001b[32m2025-03-28 13:46:32 :: Reader :: INFO     -> Convention dictionary: eccodes-2.39.0\u001b[0m\n",
      "\u001b[32m2025-03-28 13:46:32 :: Reader :: INFO     -> Fix names in metadata is icon-destine-v1-lra\u001b[0m\n",
      "\u001b[32m2025-03-28 13:46:32 :: Reader :: INFO     -> Fix names icon-destine-v1-lra found in fixes files\u001b[0m\n",
      "\u001b[32m2025-03-28 13:46:33 :: Reader :: INFO     -> Grid metadata is lon-lat\u001b[0m\n",
      "\u001b[33m2025-03-28 13:46:33 :: Regridder :: WARNING  -> Source grid path not found. Please provide a dataset.\u001b[0m\n",
      "\u001b[33m2025-03-28 13:46:33 :: Reader :: WARNING  -> Issues in the Regridder() init: trying with data\u001b[0m\n",
      "2025-03-28 13:47:31 | smmregrid.GridInspect |     INFO -> Updating the log_level to INFO\n",
      "\u001b[32m2025-03-28 13:47:31 :: Regridder :: INFO     -> Using provided dataset as a grid path for 2d\u001b[0m\n",
      "\u001b[32m2025-03-28 13:47:31 :: Regridder :: INFO     -> Grid name: lon-lat\u001b[0m\n",
      "\u001b[32m2025-03-28 13:47:31 :: Regridder :: INFO     -> Loading existing source area from /pfs/lustrep3/appl/local/climatedt/data/AQUA/areas/cell_area_ICON_historical-1990_lra-r100-monthly.nc.\u001b[0m\n",
      "\u001b[32m2025-03-28 13:47:31 :: Reader :: INFO     -> Retrieving variables: ['2t']\u001b[0m\n",
      "\u001b[32m2025-03-28 13:47:31 :: Reader :: INFO     -> Variables to be fixed: {'2t': {'source': [167, 228004, '2t', 'mean2t', 'avg_2t', 'T2M', 'tas'], 'grib': 167}}\u001b[0m\n",
      "\u001b[32m2025-03-28 13:47:31 :: Reader :: INFO     -> 2t: converting units K --> K\u001b[0m\n",
      "\u001b[32m2025-03-28 13:47:32 :: Reader :: INFO     -> coordinates adjusted to cf by AQUA fixer\u001b[0m\n",
      "\u001b[32m2025-03-28 13:47:32 :: TimeSeries :: INFO     -> Computing the seasonal cycles\u001b[0m\n",
      "\u001b[32m2025-03-28 13:47:32 :: Reader :: INFO     -> Resampling to MS frequency and computing mean...\u001b[0m\n",
      "\u001b[32m2025-03-28 13:47:32 :: Reader :: INFO     -> Checking if incomplete chunks has been produced...\u001b[0m\n",
      "\u001b[32m2025-03-28 13:47:32 :: timmean_chunk_completeness :: INFO     -> 120 chunks from 1990-01-01 00:00:00 to 1999-12-01 00:00:00 at MS frequency to be analysed...\u001b[0m\n",
      "\u001b[32m2025-03-28 13:47:32 :: TimeSeries :: INFO     -> Saving monthly data for 2t.monthly to netcdf in ./\u001b[0m\n",
      "\u001b[32m2025-03-28 13:47:32 :: create_folder :: INFO     -> Folder ./netcdf already exists\u001b[0m\n",
      "\u001b[32m2025-03-28 13:47:37 :: OutputSaver :: INFO     -> NetCDF file successfully saved.\u001b[0m\n"
     ]
    }
   ],
   "source": [
    "sc_dataset.run(**run_dict)"
   ]
  },
  {
   "cell_type": "code",
   "execution_count": 11,
   "id": "2a5828b2",
   "metadata": {},
   "outputs": [
    {
     "name": "stderr",
     "output_type": "stream",
     "text": [
      "\u001b[32m2025-03-28 13:48:15 :: TimeSeries :: INFO     -> Running SeasonalCycles for 2t\u001b[0m\n",
      "\u001b[32m2025-03-28 13:48:15 :: ConfigPath :: INFO     -> ERA5_era5_monthly triplet found in in obs!\u001b[0m\n",
      "\u001b[32m2025-03-28 13:48:15 :: Reader :: INFO     -> Convention dictionary: eccodes-2.39.0\u001b[0m\n",
      "\u001b[32m2025-03-28 13:48:15 :: Reader :: INFO     -> Fix names in metadata is ERA5-destine-v1\u001b[0m\n",
      "\u001b[32m2025-03-28 13:48:15 :: Reader :: INFO     -> Fix names ERA5-destine-v1 found in fixes files\u001b[0m\n",
      "\u001b[32m2025-03-28 13:48:15 :: Reader :: INFO     -> Grid metadata is era5-r025s\u001b[0m\n",
      "\u001b[32m2025-03-28 13:48:15 :: Regridder :: INFO     -> Grid name: era5-r025s\u001b[0m\n",
      "\u001b[32m2025-03-28 13:48:15 :: Regridder :: INFO     -> Loading existing source area from /pfs/lustrep3/appl/local/climatedt/data/AQUA/areas/cell_area_era5-r025s.nc.\u001b[0m\n",
      "\u001b[32m2025-03-28 13:48:16 :: Reader :: INFO     -> Retrieving variables: ['2t']\u001b[0m\n",
      "\u001b[32m2025-03-28 13:48:17 :: Reader :: INFO     -> Variables to be fixed: {'2t': {'source': [167, 228004, '2t', 'mean2t', 'avg_2t', 'T2M', 'tas'], 'grib': 167}}\u001b[0m\n",
      "\u001b[32m2025-03-28 13:48:17 :: Reader :: INFO     -> 2t: converting units K --> K\u001b[0m\n",
      "\u001b[32m2025-03-28 13:48:17 :: Reader :: INFO     -> coordinates adjusted to cf by AQUA fixer\u001b[0m\n",
      "\u001b[32m2025-03-28 13:48:17 :: TimeSeries :: INFO     -> Computing monthly standard deviation\u001b[0m\n",
      "\u001b[32m2025-03-28 13:48:19 :: Reader :: INFO     -> Resampling to MS frequency and computing mean...\u001b[0m\n",
      "\u001b[32m2025-03-28 13:48:19 :: Reader :: INFO     -> Checking if incomplete chunks has been produced...\u001b[0m\n",
      "\u001b[32m2025-03-28 13:48:19 :: timmean_chunk_completeness :: INFO     -> 120 chunks from 1990-01-01 00:00:00 to 1999-12-01 00:00:00 at MS frequency to be analysed...\u001b[0m\n",
      "\u001b[32m2025-03-28 13:48:20 :: TimeSeries :: INFO     -> Computing the seasonal cycles\u001b[0m\n",
      "\u001b[32m2025-03-28 13:48:23 :: Reader :: INFO     -> Resampling to MS frequency and computing mean...\u001b[0m\n",
      "\u001b[32m2025-03-28 13:48:23 :: Reader :: INFO     -> Checking if incomplete chunks has been produced...\u001b[0m\n",
      "\u001b[32m2025-03-28 13:48:23 :: timmean_chunk_completeness :: INFO     -> 120 chunks from 1990-01-01 00:00:00 to 1999-12-01 00:00:00 at MS frequency to be analysed...\u001b[0m\n",
      "\u001b[32m2025-03-28 13:48:23 :: TimeSeries :: INFO     -> Saving monthly data for 2t.monthly to netcdf in ./\u001b[0m\n",
      "\u001b[32m2025-03-28 13:48:23 :: create_folder :: INFO     -> Folder ./netcdf already exists\u001b[0m\n",
      "\u001b[32m2025-03-28 13:49:19 :: OutputSaver :: INFO     -> NetCDF file successfully saved.\u001b[0m\n",
      "\u001b[32m2025-03-28 13:49:19 :: TimeSeries :: INFO     -> Saving monthly data for 2t.monthly.std to netcdf in ./\u001b[0m\n",
      "\u001b[32m2025-03-28 13:49:19 :: create_folder :: INFO     -> Folder ./netcdf already exists\u001b[0m\n",
      "\u001b[32m2025-03-28 13:49:25 :: OutputSaver :: INFO     -> NetCDF file successfully saved.\u001b[0m\n"
     ]
    }
   ],
   "source": [
    "sc_obs = SeasonalCycles(**obs_dict, **common_dict)\n",
    "sc_obs.run(**run_dict, std=True)"
   ]
  },
  {
   "cell_type": "code",
   "execution_count": null,
   "id": "24351733",
   "metadata": {},
   "outputs": [],
   "source": []
  }
 ],
 "metadata": {
  "kernelspec": {
   "display_name": "Python 3",
   "language": "python",
   "name": "python3"
  },
  "language_info": {
   "codemirror_mode": {
    "name": "ipython",
    "version": 3
   },
   "file_extension": ".py",
   "mimetype": "text/x-python",
   "name": "python",
   "nbconvert_exporter": "python",
   "pygments_lexer": "ipython3",
   "version": "3.12.9"
  }
 },
 "nbformat": 4,
 "nbformat_minor": 5
}
