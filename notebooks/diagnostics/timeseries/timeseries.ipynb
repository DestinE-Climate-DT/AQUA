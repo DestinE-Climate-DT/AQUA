{
 "cells": [
  {
   "cell_type": "markdown",
   "id": "8cd38c6d-d624-4d72-83c4-aa9e69d836f1",
   "metadata": {},
   "source": [
    "# Timeseries\n",
    "\n",
    "This notebook shows how to use the timeseries diagnostic. Here we focus on the `Timeseries` for the single model evaluation and the `PlotTimeseries` for the multi model plots."
   ]
  },
  {
   "cell_type": "code",
   "execution_count": 1,
   "id": "bd765e24-8381-474e-bf3b-134fa98c901b",
   "metadata": {
    "metadata": {}
   },
   "outputs": [],
   "source": [
    "from aqua.diagnostics.timeseries import Timeseries"
   ]
  },
  {
   "cell_type": "markdown",
   "id": "2e3efe70-17b1-4976-b1d0-efaea9c95c5b",
   "metadata": {},
   "source": [
    "We set the `Timeseries` for a model and ERA5, with two different class instances."
   ]
  },
  {
   "cell_type": "code",
   "execution_count": 3,
   "id": "e0ac3b02",
   "metadata": {},
   "outputs": [],
   "source": [
    "dataset_dict = {'catalog': 'climatedt-phase1',\n",
    "                'model': 'ICON',\n",
    "                'exp': 'historical-1990',\n",
    "                'source': 'lra-r100-monthly'}\n",
    "obs_dict = {'catalog': 'obs',\n",
    "            'model': 'ERA5',\n",
    "            'exp': 'era5',\n",
    "            'source': 'monthly',\n",
    "            'std_startdate': '1990-01-01',\n",
    "            'std_enddate': '1999-12-31'}\n",
    "common_dict = {'startdate': '1990-01-01',\n",
    "               'enddate': '1999-12-31',\n",
    "               'loglevel': 'info'}"
   ]
  },
  {
   "cell_type": "code",
   "execution_count": 4,
   "id": "157e6452",
   "metadata": {},
   "outputs": [],
   "source": [
    "ts_dataset = Timeseries(**dataset_dict, **common_dict)"
   ]
  },
  {
   "cell_type": "code",
   "execution_count": 6,
   "id": "417259a5",
   "metadata": {},
   "outputs": [],
   "source": [
    "run_dict = {'var': '2t',\n",
    "            'units': 'degC'}"
   ]
  },
  {
   "cell_type": "code",
   "execution_count": 7,
   "id": "f700bf79",
   "metadata": {},
   "outputs": [
    {
     "name": "stderr",
     "output_type": "stream",
     "text": [
      "\u001b[32m2025-03-20 19:25:40 :: TimeSeries :: INFO     -> Running Timeseries for 2t\u001b[0m\n",
      "\u001b[32m2025-03-20 19:25:40 :: ConfigPath :: INFO     -> ICON_historical-1990_lra-r100-monthly triplet found in in climatedt-phase1!\u001b[0m\n",
      "\u001b[32m2025-03-20 19:25:41 :: Reader :: INFO     -> Convention dictionary: eccodes-2.39.0\u001b[0m\n",
      "\u001b[32m2025-03-20 19:25:41 :: Reader :: INFO     -> Fix names in metadata is icon-destine-v1-lra\u001b[0m\n",
      "\u001b[32m2025-03-20 19:25:41 :: Reader :: INFO     -> Fix names icon-destine-v1-lra found in fixes files\u001b[0m\n",
      "\u001b[32m2025-03-20 19:25:41 :: Reader :: INFO     -> Grid metadata is lon-lat\u001b[0m\n",
      "\u001b[33m2025-03-20 19:25:41 :: Regridder :: WARNING  -> Source grid path not found. Please provide a dataset.\u001b[0m\n",
      "\u001b[33m2025-03-20 19:25:41 :: Reader :: WARNING  -> Issues in the Regridder() init: trying with data\u001b[0m\n",
      "2025-03-20 19:26:40 | smmregrid.GridInspect |     INFO -> Updating the log_level to INFO\n",
      "\u001b[32m2025-03-20 19:26:40 :: Regridder :: INFO     -> Using provided dataset as a grid path for 2d\u001b[0m\n",
      "\u001b[32m2025-03-20 19:26:40 :: Regridder :: INFO     -> Grid name: lon-lat\u001b[0m\n",
      "\u001b[32m2025-03-20 19:26:40 :: Regridder :: INFO     -> Loading existing source area from /pfs/lustrep3/appl/local/climatedt/data/AQUA/areas/cell_area_ICON_historical-1990_lra-r100-monthly.nc.\u001b[0m\n",
      "\u001b[32m2025-03-20 19:26:40 :: Reader :: INFO     -> Retrieving variables: ['2t']\u001b[0m\n",
      "\u001b[32m2025-03-20 19:26:40 :: Reader :: INFO     -> Variables to be fixed: {'2t': {'source': [167, 228004, '2t', 'mean2t', 'avg_2t', 'T2M', 'tas'], 'grib': 167}}\u001b[0m\n",
      "\u001b[32m2025-03-20 19:26:40 :: Reader :: INFO     -> 2t: converting units K --> K\u001b[0m\n",
      "\u001b[32m2025-03-20 19:26:40 :: Reader :: INFO     -> coordinates adjusted to cf by AQUA fixer\u001b[0m\n",
      "\u001b[32m2025-03-20 19:26:40 :: TimeSeries :: INFO     -> Computing monthly mean\u001b[0m\n",
      "\u001b[32m2025-03-20 19:26:40 :: TimeSeries :: INFO     -> Computing monthly mean\u001b[0m\n",
      "\u001b[32m2025-03-20 19:26:40 :: Reader :: INFO     -> Resampling to MS frequency and computing mean...\u001b[0m\n",
      "\u001b[32m2025-03-20 19:26:40 :: Reader :: INFO     -> Checking if incomplete chunks has been produced...\u001b[0m\n",
      "\u001b[32m2025-03-20 19:26:40 :: timmean_chunk_completeness :: INFO     -> 120 chunks from 1990-01-01 00:00:00 to 1999-12-01 00:00:00 at MS frequency to be analysed...\u001b[0m\n",
      "\u001b[32m2025-03-20 19:26:41 :: TimeSeries :: INFO     -> Saving monthly data for 2t.monthly to netcdf in ./\u001b[0m\n",
      "\u001b[32m2025-03-20 19:26:41 :: create_folder :: INFO     -> Creating folder ./netcdf\u001b[0m\n",
      "\u001b[32m2025-03-20 19:26:41 :: OutputSaver :: INFO     -> NetCDF file successfully saved.\u001b[0m\n",
      "\u001b[32m2025-03-20 19:26:41 :: TimeSeries :: INFO     -> Computing annual mean\u001b[0m\n",
      "\u001b[32m2025-03-20 19:26:41 :: TimeSeries :: INFO     -> Computing annual mean\u001b[0m\n",
      "\u001b[32m2025-03-20 19:26:41 :: Reader :: INFO     -> Resampling to YS frequency and computing mean...\u001b[0m\n",
      "\u001b[32m2025-03-20 19:26:41 :: Reader :: INFO     -> Checking if incomplete chunks has been produced...\u001b[0m\n",
      "\u001b[32m2025-03-20 19:26:41 :: timmean_chunk_completeness :: INFO     -> 10 chunks from 1990-01-01 00:00:00 to 1999-01-01 00:00:00 at YS frequency to be analysed...\u001b[0m\n",
      "\u001b[32m2025-03-20 19:26:41 :: TimeSeries :: INFO     -> Saving annual data for 2t.annual to netcdf in ./\u001b[0m\n",
      "\u001b[32m2025-03-20 19:26:41 :: create_folder :: INFO     -> Folder ./netcdf already exists\u001b[0m\n",
      "\u001b[32m2025-03-20 19:26:42 :: OutputSaver :: INFO     -> NetCDF file successfully saved.\u001b[0m\n"
     ]
    }
   ],
   "source": [
    "ts_dataset.run(**run_dict)"
   ]
  },
  {
   "cell_type": "code",
   "execution_count": 8,
   "id": "687db261",
   "metadata": {},
   "outputs": [
    {
     "name": "stderr",
     "output_type": "stream",
     "text": [
      "\u001b[32m2025-03-20 19:26:47 :: TimeSeries :: INFO     -> Running Timeseries for 2t\u001b[0m\n",
      "\u001b[32m2025-03-20 19:26:47 :: ConfigPath :: INFO     -> ERA5_era5_monthly triplet found in in obs!\u001b[0m\n",
      "\u001b[32m2025-03-20 19:26:47 :: Reader :: INFO     -> Convention dictionary: eccodes-2.39.0\u001b[0m\n",
      "\u001b[32m2025-03-20 19:26:47 :: Reader :: INFO     -> Fix names in metadata is ERA5-destine-v1\u001b[0m\n",
      "\u001b[32m2025-03-20 19:26:47 :: Reader :: INFO     -> Fix names ERA5-destine-v1 found in fixes files\u001b[0m\n",
      "\u001b[32m2025-03-20 19:26:48 :: Reader :: INFO     -> Grid metadata is era5-r025s\u001b[0m\n",
      "\u001b[32m2025-03-20 19:26:48 :: Regridder :: INFO     -> Grid name: era5-r025s\u001b[0m\n",
      "\u001b[32m2025-03-20 19:26:48 :: Regridder :: INFO     -> Loading existing source area from /pfs/lustrep3/appl/local/climatedt/data/AQUA/areas/cell_area_era5-r025s.nc.\u001b[0m\n",
      "\u001b[32m2025-03-20 19:26:48 :: Reader :: INFO     -> Retrieving variables: ['2t']\u001b[0m\n",
      "\u001b[32m2025-03-20 19:26:50 :: Reader :: INFO     -> Variables to be fixed: {'2t': {'source': [167, 228004, '2t', 'mean2t', 'avg_2t', 'T2M', 'tas'], 'grib': 167}}\u001b[0m\n",
      "\u001b[32m2025-03-20 19:26:50 :: Reader :: INFO     -> 2t: converting units K --> K\u001b[0m\n",
      "\u001b[32m2025-03-20 19:26:50 :: Reader :: INFO     -> coordinates adjusted to cf by AQUA fixer\u001b[0m\n",
      "\u001b[32m2025-03-20 19:26:50 :: TimeSeries :: INFO     -> Computing monthly mean\u001b[0m\n",
      "\u001b[32m2025-03-20 19:26:50 :: TimeSeries :: INFO     -> Computing monthly mean\u001b[0m\n",
      "\u001b[32m2025-03-20 19:26:50 :: Reader :: INFO     -> Resampling to MS frequency and computing mean...\u001b[0m\n",
      "\u001b[32m2025-03-20 19:26:50 :: Reader :: INFO     -> Checking if incomplete chunks has been produced...\u001b[0m\n",
      "\u001b[32m2025-03-20 19:26:50 :: timmean_chunk_completeness :: INFO     -> 120 chunks from 1990-01-01 00:00:00 to 1999-12-01 00:00:00 at MS frequency to be analysed...\u001b[0m\n",
      "\u001b[32m2025-03-20 19:26:51 :: TimeSeries :: INFO     -> Computing monthly standard deviation\u001b[0m\n",
      "\u001b[32m2025-03-20 19:26:51 :: TimeSeries :: INFO     -> Saving monthly data for 2t.monthly to netcdf in ./\u001b[0m\n",
      "\u001b[32m2025-03-20 19:26:51 :: create_folder :: INFO     -> Folder ./netcdf already exists\u001b[0m\n",
      "\u001b[32m2025-03-20 19:26:56 :: OutputSaver :: INFO     -> NetCDF file successfully saved.\u001b[0m\n",
      "\u001b[32m2025-03-20 19:26:56 :: TimeSeries :: INFO     -> Saving monthly data for 2t.monthly.std to netcdf in ./\u001b[0m\n",
      "\u001b[32m2025-03-20 19:26:56 :: create_folder :: INFO     -> Folder ./netcdf already exists\u001b[0m\n",
      "\u001b[32m2025-03-20 19:27:00 :: OutputSaver :: INFO     -> NetCDF file successfully saved.\u001b[0m\n",
      "\u001b[32m2025-03-20 19:27:00 :: TimeSeries :: INFO     -> Computing annual mean\u001b[0m\n",
      "\u001b[32m2025-03-20 19:27:00 :: TimeSeries :: INFO     -> Computing annual mean\u001b[0m\n",
      "\u001b[32m2025-03-20 19:27:00 :: Reader :: INFO     -> Resampling to YS frequency and computing mean...\u001b[0m\n",
      "\u001b[32m2025-03-20 19:27:00 :: Reader :: INFO     -> Checking if incomplete chunks has been produced...\u001b[0m\n",
      "\u001b[32m2025-03-20 19:27:00 :: timmean_chunk_completeness :: INFO     -> 10 chunks from 1990-01-01 00:00:00 to 1999-01-01 00:00:00 at YS frequency to be analysed...\u001b[0m\n",
      "\u001b[32m2025-03-20 19:27:00 :: TimeSeries :: INFO     -> Computing annual standard deviation\u001b[0m\n",
      "\u001b[32m2025-03-20 19:27:00 :: TimeSeries :: INFO     -> Saving annual data for 2t.annual to netcdf in ./\u001b[0m\n",
      "\u001b[32m2025-03-20 19:27:00 :: create_folder :: INFO     -> Folder ./netcdf already exists\u001b[0m\n",
      "\u001b[32m2025-03-20 19:27:05 :: OutputSaver :: INFO     -> NetCDF file successfully saved.\u001b[0m\n",
      "\u001b[32m2025-03-20 19:27:05 :: TimeSeries :: INFO     -> Saving annual data for 2t.annual.std to netcdf in ./\u001b[0m\n",
      "\u001b[32m2025-03-20 19:27:05 :: create_folder :: INFO     -> Folder ./netcdf already exists\u001b[0m\n",
      "\u001b[32m2025-03-20 19:27:09 :: OutputSaver :: INFO     -> NetCDF file successfully saved.\u001b[0m\n"
     ]
    }
   ],
   "source": [
    "ts_obs = Timeseries(**obs_dict, **common_dict)\n",
    "ts_obs.run(**run_dict, std=True)"
   ]
  }
 ],
 "metadata": {
  "kernelspec": {
   "display_name": "Python 3",
   "language": "python",
   "name": "python3"
  },
  "language_info": {
   "codemirror_mode": {
    "name": "ipython",
    "version": 3
   },
   "file_extension": ".py",
   "mimetype": "text/x-python",
   "name": "python",
   "nbconvert_exporter": "python",
   "pygments_lexer": "ipython3",
   "version": "3.12.9"
  }
 },
 "nbformat": 4,
 "nbformat_minor": 5
}
