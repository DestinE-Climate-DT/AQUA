{
 "cells": [
  {
   "attachments": {},
   "cell_type": "markdown",
   "metadata": {},
   "source": [
    "# Gribber class"
   ]
  },
  {
   "cell_type": "code",
   "execution_count": 1,
   "metadata": {},
   "outputs": [],
   "source": [
    "from aqua.gribber import Gribber"
   ]
  },
  {
   "attachments": {},
   "cell_type": "markdown",
   "metadata": {},
   "source": [
    "The `Gribber` class is used to integrate the `gribscan` tool within AQUA. It can be used to convert GRIB files in catalog entries so that experiments can be easily added to catalog.\n",
    "\n",
    "\n",
    "It checks the availability of grib files in a specified directory `datadir` for a specific experiment and creates `.index` files and a `.json` file.\n",
    "It also automatically updates the catalog `yaml` file.\n",
    "\n",
    "It takes as input, which as to be specified in a configuration yaml file (please check `AQUA/cli/gribber/gribber_setup.tmpl`):\n",
    "- `model`: model name\n",
    "- `exp`: experiment name\n",
    "- `source`: source name\n",
    "- `dir`: dictionary with directories for disk operations:\n",
    "    - `datadir`: data directory \n",
    "    - `tmpdir`: temporary directory \n",
    "    - `jsondir`: JSON directory \n",
    "    - `configdir`: configuration directory\n",
    "- `verbose`: print help message (default: `False`)\n",
    "- `nprocs`: number of processors (default: `1`)\n",
    "- `replace`: replace existing files (default: `False`)\n",
    "\n",
    "We start defining the default directories to work on Levante and then apply the class with a default IFS experiment.  Please change the outdir if you want to try this notebook!\n",
    "\n",
    "Note that in this example the `datadir` is hard-coded to point to a small subset of GRIB files.\n",
    "Note also that we're assuming that you downloaded AQUA in your `home` directory. For simplicity, this notebook use the `USER` environment variable. If not, please change the `configdir` variable to point to `AQUA/config`."
   ]
  },
  {
   "cell_type": "code",
   "execution_count": 4,
   "metadata": {},
   "outputs": [],
   "source": [
    "import os\n",
    "USER = os.getenv('USER')\n",
    "outdir = USER\n",
    "default_dir = {'datadir': '/work/bb1153/b382289/grib-example/tco1279-orca025',\n",
    "               'tmpdir': '/scratch/b/' + outdir + '/gribscan',\n",
    "               'jsondir': '/work/bb1153/' + outdir + '/gribscan-json',\n",
    "               'configdir': '/home/b/' + outdir + '/AQUA/config'}\n"
   ]
  },
  {
   "attachments": {},
   "cell_type": "markdown",
   "metadata": {},
   "source": [
    "Initializing the `class` does not immediately scan the data directory, but only creates the `Gribber` object.\n",
    "The method `create_entry` scans the data directory and creates the `.index` files and the `.json` file, then update the catalog `yaml` file."
   ]
  },
  {
   "cell_type": "code",
   "execution_count": 5,
   "metadata": {},
   "outputs": [
    {
     "name": "stderr",
     "output_type": "stream",
     "text": [
      "2023-05-26 11:18:53 :: gribber :: INFO     -> Data directory: /work/bb1153/b382289/grib-example/tco1279-orca025\n",
      "2023-05-26 11:18:53 :: gribber :: INFO     -> JSON directory: /work/bb1153/b382076/gribscan-json/tco1279-orca025\n",
      "2023-05-26 11:18:53 :: gribber :: INFO     -> Catalog directory: /home/b/b382076/AQUA/config\n",
      "2023-05-26 11:18:53 :: gribber :: INFO     -> Gribfile wildcard: ICMGG????+*\n",
      "2023-05-26 11:18:53 :: gribber :: WARNING  -> Catalog file: /home/b/b382076/AQUA/config/machines/levante/catalog/IFS/tco1279-orca025.yaml\n",
      "2023-05-26 11:18:53 :: gribber :: WARNING  -> JSON file: /work/bb1153/b382076/gribscan-json/tco1279-orca025/atm2d.json\n",
      "2023-05-26 11:18:53 :: gribber :: INFO     -> Checking if indices already exist...\n",
      "2023-05-26 11:18:53 :: gribber :: INFO     -> Checking if JSON file already exists...\n",
      "2023-05-26 11:18:53 :: gribber :: INFO     -> Checking if catalog file already exists...\n",
      "2023-05-26 11:18:53 :: gribber :: WARNING  -> Catalog file /home/b/b382076/AQUA/config/machines/levante/catalog/IFS/tco1279-orca025.yaml already exists.\n"
     ]
    }
   ],
   "source": [
    "mygrib = Gribber(model='IFS',exp='tco1279-orca025',source='ICMGG_atm2d', dirdict = default_dir, loglevel = 'INFO')"
   ]
  },
  {
   "attachments": {},
   "cell_type": "markdown",
   "metadata": {},
   "source": [
    "Then we can create the catalog entries, scanning with `gribscan` the entire GRIB archive by calling the `create_entry()` method"
   ]
  },
  {
   "cell_type": "code",
   "execution_count": 6,
   "metadata": {},
   "outputs": [
    {
     "name": "stderr",
     "output_type": "stream",
     "text": [
      "2023-05-26 11:18:58 :: create_folder :: WARNING  -> Creating folder /scratch/b/b382076/gribscan/tco1279-orca025\n",
      "2023-05-26 11:18:58 :: create_folder :: WARNING  -> Creating folder /work/bb1153/b382076/gribscan-json/tco1279-orca025\n",
      "2023-05-26 11:18:58 :: gribber :: INFO     -> Creating symlinks...\n",
      "2023-05-26 11:18:58 :: gribber :: INFO     -> Searching in /work/bb1153/b382289/grib-example/tco1279-orca025...\n",
      "2023-05-26 11:18:58 :: gribber :: INFO     -> /work/bb1153/b382289/grib-example/tco1279-orca025/ICMGG????+*\n",
      "2023-05-26 11:18:58 :: gribber :: INFO     -> Creating GRIB indices...\n",
      "2023-05-26 11:19:15 :: gribber :: INFO     -> CompletedProcess(args=['gribscan-index', '-n', '1', '/scratch/b/b382076/gribscan/tco1279-orca025/ICMGGhvi1+000060', '/scratch/b/b382076/gribscan/tco1279-orca025/ICMGGhvi1+000078', '/scratch/b/b382076/gribscan/tco1279-orca025/ICMGGhvi1+000090', '/scratch/b/b382076/gribscan/tco1279-orca025/ICMGGhvi1+000012', '/scratch/b/b382076/gribscan/tco1279-orca025/ICMGGhvi1+000036', '/scratch/b/b382076/gribscan/tco1279-orca025/ICMGGhvi1+000006', '/scratch/b/b382076/gribscan/tco1279-orca025/ICMGGhvi1+000072', '/scratch/b/b382076/gribscan/tco1279-orca025/ICMGGhvi1+000096', '/scratch/b/b382076/gribscan/tco1279-orca025/ICMGGhvi1+000018', '/scratch/b/b382076/gribscan/tco1279-orca025/ICMGGhvi1+000066', '/scratch/b/b382076/gribscan/tco1279-orca025/ICMGGhvi1+000024', '/scratch/b/b382076/gribscan/tco1279-orca025/ICMGGhvi1+000084', '/scratch/b/b382076/gribscan/tco1279-orca025/ICMGGhvi1+000000', '/scratch/b/b382076/gribscan/tco1279-orca025/ICMGGhvi1+000048', '/scratch/b/b382076/gribscan/tco1279-orca025/ICMGGhvi1+000054', '/scratch/b/b382076/gribscan/tco1279-orca025/ICMGGhvi1+000042', '/scratch/b/b382076/gribscan/tco1279-orca025/ICMGGhvi1+000030'], returncode=0)\n",
      "2023-05-26 11:19:15 :: gribber :: INFO     -> Creating JSON file...\n",
      "2023-05-26 11:19:18 :: gribber :: INFO     -> Block to be added to catalog file:\n",
      "2023-05-26 11:19:18 :: gribber :: INFO     -> {'driver': 'zarr', 'args': {'consolidated': False, 'urlpath': 'reference::/work/bb1153/b382076/gribscan-json/tco1279-orca025/atm2d.json'}}\n",
      "2023-05-26 11:19:18 :: gribber :: WARNING  -> Source ICMGG_atm2d already exists in /home/b/b382076/AQUA/config/machines/levante/catalog/IFS/tco1279-orca025.yaml. Skipping...\n",
      "2023-05-26 11:19:18 :: gribber :: INFO     -> Block to be added to main catalog file:\n",
      "2023-05-26 11:19:18 :: gribber :: INFO     -> {'tco1279-orca025': {'description': 'tco1279-orca025 data', 'driver': 'yaml_file_cat', 'args': {'path': '{{CATALOG_DIR}}/tco1279-orca025.yaml'}}}\n",
      "2023-05-26 11:19:18 :: gribber :: WARNING  -> Source tco1279-orca025 already exists                    in /home/b/b382076/AQUA/config/machines/levante/catalog/IFS/main.yaml. Skipping...\n"
     ]
    }
   ],
   "source": [
    "mygrib.create_entry()"
   ]
  },
  {
   "attachments": {},
   "cell_type": "markdown",
   "metadata": {},
   "source": [
    "Since for the example we used a subset of the original grib files, we need to specify the `replace` option to `False`, in order to not overwrite the already existing entry in the catalogue.\n",
    "However, since the folder in which `.index` and `.json` files are stored is different from the one in which the original grib files are stored, the first time that the `Gribber` class is called, they have been created."
   ]
  },
  {
   "attachments": {},
   "cell_type": "markdown",
   "metadata": {},
   "source": [
    "In addition, the `Gribber` class can be used via a command line tool in `cli/gribber/cli_gribber.py`. This in an executable python script, which can be configured via a configuration yaml file (`--config configfile.yaml`), which must include the dictionary for the directories as well as the experiment details. A template for this configuration file can be found in `AQUA/cli/gribber/gribber_setup.tmpl`."
   ]
  }
 ],
 "metadata": {
  "kernelspec": {
   "display_name": "aqua",
   "language": "python",
   "name": "python3"
  },
  "language_info": {
   "codemirror_mode": {
    "name": "ipython",
    "version": 3
   },
   "file_extension": ".py",
   "mimetype": "text/x-python",
   "name": "python",
   "nbconvert_exporter": "python",
   "pygments_lexer": "ipython3",
   "version": "3.10.11"
  },
  "orig_nbformat": 4
 },
 "nbformat": 4,
 "nbformat_minor": 2
}
