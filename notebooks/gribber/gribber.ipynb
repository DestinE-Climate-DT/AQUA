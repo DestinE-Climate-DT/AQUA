{
 "cells": [
  {
   "cell_type": "markdown",
   "metadata": {},
   "source": [
    "# Gribber class"
   ]
  },
  {
   "cell_type": "code",
   "execution_count": 1,
   "metadata": {},
   "outputs": [],
   "source": [
    "from aqua.gribber import Gribber"
   ]
  },
  {
   "attachments": {},
   "cell_type": "markdown",
   "metadata": {},
   "source": [
    "The `Gribber` class from the `aqua` framework checks the availability of grib files in a specified directory `datadir` for a specific experiment and creates `.index` files and a `.json` file.\n",
    "It also automatically updates the catalog `yaml` file.\n",
    "\n",
    "It takes as input, which as to specified in a configuration yaml file (please check the `gribber_setup_example.tmpl`):\n",
    "- `model`: model name\n",
    "- `exp`: experiment name\n",
    "- `source`: source name\n",
    "- `dir`: dictionary with directories for disk operations:\n",
    "    - `datadir`: data directory \n",
    "    - `tmpdir`: temporary directory \n",
    "    - `jsondir`: JSON directory \n",
    "    - `catalogdir`: catalog directory\n",
    "- `verbose`: print help message (default: `False`)\n",
    "- `nprocs`: number of processors (default: `1`)\n",
    "- `replace`: replace existing files (default: `False`)\n",
    "\n",
    "We start defining the default directories to work on Levante and then apply the class with a default IFS experiment"
   ]
  },
  {
   "cell_type": "code",
   "execution_count": 2,
   "metadata": {},
   "outputs": [],
   "source": [
    "default_dir = {'datadir': '/scratch/b/b382289/tco1279-orca025/nemo_deep/ICMGGc2',\n",
    "               'tmpdir': '/scratch/b/b382289/gribscan',\n",
    "               'jsondir': '/work/bb1153/b382289/gribscan-json',\n",
    "               'catalogdir': '/work/bb1153/b382289/AQUA/config/levante/catalog'}"
   ]
  },
  {
   "attachments": {},
   "cell_type": "markdown",
   "metadata": {},
   "source": [
    "Initializing the `class` does not immediately scan the data directory, but only creates the `Gribber` object.\n",
    "The method `create_entry` scans the data directory and creates the `.index` files and the `.json` file, then update the catalog `yaml` file."
   ]
  },
  {
   "cell_type": "code",
   "execution_count": 3,
   "metadata": {},
   "outputs": [
    {
     "name": "stdout",
     "output_type": "stream",
     "text": [
      "Data directory: /scratch/b/b382289/tco1279-orca025/nemo_deep/ICMGGc2\n",
      "JSON directory: /work/bb1153/b382289/gribscan-json/tco1279-orca025\n",
      "Catalog directory: /work/bb1153/b382289/AQUA/config/levante/catalog\n",
      "Gribfile wildcard: ICMGG????+*\n",
      "Catalog file: /work/bb1153/b382289/AQUA/config/levante/catalog/IFS/tco1279-orca025.yaml\n",
      "JSON file: /work/bb1153/b382289/gribscan-json/tco1279-orca025/atm2d.json\n",
      "Checking if indices already exist...\n",
      "Indices already exist.\n",
      "Checking if JSON file already exists...\n",
      "JSON file already exists.\n",
      "Checking if catalog file already exists...\n",
      "Catalog file /work/bb1153/b382289/AQUA/config/levante/catalog/IFS/tco1279-orca025.yaml already exists.\n"
     ]
    }
   ],
   "source": [
    "mygrib = Gribber(model='IFS',exp='tco1279-orca025',source='ICMGG_atm2d', dir = default_dir, verbose=True)"
   ]
  },
  {
   "attachments": {},
   "cell_type": "markdown",
   "metadata": {},
   "source": [
    "Then we can create the catalog entries, scanning with `gribscan` the entire GRIB archive by calling the `create_entry()` method"
   ]
  },
  {
   "cell_type": "code",
   "execution_count": 4,
   "metadata": {},
   "outputs": [
    {
     "name": "stdout",
     "output_type": "stream",
     "text": [
      "Folder /scratch/b/b382289/gribscan/tco1279-orca025 already exists\n",
      "Folder /work/bb1153/b382289/gribscan-json/tco1279-orca025 already exists\n",
      "Creating symlinks...\n",
      "Searching in...\n",
      "/scratch/b/b382289/tco1279-orca025/nemo_deep/ICMGGc2/ICMGG????+*\n",
      "File /scratch/b/b382289/tco1279-orca025/nemo_deep/ICMGGc2/ICMGGhr2n+000064 already exists in /scratch/b/b382289/gribscan/tco1279-orca025\n",
      "File /scratch/b/b382289/tco1279-orca025/nemo_deep/ICMGGc2/ICMGGhr2n+000040 already exists in /scratch/b/b382289/gribscan/tco1279-orca025\n",
      "File /scratch/b/b382289/tco1279-orca025/nemo_deep/ICMGGc2/ICMGGhr2n+000096 already exists in /scratch/b/b382289/gribscan/tco1279-orca025\n",
      "File /scratch/b/b382289/tco1279-orca025/nemo_deep/ICMGGc2/ICMGGhr2n+000024 already exists in /scratch/b/b382289/gribscan/tco1279-orca025\n",
      "File /scratch/b/b382289/tco1279-orca025/nemo_deep/ICMGGc2/ICMGGhr2n+000048 already exists in /scratch/b/b382289/gribscan/tco1279-orca025\n",
      "File /scratch/b/b382289/tco1279-orca025/nemo_deep/ICMGGc2/ICMGGhr2n+000056 already exists in /scratch/b/b382289/gribscan/tco1279-orca025\n",
      "File /scratch/b/b382289/tco1279-orca025/nemo_deep/ICMGGc2/ICMGGhr2n+000032 already exists in /scratch/b/b382289/gribscan/tco1279-orca025\n",
      "File /scratch/b/b382289/tco1279-orca025/nemo_deep/ICMGGc2/ICMGGhr2n+000088 already exists in /scratch/b/b382289/gribscan/tco1279-orca025\n",
      "File /scratch/b/b382289/tco1279-orca025/nemo_deep/ICMGGc2/ICMGGhr2n+000016 already exists in /scratch/b/b382289/gribscan/tco1279-orca025\n",
      "File /scratch/b/b382289/tco1279-orca025/nemo_deep/ICMGGc2/ICMGGhr2n+000008 already exists in /scratch/b/b382289/gribscan/tco1279-orca025\n",
      "File /scratch/b/b382289/tco1279-orca025/nemo_deep/ICMGGc2/ICMGGhr2n+000080 already exists in /scratch/b/b382289/gribscan/tco1279-orca025\n",
      "File /scratch/b/b382289/tco1279-orca025/nemo_deep/ICMGGc2/ICMGGhr2n+000000 already exists in /scratch/b/b382289/gribscan/tco1279-orca025\n",
      "File /scratch/b/b382289/tco1279-orca025/nemo_deep/ICMGGc2/ICMGGhr2n+000072 already exists in /scratch/b/b382289/gribscan/tco1279-orca025\n",
      "Block to be added to catalog file:\n",
      "{'driver': 'zarr', 'args': {'consolidated': False, 'urlpath': 'reference::/work/bb1153/b382289/gribscan-json/tco1279-orca025/atm2d.json'}}\n",
      "Source ICMGG_atm2d already exists in /work/bb1153/b382289/AQUA/config/levante/catalog/IFS/tco1279-orca025.yaml. Skipping...\n"
     ]
    }
   ],
   "source": [
    "mygrib.create_entry()"
   ]
  },
  {
   "attachments": {},
   "cell_type": "markdown",
   "metadata": {},
   "source": [
    "Since for the example we used a subset of the original grib files, we need to specify the `replace` option to `False`, in order to not overwrite the already existing entry in the catalogue.\n",
    "However, since the folder in which `.index` and `.json` files are stored is different from the one in which the original grib files are stored, the first time that the `Gribber` class is called, they have been created."
   ]
  },
  {
   "attachments": {},
   "cell_type": "markdown",
   "metadata": {},
   "source": [
    "In addition, the `Gribber` class can be used via a command line tool in `cli/gribber/cli_gribber.py`. This in an executable python script, which can be configured via a configuration yaml file (`--config configfile.yaml`), which must include the dictionary for the directories as well as the experiment details. A template for this configuration file can be found in `gribber_setup_example.tmpl`."
   ]
  }
 ],
 "metadata": {
  "kernelspec": {
   "display_name": "aqua",
   "language": "python",
   "name": "python3"
  },
  "language_info": {
   "codemirror_mode": {
    "name": "ipython",
    "version": 3
   },
   "file_extension": ".py",
   "mimetype": "text/x-python",
   "name": "python",
   "nbconvert_exporter": "python",
   "pygments_lexer": "ipython3",
   "version": "3.10.9"
  },
  "orig_nbformat": 4
 },
 "nbformat": 4,
 "nbformat_minor": 2
}
