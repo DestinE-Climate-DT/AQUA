{
 "cells": [
  {
   "attachments": {},
   "cell_type": "markdown",
   "metadata": {},
   "source": [
    "# Gribber class"
   ]
  },
  {
   "cell_type": "code",
   "execution_count": 8,
   "metadata": {},
   "outputs": [],
   "source": [
    "from aqua.gribber import Gribber\n",
    "from aqua.util import get_machine, username, get_aqua_path"
   ]
  },
  {
   "attachments": {},
   "cell_type": "markdown",
   "metadata": {},
   "source": [
    "The `Gribber` class is used to integrate the `gribscan` tool within AQUA. It can be used to convert GRIB files in catalog entries so that experiments can be easily added to catalog.\n",
    "\n",
    "\n",
    "It checks the availability of grib files in a specified directory `datadir` for a specific experiment and creates `.index` files and a `.json` file.\n",
    "It also automatically updates the catalog `yaml` file.\n",
    "\n",
    "It takes as input, which as to be specified in a configuration yaml file (please check `AQUA/cli/gribber/gribber_setup.tmpl`):\n",
    "- `model`: model name\n",
    "- `exp`: experiment name\n",
    "- `source`: source name\n",
    "- `dir`: dictionary with directories for disk operations:\n",
    "    - `datadir`: data directory \n",
    "    - `tmpdir`: temporary directory \n",
    "    - `jsondir`: JSON directory \n",
    "    - `configdir`: configuration directory\n",
    "- `verbose`: print help message (default: `False`)\n",
    "- `nprocs`: number of processors (default: `1`)\n",
    "- `replace`: replace existing files (default: `False`)\n",
    "\n",
    "We start defining the default directories to work on Levante and then apply the class with a default IFS experiment.  Please change the outdir if you want to try this notebook!\n",
    "\n",
    "Note that in this example the `datadir` is hard-coded to point to a small subset of GRIB files.\n",
    "Note also that we're assuming that you downloaded AQUA in your `home` directory. For simplicity, this notebook use the `USER` environment variable. If not, please change the `configdir` variable to point to `AQUA/config`."
   ]
  },
  {
   "cell_type": "code",
   "execution_count": 12,
   "metadata": {},
   "outputs": [],
   "source": [
    "user=username()\n",
    "aqua_path = get_aqua_path()\n",
    "\n",
    "if get_machine()=='levante':\n",
    "    default_dir = {'datadir': f'/work/bb1153/{user}/grib-example/tco1279-orca025',\n",
    "                'tmpdir': f'/scratch/b/{user}/gribscan',\n",
    "                'jsondir': f'/work/bb1153/{user}/gribscan-json',\n",
    "                'configdir': f'{aqua_path}/config'}\n",
    "elif get_machine()=='lumi':\n",
    "    default_dir = {'datadir': f'/users/{user}/work/grib-example/tco1279-orca025',\n",
    "                'tmpdir': f'/users/{user}/scratch/gribscan',\n",
    "                'jsondir': f'/users/{user}/work/gribscan-json',\n",
    "                'configdir': f'{aqua_path}/config'}\n"
   ]
  },
  {
   "attachments": {},
   "cell_type": "markdown",
   "metadata": {},
   "source": [
    "Initializing the `class` does not immediately scan the data directory, but only creates the `Gribber` object.\n",
    "The method `create_entry` scans the data directory and creates the `.index` files and the `.json` file, then update the catalog `yaml` file."
   ]
  },
  {
   "cell_type": "code",
   "execution_count": 24,
   "metadata": {},
   "outputs": [
    {
     "name": "stderr",
     "output_type": "stream",
     "text": [
      "\u001b[38;2;255;165;0m2024-02-09 18:07:43 :: gribber :: WARNING  -> Other models than IFS are experimental.\u001b[0m\n",
      "\u001b[38;2;64;184;50m2024-02-09 18:07:43 :: gribber :: INFO     -> JSON directory: /users/nazarova/work/gribscan-json/OSI-SAF/osi-450\u001b[0m\n",
      "\u001b[38;2;64;184;50m2024-02-09 18:07:43 :: gribber :: INFO     -> Data directory: /users/nazarova/work/grib-example/tco1279-orca025\u001b[0m\n",
      "\u001b[38;2;64;184;50m2024-02-09 18:07:43 :: gribber :: INFO     -> JSON directory: /users/nazarova/work/gribscan-json/OSI-SAF/osi-450\u001b[0m\n",
      "\u001b[38;2;64;184;50m2024-02-09 18:07:43 :: gribber :: INFO     -> Catalog directory: /users/nazarova/work/AQUA//config\u001b[0m\n",
      "\u001b[38;2;64;184;50m2024-02-09 18:07:43 :: gribber :: INFO     -> json file will be named as daily.\u001b[0m\n",
      "\u001b[38;2;64;184;50m2024-02-09 18:07:43 :: gribber :: INFO     -> Gribfile wildcard: sh????+*\u001b[0m\n",
      "\u001b[38;2;255;165;0m2024-02-09 18:07:43 :: gribber :: WARNING  -> Catalog file: /users/nazarova/work/AQUA//config/machines/lumi/catalog/OSI-SAF/osi-450.yaml\u001b[0m\n",
      "\u001b[38;2;255;165;0m2024-02-09 18:07:43 :: gribber :: WARNING  -> JSON file: /users/nazarova/work/gribscan-json/OSI-SAF/osi-450/daily.json\u001b[0m\n",
      "\u001b[38;2;64;184;50m2024-02-09 18:07:43 :: gribber :: INFO     -> Checking if indices already exist...\u001b[0m\n",
      "\u001b[38;2;64;184;50m2024-02-09 18:07:43 :: gribber :: INFO     -> Checking if JSON file /users/nazarova/work/gribscan-json/OSI-SAF/osi-450/daily.json already exists...\u001b[0m\n",
      "\u001b[38;2;64;184;50m2024-02-09 18:07:43 :: gribber :: INFO     -> Checking if catalog file already exists...\u001b[0m\n",
      "\u001b[38;2;255;165;0m2024-02-09 18:07:43 :: gribber :: WARNING  -> Catalog file /users/nazarova/work/AQUA//config/machines/lumi/catalog/OSI-SAF/osi-450.yaml already exists.\u001b[0m\n"
     ]
    }
   ],
   "source": [
    "mygrib = Gribber(model='OSI-SAF',exp='osi-450',source='sh-daily', dirdict = default_dir, loglevel = 'INFO')"
   ]
  },
  {
   "attachments": {},
   "cell_type": "markdown",
   "metadata": {},
   "source": [
    "Then we can create the catalog entries, scanning with `gribscan` the entire GRIB archive by calling the `create_entry()` method"
   ]
  },
  {
   "cell_type": "code",
   "execution_count": 25,
   "metadata": {},
   "outputs": [
    {
     "name": "stderr",
     "output_type": "stream",
     "text": [
      "\u001b[38;2;64;184;50m2024-02-09 18:07:46 :: gribber :: INFO     -> Creating symlinks...\u001b[0m\n",
      "\u001b[38;2;64;184;50m2024-02-09 18:07:46 :: gribber :: INFO     -> Searching in /users/nazarova/work/grib-example/tco1279-orca025...\u001b[0m\n",
      "\u001b[38;2;64;184;50m2024-02-09 18:07:46 :: gribber :: INFO     -> /users/nazarova/work/grib-example/tco1279-orca025/sh????+*\u001b[0m\n",
      "\u001b[38;2;64;184;50m2024-02-09 18:07:46 :: gribber :: INFO     -> Creating GRIB indices...\u001b[0m\n"
     ]
    },
    {
     "name": "stderr",
     "output_type": "stream",
     "text": [
      "usage: gribscan-index [-h] [-o [OUTDIR]] [-f] [-n [NPROCS]] GRIB [GRIB ...]\n",
      "gribscan-index: error: the following arguments are required: GRIB\n",
      "\u001b[38;2;64;184;50m2024-02-09 18:07:47 :: gribber :: INFO     -> CompletedProcess(args=['gribscan-index', '-n', '1'], returncode=2)\u001b[0m\n",
      "\u001b[38;2;64;184;50m2024-02-09 18:07:47 :: gribber :: INFO     -> Creating JSON file /users/nazarova/work/gribscan-json/OSI-SAF/osi-450/daily.json...\u001b[0m\n",
      "\u001b[38;2;255;165;0m2024-02-09 18:07:47 :: gribber :: WARNING  -> Model OSI-SAF is experimental.\u001b[0m\n",
      "\u001b[38;2;255;165;0m2024-02-09 18:07:47 :: gribber :: WARNING  -> JSON file may have a different name.\u001b[0m\n",
      "\u001b[38;2;255;165;0m2024-02-09 18:07:47 :: gribber :: WARNING  -> Model OSI-SAF is experimental.\u001b[0m\n",
      "usage: gribscan-build [-h] [-g [GLOB.index]] [-o outdir]\n",
      "                      [--prefix template_prefix] [-m magician]\n",
      "                      [GRIB.index ...]\n",
      "gribscan-build: error: You need to pass a glob pattern or a file list.\n",
      "\u001b[38;2;255;0;0m2024-02-09 18:07:49 :: gribber :: ERROR    -> Gribscan has created different json filename!\u001b[0m\n",
      "\u001b[38;2;255;0;0m2024-02-09 18:07:49 :: gribber :: ERROR    -> Please check and modify the catalog files accordingly\u001b[0m\n",
      "\u001b[38;2;64;184;50m2024-02-09 18:07:49 :: gribber :: INFO     -> Block to be added to catalog file:\u001b[0m\n",
      "\u001b[38;2;64;184;50m2024-02-09 18:07:49 :: gribber :: INFO     -> {'driver': 'zarr', 'args': {'consolidated': False, 'urlpath': 'reference::/users/nazarova/work/gribscan-json/OSI-SAF/osi-450/daily.json'}}\u001b[0m\n",
      "\u001b[38;2;255;165;0m2024-02-09 18:07:49 :: gribber :: WARNING  -> Source sh-daily already exists in /users/nazarova/work/AQUA//config/machines/lumi/catalog/OSI-SAF/osi-450.yaml. Skipping...\u001b[0m\n",
      "\u001b[38;2;64;184;50m2024-02-09 18:07:49 :: gribber :: INFO     -> Block to be added to main catalog file:\u001b[0m\n",
      "\u001b[38;2;64;184;50m2024-02-09 18:07:49 :: gribber :: INFO     -> {'osi-450': {'description': 'osi-450 data', 'driver': 'yaml_file_cat', 'args': {'path': '{{CATALOG_DIR}}/osi-450.yaml'}}}\u001b[0m\n",
      "\u001b[38;2;255;165;0m2024-02-09 18:07:49 :: gribber :: WARNING  -> Source osi-450 already exists                    in /users/nazarova/work/AQUA//config/machines/lumi/catalog/OSI-SAF/main.yaml. Skipping...\u001b[0m\n",
      "\u001b[38;2;255;165;0m2024-02-09 18:07:49 :: gribber :: WARNING  -> Update regrid.yaml has to be done manually.\u001b[0m\n"
     ]
    }
   ],
   "source": [
    "mygrib.create_entry()"
   ]
  },
  {
   "attachments": {},
   "cell_type": "markdown",
   "metadata": {},
   "source": [
    "Since for the example we used a subset of the original grib files, we need to specify the `replace` option to `False`, in order to not overwrite the already existing entry in the catalogue.\n",
    "However, since the folder in which `.index` and `.json` files are stored is different from the one in which the original grib files are stored, the first time that the `Gribber` class is called, they have been created."
   ]
  },
  {
   "attachments": {},
   "cell_type": "markdown",
   "metadata": {},
   "source": [
    "In addition, the `Gribber` class can be used via a command line tool in `cli/gribber/cli_gribber.py`. This in an executable python script, which can be configured via a configuration yaml file (`--config configfile.yaml`), which must include the dictionary for the directories as well as the experiment details. A template for this configuration file can be found in `AQUA/cli/gribber/gribber_setup.tmpl`."
   ]
  }
 ],
 "metadata": {
  "kernelspec": {
   "display_name": "aqua",
   "language": "python",
   "name": "python3"
  },
  "language_info": {
   "codemirror_mode": {
    "name": "ipython",
    "version": 3
   },
   "file_extension": ".py",
   "mimetype": "text/x-python",
   "name": "python",
   "nbconvert_exporter": "python",
   "pygments_lexer": "ipython3",
   "version": "3.11.7"
  },
  "orig_nbformat": 4
 },
 "nbformat": 4,
 "nbformat_minor": 2
}
