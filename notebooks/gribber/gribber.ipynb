{
 "cells": [
  {
   "attachments": {},
   "cell_type": "markdown",
   "metadata": {},
   "source": [
    "# Gribber class"
   ]
  },
  {
   "cell_type": "code",
   "execution_count": 1,
   "metadata": {},
   "outputs": [],
   "source": [
    "from aqua.gribber import Gribber"
   ]
  },
  {
   "attachments": {},
   "cell_type": "markdown",
   "metadata": {},
   "source": [
    "The `Gribber` class from the `aqua` framework checks the availability of grib files in a specified directory `datadir` for a specific experiment and creates `.index` files and a `.json` file.\n",
    "It also automatically updates the catalog `yaml` file.\n",
    "\n",
    "It takes as input, which as to be specified in a configuration yaml file (please check `AQUA/cli/gribber/gribber_setup.tmpl`):\n",
    "- `model`: model name\n",
    "- `exp`: experiment name\n",
    "- `source`: source name\n",
    "- `dir`: dictionary with directories for disk operations:\n",
    "    - `datadir`: data directory \n",
    "    - `tmpdir`: temporary directory \n",
    "    - `jsondir`: JSON directory \n",
    "    - `configdir`: configuration directory\n",
    "- `verbose`: print help message (default: `False`)\n",
    "- `nprocs`: number of processors (default: `1`)\n",
    "- `replace`: replace existing files (default: `False`)\n",
    "\n",
    "We start defining the default directories to work on Levante and then apply the class with a default IFS experiment.  Please change the outdir if you want to try this notebook!\n",
    "\n",
    "Note that in this example the `datadir` is hard-coded to point to a small subset of GRIB files.\n",
    "Note also that we're assuming that you downloaded AQUA in your `home` directory. If not, please change the `configdir` variable to point to `AQUA/config`."
   ]
  },
  {
   "cell_type": "code",
   "execution_count": 11,
   "metadata": {},
   "outputs": [],
   "source": [
    "outdir = 'b382321'\n",
    "default_dir = {'datadir': '/work/bb1153/b382289/grib-example/tco1279-orca025',\n",
    "               'tmpdir': '/scratch/b/' + outdir + '/gribscan',\n",
    "               'jsondir': '/work/bb1153/' + outdir + '/gribscan-json',\n",
    "               'configdir': '/home/b/' + outdir + '/AQUA/config'}\n"
   ]
  },
  {
   "attachments": {},
   "cell_type": "markdown",
   "metadata": {},
   "source": [
    "Initializing the `class` does not immediately scan the data directory, but only creates the `Gribber` object.\n",
    "The method `create_entry` scans the data directory and creates the `.index` files and the `.json` file, then update the catalog `yaml` file."
   ]
  },
  {
   "cell_type": "code",
   "execution_count": 3,
   "metadata": {},
   "outputs": [
    {
     "name": "stderr",
     "output_type": "stream",
     "text": [
      "2023-05-25 17:59:10 :: gribber :: INFO     -> Data directory: /work/bb1153/b382289/grib-example/tco1279-orca025\n",
      "2023-05-25 17:59:10 :: gribber :: INFO     -> JSON directory: /work/bb1153/b382289/gribscan-json/tco1279-orca025\n",
      "2023-05-25 17:59:10 :: gribber :: INFO     -> Catalog directory: /work/bb1153/b382289/AQUA/config\n",
      "2023-05-25 17:59:10 :: gribber :: INFO     -> Gribfile wildcard: ICMGG????+*\n",
      "2023-05-25 17:59:10 :: gribber :: WARNING  -> Catalog file: /work/bb1153/b382289/AQUA/config/machines/levante/catalog/IFS/tco1279-orca025.yaml\n",
      "2023-05-25 17:59:10 :: gribber :: WARNING  -> JSON file: /work/bb1153/b382289/gribscan-json/tco1279-orca025/atm2d.json\n",
      "2023-05-25 17:59:10 :: gribber :: INFO     -> Checking if indices already exist...\n",
      "2023-05-25 17:59:10 :: gribber :: WARNING  -> Indices already exist.\n",
      "2023-05-25 17:59:10 :: gribber :: INFO     -> Checking if JSON file already exists...\n",
      "2023-05-25 17:59:10 :: gribber :: WARNING  -> JSON file already exists.\n",
      "2023-05-25 17:59:10 :: gribber :: INFO     -> Checking if catalog file already exists...\n",
      "2023-05-25 17:59:10 :: gribber :: WARNING  -> Catalog file /work/bb1153/b382289/AQUA/config/machines/levante/catalog/IFS/tco1279-orca025.yaml already exists.\n"
     ]
    }
   ],
   "source": [
    "mygrib = Gribber(model='IFS',exp='tco1279-orca025',source='ICMGG_atm2d', dirdict = default_dir, loglevel = 'INFO')"
   ]
  },
  {
   "attachments": {},
   "cell_type": "markdown",
   "metadata": {},
   "source": [
    "Then we can create the catalog entries, scanning with `gribscan` the entire GRIB archive by calling the `create_entry()` method"
   ]
  },
  {
   "cell_type": "code",
   "execution_count": 4,
   "metadata": {},
   "outputs": [
    {
     "name": "stderr",
     "output_type": "stream",
     "text": [
      "2023-05-25 17:59:19 :: create_folder :: WARNING  -> Folder /scratch/b/b382289/gribscan/tco1279-orca025 already exists\n",
      "2023-05-25 17:59:19 :: create_folder :: WARNING  -> Folder /work/bb1153/b382289/gribscan-json/tco1279-orca025 already exists\n",
      "2023-05-25 17:59:19 :: gribber :: INFO     -> Creating symlinks...\n",
      "2023-05-25 17:59:19 :: gribber :: INFO     -> Searching in /work/bb1153/b382289/grib-example/tco1279-orca025...\n",
      "2023-05-25 17:59:19 :: gribber :: INFO     -> /work/bb1153/b382289/grib-example/tco1279-orca025/ICMGG????+*\n",
      "2023-05-25 17:59:19 :: gribber :: INFO     -> File /work/bb1153/b382289/grib-example/tco1279-orca025/ICMGGhvi1+000066 already exists in /scratch/b/b382289/gribscan/tco1279-orca025\n",
      "2023-05-25 17:59:19 :: gribber :: INFO     -> File /work/bb1153/b382289/grib-example/tco1279-orca025/ICMGGhvi1+000084 already exists in /scratch/b/b382289/gribscan/tco1279-orca025\n",
      "2023-05-25 17:59:19 :: gribber :: INFO     -> File /work/bb1153/b382289/grib-example/tco1279-orca025/ICMGGhvi1+000054 already exists in /scratch/b/b382289/gribscan/tco1279-orca025\n",
      "2023-05-25 17:59:19 :: gribber :: INFO     -> File /work/bb1153/b382289/grib-example/tco1279-orca025/ICMGGhvi1+000012 already exists in /scratch/b/b382289/gribscan/tco1279-orca025\n",
      "2023-05-25 17:59:19 :: gribber :: INFO     -> File /work/bb1153/b382289/grib-example/tco1279-orca025/ICMGGhvi1+000000 already exists in /scratch/b/b382289/gribscan/tco1279-orca025\n",
      "2023-05-25 17:59:19 :: gribber :: INFO     -> File /work/bb1153/b382289/grib-example/tco1279-orca025/ICMGGhvi1+000036 already exists in /scratch/b/b382289/gribscan/tco1279-orca025\n",
      "2023-05-25 17:59:19 :: gribber :: INFO     -> File /work/bb1153/b382289/grib-example/tco1279-orca025/ICMGGhvi1+000030 already exists in /scratch/b/b382289/gribscan/tco1279-orca025\n",
      "2023-05-25 17:59:19 :: gribber :: INFO     -> File /work/bb1153/b382289/grib-example/tco1279-orca025/ICMGGhvi1+000078 already exists in /scratch/b/b382289/gribscan/tco1279-orca025\n",
      "2023-05-25 17:59:19 :: gribber :: INFO     -> File /work/bb1153/b382289/grib-example/tco1279-orca025/ICMGGhvi1+000048 already exists in /scratch/b/b382289/gribscan/tco1279-orca025\n",
      "2023-05-25 17:59:19 :: gribber :: INFO     -> File /work/bb1153/b382289/grib-example/tco1279-orca025/ICMGGhvi1+000018 already exists in /scratch/b/b382289/gribscan/tco1279-orca025\n",
      "2023-05-25 17:59:19 :: gribber :: INFO     -> File /work/bb1153/b382289/grib-example/tco1279-orca025/ICMGGhvi1+000006 already exists in /scratch/b/b382289/gribscan/tco1279-orca025\n",
      "2023-05-25 17:59:19 :: gribber :: INFO     -> File /work/bb1153/b382289/grib-example/tco1279-orca025/ICMGGhvi1+000024 already exists in /scratch/b/b382289/gribscan/tco1279-orca025\n",
      "2023-05-25 17:59:19 :: gribber :: INFO     -> File /work/bb1153/b382289/grib-example/tco1279-orca025/ICMGGhvi1+000096 already exists in /scratch/b/b382289/gribscan/tco1279-orca025\n",
      "2023-05-25 17:59:19 :: gribber :: INFO     -> File /work/bb1153/b382289/grib-example/tco1279-orca025/ICMGGhvi1+000042 already exists in /scratch/b/b382289/gribscan/tco1279-orca025\n",
      "2023-05-25 17:59:19 :: gribber :: INFO     -> File /work/bb1153/b382289/grib-example/tco1279-orca025/ICMGGhvi1+000090 already exists in /scratch/b/b382289/gribscan/tco1279-orca025\n",
      "2023-05-25 17:59:19 :: gribber :: INFO     -> File /work/bb1153/b382289/grib-example/tco1279-orca025/ICMGGhvi1+000072 already exists in /scratch/b/b382289/gribscan/tco1279-orca025\n",
      "2023-05-25 17:59:19 :: gribber :: INFO     -> File /work/bb1153/b382289/grib-example/tco1279-orca025/ICMGGhvi1+000060 already exists in /scratch/b/b382289/gribscan/tco1279-orca025\n",
      "2023-05-25 17:59:19 :: gribber :: INFO     -> Block to be added to catalog file:\n",
      "2023-05-25 17:59:19 :: gribber :: INFO     -> {'driver': 'zarr', 'args': {'consolidated': False, 'urlpath': 'reference::/work/bb1153/b382289/gribscan-json/tco1279-orca025/atm2d.json'}}\n",
      "2023-05-25 17:59:19 :: gribber :: WARNING  -> Source ICMGG_atm2d already exists in /work/bb1153/b382289/AQUA/config/machines/levante/catalog/IFS/tco1279-orca025.yaml. Skipping...\n",
      "2023-05-25 17:59:19 :: gribber :: INFO     -> Block to be added to main catalog file:\n",
      "2023-05-25 17:59:19 :: gribber :: INFO     -> {'tco1279-orca025': {'description': 'tco1279-orca025 data', 'driver': 'yaml_file_cat', 'args': {'path': '{{CATALOG_DIR}}/tco1279-orca025.yaml'}}}\n",
      "2023-05-25 17:59:19 :: gribber :: WARNING  -> Source tco1279-orca025 already exists                    in /work/bb1153/b382289/AQUA/config/machines/levante/catalog/IFS/main.yaml. Skipping...\n"
     ]
    }
   ],
   "source": [
    "mygrib.create_entry()"
   ]
  },
  {
   "attachments": {},
   "cell_type": "markdown",
   "metadata": {},
   "source": [
    "Since for the example we used a subset of the original grib files, we need to specify the `replace` option to `False`, in order to not overwrite the already existing entry in the catalogue.\n",
    "However, since the folder in which `.index` and `.json` files are stored is different from the one in which the original grib files are stored, the first time that the `Gribber` class is called, they have been created."
   ]
  },
  {
   "attachments": {},
   "cell_type": "markdown",
   "metadata": {},
   "source": [
    "In addition, the `Gribber` class can be used via a command line tool in `cli/gribber/cli_gribber.py`. This in an executable python script, which can be configured via a configuration yaml file (`--config configfile.yaml`), which must include the dictionary for the directories as well as the experiment details. A template for this configuration file can be found in `AQUA/cli/gribber/gribber_setup.tmpl`."
   ]
  }
 ],
 "metadata": {
  "kernelspec": {
   "display_name": "aqua",
   "language": "python",
   "name": "python3"
  },
  "language_info": {
   "codemirror_mode": {
    "name": "ipython",
    "version": 3
   },
   "file_extension": ".py",
   "mimetype": "text/x-python",
   "name": "python",
   "nbconvert_exporter": "python",
   "pygments_lexer": "ipython3",
   "version": "3.10.11"
  },
  "orig_nbformat": 4
 },
 "nbformat": 4,
 "nbformat_minor": 2
}
