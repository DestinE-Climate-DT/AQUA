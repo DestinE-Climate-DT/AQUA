{
 "cells": [
  {
   "cell_type": "code",
   "execution_count": 4,
   "metadata": {},
   "outputs": [],
   "source": [
    "from aqua.lra_generator import LRA_Generator\n",
    "from aqua.reader import Reader"
   ]
  },
  {
   "cell_type": "code",
   "execution_count": 10,
   "metadata": {},
   "outputs": [],
   "source": [
    "model = 'IFS'\n",
    "exp = 'tco3999-ng5'\n",
    "source = 'ICMGG_atm2d'\n",
    "\n",
    "varlist = ['msl']\n",
    "\n",
    "outdir = '/scratch/b/b382289/lra_test'"
   ]
  },
  {
   "cell_type": "code",
   "execution_count": 11,
   "metadata": {},
   "outputs": [
    {
     "ename": "KeyError",
     "evalue": "'Experiment tco3999-ng5 not found in regrid for model IFS.'",
     "output_type": "error",
     "traceback": [
      "\u001b[0;31m---------------------------------------------------------------------------\u001b[0m",
      "\u001b[0;31mKeyError\u001b[0m                                  Traceback (most recent call last)",
      "Cell \u001b[0;32mIn[11], line 1\u001b[0m\n\u001b[0;32m----> 1\u001b[0m reader \u001b[39m=\u001b[39m Reader(model\u001b[39m=\u001b[39;49mmodel, exp\u001b[39m=\u001b[39;49mexp, source\u001b[39m=\u001b[39;49msource, regrid\u001b[39m=\u001b[39;49m\u001b[39m'\u001b[39;49m\u001b[39mr100\u001b[39;49m\u001b[39m'\u001b[39;49m)\n",
      "File \u001b[0;32m/work/bb1153/b382289/AQUA/aqua/reader/reader.py:95\u001b[0m, in \u001b[0;36mReader.__init__\u001b[0;34m(self, model, exp, source, freq, regrid, method, zoom, configdir, level, areas, var, vars, verbose, datamodel, streaming, stream_step, stream_unit, stream_startdate, rebuild)\u001b[0m\n\u001b[1;32m     93\u001b[0m \u001b[39m# load and check the regrid\u001b[39;00m\n\u001b[1;32m     94\u001b[0m cfg_regrid \u001b[39m=\u001b[39m load_yaml(\u001b[39mself\u001b[39m\u001b[39m.\u001b[39mregrid_file)\n\u001b[0;32m---> 95\u001b[0m source_grid_id \u001b[39m=\u001b[39m _check_catalog_source(cfg_regrid[\u001b[39m\"\u001b[39;49m\u001b[39msource_grids\u001b[39;49m\u001b[39m\"\u001b[39;49m], \u001b[39mself\u001b[39;49m\u001b[39m.\u001b[39;49mmodel, \u001b[39mself\u001b[39;49m\u001b[39m.\u001b[39;49mexp, source, name\u001b[39m=\u001b[39;49m\u001b[39m'\u001b[39;49m\u001b[39mregrid\u001b[39;49m\u001b[39m'\u001b[39;49m)\n\u001b[1;32m     96\u001b[0m source_grid \u001b[39m=\u001b[39m cfg_regrid[\u001b[39m\"\u001b[39m\u001b[39msource_grids\u001b[39m\u001b[39m\"\u001b[39m][\u001b[39mself\u001b[39m\u001b[39m.\u001b[39mmodel][\u001b[39mself\u001b[39m\u001b[39m.\u001b[39mexp][source_grid_id]\n\u001b[1;32m     98\u001b[0m \u001b[39mself\u001b[39m\u001b[39m.\u001b[39mdst_datamodel \u001b[39m=\u001b[39m datamodel\n",
      "File \u001b[0;32m/work/bb1153/b382289/AQUA/aqua/reader/reader.py:1083\u001b[0m, in \u001b[0;36m_check_catalog_source\u001b[0;34m(cat, model, exp, source, name)\u001b[0m\n\u001b[1;32m   1081\u001b[0m     \u001b[39mraise\u001b[39;00m \u001b[39mKeyError\u001b[39;00m(\u001b[39mf\u001b[39m\u001b[39m\"\u001b[39m\u001b[39mModel \u001b[39m\u001b[39m{\u001b[39;00mmodel\u001b[39m}\u001b[39;00m\u001b[39m not found in \u001b[39m\u001b[39m{\u001b[39;00mname\u001b[39m}\u001b[39;00m\u001b[39m.\u001b[39m\u001b[39m\"\u001b[39m)\n\u001b[1;32m   1082\u001b[0m \u001b[39mif\u001b[39;00m exp \u001b[39mnot\u001b[39;00m \u001b[39min\u001b[39;00m cat[model]:\n\u001b[0;32m-> 1083\u001b[0m     \u001b[39mraise\u001b[39;00m \u001b[39mKeyError\u001b[39;00m(\u001b[39mf\u001b[39m\u001b[39m\"\u001b[39m\u001b[39mExperiment \u001b[39m\u001b[39m{\u001b[39;00mexp\u001b[39m}\u001b[39;00m\u001b[39m not found in \u001b[39m\u001b[39m{\u001b[39;00mname\u001b[39m}\u001b[39;00m\u001b[39m for model \u001b[39m\u001b[39m{\u001b[39;00mmodel\u001b[39m}\u001b[39;00m\u001b[39m.\u001b[39m\u001b[39m\"\u001b[39m)\n\u001b[1;32m   1085\u001b[0m \u001b[39mif\u001b[39;00m source:\n\u001b[1;32m   1086\u001b[0m     \u001b[39mif\u001b[39;00m source \u001b[39mnot\u001b[39;00m \u001b[39min\u001b[39;00m cat[model][exp]:\n",
      "\u001b[0;31mKeyError\u001b[0m: 'Experiment tco3999-ng5 not found in regrid for model IFS.'"
     ]
    }
   ],
   "source": [
    "reader = Reader(model=model, exp=exp, source=source, regrid='r100')"
   ]
  },
  {
   "cell_type": "code",
   "execution_count": 3,
   "metadata": {},
   "outputs": [
    {
     "name": "stdout",
     "output_type": "stream",
     "text": [
      "IMPORTANT: no file will be created, this is a dry run\n",
      "Variables to be processed: ['msl']\n",
      "Frequency not specified, streaming mode\n",
      "Fixing data: True\n",
      "Creating folder /scratch/b/b382289/lra_test/tco1279-orca025/r100\n",
      "Accessing catalog for IFS-tco1279-orca025-ICMGG_atm2d...\n",
      "I am going to produce LRA at r100 resolution and None frequency...\n"
     ]
    },
    {
     "ename": "KeyError",
     "evalue": "'Experiment tco1279-orca025 not found in regrid for model IFS.'",
     "output_type": "error",
     "traceback": [
      "\u001b[0;31m---------------------------------------------------------------------------\u001b[0m",
      "\u001b[0;31mKeyError\u001b[0m                                  Traceback (most recent call last)",
      "Cell \u001b[0;32mIn[3], line 1\u001b[0m\n\u001b[0;32m----> 1\u001b[0m test \u001b[39m=\u001b[39m LRA_Generator(model\u001b[39m=\u001b[39;49mmodel,exp\u001b[39m=\u001b[39;49mexp,source\u001b[39m=\u001b[39;49msource,varlist\u001b[39m=\u001b[39;49mvarlist,outdir\u001b[39m=\u001b[39;49moutdir,\n\u001b[1;32m      2\u001b[0m                      resolution\u001b[39m=\u001b[39;49m\u001b[39m'\u001b[39;49m\u001b[39mr100\u001b[39;49m\u001b[39m'\u001b[39;49m,dry\u001b[39m=\u001b[39;49m\u001b[39mTrue\u001b[39;49;00m,verbose\u001b[39m=\u001b[39;49m\u001b[39mTrue\u001b[39;49;00m)\n",
      "File \u001b[0;32m/work/bb1153/b382289/AQUA/aqua/lra_generator/lra_generator.py:95\u001b[0m, in \u001b[0;36mLRA_Generator.__init__\u001b[0;34m(self, model, exp, source, varlist, resolution, frequency, fix, outdir, nproc, verbose, replace, dry)\u001b[0m\n\u001b[1;32m     92\u001b[0m create_folder(\u001b[39mself\u001b[39m\u001b[39m.\u001b[39moutdir,verbose\u001b[39m=\u001b[39m\u001b[39mself\u001b[39m\u001b[39m.\u001b[39mverbose)\n\u001b[1;32m     94\u001b[0m \u001b[39m# Initialize the reader\u001b[39;00m\n\u001b[0;32m---> 95\u001b[0m \u001b[39mself\u001b[39;49m\u001b[39m.\u001b[39;49mretrieve_data()\n",
      "File \u001b[0;32m/work/bb1153/b382289/AQUA/aqua/lra_generator/lra_generator.py:108\u001b[0m, in \u001b[0;36mLRA_Generator.retrieve_data\u001b[0;34m(self)\u001b[0m\n\u001b[1;32m    105\u001b[0m     \u001b[39mprint\u001b[39m(\u001b[39mf\u001b[39m\u001b[39m'\u001b[39m\u001b[39mI am going to produce LRA at \u001b[39m\u001b[39m{\u001b[39;00m\u001b[39mself\u001b[39m\u001b[39m.\u001b[39mresolution\u001b[39m}\u001b[39;00m\u001b[39m resolution and \u001b[39m\u001b[39m{\u001b[39;00m\u001b[39mself\u001b[39m\u001b[39m.\u001b[39mfrequency\u001b[39m}\u001b[39;00m\u001b[39m frequency...\u001b[39m\u001b[39m'\u001b[39m)\n\u001b[1;32m    107\u001b[0m \u001b[39m# Initialize the reader\u001b[39;00m\n\u001b[0;32m--> 108\u001b[0m \u001b[39mself\u001b[39m\u001b[39m.\u001b[39mreader \u001b[39m=\u001b[39m Reader(model\u001b[39m=\u001b[39;49m\u001b[39mself\u001b[39;49m\u001b[39m.\u001b[39;49mmodel, exp\u001b[39m=\u001b[39;49m\u001b[39mself\u001b[39;49m\u001b[39m.\u001b[39;49mexp, source\u001b[39m=\u001b[39;49m\u001b[39mself\u001b[39;49m\u001b[39m.\u001b[39;49msource,\n\u001b[1;32m    109\u001b[0m                      regrid\u001b[39m=\u001b[39;49m\u001b[39mself\u001b[39;49m\u001b[39m.\u001b[39;49mresolution, freq\u001b[39m=\u001b[39;49m\u001b[39mself\u001b[39;49m\u001b[39m.\u001b[39;49mfrequency, configdir\u001b[39m=\u001b[39;49m\u001b[39m\"\u001b[39;49m\u001b[39m../../config\u001b[39;49m\u001b[39m\"\u001b[39;49m)\n\u001b[1;32m    111\u001b[0m \u001b[39mif\u001b[39;00m \u001b[39mself\u001b[39m\u001b[39m.\u001b[39mverbose:\n\u001b[1;32m    112\u001b[0m     \u001b[39mprint\u001b[39m(\u001b[39m'\u001b[39m\u001b[39mRetrieving data...\u001b[39m\u001b[39m'\u001b[39m)\n",
      "File \u001b[0;32m/work/bb1153/b382289/AQUA/aqua/reader/reader.py:95\u001b[0m, in \u001b[0;36mReader.__init__\u001b[0;34m(self, model, exp, source, freq, regrid, method, zoom, configdir, level, areas, var, vars, verbose, datamodel, streaming, stream_step, stream_unit, stream_startdate, rebuild)\u001b[0m\n\u001b[1;32m     93\u001b[0m \u001b[39m# load and check the regrid\u001b[39;00m\n\u001b[1;32m     94\u001b[0m cfg_regrid \u001b[39m=\u001b[39m load_yaml(\u001b[39mself\u001b[39m\u001b[39m.\u001b[39mregrid_file)\n\u001b[0;32m---> 95\u001b[0m source_grid_id \u001b[39m=\u001b[39m _check_catalog_source(cfg_regrid[\u001b[39m\"\u001b[39;49m\u001b[39msource_grids\u001b[39;49m\u001b[39m\"\u001b[39;49m], \u001b[39mself\u001b[39;49m\u001b[39m.\u001b[39;49mmodel, \u001b[39mself\u001b[39;49m\u001b[39m.\u001b[39;49mexp, source, name\u001b[39m=\u001b[39;49m\u001b[39m'\u001b[39;49m\u001b[39mregrid\u001b[39;49m\u001b[39m'\u001b[39;49m)\n\u001b[1;32m     96\u001b[0m source_grid \u001b[39m=\u001b[39m cfg_regrid[\u001b[39m\"\u001b[39m\u001b[39msource_grids\u001b[39m\u001b[39m\"\u001b[39m][\u001b[39mself\u001b[39m\u001b[39m.\u001b[39mmodel][\u001b[39mself\u001b[39m\u001b[39m.\u001b[39mexp][source_grid_id]\n\u001b[1;32m     98\u001b[0m \u001b[39mself\u001b[39m\u001b[39m.\u001b[39mdst_datamodel \u001b[39m=\u001b[39m datamodel\n",
      "File \u001b[0;32m/work/bb1153/b382289/AQUA/aqua/reader/reader.py:1083\u001b[0m, in \u001b[0;36m_check_catalog_source\u001b[0;34m(cat, model, exp, source, name)\u001b[0m\n\u001b[1;32m   1081\u001b[0m     \u001b[39mraise\u001b[39;00m \u001b[39mKeyError\u001b[39;00m(\u001b[39mf\u001b[39m\u001b[39m\"\u001b[39m\u001b[39mModel \u001b[39m\u001b[39m{\u001b[39;00mmodel\u001b[39m}\u001b[39;00m\u001b[39m not found in \u001b[39m\u001b[39m{\u001b[39;00mname\u001b[39m}\u001b[39;00m\u001b[39m.\u001b[39m\u001b[39m\"\u001b[39m)\n\u001b[1;32m   1082\u001b[0m \u001b[39mif\u001b[39;00m exp \u001b[39mnot\u001b[39;00m \u001b[39min\u001b[39;00m cat[model]:\n\u001b[0;32m-> 1083\u001b[0m     \u001b[39mraise\u001b[39;00m \u001b[39mKeyError\u001b[39;00m(\u001b[39mf\u001b[39m\u001b[39m\"\u001b[39m\u001b[39mExperiment \u001b[39m\u001b[39m{\u001b[39;00mexp\u001b[39m}\u001b[39;00m\u001b[39m not found in \u001b[39m\u001b[39m{\u001b[39;00mname\u001b[39m}\u001b[39;00m\u001b[39m for model \u001b[39m\u001b[39m{\u001b[39;00mmodel\u001b[39m}\u001b[39;00m\u001b[39m.\u001b[39m\u001b[39m\"\u001b[39m)\n\u001b[1;32m   1085\u001b[0m \u001b[39mif\u001b[39;00m source:\n\u001b[1;32m   1086\u001b[0m     \u001b[39mif\u001b[39;00m source \u001b[39mnot\u001b[39;00m \u001b[39min\u001b[39;00m cat[model][exp]:\n",
      "\u001b[0;31mKeyError\u001b[0m: 'Experiment tco1279-orca025 not found in regrid for model IFS.'"
     ]
    }
   ],
   "source": [
    "test = LRA_Generator(model=model,exp=exp,source=source,varlist=varlist,outdir=outdir,\n",
    "                     resolution='r100',dry=True,verbose=True)"
   ]
  },
  {
   "cell_type": "code",
   "execution_count": null,
   "metadata": {},
   "outputs": [],
   "source": []
  }
 ],
 "metadata": {
  "kernelspec": {
   "display_name": "aqua",
   "language": "python",
   "name": "python3"
  },
  "language_info": {
   "codemirror_mode": {
    "name": "ipython",
    "version": 3
   },
   "file_extension": ".py",
   "mimetype": "text/x-python",
   "name": "python",
   "nbconvert_exporter": "python",
   "pygments_lexer": "ipython3",
   "version": "3.10.9"
  },
  "orig_nbformat": 4
 },
 "nbformat": 4,
 "nbformat_minor": 2
}
