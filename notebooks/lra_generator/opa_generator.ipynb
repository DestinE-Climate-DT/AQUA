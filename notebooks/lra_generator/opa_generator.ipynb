{
 "cells": [
  {
   "attachments": {},
   "cell_type": "markdown",
   "metadata": {},
   "source": [
    "## A wrapper for OPA within AQUA"
   ]
  },
  {
   "cell_type": "code",
   "execution_count": 20,
   "metadata": {},
   "outputs": [],
   "source": [
    "from aqua import OPAgenerator"
   ]
  },
  {
   "attachments": {},
   "cell_type": "markdown",
   "metadata": {},
   "source": [
    "Initialize the OPA generator class, feeding it with the most of the information you need. Which variable, which model source and where to store the data."
   ]
  },
  {
   "cell_type": "code",
   "execution_count": 21,
   "metadata": {},
   "outputs": [
    {
     "name": "stderr",
     "output_type": "stream",
     "text": [
      "2023-05-12 13:31:43 :: opa_generator :: WARNING  -> IMPORTANT: no file will be created, this is a dry run\n",
      "2023-05-12 13:31:43 :: opa_generator :: WARNING  -> Variable(s) to be processed: 2t\n",
      "2023-05-12 13:31:43 :: create_folder :: WARNING  -> Folder /home/b/b382289/scratch/one_pass/IFS/tco2559-ng5/daily already exists\n",
      "2023-05-12 13:31:43 :: create_folder :: WARNING  -> Folder /home/b/b382289/scratch/one_pass already exists\n"
     ]
    }
   ],
   "source": [
    "opaopa = OPAgenerator(model=\"IFS\", exp=\"tco2559-ng5\", source=\"ICMGG_atm2d\", var='2t', frequency='daily',\n",
    "            outdir='/home/b/b382289/scratch/one_pass', tmpdir='/home/b/b382289/scratch/one_pass', definitive=False)\n"
   ]
  },
  {
   "attachments": {},
   "cell_type": "markdown",
   "metadata": {},
   "source": [
    "Then you can retrieve the data using the `Reader`. This is based on a streaming generator so far since we are using data from NextGEMS, will be later replaced with direct access from `FDB`. It also gave a look at the data so that it can infer the timedelta"
   ]
  },
  {
   "cell_type": "code",
   "execution_count": 22,
   "metadata": {},
   "outputs": [],
   "source": [
    "opaopa.retrieve()"
   ]
  },
  {
   "attachments": {},
   "cell_type": "markdown",
   "metadata": {},
   "source": [
    "This will launch the OPA computation, if the `defitinive` flag is `true` it will take ages and probably break the notebook. Otherwise print only the sequential access to the data from the `Reader`.\n",
    "Note that to print the sequential access the loglevel should be set to `INFO` or `DEBUG`."
   ]
  },
  {
   "cell_type": "code",
   "execution_count": 23,
   "metadata": {},
   "outputs": [
    {
     "name": "stderr",
     "output_type": "stream",
     "text": [
      "2023-05-12 13:31:53 :: opa_generator :: WARNING  -> Setting up OPA at daily frequency for variable 2t...\n",
      "2023-05-12 13:31:53 :: opa_generator :: WARNING  -> Initializing the OPA\n",
      "2023-05-12 13:31:53 :: opa_generator :: WARNING  -> Initializing the streaming generator...\n"
     ]
    },
    {
     "name": "stdout",
     "output_type": "stream",
     "text": [
      "{'stat': 'mean', 'stat_freq': 'daily', 'output_freq': 'monthly', 'time_step': 60, 'variable': '2t', 'save': True, 'checkpoint': True, 'checkpoint_filepath': '/home/b/b382289/scratch/one_pass', 'out_filepath': '/home/b/b382289/scratch/one_pass/IFS/tco2559-ng5/daily', 'checkpoint_file': '/home/b/b382289/scratch/one_pass/checkpoint_2t_daily_monthly_mean.pkl'}\n"
     ]
    }
   ],
   "source": [
    "opaopa.generate_opa()"
   ]
  },
  {
   "attachments": {},
   "cell_type": "markdown",
   "metadata": {},
   "source": [
    "You can then add an entry to the catalog so that you can access these data from somewhere else."
   ]
  },
  {
   "cell_type": "code",
   "execution_count": 24,
   "metadata": {},
   "outputs": [
    {
     "name": "stderr",
     "output_type": "stream",
     "text": [
      "2023-05-12 13:33:35 :: opa_generator :: WARNING  -> Creating catalog entry IFS tco2559-ng5 tmp-opa-daily\n"
     ]
    }
   ],
   "source": [
    "opaopa.create_catalog_entry()"
   ]
  },
  {
   "cell_type": "code",
   "execution_count": 25,
   "metadata": {},
   "outputs": [],
   "source": [
    "from aqua import Reader\n",
    "reader = Reader(model=\"IFS\", exp=\"tco2559-ng5\", source=\"tmp-opa-daily\",areas=False)"
   ]
  },
  {
   "attachments": {},
   "cell_type": "markdown",
   "metadata": {},
   "source": [
    "In order to really access and work with data a run with `definitive` set to `True` is needed."
   ]
  },
  {
   "attachments": {},
   "cell_type": "markdown",
   "metadata": {},
   "source": [
    "This remove the entries (and in the future also the files), once all the computation have been safely concluded"
   ]
  },
  {
   "cell_type": "code",
   "execution_count": 26,
   "metadata": {},
   "outputs": [
    {
     "name": "stderr",
     "output_type": "stream",
     "text": [
      "2023-05-12 13:33:35 :: opa_generator :: WARNING  -> Removing catalog entry IFS tco2559-ng5 tmp-opa-daily\n"
     ]
    }
   ],
   "source": [
    "opaopa.clean()"
   ]
  }
 ],
 "metadata": {
  "kernelspec": {
   "display_name": "aqua",
   "language": "python",
   "name": "python3"
  },
  "language_info": {
   "codemirror_mode": {
    "name": "ipython",
    "version": 3
   },
   "file_extension": ".py",
   "mimetype": "text/x-python",
   "name": "python",
   "nbconvert_exporter": "python",
   "pygments_lexer": "ipython3",
   "version": "3.10.11"
  },
  "orig_nbformat": 4
 },
 "nbformat": 4,
 "nbformat_minor": 2
}
