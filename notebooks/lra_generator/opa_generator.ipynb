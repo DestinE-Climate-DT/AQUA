{
 "cells": [
  {
   "attachments": {},
   "cell_type": "markdown",
   "metadata": {},
   "source": [
    "## A wrapper for OPA within AQUA"
   ]
  },
  {
   "cell_type": "code",
   "execution_count": 1,
   "metadata": {},
   "outputs": [],
   "source": [
    "from aqua import OPAgenerator"
   ]
  },
  {
   "attachments": {},
   "cell_type": "markdown",
   "metadata": {},
   "source": [
    "Initialize the OPA generator class, feeding it with the most of the information you need. Which variable, which model source and where to store the data.  Please change the `outdir` and `tempdir` if you want to try this notebook!\n",
    "Please also note that this operation can be computing and memory intensive, and OPA within AQUA are so far only used for the creation of the LRA via a command line and batch jobs."
   ]
  },
  {
   "cell_type": "code",
   "execution_count": 2,
   "metadata": {},
   "outputs": [],
   "source": [
    "import os\n",
    "USER = os.getenv('USER')\n",
    "\n",
    "model = 'IFS'\n",
    "exp = 'tco2559-ng5'\n",
    "source = 'ICMGG_atm2d'\n",
    "outdir = '/scratch/b/' + USER + '/one_pass'\n",
    "tmpdir = '/scratch/b/' + USER + '/one_pass'"
   ]
  },
  {
   "cell_type": "code",
   "execution_count": 3,
   "metadata": {},
   "outputs": [
    {
     "name": "stderr",
     "output_type": "stream",
     "text": [
      "2023-06-01 10:00:44 :: opa_generator :: WARNING  -> IMPORTANT: no file will be created, this is a dry run\n",
      "2023-06-01 10:00:44 :: opa_generator :: WARNING  -> Variable(s) to be processed: 2t\n",
      "2023-06-01 10:00:44 :: create_folder :: WARNING  -> Creating folder /scratch/b/b382076/one_pass/IFS/tco2559-ng5/daily\n",
      "2023-06-01 10:00:44 :: create_folder :: WARNING  -> Folder /scratch/b/b382076/one_pass already exists\n"
     ]
    }
   ],
   "source": [
    "opaopa = OPAgenerator(model=model, exp=exp, source=source, var='2t', frequency='daily',\n",
    "            outdir=outdir, tmpdir=tmpdir, definitive=False, loglevel ='INFO')\n"
   ]
  },
  {
   "attachments": {},
   "cell_type": "markdown",
   "metadata": {},
   "source": [
    "Then you can retrieve the data using the `Reader`. This is based on a streaming generator so far, since we are using data from NextGEMS. It will be later replaced with direct access from `FDB`. It also gives a look at the data so that it can infer the timedelta"
   ]
  },
  {
   "cell_type": "code",
   "execution_count": 4,
   "metadata": {},
   "outputs": [
    {
     "name": "stderr",
     "output_type": "stream",
     "text": [
      "2023-06-01 10:00:49 :: opa_generator :: INFO     -> Accessing catalog for IFS-tco2559-ng5-ICMGG_atm2d...\n",
      "2023-06-01 10:01:03 :: opa_generator :: INFO     -> Getting the timedelta to inform the OPA...\n",
      "2023-06-01 10:01:08 :: Reader :: INFO     -> Grib attributes for cprate: {'paramId': '172143', 'long_name': 'Mean convective precipitation rate', 'units': 'm s**-1', 'cfVarName': 'cprate', 'shortName': 'cprate'}\n",
      "2023-06-01 10:01:08 :: Reader :: INFO     -> Data model: ../../config/data_models/ifs2cds.json\n",
      "2023-06-01 10:01:08 :: opa_generator :: INFO     -> Timedelta is 60 minutes\n"
     ]
    }
   ],
   "source": [
    "opaopa.retrieve()"
   ]
  },
  {
   "attachments": {},
   "cell_type": "markdown",
   "metadata": {},
   "source": [
    "This will launch the OPA computation, if the `definitive` flag is `true` it will take ages and probably break the notebook. Here, we only print the sequential access to the data from the `Reader` (note that to print the sequential access the loglevel should be set to `INFO` or `DEBUG`)."
   ]
  },
  {
   "cell_type": "code",
   "execution_count": 5,
   "metadata": {},
   "outputs": [
    {
     "name": "stderr",
     "output_type": "stream",
     "text": [
      "2023-06-01 10:02:50 :: opa_generator :: INFO     -> Dask is disabled...\n",
      "2023-06-01 10:02:50 :: opa_generator :: WARNING  -> Setting up OPA at daily frequency for variable 2t...\n",
      "2023-06-01 10:02:50 :: opa_generator :: WARNING  -> Initializing the OPA\n",
      "2023-06-01 10:02:50 :: opa_generator :: WARNING  -> Initializing the streaming generator...\n"
     ]
    },
    {
     "name": "stdout",
     "output_type": "stream",
     "text": [
      "{'stat': 'mean', 'stat_freq': 'daily', 'output_freq': 'monthly', 'time_step': 60, 'variable': '2t', 'save': True, 'checkpoint': True, 'out_filepath': '/scratch/b/b382076/one_pass/IFS/tco2559-ng5/daily', 'checkpoint_filepath': '/scratch/b/b382076/one_pass', 'checkpoint_file': '/scratch/b/b382076/one_pass/checkpoint_2t_daily_monthly_mean.pkl'}\n"
     ]
    },
    {
     "name": "stderr",
     "output_type": "stream",
     "text": [
      "2023-06-01 10:02:51 :: Reader :: INFO     -> tprate: m --> m s**-1\n",
      "2023-06-01 10:02:51 :: Reader :: INFO     -> tprate: corrected dividing by accumulation time 3600 s\n",
      "2023-06-01 10:02:51 :: Reader :: INFO     -> Fixing tp to tprate. Unit fix: factor=0.000278, offset=0.000000\n",
      "2023-06-01 10:02:51 :: Reader :: INFO     -> Grib attributes for cprate: {'paramId': '172143', 'long_name': 'Mean convective precipitation rate', 'units': 'm s**-1', 'cfVarName': 'cprate', 'shortName': 'cprate'}\n",
      "2023-06-01 10:02:51 :: Reader :: INFO     -> var172143: m --> m s**-1\n",
      "2023-06-01 10:02:51 :: Reader :: INFO     -> var172143: corrected dividing by accumulation time 3600 s\n",
      "2023-06-01 10:02:51 :: Reader :: INFO     -> Fixing cp to var172143. Unit fix: factor=0.000278, offset=0.000000\n",
      "2023-06-01 10:02:51 :: Reader :: INFO     -> mlsprt: m --> m s**-1\n",
      "2023-06-01 10:02:51 :: Reader :: INFO     -> mlsprt: corrected dividing by accumulation time 3600 s\n",
      "2023-06-01 10:02:51 :: Reader :: INFO     -> Fixing lsp to mlsprt. Unit fix: factor=0.000278, offset=0.000000\n",
      "2023-06-01 10:02:51 :: Reader :: INFO     -> erate: m --> m of water s**-1\n",
      "2023-06-01 10:02:51 :: Reader :: INFO     -> erate: corrected dividing by accumulation time 3600 s\n",
      "2023-06-01 10:02:51 :: Reader :: INFO     -> Fixing e to erate. Unit fix: factor=0.000278, offset=0.000000\n",
      "2023-06-01 10:02:51 :: Reader :: INFO     -> esrate: m of water equivalent --> m of water s**-1\n",
      "2023-06-01 10:02:51 :: Reader :: INFO     -> esrate: corrected dividing by accumulation time 3600 s\n",
      "2023-06-01 10:02:51 :: Reader :: INFO     -> Fixing es to esrate. Unit fix: factor=0.000278, offset=0.000000\n",
      "2023-06-01 10:02:51 :: Reader :: INFO     -> mrort: m --> m s**-1\n",
      "2023-06-01 10:02:51 :: Reader :: INFO     -> mrort: corrected dividing by accumulation time 3600 s\n",
      "2023-06-01 10:02:51 :: Reader :: INFO     -> Fixing ro to mrort. Unit fix: factor=0.000278, offset=0.000000\n",
      "2023-06-01 10:02:51 :: Reader :: INFO     -> mtsfr: m of water equivalent --> m of water equivalent s**-1\n",
      "2023-06-01 10:02:51 :: Reader :: INFO     -> mtsfr: corrected dividing by accumulation time 3600 s\n",
      "2023-06-01 10:02:51 :: Reader :: INFO     -> Fixing sf to mtsfr. Unit fix: factor=0.000278, offset=0.000000\n",
      "2023-06-01 10:02:51 :: Reader :: INFO     -> mslhfl: J m**-2 --> W m**-2\n",
      "2023-06-01 10:02:51 :: Reader :: INFO     -> mslhfl: corrected dividing by accumulation time 3600 s\n",
      "2023-06-01 10:02:51 :: Reader :: INFO     -> Fixing slhf to mslhfl. Unit fix: factor=0.000278, offset=0.000000\n",
      "2023-06-01 10:02:51 :: Reader :: INFO     -> msshfl: J m**-2 --> W m**-2\n",
      "2023-06-01 10:02:51 :: Reader :: INFO     -> msshfl: corrected dividing by accumulation time 3600 s\n",
      "2023-06-01 10:02:51 :: Reader :: INFO     -> Fixing sshf to msshfl. Unit fix: factor=0.000278, offset=0.000000\n",
      "2023-06-01 10:02:51 :: Reader :: INFO     -> msnsrf: J m**-2 --> W m**-2\n",
      "2023-06-01 10:02:51 :: Reader :: INFO     -> msnsrf: corrected dividing by accumulation time 3600 s\n",
      "2023-06-01 10:02:51 :: Reader :: INFO     -> Fixing ssr to msnsrf. Unit fix: factor=0.000278, offset=0.000000\n",
      "2023-06-01 10:02:51 :: Reader :: INFO     -> msdsrf: J m**-2 --> W m**-2\n",
      "2023-06-01 10:02:51 :: Reader :: INFO     -> msdsrf: corrected dividing by accumulation time 3600 s\n",
      "2023-06-01 10:02:51 :: Reader :: INFO     -> Fixing ssrd to msdsrf. Unit fix: factor=0.000278, offset=0.000000\n",
      "2023-06-01 10:02:51 :: Reader :: INFO     -> msntrf: J m**-2 --> W m**-2\n",
      "2023-06-01 10:02:51 :: Reader :: INFO     -> msntrf: corrected dividing by accumulation time 3600 s\n",
      "2023-06-01 10:02:51 :: Reader :: INFO     -> Fixing str to msntrf. Unit fix: factor=0.000278, offset=0.000000\n",
      "2023-06-01 10:02:51 :: Reader :: INFO     -> msdtrf: J m**-2 --> W m**-2\n",
      "2023-06-01 10:02:51 :: Reader :: INFO     -> msdtrf: corrected dividing by accumulation time 3600 s\n",
      "2023-06-01 10:02:51 :: Reader :: INFO     -> Fixing strd to msdtrf. Unit fix: factor=0.000278, offset=0.000000\n",
      "2023-06-01 10:02:51 :: Reader :: INFO     -> mtnsrf: J m**-2 --> W m**-2\n",
      "2023-06-01 10:02:51 :: Reader :: INFO     -> mtnsrf: corrected dividing by accumulation time 3600 s\n",
      "2023-06-01 10:02:51 :: Reader :: INFO     -> Fixing tsr to mtnsrf. Unit fix: factor=0.000278, offset=0.000000\n",
      "2023-06-01 10:02:51 :: Reader :: INFO     -> mtntrf: J m**-2 --> W m**-2\n",
      "2023-06-01 10:02:51 :: Reader :: INFO     -> mtntrf: corrected dividing by accumulation time 3600 s\n",
      "2023-06-01 10:02:51 :: Reader :: INFO     -> Fixing ttr to mtntrf. Unit fix: factor=0.000278, offset=0.000000\n",
      "2023-06-01 10:02:51 :: Reader :: INFO     -> var172045: m of water equivalent --> m of water s**-1\n",
      "2023-06-01 10:02:51 :: Reader :: INFO     -> var172045: corrected dividing by accumulation time 3600 s\n",
      "2023-06-01 10:02:51 :: Reader :: INFO     -> Fixing smlt to var172045. Unit fix: factor=0.000278, offset=0.000000\n",
      "2023-06-01 10:02:56 :: Reader :: INFO     -> Data model: ../../config/data_models/ifs2cds.json\n",
      "2023-06-01 10:02:57 :: opa_generator :: INFO     -> start_date: 2020-01-20T00:00:00.000000000 stop_date: 2020-01-24T23:00:00.000000000\n",
      "2023-06-01 10:02:57 :: opa_generator :: INFO     -> start_date: 2020-01-25T00:00:00.000000000 stop_date: 2020-01-29T23:00:00.000000000\n",
      "2023-06-01 10:02:57 :: opa_generator :: INFO     -> start_date: 2020-01-30T00:00:00.000000000 stop_date: 2020-02-03T23:00:00.000000000\n",
      "2023-06-01 10:02:58 :: opa_generator :: INFO     -> start_date: 2020-02-04T00:00:00.000000000 stop_date: 2020-02-08T23:00:00.000000000\n",
      "2023-06-01 10:02:59 :: opa_generator :: INFO     -> start_date: 2020-02-09T00:00:00.000000000 stop_date: 2020-02-13T23:00:00.000000000\n",
      "2023-06-01 10:02:59 :: opa_generator :: INFO     -> start_date: 2020-02-14T00:00:00.000000000 stop_date: 2020-02-18T23:00:00.000000000\n",
      "2023-06-01 10:02:59 :: opa_generator :: INFO     -> start_date: 2020-02-19T00:00:00.000000000 stop_date: 2020-02-23T23:00:00.000000000\n",
      "2023-06-01 10:03:00 :: opa_generator :: INFO     -> start_date: 2020-02-24T00:00:00.000000000 stop_date: 2020-02-28T23:00:00.000000000\n",
      "2023-06-01 10:03:00 :: opa_generator :: INFO     -> start_date: 2020-02-29T00:00:00.000000000 stop_date: 2020-03-04T23:00:00.000000000\n",
      "2023-06-01 10:03:01 :: opa_generator :: INFO     -> start_date: 2020-03-05T00:00:00.000000000 stop_date: 2020-03-09T23:00:00.000000000\n",
      "2023-06-01 10:03:01 :: opa_generator :: INFO     -> start_date: 2020-03-10T00:00:00.000000000 stop_date: 2020-03-14T23:00:00.000000000\n",
      "2023-06-01 10:03:02 :: opa_generator :: INFO     -> start_date: 2020-03-15T00:00:00.000000000 stop_date: 2020-03-19T23:00:00.000000000\n",
      "2023-06-01 10:03:02 :: opa_generator :: INFO     -> start_date: 2020-03-20T00:00:00.000000000 stop_date: 2020-03-24T23:00:00.000000000\n",
      "2023-06-01 10:03:03 :: opa_generator :: INFO     -> start_date: 2020-03-25T00:00:00.000000000 stop_date: 2020-03-29T23:00:00.000000000\n",
      "2023-06-01 10:03:03 :: opa_generator :: INFO     -> start_date: 2020-03-30T00:00:00.000000000 stop_date: 2020-04-03T23:00:00.000000000\n",
      "2023-06-01 10:03:04 :: opa_generator :: INFO     -> start_date: 2020-04-04T00:00:00.000000000 stop_date: 2020-04-08T23:00:00.000000000\n",
      "2023-06-01 10:03:04 :: opa_generator :: INFO     -> start_date: 2020-04-09T00:00:00.000000000 stop_date: 2020-04-13T23:00:00.000000000\n",
      "2023-06-01 10:03:05 :: opa_generator :: INFO     -> start_date: 2020-04-14T00:00:00.000000000 stop_date: 2020-04-18T23:00:00.000000000\n",
      "2023-06-01 10:03:05 :: opa_generator :: INFO     -> start_date: 2020-04-19T00:00:00.000000000 stop_date: 2020-04-23T23:00:00.000000000\n",
      "2023-06-01 10:03:05 :: opa_generator :: INFO     -> start_date: 2020-04-24T00:00:00.000000000 stop_date: 2020-04-28T23:00:00.000000000\n",
      "2023-06-01 10:03:06 :: opa_generator :: INFO     -> start_date: 2020-04-29T00:00:00.000000000 stop_date: 2020-05-03T23:00:00.000000000\n",
      "2023-06-01 10:03:07 :: opa_generator :: INFO     -> start_date: 2020-05-04T00:00:00.000000000 stop_date: 2020-05-08T23:00:00.000000000\n",
      "2023-06-01 10:03:07 :: opa_generator :: INFO     -> start_date: 2020-05-09T00:00:00.000000000 stop_date: 2020-05-13T23:00:00.000000000\n",
      "2023-06-01 10:03:07 :: opa_generator :: INFO     -> start_date: 2020-05-14T00:00:00.000000000 stop_date: 2020-05-18T23:00:00.000000000\n",
      "2023-06-01 10:03:08 :: opa_generator :: INFO     -> start_date: 2020-05-19T00:00:00.000000000 stop_date: 2020-05-23T23:00:00.000000000\n",
      "2023-06-01 10:03:08 :: opa_generator :: INFO     -> start_date: 2020-05-24T00:00:00.000000000 stop_date: 2020-05-28T23:00:00.000000000\n",
      "2023-06-01 10:03:09 :: opa_generator :: INFO     -> start_date: 2020-05-29T00:00:00.000000000 stop_date: 2020-06-02T23:00:00.000000000\n",
      "2023-06-01 10:03:09 :: opa_generator :: INFO     -> start_date: 2020-06-03T00:00:00.000000000 stop_date: 2020-06-07T23:00:00.000000000\n",
      "2023-06-01 10:03:10 :: opa_generator :: INFO     -> start_date: 2020-06-08T00:00:00.000000000 stop_date: 2020-06-12T23:00:00.000000000\n",
      "2023-06-01 10:03:10 :: opa_generator :: INFO     -> start_date: 2020-06-13T00:00:00.000000000 stop_date: 2020-06-17T23:00:00.000000000\n",
      "2023-06-01 10:03:10 :: opa_generator :: INFO     -> start_date: 2020-06-18T00:00:00.000000000 stop_date: 2020-06-22T23:00:00.000000000\n",
      "2023-06-01 10:03:11 :: opa_generator :: INFO     -> start_date: 2020-06-23T00:00:00.000000000 stop_date: 2020-06-27T23:00:00.000000000\n",
      "2023-06-01 10:03:11 :: opa_generator :: INFO     -> start_date: 2020-06-28T00:00:00.000000000 stop_date: 2020-07-02T23:00:00.000000000\n",
      "2023-06-01 10:03:11 :: opa_generator :: INFO     -> start_date: 2020-07-03T00:00:00.000000000 stop_date: 2020-07-07T23:00:00.000000000\n",
      "2023-06-01 10:03:12 :: opa_generator :: INFO     -> start_date: 2020-07-08T00:00:00.000000000 stop_date: 2020-07-12T23:00:00.000000000\n",
      "2023-06-01 10:03:12 :: opa_generator :: INFO     -> start_date: 2020-07-13T00:00:00.000000000 stop_date: 2020-07-17T23:00:00.000000000\n",
      "2023-06-01 10:03:13 :: opa_generator :: INFO     -> start_date: 2020-07-18T00:00:00.000000000 stop_date: 2020-07-22T23:00:00.000000000\n",
      "2023-06-01 10:03:13 :: opa_generator :: INFO     -> start_date: 2020-07-23T00:00:00.000000000 stop_date: 2020-07-27T23:00:00.000000000\n",
      "2023-06-01 10:03:14 :: opa_generator :: INFO     -> start_date: 2020-07-28T00:00:00.000000000 stop_date: 2020-08-01T23:00:00.000000000\n",
      "2023-06-01 10:03:14 :: opa_generator :: INFO     -> start_date: 2020-08-02T00:00:00.000000000 stop_date: 2020-08-06T23:00:00.000000000\n",
      "2023-06-01 10:03:15 :: opa_generator :: INFO     -> start_date: 2020-08-07T00:00:00.000000000 stop_date: 2020-08-11T23:00:00.000000000\n",
      "2023-06-01 10:03:15 :: opa_generator :: INFO     -> start_date: 2020-08-12T00:00:00.000000000 stop_date: 2020-08-16T23:00:00.000000000\n",
      "2023-06-01 10:03:16 :: opa_generator :: INFO     -> start_date: 2020-08-17T00:00:00.000000000 stop_date: 2020-08-21T23:00:00.000000000\n",
      "2023-06-01 10:03:16 :: opa_generator :: INFO     -> start_date: 2020-08-22T00:00:00.000000000 stop_date: 2020-08-26T23:00:00.000000000\n",
      "2023-06-01 10:03:16 :: opa_generator :: INFO     -> start_date: 2020-08-27T00:00:00.000000000 stop_date: 2020-08-31T23:00:00.000000000\n",
      "2023-06-01 10:03:17 :: opa_generator :: INFO     -> start_date: 2020-09-01T00:00:00.000000000 stop_date: 2020-09-05T23:00:00.000000000\n",
      "2023-06-01 10:03:17 :: opa_generator :: INFO     -> start_date: 2020-09-06T00:00:00.000000000 stop_date: 2020-09-10T23:00:00.000000000\n",
      "2023-06-01 10:03:18 :: opa_generator :: INFO     -> start_date: 2020-09-11T00:00:00.000000000 stop_date: 2020-09-15T23:00:00.000000000\n",
      "2023-06-01 10:03:18 :: opa_generator :: INFO     -> start_date: 2020-09-16T00:00:00.000000000 stop_date: 2020-09-20T23:00:00.000000000\n",
      "2023-06-01 10:03:19 :: opa_generator :: INFO     -> start_date: 2020-09-21T00:00:00.000000000 stop_date: 2020-09-25T23:00:00.000000000\n",
      "2023-06-01 10:03:19 :: opa_generator :: INFO     -> start_date: 2020-09-26T00:00:00.000000000 stop_date: 2020-09-30T23:00:00.000000000\n",
      "2023-06-01 10:03:19 :: opa_generator :: INFO     -> start_date: 2020-10-01T00:00:00.000000000 stop_date: 2020-10-05T23:00:00.000000000\n",
      "2023-06-01 10:03:20 :: opa_generator :: INFO     -> start_date: 2020-10-06T00:00:00.000000000 stop_date: 2020-10-10T23:00:00.000000000\n",
      "2023-06-01 10:03:20 :: opa_generator :: INFO     -> start_date: 2020-10-11T00:00:00.000000000 stop_date: 2020-10-15T23:00:00.000000000\n",
      "2023-06-01 10:03:21 :: opa_generator :: INFO     -> start_date: 2020-10-16T00:00:00.000000000 stop_date: 2020-10-20T23:00:00.000000000\n",
      "2023-06-01 10:03:21 :: opa_generator :: INFO     -> start_date: 2020-10-21T00:00:00.000000000 stop_date: 2020-10-25T23:00:00.000000000\n",
      "2023-06-01 10:03:21 :: opa_generator :: INFO     -> start_date: 2020-10-26T00:00:00.000000000 stop_date: 2020-10-30T23:00:00.000000000\n",
      "2023-06-01 10:03:22 :: opa_generator :: INFO     -> start_date: 2020-10-31T00:00:00.000000000 stop_date: 2020-11-04T23:00:00.000000000\n",
      "2023-06-01 10:03:22 :: opa_generator :: INFO     -> start_date: 2020-11-05T00:00:00.000000000 stop_date: 2020-11-09T23:00:00.000000000\n",
      "2023-06-01 10:03:23 :: opa_generator :: INFO     -> start_date: 2020-11-10T00:00:00.000000000 stop_date: 2020-11-14T23:00:00.000000000\n",
      "2023-06-01 10:03:23 :: opa_generator :: INFO     -> start_date: 2020-11-15T00:00:00.000000000 stop_date: 2020-11-19T23:00:00.000000000\n",
      "2023-06-01 10:03:24 :: opa_generator :: INFO     -> start_date: 2020-11-20T00:00:00.000000000 stop_date: 2020-11-24T23:00:00.000000000\n",
      "2023-06-01 10:03:24 :: opa_generator :: INFO     -> start_date: 2020-11-25T00:00:00.000000000 stop_date: 2020-11-29T23:00:00.000000000\n",
      "2023-06-01 10:03:24 :: opa_generator :: INFO     -> start_date: 2020-11-30T00:00:00.000000000 stop_date: 2020-12-04T23:00:00.000000000\n",
      "2023-06-01 10:03:25 :: opa_generator :: INFO     -> start_date: 2020-12-05T00:00:00.000000000 stop_date: 2020-12-09T23:00:00.000000000\n",
      "2023-06-01 10:03:26 :: opa_generator :: INFO     -> start_date: 2020-12-10T00:00:00.000000000 stop_date: 2020-12-14T23:00:00.000000000\n",
      "2023-06-01 10:03:26 :: opa_generator :: INFO     -> start_date: 2020-12-15T00:00:00.000000000 stop_date: 2020-12-19T23:00:00.000000000\n",
      "2023-06-01 10:03:26 :: opa_generator :: INFO     -> start_date: 2020-12-20T00:00:00.000000000 stop_date: 2020-12-24T23:00:00.000000000\n",
      "2023-06-01 10:03:27 :: opa_generator :: INFO     -> start_date: 2020-12-25T00:00:00.000000000 stop_date: 2020-12-29T23:00:00.000000000\n",
      "2023-06-01 10:03:27 :: opa_generator :: INFO     -> start_date: 2020-12-30T00:00:00.000000000 stop_date: 2021-01-01T00:00:00.000000000\n"
     ]
    }
   ],
   "source": [
    "opaopa.generate_opa()"
   ]
  },
  {
   "attachments": {},
   "cell_type": "markdown",
   "metadata": {},
   "source": [
    "You can then add an entry to the catalog so that you can access these data from somewhere else."
   ]
  },
  {
   "cell_type": "code",
   "execution_count": null,
   "metadata": {},
   "outputs": [],
   "source": [
    "opaopa.create_catalog_entry()"
   ]
  },
  {
   "cell_type": "code",
   "execution_count": null,
   "metadata": {},
   "outputs": [],
   "source": [
    "from aqua import Reader\n",
    "reader = Reader(model=\"IFS\", exp=\"tco2559-ng5\", source=\"tmp-opa-daily\", areas=False)"
   ]
  },
  {
   "attachments": {},
   "cell_type": "markdown",
   "metadata": {},
   "source": [
    "Remember that in order to really access and work with data, a run with `definitive` set to `True` is needed."
   ]
  },
  {
   "attachments": {},
   "cell_type": "markdown",
   "metadata": {},
   "source": [
    "The following command removes the entries (and in the future also the files), once all the computation have been safely concluded"
   ]
  },
  {
   "cell_type": "code",
   "execution_count": null,
   "metadata": {},
   "outputs": [],
   "source": [
    "opaopa.clean()"
   ]
  }
 ],
 "metadata": {
  "kernelspec": {
   "display_name": "aqua",
   "language": "python",
   "name": "python3"
  },
  "language_info": {
   "codemirror_mode": {
    "name": "ipython",
    "version": 3
   },
   "file_extension": ".py",
   "mimetype": "text/x-python",
   "name": "python",
   "nbconvert_exporter": "python",
   "pygments_lexer": "ipython3",
   "version": "3.10.11"
  },
  "orig_nbformat": 4
 },
 "nbformat": 4,
 "nbformat_minor": 2
}
