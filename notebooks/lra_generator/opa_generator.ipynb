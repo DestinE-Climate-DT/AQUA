{
 "cells": [
  {
   "attachments": {},
   "cell_type": "markdown",
   "metadata": {},
   "source": [
    "## A wrapper for OPA within AQUA"
   ]
  },
  {
   "cell_type": "code",
   "execution_count": 1,
   "metadata": {},
   "outputs": [],
   "source": [
    "from aqua import OPAgenerator"
   ]
  },
  {
   "attachments": {},
   "cell_type": "markdown",
   "metadata": {},
   "source": [
    "Initialize the OPA generator class, feeding it with the most of the information you need. Which variable, which model source and where to store the data.  Please change the outdir if you want to try this notebook!"
   ]
  },
  {
   "cell_type": "code",
   "execution_count": 8,
   "metadata": {},
   "outputs": [],
   "source": [
    "model = 'IFS'\n",
    "exp = 'tco2559-ng5'\n",
    "source = 'ICMGG_atm2d'\n",
    "outdir = '/home/b/b382321/scratch/one_pass'\n",
    "tmpdir = '/home/b/b382321/scratch/one_pass'"
   ]
  },
  {
   "cell_type": "code",
   "execution_count": 15,
   "metadata": {},
   "outputs": [
    {
     "name": "stderr",
     "output_type": "stream",
     "text": [
      "2023-05-17 16:13:25 :: opa_generator :: WARNING  -> IMPORTANT: no file will be created, this is a dry run\n",
      "2023-05-17 16:13:25 :: opa_generator :: WARNING  -> Variable(s) to be processed: 2t\n",
      "2023-05-17 16:13:25 :: create_folder :: WARNING  -> Folder /home/b/b382321/scratch/one_pass/IFS/tco2559-ng5/daily already exists\n",
      "2023-05-17 16:13:25 :: create_folder :: WARNING  -> Folder /home/b/b382321/scratch/one_pass already exists\n"
     ]
    }
   ],
   "source": [
    "opaopa = OPAgenerator(model=model, exp=exp, source=source, var='2t', frequency='daily',\n",
    "            outdir=outdir, tmpdir=tmpdir, definitive=False, loglevel ='INFO')\n"
   ]
  },
  {
   "attachments": {},
   "cell_type": "markdown",
   "metadata": {},
   "source": [
    "Then you can retrieve the data using the `Reader`. This is based on a streaming generator so far since we are using data from NextGEMS, will be later replaced with direct access from `FDB`. It also gave a look at the data so that it can infer the timedelta"
   ]
  },
  {
   "cell_type": "code",
   "execution_count": 16,
   "metadata": {},
   "outputs": [
    {
     "name": "stderr",
     "output_type": "stream",
     "text": [
      "2023-05-17 16:13:27 :: opa_generator :: INFO     -> Accessing catalog for IFS-tco2559-ng5-ICMGG_atm2d...\n",
      "2023-05-17 16:13:27 :: opa_generator :: INFO     -> Getting the timedelta to inform the OPA...\n",
      "2023-05-17 16:13:28 :: Reader :: INFO     -> tprate: m --> m s**-1\n",
      "2023-05-17 16:13:28 :: Reader :: INFO     -> tprate: corrected dividing by accumulation time 3600 s\n",
      "2023-05-17 16:13:28 :: Reader :: INFO     -> Fixing tp to tprate. Unit fix: factor=0.000278, offset=0.000000\n",
      "2023-05-17 16:13:28 :: Reader :: INFO     -> Grib attributes for cprate: {'paramId': '172143', 'long_name': 'Mean convective precipitation rate', 'units': 'm s**-1', 'cfVarName': 'cprate', 'shortName': 'cprate'}\n",
      "2023-05-17 16:13:28 :: Reader :: INFO     -> var172143: m --> m s**-1\n",
      "2023-05-17 16:13:28 :: Reader :: INFO     -> var172143: corrected dividing by accumulation time 3600 s\n",
      "2023-05-17 16:13:28 :: Reader :: INFO     -> Fixing cp to var172143. Unit fix: factor=0.000278, offset=0.000000\n",
      "2023-05-17 16:13:28 :: Reader :: INFO     -> mlsprt: m --> m s**-1\n",
      "2023-05-17 16:13:28 :: Reader :: INFO     -> mlsprt: corrected dividing by accumulation time 3600 s\n",
      "2023-05-17 16:13:28 :: Reader :: INFO     -> Fixing lsp to mlsprt. Unit fix: factor=0.000278, offset=0.000000\n",
      "2023-05-17 16:13:28 :: Reader :: INFO     -> erate: m --> m of water s**-1\n",
      "2023-05-17 16:13:28 :: Reader :: INFO     -> erate: corrected dividing by accumulation time 3600 s\n",
      "2023-05-17 16:13:28 :: Reader :: INFO     -> Fixing e to erate. Unit fix: factor=0.000278, offset=0.000000\n",
      "2023-05-17 16:13:28 :: Reader :: INFO     -> esrate: m of water equivalent --> m of water s**-1\n",
      "2023-05-17 16:13:28 :: Reader :: INFO     -> esrate: corrected dividing by accumulation time 3600 s\n",
      "2023-05-17 16:13:28 :: Reader :: INFO     -> Fixing es to esrate. Unit fix: factor=0.000278, offset=0.000000\n",
      "2023-05-17 16:13:28 :: Reader :: INFO     -> mrort: m --> m s**-1\n",
      "2023-05-17 16:13:28 :: Reader :: INFO     -> mrort: corrected dividing by accumulation time 3600 s\n",
      "2023-05-17 16:13:28 :: Reader :: INFO     -> Fixing ro to mrort. Unit fix: factor=0.000278, offset=0.000000\n",
      "2023-05-17 16:13:28 :: Reader :: INFO     -> mtsfr: m of water equivalent --> m of water equivalent s**-1\n",
      "2023-05-17 16:13:28 :: Reader :: INFO     -> mtsfr: corrected dividing by accumulation time 3600 s\n",
      "2023-05-17 16:13:28 :: Reader :: INFO     -> Fixing sf to mtsfr. Unit fix: factor=0.000278, offset=0.000000\n",
      "2023-05-17 16:13:28 :: Reader :: INFO     -> mslhfl: J m**-2 --> W m**-2\n",
      "2023-05-17 16:13:28 :: Reader :: INFO     -> mslhfl: corrected dividing by accumulation time 3600 s\n",
      "2023-05-17 16:13:28 :: Reader :: INFO     -> Fixing slhf to mslhfl. Unit fix: factor=0.000278, offset=0.000000\n",
      "2023-05-17 16:13:28 :: Reader :: INFO     -> msshfl: J m**-2 --> W m**-2\n",
      "2023-05-17 16:13:28 :: Reader :: INFO     -> msshfl: corrected dividing by accumulation time 3600 s\n",
      "2023-05-17 16:13:28 :: Reader :: INFO     -> Fixing sshf to msshfl. Unit fix: factor=0.000278, offset=0.000000\n",
      "2023-05-17 16:13:28 :: Reader :: INFO     -> msnsrf: J m**-2 --> W m**-2\n",
      "2023-05-17 16:13:28 :: Reader :: INFO     -> msnsrf: corrected dividing by accumulation time 3600 s\n",
      "2023-05-17 16:13:28 :: Reader :: INFO     -> Fixing ssr to msnsrf. Unit fix: factor=0.000278, offset=0.000000\n",
      "2023-05-17 16:13:28 :: Reader :: INFO     -> msdsrf: J m**-2 --> W m**-2\n",
      "2023-05-17 16:13:28 :: Reader :: INFO     -> msdsrf: corrected dividing by accumulation time 3600 s\n",
      "2023-05-17 16:13:28 :: Reader :: INFO     -> Fixing ssrd to msdsrf. Unit fix: factor=0.000278, offset=0.000000\n",
      "2023-05-17 16:13:28 :: Reader :: INFO     -> msntrf: J m**-2 --> W m**-2\n",
      "2023-05-17 16:13:28 :: Reader :: INFO     -> msntrf: corrected dividing by accumulation time 3600 s\n",
      "2023-05-17 16:13:28 :: Reader :: INFO     -> Fixing str to msntrf. Unit fix: factor=0.000278, offset=0.000000\n",
      "2023-05-17 16:13:28 :: Reader :: INFO     -> msdtrf: J m**-2 --> W m**-2\n",
      "2023-05-17 16:13:28 :: Reader :: INFO     -> msdtrf: corrected dividing by accumulation time 3600 s\n",
      "2023-05-17 16:13:28 :: Reader :: INFO     -> Fixing strd to msdtrf. Unit fix: factor=0.000278, offset=0.000000\n",
      "2023-05-17 16:13:28 :: Reader :: INFO     -> mtnsrf: J m**-2 --> W m**-2\n",
      "2023-05-17 16:13:28 :: Reader :: INFO     -> mtnsrf: corrected dividing by accumulation time 3600 s\n",
      "2023-05-17 16:13:28 :: Reader :: INFO     -> Fixing tsr to mtnsrf. Unit fix: factor=0.000278, offset=0.000000\n",
      "2023-05-17 16:13:28 :: Reader :: INFO     -> mtntrf: J m**-2 --> W m**-2\n",
      "2023-05-17 16:13:28 :: Reader :: INFO     -> mtntrf: corrected dividing by accumulation time 3600 s\n",
      "2023-05-17 16:13:28 :: Reader :: INFO     -> Fixing ttr to mtntrf. Unit fix: factor=0.000278, offset=0.000000\n",
      "2023-05-17 16:13:28 :: Reader :: INFO     -> var172045: m of water equivalent --> m of water s**-1\n",
      "2023-05-17 16:13:28 :: Reader :: INFO     -> var172045: corrected dividing by accumulation time 3600 s\n",
      "2023-05-17 16:13:28 :: Reader :: INFO     -> Fixing smlt to var172045. Unit fix: factor=0.000278, offset=0.000000\n",
      "2023-05-17 16:13:48 :: Reader :: INFO     -> Data model: ../../config/data_models/ifs2cds.json\n",
      "2023-05-17 16:13:48 :: opa_generator :: INFO     -> Timedelta is 60\n"
     ]
    }
   ],
   "source": [
    "opaopa.retrieve()"
   ]
  },
  {
   "attachments": {},
   "cell_type": "markdown",
   "metadata": {},
   "source": [
    "This will launch the OPA computation, if the `definitive` flag is `true` it will take ages and probably break the notebook. Otherwise print only the sequential access to the data from the `Reader`.\n",
    "Note that to print the sequential access the loglevel should be set to `INFO` or `DEBUG`."
   ]
  },
  {
   "cell_type": "code",
   "execution_count": 17,
   "metadata": {},
   "outputs": [
    {
     "name": "stderr",
     "output_type": "stream",
     "text": [
      "2023-05-17 16:13:53 :: opa_generator :: INFO     -> Dask is disabled...\n",
      "2023-05-17 16:13:53 :: opa_generator :: WARNING  -> Setting up OPA at daily frequency for variable 2t...\n",
      "2023-05-17 16:13:53 :: opa_generator :: WARNING  -> Initializing the OPA\n",
      "2023-05-17 16:13:53 :: opa_generator :: WARNING  -> Initializing the streaming generator...\n"
     ]
    },
    {
     "name": "stdout",
     "output_type": "stream",
     "text": [
      "{'stat': 'mean', 'stat_freq': 'daily', 'output_freq': 'monthly', 'time_step': 60, 'variable': '2t', 'save': True, 'checkpoint': True, 'checkpoint_filepath': '/home/b/b382321/scratch/one_pass', 'out_filepath': '/home/b/b382321/scratch/one_pass/IFS/tco2559-ng5/daily', 'checkpoint_file': '/home/b/b382321/scratch/one_pass/checkpoint_2t_daily_monthly_mean.pkl'}\n"
     ]
    },
    {
     "name": "stderr",
     "output_type": "stream",
     "text": [
      "2023-05-17 16:13:54 :: Reader :: INFO     -> tprate: m --> m s**-1\n",
      "2023-05-17 16:13:54 :: Reader :: INFO     -> tprate: corrected dividing by accumulation time 3600 s\n",
      "2023-05-17 16:13:54 :: Reader :: INFO     -> Fixing tp to tprate. Unit fix: factor=0.000278, offset=0.000000\n",
      "2023-05-17 16:13:54 :: Reader :: INFO     -> Grib attributes for cprate: {'paramId': '172143', 'long_name': 'Mean convective precipitation rate', 'units': 'm s**-1', 'cfVarName': 'cprate', 'shortName': 'cprate'}\n",
      "2023-05-17 16:13:54 :: Reader :: INFO     -> var172143: m --> m s**-1\n",
      "2023-05-17 16:13:54 :: Reader :: INFO     -> var172143: corrected dividing by accumulation time 3600 s\n",
      "2023-05-17 16:13:54 :: Reader :: INFO     -> Fixing cp to var172143. Unit fix: factor=0.000278, offset=0.000000\n",
      "2023-05-17 16:13:54 :: Reader :: INFO     -> mlsprt: m --> m s**-1\n",
      "2023-05-17 16:13:54 :: Reader :: INFO     -> mlsprt: corrected dividing by accumulation time 3600 s\n",
      "2023-05-17 16:13:54 :: Reader :: INFO     -> Fixing lsp to mlsprt. Unit fix: factor=0.000278, offset=0.000000\n",
      "2023-05-17 16:13:54 :: Reader :: INFO     -> erate: m --> m of water s**-1\n",
      "2023-05-17 16:13:54 :: Reader :: INFO     -> erate: corrected dividing by accumulation time 3600 s\n",
      "2023-05-17 16:13:54 :: Reader :: INFO     -> Fixing e to erate. Unit fix: factor=0.000278, offset=0.000000\n",
      "2023-05-17 16:13:54 :: Reader :: INFO     -> esrate: m of water equivalent --> m of water s**-1\n",
      "2023-05-17 16:13:54 :: Reader :: INFO     -> esrate: corrected dividing by accumulation time 3600 s\n",
      "2023-05-17 16:13:54 :: Reader :: INFO     -> Fixing es to esrate. Unit fix: factor=0.000278, offset=0.000000\n",
      "2023-05-17 16:13:54 :: Reader :: INFO     -> mrort: m --> m s**-1\n",
      "2023-05-17 16:13:54 :: Reader :: INFO     -> mrort: corrected dividing by accumulation time 3600 s\n",
      "2023-05-17 16:13:54 :: Reader :: INFO     -> Fixing ro to mrort. Unit fix: factor=0.000278, offset=0.000000\n",
      "2023-05-17 16:13:54 :: Reader :: INFO     -> mtsfr: m of water equivalent --> m of water equivalent s**-1\n",
      "2023-05-17 16:13:54 :: Reader :: INFO     -> mtsfr: corrected dividing by accumulation time 3600 s\n",
      "2023-05-17 16:13:54 :: Reader :: INFO     -> Fixing sf to mtsfr. Unit fix: factor=0.000278, offset=0.000000\n",
      "2023-05-17 16:13:54 :: Reader :: INFO     -> mslhfl: J m**-2 --> W m**-2\n",
      "2023-05-17 16:13:54 :: Reader :: INFO     -> mslhfl: corrected dividing by accumulation time 3600 s\n",
      "2023-05-17 16:13:54 :: Reader :: INFO     -> Fixing slhf to mslhfl. Unit fix: factor=0.000278, offset=0.000000\n",
      "2023-05-17 16:13:54 :: Reader :: INFO     -> msshfl: J m**-2 --> W m**-2\n",
      "2023-05-17 16:13:54 :: Reader :: INFO     -> msshfl: corrected dividing by accumulation time 3600 s\n",
      "2023-05-17 16:13:54 :: Reader :: INFO     -> Fixing sshf to msshfl. Unit fix: factor=0.000278, offset=0.000000\n",
      "2023-05-17 16:13:54 :: Reader :: INFO     -> msnsrf: J m**-2 --> W m**-2\n",
      "2023-05-17 16:13:54 :: Reader :: INFO     -> msnsrf: corrected dividing by accumulation time 3600 s\n",
      "2023-05-17 16:13:54 :: Reader :: INFO     -> Fixing ssr to msnsrf. Unit fix: factor=0.000278, offset=0.000000\n",
      "2023-05-17 16:13:54 :: Reader :: INFO     -> msdsrf: J m**-2 --> W m**-2\n",
      "2023-05-17 16:13:54 :: Reader :: INFO     -> msdsrf: corrected dividing by accumulation time 3600 s\n",
      "2023-05-17 16:13:54 :: Reader :: INFO     -> Fixing ssrd to msdsrf. Unit fix: factor=0.000278, offset=0.000000\n",
      "2023-05-17 16:13:54 :: Reader :: INFO     -> msntrf: J m**-2 --> W m**-2\n",
      "2023-05-17 16:13:54 :: Reader :: INFO     -> msntrf: corrected dividing by accumulation time 3600 s\n",
      "2023-05-17 16:13:54 :: Reader :: INFO     -> Fixing str to msntrf. Unit fix: factor=0.000278, offset=0.000000\n",
      "2023-05-17 16:13:54 :: Reader :: INFO     -> msdtrf: J m**-2 --> W m**-2\n",
      "2023-05-17 16:13:54 :: Reader :: INFO     -> msdtrf: corrected dividing by accumulation time 3600 s\n",
      "2023-05-17 16:13:54 :: Reader :: INFO     -> Fixing strd to msdtrf. Unit fix: factor=0.000278, offset=0.000000\n",
      "2023-05-17 16:13:54 :: Reader :: INFO     -> mtnsrf: J m**-2 --> W m**-2\n",
      "2023-05-17 16:13:54 :: Reader :: INFO     -> mtnsrf: corrected dividing by accumulation time 3600 s\n",
      "2023-05-17 16:13:54 :: Reader :: INFO     -> Fixing tsr to mtnsrf. Unit fix: factor=0.000278, offset=0.000000\n",
      "2023-05-17 16:13:54 :: Reader :: INFO     -> mtntrf: J m**-2 --> W m**-2\n",
      "2023-05-17 16:13:54 :: Reader :: INFO     -> mtntrf: corrected dividing by accumulation time 3600 s\n",
      "2023-05-17 16:13:54 :: Reader :: INFO     -> Fixing ttr to mtntrf. Unit fix: factor=0.000278, offset=0.000000\n",
      "2023-05-17 16:13:54 :: Reader :: INFO     -> var172045: m of water equivalent --> m of water s**-1\n",
      "2023-05-17 16:13:54 :: Reader :: INFO     -> var172045: corrected dividing by accumulation time 3600 s\n",
      "2023-05-17 16:13:54 :: Reader :: INFO     -> Fixing smlt to var172045. Unit fix: factor=0.000278, offset=0.000000\n",
      "2023-05-17 16:13:59 :: Reader :: INFO     -> Data model: ../../config/data_models/ifs2cds.json\n",
      "2023-05-17 16:13:59 :: opa_generator :: INFO     -> start_date: 2020-01-20T00:00:00.000000000 stop_date: 2020-01-20T23:00:00.000000000\n",
      "2023-05-17 16:14:20 :: opa_generator :: INFO     -> start_date: 2020-01-21T00:00:00.000000000 stop_date: 2020-01-21T23:00:00.000000000\n"
     ]
    },
    {
     "ename": "KeyboardInterrupt",
     "evalue": "",
     "output_type": "error",
     "traceback": [
      "\u001b[0;31m---------------------------------------------------------------------------\u001b[0m",
      "\u001b[0;31mKeyboardInterrupt\u001b[0m                         Traceback (most recent call last)",
      "Cell \u001b[0;32mIn[17], line 1\u001b[0m\n\u001b[0;32m----> 1\u001b[0m opaopa\u001b[39m.\u001b[39;49mgenerate_opa()\n",
      "File \u001b[0;32m~/test_notebook/AQUA/aqua/lra_generator/opa_generator.py:180\u001b[0m, in \u001b[0;36mOPAgenerator.generate_opa\u001b[0;34m(self)\u001b[0m\n\u001b[1;32m    178\u001b[0m \u001b[39mfor\u001b[39;00m data \u001b[39min\u001b[39;00m data_gen:\n\u001b[1;32m    179\u001b[0m     \u001b[39mself\u001b[39m\u001b[39m.\u001b[39mlogger\u001b[39m.\u001b[39minfo(\u001b[39mf\u001b[39m\u001b[39m\"\u001b[39m\u001b[39mstart_date: \u001b[39m\u001b[39m{\u001b[39;00mdata\u001b[39m.\u001b[39mtime[\u001b[39m0\u001b[39m]\u001b[39m.\u001b[39mvalues\u001b[39m}\u001b[39;00m\u001b[39m stop_date: \u001b[39m\u001b[39m{\u001b[39;00mdata\u001b[39m.\u001b[39mtime[\u001b[39m-\u001b[39m\u001b[39m1\u001b[39m]\u001b[39m.\u001b[39mvalues\u001b[39m}\u001b[39;00m\u001b[39m\"\u001b[39m)\n\u001b[0;32m--> 180\u001b[0m     vardata \u001b[39m=\u001b[39m data[variable]\u001b[39m.\u001b[39;49mload()\n\u001b[1;32m    181\u001b[0m     \u001b[39mif\u001b[39;00m \u001b[39mself\u001b[39m\u001b[39m.\u001b[39mdefinitive:\n\u001b[1;32m    182\u001b[0m         opa_mean\u001b[39m.\u001b[39mcompute(vardata)\n",
      "File \u001b[0;32m/work/bb1153/b382321/mambaforge/envs/aqua/lib/python3.10/site-packages/xarray/core/dataarray.py:1070\u001b[0m, in \u001b[0;36mDataArray.load\u001b[0;34m(self, **kwargs)\u001b[0m\n\u001b[1;32m   1052\u001b[0m \u001b[39mdef\u001b[39;00m \u001b[39mload\u001b[39m(\u001b[39mself\u001b[39m: T_DataArray, \u001b[39m*\u001b[39m\u001b[39m*\u001b[39mkwargs) \u001b[39m-\u001b[39m\u001b[39m>\u001b[39m T_DataArray:\n\u001b[1;32m   1053\u001b[0m \u001b[39m    \u001b[39m\u001b[39m\"\"\"Manually trigger loading of this array's data from disk or a\u001b[39;00m\n\u001b[1;32m   1054\u001b[0m \u001b[39m    remote source into memory and return this array.\u001b[39;00m\n\u001b[1;32m   1055\u001b[0m \n\u001b[0;32m   (...)\u001b[0m\n\u001b[1;32m   1068\u001b[0m \u001b[39m    dask.compute\u001b[39;00m\n\u001b[1;32m   1069\u001b[0m \u001b[39m    \"\"\"\u001b[39;00m\n\u001b[0;32m-> 1070\u001b[0m     ds \u001b[39m=\u001b[39m \u001b[39mself\u001b[39;49m\u001b[39m.\u001b[39;49m_to_temp_dataset()\u001b[39m.\u001b[39;49mload(\u001b[39m*\u001b[39;49m\u001b[39m*\u001b[39;49mkwargs)\n\u001b[1;32m   1071\u001b[0m     new \u001b[39m=\u001b[39m \u001b[39mself\u001b[39m\u001b[39m.\u001b[39m_from_temp_dataset(ds)\n\u001b[1;32m   1072\u001b[0m     \u001b[39mself\u001b[39m\u001b[39m.\u001b[39m_variable \u001b[39m=\u001b[39m new\u001b[39m.\u001b[39m_variable\n",
      "File \u001b[0;32m/work/bb1153/b382321/mambaforge/envs/aqua/lib/python3.10/site-packages/xarray/core/dataset.py:752\u001b[0m, in \u001b[0;36mDataset.load\u001b[0;34m(self, **kwargs)\u001b[0m\n\u001b[1;32m    749\u001b[0m \u001b[39mimport\u001b[39;00m \u001b[39mdask\u001b[39;00m\u001b[39m.\u001b[39;00m\u001b[39marray\u001b[39;00m \u001b[39mas\u001b[39;00m \u001b[39mda\u001b[39;00m\n\u001b[1;32m    751\u001b[0m \u001b[39m# evaluate all the dask arrays simultaneously\u001b[39;00m\n\u001b[0;32m--> 752\u001b[0m evaluated_data \u001b[39m=\u001b[39m da\u001b[39m.\u001b[39;49mcompute(\u001b[39m*\u001b[39;49mlazy_data\u001b[39m.\u001b[39;49mvalues(), \u001b[39m*\u001b[39;49m\u001b[39m*\u001b[39;49mkwargs)\n\u001b[1;32m    754\u001b[0m \u001b[39mfor\u001b[39;00m k, data \u001b[39min\u001b[39;00m \u001b[39mzip\u001b[39m(lazy_data, evaluated_data):\n\u001b[1;32m    755\u001b[0m     \u001b[39mself\u001b[39m\u001b[39m.\u001b[39mvariables[k]\u001b[39m.\u001b[39mdata \u001b[39m=\u001b[39m data\n",
      "File \u001b[0;32m/work/bb1153/b382321/mambaforge/envs/aqua/lib/python3.10/site-packages/dask/base.py:599\u001b[0m, in \u001b[0;36mcompute\u001b[0;34m(traverse, optimize_graph, scheduler, get, *args, **kwargs)\u001b[0m\n\u001b[1;32m    596\u001b[0m     keys\u001b[39m.\u001b[39mappend(x\u001b[39m.\u001b[39m__dask_keys__())\n\u001b[1;32m    597\u001b[0m     postcomputes\u001b[39m.\u001b[39mappend(x\u001b[39m.\u001b[39m__dask_postcompute__())\n\u001b[0;32m--> 599\u001b[0m results \u001b[39m=\u001b[39m schedule(dsk, keys, \u001b[39m*\u001b[39;49m\u001b[39m*\u001b[39;49mkwargs)\n\u001b[1;32m    600\u001b[0m \u001b[39mreturn\u001b[39;00m repack([f(r, \u001b[39m*\u001b[39ma) \u001b[39mfor\u001b[39;00m r, (f, a) \u001b[39min\u001b[39;00m \u001b[39mzip\u001b[39m(results, postcomputes)])\n",
      "File \u001b[0;32m/work/bb1153/b382321/mambaforge/envs/aqua/lib/python3.10/site-packages/dask/local.py:557\u001b[0m, in \u001b[0;36mget_sync\u001b[0;34m(dsk, keys, **kwargs)\u001b[0m\n\u001b[1;32m    552\u001b[0m \u001b[39m\u001b[39m\u001b[39m\"\"\"A naive synchronous version of get_async\u001b[39;00m\n\u001b[1;32m    553\u001b[0m \n\u001b[1;32m    554\u001b[0m \u001b[39mCan be useful for debugging.\u001b[39;00m\n\u001b[1;32m    555\u001b[0m \u001b[39m\"\"\"\u001b[39;00m\n\u001b[1;32m    556\u001b[0m kwargs\u001b[39m.\u001b[39mpop(\u001b[39m\"\u001b[39m\u001b[39mnum_workers\u001b[39m\u001b[39m\"\u001b[39m, \u001b[39mNone\u001b[39;00m)  \u001b[39m# if num_workers present, remove it\u001b[39;00m\n\u001b[0;32m--> 557\u001b[0m \u001b[39mreturn\u001b[39;00m get_async(\n\u001b[1;32m    558\u001b[0m     synchronous_executor\u001b[39m.\u001b[39;49msubmit,\n\u001b[1;32m    559\u001b[0m     synchronous_executor\u001b[39m.\u001b[39;49m_max_workers,\n\u001b[1;32m    560\u001b[0m     dsk,\n\u001b[1;32m    561\u001b[0m     keys,\n\u001b[1;32m    562\u001b[0m     \u001b[39m*\u001b[39;49m\u001b[39m*\u001b[39;49mkwargs,\n\u001b[1;32m    563\u001b[0m )\n",
      "File \u001b[0;32m/work/bb1153/b382321/mambaforge/envs/aqua/lib/python3.10/site-packages/dask/local.py:500\u001b[0m, in \u001b[0;36mget_async\u001b[0;34m(submit, num_workers, dsk, result, cache, get_id, rerun_exceptions_locally, pack_exception, raise_exception, callbacks, dumps, loads, chunksize, **kwargs)\u001b[0m\n\u001b[1;32m    498\u001b[0m \u001b[39mwhile\u001b[39;00m state[\u001b[39m\"\u001b[39m\u001b[39mwaiting\u001b[39m\u001b[39m\"\u001b[39m] \u001b[39mor\u001b[39;00m state[\u001b[39m\"\u001b[39m\u001b[39mready\u001b[39m\u001b[39m\"\u001b[39m] \u001b[39mor\u001b[39;00m state[\u001b[39m\"\u001b[39m\u001b[39mrunning\u001b[39m\u001b[39m\"\u001b[39m]:\n\u001b[1;32m    499\u001b[0m     fire_tasks(chunksize)\n\u001b[0;32m--> 500\u001b[0m     \u001b[39mfor\u001b[39;00m key, res_info, failed \u001b[39min\u001b[39;00m queue_get(queue)\u001b[39m.\u001b[39;49mresult():\n\u001b[1;32m    501\u001b[0m         \u001b[39mif\u001b[39;00m failed:\n\u001b[1;32m    502\u001b[0m             exc, tb \u001b[39m=\u001b[39m loads(res_info)\n",
      "File \u001b[0;32m/work/bb1153/b382321/mambaforge/envs/aqua/lib/python3.10/concurrent/futures/_base.py:451\u001b[0m, in \u001b[0;36mFuture.result\u001b[0;34m(self, timeout)\u001b[0m\n\u001b[1;32m    449\u001b[0m     \u001b[39mraise\u001b[39;00m CancelledError()\n\u001b[1;32m    450\u001b[0m \u001b[39melif\u001b[39;00m \u001b[39mself\u001b[39m\u001b[39m.\u001b[39m_state \u001b[39m==\u001b[39m FINISHED:\n\u001b[0;32m--> 451\u001b[0m     \u001b[39mreturn\u001b[39;00m \u001b[39mself\u001b[39;49m\u001b[39m.\u001b[39;49m__get_result()\n\u001b[1;32m    453\u001b[0m \u001b[39mself\u001b[39m\u001b[39m.\u001b[39m_condition\u001b[39m.\u001b[39mwait(timeout)\n\u001b[1;32m    455\u001b[0m \u001b[39mif\u001b[39;00m \u001b[39mself\u001b[39m\u001b[39m.\u001b[39m_state \u001b[39min\u001b[39;00m [CANCELLED, CANCELLED_AND_NOTIFIED]:\n",
      "File \u001b[0;32m/work/bb1153/b382321/mambaforge/envs/aqua/lib/python3.10/concurrent/futures/_base.py:403\u001b[0m, in \u001b[0;36mFuture.__get_result\u001b[0;34m(self)\u001b[0m\n\u001b[1;32m    401\u001b[0m \u001b[39mif\u001b[39;00m \u001b[39mself\u001b[39m\u001b[39m.\u001b[39m_exception:\n\u001b[1;32m    402\u001b[0m     \u001b[39mtry\u001b[39;00m:\n\u001b[0;32m--> 403\u001b[0m         \u001b[39mraise\u001b[39;00m \u001b[39mself\u001b[39m\u001b[39m.\u001b[39m_exception\n\u001b[1;32m    404\u001b[0m     \u001b[39mfinally\u001b[39;00m:\n\u001b[1;32m    405\u001b[0m         \u001b[39m# Break a reference cycle with the exception in self._exception\u001b[39;00m\n\u001b[1;32m    406\u001b[0m         \u001b[39mself\u001b[39m \u001b[39m=\u001b[39m \u001b[39mNone\u001b[39;00m\n",
      "File \u001b[0;32m/work/bb1153/b382321/mambaforge/envs/aqua/lib/python3.10/site-packages/dask/local.py:542\u001b[0m, in \u001b[0;36mSynchronousExecutor.submit\u001b[0;34m(self, fn, *args, **kwargs)\u001b[0m\n\u001b[1;32m    540\u001b[0m fut \u001b[39m=\u001b[39m Future()\n\u001b[1;32m    541\u001b[0m \u001b[39mtry\u001b[39;00m:\n\u001b[0;32m--> 542\u001b[0m     fut\u001b[39m.\u001b[39mset_result(fn(\u001b[39m*\u001b[39;49margs, \u001b[39m*\u001b[39;49m\u001b[39m*\u001b[39;49mkwargs))\n\u001b[1;32m    543\u001b[0m \u001b[39mexcept\u001b[39;00m \u001b[39mBaseException\u001b[39;00m \u001b[39mas\u001b[39;00m e:\n\u001b[1;32m    544\u001b[0m     fut\u001b[39m.\u001b[39mset_exception(e)\n",
      "File \u001b[0;32m/work/bb1153/b382321/mambaforge/envs/aqua/lib/python3.10/site-packages/dask/local.py:238\u001b[0m, in \u001b[0;36mbatch_execute_tasks\u001b[0;34m(it)\u001b[0m\n\u001b[1;32m    234\u001b[0m \u001b[39mdef\u001b[39;00m \u001b[39mbatch_execute_tasks\u001b[39m(it):\n\u001b[1;32m    235\u001b[0m \u001b[39m    \u001b[39m\u001b[39m\"\"\"\u001b[39;00m\n\u001b[1;32m    236\u001b[0m \u001b[39m    Batch computing of multiple tasks with `execute_task`\u001b[39;00m\n\u001b[1;32m    237\u001b[0m \u001b[39m    \"\"\"\u001b[39;00m\n\u001b[0;32m--> 238\u001b[0m     \u001b[39mreturn\u001b[39;00m [execute_task(\u001b[39m*\u001b[39ma) \u001b[39mfor\u001b[39;00m a \u001b[39min\u001b[39;00m it]\n",
      "File \u001b[0;32m/work/bb1153/b382321/mambaforge/envs/aqua/lib/python3.10/site-packages/dask/local.py:238\u001b[0m, in \u001b[0;36m<listcomp>\u001b[0;34m(.0)\u001b[0m\n\u001b[1;32m    234\u001b[0m \u001b[39mdef\u001b[39;00m \u001b[39mbatch_execute_tasks\u001b[39m(it):\n\u001b[1;32m    235\u001b[0m \u001b[39m    \u001b[39m\u001b[39m\"\"\"\u001b[39;00m\n\u001b[1;32m    236\u001b[0m \u001b[39m    Batch computing of multiple tasks with `execute_task`\u001b[39;00m\n\u001b[1;32m    237\u001b[0m \u001b[39m    \"\"\"\u001b[39;00m\n\u001b[0;32m--> 238\u001b[0m     \u001b[39mreturn\u001b[39;00m [execute_task(\u001b[39m*\u001b[39;49ma) \u001b[39mfor\u001b[39;00m a \u001b[39min\u001b[39;00m it]\n",
      "File \u001b[0;32m/work/bb1153/b382321/mambaforge/envs/aqua/lib/python3.10/site-packages/dask/local.py:229\u001b[0m, in \u001b[0;36mexecute_task\u001b[0;34m(key, task_info, dumps, loads, get_id, pack_exception)\u001b[0m\n\u001b[1;32m    227\u001b[0m     failed \u001b[39m=\u001b[39m \u001b[39mFalse\u001b[39;00m\n\u001b[1;32m    228\u001b[0m \u001b[39mexcept\u001b[39;00m \u001b[39mBaseException\u001b[39;00m \u001b[39mas\u001b[39;00m e:\n\u001b[0;32m--> 229\u001b[0m     result \u001b[39m=\u001b[39m pack_exception(e, dumps)\n\u001b[1;32m    230\u001b[0m     failed \u001b[39m=\u001b[39m \u001b[39mTrue\u001b[39;00m\n\u001b[1;32m    231\u001b[0m \u001b[39mreturn\u001b[39;00m key, result, failed\n",
      "File \u001b[0;32m/work/bb1153/b382321/mambaforge/envs/aqua/lib/python3.10/site-packages/dask/local.py:224\u001b[0m, in \u001b[0;36mexecute_task\u001b[0;34m(key, task_info, dumps, loads, get_id, pack_exception)\u001b[0m\n\u001b[1;32m    222\u001b[0m \u001b[39mtry\u001b[39;00m:\n\u001b[1;32m    223\u001b[0m     task, data \u001b[39m=\u001b[39m loads(task_info)\n\u001b[0;32m--> 224\u001b[0m     result \u001b[39m=\u001b[39m _execute_task(task, data)\n\u001b[1;32m    225\u001b[0m     \u001b[39mid\u001b[39m \u001b[39m=\u001b[39m get_id()\n\u001b[1;32m    226\u001b[0m     result \u001b[39m=\u001b[39m dumps((result, \u001b[39mid\u001b[39m))\n",
      "File \u001b[0;32m/work/bb1153/b382321/mambaforge/envs/aqua/lib/python3.10/site-packages/dask/core.py:119\u001b[0m, in \u001b[0;36m_execute_task\u001b[0;34m(arg, cache, dsk)\u001b[0m\n\u001b[1;32m    115\u001b[0m     func, args \u001b[39m=\u001b[39m arg[\u001b[39m0\u001b[39m], arg[\u001b[39m1\u001b[39m:]\n\u001b[1;32m    116\u001b[0m     \u001b[39m# Note: Don't assign the subtask results to a variable. numpy detects\u001b[39;00m\n\u001b[1;32m    117\u001b[0m     \u001b[39m# temporaries by their reference count and can execute certain\u001b[39;00m\n\u001b[1;32m    118\u001b[0m     \u001b[39m# operations in-place.\u001b[39;00m\n\u001b[0;32m--> 119\u001b[0m     \u001b[39mreturn\u001b[39;00m func(\u001b[39m*\u001b[39;49m(_execute_task(a, cache) \u001b[39mfor\u001b[39;49;00m a \u001b[39min\u001b[39;49;00m args))\n\u001b[1;32m    120\u001b[0m \u001b[39melif\u001b[39;00m \u001b[39mnot\u001b[39;00m ishashable(arg):\n\u001b[1;32m    121\u001b[0m     \u001b[39mreturn\u001b[39;00m arg\n",
      "File \u001b[0;32m/work/bb1153/b382321/mambaforge/envs/aqua/lib/python3.10/site-packages/dask/core.py:119\u001b[0m, in \u001b[0;36m<genexpr>\u001b[0;34m(.0)\u001b[0m\n\u001b[1;32m    115\u001b[0m     func, args \u001b[39m=\u001b[39m arg[\u001b[39m0\u001b[39m], arg[\u001b[39m1\u001b[39m:]\n\u001b[1;32m    116\u001b[0m     \u001b[39m# Note: Don't assign the subtask results to a variable. numpy detects\u001b[39;00m\n\u001b[1;32m    117\u001b[0m     \u001b[39m# temporaries by their reference count and can execute certain\u001b[39;00m\n\u001b[1;32m    118\u001b[0m     \u001b[39m# operations in-place.\u001b[39;00m\n\u001b[0;32m--> 119\u001b[0m     \u001b[39mreturn\u001b[39;00m func(\u001b[39m*\u001b[39m(_execute_task(a, cache) \u001b[39mfor\u001b[39;00m a \u001b[39min\u001b[39;00m args))\n\u001b[1;32m    120\u001b[0m \u001b[39melif\u001b[39;00m \u001b[39mnot\u001b[39;00m ishashable(arg):\n\u001b[1;32m    121\u001b[0m     \u001b[39mreturn\u001b[39;00m arg\n",
      "File \u001b[0;32m/work/bb1153/b382321/mambaforge/envs/aqua/lib/python3.10/site-packages/dask/core.py:119\u001b[0m, in \u001b[0;36m_execute_task\u001b[0;34m(arg, cache, dsk)\u001b[0m\n\u001b[1;32m    115\u001b[0m     func, args \u001b[39m=\u001b[39m arg[\u001b[39m0\u001b[39m], arg[\u001b[39m1\u001b[39m:]\n\u001b[1;32m    116\u001b[0m     \u001b[39m# Note: Don't assign the subtask results to a variable. numpy detects\u001b[39;00m\n\u001b[1;32m    117\u001b[0m     \u001b[39m# temporaries by their reference count and can execute certain\u001b[39;00m\n\u001b[1;32m    118\u001b[0m     \u001b[39m# operations in-place.\u001b[39;00m\n\u001b[0;32m--> 119\u001b[0m     \u001b[39mreturn\u001b[39;00m func(\u001b[39m*\u001b[39;49m(_execute_task(a, cache) \u001b[39mfor\u001b[39;49;00m a \u001b[39min\u001b[39;49;00m args))\n\u001b[1;32m    120\u001b[0m \u001b[39melif\u001b[39;00m \u001b[39mnot\u001b[39;00m ishashable(arg):\n\u001b[1;32m    121\u001b[0m     \u001b[39mreturn\u001b[39;00m arg\n",
      "File \u001b[0;32m/work/bb1153/b382321/mambaforge/envs/aqua/lib/python3.10/site-packages/dask/core.py:119\u001b[0m, in \u001b[0;36m<genexpr>\u001b[0;34m(.0)\u001b[0m\n\u001b[1;32m    115\u001b[0m     func, args \u001b[39m=\u001b[39m arg[\u001b[39m0\u001b[39m], arg[\u001b[39m1\u001b[39m:]\n\u001b[1;32m    116\u001b[0m     \u001b[39m# Note: Don't assign the subtask results to a variable. numpy detects\u001b[39;00m\n\u001b[1;32m    117\u001b[0m     \u001b[39m# temporaries by their reference count and can execute certain\u001b[39;00m\n\u001b[1;32m    118\u001b[0m     \u001b[39m# operations in-place.\u001b[39;00m\n\u001b[0;32m--> 119\u001b[0m     \u001b[39mreturn\u001b[39;00m func(\u001b[39m*\u001b[39m(_execute_task(a, cache) \u001b[39mfor\u001b[39;00m a \u001b[39min\u001b[39;00m args))\n\u001b[1;32m    120\u001b[0m \u001b[39melif\u001b[39;00m \u001b[39mnot\u001b[39;00m ishashable(arg):\n\u001b[1;32m    121\u001b[0m     \u001b[39mreturn\u001b[39;00m arg\n",
      "File \u001b[0;32m/work/bb1153/b382321/mambaforge/envs/aqua/lib/python3.10/site-packages/dask/core.py:119\u001b[0m, in \u001b[0;36m_execute_task\u001b[0;34m(arg, cache, dsk)\u001b[0m\n\u001b[1;32m    115\u001b[0m     func, args \u001b[39m=\u001b[39m arg[\u001b[39m0\u001b[39m], arg[\u001b[39m1\u001b[39m:]\n\u001b[1;32m    116\u001b[0m     \u001b[39m# Note: Don't assign the subtask results to a variable. numpy detects\u001b[39;00m\n\u001b[1;32m    117\u001b[0m     \u001b[39m# temporaries by their reference count and can execute certain\u001b[39;00m\n\u001b[1;32m    118\u001b[0m     \u001b[39m# operations in-place.\u001b[39;00m\n\u001b[0;32m--> 119\u001b[0m     \u001b[39mreturn\u001b[39;00m func(\u001b[39m*\u001b[39;49m(_execute_task(a, cache) \u001b[39mfor\u001b[39;49;00m a \u001b[39min\u001b[39;49;00m args))\n\u001b[1;32m    120\u001b[0m \u001b[39melif\u001b[39;00m \u001b[39mnot\u001b[39;00m ishashable(arg):\n\u001b[1;32m    121\u001b[0m     \u001b[39mreturn\u001b[39;00m arg\n",
      "File \u001b[0;32m/work/bb1153/b382321/mambaforge/envs/aqua/lib/python3.10/site-packages/dask/optimization.py:990\u001b[0m, in \u001b[0;36mSubgraphCallable.__call__\u001b[0;34m(self, *args)\u001b[0m\n\u001b[1;32m    988\u001b[0m \u001b[39mif\u001b[39;00m \u001b[39mnot\u001b[39;00m \u001b[39mlen\u001b[39m(args) \u001b[39m==\u001b[39m \u001b[39mlen\u001b[39m(\u001b[39mself\u001b[39m\u001b[39m.\u001b[39minkeys):\n\u001b[1;32m    989\u001b[0m     \u001b[39mraise\u001b[39;00m \u001b[39mValueError\u001b[39;00m(\u001b[39m\"\u001b[39m\u001b[39mExpected \u001b[39m\u001b[39m%d\u001b[39;00m\u001b[39m args, got \u001b[39m\u001b[39m%d\u001b[39;00m\u001b[39m\"\u001b[39m \u001b[39m%\u001b[39m (\u001b[39mlen\u001b[39m(\u001b[39mself\u001b[39m\u001b[39m.\u001b[39minkeys), \u001b[39mlen\u001b[39m(args)))\n\u001b[0;32m--> 990\u001b[0m \u001b[39mreturn\u001b[39;00m core\u001b[39m.\u001b[39;49mget(\u001b[39mself\u001b[39;49m\u001b[39m.\u001b[39;49mdsk, \u001b[39mself\u001b[39;49m\u001b[39m.\u001b[39;49moutkey, \u001b[39mdict\u001b[39;49m(\u001b[39mzip\u001b[39;49m(\u001b[39mself\u001b[39;49m\u001b[39m.\u001b[39;49minkeys, args)))\n",
      "File \u001b[0;32m/work/bb1153/b382321/mambaforge/envs/aqua/lib/python3.10/site-packages/dask/core.py:149\u001b[0m, in \u001b[0;36mget\u001b[0;34m(dsk, out, cache)\u001b[0m\n\u001b[1;32m    147\u001b[0m \u001b[39mfor\u001b[39;00m key \u001b[39min\u001b[39;00m toposort(dsk):\n\u001b[1;32m    148\u001b[0m     task \u001b[39m=\u001b[39m dsk[key]\n\u001b[0;32m--> 149\u001b[0m     result \u001b[39m=\u001b[39m _execute_task(task, cache)\n\u001b[1;32m    150\u001b[0m     cache[key] \u001b[39m=\u001b[39m result\n\u001b[1;32m    151\u001b[0m result \u001b[39m=\u001b[39m _execute_task(out, cache)\n",
      "File \u001b[0;32m/work/bb1153/b382321/mambaforge/envs/aqua/lib/python3.10/site-packages/dask/core.py:119\u001b[0m, in \u001b[0;36m_execute_task\u001b[0;34m(arg, cache, dsk)\u001b[0m\n\u001b[1;32m    115\u001b[0m     func, args \u001b[39m=\u001b[39m arg[\u001b[39m0\u001b[39m], arg[\u001b[39m1\u001b[39m:]\n\u001b[1;32m    116\u001b[0m     \u001b[39m# Note: Don't assign the subtask results to a variable. numpy detects\u001b[39;00m\n\u001b[1;32m    117\u001b[0m     \u001b[39m# temporaries by their reference count and can execute certain\u001b[39;00m\n\u001b[1;32m    118\u001b[0m     \u001b[39m# operations in-place.\u001b[39;00m\n\u001b[0;32m--> 119\u001b[0m     \u001b[39mreturn\u001b[39;00m func(\u001b[39m*\u001b[39;49m(_execute_task(a, cache) \u001b[39mfor\u001b[39;49;00m a \u001b[39min\u001b[39;49;00m args))\n\u001b[1;32m    120\u001b[0m \u001b[39melif\u001b[39;00m \u001b[39mnot\u001b[39;00m ishashable(arg):\n\u001b[1;32m    121\u001b[0m     \u001b[39mreturn\u001b[39;00m arg\n",
      "File \u001b[0;32m/work/bb1153/b382321/mambaforge/envs/aqua/lib/python3.10/site-packages/dask/array/core.py:125\u001b[0m, in \u001b[0;36mgetter\u001b[0;34m(a, b, asarray, lock)\u001b[0m\n\u001b[1;32m    120\u001b[0m     \u001b[39m# Below we special-case `np.matrix` to force a conversion to\u001b[39;00m\n\u001b[1;32m    121\u001b[0m     \u001b[39m# `np.ndarray` and preserve original Dask behavior for `getter`,\u001b[39;00m\n\u001b[1;32m    122\u001b[0m     \u001b[39m# as for all purposes `np.matrix` is array-like and thus\u001b[39;00m\n\u001b[1;32m    123\u001b[0m     \u001b[39m# `is_arraylike` evaluates to `True` in that case.\u001b[39;00m\n\u001b[1;32m    124\u001b[0m     \u001b[39mif\u001b[39;00m asarray \u001b[39mand\u001b[39;00m (\u001b[39mnot\u001b[39;00m is_arraylike(c) \u001b[39mor\u001b[39;00m \u001b[39misinstance\u001b[39m(c, np\u001b[39m.\u001b[39mmatrix)):\n\u001b[0;32m--> 125\u001b[0m         c \u001b[39m=\u001b[39m np\u001b[39m.\u001b[39;49masarray(c)\n\u001b[1;32m    126\u001b[0m \u001b[39mfinally\u001b[39;00m:\n\u001b[1;32m    127\u001b[0m     \u001b[39mif\u001b[39;00m lock:\n",
      "File \u001b[0;32m/work/bb1153/b382321/mambaforge/envs/aqua/lib/python3.10/site-packages/xarray/core/indexing.py:483\u001b[0m, in \u001b[0;36mImplicitToExplicitIndexingAdapter.__array__\u001b[0;34m(self, dtype)\u001b[0m\n\u001b[1;32m    482\u001b[0m \u001b[39mdef\u001b[39;00m \u001b[39m__array__\u001b[39m(\u001b[39mself\u001b[39m, dtype: np\u001b[39m.\u001b[39mtyping\u001b[39m.\u001b[39mDTypeLike \u001b[39m=\u001b[39m \u001b[39mNone\u001b[39;00m) \u001b[39m-\u001b[39m\u001b[39m>\u001b[39m np\u001b[39m.\u001b[39mndarray:\n\u001b[0;32m--> 483\u001b[0m     \u001b[39mreturn\u001b[39;00m np\u001b[39m.\u001b[39masarray(\u001b[39mself\u001b[39;49m\u001b[39m.\u001b[39;49mget_duck_array(), dtype\u001b[39m=\u001b[39mdtype)\n",
      "File \u001b[0;32m/work/bb1153/b382321/mambaforge/envs/aqua/lib/python3.10/site-packages/xarray/core/indexing.py:486\u001b[0m, in \u001b[0;36mImplicitToExplicitIndexingAdapter.get_duck_array\u001b[0;34m(self)\u001b[0m\n\u001b[1;32m    485\u001b[0m \u001b[39mdef\u001b[39;00m \u001b[39mget_duck_array\u001b[39m(\u001b[39mself\u001b[39m):\n\u001b[0;32m--> 486\u001b[0m     \u001b[39mreturn\u001b[39;00m \u001b[39mself\u001b[39;49m\u001b[39m.\u001b[39;49marray\u001b[39m.\u001b[39;49mget_duck_array()\n",
      "File \u001b[0;32m/work/bb1153/b382321/mambaforge/envs/aqua/lib/python3.10/site-packages/xarray/core/indexing.py:663\u001b[0m, in \u001b[0;36mCopyOnWriteArray.get_duck_array\u001b[0;34m(self)\u001b[0m\n\u001b[1;32m    662\u001b[0m \u001b[39mdef\u001b[39;00m \u001b[39mget_duck_array\u001b[39m(\u001b[39mself\u001b[39m):\n\u001b[0;32m--> 663\u001b[0m     \u001b[39mreturn\u001b[39;00m \u001b[39mself\u001b[39;49m\u001b[39m.\u001b[39;49marray\u001b[39m.\u001b[39;49mget_duck_array()\n",
      "File \u001b[0;32m/work/bb1153/b382321/mambaforge/envs/aqua/lib/python3.10/site-packages/xarray/core/indexing.py:556\u001b[0m, in \u001b[0;36mLazilyIndexedArray.get_duck_array\u001b[0;34m(self)\u001b[0m\n\u001b[1;32m    551\u001b[0m \u001b[39m# self.array[self.key] is now a numpy array when\u001b[39;00m\n\u001b[1;32m    552\u001b[0m \u001b[39m# self.array is a BackendArray subclass\u001b[39;00m\n\u001b[1;32m    553\u001b[0m \u001b[39m# and self.key is BasicIndexer((slice(None, None, None),))\u001b[39;00m\n\u001b[1;32m    554\u001b[0m \u001b[39m# so we need the explicit check for ExplicitlyIndexed\u001b[39;00m\n\u001b[1;32m    555\u001b[0m \u001b[39mif\u001b[39;00m \u001b[39misinstance\u001b[39m(array, ExplicitlyIndexed):\n\u001b[0;32m--> 556\u001b[0m     array \u001b[39m=\u001b[39m array\u001b[39m.\u001b[39;49mget_duck_array()\n\u001b[1;32m    557\u001b[0m \u001b[39mreturn\u001b[39;00m _wrap_numpy_scalars(array)\n",
      "File \u001b[0;32m/work/bb1153/b382321/mambaforge/envs/aqua/lib/python3.10/site-packages/xarray/coding/variables.py:73\u001b[0m, in \u001b[0;36m_ElementwiseFunctionArray.get_duck_array\u001b[0;34m(self)\u001b[0m\n\u001b[1;32m     72\u001b[0m \u001b[39mdef\u001b[39;00m \u001b[39mget_duck_array\u001b[39m(\u001b[39mself\u001b[39m):\n\u001b[0;32m---> 73\u001b[0m     \u001b[39mreturn\u001b[39;00m \u001b[39mself\u001b[39m\u001b[39m.\u001b[39mfunc(\u001b[39mself\u001b[39;49m\u001b[39m.\u001b[39;49marray\u001b[39m.\u001b[39;49mget_duck_array())\n",
      "File \u001b[0;32m/work/bb1153/b382321/mambaforge/envs/aqua/lib/python3.10/site-packages/xarray/core/indexing.py:550\u001b[0m, in \u001b[0;36mLazilyIndexedArray.get_duck_array\u001b[0;34m(self)\u001b[0m\n\u001b[1;32m    549\u001b[0m \u001b[39mdef\u001b[39;00m \u001b[39mget_duck_array\u001b[39m(\u001b[39mself\u001b[39m):\n\u001b[0;32m--> 550\u001b[0m     array \u001b[39m=\u001b[39m \u001b[39mself\u001b[39;49m\u001b[39m.\u001b[39;49marray[\u001b[39mself\u001b[39;49m\u001b[39m.\u001b[39;49mkey]\n\u001b[1;32m    551\u001b[0m     \u001b[39m# self.array[self.key] is now a numpy array when\u001b[39;00m\n\u001b[1;32m    552\u001b[0m     \u001b[39m# self.array is a BackendArray subclass\u001b[39;00m\n\u001b[1;32m    553\u001b[0m     \u001b[39m# and self.key is BasicIndexer((slice(None, None, None),))\u001b[39;00m\n\u001b[1;32m    554\u001b[0m     \u001b[39m# so we need the explicit check for ExplicitlyIndexed\u001b[39;00m\n\u001b[1;32m    555\u001b[0m     \u001b[39mif\u001b[39;00m \u001b[39misinstance\u001b[39m(array, ExplicitlyIndexed):\n",
      "File \u001b[0;32m/work/bb1153/b382321/mambaforge/envs/aqua/lib/python3.10/site-packages/xarray/backends/zarr.py:84\u001b[0m, in \u001b[0;36mZarrArrayWrapper.__getitem__\u001b[0;34m(self, key)\u001b[0m\n\u001b[1;32m     82\u001b[0m array \u001b[39m=\u001b[39m \u001b[39mself\u001b[39m\u001b[39m.\u001b[39mget_array()\n\u001b[1;32m     83\u001b[0m \u001b[39mif\u001b[39;00m \u001b[39misinstance\u001b[39m(key, indexing\u001b[39m.\u001b[39mBasicIndexer):\n\u001b[0;32m---> 84\u001b[0m     \u001b[39mreturn\u001b[39;00m array[key\u001b[39m.\u001b[39;49mtuple]\n\u001b[1;32m     85\u001b[0m \u001b[39melif\u001b[39;00m \u001b[39misinstance\u001b[39m(key, indexing\u001b[39m.\u001b[39mVectorizedIndexer):\n\u001b[1;32m     86\u001b[0m     \u001b[39mreturn\u001b[39;00m array\u001b[39m.\u001b[39mvindex[\n\u001b[1;32m     87\u001b[0m         indexing\u001b[39m.\u001b[39m_arrayize_vectorized_indexer(key, \u001b[39mself\u001b[39m\u001b[39m.\u001b[39mshape)\u001b[39m.\u001b[39mtuple\n\u001b[1;32m     88\u001b[0m     ]\n",
      "File \u001b[0;32m/work/bb1153/b382321/mambaforge/envs/aqua/lib/python3.10/site-packages/zarr/core.py:807\u001b[0m, in \u001b[0;36mArray.__getitem__\u001b[0;34m(self, selection)\u001b[0m\n\u001b[1;32m    805\u001b[0m     result \u001b[39m=\u001b[39m \u001b[39mself\u001b[39m\u001b[39m.\u001b[39mvindex[selection]\n\u001b[1;32m    806\u001b[0m \u001b[39melse\u001b[39;00m:\n\u001b[0;32m--> 807\u001b[0m     result \u001b[39m=\u001b[39m \u001b[39mself\u001b[39;49m\u001b[39m.\u001b[39;49mget_basic_selection(pure_selection, fields\u001b[39m=\u001b[39;49mfields)\n\u001b[1;32m    808\u001b[0m \u001b[39mreturn\u001b[39;00m result\n",
      "File \u001b[0;32m/work/bb1153/b382321/mambaforge/envs/aqua/lib/python3.10/site-packages/zarr/core.py:933\u001b[0m, in \u001b[0;36mArray.get_basic_selection\u001b[0;34m(self, selection, out, fields)\u001b[0m\n\u001b[1;32m    930\u001b[0m     \u001b[39mreturn\u001b[39;00m \u001b[39mself\u001b[39m\u001b[39m.\u001b[39m_get_basic_selection_zd(selection\u001b[39m=\u001b[39mselection, out\u001b[39m=\u001b[39mout,\n\u001b[1;32m    931\u001b[0m                                         fields\u001b[39m=\u001b[39mfields)\n\u001b[1;32m    932\u001b[0m \u001b[39melse\u001b[39;00m:\n\u001b[0;32m--> 933\u001b[0m     \u001b[39mreturn\u001b[39;00m \u001b[39mself\u001b[39;49m\u001b[39m.\u001b[39;49m_get_basic_selection_nd(selection\u001b[39m=\u001b[39;49mselection, out\u001b[39m=\u001b[39;49mout,\n\u001b[1;32m    934\u001b[0m                                         fields\u001b[39m=\u001b[39;49mfields)\n",
      "File \u001b[0;32m/work/bb1153/b382321/mambaforge/envs/aqua/lib/python3.10/site-packages/zarr/core.py:976\u001b[0m, in \u001b[0;36mArray._get_basic_selection_nd\u001b[0;34m(self, selection, out, fields)\u001b[0m\n\u001b[1;32m    970\u001b[0m \u001b[39mdef\u001b[39;00m \u001b[39m_get_basic_selection_nd\u001b[39m(\u001b[39mself\u001b[39m, selection, out\u001b[39m=\u001b[39m\u001b[39mNone\u001b[39;00m, fields\u001b[39m=\u001b[39m\u001b[39mNone\u001b[39;00m):\n\u001b[1;32m    971\u001b[0m     \u001b[39m# implementation of basic selection for array with at least one dimension\u001b[39;00m\n\u001b[1;32m    972\u001b[0m \n\u001b[1;32m    973\u001b[0m     \u001b[39m# setup indexer\u001b[39;00m\n\u001b[1;32m    974\u001b[0m     indexer \u001b[39m=\u001b[39m BasicIndexer(selection, \u001b[39mself\u001b[39m)\n\u001b[0;32m--> 976\u001b[0m     \u001b[39mreturn\u001b[39;00m \u001b[39mself\u001b[39;49m\u001b[39m.\u001b[39;49m_get_selection(indexer\u001b[39m=\u001b[39;49mindexer, out\u001b[39m=\u001b[39;49mout, fields\u001b[39m=\u001b[39;49mfields)\n",
      "File \u001b[0;32m/work/bb1153/b382321/mambaforge/envs/aqua/lib/python3.10/site-packages/zarr/core.py:1272\u001b[0m, in \u001b[0;36mArray._get_selection\u001b[0;34m(self, indexer, out, fields)\u001b[0m\n\u001b[1;32m   1269\u001b[0m \u001b[39melse\u001b[39;00m:\n\u001b[1;32m   1270\u001b[0m     \u001b[39m# allow storage to get multiple items at once\u001b[39;00m\n\u001b[1;32m   1271\u001b[0m     lchunk_coords, lchunk_selection, lout_selection \u001b[39m=\u001b[39m \u001b[39mzip\u001b[39m(\u001b[39m*\u001b[39mindexer)\n\u001b[0;32m-> 1272\u001b[0m     \u001b[39mself\u001b[39;49m\u001b[39m.\u001b[39;49m_chunk_getitems(lchunk_coords, lchunk_selection, out, lout_selection,\n\u001b[1;32m   1273\u001b[0m                          drop_axes\u001b[39m=\u001b[39;49mindexer\u001b[39m.\u001b[39;49mdrop_axes, fields\u001b[39m=\u001b[39;49mfields)\n\u001b[1;32m   1275\u001b[0m \u001b[39mif\u001b[39;00m out\u001b[39m.\u001b[39mshape:\n\u001b[1;32m   1276\u001b[0m     \u001b[39mreturn\u001b[39;00m out\n",
      "File \u001b[0;32m/work/bb1153/b382321/mambaforge/envs/aqua/lib/python3.10/site-packages/zarr/core.py:2012\u001b[0m, in \u001b[0;36mArray._chunk_getitems\u001b[0;34m(self, lchunk_coords, lchunk_selection, out, lout_selection, drop_axes, fields)\u001b[0m\n\u001b[1;32m   2010\u001b[0m \u001b[39melse\u001b[39;00m:\n\u001b[1;32m   2011\u001b[0m     partial_read_decode \u001b[39m=\u001b[39m \u001b[39mFalse\u001b[39;00m\n\u001b[0;32m-> 2012\u001b[0m     cdatas \u001b[39m=\u001b[39m \u001b[39mself\u001b[39;49m\u001b[39m.\u001b[39;49mchunk_store\u001b[39m.\u001b[39;49mgetitems(ckeys, on_error\u001b[39m=\u001b[39;49m\u001b[39m\"\u001b[39;49m\u001b[39momit\u001b[39;49m\u001b[39m\"\u001b[39;49m)\n\u001b[1;32m   2013\u001b[0m \u001b[39mfor\u001b[39;00m ckey, chunk_select, out_select \u001b[39min\u001b[39;00m \u001b[39mzip\u001b[39m(ckeys, lchunk_selection, lout_selection):\n\u001b[1;32m   2014\u001b[0m     \u001b[39mif\u001b[39;00m ckey \u001b[39min\u001b[39;00m cdatas:\n",
      "File \u001b[0;32m/work/bb1153/b382321/mambaforge/envs/aqua/lib/python3.10/site-packages/zarr/storage.py:1378\u001b[0m, in \u001b[0;36mFSStore.getitems\u001b[0;34m(self, keys, **kwargs)\u001b[0m\n\u001b[1;32m   1376\u001b[0m \u001b[39mdef\u001b[39;00m \u001b[39mgetitems\u001b[39m(\u001b[39mself\u001b[39m, keys, \u001b[39m*\u001b[39m\u001b[39m*\u001b[39mkwargs):\n\u001b[1;32m   1377\u001b[0m     keys_transformed \u001b[39m=\u001b[39m [\u001b[39mself\u001b[39m\u001b[39m.\u001b[39m_normalize_key(key) \u001b[39mfor\u001b[39;00m key \u001b[39min\u001b[39;00m keys]\n\u001b[0;32m-> 1378\u001b[0m     results \u001b[39m=\u001b[39m \u001b[39mself\u001b[39;49m\u001b[39m.\u001b[39;49mmap\u001b[39m.\u001b[39;49mgetitems(keys_transformed, on_error\u001b[39m=\u001b[39;49m\u001b[39m\"\u001b[39;49m\u001b[39momit\u001b[39;49m\u001b[39m\"\u001b[39;49m)\n\u001b[1;32m   1379\u001b[0m     \u001b[39m# The function calling this method may not recognize the transformed keys\u001b[39;00m\n\u001b[1;32m   1380\u001b[0m     \u001b[39m# So we send the values returned by self.map.getitems back into the original key space.\u001b[39;00m\n\u001b[1;32m   1381\u001b[0m     \u001b[39mreturn\u001b[39;00m {keys[keys_transformed\u001b[39m.\u001b[39mindex(rk)]: rv \u001b[39mfor\u001b[39;00m rk, rv \u001b[39min\u001b[39;00m results\u001b[39m.\u001b[39mitems()}\n",
      "File \u001b[0;32m/work/bb1153/b382321/mambaforge/envs/aqua/lib/python3.10/site-packages/fsspec/mapping.py:93\u001b[0m, in \u001b[0;36mFSMap.getitems\u001b[0;34m(self, keys, on_error)\u001b[0m\n\u001b[1;32m     91\u001b[0m oe \u001b[39m=\u001b[39m on_error \u001b[39mif\u001b[39;00m on_error \u001b[39m==\u001b[39m \u001b[39m\"\u001b[39m\u001b[39mraise\u001b[39m\u001b[39m\"\u001b[39m \u001b[39melse\u001b[39;00m \u001b[39m\"\u001b[39m\u001b[39mreturn\u001b[39m\u001b[39m\"\u001b[39m\n\u001b[1;32m     92\u001b[0m \u001b[39mtry\u001b[39;00m:\n\u001b[0;32m---> 93\u001b[0m     out \u001b[39m=\u001b[39m \u001b[39mself\u001b[39;49m\u001b[39m.\u001b[39;49mfs\u001b[39m.\u001b[39;49mcat(keys2, on_error\u001b[39m=\u001b[39;49moe)\n\u001b[1;32m     94\u001b[0m     \u001b[39mif\u001b[39;00m \u001b[39misinstance\u001b[39m(out, \u001b[39mbytes\u001b[39m):\n\u001b[1;32m     95\u001b[0m         out \u001b[39m=\u001b[39m {keys2[\u001b[39m0\u001b[39m]: out}\n",
      "File \u001b[0;32m/work/bb1153/b382321/mambaforge/envs/aqua/lib/python3.10/site-packages/fsspec/implementations/reference.py:357\u001b[0m, in \u001b[0;36mReferenceFileSystem.cat\u001b[0;34m(self, path, recursive, on_error, **kwargs)\u001b[0m\n\u001b[1;32m    348\u001b[0m         paths2\u001b[39m.\u001b[39mappend(p)\n\u001b[1;32m    349\u001b[0m new_paths, new_starts, new_ends \u001b[39m=\u001b[39m merge_offset_ranges(\n\u001b[1;32m    350\u001b[0m     \u001b[39mlist\u001b[39m(urls2),\n\u001b[1;32m    351\u001b[0m     \u001b[39mlist\u001b[39m(starts2),\n\u001b[0;32m   (...)\u001b[0m\n\u001b[1;32m    355\u001b[0m     max_block\u001b[39m=\u001b[39m\u001b[39mself\u001b[39m\u001b[39m.\u001b[39mmax_block,\n\u001b[1;32m    356\u001b[0m )\n\u001b[0;32m--> 357\u001b[0m bytes_out \u001b[39m=\u001b[39m fs\u001b[39m.\u001b[39;49mcat_ranges(new_paths, new_starts, new_ends)\n\u001b[1;32m    358\u001b[0m \u001b[39mif\u001b[39;00m \u001b[39mlen\u001b[39m(urls2) \u001b[39m==\u001b[39m \u001b[39mlen\u001b[39m(bytes_out):\n\u001b[1;32m    359\u001b[0m     \u001b[39m# we didn't do any merging\u001b[39;00m\n\u001b[1;32m    360\u001b[0m     \u001b[39mfor\u001b[39;00m url, b \u001b[39min\u001b[39;00m \u001b[39mzip\u001b[39m(new_paths, bytes_out):\n",
      "File \u001b[0;32m/work/bb1153/b382321/mambaforge/envs/aqua/lib/python3.10/site-packages/fsspec/spec.py:797\u001b[0m, in \u001b[0;36mAbstractFileSystem.cat_ranges\u001b[0;34m(self, paths, starts, ends, max_gap, on_error, **kwargs)\u001b[0m\n\u001b[1;32m    795\u001b[0m \u001b[39mfor\u001b[39;00m p, s, e \u001b[39min\u001b[39;00m \u001b[39mzip\u001b[39m(paths, starts, ends):\n\u001b[1;32m    796\u001b[0m     \u001b[39mtry\u001b[39;00m:\n\u001b[0;32m--> 797\u001b[0m         out\u001b[39m.\u001b[39mappend(\u001b[39mself\u001b[39;49m\u001b[39m.\u001b[39;49mcat_file(p, s, e))\n\u001b[1;32m    798\u001b[0m     \u001b[39mexcept\u001b[39;00m \u001b[39mException\u001b[39;00m \u001b[39mas\u001b[39;00m e:\n\u001b[1;32m    799\u001b[0m         \u001b[39mif\u001b[39;00m on_error \u001b[39m==\u001b[39m \u001b[39m\"\u001b[39m\u001b[39mreturn\u001b[39m\u001b[39m\"\u001b[39m:\n",
      "File \u001b[0;32m/work/bb1153/b382321/mambaforge/envs/aqua/lib/python3.10/site-packages/fsspec/spec.py:751\u001b[0m, in \u001b[0;36mAbstractFileSystem.cat_file\u001b[0;34m(self, path, start, end, **kwargs)\u001b[0m\n\u001b[1;32m    749\u001b[0m     \u001b[39mif\u001b[39;00m end \u001b[39m<\u001b[39m \u001b[39m0\u001b[39m:\n\u001b[1;32m    750\u001b[0m         end \u001b[39m=\u001b[39m f\u001b[39m.\u001b[39msize \u001b[39m+\u001b[39m end\n\u001b[0;32m--> 751\u001b[0m     \u001b[39mreturn\u001b[39;00m f\u001b[39m.\u001b[39;49mread(end \u001b[39m-\u001b[39;49m f\u001b[39m.\u001b[39;49mtell())\n\u001b[1;32m    752\u001b[0m \u001b[39mreturn\u001b[39;00m f\u001b[39m.\u001b[39mread()\n",
      "File \u001b[0;32m/work/bb1153/b382321/mambaforge/envs/aqua/lib/python3.10/site-packages/fsspec/implementations/local.py:349\u001b[0m, in \u001b[0;36mLocalFileOpener.read\u001b[0;34m(self, *args, **kwargs)\u001b[0m\n\u001b[1;32m    348\u001b[0m \u001b[39mdef\u001b[39;00m \u001b[39mread\u001b[39m(\u001b[39mself\u001b[39m, \u001b[39m*\u001b[39margs, \u001b[39m*\u001b[39m\u001b[39m*\u001b[39mkwargs):\n\u001b[0;32m--> 349\u001b[0m     \u001b[39mreturn\u001b[39;00m \u001b[39mself\u001b[39;49m\u001b[39m.\u001b[39;49mf\u001b[39m.\u001b[39;49mread(\u001b[39m*\u001b[39;49margs, \u001b[39m*\u001b[39;49m\u001b[39m*\u001b[39;49mkwargs)\n",
      "\u001b[0;31mKeyboardInterrupt\u001b[0m: "
     ]
    }
   ],
   "source": [
    "opaopa.generate_opa()"
   ]
  },
  {
   "attachments": {},
   "cell_type": "markdown",
   "metadata": {},
   "source": [
    "You can then add an entry to the catalog so that you can access these data from somewhere else."
   ]
  },
  {
   "cell_type": "code",
   "execution_count": 18,
   "metadata": {},
   "outputs": [
    {
     "name": "stderr",
     "output_type": "stream",
     "text": [
      "2023-05-17 16:14:45 :: opa_generator :: WARNING  -> Creating catalog entry IFS tco2559-ng5 tmp-opa-daily\n"
     ]
    }
   ],
   "source": [
    "opaopa.create_catalog_entry()"
   ]
  },
  {
   "cell_type": "code",
   "execution_count": 19,
   "metadata": {},
   "outputs": [],
   "source": [
    "from aqua import Reader\n",
    "reader = Reader(model=\"IFS\", exp=\"tco2559-ng5\", source=\"tmp-opa-daily\",areas=False)"
   ]
  },
  {
   "attachments": {},
   "cell_type": "markdown",
   "metadata": {},
   "source": [
    "In order to really access and work with data a run with `definitive` set to `True` is needed."
   ]
  },
  {
   "attachments": {},
   "cell_type": "markdown",
   "metadata": {},
   "source": [
    "This remove the entries (and in the future also the files), once all the computation have been safely concluded"
   ]
  },
  {
   "cell_type": "code",
   "execution_count": 20,
   "metadata": {},
   "outputs": [
    {
     "name": "stderr",
     "output_type": "stream",
     "text": [
      "2023-05-17 16:14:52 :: opa_generator :: WARNING  -> Removing catalog entry IFS tco2559-ng5 tmp-opa-daily\n"
     ]
    }
   ],
   "source": [
    "opaopa.clean()"
   ]
  },
  {
   "cell_type": "code",
   "execution_count": null,
   "metadata": {},
   "outputs": [],
   "source": []
  }
 ],
 "metadata": {
  "kernelspec": {
   "display_name": "aqua",
   "language": "python",
   "name": "python3"
  },
  "language_info": {
   "codemirror_mode": {
    "name": "ipython",
    "version": 3
   },
   "file_extension": ".py",
   "mimetype": "text/x-python",
   "name": "python",
   "nbconvert_exporter": "python",
   "pygments_lexer": "ipython3",
   "version": "3.10.9"
  },
  "orig_nbformat": 4
 },
 "nbformat": 4,
 "nbformat_minor": 2
}
