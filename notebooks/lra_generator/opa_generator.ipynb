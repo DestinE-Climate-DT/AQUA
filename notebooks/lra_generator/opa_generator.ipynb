{
 "cells": [
  {
   "attachments": {},
   "cell_type": "markdown",
   "metadata": {},
   "source": [
    "## A wrapper for OPA within AQUA"
   ]
  },
  {
   "cell_type": "code",
   "execution_count": 1,
   "metadata": {},
   "outputs": [],
   "source": [
    "from aqua import OPAgenerator"
   ]
  },
  {
   "attachments": {},
   "cell_type": "markdown",
   "metadata": {},
   "source": [
    "Initialize the OPA genrator class, feeding it with the most of the information you need. Which variable, which model source and where to store the data"
   ]
  },
  {
   "cell_type": "code",
   "execution_count": 3,
   "metadata": {},
   "outputs": [
    {
     "name": "stderr",
     "output_type": "stream",
     "text": [
      "2023-05-09 17:36:51 :: opa_generator :: WARNING  -> IMPORTANT: no file will be created, this is a dry run\n",
      "2023-05-09 17:36:51 :: opa_generator :: WARNING  -> Variable(s) to be processed: 2t\n",
      "2023-05-09 17:36:51 :: create_folder :: WARNING  -> Folder /home/b/b382076/scratch/one_pass/IFS/tco2559-ng5/daily already exists\n",
      "2023-05-09 17:36:51 :: create_folder :: WARNING  -> Folder /home/b/b382076/scratch/one_pass already exists\n"
     ]
    }
   ],
   "source": [
    "opaopa = OPAgenerator(model=\"IFS\", exp=\"tco2559-ng5\", source=\"ICMGG_atm2d\", var='2t', frequency='daily',\n",
    "            outdir='/home/b/b382076/scratch/one_pass', tmpdir='/home/b/b382076/scratch/one_pass', definitive=False)\n"
   ]
  },
  {
   "attachments": {},
   "cell_type": "markdown",
   "metadata": {},
   "source": [
    "Then you can retrieve the data using the Reader. This is based on a streaming generator so far since we are using data from NextGEMS, will be later replaced with direct access from FDB. It also gave a look at the data so that it can infer the timedelta"
   ]
  },
  {
   "cell_type": "code",
   "execution_count": 4,
   "metadata": {},
   "outputs": [
    {
     "name": "stderr",
     "output_type": "stream",
     "text": [
      "2023-05-09 17:37:08 :: opa_generator :: WARNING  -> Getting the timedelta to inform the OPA...\n",
      "2023-05-09 17:37:18 :: opa_generator :: WARNING  -> Timedelta is 60\n"
     ]
    }
   ],
   "source": [
    "opaopa.retrieve()"
   ]
  },
  {
   "attachments": {},
   "cell_type": "markdown",
   "metadata": {},
   "source": [
    "This will launch the OPA computation, if the defitinive flag is true it will take ages and probably break the notebook. Otherwise print only the sequential access to the data from the Reader"
   ]
  },
  {
   "cell_type": "code",
   "execution_count": 5,
   "metadata": {},
   "outputs": [
    {
     "name": "stderr",
     "output_type": "stream",
     "text": [
      "2023-05-09 17:37:44 :: opa_generator :: WARNING  -> Setting up OPA at daily frequency for variable 2t...\n",
      "2023-05-09 17:37:44 :: opa_generator :: WARNING  -> Initializing the streaming generator...\n",
      "2023-05-09 17:37:50 :: opa_generator :: WARNING  -> start_date: 2020-01-20T00:00:00.000000000 stop_date: 2020-01-22T23:00:00.000000000\n",
      "2023-05-09 17:37:50 :: opa_generator :: WARNING  -> start_date: 2020-01-23T00:00:00.000000000 stop_date: 2020-01-25T23:00:00.000000000\n",
      "2023-05-09 17:37:50 :: opa_generator :: WARNING  -> start_date: 2020-01-26T00:00:00.000000000 stop_date: 2020-01-28T23:00:00.000000000\n",
      "2023-05-09 17:37:50 :: opa_generator :: WARNING  -> start_date: 2020-01-29T00:00:00.000000000 stop_date: 2020-01-31T23:00:00.000000000\n",
      "2023-05-09 17:37:51 :: opa_generator :: WARNING  -> start_date: 2020-02-01T00:00:00.000000000 stop_date: 2020-02-03T23:00:00.000000000\n",
      "2023-05-09 17:37:52 :: opa_generator :: WARNING  -> start_date: 2020-02-04T00:00:00.000000000 stop_date: 2020-02-06T23:00:00.000000000\n",
      "2023-05-09 17:37:52 :: opa_generator :: WARNING  -> start_date: 2020-02-07T00:00:00.000000000 stop_date: 2020-02-09T23:00:00.000000000\n",
      "2023-05-09 17:37:52 :: opa_generator :: WARNING  -> start_date: 2020-02-10T00:00:00.000000000 stop_date: 2020-02-12T23:00:00.000000000\n",
      "2023-05-09 17:37:53 :: opa_generator :: WARNING  -> start_date: 2020-02-13T00:00:00.000000000 stop_date: 2020-02-15T23:00:00.000000000\n",
      "2023-05-09 17:37:53 :: opa_generator :: WARNING  -> start_date: 2020-02-16T00:00:00.000000000 stop_date: 2020-02-18T23:00:00.000000000\n",
      "2023-05-09 17:37:53 :: opa_generator :: WARNING  -> start_date: 2020-02-19T00:00:00.000000000 stop_date: 2020-02-21T23:00:00.000000000\n",
      "2023-05-09 17:37:53 :: opa_generator :: WARNING  -> start_date: 2020-02-22T00:00:00.000000000 stop_date: 2020-02-24T23:00:00.000000000\n",
      "2023-05-09 17:37:54 :: opa_generator :: WARNING  -> start_date: 2020-02-25T00:00:00.000000000 stop_date: 2020-02-27T23:00:00.000000000\n",
      "2023-05-09 17:37:54 :: opa_generator :: WARNING  -> start_date: 2020-02-28T00:00:00.000000000 stop_date: 2020-03-01T23:00:00.000000000\n",
      "2023-05-09 17:37:55 :: opa_generator :: WARNING  -> start_date: 2020-03-02T00:00:00.000000000 stop_date: 2020-03-04T23:00:00.000000000\n",
      "2023-05-09 17:37:55 :: opa_generator :: WARNING  -> start_date: 2020-03-05T00:00:00.000000000 stop_date: 2020-03-07T23:00:00.000000000\n",
      "2023-05-09 17:37:56 :: opa_generator :: WARNING  -> start_date: 2020-03-08T00:00:00.000000000 stop_date: 2020-03-10T23:00:00.000000000\n",
      "2023-05-09 17:37:56 :: opa_generator :: WARNING  -> start_date: 2020-03-11T00:00:00.000000000 stop_date: 2020-03-13T23:00:00.000000000\n",
      "2023-05-09 17:37:56 :: opa_generator :: WARNING  -> start_date: 2020-03-14T00:00:00.000000000 stop_date: 2020-03-16T23:00:00.000000000\n",
      "2023-05-09 17:37:57 :: opa_generator :: WARNING  -> start_date: 2020-03-17T00:00:00.000000000 stop_date: 2020-03-19T23:00:00.000000000\n",
      "2023-05-09 17:37:57 :: opa_generator :: WARNING  -> start_date: 2020-03-20T00:00:00.000000000 stop_date: 2020-03-22T23:00:00.000000000\n",
      "2023-05-09 17:37:57 :: opa_generator :: WARNING  -> start_date: 2020-03-23T00:00:00.000000000 stop_date: 2020-03-25T23:00:00.000000000\n",
      "2023-05-09 17:37:58 :: opa_generator :: WARNING  -> start_date: 2020-03-26T00:00:00.000000000 stop_date: 2020-03-28T23:00:00.000000000\n",
      "2023-05-09 17:37:58 :: opa_generator :: WARNING  -> start_date: 2020-03-29T00:00:00.000000000 stop_date: 2020-03-31T23:00:00.000000000\n",
      "2023-05-09 17:37:59 :: opa_generator :: WARNING  -> start_date: 2020-04-01T00:00:00.000000000 stop_date: 2020-04-03T23:00:00.000000000\n",
      "2023-05-09 17:37:59 :: opa_generator :: WARNING  -> start_date: 2020-04-04T00:00:00.000000000 stop_date: 2020-04-06T23:00:00.000000000\n",
      "2023-05-09 17:37:59 :: opa_generator :: WARNING  -> start_date: 2020-04-07T00:00:00.000000000 stop_date: 2020-04-09T23:00:00.000000000\n",
      "2023-05-09 17:38:00 :: opa_generator :: WARNING  -> start_date: 2020-04-10T00:00:00.000000000 stop_date: 2020-04-12T23:00:00.000000000\n",
      "2023-05-09 17:38:00 :: opa_generator :: WARNING  -> start_date: 2020-04-13T00:00:00.000000000 stop_date: 2020-04-15T23:00:00.000000000\n",
      "2023-05-09 17:38:00 :: opa_generator :: WARNING  -> start_date: 2020-04-16T00:00:00.000000000 stop_date: 2020-04-18T23:00:00.000000000\n",
      "2023-05-09 17:38:01 :: opa_generator :: WARNING  -> start_date: 2020-04-19T00:00:00.000000000 stop_date: 2020-04-21T23:00:00.000000000\n",
      "2023-05-09 17:38:01 :: opa_generator :: WARNING  -> start_date: 2020-04-22T00:00:00.000000000 stop_date: 2020-04-24T23:00:00.000000000\n",
      "2023-05-09 17:38:01 :: opa_generator :: WARNING  -> start_date: 2020-04-25T00:00:00.000000000 stop_date: 2020-04-27T23:00:00.000000000\n",
      "2023-05-09 17:38:02 :: opa_generator :: WARNING  -> start_date: 2020-04-28T00:00:00.000000000 stop_date: 2020-04-30T23:00:00.000000000\n",
      "2023-05-09 17:38:02 :: opa_generator :: WARNING  -> start_date: 2020-05-01T00:00:00.000000000 stop_date: 2020-05-03T23:00:00.000000000\n",
      "2023-05-09 17:38:03 :: opa_generator :: WARNING  -> start_date: 2020-05-04T00:00:00.000000000 stop_date: 2020-05-06T23:00:00.000000000\n",
      "2023-05-09 17:38:03 :: opa_generator :: WARNING  -> start_date: 2020-05-07T00:00:00.000000000 stop_date: 2020-05-09T23:00:00.000000000\n",
      "2023-05-09 17:38:03 :: opa_generator :: WARNING  -> start_date: 2020-05-10T00:00:00.000000000 stop_date: 2020-05-12T23:00:00.000000000\n",
      "2023-05-09 17:38:04 :: opa_generator :: WARNING  -> start_date: 2020-05-13T00:00:00.000000000 stop_date: 2020-05-15T23:00:00.000000000\n",
      "2023-05-09 17:38:04 :: opa_generator :: WARNING  -> start_date: 2020-05-16T00:00:00.000000000 stop_date: 2020-05-18T23:00:00.000000000\n",
      "2023-05-09 17:38:04 :: opa_generator :: WARNING  -> start_date: 2020-05-19T00:00:00.000000000 stop_date: 2020-05-21T23:00:00.000000000\n",
      "2023-05-09 17:38:05 :: opa_generator :: WARNING  -> start_date: 2020-05-22T00:00:00.000000000 stop_date: 2020-05-24T23:00:00.000000000\n",
      "2023-05-09 17:38:05 :: opa_generator :: WARNING  -> start_date: 2020-05-25T00:00:00.000000000 stop_date: 2020-05-27T23:00:00.000000000\n",
      "2023-05-09 17:38:05 :: opa_generator :: WARNING  -> start_date: 2020-05-28T00:00:00.000000000 stop_date: 2020-05-30T23:00:00.000000000\n",
      "2023-05-09 17:38:06 :: opa_generator :: WARNING  -> start_date: 2020-05-31T00:00:00.000000000 stop_date: 2020-06-02T23:00:00.000000000\n",
      "2023-05-09 17:38:06 :: opa_generator :: WARNING  -> start_date: 2020-06-03T00:00:00.000000000 stop_date: 2020-06-05T23:00:00.000000000\n",
      "2023-05-09 17:38:07 :: opa_generator :: WARNING  -> start_date: 2020-06-06T00:00:00.000000000 stop_date: 2020-06-08T23:00:00.000000000\n",
      "2023-05-09 17:38:07 :: opa_generator :: WARNING  -> start_date: 2020-06-09T00:00:00.000000000 stop_date: 2020-06-11T23:00:00.000000000\n",
      "2023-05-09 17:38:07 :: opa_generator :: WARNING  -> start_date: 2020-06-12T00:00:00.000000000 stop_date: 2020-06-14T23:00:00.000000000\n",
      "2023-05-09 17:38:08 :: opa_generator :: WARNING  -> start_date: 2020-06-15T00:00:00.000000000 stop_date: 2020-06-17T23:00:00.000000000\n",
      "2023-05-09 17:38:08 :: opa_generator :: WARNING  -> start_date: 2020-06-18T00:00:00.000000000 stop_date: 2020-06-20T23:00:00.000000000\n",
      "2023-05-09 17:38:08 :: opa_generator :: WARNING  -> start_date: 2020-06-21T00:00:00.000000000 stop_date: 2020-06-23T23:00:00.000000000\n",
      "2023-05-09 17:38:09 :: opa_generator :: WARNING  -> start_date: 2020-06-24T00:00:00.000000000 stop_date: 2020-06-26T23:00:00.000000000\n",
      "2023-05-09 17:38:09 :: opa_generator :: WARNING  -> start_date: 2020-06-27T00:00:00.000000000 stop_date: 2020-06-29T23:00:00.000000000\n",
      "2023-05-09 17:38:10 :: opa_generator :: WARNING  -> start_date: 2020-06-30T00:00:00.000000000 stop_date: 2020-07-02T23:00:00.000000000\n",
      "2023-05-09 17:38:10 :: opa_generator :: WARNING  -> start_date: 2020-07-03T00:00:00.000000000 stop_date: 2020-07-05T23:00:00.000000000\n",
      "2023-05-09 17:38:10 :: opa_generator :: WARNING  -> start_date: 2020-07-06T00:00:00.000000000 stop_date: 2020-07-08T23:00:00.000000000\n",
      "2023-05-09 17:38:11 :: opa_generator :: WARNING  -> start_date: 2020-07-09T00:00:00.000000000 stop_date: 2020-07-11T23:00:00.000000000\n",
      "2023-05-09 17:38:11 :: opa_generator :: WARNING  -> start_date: 2020-07-12T00:00:00.000000000 stop_date: 2020-07-14T23:00:00.000000000\n",
      "2023-05-09 17:38:11 :: opa_generator :: WARNING  -> start_date: 2020-07-15T00:00:00.000000000 stop_date: 2020-07-17T23:00:00.000000000\n",
      "2023-05-09 17:38:12 :: opa_generator :: WARNING  -> start_date: 2020-07-18T00:00:00.000000000 stop_date: 2020-07-20T23:00:00.000000000\n",
      "2023-05-09 17:38:12 :: opa_generator :: WARNING  -> start_date: 2020-07-21T00:00:00.000000000 stop_date: 2020-07-23T23:00:00.000000000\n",
      "2023-05-09 17:38:12 :: opa_generator :: WARNING  -> start_date: 2020-07-24T00:00:00.000000000 stop_date: 2020-07-26T23:00:00.000000000\n",
      "2023-05-09 17:38:13 :: opa_generator :: WARNING  -> start_date: 2020-07-27T00:00:00.000000000 stop_date: 2020-07-29T23:00:00.000000000\n",
      "2023-05-09 17:38:13 :: opa_generator :: WARNING  -> start_date: 2020-07-30T00:00:00.000000000 stop_date: 2020-08-01T23:00:00.000000000\n",
      "2023-05-09 17:38:14 :: opa_generator :: WARNING  -> start_date: 2020-08-02T00:00:00.000000000 stop_date: 2020-08-04T23:00:00.000000000\n",
      "2023-05-09 17:38:14 :: opa_generator :: WARNING  -> start_date: 2020-08-05T00:00:00.000000000 stop_date: 2020-08-07T23:00:00.000000000\n",
      "2023-05-09 17:38:14 :: opa_generator :: WARNING  -> start_date: 2020-08-08T00:00:00.000000000 stop_date: 2020-08-10T23:00:00.000000000\n",
      "2023-05-09 17:38:15 :: opa_generator :: WARNING  -> start_date: 2020-08-11T00:00:00.000000000 stop_date: 2020-08-13T23:00:00.000000000\n",
      "2023-05-09 17:38:15 :: opa_generator :: WARNING  -> start_date: 2020-08-14T00:00:00.000000000 stop_date: 2020-08-16T23:00:00.000000000\n",
      "2023-05-09 17:38:15 :: opa_generator :: WARNING  -> start_date: 2020-08-17T00:00:00.000000000 stop_date: 2020-08-19T23:00:00.000000000\n",
      "2023-05-09 17:38:16 :: opa_generator :: WARNING  -> start_date: 2020-08-20T00:00:00.000000000 stop_date: 2020-08-22T23:00:00.000000000\n",
      "2023-05-09 17:38:16 :: opa_generator :: WARNING  -> start_date: 2020-08-23T00:00:00.000000000 stop_date: 2020-08-25T23:00:00.000000000\n",
      "2023-05-09 17:38:17 :: opa_generator :: WARNING  -> start_date: 2020-08-26T00:00:00.000000000 stop_date: 2020-08-28T23:00:00.000000000\n",
      "2023-05-09 17:38:17 :: opa_generator :: WARNING  -> start_date: 2020-08-29T00:00:00.000000000 stop_date: 2020-08-31T23:00:00.000000000\n",
      "2023-05-09 17:38:18 :: opa_generator :: WARNING  -> start_date: 2020-09-01T00:00:00.000000000 stop_date: 2020-09-03T23:00:00.000000000\n",
      "2023-05-09 17:38:18 :: opa_generator :: WARNING  -> start_date: 2020-09-04T00:00:00.000000000 stop_date: 2020-09-06T23:00:00.000000000\n",
      "2023-05-09 17:38:18 :: opa_generator :: WARNING  -> start_date: 2020-09-07T00:00:00.000000000 stop_date: 2020-09-09T23:00:00.000000000\n",
      "2023-05-09 17:38:18 :: opa_generator :: WARNING  -> start_date: 2020-09-10T00:00:00.000000000 stop_date: 2020-09-12T23:00:00.000000000\n",
      "2023-05-09 17:38:19 :: opa_generator :: WARNING  -> start_date: 2020-09-13T00:00:00.000000000 stop_date: 2020-09-15T23:00:00.000000000\n",
      "2023-05-09 17:38:19 :: opa_generator :: WARNING  -> start_date: 2020-09-16T00:00:00.000000000 stop_date: 2020-09-18T23:00:00.000000000\n",
      "2023-05-09 17:38:19 :: opa_generator :: WARNING  -> start_date: 2020-09-19T00:00:00.000000000 stop_date: 2020-09-21T23:00:00.000000000\n",
      "2023-05-09 17:38:20 :: opa_generator :: WARNING  -> start_date: 2020-09-22T00:00:00.000000000 stop_date: 2020-09-24T23:00:00.000000000\n",
      "2023-05-09 17:38:21 :: opa_generator :: WARNING  -> start_date: 2020-09-25T00:00:00.000000000 stop_date: 2020-09-27T23:00:00.000000000\n",
      "2023-05-09 17:38:21 :: opa_generator :: WARNING  -> start_date: 2020-09-28T00:00:00.000000000 stop_date: 2020-09-30T23:00:00.000000000\n",
      "2023-05-09 17:38:21 :: opa_generator :: WARNING  -> start_date: 2020-10-01T00:00:00.000000000 stop_date: 2020-10-03T23:00:00.000000000\n",
      "2023-05-09 17:38:22 :: opa_generator :: WARNING  -> start_date: 2020-10-04T00:00:00.000000000 stop_date: 2020-10-06T23:00:00.000000000\n",
      "2023-05-09 17:38:22 :: opa_generator :: WARNING  -> start_date: 2020-10-07T00:00:00.000000000 stop_date: 2020-10-09T23:00:00.000000000\n",
      "2023-05-09 17:38:22 :: opa_generator :: WARNING  -> start_date: 2020-10-10T00:00:00.000000000 stop_date: 2020-10-12T23:00:00.000000000\n",
      "2023-05-09 17:38:23 :: opa_generator :: WARNING  -> start_date: 2020-10-13T00:00:00.000000000 stop_date: 2020-10-15T23:00:00.000000000\n",
      "2023-05-09 17:38:23 :: opa_generator :: WARNING  -> start_date: 2020-10-16T00:00:00.000000000 stop_date: 2020-10-18T23:00:00.000000000\n",
      "2023-05-09 17:38:23 :: opa_generator :: WARNING  -> start_date: 2020-10-19T00:00:00.000000000 stop_date: 2020-10-21T23:00:00.000000000\n",
      "2023-05-09 17:38:24 :: opa_generator :: WARNING  -> start_date: 2020-10-22T00:00:00.000000000 stop_date: 2020-10-24T23:00:00.000000000\n",
      "2023-05-09 17:38:25 :: opa_generator :: WARNING  -> start_date: 2020-10-25T00:00:00.000000000 stop_date: 2020-10-27T23:00:00.000000000\n",
      "2023-05-09 17:38:26 :: opa_generator :: WARNING  -> start_date: 2020-10-28T00:00:00.000000000 stop_date: 2020-10-30T23:00:00.000000000\n",
      "2023-05-09 17:38:26 :: opa_generator :: WARNING  -> start_date: 2020-10-31T00:00:00.000000000 stop_date: 2020-11-02T23:00:00.000000000\n",
      "2023-05-09 17:38:26 :: opa_generator :: WARNING  -> start_date: 2020-11-03T00:00:00.000000000 stop_date: 2020-11-05T23:00:00.000000000\n",
      "2023-05-09 17:38:27 :: opa_generator :: WARNING  -> start_date: 2020-11-06T00:00:00.000000000 stop_date: 2020-11-08T23:00:00.000000000\n",
      "2023-05-09 17:38:27 :: opa_generator :: WARNING  -> start_date: 2020-11-09T00:00:00.000000000 stop_date: 2020-11-11T23:00:00.000000000\n",
      "2023-05-09 17:38:27 :: opa_generator :: WARNING  -> start_date: 2020-11-12T00:00:00.000000000 stop_date: 2020-11-14T23:00:00.000000000\n",
      "2023-05-09 17:38:28 :: opa_generator :: WARNING  -> start_date: 2020-11-15T00:00:00.000000000 stop_date: 2020-11-17T23:00:00.000000000\n",
      "2023-05-09 17:38:28 :: opa_generator :: WARNING  -> start_date: 2020-11-18T00:00:00.000000000 stop_date: 2020-11-20T23:00:00.000000000\n",
      "2023-05-09 17:38:28 :: opa_generator :: WARNING  -> start_date: 2020-11-21T00:00:00.000000000 stop_date: 2020-11-23T23:00:00.000000000\n",
      "2023-05-09 17:38:29 :: opa_generator :: WARNING  -> start_date: 2020-11-24T00:00:00.000000000 stop_date: 2020-11-26T23:00:00.000000000\n",
      "2023-05-09 17:38:29 :: opa_generator :: WARNING  -> start_date: 2020-11-27T00:00:00.000000000 stop_date: 2020-11-29T23:00:00.000000000\n",
      "2023-05-09 17:38:30 :: opa_generator :: WARNING  -> start_date: 2020-11-30T00:00:00.000000000 stop_date: 2020-12-02T23:00:00.000000000\n",
      "2023-05-09 17:38:30 :: opa_generator :: WARNING  -> start_date: 2020-12-03T00:00:00.000000000 stop_date: 2020-12-05T23:00:00.000000000\n",
      "2023-05-09 17:38:30 :: opa_generator :: WARNING  -> start_date: 2020-12-06T00:00:00.000000000 stop_date: 2020-12-08T23:00:00.000000000\n",
      "2023-05-09 17:38:31 :: opa_generator :: WARNING  -> start_date: 2020-12-09T00:00:00.000000000 stop_date: 2020-12-11T23:00:00.000000000\n",
      "2023-05-09 17:38:31 :: opa_generator :: WARNING  -> start_date: 2020-12-12T00:00:00.000000000 stop_date: 2020-12-14T23:00:00.000000000\n",
      "2023-05-09 17:38:31 :: opa_generator :: WARNING  -> start_date: 2020-12-15T00:00:00.000000000 stop_date: 2020-12-17T23:00:00.000000000\n",
      "2023-05-09 17:38:32 :: opa_generator :: WARNING  -> start_date: 2020-12-18T00:00:00.000000000 stop_date: 2020-12-20T23:00:00.000000000\n",
      "2023-05-09 17:38:32 :: opa_generator :: WARNING  -> start_date: 2020-12-21T00:00:00.000000000 stop_date: 2020-12-23T23:00:00.000000000\n",
      "2023-05-09 17:38:33 :: opa_generator :: WARNING  -> start_date: 2020-12-24T00:00:00.000000000 stop_date: 2020-12-26T23:00:00.000000000\n",
      "2023-05-09 17:38:33 :: opa_generator :: WARNING  -> start_date: 2020-12-27T00:00:00.000000000 stop_date: 2020-12-29T23:00:00.000000000\n",
      "2023-05-09 17:38:33 :: opa_generator :: WARNING  -> start_date: 2020-12-30T00:00:00.000000000 stop_date: 2021-01-01T00:00:00.000000000\n"
     ]
    }
   ],
   "source": [
    "opaopa.compute()"
   ]
  },
  {
   "attachments": {},
   "cell_type": "markdown",
   "metadata": {},
   "source": [
    "You can then add an entry to the catalog so that you can access these data from somewhere else"
   ]
  },
  {
   "cell_type": "code",
   "execution_count": 6,
   "metadata": {},
   "outputs": [
    {
     "name": "stderr",
     "output_type": "stream",
     "text": [
      "2023-05-09 17:40:01 :: opa_generator :: WARNING  -> Creating catalog entry IFS tco2559-ng5 tmp-opa-daily\n"
     ]
    }
   ],
   "source": [
    "opaopa.create_catalog_entry()"
   ]
  },
  {
   "attachments": {},
   "cell_type": "markdown",
   "metadata": {},
   "source": [
    "This remove the entries (and in the future also the files), once all the computation have been safely concluded"
   ]
  },
  {
   "cell_type": "code",
   "execution_count": 7,
   "metadata": {},
   "outputs": [
    {
     "name": "stderr",
     "output_type": "stream",
     "text": [
      "2023-05-09 17:40:03 :: opa_generator :: WARNING  -> Removing catalog entry IFS tco2559-ng5 tmp-opa-daily\n"
     ]
    }
   ],
   "source": [
    "opaopa.safe_clean()"
   ]
  }
 ],
 "metadata": {
  "kernelspec": {
   "display_name": "aqua",
   "language": "python",
   "name": "python3"
  },
  "language_info": {
   "codemirror_mode": {
    "name": "ipython",
    "version": 3
   },
   "file_extension": ".py",
   "mimetype": "text/x-python",
   "name": "python",
   "nbconvert_exporter": "python",
   "pygments_lexer": "ipython3",
   "version": "3.10.10"
  },
  "orig_nbformat": 4
 },
 "nbformat": 4,
 "nbformat_minor": 2
}
