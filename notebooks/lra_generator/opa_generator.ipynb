{
 "cells": [
  {
   "attachments": {},
   "cell_type": "markdown",
   "metadata": {},
   "source": [
    "## A wrapper for OPA within AQUA"
   ]
  },
  {
   "cell_type": "code",
   "execution_count": 2,
   "metadata": {},
   "outputs": [],
   "source": [
    "from aqua import OPAgenerator"
   ]
  },
  {
   "attachments": {},
   "cell_type": "markdown",
   "metadata": {},
   "source": [
    "Initialize the OPA generator class, feeding it with the most of the information you need. Which variable, which model source and where to store the data.  Please change the outdir if you want to try this notebook!"
   ]
  },
  {
   "cell_type": "code",
   "execution_count": 3,
   "metadata": {},
   "outputs": [],
   "source": [
    "model = 'IFS'\n",
    "exp = 'tco2559-ng5'\n",
    "source = 'ICMGG_atm2d'\n",
    "outdir = '/home/b/b382321/scratch/one_pass'\n",
    "tmpdir = '/home/b/b382321/scratch/one_pass'"
   ]
  },
  {
   "cell_type": "code",
   "execution_count": 4,
   "metadata": {},
   "outputs": [
    {
     "name": "stderr",
     "output_type": "stream",
     "text": [
      "2023-05-17 17:38:04 :: opa_generator :: WARNING  -> IMPORTANT: no file will be created, this is a dry run\n",
      "2023-05-17 17:38:04 :: opa_generator :: WARNING  -> Variable(s) to be processed: 2t\n",
      "2023-05-17 17:38:04 :: create_folder :: WARNING  -> Creating folder /home/b/b382321/scratch/one_pass/IFS/tco2559-ng5/daily\n",
      "2023-05-17 17:38:04 :: create_folder :: WARNING  -> Folder /home/b/b382321/scratch/one_pass already exists\n"
     ]
    }
   ],
   "source": [
    "opaopa = OPAgenerator(model=model, exp=exp, source=source, var='2t', frequency='daily',\n",
    "            outdir=outdir, tmpdir=tmpdir, definitive=False, loglevel ='INFO')\n"
   ]
  },
  {
   "attachments": {},
   "cell_type": "markdown",
   "metadata": {},
   "source": [
    "Then you can retrieve the data using the `Reader`. This is based on a streaming generator so far, since we are using data from NextGEMS. It will be later replaced with direct access from `FDB`. It also gives a look at the data so that it can infer the timedelta"
   ]
  },
  {
   "cell_type": "code",
   "execution_count": 5,
   "metadata": {},
   "outputs": [
    {
     "name": "stderr",
     "output_type": "stream",
     "text": [
      "2023-05-17 17:38:10 :: opa_generator :: INFO     -> Accessing catalog for IFS-tco2559-ng5-ICMGG_atm2d...\n",
      "2023-05-17 17:38:29 :: opa_generator :: INFO     -> Getting the timedelta to inform the OPA...\n",
      "2023-05-17 17:38:35 :: Reader :: INFO     -> tprate: m --> m s**-1\n",
      "2023-05-17 17:38:35 :: Reader :: INFO     -> tprate: corrected dividing by accumulation time 3600 s\n",
      "2023-05-17 17:38:35 :: Reader :: INFO     -> Fixing tp to tprate. Unit fix: factor=0.000278, offset=0.000000\n",
      "2023-05-17 17:38:35 :: Reader :: INFO     -> Grib attributes for cprate: {'paramId': '172143', 'long_name': 'Mean convective precipitation rate', 'units': 'm s**-1', 'cfVarName': 'cprate', 'shortName': 'cprate'}\n",
      "2023-05-17 17:38:35 :: Reader :: INFO     -> var172143: m --> m s**-1\n",
      "2023-05-17 17:38:35 :: Reader :: INFO     -> var172143: corrected dividing by accumulation time 3600 s\n",
      "2023-05-17 17:38:35 :: Reader :: INFO     -> Fixing cp to var172143. Unit fix: factor=0.000278, offset=0.000000\n",
      "2023-05-17 17:38:35 :: Reader :: INFO     -> mlsprt: m --> m s**-1\n",
      "2023-05-17 17:38:35 :: Reader :: INFO     -> mlsprt: corrected dividing by accumulation time 3600 s\n",
      "2023-05-17 17:38:35 :: Reader :: INFO     -> Fixing lsp to mlsprt. Unit fix: factor=0.000278, offset=0.000000\n",
      "2023-05-17 17:38:35 :: Reader :: INFO     -> erate: m --> m of water s**-1\n",
      "2023-05-17 17:38:35 :: Reader :: INFO     -> erate: corrected dividing by accumulation time 3600 s\n",
      "2023-05-17 17:38:35 :: Reader :: INFO     -> Fixing e to erate. Unit fix: factor=0.000278, offset=0.000000\n",
      "2023-05-17 17:38:35 :: Reader :: INFO     -> esrate: m of water equivalent --> m of water s**-1\n",
      "2023-05-17 17:38:35 :: Reader :: INFO     -> esrate: corrected dividing by accumulation time 3600 s\n",
      "2023-05-17 17:38:35 :: Reader :: INFO     -> Fixing es to esrate. Unit fix: factor=0.000278, offset=0.000000\n",
      "2023-05-17 17:38:35 :: Reader :: INFO     -> mrort: m --> m s**-1\n",
      "2023-05-17 17:38:35 :: Reader :: INFO     -> mrort: corrected dividing by accumulation time 3600 s\n",
      "2023-05-17 17:38:35 :: Reader :: INFO     -> Fixing ro to mrort. Unit fix: factor=0.000278, offset=0.000000\n",
      "2023-05-17 17:38:35 :: Reader :: INFO     -> mtsfr: m of water equivalent --> m of water equivalent s**-1\n",
      "2023-05-17 17:38:35 :: Reader :: INFO     -> mtsfr: corrected dividing by accumulation time 3600 s\n",
      "2023-05-17 17:38:35 :: Reader :: INFO     -> Fixing sf to mtsfr. Unit fix: factor=0.000278, offset=0.000000\n",
      "2023-05-17 17:38:35 :: Reader :: INFO     -> mslhfl: J m**-2 --> W m**-2\n",
      "2023-05-17 17:38:35 :: Reader :: INFO     -> mslhfl: corrected dividing by accumulation time 3600 s\n",
      "2023-05-17 17:38:35 :: Reader :: INFO     -> Fixing slhf to mslhfl. Unit fix: factor=0.000278, offset=0.000000\n",
      "2023-05-17 17:38:35 :: Reader :: INFO     -> msshfl: J m**-2 --> W m**-2\n",
      "2023-05-17 17:38:35 :: Reader :: INFO     -> msshfl: corrected dividing by accumulation time 3600 s\n",
      "2023-05-17 17:38:35 :: Reader :: INFO     -> Fixing sshf to msshfl. Unit fix: factor=0.000278, offset=0.000000\n",
      "2023-05-17 17:38:35 :: Reader :: INFO     -> msnsrf: J m**-2 --> W m**-2\n",
      "2023-05-17 17:38:35 :: Reader :: INFO     -> msnsrf: corrected dividing by accumulation time 3600 s\n",
      "2023-05-17 17:38:35 :: Reader :: INFO     -> Fixing ssr to msnsrf. Unit fix: factor=0.000278, offset=0.000000\n",
      "2023-05-17 17:38:35 :: Reader :: INFO     -> msdsrf: J m**-2 --> W m**-2\n",
      "2023-05-17 17:38:35 :: Reader :: INFO     -> msdsrf: corrected dividing by accumulation time 3600 s\n",
      "2023-05-17 17:38:35 :: Reader :: INFO     -> Fixing ssrd to msdsrf. Unit fix: factor=0.000278, offset=0.000000\n",
      "2023-05-17 17:38:35 :: Reader :: INFO     -> msntrf: J m**-2 --> W m**-2\n",
      "2023-05-17 17:38:35 :: Reader :: INFO     -> msntrf: corrected dividing by accumulation time 3600 s\n",
      "2023-05-17 17:38:35 :: Reader :: INFO     -> Fixing str to msntrf. Unit fix: factor=0.000278, offset=0.000000\n",
      "2023-05-17 17:38:35 :: Reader :: INFO     -> msdtrf: J m**-2 --> W m**-2\n",
      "2023-05-17 17:38:35 :: Reader :: INFO     -> msdtrf: corrected dividing by accumulation time 3600 s\n",
      "2023-05-17 17:38:35 :: Reader :: INFO     -> Fixing strd to msdtrf. Unit fix: factor=0.000278, offset=0.000000\n",
      "2023-05-17 17:38:35 :: Reader :: INFO     -> mtnsrf: J m**-2 --> W m**-2\n",
      "2023-05-17 17:38:35 :: Reader :: INFO     -> mtnsrf: corrected dividing by accumulation time 3600 s\n",
      "2023-05-17 17:38:35 :: Reader :: INFO     -> Fixing tsr to mtnsrf. Unit fix: factor=0.000278, offset=0.000000\n",
      "2023-05-17 17:38:35 :: Reader :: INFO     -> mtntrf: J m**-2 --> W m**-2\n",
      "2023-05-17 17:38:35 :: Reader :: INFO     -> mtntrf: corrected dividing by accumulation time 3600 s\n",
      "2023-05-17 17:38:35 :: Reader :: INFO     -> Fixing ttr to mtntrf. Unit fix: factor=0.000278, offset=0.000000\n",
      "2023-05-17 17:38:35 :: Reader :: INFO     -> var172045: m of water equivalent --> m of water s**-1\n",
      "2023-05-17 17:38:35 :: Reader :: INFO     -> var172045: corrected dividing by accumulation time 3600 s\n",
      "2023-05-17 17:38:35 :: Reader :: INFO     -> Fixing smlt to var172045. Unit fix: factor=0.000278, offset=0.000000\n",
      "2023-05-17 17:38:40 :: Reader :: INFO     -> Data model: ../../config/data_models/ifs2cds.json\n",
      "2023-05-17 17:38:40 :: opa_generator :: INFO     -> Timedelta is 60\n"
     ]
    }
   ],
   "source": [
    "opaopa.retrieve()"
   ]
  },
  {
   "attachments": {},
   "cell_type": "markdown",
   "metadata": {},
   "source": [
    "This will launch the OPA computation, if the `definitive` flag is `true` it will take ages and probably break the notebook. Here, we only print the sequential access to the data from the `Reader` (note that to print the sequential access the loglevel should be set to `INFO` or `DEBUG`)."
   ]
  },
  {
   "cell_type": "code",
   "execution_count": null,
   "metadata": {},
   "outputs": [],
   "source": [
    "opaopa.generate_opa()"
   ]
  },
  {
   "attachments": {},
   "cell_type": "markdown",
   "metadata": {},
   "source": [
    "You can then add an entry to the catalog so that you can access these data from somewhere else."
   ]
  },
  {
   "cell_type": "code",
   "execution_count": 7,
   "metadata": {},
   "outputs": [
    {
     "name": "stderr",
     "output_type": "stream",
     "text": [
      "2023-05-17 17:39:26 :: opa_generator :: WARNING  -> Creating catalog entry IFS tco2559-ng5 tmp-opa-daily\n"
     ]
    }
   ],
   "source": [
    "opaopa.create_catalog_entry()"
   ]
  },
  {
   "cell_type": "code",
   "execution_count": 8,
   "metadata": {},
   "outputs": [],
   "source": [
    "from aqua import Reader\n",
    "reader = Reader(model=\"IFS\", exp=\"tco2559-ng5\", source=\"tmp-opa-daily\",areas=False)"
   ]
  },
  {
   "attachments": {},
   "cell_type": "markdown",
   "metadata": {},
   "source": [
    "Remember that in order to really access and work with data, a run with `definitive` set to `True` is needed."
   ]
  },
  {
   "attachments": {},
   "cell_type": "markdown",
   "metadata": {},
   "source": [
    "The following command removes the entries (and in the future also the files), once all the computation have been safely concluded"
   ]
  },
  {
   "cell_type": "code",
   "execution_count": 9,
   "metadata": {},
   "outputs": [
    {
     "name": "stderr",
     "output_type": "stream",
     "text": [
      "2023-05-17 17:39:32 :: opa_generator :: WARNING  -> Removing catalog entry IFS tco2559-ng5 tmp-opa-daily\n"
     ]
    }
   ],
   "source": [
    "opaopa.clean()"
   ]
  },
  {
   "cell_type": "code",
   "execution_count": null,
   "metadata": {},
   "outputs": [],
   "source": []
  }
 ],
 "metadata": {
  "kernelspec": {
   "display_name": "aqua",
   "language": "python",
   "name": "python3"
  },
  "language_info": {
   "codemirror_mode": {
    "name": "ipython",
    "version": 3
   },
   "file_extension": ".py",
   "mimetype": "text/x-python",
   "name": "python",
   "nbconvert_exporter": "python",
   "pygments_lexer": "ipython3",
   "version": "3.10.9"
  },
  "orig_nbformat": 4
 },
 "nbformat": 4,
 "nbformat_minor": 2
}
