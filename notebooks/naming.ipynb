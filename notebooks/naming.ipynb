{
 "cells": [
  {
   "cell_type": "markdown",
   "metadata": {},
   "source": [
    "The OutputNamer class is a versatile tool designed to simplify and standardize the process of generating and managing filenames for various types of output files, such as netCDF and PDF documents, in a scientific or analytical context. This class supports customizing filenames based on a range of parameters including diagnostic names, models, experiments, and diagnostic products. Additionally, it offers the flexibility to incorporate user-defined keywords, allowing for even more detailed customization of the filename structure.\n",
    "\n",
    "Key functionalities include:\n",
    "\n",
    "- Initialization with default settings: Set up initial parameters like diagnostic name, model, experiment identifier, and default save paths.\n",
    "\n",
    "- Logging capabilities: Integrated logging supports different levels of message verbosity, aiding in debugging and tracking the file naming process.\n",
    "\n",
    "- Dynamic filename generation: Automatically constructs filenames based on provided parameters and additional user-defined keywords, ensuring a consistent and informative naming convention.\n",
    "\n",
    "- Simulated file saving: Methods save_nc and save_pdf simulate saving files with the generated names, demonstrating the class's ability to prepare for actual file output operations.\n",
    "\n",
    "- Arbitrary keyword arguments for filename generation increase its adaptability to various project requirements, making the OutputNamer class a robust solution for managing file outputs in data analysis and research projects."
   ]
  },
  {
   "cell_type": "code",
   "execution_count": 25,
   "metadata": {},
   "outputs": [],
   "source": [
    "from aqua.util import OutputNamer"
   ]
  },
  {
   "cell_type": "code",
   "execution_count": 26,
   "metadata": {},
   "outputs": [
    {
     "name": "stdout",
     "output_type": "stream",
     "text": [
      "The autoreload extension is already loaded. To reload it, use:\n",
      "  %reload_ext autoreload\n"
     ]
    }
   ],
   "source": [
    "%load_ext autoreload\n",
    "%autoreload 2"
   ]
  },
  {
   "cell_type": "markdown",
   "metadata": {},
   "source": [
    "This line initializes an OutputNamer instance for managing filenames related to the tropical rainfall diagnostic, using the MSWEP model for past experiments, with debug logging level, and setting the current directory as the default path for file outputs."
   ]
  },
  {
   "cell_type": "code",
   "execution_count": 35,
   "metadata": {},
   "outputs": [
    {
     "name": "stderr",
     "output_type": "stream",
     "text": [
      "\u001b[37m2024-03-11 15:49:54 :: OutputNamer :: DEBUG    -> OutputNamer initialized with diagnostic: tropical_rainfall, model: MSWEP, exp: past, default_path: .\u001b[0m\n"
     ]
    }
   ],
   "source": [
    "names = OutputNamer(diagnostic='tropical_rainfall', model='MSWEP', exp='past', loglevel='debug', default_path='.')"
   ]
  },
  {
   "cell_type": "markdown",
   "metadata": {},
   "source": [
    "This line generates a filename for a netCDF file (suffix='nc') that reflects the mean diagnostic product of the tropical rainfall analysis, utilizing the previously configured parameters of the OutputNamer instance."
   ]
  },
  {
   "cell_type": "code",
   "execution_count": 36,
   "metadata": {},
   "outputs": [
    {
     "name": "stderr",
     "output_type": "stream",
     "text": [
      "\u001b[37m2024-03-11 15:49:57 :: OutputNamer :: DEBUG    -> Diagnostic product updated to: mean\u001b[0m\n",
      "\u001b[37m2024-03-11 15:49:57 :: OutputNamer :: DEBUG    -> Generated filename with kwargs: tropical_rainfall.mean.MSWEP.past.nc\u001b[0m\n"
     ]
    },
    {
     "data": {
      "text/plain": [
       "'tropical_rainfall.mean.MSWEP.past.nc'"
      ]
     },
     "execution_count": 36,
     "metadata": {},
     "output_type": "execute_result"
    }
   ],
   "source": [
    "names.generate_name(diagnostic_product='mean', suffix='nc')"
   ]
  },
  {
   "cell_type": "markdown",
   "metadata": {},
   "source": [
    "This line simulates saving a netCDF file to the parent directory (path='..'), using the previously set parameters and the default naming convention established by the OutputNamer instance."
   ]
  },
  {
   "cell_type": "code",
   "execution_count": 37,
   "metadata": {},
   "outputs": [
    {
     "name": "stderr",
     "output_type": "stream",
     "text": [
      "\u001b[37m2024-03-11 15:50:00 :: OutputNamer :: DEBUG    -> Generated filename with kwargs: tropical_rainfall.mean.MSWEP.past.nc\u001b[0m\n",
      "\u001b[38;2;64;184;50m2024-03-11 15:50:00 :: OutputNamer :: INFO     -> Simulated saving netCDF file at: ../tropical_rainfall.mean.MSWEP.past.nc\u001b[0m\n"
     ]
    },
    {
     "data": {
      "text/plain": [
       "'../tropical_rainfall.mean.MSWEP.past.nc'"
      ]
     },
     "execution_count": 37,
     "metadata": {},
     "output_type": "execute_result"
    }
   ],
   "source": [
    "names.save_nc(path='..')"
   ]
  },
  {
   "cell_type": "markdown",
   "metadata": {},
   "source": [
    "This line simulates saving a PDF file in the default directory, using the current settings and naming convention defined in the OutputNamer instance."
   ]
  },
  {
   "cell_type": "code",
   "execution_count": 38,
   "metadata": {},
   "outputs": [
    {
     "name": "stderr",
     "output_type": "stream",
     "text": [
      "\u001b[37m2024-03-11 15:50:06 :: OutputNamer :: DEBUG    -> Generated filename with kwargs: tropical_rainfall.mean.MSWEP.past.pdf\u001b[0m\n",
      "\u001b[38;2;64;184;50m2024-03-11 15:50:06 :: OutputNamer :: INFO     -> Simulated saving PDF file at: ./tropical_rainfall.mean.MSWEP.past.pdf\u001b[0m\n"
     ]
    },
    {
     "data": {
      "text/plain": [
       "'./tropical_rainfall.mean.MSWEP.past.pdf'"
      ]
     },
     "execution_count": 38,
     "metadata": {},
     "output_type": "execute_result"
    }
   ],
   "source": [
    "names.save_pdf()"
   ]
  },
  {
   "cell_type": "markdown",
   "metadata": {},
   "source": [
    "This line simulates saving a netCDF file, comparing the original model (MSWEP) and experiment (past) with a second model (ERA5) and its experiment (era5), using the established naming conventions of the OutputNamer instance."
   ]
  },
  {
   "cell_type": "code",
   "execution_count": 39,
   "metadata": {},
   "outputs": [
    {
     "name": "stderr",
     "output_type": "stream",
     "text": [
      "\u001b[37m2024-03-11 15:50:14 :: OutputNamer :: DEBUG    -> Generated filename with kwargs: tropical_rainfall.mean.MSWEP.past.ERA5.era5.nc\u001b[0m\n",
      "\u001b[38;2;64;184;50m2024-03-11 15:50:14 :: OutputNamer :: INFO     -> Simulated saving netCDF file at: ./tropical_rainfall.mean.MSWEP.past.ERA5.era5.nc\u001b[0m\n"
     ]
    },
    {
     "data": {
      "text/plain": [
       "'./tropical_rainfall.mean.MSWEP.past.ERA5.era5.nc'"
      ]
     },
     "execution_count": 39,
     "metadata": {},
     "output_type": "execute_result"
    }
   ],
   "source": [
    "names.save_nc(model_2='ERA5', exp_2='era5')"
   ]
  },
  {
   "cell_type": "markdown",
   "metadata": {},
   "source": [
    "This line simulates saving a netCDF file that includes a comparison between two models (MSWEP and ERA5) for the specified time range (January 1990) and area (Indian Ocean), showcasing the OutputNamer class's ability to dynamically construct detailed filenames based on multiple parameters."
   ]
  },
  {
   "cell_type": "code",
   "execution_count": 40,
   "metadata": {},
   "outputs": [
    {
     "name": "stderr",
     "output_type": "stream",
     "text": [
      "\u001b[37m2024-03-11 15:50:16 :: OutputNamer :: DEBUG    -> Generated filename with kwargs: tropical_rainfall.mean.MSWEP.past.ERA5.era5.indian_ocean.1990-01.nc\u001b[0m\n",
      "\u001b[38;2;64;184;50m2024-03-11 15:50:16 :: OutputNamer :: INFO     -> Simulated saving netCDF file at: ./tropical_rainfall.mean.MSWEP.past.ERA5.era5.indian_ocean.1990-01.nc\u001b[0m\n"
     ]
    },
    {
     "data": {
      "text/plain": [
       "'./tropical_rainfall.mean.MSWEP.past.ERA5.era5.indian_ocean.1990-01.nc'"
      ]
     },
     "execution_count": 40,
     "metadata": {},
     "output_type": "execute_result"
    }
   ],
   "source": [
    "names.save_nc(model_2='ERA5', exp_2='era5', time_range='1990-01', area='indian_ocean')"
   ]
  },
  {
   "cell_type": "markdown",
   "metadata": {},
   "source": [
    "This line simulates saving a netCDF file with a filename that incorporates details from two models (MSWEP and ERA5), the experiments (past and era5), a specific time range (January to February 1990), and the geographical area (Indian Ocean), demonstrating the OutputNamer class's capability for precise and descriptive file naming."
   ]
  },
  {
   "cell_type": "code",
   "execution_count": 41,
   "metadata": {},
   "outputs": [
    {
     "name": "stderr",
     "output_type": "stream",
     "text": [
      "\u001b[37m2024-03-11 15:50:24 :: OutputNamer :: DEBUG    -> Generated filename with kwargs: tropical_rainfall.mean.MSWEP.past.ERA5.era5.indian_ocean.1990-01-1990-02.nc\u001b[0m\n"
     ]
    },
    {
     "name": "stderr",
     "output_type": "stream",
     "text": [
      "\u001b[38;2;64;184;50m2024-03-11 15:50:24 :: OutputNamer :: INFO     -> Simulated saving netCDF file at: ./tropical_rainfall.mean.MSWEP.past.ERA5.era5.indian_ocean.1990-01-1990-02.nc\u001b[0m\n"
     ]
    },
    {
     "data": {
      "text/plain": [
       "'./tropical_rainfall.mean.MSWEP.past.ERA5.era5.indian_ocean.1990-01-1990-02.nc'"
      ]
     },
     "execution_count": 41,
     "metadata": {},
     "output_type": "execute_result"
    }
   ],
   "source": [
    "names.save_nc(model_2='ERA5', exp_2='era5', time_range='1990-01-1990-02', area='indian_ocean')"
   ]
  },
  {
   "cell_type": "markdown",
   "metadata": {},
   "source": [
    "This command simulates saving a netCDF file for the mean total precipitation rate (var='mtpr') over the Indian Ocean, from January to February 1990, comparing outputs from the MSWEP model (past experiment) and ERA5 model (era5 experiment), demonstrating the OutputNamer class's utility in generating descriptive filenames for complex datasets."
   ]
  },
  {
   "cell_type": "code",
   "execution_count": 42,
   "metadata": {},
   "outputs": [
    {
     "name": "stderr",
     "output_type": "stream",
     "text": [
      "\u001b[37m2024-03-11 15:50:28 :: OutputNamer :: DEBUG    -> Generated filename with kwargs: tropical_rainfall.mean.mtpr.MSWEP.past.ERA5.era5.indian_ocean.1990-01-1990-02.nc\u001b[0m\n",
      "\u001b[38;2;64;184;50m2024-03-11 15:50:28 :: OutputNamer :: INFO     -> Simulated saving netCDF file at: ./tropical_rainfall.mean.mtpr.MSWEP.past.ERA5.era5.indian_ocean.1990-01-1990-02.nc\u001b[0m\n"
     ]
    },
    {
     "data": {
      "text/plain": [
       "'./tropical_rainfall.mean.mtpr.MSWEP.past.ERA5.era5.indian_ocean.1990-01-1990-02.nc'"
      ]
     },
     "execution_count": 42,
     "metadata": {},
     "output_type": "execute_result"
    }
   ],
   "source": [
    "names.save_nc(var='mtpr', model_2='ERA5', exp_2='era5', time_range='1990-01-1990-02', area='indian_ocean')"
   ]
  },
  {
   "cell_type": "markdown",
   "metadata": {},
   "source": [
    "This line generates a filename for a netCDF file, incorporating the mean diagnostic product with additional specifications for resolution (1km) and status (preliminary), showcasing the flexibility of the OutputNamer class in creating detailed and informative filenames based on a combination of preset and user-defined parameters."
   ]
  },
  {
   "cell_type": "code",
   "execution_count": 44,
   "metadata": {},
   "outputs": [
    {
     "name": "stderr",
     "output_type": "stream",
     "text": [
      "\u001b[37m2024-03-11 15:56:06 :: OutputNamer :: DEBUG    -> Diagnostic product updated to: mean\u001b[0m\n",
      "\u001b[37m2024-03-11 15:56:06 :: OutputNamer :: DEBUG    -> Generated filename with kwargs: tropical_rainfall.mean.MSWEP.past.resolution_1km.status_preliminary.nc\u001b[0m\n"
     ]
    },
    {
     "data": {
      "text/plain": [
       "'tropical_rainfall.mean.MSWEP.past.resolution_1km.status_preliminary.nc'"
      ]
     },
     "execution_count": 44,
     "metadata": {},
     "output_type": "execute_result"
    }
   ],
   "source": [
    "names.generate_name(diagnostic_product='mean', suffix='nc',  resolution=\"1km\", status=\"preliminary\")"
   ]
  },
  {
   "cell_type": "markdown",
   "metadata": {},
   "source": [
    "This command exemplifies how the OutputNamer class flexibly incorporates both essential and additional dataset attributes—like the frequency (every 3 hours) and status (preliminary)—into the filename when simulating the saving of a netCDF file, showcasing its ability to generate comprehensive and descriptive filenames tailored to specific dataset characteristics."
   ]
  },
  {
   "cell_type": "code",
   "execution_count": 45,
   "metadata": {},
   "outputs": [
    {
     "name": "stderr",
     "output_type": "stream",
     "text": [
      "\u001b[37m2024-03-11 15:56:39 :: OutputNamer :: DEBUG    -> Generated filename with kwargs: tropical_rainfall.mean.mtpr.MSWEP.past.ERA5.era5.1990-01-1990-02.frequency_3H.status_preliminary.nc\u001b[0m\n",
      "\u001b[38;2;64;184;50m2024-03-11 15:56:39 :: OutputNamer :: INFO     -> Simulated saving netCDF file at: ./tropical_rainfall.mean.mtpr.MSWEP.past.ERA5.era5.1990-01-1990-02.frequency_3H.status_preliminary.nc\u001b[0m\n"
     ]
    },
    {
     "data": {
      "text/plain": [
       "'./tropical_rainfall.mean.mtpr.MSWEP.past.ERA5.era5.1990-01-1990-02.frequency_3H.status_preliminary.nc'"
      ]
     },
     "execution_count": 45,
     "metadata": {},
     "output_type": "execute_result"
    }
   ],
   "source": [
    "names.save_nc(var='mtpr', model_2='ERA5', exp_2='era5', time_range='1990-01-1990-02',  frequency=\"3H\", status=\"preliminary\")"
   ]
  },
  {
   "cell_type": "code",
   "execution_count": null,
   "metadata": {},
   "outputs": [],
   "source": []
  }
 ],
 "metadata": {
  "kernelspec": {
   "display_name": "aqua",
   "language": "python",
   "name": "python3"
  },
  "language_info": {
   "codemirror_mode": {
    "name": "ipython",
    "version": 3
   },
   "file_extension": ".py",
   "mimetype": "text/x-python",
   "name": "python",
   "nbconvert_exporter": "python",
   "pygments_lexer": "ipython3",
   "version": "3.11.8"
  }
 },
 "nbformat": 4,
 "nbformat_minor": 2
}
