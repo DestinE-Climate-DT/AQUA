{
 "cells": [
  {
   "cell_type": "markdown",
   "metadata": {},
   "source": [
    "The OutputNamer class is a versatile tool designed to simplify and standardize the process of generating and managing filenames for various types of output files, such as netCDF and PDF documents, in a scientific or analytical context. This class supports customizing filenames based on a range of parameters including diagnostic names, models, experiments, and diagnostic products. Additionally, it offers the flexibility to incorporate user-defined keywords, allowing for even more detailed customization of the filename structure.\n",
    "\n",
    "Key functionalities include:\n",
    "\n",
    "- Initialization with default settings: Set up initial parameters like diagnostic name, model, experiment identifier, and default save paths.\n",
    "\n",
    "- Logging capabilities: Integrated logging supports different levels of message verbosity, aiding in debugging and tracking the file naming process.\n",
    "\n",
    "- Dynamic filename generation: Automatically constructs filenames based on provided parameters and additional user-defined keywords, ensuring a consistent and informative naming convention.\n",
    "\n",
    "- Simulated file saving: Methods save_nc and save_pdf simulate saving files with the generated names, demonstrating the class's ability to prepare for actual file output operations.\n",
    "\n",
    "- Arbitrary keyword arguments for filename generation increase its adaptability to various project requirements, making the OutputNamer class a robust solution for managing file outputs in data analysis and research projects."
   ]
  },
  {
   "cell_type": "code",
   "execution_count": 1,
   "metadata": {},
   "outputs": [],
   "source": [
    "from aqua.util import OutputNamer"
   ]
  },
  {
   "cell_type": "code",
   "execution_count": 2,
   "metadata": {},
   "outputs": [],
   "source": [
    "%load_ext autoreload\n",
    "%autoreload 2"
   ]
  },
  {
   "cell_type": "markdown",
   "metadata": {},
   "source": [
    "This line initializes an OutputNamer instance for managing filenames related to the tropical rainfall diagnostic, using the MSWEP model for past experiments, with debug logging level, and setting the current directory as the default path for file outputs."
   ]
  },
  {
   "cell_type": "code",
   "execution_count": 3,
   "metadata": {},
   "outputs": [
    {
     "name": "stderr",
     "output_type": "stream",
     "text": [
      "\u001b[37m2024-03-11 16:33:07 :: OutputNamer :: DEBUG    -> OutputNamer initialized with diagnostic: tropical_rainfall, model: MSWEP, exp: past, default_path: .\u001b[0m\n"
     ]
    }
   ],
   "source": [
    "names = OutputNamer(diagnostic='tropical_rainfall', model='MSWEP', exp='past', loglevel='debug', default_path='.')"
   ]
  },
  {
   "cell_type": "markdown",
   "metadata": {},
   "source": [
    "This line generates a filename for a netCDF file (suffix='nc') that reflects the mean diagnostic product of the tropical rainfall analysis, utilizing the previously configured parameters of the OutputNamer instance."
   ]
  },
  {
   "cell_type": "code",
   "execution_count": 4,
   "metadata": {},
   "outputs": [
    {
     "name": "stderr",
     "output_type": "stream",
     "text": [
      "\u001b[37m2024-03-11 16:33:07 :: OutputNamer :: DEBUG    -> Diagnostic product updated to: mean\u001b[0m\n",
      "\u001b[37m2024-03-11 16:33:07 :: OutputNamer :: DEBUG    -> Generated filename with time precision and kwargs: tropical_rainfall.mean.MSWEP.past.nc\u001b[0m\n"
     ]
    },
    {
     "data": {
      "text/plain": [
       "'tropical_rainfall.mean.MSWEP.past.nc'"
      ]
     },
     "execution_count": 4,
     "metadata": {},
     "output_type": "execute_result"
    }
   ],
   "source": [
    "names.generate_name(diagnostic_product='mean', suffix='nc')"
   ]
  },
  {
   "cell_type": "markdown",
   "metadata": {},
   "source": [
    "This line simulates saving a netCDF file to the parent directory (path='..'), using the previously set parameters and the default naming convention established by the OutputNamer instance."
   ]
  },
  {
   "cell_type": "code",
   "execution_count": 5,
   "metadata": {},
   "outputs": [
    {
     "name": "stderr",
     "output_type": "stream",
     "text": [
      "\u001b[37m2024-03-11 16:33:07 :: OutputNamer :: DEBUG    -> Generated filename with time precision and kwargs: tropical_rainfall.mean.MSWEP.past.nc\u001b[0m\n",
      "\u001b[38;2;64;184;50m2024-03-11 16:33:07 :: OutputNamer :: INFO     -> Simulated saving netCDF file at: ../tropical_rainfall.mean.MSWEP.past.nc\u001b[0m\n"
     ]
    },
    {
     "data": {
      "text/plain": [
       "'../tropical_rainfall.mean.MSWEP.past.nc'"
      ]
     },
     "execution_count": 5,
     "metadata": {},
     "output_type": "execute_result"
    }
   ],
   "source": [
    "names.save_nc(path='..')"
   ]
  },
  {
   "cell_type": "markdown",
   "metadata": {},
   "source": [
    "This line simulates saving a PDF file in the default directory, using the current settings and naming convention defined in the OutputNamer instance."
   ]
  },
  {
   "cell_type": "code",
   "execution_count": 6,
   "metadata": {},
   "outputs": [
    {
     "name": "stderr",
     "output_type": "stream",
     "text": [
      "\u001b[37m2024-03-11 16:33:07 :: OutputNamer :: DEBUG    -> Generated filename with time precision and kwargs: tropical_rainfall.mean.MSWEP.past.pdf\u001b[0m\n",
      "\u001b[38;2;64;184;50m2024-03-11 16:33:07 :: OutputNamer :: INFO     -> Simulated saving PDF file at: ./tropical_rainfall.mean.MSWEP.past.pdf\u001b[0m\n"
     ]
    },
    {
     "data": {
      "text/plain": [
       "'./tropical_rainfall.mean.MSWEP.past.pdf'"
      ]
     },
     "execution_count": 6,
     "metadata": {},
     "output_type": "execute_result"
    }
   ],
   "source": [
    "names.save_pdf()"
   ]
  },
  {
   "cell_type": "markdown",
   "metadata": {},
   "source": [
    "This line simulates saving a netCDF file, comparing the original model (MSWEP) and experiment (past) with a second model (ERA5) and its experiment (era5), using the established naming conventions of the OutputNamer instance."
   ]
  },
  {
   "cell_type": "code",
   "execution_count": 7,
   "metadata": {},
   "outputs": [
    {
     "name": "stderr",
     "output_type": "stream",
     "text": [
      "\u001b[37m2024-03-11 16:33:07 :: OutputNamer :: DEBUG    -> Generated filename with time precision and kwargs: tropical_rainfall.mean.MSWEP.past.ERA5.era5.nc\u001b[0m\n",
      "\u001b[38;2;64;184;50m2024-03-11 16:33:07 :: OutputNamer :: INFO     -> Simulated saving netCDF file at: ./tropical_rainfall.mean.MSWEP.past.ERA5.era5.nc\u001b[0m\n"
     ]
    },
    {
     "data": {
      "text/plain": [
       "'./tropical_rainfall.mean.MSWEP.past.ERA5.era5.nc'"
      ]
     },
     "execution_count": 7,
     "metadata": {},
     "output_type": "execute_result"
    }
   ],
   "source": [
    "names.save_nc(model_2='ERA5', exp_2='era5')"
   ]
  },
  {
   "cell_type": "markdown",
   "metadata": {},
   "source": [
    "This line simulates saving a netCDF file that includes a comparison between two models (MSWEP and ERA5) for a specific time range, starting and ending in January 1990, with a precision of year and month (ym). The area of interest is the Indian Ocean. This showcases the OutputNamer class's enhanced capability to dynamically construct detailed filenames based on multiple parameters, including precisely defined time intervals."
   ]
  },
  {
   "cell_type": "code",
   "execution_count": 8,
   "metadata": {},
   "outputs": [
    {
     "name": "stderr",
     "output_type": "stream",
     "text": [
      "\u001b[37m2024-03-11 16:33:07 :: OutputNamer :: DEBUG    -> Generated filename with time precision and kwargs: tropical_rainfall.mean.MSWEP.past.ERA5.era5.indian_ocean.199001.199001.nc\u001b[0m\n",
      "\u001b[38;2;64;184;50m2024-03-11 16:33:07 :: OutputNamer :: INFO     -> Simulated saving netCDF file at: ./tropical_rainfall.mean.MSWEP.past.ERA5.era5.indian_ocean.199001.199001.nc\u001b[0m\n"
     ]
    },
    {
     "data": {
      "text/plain": [
       "'./tropical_rainfall.mean.MSWEP.past.ERA5.era5.indian_ocean.199001.199001.nc'"
      ]
     },
     "execution_count": 8,
     "metadata": {},
     "output_type": "execute_result"
    }
   ],
   "source": [
    "names.save_nc(model_2='ERA5', exp_2='era5', time_s='1990-01-01', time_f='1990-01_03', time_precision='ym', area='indian_ocean')"
   ]
  },
  {
   "cell_type": "markdown",
   "metadata": {},
   "source": [
    "This line simulates saving a netCDF file with a filename that incorporates comparisons between two models (MSWEP and ERA5) and their respective experiments (past and era5), spanning from January to February 1990 with year-month precision for the time frame. It also specifies the geographical area as the Indian Ocean, demonstrating the OutputNamer class's enhanced capability for generating precise and descriptive filenames by accurately reflecting detailed time intervals and other significant parameters."
   ]
  },
  {
   "cell_type": "code",
   "execution_count": 9,
   "metadata": {},
   "outputs": [
    {
     "name": "stderr",
     "output_type": "stream",
     "text": [
      "\u001b[37m2024-03-11 16:33:07 :: OutputNamer :: DEBUG    -> Generated filename with time precision and kwargs: tropical_rainfall.mean.MSWEP.past.ERA5.era5.indian_ocean.199001.199002.nc\u001b[0m\n",
      "\u001b[38;2;64;184;50m2024-03-11 16:33:07 :: OutputNamer :: INFO     -> Simulated saving netCDF file at: ./tropical_rainfall.mean.MSWEP.past.ERA5.era5.indian_ocean.199001.199002.nc\u001b[0m\n"
     ]
    },
    {
     "data": {
      "text/plain": [
       "'./tropical_rainfall.mean.MSWEP.past.ERA5.era5.indian_ocean.199001.199002.nc'"
      ]
     },
     "execution_count": 9,
     "metadata": {},
     "output_type": "execute_result"
    }
   ],
   "source": [
    "names.save_nc(model_2='ERA5', exp_2='era5', time_s='1990-01-10T00', time_f='1990-02-13T00', time_precision='ym', area='indian_ocean')"
   ]
  },
  {
   "cell_type": "markdown",
   "metadata": {},
   "source": [
    "This command simulates saving a netCDF file, detailing the mean total precipitation rate (var='mtpr') over the Indian Ocean for the period from January to February 1990. It compares outputs from two different models: the MSWEP model (associated with the 'past' experiment) and the ERA5 model ('era5' experiment). This update to include start and end times (time_s and time_f) with year-month precision (ym) exemplifies the OutputNamer class's enhanced ability to create highly descriptive and precise filenames for complex datasets."
   ]
  },
  {
   "cell_type": "code",
   "execution_count": 10,
   "metadata": {},
   "outputs": [
    {
     "name": "stderr",
     "output_type": "stream",
     "text": [
      "\u001b[37m2024-03-11 16:33:07 :: OutputNamer :: DEBUG    -> Generated filename with time precision and kwargs: tropical_rainfall.mean.mtpr.MSWEP.past.ERA5.era5.indian_ocean.199001.199002.nc\u001b[0m\n",
      "\u001b[38;2;64;184;50m2024-03-11 16:33:07 :: OutputNamer :: INFO     -> Simulated saving netCDF file at: ./tropical_rainfall.mean.mtpr.MSWEP.past.ERA5.era5.indian_ocean.199001.199002.nc\u001b[0m\n"
     ]
    },
    {
     "data": {
      "text/plain": [
       "'./tropical_rainfall.mean.mtpr.MSWEP.past.ERA5.era5.indian_ocean.199001.199002.nc'"
      ]
     },
     "execution_count": 10,
     "metadata": {},
     "output_type": "execute_result"
    }
   ],
   "source": [
    "names.save_nc(var='mtpr', model_2='ERA5', exp_2='era5', time_s='1990-01', time_f='1990-02', time_precision='ym', area='indian_ocean')"
   ]
  },
  {
   "cell_type": "markdown",
   "metadata": {},
   "source": [
    "This line generates a filename for a netCDF file, incorporating the mean diagnostic product with additional specifications for resolution (1km) and status (preliminary), showcasing the flexibility of the OutputNamer class in creating detailed and informative filenames based on a combination of preset and user-defined parameters."
   ]
  },
  {
   "cell_type": "code",
   "execution_count": 11,
   "metadata": {},
   "outputs": [
    {
     "name": "stderr",
     "output_type": "stream",
     "text": [
      "\u001b[37m2024-03-11 16:33:07 :: OutputNamer :: DEBUG    -> Diagnostic product updated to: mean\u001b[0m\n",
      "\u001b[37m2024-03-11 16:33:07 :: OutputNamer :: DEBUG    -> Generated filename with time precision and kwargs: tropical_rainfall.mean.MSWEP.past.resolution_1km.status_preliminary.nc\u001b[0m\n"
     ]
    },
    {
     "data": {
      "text/plain": [
       "'tropical_rainfall.mean.MSWEP.past.resolution_1km.status_preliminary.nc'"
      ]
     },
     "execution_count": 11,
     "metadata": {},
     "output_type": "execute_result"
    }
   ],
   "source": [
    "names.generate_name(diagnostic_product='mean', suffix='nc',  resolution=\"1km\", status=\"preliminary\")"
   ]
  },
  {
   "cell_type": "markdown",
   "metadata": {},
   "source": [
    "This command demonstrates the OutputNamer class's enhanced flexibility in incorporating both essential details and additional dataset attributes—such as measurement frequency (every 3 hours) and dataset status (preliminary)—into the filename for a simulated netCDF file save. By specifying start and end times with year-month precision and including other descriptive parameters, it highlights the class's capability to produce comprehensive and precise filenames, customized to reflect specific aspects of the dataset."
   ]
  },
  {
   "cell_type": "code",
   "execution_count": 12,
   "metadata": {},
   "outputs": [
    {
     "name": "stderr",
     "output_type": "stream",
     "text": [
      "\u001b[37m2024-03-11 16:33:07 :: OutputNamer :: DEBUG    -> Generated filename with time precision and kwargs: tropical_rainfall.mean.mtpr.MSWEP.past.ERA5.era5.indian_ocean.199001.199002.frequency_3H.status_preliminary.nc\u001b[0m\n",
      "\u001b[38;2;64;184;50m2024-03-11 16:33:07 :: OutputNamer :: INFO     -> Simulated saving netCDF file at: ./tropical_rainfall.mean.mtpr.MSWEP.past.ERA5.era5.indian_ocean.199001.199002.frequency_3H.status_preliminary.nc\u001b[0m\n"
     ]
    },
    {
     "data": {
      "text/plain": [
       "'./tropical_rainfall.mean.mtpr.MSWEP.past.ERA5.era5.indian_ocean.199001.199002.frequency_3H.status_preliminary.nc'"
      ]
     },
     "execution_count": 12,
     "metadata": {},
     "output_type": "execute_result"
    }
   ],
   "source": [
    "names.save_nc(var='mtpr', model_2='ERA5', exp_2='era5', time_s='1990-01', time_f='1990-02', time_precision='ym', area='indian_ocean', frequency=\"3H\", status=\"preliminary\")"
   ]
  },
  {
   "cell_type": "code",
   "execution_count": null,
   "metadata": {},
   "outputs": [],
   "source": []
  }
 ],
 "metadata": {
  "kernelspec": {
   "display_name": "aqua",
   "language": "python",
   "name": "python3"
  },
  "language_info": {
   "codemirror_mode": {
    "name": "ipython",
    "version": 3
   },
   "file_extension": ".py",
   "mimetype": "text/x-python",
   "name": "python",
   "nbconvert_exporter": "python",
   "pygments_lexer": "ipython3",
   "version": "3.11.8"
  }
 },
 "nbformat": 4,
 "nbformat_minor": 2
}
