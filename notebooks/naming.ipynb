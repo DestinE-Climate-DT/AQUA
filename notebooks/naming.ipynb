{
 "cells": [
  {
   "cell_type": "code",
   "execution_count": 84,
   "metadata": {},
   "outputs": [
    {
     "name": "stdout",
     "output_type": "stream",
     "text": [
      "The autoreload extension is already loaded. To reload it, use:\n",
      "  %reload_ext autoreload\n"
     ]
    }
   ],
   "source": [
    "%load_ext autoreload\n",
    "%autoreload 2"
   ]
  },
  {
   "cell_type": "code",
   "execution_count": 85,
   "metadata": {},
   "outputs": [],
   "source": [
    "names = OutputNamer(diagnostic='tropical_rainfall', model='MSWEP', exp='past', loglevel='debug')"
   ]
  },
  {
   "cell_type": "code",
   "execution_count": 86,
   "metadata": {},
   "outputs": [
    {
     "data": {
      "text/plain": [
       "'tropical_rainfall.mean.MSWEP.past.nc'"
      ]
     },
     "execution_count": 86,
     "metadata": {},
     "output_type": "execute_result"
    }
   ],
   "source": [
    "names.generate_name(diagnostic_product='mean', suffix='nc')"
   ]
  },
  {
   "cell_type": "code",
   "execution_count": 87,
   "metadata": {},
   "outputs": [
    {
     "name": "stderr",
     "output_type": "stream",
     "text": [
      "\u001b[38;2;64;184;50m2024-03-08 02:10:18 :: OutputNamer :: INFO     -> Simulated saving netCDF file at: ../tropical_rainfall.mean.MSWEP.past.nc\u001b[0m\n"
     ]
    },
    {
     "data": {
      "text/plain": [
       "'../tropical_rainfall.mean.MSWEP.past.nc'"
      ]
     },
     "execution_count": 87,
     "metadata": {},
     "output_type": "execute_result"
    }
   ],
   "source": [
    "names.save_nc(path='..')"
   ]
  },
  {
   "cell_type": "code",
   "execution_count": 88,
   "metadata": {},
   "outputs": [
    {
     "name": "stderr",
     "output_type": "stream",
     "text": [
      "\u001b[38;2;64;184;50m2024-03-08 02:10:18 :: OutputNamer :: INFO     -> Simulated saving PDF file at: ./tropical_rainfall.mean.MSWEP.past.pdf\u001b[0m\n"
     ]
    },
    {
     "data": {
      "text/plain": [
       "'./tropical_rainfall.mean.MSWEP.past.pdf'"
      ]
     },
     "execution_count": 88,
     "metadata": {},
     "output_type": "execute_result"
    }
   ],
   "source": [
    "names.save_pdf('.')"
   ]
  },
  {
   "cell_type": "code",
   "execution_count": 89,
   "metadata": {},
   "outputs": [
    {
     "name": "stderr",
     "output_type": "stream",
     "text": [
      "\u001b[38;2;64;184;50m2024-03-08 02:10:18 :: OutputNamer :: INFO     -> Simulated saving netCDF file at: ./tropical_rainfall.mean.MSWEP.past.ERA5.era5.nc\u001b[0m\n"
     ]
    },
    {
     "data": {
      "text/plain": [
       "'./tropical_rainfall.mean.MSWEP.past.ERA5.era5.nc'"
      ]
     },
     "execution_count": 89,
     "metadata": {},
     "output_type": "execute_result"
    }
   ],
   "source": [
    "names.save_nc(path='.', model_2='ERA5', exp_2='era5')"
   ]
  },
  {
   "cell_type": "code",
   "execution_count": 90,
   "metadata": {},
   "outputs": [
    {
     "name": "stderr",
     "output_type": "stream",
     "text": [
      "\u001b[38;2;64;184;50m2024-03-08 02:10:18 :: OutputNamer :: INFO     -> Simulated saving netCDF file at: ./tropical_rainfall.mean.MSWEP.past.ERA5.era5.indian_ocean.1990-01.nc\u001b[0m\n"
     ]
    },
    {
     "data": {
      "text/plain": [
       "'./tropical_rainfall.mean.MSWEP.past.ERA5.era5.indian_ocean.1990-01.nc'"
      ]
     },
     "execution_count": 90,
     "metadata": {},
     "output_type": "execute_result"
    }
   ],
   "source": [
    "names.save_nc(path='.', model_2='ERA5', exp_2='era5', time_range='1990-01', area='indian_ocean')"
   ]
  },
  {
   "cell_type": "code",
   "execution_count": 91,
   "metadata": {},
   "outputs": [
    {
     "name": "stderr",
     "output_type": "stream",
     "text": [
      "\u001b[38;2;64;184;50m2024-03-08 02:10:18 :: OutputNamer :: INFO     -> Simulated saving netCDF file at: ./tropical_rainfall.mean.MSWEP.past.ERA5.era5.indian_ocean.1990-01-1990-02.nc\u001b[0m\n"
     ]
    },
    {
     "data": {
      "text/plain": [
       "'./tropical_rainfall.mean.MSWEP.past.ERA5.era5.indian_ocean.1990-01-1990-02.nc'"
      ]
     },
     "execution_count": 91,
     "metadata": {},
     "output_type": "execute_result"
    }
   ],
   "source": [
    "names.save_nc(path='.', model_2='ERA5', exp_2='era5', time_range='1990-01-1990-02', area='indian_ocean')"
   ]
  },
  {
   "cell_type": "code",
   "execution_count": 92,
   "metadata": {},
   "outputs": [
    {
     "name": "stderr",
     "output_type": "stream",
     "text": [
      "\u001b[38;2;64;184;50m2024-03-08 02:10:18 :: OutputNamer :: INFO     -> Simulated saving netCDF file at: ./tropical_rainfall.mean.mtpr.MSWEP.past.ERA5.era5.indian_ocean.1990-01-1990-02.nc\u001b[0m\n"
     ]
    },
    {
     "data": {
      "text/plain": [
       "'./tropical_rainfall.mean.mtpr.MSWEP.past.ERA5.era5.indian_ocean.1990-01-1990-02.nc'"
      ]
     },
     "execution_count": 92,
     "metadata": {},
     "output_type": "execute_result"
    }
   ],
   "source": [
    "names.save_nc(path='.', var='mtpr', model_2='ERA5', exp_2='era5', time_range='1990-01-1990-02', area='indian_ocean')"
   ]
  },
  {
   "cell_type": "code",
   "execution_count": null,
   "metadata": {},
   "outputs": [],
   "source": []
  }
 ],
 "metadata": {
  "kernelspec": {
   "display_name": "aqua",
   "language": "python",
   "name": "python3"
  },
  "language_info": {
   "codemirror_mode": {
    "name": "ipython",
    "version": 3
   },
   "file_extension": ".py",
   "mimetype": "text/x-python",
   "name": "python",
   "nbconvert_exporter": "python",
   "pygments_lexer": "ipython3",
   "version": "3.11.8"
  }
 },
 "nbformat": 4,
 "nbformat_minor": 2
}
