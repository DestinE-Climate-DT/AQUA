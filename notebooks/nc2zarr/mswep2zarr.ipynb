{
 "cells": [
  {
   "attachments": {},
   "cell_type": "markdown",
   "metadata": {},
   "source": [
    "## MSWEP, Daily to Zarr file"
   ]
  },
  {
   "cell_type": "code",
   "execution_count": 1,
   "metadata": {},
   "outputs": [],
   "source": [
    "import aqua.nc2zarr.main as main\n",
    "from aqua.slurm import slurm\n",
    "import mem_usage \n",
    "import os\n",
    "import re\n",
    "import matplotlib.pyplot as plt\n",
    "\n",
    "from os import listdir\n",
    "from os.path import isfile, join\n"
   ]
  },
  {
   "cell_type": "code",
   "execution_count": 3,
   "metadata": {},
   "outputs": [
    {
     "name": "stdout",
     "output_type": "stream",
     "text": [
      "             JOBID PARTITION     NAME     USER ST       TIME  NODES NODELIST(REASON)\n",
      "           5196381   compute dask-wor  b382267 PD       0:00      1 (None)\n"
     ]
    },
    {
     "data": {
      "text/plain": [
       "0"
      ]
     },
     "execution_count": 3,
     "metadata": {},
     "output_type": "execute_result"
    }
   ],
   "source": [
    "slurm.squeue()"
   ]
  },
  {
   "cell_type": "code",
   "execution_count": 2,
   "metadata": {},
   "outputs": [
    {
     "name": "stdout",
     "output_type": "stream",
     "text": [
      "#!/usr/bin/env bash\n",
      "\n",
      "#SBATCH -J dask-worker\n",
      "#SBATCH -p compute\n",
      "#SBATCH -A bb1153\n",
      "#SBATCH -n 1\n",
      "#SBATCH --cpus-per-task=1\n",
      "#SBATCH --mem=10G\n",
      "#SBATCH -t 5:00:00\n",
      "#SBATCH --error=./slurm/logs/dask-worker-%j.err\n",
      "#SBATCH --output=./slurm/output/dask-worker-%j.out\n",
      "\n",
      "/work/bb1153/b382267/mamba_dir/mambaforge/envs/aqua/bin/python -m distributed.cli.dask_worker tcp://136.172.124.1:34331 --nthreads 1 --memory-limit 9.31GiB --name dummy-name --nanny --death-timeout 60\n",
      "\n"
     ]
    }
   ],
   "source": [
    "slurm.job(walltime='5:00:00')"
   ]
  },
  {
   "cell_type": "code",
   "execution_count": 8,
   "metadata": {},
   "outputs": [],
   "source": [
    "slurm.scancel(5171540)"
   ]
  },
  {
   "attachments": {},
   "cell_type": "markdown",
   "metadata": {},
   "source": [
    "## Daily"
   ]
  },
  {
   "cell_type": "code",
   "execution_count": null,
   "metadata": {},
   "outputs": [],
   "source": [
    "path_to_mswep = '/work/bb1153/b382075/datasets/MSWEP_V280/Past/Daily/'\n",
    "path_to_zarr = '/scratch/b/b382267/MSWEP/Daily/'\n",
    "\n",
    "\n",
    "cdf_files = [f for f in listdir(path_to_mswep) if isfile(join(path_to_mswep, f))]"
   ]
  },
  {
   "cell_type": "code",
   "execution_count": null,
   "metadata": {},
   "outputs": [],
   "source": [
    "mswep_daily = [str(path_to_mswep)+str(cdf_files[i]) for i in range(0, len(cdf_files))]\n",
    "mswep_daily"
   ]
  },
  {
   "cell_type": "code",
   "execution_count": 8,
   "metadata": {},
   "outputs": [],
   "source": [
    "singleZpath = main.multi2Zarr(files=mswep_daily,  path = path_to_zarr)"
   ]
  },
  {
   "attachments": {},
   "cell_type": "markdown",
   "metadata": {},
   "source": [
    "## 3hourly"
   ]
  },
  {
   "cell_type": "code",
   "execution_count": null,
   "metadata": {},
   "outputs": [],
   "source": [
    "path_to_mswep = '/work/bb1153/b382075/datasets/MSWEP_V280/Past/3hourly/'\n",
    "path_to_zarr = '/scratch/b/b382267/MSWEP/3hourlyZ/'"
   ]
  },
  {
   "cell_type": "code",
   "execution_count": null,
   "metadata": {},
   "outputs": [
    {
     "name": "stdout",
     "output_type": "stream",
     "text": [
      "Done\n"
     ]
    }
   ],
   "source": [
    "cdf_files = [f for f in listdir(path_to_mswep) if isfile(join(path_to_mswep, f))]\n",
    "\n",
    "with open(r'./3hourly_names.txt', 'w') as fp:\n",
    "    for item in cdf_files:\n",
    "        # write each item on a new line\n",
    "        fp.write(\"%s\\n\" % item)\n",
    "    print('Done')"
   ]
  },
  {
   "cell_type": "code",
   "execution_count": 7,
   "metadata": {},
   "outputs": [
    {
     "name": "stdout",
     "output_type": "stream",
     "text": [
      "122718\n"
     ]
    },
    {
     "data": {
      "text/plain": [
       "'1983143.12.nc\\n'"
      ]
     },
     "execution_count": 7,
     "metadata": {},
     "output_type": "execute_result"
    }
   ],
   "source": [
    "print(len(cdf_files))\n",
    "cdf_files[-1]"
   ]
  },
  {
   "cell_type": "code",
   "execution_count": 6,
   "metadata": {},
   "outputs": [
    {
     "name": "stdout",
     "output_type": "stream",
     "text": [
      "Done\n"
     ]
    }
   ],
   "source": [
    "with open(r'./3hourly_names.txt', 'r') as fp:\n",
    "    cdf_files = fp.readlines() \n",
    "    print('Done')"
   ]
  },
  {
   "cell_type": "code",
   "execution_count": null,
   "metadata": {},
   "outputs": [],
   "source": [
    "in_ind = 110000\n",
    "fin_ind = 115000\n",
    "\n",
    "mswep_3hourly = [str(path_to_mswep)+str(re.split('\\n', cdf_files[i])[0]) for i in range(in_ind, fin_ind)]\n",
    "mswep_3hourly"
   ]
  },
  {
   "cell_type": "code",
   "execution_count": 17,
   "metadata": {},
   "outputs": [],
   "source": [
    "for ind in range(0, len(mswep_3hourly)): \n",
    "    main.nc2Zarr(file=mswep_3hourly[ind],  path = path_to_zarr)"
   ]
  },
  {
   "attachments": {},
   "cell_type": "markdown",
   "metadata": {},
   "source": [
    "## Grouping"
   ]
  },
  {
   "cell_type": "code",
   "execution_count": 4,
   "metadata": {},
   "outputs": [],
   "source": [
    "path_to_mswep = '/scratch/b/b382267/MSWEP/3hourlyZ/'\n",
    "path_to_zarr = '/scratch/b/b382267/MSWEP/3hourlyZ_Grouped/'"
   ]
  },
  {
   "cell_type": "code",
   "execution_count": 11,
   "metadata": {},
   "outputs": [
    {
     "data": {
      "text/plain": [
       "'/scratch/b/b382267/MSWEP/3hourlyZ_Grouped/'"
      ]
     },
     "execution_count": 11,
     "metadata": {},
     "output_type": "execute_result"
    }
   ],
   "source": [
    "path_to_zarr"
   ]
  },
  {
   "cell_type": "code",
   "execution_count": 5,
   "metadata": {},
   "outputs": [],
   "source": [
    "zarr_files = [f for f in listdir(path_to_mswep) if isfile(join(path_to_mswep, f))]\n",
    "zarr_files.sort()"
   ]
  },
  {
   "cell_type": "code",
   "execution_count": 30,
   "metadata": {},
   "outputs": [
    {
     "data": {
      "text/plain": [
       "('1979001.09.json', '2020366.00.json')"
      ]
     },
     "execution_count": 30,
     "metadata": {},
     "output_type": "execute_result"
    }
   ],
   "source": [
    "zarr_files[0], zarr_files[-2]"
   ]
  },
  {
   "cell_type": "code",
   "execution_count": 29,
   "metadata": {},
   "outputs": [
    {
     "data": {
      "text/plain": [
       "'2003001.00.json'"
      ]
     },
     "execution_count": 29,
     "metadata": {},
     "output_type": "execute_result"
    }
   ],
   "source": [
    "zarr_files[70125]"
   ]
  },
  {
   "cell_type": "code",
   "execution_count": null,
   "metadata": {},
   "outputs": [],
   "source": [
    "mswep_zarr_daily = [str(path_to_mswep)+str(zarr_files[i]) for i in range(0, len(zarr_files))]\n",
    "mswep_zarr_daily"
   ]
  },
  {
   "cell_type": "code",
   "execution_count": 13,
   "metadata": {},
   "outputs": [
    {
     "data": {
      "text/plain": [
       "'2016006.03.json'"
      ]
     },
     "execution_count": 13,
     "metadata": {},
     "output_type": "execute_result"
    }
   ],
   "source": [
    "zarr_files[108150]"
   ]
  },
  {
   "cell_type": "code",
   "execution_count": 31,
   "metadata": {},
   "outputs": [],
   "source": [
    "file_index=\n",
    "for year in range(2016, 2020):\n",
    "    group_temp=[]\n",
    "    for i in range(file_index, len(mswep_zarr_daily)):\n",
    "        if str(year) in zarr_files[i]:\n",
    "            group_temp.append(mswep_zarr_daily[i])\n",
    "            file_index= file_index+1\n",
    "        else:\n",
    "            break\n",
    "            print(file_index)\n",
    "    main.multi2Zarr(files=group_temp, name = str(year), path = path_to_zarr)"
   ]
  },
  {
   "cell_type": "code",
   "execution_count": 18,
   "metadata": {},
   "outputs": [
    {
     "name": "stdout",
     "output_type": "stream",
     "text": [
      "/work/bb1153/b382267/AQUA/notebooks/nc2zarr\n"
     ]
    },
    {
     "data": {
      "text/plain": [
       "0"
      ]
     },
     "execution_count": 18,
     "metadata": {},
     "output_type": "execute_result"
    }
   ],
   "source": [
    "os.system(\"pwd\")"
   ]
  },
  {
   "cell_type": "code",
   "execution_count": 13,
   "metadata": {},
   "outputs": [
    {
     "data": {
      "text/plain": [
       "'/work/bb1153/b382267/AQUA/notebooks/nc2zarr/1981238.12.json'"
      ]
     },
     "execution_count": 13,
     "metadata": {},
     "output_type": "execute_result"
    }
   ],
   "source": [
    "main.nc2Zarr(file=temp[0],  path = \"/work/bb1153/b382267/AQUA/notebooks/nc2zarr/\")"
   ]
  }
 ],
 "metadata": {
  "kernelspec": {
   "display_name": "base",
   "language": "python",
   "name": "python3"
  },
  "language_info": {
   "codemirror_mode": {
    "name": "ipython",
    "version": 3
   },
   "file_extension": ".py",
   "mimetype": "text/x-python",
   "name": "python",
   "nbconvert_exporter": "python",
   "pygments_lexer": "ipython3",
   "version": "3.10.11"
  },
  "orig_nbformat": 4
 },
 "nbformat": 4,
 "nbformat_minor": 2
}
