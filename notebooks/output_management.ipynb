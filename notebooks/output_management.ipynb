{
 "cells": [
  {
   "cell_type": "markdown",
   "metadata": {},
   "source": [
    "# Efficient Management and Metadata Integration for Scientific Data Outputs with OutputNamer"
   ]
  },
  {
   "cell_type": "markdown",
   "metadata": {},
   "source": [
    "### Content\n",
    "\n",
    "\n",
    "1. [Automated Filename Generation with OutputNamer](#1-automated-filename-generation-with-outputnamer)\n",
    "\n",
    "2. [Saving and Managing NetCDF Data with OutputNamer](#2-saving-and-managing-netcdf-data-with-outputnamer)\n",
    "\n",
    "3. [Saving PDF and PNG Plots to Memory with Metadata](#3-saving-pdf-and-png-plots-to-memory-with-metadata)"
   ]
  },
  {
   "cell_type": "markdown",
   "metadata": {},
   "source": [
    "### 1. Automated Filename Generation with OutputNamer"
   ]
  },
  {
   "cell_type": "code",
   "execution_count": 1,
   "metadata": {},
   "outputs": [],
   "source": [
    "from aqua.util import OutputNamer"
   ]
  },
  {
   "cell_type": "markdown",
   "metadata": {},
   "source": [
    "#### Setting Up the OutputNamer Instance\n",
    "\n",
    "This cell initializes an OutputNamer class instance with the specified parameters: diagnostic name, model, experiment, log level, and default path. This instance will be used for generating descriptive filenames for the output files."
   ]
  },
  {
   "cell_type": "code",
   "execution_count": 2,
   "metadata": {},
   "outputs": [],
   "source": [
    "names = OutputNamer(diagnostic='tropical_rainfall', model='MSWEP', exp='past', loglevel='DEBUG', default_path='.')"
   ]
  },
  {
   "cell_type": "markdown",
   "metadata": {},
   "source": [
    "#### Generating a Filename for a NetCDF File\n",
    "Generate a filename for a NetCDF file reflecting the mean diagnostic product of the tropical rainfall analysis, utilizing the previously configured parameters of the OutputNamer instance."
   ]
  },
  {
   "cell_type": "code",
   "execution_count": 3,
   "metadata": {},
   "outputs": [
    {
     "name": "stderr",
     "output_type": "stream",
     "text": [
      "\u001b[37m2024-06-04 14:10:13 :: OutputNamer :: DEBUG    -> Generated filename: tropical_rainfall.mean.MSWEP.past.nc\u001b[0m\n"
     ]
    },
    {
     "data": {
      "text/plain": [
       "'tropical_rainfall.mean.MSWEP.past.nc'"
      ]
     },
     "execution_count": 3,
     "metadata": {},
     "output_type": "execute_result"
    }
   ],
   "source": [
    "names.generate_name(diagnostic_product='mean', suffix='nc')"
   ]
  },
  {
   "cell_type": "markdown",
   "metadata": {},
   "source": [
    "#### Generating a Filename for a Comparative NetCDF File\n",
    "\n",
    "Generate a filename for a NetCDF file comparing the original model (MSWEP) and experiment (past) with a second model (ERA5) and its experiment (era5), using the established naming conventions of the OutputNamer instance."
   ]
  },
  {
   "cell_type": "code",
   "execution_count": 4,
   "metadata": {},
   "outputs": [
    {
     "name": "stderr",
     "output_type": "stream",
     "text": [
      "\u001b[37m2024-06-04 14:10:13 :: OutputNamer :: DEBUG    -> Generated filename: tropical_rainfall.mean.MSWEP.past.ERA5.era5.indian_ocean.199001.199002.nc\u001b[0m\n"
     ]
    },
    {
     "data": {
      "text/plain": [
       "'tropical_rainfall.mean.MSWEP.past.ERA5.era5.indian_ocean.199001.199002.nc'"
      ]
     },
     "execution_count": 4,
     "metadata": {},
     "output_type": "execute_result"
    }
   ],
   "source": [
    "names.generate_name(model_2='ERA5', exp_2='era5', time_start='1990-01-10T00', time_end='1990-02-13T00', time_precision='ym', area='indian_ocean')"
   ]
  },
  {
   "cell_type": "markdown",
   "metadata": {},
   "source": [
    "#### Generating a Filename for Precipitation Data Comparison\n",
    "Generate a filename for a NetCDF file, detailing the mean total precipitation rate over the Indian Ocean from January to February 1990, comparing outputs from two models: MSWEP and ERA5."
   ]
  },
  {
   "cell_type": "code",
   "execution_count": 5,
   "metadata": {},
   "outputs": [
    {
     "name": "stderr",
     "output_type": "stream",
     "text": [
      "\u001b[37m2024-06-04 14:10:13 :: OutputNamer :: DEBUG    -> Generated filename: tropical_rainfall.mean.mtpr.MSWEP.past.ERA5.era5.indian_ocean.199001.199002.nc\u001b[0m\n"
     ]
    },
    {
     "data": {
      "text/plain": [
       "'tropical_rainfall.mean.mtpr.MSWEP.past.ERA5.era5.indian_ocean.199001.199002.nc'"
      ]
     },
     "execution_count": 5,
     "metadata": {},
     "output_type": "execute_result"
    }
   ],
   "source": [
    "names.generate_name(var='mtpr', model_2='ERA5', exp_2='era5', time_start='1990-01', time_end='1990-02', time_precision='ym', area='indian_ocean')"
   ]
  },
  {
   "cell_type": "markdown",
   "metadata": {},
   "source": [
    "#### Generating a Filename with Additional Specifications\n",
    "\n",
    "Generate a filename for a NetCDF file, incorporating the mean diagnostic product with additional specifications for resolution and status."
   ]
  },
  {
   "cell_type": "code",
   "execution_count": 6,
   "metadata": {},
   "outputs": [
    {
     "name": "stderr",
     "output_type": "stream",
     "text": [
      "\u001b[37m2024-06-04 14:10:13 :: OutputNamer :: DEBUG    -> Generated filename: tropical_rainfall.mean.MSWEP.past.resolution_1km.status_preliminary.nc\u001b[0m\n"
     ]
    },
    {
     "data": {
      "text/plain": [
       "'tropical_rainfall.mean.MSWEP.past.resolution_1km.status_preliminary.nc'"
      ]
     },
     "execution_count": 6,
     "metadata": {},
     "output_type": "execute_result"
    }
   ],
   "source": [
    "names.generate_name(diagnostic_product='mean', suffix='nc',  resolution=\"1km\", status=\"preliminary\")"
   ]
  },
  {
   "cell_type": "markdown",
   "metadata": {},
   "source": [
    "#### Generating a Filename with Detailed Time Intervals and Additional Attributes\n",
    "Generate a filename with detailed time intervals and additional dataset attributes such as measurement frequency and status, demonstrating the OutputNamer class's capability to produce comprehensive and precise filenames."
   ]
  },
  {
   "cell_type": "code",
   "execution_count": 7,
   "metadata": {},
   "outputs": [
    {
     "name": "stderr",
     "output_type": "stream",
     "text": [
      "\u001b[37m2024-06-04 14:10:13 :: OutputNamer :: DEBUG    -> Generated filename: tropical_rainfall.mean.mtpr.MSWEP.past.ERA5.era5.indian_ocean.199001.199002.frequency_3H.status_preliminary.nc\u001b[0m\n"
     ]
    },
    {
     "data": {
      "text/plain": [
       "'tropical_rainfall.mean.mtpr.MSWEP.past.ERA5.era5.indian_ocean.199001.199002.frequency_3H.status_preliminary.nc'"
      ]
     },
     "execution_count": 7,
     "metadata": {},
     "output_type": "execute_result"
    }
   ],
   "source": [
    "names.generate_name(var='mtpr', model_2='ERA5', exp_2='era5', time_start='1990-01', time_end='1990-02', time_precision='ym', area='indian_ocean', frequency=\"3H\", status=\"preliminary\")"
   ]
  },
  {
   "cell_type": "markdown",
   "metadata": {},
   "source": [
    "### 2. Saving and Managing NetCDF Data with OutputNamer\n",
    "\n",
    "This section demonstrates how to read data, produce diagnostic objects, and save NetCDF files using the OutputNamer class, while incorporating metadata for better file management."
   ]
  },
  {
   "cell_type": "markdown",
   "metadata": {},
   "source": [
    "#### Reading the Data\n",
    "First, we need to read the data using the Reader class from the aqua module."
   ]
  },
  {
   "cell_type": "code",
   "execution_count": 8,
   "metadata": {},
   "outputs": [
    {
     "name": "stderr",
     "output_type": "stream",
     "text": [
      "\u001b[38;2;255;165;0m2024-06-04 14:10:13 :: Reader :: WARNING  -> DATA_PATH parameter is required but is missing, setting to default /pfs/lustrep3/projappl/project_465000454/data/AQUA/datasets\u001b[0m\n",
      "\u001b[38;2;255;165;0m2024-06-04 14:10:14 :: Reader :: WARNING  -> The requested default fixer name IFS-NEMO-default does not exist in fixes files\u001b[0m\n",
      "\u001b[38;2;255;165;0m2024-06-04 14:10:14 :: Reader :: WARNING  -> No fixes available for model IFS-NEMO, experiment historical-1990, source lra-r100-monthly\u001b[0m\n"
     ]
    }
   ],
   "source": [
    "from aqua import Reader\n",
    "reader  = Reader(model=\"IFS-NEMO\", exp=\"historical-1990\", source=\"lra-r100-monthly\") \n",
    "ifs_1990 = reader.retrieve(var=[\"mtpr\"])"
   ]
  },
  {
   "cell_type": "markdown",
   "metadata": {},
   "source": [
    "This cell reads the precipitation data (mtpr) for the IFS-NEMO model and the historical-1990 experiment."
   ]
  },
  {
   "cell_type": "markdown",
   "metadata": {},
   "source": [
    "#### Producing the Diagnostic Object (Histogram)\n",
    "Next, we produce a diagnostic object, in this case, a histogram, using the Tropical_Rainfall class."
   ]
  },
  {
   "cell_type": "code",
   "execution_count": 9,
   "metadata": {},
   "outputs": [],
   "source": [
    "from tropical_rainfall import Tropical_Rainfall\n",
    "diag = Tropical_Rainfall(loglevel='warning')\n",
    "# producing the netcdf output\n",
    "hist_data = diag.histogram(ifs_1990,  name_of_file='test', save=False)"
   ]
  },
  {
   "cell_type": "markdown",
   "metadata": {},
   "source": [
    "This cell initializes the Tropical_Rainfall diagnostic object and produces histogram data from the retrieved precipitation data."
   ]
  },
  {
   "cell_type": "markdown",
   "metadata": {},
   "source": [
    "#### Initializing the OutputNamer Class\n",
    "Initialize the OutputNamer class to manage output file naming."
   ]
  },
  {
   "cell_type": "code",
   "execution_count": 10,
   "metadata": {},
   "outputs": [],
   "source": [
    "from aqua.util import OutputNamer\n",
    "from aqua.util import open_image\n",
    "\n",
    "# Setting the default path for saving files\n",
    "default_path = \"./\"\n",
    "names = OutputNamer(diagnostic='tropical_rainfall', model='IFS-NEMO', exp='historical-1990', loglevel='DEBUG', default_path=default_path)"
   ]
  },
  {
   "cell_type": "markdown",
   "metadata": {},
   "source": [
    "This cell initializes the OutputNamer class instance with the specified parameters, setting up the default path for saving output files."
   ]
  },
  {
   "cell_type": "markdown",
   "metadata": {},
   "source": [
    "#### Saving the NetCDF Data\n",
    "\n",
    "We will now save the NetCDF data to the specified path and include metadata for better file organization."
   ]
  },
  {
   "cell_type": "code",
   "execution_count": 17,
   "metadata": {},
   "outputs": [
    {
     "name": "stderr",
     "output_type": "stream",
     "text": [
      "\u001b[37m2024-06-04 14:12:34 :: OutputNamer :: DEBUG    -> Generated filename: tropical_rainfall.histogram.IFS-NEMO.historical-1990.nc\u001b[0m\n",
      "\u001b[37m2024-06-04 14:12:34 :: OutputNamer :: DEBUG    -> Metadata added: {'title': 'Testing the saving of NetCDF files', 'author': 'OutputNamer', 'description': 'Demonstrating netCDF Metadata Addition', 'institution': 'Politecnico di Torino', 'source': 'IFS-NEMO', 'date_saved': '2024-06-04 14:12:34'}\u001b[0m\n",
      "\u001b[38;2;64;184;50m2024-06-04 14:12:34 :: OutputNamer :: INFO     -> Saved netCDF file to path: ./tropical_rainfall.histogram.IFS-NEMO.historical-1990.nc\u001b[0m\n"
     ]
    },
    {
     "name": "stdout",
     "output_type": "stream",
     "text": [
      "netCDF with metadata saved to: ./tropical_rainfall.histogram.IFS-NEMO.historical-1990.nc\n"
     ]
    }
   ],
   "source": [
    "# Defining metadata for the NetCDF file\n",
    "metadata = {\n",
    "    'title': 'Testing the saving of NetCDF files',\n",
    "    'author': 'OutputNamer',\n",
    "    'history': 'Created on a Jupyter Notebook',\n",
    "    'description': 'Demonstrating netCDF Metadata Addition',\n",
    "    'institution': 'Politecnico di Torino',\n",
    "    'source': 'IFS-NEMO',\n",
    "}\n",
    "# Save the netCDF to the specified path with the metadata\n",
    "saved_file_path = names.save_netcdf(hist_data, path=default_path, diagnostic_product='histogram', metadata=metadata)\n",
    "# Print the path where the netCDF file has been saved\n",
    "print(f\"netCDF with metadata saved to: {saved_file_path}\")"
   ]
  },
  {
   "cell_type": "markdown",
   "metadata": {},
   "source": [
    "Note: By default, the OutputNamer class will always add a metadata field date_saved which records the date and time the file was saved."
   ]
  },
  {
   "cell_type": "markdown",
   "metadata": {},
   "source": [
    "#### Opening the Saved Data and Checking the Metadata\n",
    "\n",
    "Finally, we open the saved NetCDF file and check its metadata to ensure it was saved correctly.\n",
    "\n"
   ]
  },
  {
   "cell_type": "code",
   "execution_count": 18,
   "metadata": {},
   "outputs": [
    {
     "data": {
      "text/html": [
       "<div><svg style=\"position: absolute; width: 0; height: 0; overflow: hidden\">\n",
       "<defs>\n",
       "<symbol id=\"icon-database\" viewBox=\"0 0 32 32\">\n",
       "<path d=\"M16 0c-8.837 0-16 2.239-16 5v4c0 2.761 7.163 5 16 5s16-2.239 16-5v-4c0-2.761-7.163-5-16-5z\"></path>\n",
       "<path d=\"M16 17c-8.837 0-16-2.239-16-5v6c0 2.761 7.163 5 16 5s16-2.239 16-5v-6c0 2.761-7.163 5-16 5z\"></path>\n",
       "<path d=\"M16 26c-8.837 0-16-2.239-16-5v6c0 2.761 7.163 5 16 5s16-2.239 16-5v-6c0 2.761-7.163 5-16 5z\"></path>\n",
       "</symbol>\n",
       "<symbol id=\"icon-file-text2\" viewBox=\"0 0 32 32\">\n",
       "<path d=\"M28.681 7.159c-0.694-0.947-1.662-2.053-2.724-3.116s-2.169-2.030-3.116-2.724c-1.612-1.182-2.393-1.319-2.841-1.319h-15.5c-1.378 0-2.5 1.121-2.5 2.5v27c0 1.378 1.122 2.5 2.5 2.5h23c1.378 0 2.5-1.122 2.5-2.5v-19.5c0-0.448-0.137-1.23-1.319-2.841zM24.543 5.457c0.959 0.959 1.712 1.825 2.268 2.543h-4.811v-4.811c0.718 0.556 1.584 1.309 2.543 2.268zM28 29.5c0 0.271-0.229 0.5-0.5 0.5h-23c-0.271 0-0.5-0.229-0.5-0.5v-27c0-0.271 0.229-0.5 0.5-0.5 0 0 15.499-0 15.5 0v7c0 0.552 0.448 1 1 1h7v19.5z\"></path>\n",
       "<path d=\"M23 26h-14c-0.552 0-1-0.448-1-1s0.448-1 1-1h14c0.552 0 1 0.448 1 1s-0.448 1-1 1z\"></path>\n",
       "<path d=\"M23 22h-14c-0.552 0-1-0.448-1-1s0.448-1 1-1h14c0.552 0 1 0.448 1 1s-0.448 1-1 1z\"></path>\n",
       "<path d=\"M23 18h-14c-0.552 0-1-0.448-1-1s0.448-1 1-1h14c0.552 0 1 0.448 1 1s-0.448 1-1 1z\"></path>\n",
       "</symbol>\n",
       "</defs>\n",
       "</svg>\n",
       "<style>/* CSS stylesheet for displaying xarray objects in jupyterlab.\n",
       " *\n",
       " */\n",
       "\n",
       ":root {\n",
       "  --xr-font-color0: var(--jp-content-font-color0, rgba(0, 0, 0, 1));\n",
       "  --xr-font-color2: var(--jp-content-font-color2, rgba(0, 0, 0, 0.54));\n",
       "  --xr-font-color3: var(--jp-content-font-color3, rgba(0, 0, 0, 0.38));\n",
       "  --xr-border-color: var(--jp-border-color2, #e0e0e0);\n",
       "  --xr-disabled-color: var(--jp-layout-color3, #bdbdbd);\n",
       "  --xr-background-color: var(--jp-layout-color0, white);\n",
       "  --xr-background-color-row-even: var(--jp-layout-color1, white);\n",
       "  --xr-background-color-row-odd: var(--jp-layout-color2, #eeeeee);\n",
       "}\n",
       "\n",
       "html[theme=dark],\n",
       "body[data-theme=dark],\n",
       "body.vscode-dark {\n",
       "  --xr-font-color0: rgba(255, 255, 255, 1);\n",
       "  --xr-font-color2: rgba(255, 255, 255, 0.54);\n",
       "  --xr-font-color3: rgba(255, 255, 255, 0.38);\n",
       "  --xr-border-color: #1F1F1F;\n",
       "  --xr-disabled-color: #515151;\n",
       "  --xr-background-color: #111111;\n",
       "  --xr-background-color-row-even: #111111;\n",
       "  --xr-background-color-row-odd: #313131;\n",
       "}\n",
       "\n",
       ".xr-wrap {\n",
       "  display: block !important;\n",
       "  min-width: 300px;\n",
       "  max-width: 700px;\n",
       "}\n",
       "\n",
       ".xr-text-repr-fallback {\n",
       "  /* fallback to plain text repr when CSS is not injected (untrusted notebook) */\n",
       "  display: none;\n",
       "}\n",
       "\n",
       ".xr-header {\n",
       "  padding-top: 6px;\n",
       "  padding-bottom: 6px;\n",
       "  margin-bottom: 4px;\n",
       "  border-bottom: solid 1px var(--xr-border-color);\n",
       "}\n",
       "\n",
       ".xr-header > div,\n",
       ".xr-header > ul {\n",
       "  display: inline;\n",
       "  margin-top: 0;\n",
       "  margin-bottom: 0;\n",
       "}\n",
       "\n",
       ".xr-obj-type,\n",
       ".xr-array-name {\n",
       "  margin-left: 2px;\n",
       "  margin-right: 10px;\n",
       "}\n",
       "\n",
       ".xr-obj-type {\n",
       "  color: var(--xr-font-color2);\n",
       "}\n",
       "\n",
       ".xr-sections {\n",
       "  padding-left: 0 !important;\n",
       "  display: grid;\n",
       "  grid-template-columns: 150px auto auto 1fr 20px 20px;\n",
       "}\n",
       "\n",
       ".xr-section-item {\n",
       "  display: contents;\n",
       "}\n",
       "\n",
       ".xr-section-item input {\n",
       "  display: none;\n",
       "}\n",
       "\n",
       ".xr-section-item input + label {\n",
       "  color: var(--xr-disabled-color);\n",
       "}\n",
       "\n",
       ".xr-section-item input:enabled + label {\n",
       "  cursor: pointer;\n",
       "  color: var(--xr-font-color2);\n",
       "}\n",
       "\n",
       ".xr-section-item input:enabled + label:hover {\n",
       "  color: var(--xr-font-color0);\n",
       "}\n",
       "\n",
       ".xr-section-summary {\n",
       "  grid-column: 1;\n",
       "  color: var(--xr-font-color2);\n",
       "  font-weight: 500;\n",
       "}\n",
       "\n",
       ".xr-section-summary > span {\n",
       "  display: inline-block;\n",
       "  padding-left: 0.5em;\n",
       "}\n",
       "\n",
       ".xr-section-summary-in:disabled + label {\n",
       "  color: var(--xr-font-color2);\n",
       "}\n",
       "\n",
       ".xr-section-summary-in + label:before {\n",
       "  display: inline-block;\n",
       "  content: '►';\n",
       "  font-size: 11px;\n",
       "  width: 15px;\n",
       "  text-align: center;\n",
       "}\n",
       "\n",
       ".xr-section-summary-in:disabled + label:before {\n",
       "  color: var(--xr-disabled-color);\n",
       "}\n",
       "\n",
       ".xr-section-summary-in:checked + label:before {\n",
       "  content: '▼';\n",
       "}\n",
       "\n",
       ".xr-section-summary-in:checked + label > span {\n",
       "  display: none;\n",
       "}\n",
       "\n",
       ".xr-section-summary,\n",
       ".xr-section-inline-details {\n",
       "  padding-top: 4px;\n",
       "  padding-bottom: 4px;\n",
       "}\n",
       "\n",
       ".xr-section-inline-details {\n",
       "  grid-column: 2 / -1;\n",
       "}\n",
       "\n",
       ".xr-section-details {\n",
       "  display: none;\n",
       "  grid-column: 1 / -1;\n",
       "  margin-bottom: 5px;\n",
       "}\n",
       "\n",
       ".xr-section-summary-in:checked ~ .xr-section-details {\n",
       "  display: contents;\n",
       "}\n",
       "\n",
       ".xr-array-wrap {\n",
       "  grid-column: 1 / -1;\n",
       "  display: grid;\n",
       "  grid-template-columns: 20px auto;\n",
       "}\n",
       "\n",
       ".xr-array-wrap > label {\n",
       "  grid-column: 1;\n",
       "  vertical-align: top;\n",
       "}\n",
       "\n",
       ".xr-preview {\n",
       "  color: var(--xr-font-color3);\n",
       "}\n",
       "\n",
       ".xr-array-preview,\n",
       ".xr-array-data {\n",
       "  padding: 0 5px !important;\n",
       "  grid-column: 2;\n",
       "}\n",
       "\n",
       ".xr-array-data,\n",
       ".xr-array-in:checked ~ .xr-array-preview {\n",
       "  display: none;\n",
       "}\n",
       "\n",
       ".xr-array-in:checked ~ .xr-array-data,\n",
       ".xr-array-preview {\n",
       "  display: inline-block;\n",
       "}\n",
       "\n",
       ".xr-dim-list {\n",
       "  display: inline-block !important;\n",
       "  list-style: none;\n",
       "  padding: 0 !important;\n",
       "  margin: 0;\n",
       "}\n",
       "\n",
       ".xr-dim-list li {\n",
       "  display: inline-block;\n",
       "  padding: 0;\n",
       "  margin: 0;\n",
       "}\n",
       "\n",
       ".xr-dim-list:before {\n",
       "  content: '(';\n",
       "}\n",
       "\n",
       ".xr-dim-list:after {\n",
       "  content: ')';\n",
       "}\n",
       "\n",
       ".xr-dim-list li:not(:last-child):after {\n",
       "  content: ',';\n",
       "  padding-right: 5px;\n",
       "}\n",
       "\n",
       ".xr-has-index {\n",
       "  font-weight: bold;\n",
       "}\n",
       "\n",
       ".xr-var-list,\n",
       ".xr-var-item {\n",
       "  display: contents;\n",
       "}\n",
       "\n",
       ".xr-var-item > div,\n",
       ".xr-var-item label,\n",
       ".xr-var-item > .xr-var-name span {\n",
       "  background-color: var(--xr-background-color-row-even);\n",
       "  margin-bottom: 0;\n",
       "}\n",
       "\n",
       ".xr-var-item > .xr-var-name:hover span {\n",
       "  padding-right: 5px;\n",
       "}\n",
       "\n",
       ".xr-var-list > li:nth-child(odd) > div,\n",
       ".xr-var-list > li:nth-child(odd) > label,\n",
       ".xr-var-list > li:nth-child(odd) > .xr-var-name span {\n",
       "  background-color: var(--xr-background-color-row-odd);\n",
       "}\n",
       "\n",
       ".xr-var-name {\n",
       "  grid-column: 1;\n",
       "}\n",
       "\n",
       ".xr-var-dims {\n",
       "  grid-column: 2;\n",
       "}\n",
       "\n",
       ".xr-var-dtype {\n",
       "  grid-column: 3;\n",
       "  text-align: right;\n",
       "  color: var(--xr-font-color2);\n",
       "}\n",
       "\n",
       ".xr-var-preview {\n",
       "  grid-column: 4;\n",
       "}\n",
       "\n",
       ".xr-index-preview {\n",
       "  grid-column: 2 / 5;\n",
       "  color: var(--xr-font-color2);\n",
       "}\n",
       "\n",
       ".xr-var-name,\n",
       ".xr-var-dims,\n",
       ".xr-var-dtype,\n",
       ".xr-preview,\n",
       ".xr-attrs dt {\n",
       "  white-space: nowrap;\n",
       "  overflow: hidden;\n",
       "  text-overflow: ellipsis;\n",
       "  padding-right: 10px;\n",
       "}\n",
       "\n",
       ".xr-var-name:hover,\n",
       ".xr-var-dims:hover,\n",
       ".xr-var-dtype:hover,\n",
       ".xr-attrs dt:hover {\n",
       "  overflow: visible;\n",
       "  width: auto;\n",
       "  z-index: 1;\n",
       "}\n",
       "\n",
       ".xr-var-attrs,\n",
       ".xr-var-data,\n",
       ".xr-index-data {\n",
       "  display: none;\n",
       "  background-color: var(--xr-background-color) !important;\n",
       "  padding-bottom: 5px !important;\n",
       "}\n",
       "\n",
       ".xr-var-attrs-in:checked ~ .xr-var-attrs,\n",
       ".xr-var-data-in:checked ~ .xr-var-data,\n",
       ".xr-index-data-in:checked ~ .xr-index-data {\n",
       "  display: block;\n",
       "}\n",
       "\n",
       ".xr-var-data > table {\n",
       "  float: right;\n",
       "}\n",
       "\n",
       ".xr-var-name span,\n",
       ".xr-var-data,\n",
       ".xr-index-name div,\n",
       ".xr-index-data,\n",
       ".xr-attrs {\n",
       "  padding-left: 25px !important;\n",
       "}\n",
       "\n",
       ".xr-attrs,\n",
       ".xr-var-attrs,\n",
       ".xr-var-data,\n",
       ".xr-index-data {\n",
       "  grid-column: 1 / -1;\n",
       "}\n",
       "\n",
       "dl.xr-attrs {\n",
       "  padding: 0;\n",
       "  margin: 0;\n",
       "  display: grid;\n",
       "  grid-template-columns: 125px auto;\n",
       "}\n",
       "\n",
       ".xr-attrs dt,\n",
       ".xr-attrs dd {\n",
       "  padding: 0;\n",
       "  margin: 0;\n",
       "  float: left;\n",
       "  padding-right: 10px;\n",
       "  width: auto;\n",
       "}\n",
       "\n",
       ".xr-attrs dt {\n",
       "  font-weight: normal;\n",
       "  grid-column: 1;\n",
       "}\n",
       "\n",
       ".xr-attrs dt:hover span {\n",
       "  display: inline-block;\n",
       "  background: var(--xr-background-color);\n",
       "  padding-right: 10px;\n",
       "}\n",
       "\n",
       ".xr-attrs dd {\n",
       "  grid-column: 2;\n",
       "  white-space: pre-wrap;\n",
       "  word-break: break-all;\n",
       "}\n",
       "\n",
       ".xr-icon-database,\n",
       ".xr-icon-file-text2,\n",
       ".xr-no-icon {\n",
       "  display: inline-block;\n",
       "  vertical-align: middle;\n",
       "  width: 1em;\n",
       "  height: 1.5em !important;\n",
       "  stroke-width: 0;\n",
       "  stroke: currentColor;\n",
       "  fill: currentColor;\n",
       "}\n",
       "</style><pre class='xr-text-repr-fallback'>&lt;xarray.Dataset&gt; Size: 240kB\n",
       "Dimensions:        (center_of_bin: 5000)\n",
       "Coordinates:\n",
       "  * center_of_bin  (center_of_bin) float64 40kB 0.25 0.75 ... 2.499e+03 2.5e+03\n",
       "    width          (center_of_bin) float64 40kB ...\n",
       "Data variables:\n",
       "    counts         (center_of_bin) float64 40kB ...\n",
       "    frequency      (center_of_bin) float64 40kB ...\n",
       "    pdf            (center_of_bin) float64 40kB ...\n",
       "    pdfP           (center_of_bin) float64 40kB ...\n",
       "Attributes: (12/15)\n",
       "    history:                \\n2024-06-04 14:10:51 AQUA💧: Retrieved from IFS-N...\n",
       "    time_band:              1990-01-01T00:00:00.000000000, 2002-02-01T00:00:0...\n",
       "    lat_band:               -14.5, 14.5, freq=1.0\n",
       "    lon_band:               0.0, 359.0, freq=1.0\n",
       "    time_band_history:      1990-01-01T00:00:00.000000000, 2002-02-01T00:00:0...\n",
       "    units:                  mm/day\n",
       "    ...                     ...\n",
       "    title:                  Testing the saving of NetCDF files\n",
       "    author:                 OutputNamer\n",
       "    description:            Demonstrating netCDF Metadata Addition\n",
       "    institution:            Politecnico di Torino\n",
       "    source:                 IFS-NEMO\n",
       "    date_saved:             2024-06-04 14:12:34</pre><div class='xr-wrap' style='display:none'><div class='xr-header'><div class='xr-obj-type'>xarray.Dataset</div></div><ul class='xr-sections'><li class='xr-section-item'><input id='section-31777483-f490-4593-aab4-41654f601976' class='xr-section-summary-in' type='checkbox' disabled ><label for='section-31777483-f490-4593-aab4-41654f601976' class='xr-section-summary'  title='Expand/collapse section'>Dimensions:</label><div class='xr-section-inline-details'><ul class='xr-dim-list'><li><span class='xr-has-index'>center_of_bin</span>: 5000</li></ul></div><div class='xr-section-details'></div></li><li class='xr-section-item'><input id='section-e5f2ca92-21cb-44dd-b1c3-6e4237184baf' class='xr-section-summary-in' type='checkbox'  checked><label for='section-e5f2ca92-21cb-44dd-b1c3-6e4237184baf' class='xr-section-summary' >Coordinates: <span>(2)</span></label><div class='xr-section-inline-details'></div><div class='xr-section-details'><ul class='xr-var-list'><li class='xr-var-item'><div class='xr-var-name'><span class='xr-has-index'>center_of_bin</span></div><div class='xr-var-dims'>(center_of_bin)</div><div class='xr-var-dtype'>float64</div><div class='xr-var-preview xr-preview'>0.25 0.75 ... 2.499e+03 2.5e+03</div><input id='attrs-0fdc4e6f-32ef-4719-974a-978fdba78ddc' class='xr-var-attrs-in' type='checkbox' ><label for='attrs-0fdc4e6f-32ef-4719-974a-978fdba78ddc' title='Show/Hide attributes'><svg class='icon xr-icon-file-text2'><use xlink:href='#icon-file-text2'></use></svg></label><input id='data-6fbb9c6b-282d-43df-8978-d3fe350e2b1e' class='xr-var-data-in' type='checkbox'><label for='data-6fbb9c6b-282d-43df-8978-d3fe350e2b1e' title='Show/Hide data repr'><svg class='icon xr-icon-database'><use xlink:href='#icon-database'></use></svg></label><div class='xr-var-attrs'><dl class='xr-attrs'><dt><span>units :</span></dt><dd>mm/day</dd><dt><span>history :</span></dt><dd>Units are added to the bins to coordinate</dd></dl></div><div class='xr-var-data'><pre>array([2.50000e-01, 7.50000e-01, 1.25000e+00, ..., 2.49875e+03, 2.49925e+03,\n",
       "       2.49975e+03])</pre></div></li><li class='xr-var-item'><div class='xr-var-name'><span>width</span></div><div class='xr-var-dims'>(center_of_bin)</div><div class='xr-var-dtype'>float64</div><div class='xr-var-preview xr-preview'>...</div><input id='attrs-5af3dc8b-a86f-4779-8001-bb29524cff84' class='xr-var-attrs-in' type='checkbox' disabled><label for='attrs-5af3dc8b-a86f-4779-8001-bb29524cff84' title='Show/Hide attributes'><svg class='icon xr-icon-file-text2'><use xlink:href='#icon-file-text2'></use></svg></label><input id='data-20bf568c-2a80-4252-b123-fc8402f6a3a4' class='xr-var-data-in' type='checkbox'><label for='data-20bf568c-2a80-4252-b123-fc8402f6a3a4' title='Show/Hide data repr'><svg class='icon xr-icon-database'><use xlink:href='#icon-database'></use></svg></label><div class='xr-var-attrs'><dl class='xr-attrs'></dl></div><div class='xr-var-data'><pre>[5000 values with dtype=float64]</pre></div></li></ul></div></li><li class='xr-section-item'><input id='section-76a50378-d2a9-4fb6-9460-0dd827700288' class='xr-section-summary-in' type='checkbox'  checked><label for='section-76a50378-d2a9-4fb6-9460-0dd827700288' class='xr-section-summary' >Data variables: <span>(4)</span></label><div class='xr-section-inline-details'></div><div class='xr-section-details'><ul class='xr-var-list'><li class='xr-var-item'><div class='xr-var-name'><span>counts</span></div><div class='xr-var-dims'>(center_of_bin)</div><div class='xr-var-dtype'>float64</div><div class='xr-var-preview xr-preview'>...</div><input id='attrs-24037689-cb8a-44dd-865d-af8217c82fef' class='xr-var-attrs-in' type='checkbox' ><label for='attrs-24037689-cb8a-44dd-865d-af8217c82fef' title='Show/Hide attributes'><svg class='icon xr-icon-file-text2'><use xlink:href='#icon-file-text2'></use></svg></label><input id='data-e668a9d8-ece1-4de0-98ac-f59c6638f65e' class='xr-var-data-in' type='checkbox'><label for='data-e668a9d8-ece1-4de0-98ac-f59c6638f65e' title='Show/Hide data repr'><svg class='icon xr-icon-database'><use xlink:href='#icon-database'></use></svg></label><div class='xr-var-attrs'><dl class='xr-attrs'><dt><span>long_name :</span></dt><dd>Mean total precipitation rate</dd><dt><span>units :</span></dt><dd>mm/day</dd><dt><span>standard_name :</span></dt><dd>unknown</dd><dt><span>GRIB_paramId :</span></dt><dd>228</dd><dt><span>GRIB_shortName :</span></dt><dd>tp</dd><dt><span>GRIB_units :</span></dt><dd>m</dd><dt><span>GRIB_name :</span></dt><dd>Total precipitation</dd><dt><span>GRIB_cfName :</span></dt><dd>unknown</dd><dt><span>GRIB_cfVarName :</span></dt><dd>tp</dd><dt><span>GRIB_dataType :</span></dt><dd>fc</dd><dt><span>GRIB_missingValue :</span></dt><dd>9999</dd><dt><span>GRIB_numberOfPoints :</span></dt><dd>196608</dd><dt><span>GRIB_typeOfLevel :</span></dt><dd>surface</dd><dt><span>GRIB_NV :</span></dt><dd>0</dd><dt><span>GRIB_stepUnits :</span></dt><dd>1</dd><dt><span>GRIB_stepType :</span></dt><dd>accum</dd><dt><span>GRIB_gridType :</span></dt><dd>healpix</dd><dt><span>GRIB_gridDefinitionDescription :</span></dt><dd>150</dd><dt><span>gridtype :</span></dt><dd>healpix</dd><dt><span>history :</span></dt><dd>\n",
       "2024-02-01 23:42:41 AQUA💧: Variable renamed mtpr by fixer;\n",
       "2024-02-01 23:42:41 AQUA💧: Converting units of mtpr: from m to kg m**-2 s**-1;\n",
       "2024-02-01 23:42:41 AQUA💧: Fixing tp to mtpr. Unit fix: factor=0.2777777777777778, offset=0;\n",
       "2024-02-01 23:42:41 AQUA💧: Fixer set first step of months before 2020-01-01 and after 1990-01-01 to NaN;\n",
       "2024-02-01 23:42:42 AQUA💧: Units changed to kg m**-2 s**-1 by fixer;\n",
       "2024-02-01 23:42:46 AQUA💧: resampled from frequency 1h to frequency monthly by AQUA timmean;\n",
       "2024-02-01 23:42:46 AQUA💧: Regrid from hpz7-nested to r100;\n",
       "2024-02-01 23:43:15 AQUA💧: regridded from hpz7-nested to r100 and from frequency 1 to monthly through LRA generator;\n",
       "2024-06-04 14:10:53 the units of precipitation are converted from mm/day to mm/day;\n",
       " </dd><dt><span>paramId :</span></dt><dd>235055</dd><dt><span>cfVarName :</span></dt><dd>mtpr</dd><dt><span>shortName :</span></dt><dd>mtpr</dd><dt><span>factor :</span></dt><dd>0.2777777777777778</dd><dt><span>offset :</span></dt><dd>0</dd><dt><span>src_units :</span></dt><dd>m</dd><dt><span>units_fixed :</span></dt><dd>1</dd><dt><span>size_of_the_data :</span></dt><dd>1576800</dd><dt><span>time_band :</span></dt><dd>1990-01-01T00:00:00.000000000, 2002-02-01T00:00:00.000000000, freq=M</dd><dt><span>lat_band :</span></dt><dd>-14.5, 14.5, freq=1.0</dd><dt><span>lon_band :</span></dt><dd>0.0, 359.0, freq=1.0</dd><dt><span>time_band_history :</span></dt><dd>1990-01-01T00:00:00.000000000, 2002-02-01T00:00:00.000000000, freq=M</dd><dt><span>mean_of_original_data :</span></dt><dd>4.753030154124839</dd><dt><span>mean_of_histogram :</span></dt><dd>4.766684107052257</dd><dt><span>relative_discrepancy :</span></dt><dd>-0.2872683842657528</dd></dl></div><div class='xr-var-data'><pre>[5000 values with dtype=float64]</pre></div></li><li class='xr-var-item'><div class='xr-var-name'><span>frequency</span></div><div class='xr-var-dims'>(center_of_bin)</div><div class='xr-var-dtype'>float64</div><div class='xr-var-preview xr-preview'>...</div><input id='attrs-769ec3b7-989c-4abf-986e-15f08451ba9f' class='xr-var-attrs-in' type='checkbox' ><label for='attrs-769ec3b7-989c-4abf-986e-15f08451ba9f' title='Show/Hide attributes'><svg class='icon xr-icon-file-text2'><use xlink:href='#icon-file-text2'></use></svg></label><input id='data-e4a346ad-98a2-4259-8cc3-7e5719b248d0' class='xr-var-data-in' type='checkbox'><label for='data-e4a346ad-98a2-4259-8cc3-7e5719b248d0' title='Show/Hide data repr'><svg class='icon xr-icon-database'><use xlink:href='#icon-database'></use></svg></label><div class='xr-var-attrs'><dl class='xr-attrs'><dt><span>long_name :</span></dt><dd>Mean total precipitation rate</dd><dt><span>units :</span></dt><dd>mm/day</dd><dt><span>standard_name :</span></dt><dd>unknown</dd><dt><span>GRIB_paramId :</span></dt><dd>228</dd><dt><span>GRIB_shortName :</span></dt><dd>tp</dd><dt><span>GRIB_units :</span></dt><dd>m</dd><dt><span>GRIB_name :</span></dt><dd>Total precipitation</dd><dt><span>GRIB_cfName :</span></dt><dd>unknown</dd><dt><span>GRIB_cfVarName :</span></dt><dd>tp</dd><dt><span>GRIB_dataType :</span></dt><dd>fc</dd><dt><span>GRIB_missingValue :</span></dt><dd>9999</dd><dt><span>GRIB_numberOfPoints :</span></dt><dd>196608</dd><dt><span>GRIB_typeOfLevel :</span></dt><dd>surface</dd><dt><span>GRIB_NV :</span></dt><dd>0</dd><dt><span>GRIB_stepUnits :</span></dt><dd>1</dd><dt><span>GRIB_stepType :</span></dt><dd>accum</dd><dt><span>GRIB_gridType :</span></dt><dd>healpix</dd><dt><span>GRIB_gridDefinitionDescription :</span></dt><dd>150</dd><dt><span>gridtype :</span></dt><dd>healpix</dd><dt><span>history :</span></dt><dd>\n",
       "2024-02-01 23:42:41 AQUA💧: Variable renamed mtpr by fixer;\n",
       "2024-02-01 23:42:41 AQUA💧: Converting units of mtpr: from m to kg m**-2 s**-1;\n",
       "2024-02-01 23:42:41 AQUA💧: Fixing tp to mtpr. Unit fix: factor=0.2777777777777778, offset=0;\n",
       "2024-02-01 23:42:41 AQUA💧: Fixer set first step of months before 2020-01-01 and after 1990-01-01 to NaN;\n",
       "2024-02-01 23:42:42 AQUA💧: Units changed to kg m**-2 s**-1 by fixer;\n",
       "2024-02-01 23:42:46 AQUA💧: resampled from frequency 1h to frequency monthly by AQUA timmean;\n",
       "2024-02-01 23:42:46 AQUA💧: Regrid from hpz7-nested to r100;\n",
       "2024-02-01 23:43:15 AQUA💧: regridded from hpz7-nested to r100 and from frequency 1 to monthly through LRA generator;\n",
       "2024-06-04 14:10:53 the units of precipitation are converted from mm/day to mm/day;\n",
       " </dd><dt><span>paramId :</span></dt><dd>235055</dd><dt><span>cfVarName :</span></dt><dd>mtpr</dd><dt><span>shortName :</span></dt><dd>mtpr</dd><dt><span>factor :</span></dt><dd>0.2777777777777778</dd><dt><span>offset :</span></dt><dd>0</dd><dt><span>src_units :</span></dt><dd>m</dd><dt><span>units_fixed :</span></dt><dd>1</dd><dt><span>size_of_the_data :</span></dt><dd>1576800</dd><dt><span>time_band :</span></dt><dd>1990-01-01T00:00:00.000000000, 2002-02-01T00:00:00.000000000, freq=M</dd><dt><span>lat_band :</span></dt><dd>-14.5, 14.5, freq=1.0</dd><dt><span>lon_band :</span></dt><dd>0.0, 359.0, freq=1.0</dd><dt><span>time_band_history :</span></dt><dd>1990-01-01T00:00:00.000000000, 2002-02-01T00:00:00.000000000, freq=M</dd><dt><span>mean_of_original_data :</span></dt><dd>4.753030154124839</dd><dt><span>mean_of_histogram :</span></dt><dd>4.766684107052257</dd><dt><span>relative_discrepancy :</span></dt><dd>-0.2872683842657528</dd></dl></div><div class='xr-var-data'><pre>[5000 values with dtype=float64]</pre></div></li><li class='xr-var-item'><div class='xr-var-name'><span>pdf</span></div><div class='xr-var-dims'>(center_of_bin)</div><div class='xr-var-dtype'>float64</div><div class='xr-var-preview xr-preview'>...</div><input id='attrs-aa84ba54-44d4-45af-9932-c4785a9d70ba' class='xr-var-attrs-in' type='checkbox' ><label for='attrs-aa84ba54-44d4-45af-9932-c4785a9d70ba' title='Show/Hide attributes'><svg class='icon xr-icon-file-text2'><use xlink:href='#icon-file-text2'></use></svg></label><input id='data-08b02aef-3f3f-47cc-bcc8-6d5ac1861220' class='xr-var-data-in' type='checkbox'><label for='data-08b02aef-3f3f-47cc-bcc8-6d5ac1861220' title='Show/Hide data repr'><svg class='icon xr-icon-database'><use xlink:href='#icon-database'></use></svg></label><div class='xr-var-attrs'><dl class='xr-attrs'><dt><span>long_name :</span></dt><dd>Mean total precipitation rate</dd><dt><span>units :</span></dt><dd>mm/day</dd><dt><span>standard_name :</span></dt><dd>unknown</dd><dt><span>GRIB_paramId :</span></dt><dd>228</dd><dt><span>GRIB_shortName :</span></dt><dd>tp</dd><dt><span>GRIB_units :</span></dt><dd>m</dd><dt><span>GRIB_name :</span></dt><dd>Total precipitation</dd><dt><span>GRIB_cfName :</span></dt><dd>unknown</dd><dt><span>GRIB_cfVarName :</span></dt><dd>tp</dd><dt><span>GRIB_dataType :</span></dt><dd>fc</dd><dt><span>GRIB_missingValue :</span></dt><dd>9999</dd><dt><span>GRIB_numberOfPoints :</span></dt><dd>196608</dd><dt><span>GRIB_typeOfLevel :</span></dt><dd>surface</dd><dt><span>GRIB_NV :</span></dt><dd>0</dd><dt><span>GRIB_stepUnits :</span></dt><dd>1</dd><dt><span>GRIB_stepType :</span></dt><dd>accum</dd><dt><span>GRIB_gridType :</span></dt><dd>healpix</dd><dt><span>GRIB_gridDefinitionDescription :</span></dt><dd>150</dd><dt><span>gridtype :</span></dt><dd>healpix</dd><dt><span>history :</span></dt><dd>\n",
       "2024-02-01 23:42:41 AQUA💧: Variable renamed mtpr by fixer;\n",
       "2024-02-01 23:42:41 AQUA💧: Converting units of mtpr: from m to kg m**-2 s**-1;\n",
       "2024-02-01 23:42:41 AQUA💧: Fixing tp to mtpr. Unit fix: factor=0.2777777777777778, offset=0;\n",
       "2024-02-01 23:42:41 AQUA💧: Fixer set first step of months before 2020-01-01 and after 1990-01-01 to NaN;\n",
       "2024-02-01 23:42:42 AQUA💧: Units changed to kg m**-2 s**-1 by fixer;\n",
       "2024-02-01 23:42:46 AQUA💧: resampled from frequency 1h to frequency monthly by AQUA timmean;\n",
       "2024-02-01 23:42:46 AQUA💧: Regrid from hpz7-nested to r100;\n",
       "2024-02-01 23:43:15 AQUA💧: regridded from hpz7-nested to r100 and from frequency 1 to monthly through LRA generator;\n",
       "2024-06-04 14:10:53 the units of precipitation are converted from mm/day to mm/day;\n",
       " </dd><dt><span>paramId :</span></dt><dd>235055</dd><dt><span>cfVarName :</span></dt><dd>mtpr</dd><dt><span>shortName :</span></dt><dd>mtpr</dd><dt><span>factor :</span></dt><dd>0.2777777777777778</dd><dt><span>offset :</span></dt><dd>0</dd><dt><span>src_units :</span></dt><dd>m</dd><dt><span>units_fixed :</span></dt><dd>1</dd><dt><span>size_of_the_data :</span></dt><dd>1576800</dd><dt><span>time_band :</span></dt><dd>1990-01-01T00:00:00.000000000, 2002-02-01T00:00:00.000000000, freq=M</dd><dt><span>lat_band :</span></dt><dd>-14.5, 14.5, freq=1.0</dd><dt><span>lon_band :</span></dt><dd>0.0, 359.0, freq=1.0</dd><dt><span>time_band_history :</span></dt><dd>1990-01-01T00:00:00.000000000, 2002-02-01T00:00:00.000000000, freq=M</dd><dt><span>mean_of_original_data :</span></dt><dd>4.753030154124839</dd><dt><span>mean_of_histogram :</span></dt><dd>4.766684107052257</dd><dt><span>relative_discrepancy :</span></dt><dd>-0.2872683842657528</dd></dl></div><div class='xr-var-data'><pre>[5000 values with dtype=float64]</pre></div></li><li class='xr-var-item'><div class='xr-var-name'><span>pdfP</span></div><div class='xr-var-dims'>(center_of_bin)</div><div class='xr-var-dtype'>float64</div><div class='xr-var-preview xr-preview'>...</div><input id='attrs-4d306d48-d2fe-4bd7-9f00-59ce0d2aab27' class='xr-var-attrs-in' type='checkbox' ><label for='attrs-4d306d48-d2fe-4bd7-9f00-59ce0d2aab27' title='Show/Hide attributes'><svg class='icon xr-icon-file-text2'><use xlink:href='#icon-file-text2'></use></svg></label><input id='data-f3c7a179-b05b-4110-8731-7767c20c04d4' class='xr-var-data-in' type='checkbox'><label for='data-f3c7a179-b05b-4110-8731-7767c20c04d4' title='Show/Hide data repr'><svg class='icon xr-icon-database'><use xlink:href='#icon-database'></use></svg></label><div class='xr-var-attrs'><dl class='xr-attrs'><dt><span>long_name :</span></dt><dd>Mean total precipitation rate</dd><dt><span>units :</span></dt><dd>mm/day</dd><dt><span>standard_name :</span></dt><dd>unknown</dd><dt><span>GRIB_paramId :</span></dt><dd>228</dd><dt><span>GRIB_shortName :</span></dt><dd>tp</dd><dt><span>GRIB_units :</span></dt><dd>m</dd><dt><span>GRIB_name :</span></dt><dd>Total precipitation</dd><dt><span>GRIB_cfName :</span></dt><dd>unknown</dd><dt><span>GRIB_cfVarName :</span></dt><dd>tp</dd><dt><span>GRIB_dataType :</span></dt><dd>fc</dd><dt><span>GRIB_missingValue :</span></dt><dd>9999</dd><dt><span>GRIB_numberOfPoints :</span></dt><dd>196608</dd><dt><span>GRIB_typeOfLevel :</span></dt><dd>surface</dd><dt><span>GRIB_NV :</span></dt><dd>0</dd><dt><span>GRIB_stepUnits :</span></dt><dd>1</dd><dt><span>GRIB_stepType :</span></dt><dd>accum</dd><dt><span>GRIB_gridType :</span></dt><dd>healpix</dd><dt><span>GRIB_gridDefinitionDescription :</span></dt><dd>150</dd><dt><span>gridtype :</span></dt><dd>healpix</dd><dt><span>history :</span></dt><dd>\n",
       "2024-02-01 23:42:41 AQUA💧: Variable renamed mtpr by fixer;\n",
       "2024-02-01 23:42:41 AQUA💧: Converting units of mtpr: from m to kg m**-2 s**-1;\n",
       "2024-02-01 23:42:41 AQUA💧: Fixing tp to mtpr. Unit fix: factor=0.2777777777777778, offset=0;\n",
       "2024-02-01 23:42:41 AQUA💧: Fixer set first step of months before 2020-01-01 and after 1990-01-01 to NaN;\n",
       "2024-02-01 23:42:42 AQUA💧: Units changed to kg m**-2 s**-1 by fixer;\n",
       "2024-02-01 23:42:46 AQUA💧: resampled from frequency 1h to frequency monthly by AQUA timmean;\n",
       "2024-02-01 23:42:46 AQUA💧: Regrid from hpz7-nested to r100;\n",
       "2024-02-01 23:43:15 AQUA💧: regridded from hpz7-nested to r100 and from frequency 1 to monthly through LRA generator;\n",
       "2024-06-04 14:10:53 the units of precipitation are converted from mm/day to mm/day;\n",
       " </dd><dt><span>paramId :</span></dt><dd>235055</dd><dt><span>cfVarName :</span></dt><dd>mtpr</dd><dt><span>shortName :</span></dt><dd>mtpr</dd><dt><span>factor :</span></dt><dd>0.2777777777777778</dd><dt><span>offset :</span></dt><dd>0</dd><dt><span>src_units :</span></dt><dd>m</dd><dt><span>units_fixed :</span></dt><dd>1</dd><dt><span>size_of_the_data :</span></dt><dd>1576800</dd></dl></div><div class='xr-var-data'><pre>[5000 values with dtype=float64]</pre></div></li></ul></div></li><li class='xr-section-item'><input id='section-8a87507d-5511-42d7-90e1-ebadada34f6d' class='xr-section-summary-in' type='checkbox'  ><label for='section-8a87507d-5511-42d7-90e1-ebadada34f6d' class='xr-section-summary' >Indexes: <span>(1)</span></label><div class='xr-section-inline-details'></div><div class='xr-section-details'><ul class='xr-var-list'><li class='xr-var-item'><div class='xr-index-name'><div>center_of_bin</div></div><div class='xr-index-preview'>PandasIndex</div><div></div><input id='index-f46906ea-975c-4a3a-b384-49cb13f20f7b' class='xr-index-data-in' type='checkbox'/><label for='index-f46906ea-975c-4a3a-b384-49cb13f20f7b' title='Show/Hide index repr'><svg class='icon xr-icon-database'><use xlink:href='#icon-database'></use></svg></label><div class='xr-index-data'><pre>PandasIndex(Index([   0.25,    0.75,    1.25,    1.75,    2.25,    2.75,    3.25,    3.75,\n",
       "          4.25,    4.75,\n",
       "       ...\n",
       "       2495.25, 2495.75, 2496.25, 2496.75, 2497.25, 2497.75, 2498.25, 2498.75,\n",
       "       2499.25, 2499.75],\n",
       "      dtype=&#x27;float64&#x27;, name=&#x27;center_of_bin&#x27;, length=5000))</pre></div></li></ul></div></li><li class='xr-section-item'><input id='section-8799d061-460d-4ac9-a5d9-c12263a756a1' class='xr-section-summary-in' type='checkbox'  ><label for='section-8799d061-460d-4ac9-a5d9-c12263a756a1' class='xr-section-summary' >Attributes: <span>(15)</span></label><div class='xr-section-inline-details'></div><div class='xr-section-details'><dl class='xr-attrs'><dt><span>history :</span></dt><dd>\n",
       "2024-06-04 14:10:51 AQUA💧: Retrieved from IFS-NEMO_historical-1990_lra-r100-monthly using file from disk;\n",
       "2024-06-04 14:11:00 histogram is calculated for time_band: [1990-01-01T00:00:00.000000000, 2002-02-01T00:00:00.000000000, freq=M]; lat_band: [-14.5, 14.5, freq=1.0]; lon_band: [0.0, 359.0, freq=1.0];\n",
       " \n",
       "2024-06-04 14:12:34 AQUA💧: Created on a Jupyter Notebook;\n",
       "</dd><dt><span>time_band :</span></dt><dd>1990-01-01T00:00:00.000000000, 2002-02-01T00:00:00.000000000, freq=M</dd><dt><span>lat_band :</span></dt><dd>-14.5, 14.5, freq=1.0</dd><dt><span>lon_band :</span></dt><dd>0.0, 359.0, freq=1.0</dd><dt><span>time_band_history :</span></dt><dd>1990-01-01T00:00:00.000000000, 2002-02-01T00:00:00.000000000, freq=M</dd><dt><span>units :</span></dt><dd>mm/day</dd><dt><span>mean_of_original_data :</span></dt><dd>4.753030154124839</dd><dt><span>mean_of_histogram :</span></dt><dd>4.766684107052257</dd><dt><span>relative_discrepancy :</span></dt><dd>-0.2872683842657528</dd><dt><span>title :</span></dt><dd>Testing the saving of NetCDF files</dd><dt><span>author :</span></dt><dd>OutputNamer</dd><dt><span>description :</span></dt><dd>Demonstrating netCDF Metadata Addition</dd><dt><span>institution :</span></dt><dd>Politecnico di Torino</dd><dt><span>source :</span></dt><dd>IFS-NEMO</dd><dt><span>date_saved :</span></dt><dd>2024-06-04 14:12:34</dd></dl></div></li></ul></div></div>"
      ],
      "text/plain": [
       "<xarray.Dataset> Size: 240kB\n",
       "Dimensions:        (center_of_bin: 5000)\n",
       "Coordinates:\n",
       "  * center_of_bin  (center_of_bin) float64 40kB 0.25 0.75 ... 2.499e+03 2.5e+03\n",
       "    width          (center_of_bin) float64 40kB ...\n",
       "Data variables:\n",
       "    counts         (center_of_bin) float64 40kB ...\n",
       "    frequency      (center_of_bin) float64 40kB ...\n",
       "    pdf            (center_of_bin) float64 40kB ...\n",
       "    pdfP           (center_of_bin) float64 40kB ...\n",
       "Attributes: (12/15)\n",
       "    history:                \\n2024-06-04 14:10:51 AQUA💧: Retrieved from IFS-N...\n",
       "    time_band:              1990-01-01T00:00:00.000000000, 2002-02-01T00:00:0...\n",
       "    lat_band:               -14.5, 14.5, freq=1.0\n",
       "    lon_band:               0.0, 359.0, freq=1.0\n",
       "    time_band_history:      1990-01-01T00:00:00.000000000, 2002-02-01T00:00:0...\n",
       "    units:                  mm/day\n",
       "    ...                     ...\n",
       "    title:                  Testing the saving of NetCDF files\n",
       "    author:                 OutputNamer\n",
       "    description:            Demonstrating netCDF Metadata Addition\n",
       "    institution:            Politecnico di Torino\n",
       "    source:                 IFS-NEMO\n",
       "    date_saved:             2024-06-04 14:12:34"
      ]
     },
     "execution_count": 18,
     "metadata": {},
     "output_type": "execute_result"
    }
   ],
   "source": [
    "import xarray as xr\n",
    "xr.open_dataset('tropical_rainfall.histogram.IFS-NEMO.historical-1990.nc')"
   ]
  },
  {
   "cell_type": "markdown",
   "metadata": {},
   "source": [
    "### 3. Saving PDF and PNG Plots to Memory with Metadata\n",
    "This section demonstrates how to generate plots, save them as PDF and PNG files with metadata, and display them using the OutputNamer class."
   ]
  },
  {
   "cell_type": "markdown",
   "metadata": {},
   "source": [
    "#### Generating and Saving a PDF Plot with Metadata\n",
    "First, we generate a histogram plot and save it as a PDF file with metadata."
   ]
  },
  {
   "cell_type": "code",
   "execution_count": 13,
   "metadata": {},
   "outputs": [
    {
     "name": "stderr",
     "output_type": "stream",
     "text": [
      "\u001b[37m2024-06-04 14:11:02 :: OutputNamer :: DEBUG    -> Generated filename: tropical_rainfall.histogram.IFS-NEMO.historical-1990.pdf\u001b[0m\n",
      "\u001b[37m2024-06-04 14:11:03 :: add_pdf_metadata :: DEBUG    -> Keeping old metadata\u001b[0m\n",
      "\u001b[38;2;64;184;50m2024-06-04 14:11:03 :: OutputNamer :: INFO     -> Saved PDF file at: ./tropical_rainfall.histogram.IFS-NEMO.historical-1990.pdf\u001b[0m\n"
     ]
    },
    {
     "name": "stdout",
     "output_type": "stream",
     "text": [
      "PDF saved to: ./tropical_rainfall.histogram.IFS-NEMO.historical-1990.pdf\n"
     ]
    },
    {
     "data": {
      "image/png": "[encoded data removed]",
      "text/plain": [
       "<Figure size 800x500 with 1 Axes>"
      ]
     },
     "metadata": {},
     "output_type": "display_data"
    }
   ],
   "source": [
    "# Generate the histogram plot\n",
    "figure, _ = diag.histogram_plot(hist_data, figsize=1, pdf=True, smooth=True, save=False, \n",
    "                                xlogscale=False, ylogscale=True, color='tab:blue',\n",
    "                                loc='upper right', xmax=60, legend='ifs-nemo')\n",
    "\n",
    "# Define metadata for the PDF file\n",
    "metadata = {\n",
    "    '/Title': 'Sample PDF',\n",
    "    '/Author': 'OutputNamer',\n",
    "    '/Subject': 'Demonstrating PDF Metadata Addition',\n",
    "    '/Keywords': 'PDF, OutputNamer, Metadata'\n",
    "}\n",
    "\n",
    "# Extract the figure and axis objects\n",
    "fig, ax = figure \n",
    "\n",
    "# Save the PDF with metadata\n",
    "pdf_path = names.save_pdf(fig, diagnostic_product='histogram', metadata=metadata, dpi=300)\n",
    "print(f\"PDF saved to: {pdf_path}\")\n"
   ]
  },
  {
   "cell_type": "markdown",
   "metadata": {},
   "source": [
    "#### Opening and Displaying the Saved PDF File\n",
    "Provide a link to the saved PDF file for easy access:"
   ]
  },
  {
   "cell_type": "code",
   "execution_count": 14,
   "metadata": {},
   "outputs": [
    {
     "name": "stdout",
     "output_type": "stream",
     "text": [
      "PDF Metadata:\n",
      "/Producer: Matplotlib pdf backend v3.9.0\n",
      "/Creator: Matplotlib v3.9.0, https://matplotlib.org\n",
      "/CreationDate: D:20240604141103+03'00'\n",
      "/Description: {'/Title': 'Sample PDF', '/Author': 'OutputNamer', '/Subject': 'Demonstrating PDF Metadata Addition', '/Keywords': 'PDF, OutputNamer, Metadata', 'date_saved': '2024-06-04 14:11:03'}\n"
     ]
    },
    {
     "data": {
      "text/html": [
       "<a href='tropical_rainfall.histogram.IFS-NEMO.historical-1990.pdf' target='_blank'>tropical_rainfall.histogram.IFS-NEMO.historical-1990.pdf</a><br>"
      ],
      "text/plain": [
       "/pfs/lustrep3/projappl/project_465000454/nurissom/AQUA/notebooks/tropical_rainfall.histogram.IFS-NEMO.historical-1990.pdf"
      ]
     },
     "metadata": {},
     "output_type": "display_data"
    }
   ],
   "source": [
    "open_image(\"tropical_rainfall.histogram.IFS-NEMO.historical-1990.pdf\")"
   ]
  },
  {
   "cell_type": "markdown",
   "metadata": {},
   "source": [
    "#### Generating and Saving a PNG Plot with Metadata\n",
    "Next, we generate the same histogram plot and save it as a PNG file with metadata."
   ]
  },
  {
   "cell_type": "code",
   "execution_count": 15,
   "metadata": {},
   "outputs": [
    {
     "name": "stderr",
     "output_type": "stream",
     "text": [
      "\u001b[37m2024-06-04 14:11:06 :: OutputNamer :: DEBUG    -> Generated filename: tropical_rainfall.histogram.IFS-NEMO.historical-1990.png\u001b[0m\n",
      "\u001b[37m2024-06-04 14:11:07 :: add_png_metadata :: DEBUG    -> Adding metadata: Title = Sample PNG\u001b[0m\n",
      "\u001b[37m2024-06-04 14:11:07 :: add_png_metadata :: DEBUG    -> Adding metadata: Author = OutputNamer\u001b[0m\n",
      "\u001b[37m2024-06-04 14:11:07 :: add_png_metadata :: DEBUG    -> Adding metadata: Description = Demonstrating PNG Metadata Addition\u001b[0m\n",
      "\u001b[37m2024-06-04 14:11:07 :: add_png_metadata :: DEBUG    -> Adding metadata: Keywords = PNG, OutputNamer, Metadata\u001b[0m\n",
      "\u001b[37m2024-06-04 14:11:07 :: add_png_metadata :: DEBUG    -> Adding metadata: date_saved = 2024-06-04 14:11:07\u001b[0m\n",
      "\u001b[38;2;64;184;50m2024-06-04 14:11:07 :: add_png_metadata :: INFO     -> Metadata added to PNG: ./tropical_rainfall.histogram.IFS-NEMO.historical-1990.png\u001b[0m\n",
      "\u001b[38;2;64;184;50m2024-06-04 14:11:07 :: OutputNamer :: INFO     -> Saved PNG file to path: ./tropical_rainfall.histogram.IFS-NEMO.historical-1990.png\u001b[0m\n"
     ]
    },
    {
     "name": "stdout",
     "output_type": "stream",
     "text": [
      "PNG saved to: ./tropical_rainfall.histogram.IFS-NEMO.historical-1990.png\n"
     ]
    },
    {
     "data": {
      "image/png": "[encoded data removed]",
      "text/plain": [
       "<Figure size 800x500 with 1 Axes>"
      ]
     },
     "metadata": {},
     "output_type": "display_data"
    }
   ],
   "source": [
    "# Generate the histogram plot\n",
    "figure, _ = diag.histogram_plot(hist_data, figsize=1, pdf=True, save=False, smooth=True,\n",
    "                                xlogscale=False, ylogscale=True, color='tab:blue',\n",
    "                                loc='upper right', xmax=60, legend='ifs-nemo')\n",
    "\n",
    "# Define metadata for the PNG file\n",
    "metadata = {\n",
    "    \"Title\": \"Sample PNG\",\n",
    "    \"Author\": \"OutputNamer\",\n",
    "    \"Description\": \"Demonstrating PNG Metadata Addition\",\n",
    "    \"Keywords\": \"PNG, OutputNamer, Metadata\"\n",
    "}\n",
    "\n",
    "# Extract the figure and axis objects\n",
    "fig, ax = figure \n",
    "\n",
    "# Save the PNG with metadata\n",
    "png_path = names.save_png(fig, diagnostic_product='histogram', metadata=metadata, dpi=300)\n",
    "print(f\"PNG saved to: {png_path}\")\n"
   ]
  },
  {
   "cell_type": "markdown",
   "metadata": {},
   "source": [
    "#### Opening and Displaying the Saved PNG File\n",
    "Provide a link to the saved PDF file for easy access:\n"
   ]
  },
  {
   "cell_type": "code",
   "execution_count": 16,
   "metadata": {},
   "outputs": [
    {
     "name": "stdout",
     "output_type": "stream",
     "text": [
      "PNG Metadata:\n",
      "Title: Sample PNG\n",
      "Author: OutputNamer\n",
      "Description: Demonstrating PNG Metadata Addition\n",
      "Keywords: PNG, OutputNamer, Metadata\n",
      "date_saved: 2024-06-04 14:11:07\n"
     ]
    },
    {
     "data": {
      "text/html": [
       "<a href='tropical_rainfall.histogram.IFS-NEMO.historical-1990.png' target='_blank'>tropical_rainfall.histogram.IFS-NEMO.historical-1990.png</a><br>"
      ],
      "text/plain": [
       "/pfs/lustrep3/projappl/project_465000454/nurissom/AQUA/notebooks/tropical_rainfall.histogram.IFS-NEMO.historical-1990.png"
      ]
     },
     "metadata": {},
     "output_type": "display_data"
    }
   ],
   "source": [
    "open_image(\"tropical_rainfall.histogram.IFS-NEMO.historical-1990.png\")"
   ]
  },
  {
   "cell_type": "code",
   "execution_count": null,
   "metadata": {},
   "outputs": [],
   "source": []
  }
 ],
 "metadata": {
  "kernelspec": {
   "display_name": "aqua",
   "language": "python",
   "name": "python3"
  },
  "language_info": {
   "codemirror_mode": {
    "name": "ipython",
    "version": 3
   },
   "file_extension": ".py",
   "mimetype": "text/x-python",
   "name": "python",
   "nbconvert_exporter": "python",
   "pygments_lexer": "ipython3",
   "version": "3.12.3"
  }
 },
 "nbformat": 4,
 "nbformat_minor": 2
}
