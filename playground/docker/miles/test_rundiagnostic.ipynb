{
 "cells": [
  {
   "cell_type": "code",
   "execution_count": 3,
   "metadata": {},
   "outputs": [],
   "source": [
    "import yaml\n",
    "\n",
    "# Import directory setting and volumes to mount from machine.yaml\n",
    "with open(r'machine.yaml') as file:\n",
    "    machinecfg = yaml.load(file, Loader=yaml.FullLoader)\n",
    "\n",
    "# Transform volumes dict into \"host=bind\" strings \n",
    "volume_list = []\n",
    "for key, value in machinecfg['volumes'].items():\n",
    "    volume_list += [f'{value}:/{key}']\n",
    "\n",
    "# Import parameters needed to render templates\n",
    "with open(r'diagnostic.yaml') as file:\n",
    "    diagcfg = yaml.load(file, Loader=yaml.FullLoader)\n",
    "\n"
   ]
  },
  {
   "cell_type": "code",
   "execution_count": 4,
   "metadata": {},
   "outputs": [],
   "source": [
    "from jinja2 import Template, FileSystemLoader, Environment\n",
    "import os\n",
    "\n",
    "templateLoader = FileSystemLoader(searchpath=\"./templates\")\n",
    "templateEnv = Environment(loader=templateLoader)\n",
    "\n",
    "# Now use jinja2 to render al top-level keys in recipe file\n",
    "# as templates into actual recipes, config files etc.\n",
    "\n",
    "for k in diagcfg:\n",
    "    dest_file = os.path.join(machinecfg['volumes'][diagcfg[k]['target_volume']], diagcfg[k]['filename'])\n",
    "    template_file = diagcfg[k]['template']\n",
    "    template = templateEnv.get_template(template_file)\n",
    "    template.stream(diagcfg[k]['parameters']).dump(dest_file)\n",
    "    "
   ]
  },
  {
   "cell_type": "code",
   "execution_count": 5,
   "metadata": {},
   "outputs": [],
   "source": [
    "# Run actual diagnostic docker\n",
    "\n",
    "import docker\n",
    "client = docker.from_env()\n",
    "output = client.containers.run(image=machinecfg['image'],\n",
    "                      command=machinecfg['command'], \n",
    "                      volumes=volume_list, \n",
    "                      environment=machinecfg['environment'])\n"
   ]
  },
  {
   "cell_type": "code",
   "execution_count": 6,
   "metadata": {},
   "outputs": [],
   "source": [
    "# Parse the output to find results and plots\n",
    "\n",
    "outputl = output.split(b'\\n')\n",
    "workdir = [i for i in outputl if b\"miles_output\" in i][1].decode(\"utf-8\").rsplit('/', 1)[0]\n",
    "plotdir = [i for i in outputl if b\"miles_output\" in i][-1].decode(\"utf-8\").rsplit('/', 1)[0]\n",
    "dict_out={'workdir': workdir, 'plotdir': plotdir}\n",
    "\n",
    "# Write simple yaml containing information on output directories\n",
    "with open(r'output.yaml', 'w') as file:\n",
    "    documents = yaml.dump(dict_out, file)"
   ]
  },
  {
   "cell_type": "code",
   "execution_count": null,
   "metadata": {},
   "outputs": [],
   "source": []
  }
 ],
 "metadata": {
  "kernelspec": {
   "display_name": "Python 3.10.4 ('cats')",
   "language": "python",
   "name": "python3"
  },
  "language_info": {
   "codemirror_mode": {
    "name": "ipython",
    "version": 3
   },
   "file_extension": ".py",
   "mimetype": "text/x-python",
   "name": "python",
   "nbconvert_exporter": "python",
   "pygments_lexer": "ipython3",
   "version": "3.10.4"
  },
  "orig_nbformat": 4,
  "vscode": {
   "interpreter": {
    "hash": "6bdf476b3926c185e674ba18b3e09b3ed7390e1bda68c2921a6f942120d76784"
   }
  }
 },
 "nbformat": 4,
 "nbformat_minor": 2
}
