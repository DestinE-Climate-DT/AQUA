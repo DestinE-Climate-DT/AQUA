{
 "cells": [
  {
   "cell_type": "code",
   "execution_count": 1,
   "metadata": {},
   "outputs": [],
   "source": [
    "import yaml\n",
    "\n",
    "# Import directory setting and volumes to mount from machine.yaml\n",
    "with open(r'machine.yaml') as file:\n",
    "    machinecfg = yaml.load(file, Loader=yaml.FullLoader)\n",
    "\n",
    "# Transform volumes dict into \"host=bind\" strings \n",
    "volume_list = []\n",
    "for key, value in machinecfg['volumes'].items():\n",
    "    volume_list += [f'{value}:/{key}']\n",
    "\n",
    "# Import parameters needed to render templates\n",
    "with open(r'diagnostic.yaml') as file:\n",
    "    diagcfg = yaml.load(file, Loader=yaml.FullLoader)\n",
    "\n"
   ]
  },
  {
   "cell_type": "code",
   "execution_count": 2,
   "metadata": {},
   "outputs": [],
   "source": [
    "from jinja2 import Template, FileSystemLoader, Environment\n",
    "\n",
    "templateLoader = FileSystemLoader(searchpath=\"./templates\")\n",
    "templateEnv = Environment(loader=templateLoader)\n",
    "\n",
    "# Now use jinja2 to render al top-level keys in recipe file\n",
    "# as templates into actual recipes, config files etc.\n",
    "\n",
    "for k in diagcfg:\n",
    "    dest_file = diagcfg[k]['filename']\n",
    "    template_file = diagcfg[k]['template']\n",
    "    template = templateEnv.get_template(template_file)\n",
    "    template.stream(diagcfg[k]['parameters']).dump(dest_file)\n",
    "    "
   ]
  },
  {
   "cell_type": "code",
   "execution_count": 3,
   "metadata": {},
   "outputs": [],
   "source": [
    "# Run actual diagnostic docker\n",
    "\n",
    "import docker\n",
    "client = docker.from_env()\n",
    "output = client.containers.run(image=machinecfg['image'],\n",
    "                      command=machinecfg['command'], \n",
    "                      volumes=volume_list, \n",
    "                      environment=machinecfg['environment'])\n"
   ]
  },
  {
   "cell_type": "code",
   "execution_count": 23,
   "metadata": {},
   "outputs": [],
   "source": [
    "# Postprocessing TBD"
   ]
  }
 ],
 "metadata": {
  "kernelspec": {
   "display_name": "Python 3.10.4 ('cats')",
   "language": "python",
   "name": "python3"
  },
  "language_info": {
   "codemirror_mode": {
    "name": "ipython",
    "version": 3
   },
   "file_extension": ".py",
   "mimetype": "text/x-python",
   "name": "python",
   "nbconvert_exporter": "python",
   "pygments_lexer": "ipython3",
   "version": "3.10.4"
  },
  "orig_nbformat": 4,
  "vscode": {
   "interpreter": {
    "hash": "6bdf476b3926c185e674ba18b3e09b3ed7390e1bda68c2921a6f942120d76784"
   }
  }
 },
 "nbformat": 4,
 "nbformat_minor": 2
}
