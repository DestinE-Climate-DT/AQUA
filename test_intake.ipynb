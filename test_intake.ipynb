{
 "cells": [
  {
   "cell_type": "code",
   "execution_count": 14,
   "metadata": {},
   "outputs": [],
   "source": [
    "import intake\n",
    "import xarray as xr\n",
    "import numpy as np\n",
    "import matplotlib.pylab as plt\n",
    "import pandas as pd\n",
    "\n",
    "import sys\n",
    "sys.path.append(\"../..\")\n",
    "\n",
    "from aqua import regrid"
   ]
  },
  {
   "cell_type": "code",
   "execution_count": 59,
   "metadata": {},
   "outputs": [],
   "source": [
    "import intake\n",
    "import sys\n",
    "import yaml\n",
    "import xarray as xr\n",
    "import os\n",
    "\n",
    "def load_yaml(infile):\n",
    "    \"\"\"Load generic yaml file\"\"\"\n",
    "\n",
    "    try:\n",
    "        with open(infile, 'r', encoding='utf-8') as file:\n",
    "            cfg = yaml.load(file, Loader=yaml.FullLoader)\n",
    "    except IOError:\n",
    "        sys.exit(f'ERROR: {infile} not found: you need to have this configuration file!')\n",
    "    return cfg\n",
    "\n",
    "\n",
    "class Reader():\n",
    "    \"\"\"General reader for NextGEMS data (on Levante for now)\"\"\"\n",
    "\n",
    "    def __init__(self, model=\"ICON\", exp=\"R02B09\", target=None, method=\"ycon\"):\n",
    "        self.exp = exp\n",
    "        self.model = model\n",
    "\n",
    "        catalog_file = \"./catalog.yaml\"\n",
    "        self.cat = intake.open_catalog(catalog_file)\n",
    "\n",
    "        cfg = load_yaml(\"./retrieve.yml\")\n",
    "\n",
    "        self.mod = model\n",
    "        self.expid = cfg[\"exp\"][model][exp][\"expid\"]\n",
    "        self.dataid = cfg[\"exp\"][model][exp][\"dataid\"]\n",
    "\n",
    "        if target:\n",
    "            self.weightsfile =os.path.join(\n",
    "                cfg[\"regrid\"][\"weightsdir\"],\n",
    "                cfg[\"regrid\"][\"weightsfile\"].format(model=model, method=method, target=target))\n",
    "            try: \n",
    "                self.weights = xr.open_mfdataset(self.weightsfile)\n",
    "                self.regridder = regrid.Regridder(weights=self.weights)\n",
    "            except OSError:\n",
    "                print(\"Weights file not found:\", self.weightsfile)\n",
    "               \n",
    "    def retrieve(self):\n",
    "        data = self.cat[self.mod][self.expid][self.dataid].to_dask()\n",
    "        return data\n",
    "\n",
    "    def regrid(self, data):\n",
    "        return self.regridder.regrid(data)\n"
   ]
  },
  {
   "cell_type": "code",
   "execution_count": 60,
   "metadata": {},
   "outputs": [],
   "source": [
    "reader = Reader(model=\"ICON\", exp=\"R02B09\", target=\"010\")\n",
    "data = reader.retrieve()"
   ]
  },
  {
   "cell_type": "code",
   "execution_count": 61,
   "metadata": {},
   "outputs": [],
   "source": [
    "reader = Reader(model=\"IFS\", exp=\"tco2559-ng5\")\n",
    "data = reader.retrieve()"
   ]
  },
  {
   "cell_type": "code",
   "execution_count": 7,
   "metadata": {},
   "outputs": [],
   "source": [
    "# cdo genycon,data/r180x91/climate_CRU_t2m.nc ../../destine/nextgems/ngc2009_atm_2d_30min_inst_20220225T000000Z.tas.nc weights_icon_ycon.nc"
   ]
  },
  {
   "cell_type": "code",
   "execution_count": 12,
   "metadata": {},
   "outputs": [],
   "source": [
    "prr_r.to_netcdf(\"prova.nc\")"
   ]
  },
  {
   "cell_type": "code",
   "execution_count": 55,
   "metadata": {},
   "outputs": [],
   "source": [
    "import os\n",
    "a =os.path.join(\"a\",\"b\")"
   ]
  },
  {
   "cell_type": "code",
   "execution_count": 56,
   "metadata": {},
   "outputs": [
    {
     "data": {
      "text/plain": [
       "'a/b'"
      ]
     },
     "execution_count": 56,
     "metadata": {},
     "output_type": "execute_result"
    }
   ],
   "source": [
    "a"
   ]
  },
  {
   "cell_type": "code",
   "execution_count": null,
   "metadata": {},
   "outputs": [],
   "source": []
  }
 ],
 "metadata": {
  "kernelspec": {
   "display_name": "aqua",
   "language": "python",
   "name": "python3"
  },
  "language_info": {
   "codemirror_mode": {
    "name": "ipython",
    "version": 3
   },
   "file_extension": ".py",
   "mimetype": "text/x-python",
   "name": "python",
   "nbconvert_exporter": "python",
   "pygments_lexer": "ipython3",
   "version": "3.9.15"
  },
  "orig_nbformat": 4,
  "vscode": {
   "interpreter": {
    "hash": "8f62f5262df84bccf17e2afd66f4ee5c93e38c5827f8fb82dec17a2a2da43b66"
   }
  }
 },
 "nbformat": 4,
 "nbformat_minor": 2
}
